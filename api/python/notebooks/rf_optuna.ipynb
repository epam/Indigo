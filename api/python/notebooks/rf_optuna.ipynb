{
 "cells": [
  {
   "cell_type": "code",
   "execution_count": 1,
   "metadata": {},
   "outputs": [],
   "source": [
    "import numpy as np\n",
    "import pandas as pd\n",
    "from indigo import *\n",
    "import matplotlib.pyplot as plt\n",
    "pd.options.mode.chained_assignment = None  # default='warn'\n",
    "from bokeh.io import output_notebook"
   ]
  },
  {
   "cell_type": "code",
   "execution_count": 2,
   "metadata": {},
   "outputs": [
    {
     "data": {
      "text/html": [
       "\n",
       "    <div class=\"bk-root\">\n",
       "        <a href=\"https://bokeh.org\" target=\"_blank\" class=\"bk-logo bk-logo-small bk-logo-notebook\"></a>\n",
       "        <span id=\"1001\">Loading BokehJS ...</span>\n",
       "    </div>"
      ]
     },
     "metadata": {},
     "output_type": "display_data"
    },
    {
     "data": {
      "application/javascript": "\n(function(root) {\n  function now() {\n    return new Date();\n  }\n\n  const force = true;\n\n  if (typeof root._bokeh_onload_callbacks === \"undefined\" || force === true) {\n    root._bokeh_onload_callbacks = [];\n    root._bokeh_is_loading = undefined;\n  }\n\n  const JS_MIME_TYPE = 'application/javascript';\n  const HTML_MIME_TYPE = 'text/html';\n  const EXEC_MIME_TYPE = 'application/vnd.bokehjs_exec.v0+json';\n  const CLASS_NAME = 'output_bokeh rendered_html';\n\n  /**\n   * Render data to the DOM node\n   */\n  function render(props, node) {\n    const script = document.createElement(\"script\");\n    node.appendChild(script);\n  }\n\n  /**\n   * Handle when an output is cleared or removed\n   */\n  function handleClearOutput(event, handle) {\n    const cell = handle.cell;\n\n    const id = cell.output_area._bokeh_element_id;\n    const server_id = cell.output_area._bokeh_server_id;\n    // Clean up Bokeh references\n    if (id != null && id in Bokeh.index) {\n      Bokeh.index[id].model.document.clear();\n      delete Bokeh.index[id];\n    }\n\n    if (server_id !== undefined) {\n      // Clean up Bokeh references\n      const cmd_clean = \"from bokeh.io.state import curstate; print(curstate().uuid_to_server['\" + server_id + \"'].get_sessions()[0].document.roots[0]._id)\";\n      cell.notebook.kernel.execute(cmd_clean, {\n        iopub: {\n          output: function(msg) {\n            const id = msg.content.text.trim();\n            if (id in Bokeh.index) {\n              Bokeh.index[id].model.document.clear();\n              delete Bokeh.index[id];\n            }\n          }\n        }\n      });\n      // Destroy server and session\n      const cmd_destroy = \"import bokeh.io.notebook as ion; ion.destroy_server('\" + server_id + \"')\";\n      cell.notebook.kernel.execute(cmd_destroy);\n    }\n  }\n\n  /**\n   * Handle when a new output is added\n   */\n  function handleAddOutput(event, handle) {\n    const output_area = handle.output_area;\n    const output = handle.output;\n\n    // limit handleAddOutput to display_data with EXEC_MIME_TYPE content only\n    if ((output.output_type != \"display_data\") || (!Object.prototype.hasOwnProperty.call(output.data, EXEC_MIME_TYPE))) {\n      return\n    }\n\n    const toinsert = output_area.element.find(\".\" + CLASS_NAME.split(' ')[0]);\n\n    if (output.metadata[EXEC_MIME_TYPE][\"id\"] !== undefined) {\n      toinsert[toinsert.length - 1].firstChild.textContent = output.data[JS_MIME_TYPE];\n      // store reference to embed id on output_area\n      output_area._bokeh_element_id = output.metadata[EXEC_MIME_TYPE][\"id\"];\n    }\n    if (output.metadata[EXEC_MIME_TYPE][\"server_id\"] !== undefined) {\n      const bk_div = document.createElement(\"div\");\n      bk_div.innerHTML = output.data[HTML_MIME_TYPE];\n      const script_attrs = bk_div.children[0].attributes;\n      for (let i = 0; i < script_attrs.length; i++) {\n        toinsert[toinsert.length - 1].firstChild.setAttribute(script_attrs[i].name, script_attrs[i].value);\n        toinsert[toinsert.length - 1].firstChild.textContent = bk_div.children[0].textContent\n      }\n      // store reference to server id on output_area\n      output_area._bokeh_server_id = output.metadata[EXEC_MIME_TYPE][\"server_id\"];\n    }\n  }\n\n  function register_renderer(events, OutputArea) {\n\n    function append_mime(data, metadata, element) {\n      // create a DOM node to render to\n      const toinsert = this.create_output_subarea(\n        metadata,\n        CLASS_NAME,\n        EXEC_MIME_TYPE\n      );\n      this.keyboard_manager.register_events(toinsert);\n      // Render to node\n      const props = {data: data, metadata: metadata[EXEC_MIME_TYPE]};\n      render(props, toinsert[toinsert.length - 1]);\n      element.append(toinsert);\n      return toinsert\n    }\n\n    /* Handle when an output is cleared or removed */\n    events.on('clear_output.CodeCell', handleClearOutput);\n    events.on('delete.Cell', handleClearOutput);\n\n    /* Handle when a new output is added */\n    events.on('output_added.OutputArea', handleAddOutput);\n\n    /**\n     * Register the mime type and append_mime function with output_area\n     */\n    OutputArea.prototype.register_mime_type(EXEC_MIME_TYPE, append_mime, {\n      /* Is output safe? */\n      safe: true,\n      /* Index of renderer in `output_area.display_order` */\n      index: 0\n    });\n  }\n\n  // register the mime type if in Jupyter Notebook environment and previously unregistered\n  if (root.Jupyter !== undefined) {\n    const events = require('base/js/events');\n    const OutputArea = require('notebook/js/outputarea').OutputArea;\n\n    if (OutputArea.prototype.mime_types().indexOf(EXEC_MIME_TYPE) == -1) {\n      register_renderer(events, OutputArea);\n    }\n  }\n\n  \n  if (typeof (root._bokeh_timeout) === \"undefined\" || force === true) {\n    root._bokeh_timeout = Date.now() + 5000;\n    root._bokeh_failed_load = false;\n  }\n\n  const NB_LOAD_WARNING = {'data': {'text/html':\n     \"<div style='background-color: #fdd'>\\n\"+\n     \"<p>\\n\"+\n     \"BokehJS does not appear to have successfully loaded. If loading BokehJS from CDN, this \\n\"+\n     \"may be due to a slow or bad network connection. Possible fixes:\\n\"+\n     \"</p>\\n\"+\n     \"<ul>\\n\"+\n     \"<li>re-rerun `output_notebook()` to attempt to load from CDN again, or</li>\\n\"+\n     \"<li>use INLINE resources instead, as so:</li>\\n\"+\n     \"</ul>\\n\"+\n     \"<code>\\n\"+\n     \"from bokeh.resources import INLINE\\n\"+\n     \"output_notebook(resources=INLINE)\\n\"+\n     \"</code>\\n\"+\n     \"</div>\"}};\n\n  function display_loaded() {\n    const el = document.getElementById(\"1001\");\n    if (el != null) {\n      el.textContent = \"BokehJS is loading...\";\n    }\n    if (root.Bokeh !== undefined) {\n      if (el != null) {\n        el.textContent = \"BokehJS \" + root.Bokeh.version + \" successfully loaded.\";\n      }\n    } else if (Date.now() < root._bokeh_timeout) {\n      setTimeout(display_loaded, 100)\n    }\n  }\n\n\n  function run_callbacks() {\n    try {\n      root._bokeh_onload_callbacks.forEach(function(callback) {\n        if (callback != null)\n          callback();\n      });\n    } finally {\n      delete root._bokeh_onload_callbacks\n    }\n    console.debug(\"Bokeh: all callbacks have finished\");\n  }\n\n  function load_libs(css_urls, js_urls, callback) {\n    if (css_urls == null) css_urls = [];\n    if (js_urls == null) js_urls = [];\n\n    root._bokeh_onload_callbacks.push(callback);\n    if (root._bokeh_is_loading > 0) {\n      console.debug(\"Bokeh: BokehJS is being loaded, scheduling callback at\", now());\n      return null;\n    }\n    if (js_urls == null || js_urls.length === 0) {\n      run_callbacks();\n      return null;\n    }\n    console.debug(\"Bokeh: BokehJS not loaded, scheduling load and callback at\", now());\n    root._bokeh_is_loading = css_urls.length + js_urls.length;\n\n    function on_load() {\n      root._bokeh_is_loading--;\n      if (root._bokeh_is_loading === 0) {\n        console.debug(\"Bokeh: all BokehJS libraries/stylesheets loaded\");\n        run_callbacks()\n      }\n    }\n\n    function on_error(url) {\n      console.error(\"failed to load \" + url);\n    }\n\n    for (let i = 0; i < css_urls.length; i++) {\n      const url = css_urls[i];\n      const element = document.createElement(\"link\");\n      element.onload = on_load;\n      element.onerror = on_error.bind(null, url);\n      element.rel = \"stylesheet\";\n      element.type = \"text/css\";\n      element.href = url;\n      console.debug(\"Bokeh: injecting link tag for BokehJS stylesheet: \", url);\n      document.body.appendChild(element);\n    }\n\n    for (let i = 0; i < js_urls.length; i++) {\n      const url = js_urls[i];\n      const element = document.createElement('script');\n      element.onload = on_load;\n      element.onerror = on_error.bind(null, url);\n      element.async = false;\n      element.src = url;\n      console.debug(\"Bokeh: injecting script tag for BokehJS library: \", url);\n      document.head.appendChild(element);\n    }\n  };\n\n  function inject_raw_css(css) {\n    const element = document.createElement(\"style\");\n    element.appendChild(document.createTextNode(css));\n    document.body.appendChild(element);\n  }\n\n  \n  const js_urls = [\"https://cdn.bokeh.org/bokeh/release/bokeh-2.4.2.min.js\", \"https://cdn.bokeh.org/bokeh/release/bokeh-gl-2.4.2.min.js\", \"https://cdn.bokeh.org/bokeh/release/bokeh-widgets-2.4.2.min.js\", \"https://cdn.bokeh.org/bokeh/release/bokeh-tables-2.4.2.min.js\", \"https://cdn.bokeh.org/bokeh/release/bokeh-mathjax-2.4.2.min.js\"];\n  const css_urls = [];\n  \n\n  const inline_js = [\n    function(Bokeh) {\n      Bokeh.set_log_level(\"info\");\n    },\n    function(Bokeh) {\n    \n    \n    }\n  ];\n\n  function run_inline_js() {\n    \n    if (root.Bokeh !== undefined || force === true) {\n      \n    for (let i = 0; i < inline_js.length; i++) {\n      inline_js[i].call(root, root.Bokeh);\n    }\n    if (force === true) {\n        display_loaded();\n      }} else if (Date.now() < root._bokeh_timeout) {\n      setTimeout(run_inline_js, 100);\n    } else if (!root._bokeh_failed_load) {\n      console.log(\"Bokeh: BokehJS failed to load within specified timeout.\");\n      root._bokeh_failed_load = true;\n    } else if (force !== true) {\n      const cell = $(document.getElementById(\"1001\")).parents('.cell').data().cell;\n      cell.output_area.append_execute_result(NB_LOAD_WARNING)\n    }\n\n  }\n\n  if (root._bokeh_is_loading === 0) {\n    console.debug(\"Bokeh: BokehJS loaded, going straight to plotting\");\n    run_inline_js();\n  } else {\n    load_libs(css_urls, js_urls, function() {\n      console.debug(\"Bokeh: BokehJS plotting callback run at\", now());\n      run_inline_js();\n    });\n  }\n}(window));",
      "application/vnd.bokehjs_load.v0+json": ""
     },
     "metadata": {},
     "output_type": "display_data"
    }
   ],
   "source": [
    "output_notebook()"
   ]
  },
  {
   "cell_type": "markdown",
   "metadata": {},
   "source": [
    "### Some global variables used throughout this notebook"
   ]
  },
  {
   "cell_type": "code",
   "execution_count": 3,
   "metadata": {},
   "outputs": [],
   "source": [
    "PATH = \"Adrenergic_dataset.csv\"\n",
    "FOLDS = 5\n",
    "SEED = 12\n",
    "ASSAY =  \"AdrA1A_PCHEMBL_VALUE\"\n",
    "#ASSAY =  \"logP\"\n",
    "\n",
    "columns = [\"Structure\", \"ID\", ASSAY]"
   ]
  },
  {
   "cell_type": "markdown",
   "metadata": {},
   "source": [
    "### Read data from csv"
   ]
  },
  {
   "cell_type": "code",
   "execution_count": 4,
   "metadata": {},
   "outputs": [
    {
     "data": {
      "text/html": [
       "<div>\n",
       "<style scoped>\n",
       "    .dataframe tbody tr th:only-of-type {\n",
       "        vertical-align: middle;\n",
       "    }\n",
       "\n",
       "    .dataframe tbody tr th {\n",
       "        vertical-align: top;\n",
       "    }\n",
       "\n",
       "    .dataframe thead th {\n",
       "        text-align: right;\n",
       "    }\n",
       "</style>\n",
       "<table border=\"1\" class=\"dataframe\">\n",
       "  <thead>\n",
       "    <tr style=\"text-align: right;\">\n",
       "      <th></th>\n",
       "      <th>Structure</th>\n",
       "      <th>ID</th>\n",
       "      <th>logP</th>\n",
       "      <th>Vx</th>\n",
       "      <th>MW</th>\n",
       "      <th>NegativeCharge</th>\n",
       "      <th>PositiveCharge</th>\n",
       "      <th>Flex</th>\n",
       "      <th>AromaticRings</th>\n",
       "      <th>OverallCharge</th>\n",
       "      <th>...</th>\n",
       "      <th>q485</th>\n",
       "      <th>frg-8</th>\n",
       "      <th>frg-26</th>\n",
       "      <th>frg-54</th>\n",
       "      <th>Nn</th>\n",
       "      <th>AdrA1A_PCHEMBL_VALUE</th>\n",
       "      <th>AdrA1B_PCHEMBL_VALUE</th>\n",
       "      <th>AdrA1D_PCHEMBL_VALUE</th>\n",
       "      <th>AdrA2A_PCHEMBL_VALUE</th>\n",
       "      <th>AdrA2C_PCHEMBL_VALUE</th>\n",
       "    </tr>\n",
       "  </thead>\n",
       "  <tbody>\n",
       "    <tr>\n",
       "      <th>0</th>\n",
       "      <td>CC\\C(=C(\\CC)/c1ccc(O)cc1)\\c2ccc(O)cc2</td>\n",
       "      <td>CHEMBL411</td>\n",
       "      <td>4.871</td>\n",
       "      <td>224.4</td>\n",
       "      <td>268.4</td>\n",
       "      <td>0</td>\n",
       "      <td>0</td>\n",
       "      <td>0.1905</td>\n",
       "      <td>2</td>\n",
       "      <td>0</td>\n",
       "      <td>...</td>\n",
       "      <td>4</td>\n",
       "      <td>2</td>\n",
       "      <td>0</td>\n",
       "      <td>0</td>\n",
       "      <td>0</td>\n",
       "      <td>NaN</td>\n",
       "      <td>NaN</td>\n",
       "      <td>NaN</td>\n",
       "      <td>NaN</td>\n",
       "      <td>5.66</td>\n",
       "    </tr>\n",
       "    <tr>\n",
       "      <th>1</th>\n",
       "      <td>CSc1ccc2Sc3ccccc3N(CCC4CCCCN4C)c2c1</td>\n",
       "      <td>CHEMBL479</td>\n",
       "      <td>5.900</td>\n",
       "      <td>290.2</td>\n",
       "      <td>370.6</td>\n",
       "      <td>0</td>\n",
       "      <td>2</td>\n",
       "      <td>0.1429</td>\n",
       "      <td>2</td>\n",
       "      <td>2</td>\n",
       "      <td>...</td>\n",
       "      <td>18</td>\n",
       "      <td>0</td>\n",
       "      <td>0</td>\n",
       "      <td>0</td>\n",
       "      <td>2</td>\n",
       "      <td>NaN</td>\n",
       "      <td>NaN</td>\n",
       "      <td>NaN</td>\n",
       "      <td>NaN</td>\n",
       "      <td>7.60</td>\n",
       "    </tr>\n",
       "    <tr>\n",
       "      <th>2</th>\n",
       "      <td>COc1cccc(CCN2C3C4C5CC6C7C5C3C7C2(O)C46)c1</td>\n",
       "      <td>CHEMBL2205811</td>\n",
       "      <td>3.040</td>\n",
       "      <td>225.5</td>\n",
       "      <td>309.4</td>\n",
       "      <td>0</td>\n",
       "      <td>1</td>\n",
       "      <td>0.1379</td>\n",
       "      <td>1</td>\n",
       "      <td>1</td>\n",
       "      <td>...</td>\n",
       "      <td>4</td>\n",
       "      <td>0</td>\n",
       "      <td>0</td>\n",
       "      <td>0</td>\n",
       "      <td>1</td>\n",
       "      <td>NaN</td>\n",
       "      <td>NaN</td>\n",
       "      <td>NaN</td>\n",
       "      <td>NaN</td>\n",
       "      <td>6.25</td>\n",
       "    </tr>\n",
       "    <tr>\n",
       "      <th>3</th>\n",
       "      <td>COc1cc(CN[C@H]2C3C4CC5C6C4CC3C6C25)cc(OC)c1OC</td>\n",
       "      <td>CHEMBL2432051</td>\n",
       "      <td>3.380</td>\n",
       "      <td>256.3</td>\n",
       "      <td>341.4</td>\n",
       "      <td>0</td>\n",
       "      <td>1</td>\n",
       "      <td>0.2000</td>\n",
       "      <td>1</td>\n",
       "      <td>1</td>\n",
       "      <td>...</td>\n",
       "      <td>8</td>\n",
       "      <td>0</td>\n",
       "      <td>0</td>\n",
       "      <td>0</td>\n",
       "      <td>1</td>\n",
       "      <td>NaN</td>\n",
       "      <td>NaN</td>\n",
       "      <td>NaN</td>\n",
       "      <td>NaN</td>\n",
       "      <td>5.64</td>\n",
       "    </tr>\n",
       "    <tr>\n",
       "      <th>4</th>\n",
       "      <td>COc1cccc(CCN2C3C4C5CC6C7C5C3C7C2(O)C46)c1OC</td>\n",
       "      <td>CHEMBL2205813</td>\n",
       "      <td>2.899</td>\n",
       "      <td>245.4</td>\n",
       "      <td>339.4</td>\n",
       "      <td>0</td>\n",
       "      <td>1</td>\n",
       "      <td>0.1613</td>\n",
       "      <td>1</td>\n",
       "      <td>1</td>\n",
       "      <td>...</td>\n",
       "      <td>6</td>\n",
       "      <td>0</td>\n",
       "      <td>0</td>\n",
       "      <td>0</td>\n",
       "      <td>1</td>\n",
       "      <td>NaN</td>\n",
       "      <td>NaN</td>\n",
       "      <td>NaN</td>\n",
       "      <td>NaN</td>\n",
       "      <td>5.36</td>\n",
       "    </tr>\n",
       "  </tbody>\n",
       "</table>\n",
       "<p>5 rows × 327 columns</p>\n",
       "</div>"
      ],
      "text/plain": [
       "                                       Structure             ID   logP     Vx  \\\n",
       "0          CC\\C(=C(\\CC)/c1ccc(O)cc1)\\c2ccc(O)cc2      CHEMBL411  4.871  224.4   \n",
       "1            CSc1ccc2Sc3ccccc3N(CCC4CCCCN4C)c2c1      CHEMBL479  5.900  290.2   \n",
       "2      COc1cccc(CCN2C3C4C5CC6C7C5C3C7C2(O)C46)c1  CHEMBL2205811  3.040  225.5   \n",
       "3  COc1cc(CN[C@H]2C3C4CC5C6C4CC3C6C25)cc(OC)c1OC  CHEMBL2432051  3.380  256.3   \n",
       "4    COc1cccc(CCN2C3C4C5CC6C7C5C3C7C2(O)C46)c1OC  CHEMBL2205813  2.899  245.4   \n",
       "\n",
       "      MW  NegativeCharge  PositiveCharge    Flex  AromaticRings  \\\n",
       "0  268.4               0               0  0.1905              2   \n",
       "1  370.6               0               2  0.1429              2   \n",
       "2  309.4               0               1  0.1379              1   \n",
       "3  341.4               0               1  0.2000              1   \n",
       "4  339.4               0               1  0.1613              1   \n",
       "\n",
       "   OverallCharge  ...  q485  frg-8  frg-26  frg-54  Nn  AdrA1A_PCHEMBL_VALUE  \\\n",
       "0              0  ...     4      2       0       0   0                   NaN   \n",
       "1              2  ...    18      0       0       0   2                   NaN   \n",
       "2              1  ...     4      0       0       0   1                   NaN   \n",
       "3              1  ...     8      0       0       0   1                   NaN   \n",
       "4              1  ...     6      0       0       0   1                   NaN   \n",
       "\n",
       "   AdrA1B_PCHEMBL_VALUE  AdrA1D_PCHEMBL_VALUE  AdrA2A_PCHEMBL_VALUE  \\\n",
       "0                   NaN                   NaN                   NaN   \n",
       "1                   NaN                   NaN                   NaN   \n",
       "2                   NaN                   NaN                   NaN   \n",
       "3                   NaN                   NaN                   NaN   \n",
       "4                   NaN                   NaN                   NaN   \n",
       "\n",
       "   AdrA2C_PCHEMBL_VALUE  \n",
       "0                  5.66  \n",
       "1                  7.60  \n",
       "2                  6.25  \n",
       "3                  5.64  \n",
       "4                  5.36  \n",
       "\n",
       "[5 rows x 327 columns]"
      ]
     },
     "execution_count": 4,
     "metadata": {},
     "output_type": "execute_result"
    }
   ],
   "source": [
    "df = pd.read_csv(PATH)\n",
    "df.head()"
   ]
  },
  {
   "cell_type": "markdown",
   "metadata": {},
   "source": [
    "### Drop NA values from assay value column"
   ]
  },
  {
   "cell_type": "code",
   "execution_count": 5,
   "metadata": {},
   "outputs": [],
   "source": [
    "dataset = df[columns]\n",
    "dataset.dropna(subset=[ASSAY], inplace=True)"
   ]
  },
  {
   "cell_type": "code",
   "execution_count": 6,
   "metadata": {},
   "outputs": [
    {
     "data": {
      "text/html": [
       "<div>\n",
       "<style scoped>\n",
       "    .dataframe tbody tr th:only-of-type {\n",
       "        vertical-align: middle;\n",
       "    }\n",
       "\n",
       "    .dataframe tbody tr th {\n",
       "        vertical-align: top;\n",
       "    }\n",
       "\n",
       "    .dataframe thead th {\n",
       "        text-align: right;\n",
       "    }\n",
       "</style>\n",
       "<table border=\"1\" class=\"dataframe\">\n",
       "  <thead>\n",
       "    <tr style=\"text-align: right;\">\n",
       "      <th></th>\n",
       "      <th>Structure</th>\n",
       "      <th>ID</th>\n",
       "      <th>AdrA1A_PCHEMBL_VALUE</th>\n",
       "    </tr>\n",
       "  </thead>\n",
       "  <tbody>\n",
       "    <tr>\n",
       "      <th>7</th>\n",
       "      <td>CNC(=O)C(CCN1CCC(O)(CC1)c2ccc(Cl)cc2)(c3ccccc3...</td>\n",
       "      <td>CHEMBL1627</td>\n",
       "      <td>8.00</td>\n",
       "    </tr>\n",
       "    <tr>\n",
       "      <th>12</th>\n",
       "      <td>Cc1ccc2c(cccc2n1)N3CCN(CCc4cccc5c4OCc6c(ncn56)...</td>\n",
       "      <td>CHEMBL1241913</td>\n",
       "      <td>8.56</td>\n",
       "    </tr>\n",
       "    <tr>\n",
       "      <th>13</th>\n",
       "      <td>COc1ccccc1OCCNCC2CSC(S2)(c3ccccc3)c4ccccc4</td>\n",
       "      <td>CHEMBL1086156</td>\n",
       "      <td>7.45</td>\n",
       "    </tr>\n",
       "    <tr>\n",
       "      <th>16</th>\n",
       "      <td>O[C@H]1[C@H](CC[C@@H]1Oc2ccccc2)NC[C@H]3COc4cc...</td>\n",
       "      <td>CHEMBL135974</td>\n",
       "      <td>6.41</td>\n",
       "    </tr>\n",
       "    <tr>\n",
       "      <th>19</th>\n",
       "      <td>COc1cccc(OC)c1OCCNC[C@H]2COc3ccccc3O2</td>\n",
       "      <td>CHEMBL1182155</td>\n",
       "      <td>9.39</td>\n",
       "    </tr>\n",
       "  </tbody>\n",
       "</table>\n",
       "</div>"
      ],
      "text/plain": [
       "                                            Structure             ID  \\\n",
       "7   CNC(=O)C(CCN1CCC(O)(CC1)c2ccc(Cl)cc2)(c3ccccc3...     CHEMBL1627   \n",
       "12  Cc1ccc2c(cccc2n1)N3CCN(CCc4cccc5c4OCc6c(ncn56)...  CHEMBL1241913   \n",
       "13         COc1ccccc1OCCNCC2CSC(S2)(c3ccccc3)c4ccccc4  CHEMBL1086156   \n",
       "16  O[C@H]1[C@H](CC[C@@H]1Oc2ccccc2)NC[C@H]3COc4cc...   CHEMBL135974   \n",
       "19              COc1cccc(OC)c1OCCNC[C@H]2COc3ccccc3O2  CHEMBL1182155   \n",
       "\n",
       "    AdrA1A_PCHEMBL_VALUE  \n",
       "7                   8.00  \n",
       "12                  8.56  \n",
       "13                  7.45  \n",
       "16                  6.41  \n",
       "19                  9.39  "
      ]
     },
     "execution_count": 6,
     "metadata": {},
     "output_type": "execute_result"
    }
   ],
   "source": [
    "indigo = Indigo()\n",
    "\n",
    "\n",
    "def get_fingerprints(\n",
    "    dataset: pd.DataFrame, \n",
    "    ignore_stereochemistry_errors: bool = True,\n",
    "    ignore_bad_valence: bool = True,\n",
    "    similarity_type: str = \"ecfp6\", # \"ecfp4\", \"ecfp6\", \"ecfp8\", \"sim\", \"chem\"\n",
    "    fp_sim_qwords: int = 8,\n",
    "    fp_ord_qwords: int = 25,\n",
    "    fp_any_qwords: int = 15,\n",
    "    fp_tau_qwords: int = 25,\n",
    "    fp_ext_enabled: bool = True\n",
    "):\n",
    "    indigo.setOption(\"ignore-stereochemistry-errors\", ignore_stereochemistry_errors)\n",
    "    indigo.setOption(\"ignore-bad-valence\", ignore_bad_valence)\n",
    "    indigo.setOption(\"similarity-type\", similarity_type)\n",
    "    indigo.setOption(\"fp-sim-qwords\", fp_sim_qwords)\n",
    "    indigo.setOption(\"fp-ord-qwords\", fp_ord_qwords)\n",
    "    indigo.setOption(\"fp-any-qwords\", fp_any_qwords)\n",
    "    indigo.setOption(\"fp-tau-qwords\", fp_tau_qwords)\n",
    "    indigo.setOption(\"fp-ext-enabled\", fp_ext_enabled)\n",
    "    fingerprints = []\n",
    "    max_val = -np.Inf\n",
    "\n",
    "    for struct in dataset[\"Structure\"]:\n",
    "        mol = indigo.loadMolecule(struct)\n",
    "        mol.aromatize()\n",
    "        fingerprint = mol.fingerprint(\"full\").toBuffer()\n",
    "        buffered = np.frombuffer(fingerprint, dtype=np.uint8)\n",
    "        buffered = np.unpackbits(buffered)\n",
    "        fingerprints.append(buffered)\n",
    "        max_val = max(max_val, *buffered)\n",
    "\n",
    "    fingerprints = np.array(fingerprints, dtype=np.float32) / max_val\n",
    "    return fingerprints\n",
    "\n",
    "\n",
    "fingerprints = get_fingerprints(dataset)\n",
    "dataset.head()"
   ]
  },
  {
   "cell_type": "markdown",
   "metadata": {},
   "source": [
    "### Draw distribution plot for assay values"
   ]
  },
  {
   "cell_type": "code",
   "execution_count": 7,
   "metadata": {},
   "outputs": [
    {
     "data": {
      "image/png": "[encoded data removed]",
      "text/plain": [
       "<Figure size 432x288 with 1 Axes>"
      ]
     },
     "metadata": {
      "needs_background": "light"
     },
     "output_type": "display_data"
    }
   ],
   "source": [
    "def build_histogram(input, title: str = ''):\n",
    "    x = input\n",
    "    n, bins, patches = plt.hist(x, 30)\n",
    "\n",
    "    #plt.style.use('classic')\n",
    "    plt.xlabel(title)\n",
    "    plt.title(f'{title} distribution')\n",
    "    plt.grid(True, color = \"grey\", linewidth = \"0.4\", linestyle = \"dashed\")\n",
    "    plt.show()\n",
    "\n",
    "build_histogram(input=dataset[ASSAY], title=ASSAY)"
   ]
  },
  {
   "cell_type": "markdown",
   "metadata": {},
   "source": [
    "## Out-of-fold $r^2$ score estimations on train, validation and test datasets"
   ]
  },
  {
   "cell_type": "markdown",
   "metadata": {},
   "source": [
    "### Random Forest Regression"
   ]
  },
  {
   "cell_type": "code",
   "execution_count": 8,
   "metadata": {},
   "outputs": [
    {
     "name": "stdout",
     "output_type": "stream",
     "text": [
      "MEAN TRAIN:  0.8880027550922505\n",
      "MEAN VALIDATION:  0.48953245199675555\n",
      "MEAN TEST 0.5395193088550421\n"
     ]
    }
   ],
   "source": [
    "from sklearn.model_selection import train_test_split\n",
    "from sklearn.metrics import r2_score\n",
    "from sklearn.ensemble import RandomForestRegressor\n",
    "from utils.folds import oof\n",
    "\n",
    "\n",
    "bundle = train_test_split(fingerprints, dataset, shuffle=True, random_state=SEED, test_size=0.25)\n",
    "\n",
    "y_test = bundle[3]\n",
    "\n",
    "model = RandomForestRegressor(n_estimators=100, max_features=0.2, max_depth=12, min_samples_leaf=2)\n",
    "errors, y_pred = oof(model, bundle, assay=ASSAY)"
   ]
  },
  {
   "cell_type": "markdown",
   "metadata": {},
   "source": [
    "### Fingerprints optimization"
   ]
  },
  {
   "cell_type": "code",
   "execution_count": 9,
   "metadata": {},
   "outputs": [],
   "source": [
    "import optuna"
   ]
  },
  {
   "cell_type": "code",
   "execution_count": null,
   "metadata": {},
   "outputs": [],
   "source": [
    "class FingerprintObjective(object):\n",
    "    def __init__(self, dataset):\n",
    "        self.dataset = dataset\n",
    "\n",
    "    def __call__(self, trial):\n",
    "        trials_dict = {\n",
    "            #\"ignore_stereochemistry_errors\": trial.suggest_categorical(\"ignore_stereochemistry_errors\", [0, 1]),\n",
    "            #\"ignore_bad_valence\": trial.suggest_categorical(\"ignore_bad_valence\", [0, 1]),\n",
    "            \"similarity_type\": trial.suggest_categorical(\"similarity_type\", [\"ecfp4\", \"ecfp6\", \"ecfp8\", \"sim\", \"chem\"]),\n",
    "            \"fp_sim_qwords\": trial.suggest_int(\"fp_sim_qwords\", 1, 32),\n",
    "            \"fp_ord_qwords\": trial.suggest_int(\"fp_ord_qwords\", 1, 32), #int = 25,\n",
    "            \"fp_any_qwords\": trial.suggest_int(\"fp_any_qwords\", 1, 32), #,int = 15,\n",
    "            \"fp_tau_qwords\": trial.suggest_int(\"fp_tau_qwords\", 1, 32), #int = 25,\n",
    "            \"fp_ext_enabled\": trial.suggest_categorical(\"fp_ext_enabled\", [0, 1]) #bool = True\n",
    "        }\n",
    "        \n",
    "        # rf_trial_dict = {\n",
    "        #     \"max_depth\": trial.suggest_int('rf_max_depth', 2, 200, log=True),\n",
    "        #     \"min_samples_leaf\": trial.suggest_int('rf_min_samples_leaf', 2, 200),\n",
    "        #     \"n_estimators\": trial.suggest_int('rf_estimators', 2, 200),\n",
    "        #     \"max_features\": trial.suggest_float('rf_max_feats', 0.1, 0.9)\n",
    "        # }\n",
    "    \n",
    "\n",
    "        fingerprints = get_fingerprints(self.dataset, **trials_dict)\n",
    "        bundle = train_test_split(fingerprints, dataset, shuffle=True, random_state=SEED, test_size=0.25)\n",
    "\n",
    "        y_test = bundle[3]\n",
    "\n",
    "        model = RandomForestRegressor(n_estimators=100, max_features=0.2, max_depth=12, min_samples_leaf=2)\n",
    "        errors, y_pred = oof(model, bundle, assay=ASSAY)\n",
    "        return np.mean(errors)\n",
    "\n",
    "\n",
    "pruner = optuna.pruners.SuccessiveHalvingPruner()\n",
    "sampler = optuna.samplers.NSGAIISampler(population_size=200)\n",
    "study = optuna.create_study(direction='maximize', pruner=pruner, sampler=sampler)\n",
    "study.optimize(FingerprintObjective(dataset), n_trials=1024, n_jobs = 4)"
   ]
  },
  {
   "cell_type": "code",
   "execution_count": 10,
   "metadata": {},
   "outputs": [],
   "source": [
    "#current_best = study.best_params\n",
    "current_best = {'similarity_type': 'ecfp8', 'fp_sim_qwords': 29, 'fp_ord_qwords': 19, 'fp_any_qwords': 32, 'fp_tau_qwords': 5, 'fp_ext_enabled': 1}\n"
   ]
  },
  {
   "cell_type": "code",
   "execution_count": 11,
   "metadata": {},
   "outputs": [
    {
     "name": "stderr",
     "output_type": "stream",
     "text": [
      "\u001b[32m[I 2022-01-26 12:48:43,212]\u001b[0m A new study created in memory with name: no-name-ae387813-262e-4176-9f69-3fa155b94556\u001b[0m\n",
      "/Users/Aleksei_Kornev2/workspace/Indigo/api/python/venv/lib/python3.9/site-packages/optuna/study/study.py:393: FutureWarning: `n_jobs` argument has been deprecated in v2.7.0. This feature will be removed in v4.0.0. See https://github.com/optuna/optuna/releases/tag/v2.7.0.\n",
      "  warnings.warn(\n",
      "\u001b[32m[I 2022-01-26 12:48:48,032]\u001b[0m Trial 0 finished with value: 0.38376651018103497 and parameters: {'rf_max_depth': 93, 'rf_min_samples_leaf': 74, 'min_samples_split': 88, 'rf_estimators': 35, 'rf_max_feats': 0.359049784656003}. Best is trial 0 with value: 0.38376651018103497.\u001b[0m\n"
     ]
    },
    {
     "name": "stdout",
     "output_type": "stream",
     "text": [
      "MEAN TRAIN:  0.34907206001232494\n",
      "MEAN VALIDATION:  0.27996730495064137\n",
      "MEAN TEST 0.38376651018103497\n"
     ]
    },
    {
     "name": "stderr",
     "output_type": "stream",
     "text": [
      "\u001b[32m[I 2022-01-26 12:48:50,297]\u001b[0m Trial 3 finished with value: 0.4220393398867611 and parameters: {'rf_max_depth': 76, 'rf_min_samples_leaf': 54, 'min_samples_split': 72, 'rf_estimators': 58, 'rf_max_feats': 0.29188749267317665}. Best is trial 3 with value: 0.4220393398867611.\u001b[0m\n"
     ]
    },
    {
     "name": "stdout",
     "output_type": "stream",
     "text": [
      "MEAN TRAIN:  0.40016072187977614\n",
      "MEAN VALIDATION:  0.3184489795995705\n",
      "MEAN TEST 0.4220393398867611\n"
     ]
    },
    {
     "name": "stderr",
     "output_type": "stream",
     "text": [
      "\u001b[32m[I 2022-01-26 12:48:51,334]\u001b[0m Trial 1 finished with value: 0.3871841205058198 and parameters: {'rf_max_depth': 25, 'rf_min_samples_leaf': 64, 'min_samples_split': 137, 'rf_estimators': 103, 'rf_max_feats': 0.20923291542880496}. Best is trial 3 with value: 0.4220393398867611.\u001b[0m\n"
     ]
    },
    {
     "name": "stdout",
     "output_type": "stream",
     "text": [
      "MEAN TRAIN:  0.36148194673506684\n",
      "MEAN VALIDATION:  0.2867426380841829\n",
      "MEAN TEST 0.3871841205058198\n"
     ]
    },
    {
     "name": "stderr",
     "output_type": "stream",
     "text": [
      "\u001b[32m[I 2022-01-26 12:48:52,020]\u001b[0m Trial 5 finished with value: 0.38443331407804526 and parameters: {'rf_max_depth': 49, 'rf_min_samples_leaf': 74, 'min_samples_split': 91, 'rf_estimators': 109, 'rf_max_feats': 0.25091247237440056}. Best is trial 3 with value: 0.4220393398867611.\u001b[0m\n"
     ]
    },
    {
     "name": "stdout",
     "output_type": "stream",
     "text": [
      "MEAN TRAIN:  0.3506064576289706\n",
      "MEAN VALIDATION:  0.28135412642489754\n",
      "MEAN TEST 0.38443331407804526\n"
     ]
    },
    {
     "name": "stderr",
     "output_type": "stream",
     "text": [
      "\u001b[32m[I 2022-01-26 12:48:56,009]\u001b[0m Trial 4 finished with value: 0.41581168948209546 and parameters: {'rf_max_depth': 65, 'rf_min_samples_leaf': 51, 'min_samples_split': 93, 'rf_estimators': 147, 'rf_max_feats': 0.21136188244879323}. Best is trial 3 with value: 0.4220393398867611.\u001b[0m\n",
      "\u001b[32m[I 2022-01-26 12:48:56,062]\u001b[0m Trial 6 finished with value: 0.4182834123787257 and parameters: {'rf_max_depth': 65, 'rf_min_samples_leaf': 46, 'min_samples_split': 29, 'rf_estimators': 129, 'rf_max_feats': 0.1421216226469506}. Best is trial 3 with value: 0.4220393398867611.\u001b[0m\n",
      "\u001b[32m[I 2022-01-26 12:48:56,182]\u001b[0m Trial 7 finished with value: 0.3767977458996783 and parameters: {'rf_max_depth': 25, 'rf_min_samples_leaf': 80, 'min_samples_split': 105, 'rf_estimators': 87, 'rf_max_feats': 0.2933881731926903}. Best is trial 3 with value: 0.4220393398867611.\u001b[0m\n"
     ]
    },
    {
     "name": "stdout",
     "output_type": "stream",
     "text": [
      "MEAN TRAIN:  0.405001060181707\n",
      "MEAN VALIDATION:  0.31950734996487934\n",
      "MEAN TEST 0.41581168948209546\n",
      "MEAN TRAIN:  0.41301986970445376\n",
      "MEAN VALIDATION:  0.326156644311669\n",
      "MEAN TEST 0.4182834123787257\n",
      "MEAN TRAIN:  0.33977581058518674\n",
      "MEAN VALIDATION:  0.2716429572580739\n",
      "MEAN TEST 0.3767977458996783\n"
     ]
    },
    {
     "name": "stderr",
     "output_type": "stream",
     "text": [
      "\u001b[32m[I 2022-01-26 12:48:57,096]\u001b[0m Trial 8 finished with value: 0.4490460057780264 and parameters: {'rf_max_depth': 79, 'rf_min_samples_leaf': 33, 'min_samples_split': 67, 'rf_estimators': 59, 'rf_max_feats': 0.23657862780431765}. Best is trial 8 with value: 0.4490460057780264.\u001b[0m\n",
      "\u001b[32m[I 2022-01-26 12:48:57,172]\u001b[0m Trial 2 finished with value: 0.4346502534417109 and parameters: {'rf_max_depth': 3, 'rf_min_samples_leaf': 21, 'min_samples_split': 101, 'rf_estimators': 144, 'rf_max_feats': 0.240531876313841}. Best is trial 8 with value: 0.4490460057780264.\u001b[0m\n"
     ]
    },
    {
     "name": "stdout",
     "output_type": "stream",
     "text": [
      "MEAN TRAIN:  0.47079784579633366\n",
      "MEAN VALIDATION:  0.36095545059149237\n",
      "MEAN TEST 0.4490460057780264\n",
      "MEAN TRAIN:  0.43174052002649194\n",
      "MEAN VALIDATION:  0.3346960808407731\n",
      "MEAN TEST 0.4346502534417109\n"
     ]
    },
    {
     "name": "stderr",
     "output_type": "stream",
     "text": [
      "\u001b[32m[I 2022-01-26 12:48:57,629]\u001b[0m Trial 12 finished with value: 0.42069856860932353 and parameters: {'rf_max_depth': 15, 'rf_min_samples_leaf': 47, 'min_samples_split': 87, 'rf_estimators': 12, 'rf_max_feats': 0.3273425049577186}. Best is trial 8 with value: 0.4490460057780264.\u001b[0m\n"
     ]
    },
    {
     "name": "stdout",
     "output_type": "stream",
     "text": [
      "MEAN TRAIN:  0.4217267953766625\n",
      "MEAN VALIDATION:  0.3227424259708486\n",
      "MEAN TEST 0.42069856860932353\n"
     ]
    },
    {
     "name": "stderr",
     "output_type": "stream",
     "text": [
      "\u001b[32m[I 2022-01-26 12:48:58,560]\u001b[0m Trial 15 finished with value: 0.37800781709264536 and parameters: {'rf_max_depth': 44, 'rf_min_samples_leaf': 48, 'min_samples_split': 129, 'rf_estimators': 19, 'rf_max_feats': 0.10917080295282397}. Best is trial 8 with value: 0.4490460057780264.\u001b[0m\n"
     ]
    },
    {
     "name": "stdout",
     "output_type": "stream",
     "text": [
      "MEAN TRAIN:  0.3635536251150159\n",
      "MEAN VALIDATION:  0.2800766880039789\n",
      "MEAN TEST 0.37800781709264536\n"
     ]
    },
    {
     "name": "stderr",
     "output_type": "stream",
     "text": [
      "\u001b[32m[I 2022-01-26 12:48:59,927]\u001b[0m Trial 14 finished with value: 0.38247123719247134 and parameters: {'rf_max_depth': 128, 'rf_min_samples_leaf': 67, 'min_samples_split': 110, 'rf_estimators': 44, 'rf_max_feats': 0.19757582075704383}. Best is trial 8 with value: 0.4490460057780264.\u001b[0m\n"
     ]
    },
    {
     "name": "stdout",
     "output_type": "stream",
     "text": [
      "MEAN TRAIN:  0.35772695253123826\n",
      "MEAN VALIDATION:  0.28659064176543253\n",
      "MEAN TEST 0.38247123719247134\n"
     ]
    },
    {
     "name": "stderr",
     "output_type": "stream",
     "text": [
      "\u001b[32m[I 2022-01-26 12:49:03,132]\u001b[0m Trial 10 finished with value: 0.3942308469814275 and parameters: {'rf_max_depth': 81, 'rf_min_samples_leaf': 65, 'min_samples_split': 57, 'rf_estimators': 94, 'rf_max_feats': 0.27685373700195814}. Best is trial 8 with value: 0.4490460057780264.\u001b[0m\n"
     ]
    },
    {
     "name": "stdout",
     "output_type": "stream",
     "text": [
      "MEAN TRAIN:  0.365580415251795\n",
      "MEAN VALIDATION:  0.2923402355218652\n",
      "MEAN TEST 0.3942308469814275\n"
     ]
    },
    {
     "name": "stderr",
     "output_type": "stream",
     "text": [
      "\u001b[32m[I 2022-01-26 12:49:04,956]\u001b[0m Trial 11 finished with value: 0.3868002721648776 and parameters: {'rf_max_depth': 135, 'rf_min_samples_leaf': 76, 'min_samples_split': 55, 'rf_estimators': 117, 'rf_max_feats': 0.3347294987066542}. Best is trial 8 with value: 0.4490460057780264.\u001b[0m\n"
     ]
    },
    {
     "name": "stdout",
     "output_type": "stream",
     "text": [
      "MEAN TRAIN:  0.3504839296837222\n",
      "MEAN VALIDATION:  0.2799955490251423\n",
      "MEAN TEST 0.3868002721648776\n"
     ]
    },
    {
     "name": "stderr",
     "output_type": "stream",
     "text": [
      "\u001b[32m[I 2022-01-26 12:49:05,454]\u001b[0m Trial 9 finished with value: 0.3996894982412055 and parameters: {'rf_max_depth': 88, 'rf_min_samples_leaf': 66, 'min_samples_split': 103, 'rf_estimators': 144, 'rf_max_feats': 0.3966484779386933}. Best is trial 8 with value: 0.4490460057780264.\u001b[0m\n"
     ]
    },
    {
     "name": "stdout",
     "output_type": "stream",
     "text": [
      "MEAN TRAIN:  0.3701005835264752\n",
      "MEAN VALIDATION:  0.29605182879221903\n",
      "MEAN TEST 0.3996894982412055\n"
     ]
    },
    {
     "name": "stderr",
     "output_type": "stream",
     "text": [
      "\u001b[32m[I 2022-01-26 12:49:07,044]\u001b[0m Trial 18 finished with value: 0.39746958132033317 and parameters: {'rf_max_depth': 2, 'rf_min_samples_leaf': 46, 'min_samples_split': 40, 'rf_estimators': 58, 'rf_max_feats': 0.194778682859134}. Best is trial 8 with value: 0.4490460057780264.\u001b[0m\n"
     ]
    },
    {
     "name": "stdout",
     "output_type": "stream",
     "text": [
      "MEAN TRAIN:  0.3782530028707486\n",
      "MEAN VALIDATION:  0.29693888030865867\n",
      "MEAN TEST 0.39746958132033317\n"
     ]
    },
    {
     "name": "stderr",
     "output_type": "stream",
     "text": [
      "\u001b[32m[I 2022-01-26 12:49:07,883]\u001b[0m Trial 21 finished with value: 0.3903634911014085 and parameters: {'rf_max_depth': 123, 'rf_min_samples_leaf': 56, 'min_samples_split': 57, 'rf_estimators': 14, 'rf_max_feats': 0.10877850163112186}. Best is trial 8 with value: 0.4490460057780264.\u001b[0m\n"
     ]
    },
    {
     "name": "stdout",
     "output_type": "stream",
     "text": [
      "MEAN TRAIN:  0.37393807684714453\n",
      "MEAN VALIDATION:  0.28582120326704735\n",
      "MEAN TEST 0.3903634911014085\n"
     ]
    },
    {
     "name": "stderr",
     "output_type": "stream",
     "text": [
      "\u001b[32m[I 2022-01-26 12:49:08,796]\u001b[0m Trial 13 finished with value: 0.4382042294092363 and parameters: {'rf_max_depth': 27, 'rf_min_samples_leaf': 42, 'min_samples_split': 54, 'rf_estimators': 104, 'rf_max_feats': 0.3037609047432277}. Best is trial 8 with value: 0.4490460057780264.\u001b[0m\n"
     ]
    },
    {
     "name": "stdout",
     "output_type": "stream",
     "text": [
      "MEAN TRAIN:  0.44496591227267623\n",
      "MEAN VALIDATION:  0.344363794159772\n",
      "MEAN TEST 0.4382042294092363\n"
     ]
    },
    {
     "name": "stderr",
     "output_type": "stream",
     "text": [
      "\u001b[32m[I 2022-01-26 12:49:09,366]\u001b[0m Trial 17 finished with value: 0.40166136672356395 and parameters: {'rf_max_depth': 45, 'rf_min_samples_leaf': 7, 'min_samples_split': 150, 'rf_estimators': 113, 'rf_max_feats': 0.2862235002305295}. Best is trial 8 with value: 0.4490460057780264.\u001b[0m\n"
     ]
    },
    {
     "name": "stdout",
     "output_type": "stream",
     "text": [
      "MEAN TRAIN:  0.37745923518639846\n",
      "MEAN VALIDATION:  0.2990912145975329\n",
      "MEAN TEST 0.40166136672356395\n"
     ]
    },
    {
     "name": "stderr",
     "output_type": "stream",
     "text": [
      "\u001b[32m[I 2022-01-26 12:49:12,697]\u001b[0m Trial 22 finished with value: 0.41673699560906297 and parameters: {'rf_max_depth': 127, 'rf_min_samples_leaf': 5, 'min_samples_split': 125, 'rf_estimators': 52, 'rf_max_feats': 0.18929983981702914}. Best is trial 8 with value: 0.4490460057780264.\u001b[0m\n"
     ]
    },
    {
     "name": "stdout",
     "output_type": "stream",
     "text": [
      "MEAN TRAIN:  0.41232674537772196\n",
      "MEAN VALIDATION:  0.31842739939298\n",
      "MEAN TEST 0.41673699560906297\n"
     ]
    },
    {
     "name": "stderr",
     "output_type": "stream",
     "text": [
      "\u001b[32m[I 2022-01-26 12:49:16,119]\u001b[0m Trial 20 finished with value: 0.4373254651010957 and parameters: {'rf_max_depth': 90, 'rf_min_samples_leaf': 22, 'min_samples_split': 100, 'rf_estimators': 89, 'rf_max_feats': 0.2624444850624932}. Best is trial 8 with value: 0.4490460057780264.\u001b[0m\n"
     ]
    },
    {
     "name": "stdout",
     "output_type": "stream",
     "text": [
      "MEAN TRAIN:  0.4435405140776087\n",
      "MEAN VALIDATION:  0.3416315733076289\n",
      "MEAN TEST 0.4373254651010957\n"
     ]
    },
    {
     "name": "stderr",
     "output_type": "stream",
     "text": [
      "\u001b[32m[I 2022-01-26 12:49:16,702]\u001b[0m Trial 23 finished with value: 0.4105896750313316 and parameters: {'rf_max_depth': 111, 'rf_min_samples_leaf': 56, 'min_samples_split': 36, 'rf_estimators': 76, 'rf_max_feats': 0.25420884573348834}. Best is trial 8 with value: 0.4490460057780264.\u001b[0m\n"
     ]
    },
    {
     "name": "stdout",
     "output_type": "stream",
     "text": [
      "MEAN TRAIN:  0.3938976935975359\n",
      "MEAN VALIDATION:  0.3062154144355027\n",
      "MEAN TEST 0.4105896750313316\n"
     ]
    },
    {
     "name": "stderr",
     "output_type": "stream",
     "text": [
      "\u001b[32m[I 2022-01-26 12:49:17,282]\u001b[0m Trial 16 finished with value: 0.4962791317268402 and parameters: {'rf_max_depth': 12, 'rf_min_samples_leaf': 7, 'min_samples_split': 47, 'rf_estimators': 124, 'rf_max_feats': 0.23180815775416327}. Best is trial 16 with value: 0.4962791317268402.\u001b[0m\n"
     ]
    },
    {
     "name": "stdout",
     "output_type": "stream",
     "text": [
      "MEAN TRAIN:  0.5939965882236975\n",
      "MEAN VALIDATION:  0.4112391365315434\n",
      "MEAN TEST 0.4962791317268402\n"
     ]
    },
    {
     "name": "stderr",
     "output_type": "stream",
     "text": [
      "\u001b[32m[I 2022-01-26 12:49:18,716]\u001b[0m Trial 28 finished with value: 0.3901935122012476 and parameters: {'rf_max_depth': 82, 'rf_min_samples_leaf': 31, 'min_samples_split': 124, 'rf_estimators': 32, 'rf_max_feats': 0.10516677422711479}. Best is trial 16 with value: 0.4962791317268402.\u001b[0m\n"
     ]
    },
    {
     "name": "stdout",
     "output_type": "stream",
     "text": [
      "MEAN TRAIN:  0.3796875182483125\n",
      "MEAN VALIDATION:  0.2948779955581482\n",
      "MEAN TEST 0.3901935122012476\n"
     ]
    },
    {
     "name": "stderr",
     "output_type": "stream",
     "text": [
      "\u001b[32m[I 2022-01-26 12:49:20,992]\u001b[0m Trial 26 finished with value: 0.44857599062925413 and parameters: {'rf_max_depth': 124, 'rf_min_samples_leaf': 30, 'min_samples_split': 76, 'rf_estimators': 49, 'rf_max_feats': 0.23068739276242153}. Best is trial 16 with value: 0.4962791317268402.\u001b[0m\n"
     ]
    },
    {
     "name": "stdout",
     "output_type": "stream",
     "text": [
      "MEAN TRAIN:  0.4650291638735989\n",
      "MEAN VALIDATION:  0.35183470106503817\n",
      "MEAN TEST 0.44857599062925413\n"
     ]
    },
    {
     "name": "stderr",
     "output_type": "stream",
     "text": [
      "\u001b[32m[I 2022-01-26 12:49:24,318]\u001b[0m Trial 25 finished with value: 0.42087335271545534 and parameters: {'rf_max_depth': 99, 'rf_min_samples_leaf': 55, 'min_samples_split': 32, 'rf_estimators': 96, 'rf_max_feats': 0.3919793296448739}. Best is trial 16 with value: 0.4962791317268402.\u001b[0m\n"
     ]
    },
    {
     "name": "stdout",
     "output_type": "stream",
     "text": [
      "MEAN TRAIN:  0.4051026785802037\n",
      "MEAN VALIDATION:  0.32252479652316307\n",
      "MEAN TEST 0.42087335271545534\n"
     ]
    },
    {
     "name": "stderr",
     "output_type": "stream",
     "text": [
      "\u001b[32m[I 2022-01-26 12:49:25,531]\u001b[0m Trial 24 finished with value: 0.4722783012156279 and parameters: {'rf_max_depth': 98, 'rf_min_samples_leaf': 24, 'min_samples_split': 30, 'rf_estimators': 116, 'rf_max_feats': 0.26130711509354204}. Best is trial 16 with value: 0.4962791317268402.\u001b[0m\n"
     ]
    },
    {
     "name": "stdout",
     "output_type": "stream",
     "text": [
      "MEAN TRAIN:  0.5241088692361752\n",
      "MEAN VALIDATION:  0.3815205140740448\n",
      "MEAN TEST 0.4722783012156279\n"
     ]
    },
    {
     "name": "stderr",
     "output_type": "stream",
     "text": [
      "\u001b[32m[I 2022-01-26 12:49:26,188]\u001b[0m Trial 32 finished with value: 0.408326326126056 and parameters: {'rf_max_depth': 30, 'rf_min_samples_leaf': 45, 'min_samples_split': 102, 'rf_estimators': 9, 'rf_max_feats': 0.13440905141668824}. Best is trial 16 with value: 0.4962791317268402.\u001b[0m\n"
     ]
    },
    {
     "name": "stdout",
     "output_type": "stream",
     "text": [
      "MEAN TRAIN:  0.3944242007815328\n",
      "MEAN VALIDATION:  0.30703658010973445\n",
      "MEAN TEST 0.408326326126056\n"
     ]
    },
    {
     "name": "stderr",
     "output_type": "stream",
     "text": [
      "\u001b[32m[I 2022-01-26 12:49:26,829]\u001b[0m Trial 29 finished with value: 0.40056137288917204 and parameters: {'rf_max_depth': 23, 'rf_min_samples_leaf': 61, 'min_samples_split': 10, 'rf_estimators': 95, 'rf_max_feats': 0.29327815818259056}. Best is trial 16 with value: 0.4962791317268402.\u001b[0m\n"
     ]
    },
    {
     "name": "stdout",
     "output_type": "stream",
     "text": [
      "MEAN TRAIN:  0.3752924039284794\n",
      "MEAN VALIDATION:  0.295319042987244\n",
      "MEAN TEST 0.40056137288917204\n"
     ]
    },
    {
     "name": "stderr",
     "output_type": "stream",
     "text": [
      "\u001b[32m[I 2022-01-26 12:49:27,172]\u001b[0m Trial 30 finished with value: 0.3711589247355371 and parameters: {'rf_max_depth': 93, 'rf_min_samples_leaf': 76, 'min_samples_split': 86, 'rf_estimators': 116, 'rf_max_feats': 0.19210586006247674}. Best is trial 16 with value: 0.4962791317268402.\u001b[0m\n"
     ]
    },
    {
     "name": "stdout",
     "output_type": "stream",
     "text": [
      "MEAN TRAIN:  0.3406257890643564\n",
      "MEAN VALIDATION:  0.26977722776164614\n",
      "MEAN TEST 0.3711589247355371\n"
     ]
    },
    {
     "name": "stderr",
     "output_type": "stream",
     "text": [
      "\u001b[32m[I 2022-01-26 12:49:27,696]\u001b[0m Trial 33 finished with value: 0.40386695728158106 and parameters: {'rf_max_depth': 95, 'rf_min_samples_leaf': 58, 'min_samples_split': 86, 'rf_estimators': 17, 'rf_max_feats': 0.2693556080076496}. Best is trial 16 with value: 0.4962791317268402.\u001b[0m\n",
      "\u001b[32m[I 2022-01-26 12:49:27,810]\u001b[0m Trial 19 finished with value: 0.4752823842800943 and parameters: {'rf_max_depth': 79, 'rf_min_samples_leaf': 20, 'min_samples_split': 58, 'rf_estimators': 148, 'rf_max_feats': 0.3136701879008911}. Best is trial 16 with value: 0.4962791317268402.\u001b[0m\n"
     ]
    },
    {
     "name": "stdout",
     "output_type": "stream",
     "text": [
      "MEAN TRAIN:  0.3830464195707362\n",
      "MEAN VALIDATION:  0.29804137073434384\n",
      "MEAN TEST 0.40386695728158106\n",
      "MEAN TRAIN:  0.5235578182100362\n",
      "MEAN VALIDATION:  0.38064996481688934\n",
      "MEAN TEST 0.4752823842800943\n"
     ]
    },
    {
     "name": "stderr",
     "output_type": "stream",
     "text": [
      "\u001b[32m[I 2022-01-26 12:49:28,495]\u001b[0m Trial 31 finished with value: 0.3938497148692451 and parameters: {'rf_max_depth': 71, 'rf_min_samples_leaf': 56, 'min_samples_split': 130, 'rf_estimators': 67, 'rf_max_feats': 0.17895101940533845}. Best is trial 16 with value: 0.4962791317268402.\u001b[0m\n"
     ]
    },
    {
     "name": "stdout",
     "output_type": "stream",
     "text": [
      "MEAN TRAIN:  0.3700601357002748\n",
      "MEAN VALIDATION:  0.29408897083325225\n",
      "MEAN TEST 0.3938497148692451\n"
     ]
    },
    {
     "name": "stderr",
     "output_type": "stream",
     "text": [
      "\u001b[32m[I 2022-01-26 12:49:31,702]\u001b[0m Trial 35 finished with value: 0.4070120165378164 and parameters: {'rf_max_depth': 79, 'rf_min_samples_leaf': 48, 'min_samples_split': 106, 'rf_estimators': 83, 'rf_max_feats': 0.10713541449559455}. Best is trial 16 with value: 0.4962791317268402.\u001b[0m\n"
     ]
    },
    {
     "name": "stdout",
     "output_type": "stream",
     "text": [
      "MEAN TRAIN:  0.3930538958697408\n",
      "MEAN VALIDATION:  0.30608543504143554\n",
      "MEAN TEST 0.4070120165378164\n"
     ]
    },
    {
     "name": "stderr",
     "output_type": "stream",
     "text": [
      "\u001b[32m[I 2022-01-26 12:49:33,532]\u001b[0m Trial 34 finished with value: 0.3992404321406854 and parameters: {'rf_max_depth': 132, 'rf_min_samples_leaf': 29, 'min_samples_split': 128, 'rf_estimators': 123, 'rf_max_feats': 0.13063615884859192}. Best is trial 16 with value: 0.4962791317268402.\u001b[0m\n"
     ]
    },
    {
     "name": "stdout",
     "output_type": "stream",
     "text": [
      "MEAN TRAIN:  0.3807452066297081\n",
      "MEAN VALIDATION:  0.30160476141236153\n",
      "MEAN TEST 0.3992404321406854\n"
     ]
    },
    {
     "name": "stderr",
     "output_type": "stream",
     "text": [
      "\u001b[32m[I 2022-01-26 12:49:37,213]\u001b[0m Trial 37 finished with value: 0.3853628266678447 and parameters: {'rf_max_depth': 127, 'rf_min_samples_leaf': 68, 'min_samples_split': 135, 'rf_estimators': 150, 'rf_max_feats': 0.20914095032517677}. Best is trial 16 with value: 0.4962791317268402.\u001b[0m\n",
      "\u001b[32m[I 2022-01-26 12:49:37,233]\u001b[0m Trial 38 finished with value: 0.3816458992331515 and parameters: {'rf_max_depth': 8, 'rf_min_samples_leaf': 70, 'min_samples_split': 45, 'rf_estimators': 143, 'rf_max_feats': 0.21267088380363247}. Best is trial 16 with value: 0.4962791317268402.\u001b[0m\n"
     ]
    },
    {
     "name": "stdout",
     "output_type": "stream",
     "text": [
      "MEAN TRAIN:  0.3547093247617979\n",
      "MEAN VALIDATION:  0.28146639089169057\n",
      "MEAN TEST 0.3853628266678447\n",
      "MEAN TRAIN:  0.35427500943318935\n",
      "MEAN VALIDATION:  0.2817736847821483\n",
      "MEAN TEST 0.3816458992331515\n"
     ]
    },
    {
     "name": "stderr",
     "output_type": "stream",
     "text": [
      "\u001b[32m[I 2022-01-26 12:49:37,499]\u001b[0m Trial 27 finished with value: 0.4831344274500301 and parameters: {'rf_max_depth': 55, 'rf_min_samples_leaf': 9, 'min_samples_split': 65, 'rf_estimators': 138, 'rf_max_feats': 0.33320852781882665}. Best is trial 16 with value: 0.4962791317268402.\u001b[0m\n"
     ]
    },
    {
     "name": "stdout",
     "output_type": "stream",
     "text": [
      "MEAN TRAIN:  0.541078783784545\n",
      "MEAN VALIDATION:  0.39101321551806867\n",
      "MEAN TEST 0.4831344274500301\n"
     ]
    },
    {
     "name": "stderr",
     "output_type": "stream",
     "text": [
      "\u001b[32m[I 2022-01-26 12:49:38,316]\u001b[0m Trial 43 finished with value: 0.3913892819386663 and parameters: {'rf_max_depth': 103, 'rf_min_samples_leaf': 21, 'min_samples_split': 129, 'rf_estimators': 7, 'rf_max_feats': 0.3212814979510111}. Best is trial 16 with value: 0.4962791317268402.\u001b[0m\n"
     ]
    },
    {
     "name": "stdout",
     "output_type": "stream",
     "text": [
      "MEAN TRAIN:  0.3777180177232812\n",
      "MEAN VALIDATION:  0.29582551116294914\n",
      "MEAN TEST 0.3913892819386663\n"
     ]
    },
    {
     "name": "stderr",
     "output_type": "stream",
     "text": [
      "\u001b[32m[I 2022-01-26 12:49:38,654]\u001b[0m Trial 36 finished with value: 0.4194232100507055 and parameters: {'rf_max_depth': 31, 'rf_min_samples_leaf': 52, 'min_samples_split': 90, 'rf_estimators': 118, 'rf_max_feats': 0.2735369717199962}. Best is trial 16 with value: 0.4962791317268402.\u001b[0m\n"
     ]
    },
    {
     "name": "stdout",
     "output_type": "stream",
     "text": [
      "MEAN TRAIN:  0.4074567447616406\n",
      "MEAN VALIDATION:  0.32242956202531337\n",
      "MEAN TEST 0.4194232100507055\n"
     ]
    },
    {
     "name": "stderr",
     "output_type": "stream",
     "text": [
      "\u001b[32m[I 2022-01-26 12:49:38,987]\u001b[0m Trial 42 finished with value: 0.4203420712951673 and parameters: {'rf_max_depth': 89, 'rf_min_samples_leaf': 51, 'min_samples_split': 73, 'rf_estimators': 18, 'rf_max_feats': 0.24927922625422333}. Best is trial 16 with value: 0.4962791317268402.\u001b[0m\n"
     ]
    },
    {
     "name": "stdout",
     "output_type": "stream",
     "text": [
      "MEAN TRAIN:  0.4048314533358274\n",
      "MEAN VALIDATION:  0.3108561717026251\n",
      "MEAN TEST 0.4203420712951673\n"
     ]
    },
    {
     "name": "stderr",
     "output_type": "stream",
     "text": [
      "\u001b[32m[I 2022-01-26 12:49:39,295]\u001b[0m Trial 40 finished with value: 0.3992906156519715 and parameters: {'rf_max_depth': 145, 'rf_min_samples_leaf': 49, 'min_samples_split': 123, 'rf_estimators': 102, 'rf_max_feats': 0.14747463459583157}. Best is trial 16 with value: 0.4962791317268402.\u001b[0m\n",
      "\u001b[32m[I 2022-01-26 12:49:39,370]\u001b[0m Trial 45 finished with value: 0.4330387006950289 and parameters: {'rf_max_depth': 25, 'rf_min_samples_leaf': 22, 'min_samples_split': 79, 'rf_estimators': 8, 'rf_max_feats': 0.11458628716787883}. Best is trial 16 with value: 0.4962791317268402.\u001b[0m\n"
     ]
    },
    {
     "name": "stdout",
     "output_type": "stream",
     "text": [
      "MEAN TRAIN:  0.38051289764419954\n",
      "MEAN VALIDATION:  0.2957215571279062\n",
      "MEAN TEST 0.3992906156519715\n",
      "MEAN TRAIN:  0.45095765919606523\n",
      "MEAN VALIDATION:  0.336387241044492\n",
      "MEAN TEST 0.4330387006950289\n"
     ]
    },
    {
     "name": "stderr",
     "output_type": "stream",
     "text": [
      "\u001b[32m[I 2022-01-26 12:49:41,593]\u001b[0m Trial 47 finished with value: 0.4468417566848494 and parameters: {'rf_max_depth': 127, 'rf_min_samples_leaf': 33, 'min_samples_split': 3, 'rf_estimators': 20, 'rf_max_feats': 0.2692400801023779}. Best is trial 16 with value: 0.4962791317268402.\u001b[0m\n"
     ]
    },
    {
     "name": "stdout",
     "output_type": "stream",
     "text": [
      "MEAN TRAIN:  0.46689994909776766\n",
      "MEAN VALIDATION:  0.3481811341437785\n",
      "MEAN TEST 0.4468417566848494\n"
     ]
    },
    {
     "name": "stderr",
     "output_type": "stream",
     "text": [
      "\u001b[32m[I 2022-01-26 12:49:42,217]\u001b[0m Trial 44 finished with value: 0.40593327019883174 and parameters: {'rf_max_depth': 3, 'rf_min_samples_leaf': 55, 'min_samples_split': 19, 'rf_estimators': 50, 'rf_max_feats': 0.2239397339722947}. Best is trial 16 with value: 0.4962791317268402.\u001b[0m\n"
     ]
    },
    {
     "name": "stdout",
     "output_type": "stream",
     "text": [
      "MEAN TRAIN:  0.3913152973702695\n",
      "MEAN VALIDATION:  0.308872673380434\n",
      "MEAN TEST 0.40593327019883174\n"
     ]
    },
    {
     "name": "stderr",
     "output_type": "stream",
     "text": [
      "\u001b[32m[I 2022-01-26 12:49:44,160]\u001b[0m Trial 50 finished with value: 0.3901168884586941 and parameters: {'rf_max_depth': 127, 'rf_min_samples_leaf': 20, 'min_samples_split': 134, 'rf_estimators': 42, 'rf_max_feats': 0.10428225593526336}. Best is trial 16 with value: 0.4962791317268402.\u001b[0m\n"
     ]
    },
    {
     "name": "stdout",
     "output_type": "stream",
     "text": [
      "MEAN TRAIN:  0.37825963249716676\n",
      "MEAN VALIDATION:  0.2989584861190747\n",
      "MEAN TEST 0.3901168884586941\n"
     ]
    },
    {
     "name": "stderr",
     "output_type": "stream",
     "text": [
      "\u001b[32m[I 2022-01-26 12:49:44,568]\u001b[0m Trial 48 finished with value: 0.4546192580936056 and parameters: {'rf_max_depth': 136, 'rf_min_samples_leaf': 23, 'min_samples_split': 73, 'rf_estimators': 51, 'rf_max_feats': 0.23677834479262172}. Best is trial 16 with value: 0.4962791317268402.\u001b[0m\n"
     ]
    },
    {
     "name": "stdout",
     "output_type": "stream",
     "text": [
      "MEAN TRAIN:  0.48028546940700856\n",
      "MEAN VALIDATION:  0.3634435209369115\n",
      "MEAN TEST 0.4546192580936056\n"
     ]
    },
    {
     "name": "stderr",
     "output_type": "stream",
     "text": [
      "\u001b[32m[I 2022-01-26 12:49:45,317]\u001b[0m Trial 51 finished with value: 0.35611740490132804 and parameters: {'rf_max_depth': 150, 'rf_min_samples_leaf': 80, 'min_samples_split': 71, 'rf_estimators': 26, 'rf_max_feats': 0.12349783790610754}. Best is trial 16 with value: 0.4962791317268402.\u001b[0m\n"
     ]
    },
    {
     "name": "stdout",
     "output_type": "stream",
     "text": [
      "MEAN TRAIN:  0.32369347117050423\n",
      "MEAN VALIDATION:  0.2601540165136352\n",
      "MEAN TEST 0.35611740490132804\n"
     ]
    },
    {
     "name": "stderr",
     "output_type": "stream",
     "text": [
      "\u001b[32m[I 2022-01-26 12:49:45,762]\u001b[0m Trial 53 finished with value: 0.3846774682722913 and parameters: {'rf_max_depth': 68, 'rf_min_samples_leaf': 15, 'min_samples_split': 114, 'rf_estimators': 6, 'rf_max_feats': 0.12508669917109336}. Best is trial 16 with value: 0.4962791317268402.\u001b[0m\n"
     ]
    },
    {
     "name": "stdout",
     "output_type": "stream",
     "text": [
      "MEAN TRAIN:  0.3918237650746152\n",
      "MEAN VALIDATION:  0.28503196108369633\n",
      "MEAN TEST 0.3846774682722913\n"
     ]
    },
    {
     "name": "stderr",
     "output_type": "stream",
     "text": [
      "\u001b[32m[I 2022-01-26 12:49:46,176]\u001b[0m Trial 39 finished with value: 0.4963482765076891 and parameters: {'rf_max_depth': 117, 'rf_min_samples_leaf': 1, 'min_samples_split': 63, 'rf_estimators': 86, 'rf_max_feats': 0.30544307143426497}. Best is trial 39 with value: 0.4963482765076891.\u001b[0m\n",
      "\u001b[32m[I 2022-01-26 12:49:46,289]\u001b[0m Trial 41 finished with value: 0.4287908484465519 and parameters: {'rf_max_depth': 120, 'rf_min_samples_leaf': 23, 'min_samples_split': 108, 'rf_estimators': 109, 'rf_max_feats': 0.21740822460401762}. Best is trial 39 with value: 0.4963482765076891.\u001b[0m\n"
     ]
    },
    {
     "name": "stdout",
     "output_type": "stream",
     "text": [
      "MEAN TRAIN:  0.6118218957049019\n",
      "MEAN VALIDATION:  0.42041935364584815\n",
      "MEAN TEST 0.4963482765076891\n",
      "MEAN TRAIN:  0.427418215146319\n",
      "MEAN VALIDATION:  0.3333825439848671\n",
      "MEAN TEST 0.4287908484465519\n"
     ]
    },
    {
     "name": "stderr",
     "output_type": "stream",
     "text": [
      "\u001b[32m[I 2022-01-26 12:49:48,320]\u001b[0m Trial 54 finished with value: 0.3650898934062975 and parameters: {'rf_max_depth': 144, 'rf_min_samples_leaf': 79, 'min_samples_split': 125, 'rf_estimators': 45, 'rf_max_feats': 0.1820536119273586}. Best is trial 39 with value: 0.4963482765076891.\u001b[0m\n"
     ]
    },
    {
     "name": "stdout",
     "output_type": "stream",
     "text": [
      "MEAN TRAIN:  0.3341827378806539\n",
      "MEAN VALIDATION:  0.26711287708760356\n",
      "MEAN TEST 0.3650898934062975\n"
     ]
    },
    {
     "name": "stderr",
     "output_type": "stream",
     "text": [
      "\u001b[32m[I 2022-01-26 12:49:49,143]\u001b[0m Trial 52 finished with value: 0.40680720425680406 and parameters: {'rf_max_depth': 88, 'rf_min_samples_leaf': 39, 'min_samples_split': 122, 'rf_estimators': 66, 'rf_max_feats': 0.19506485939930177}. Best is trial 39 with value: 0.4963482765076891.\u001b[0m\n"
     ]
    },
    {
     "name": "stdout",
     "output_type": "stream",
     "text": [
      "MEAN TRAIN:  0.38603481451269794\n",
      "MEAN VALIDATION:  0.30782180715638746\n",
      "MEAN TEST 0.40680720425680406\n"
     ]
    },
    {
     "name": "stderr",
     "output_type": "stream",
     "text": [
      "\u001b[32m[I 2022-01-26 12:49:49,900]\u001b[0m Trial 49 finished with value: 0.4170032422379196 and parameters: {'rf_max_depth': 61, 'rf_min_samples_leaf': 49, 'min_samples_split': 109, 'rf_estimators': 100, 'rf_max_feats': 0.24555571452175884}. Best is trial 39 with value: 0.4963482765076891.\u001b[0m\n"
     ]
    },
    {
     "name": "stdout",
     "output_type": "stream",
     "text": [
      "MEAN TRAIN:  0.4044615501473503\n",
      "MEAN VALIDATION:  0.31928249536264397\n",
      "MEAN TEST 0.4170032422379196\n"
     ]
    },
    {
     "name": "stderr",
     "output_type": "stream",
     "text": [
      "\u001b[32m[I 2022-01-26 12:49:50,575]\u001b[0m Trial 46 finished with value: 0.46379687608361586 and parameters: {'rf_max_depth': 28, 'rf_min_samples_leaf': 16, 'min_samples_split': 69, 'rf_estimators': 143, 'rf_max_feats': 0.1515093753548118}. Best is trial 39 with value: 0.4963482765076891.\u001b[0m\n"
     ]
    },
    {
     "name": "stdout",
     "output_type": "stream",
     "text": [
      "MEAN TRAIN:  0.49532625669896485\n",
      "MEAN VALIDATION:  0.3675119699885047\n",
      "MEAN TEST 0.46379687608361586\n"
     ]
    },
    {
     "name": "stderr",
     "output_type": "stream",
     "text": [
      "\u001b[32m[I 2022-01-26 12:49:53,347]\u001b[0m Trial 56 finished with value: 0.4002336680731341 and parameters: {'rf_max_depth': 21, 'rf_min_samples_leaf': 62, 'min_samples_split': 133, 'rf_estimators': 70, 'rf_max_feats': 0.3961217389267222}. Best is trial 39 with value: 0.4963482765076891.\u001b[0m\n"
     ]
    },
    {
     "name": "stdout",
     "output_type": "stream",
     "text": [
      "MEAN TRAIN:  0.3733222013849433\n",
      "MEAN VALIDATION:  0.3004612118194211\n",
      "MEAN TEST 0.4002336680731341\n"
     ]
    },
    {
     "name": "stderr",
     "output_type": "stream",
     "text": [
      "\u001b[32m[I 2022-01-26 12:49:55,370]\u001b[0m Trial 57 finished with value: 0.4014843821810932 and parameters: {'rf_max_depth': 109, 'rf_min_samples_leaf': 62, 'min_samples_split': 6, 'rf_estimators': 89, 'rf_max_feats': 0.27463307551454835}. Best is trial 39 with value: 0.4963482765076891.\u001b[0m\n",
      "\u001b[32m[I 2022-01-26 12:49:55,486]\u001b[0m Trial 59 finished with value: 0.3902340293132965 and parameters: {'rf_max_depth': 141, 'rf_min_samples_leaf': 70, 'min_samples_split': 64, 'rf_estimators': 67, 'rf_max_feats': 0.3322679307065798}. Best is trial 39 with value: 0.4963482765076891.\u001b[0m\n"
     ]
    },
    {
     "name": "stdout",
     "output_type": "stream",
     "text": [
      "MEAN TRAIN:  0.37584450049746587\n",
      "MEAN VALIDATION:  0.29833420367227836\n",
      "MEAN TEST 0.4014843821810932\n",
      "MEAN TRAIN:  0.3581330560585888\n",
      "MEAN VALIDATION:  0.2810856030777383\n",
      "MEAN TEST 0.3902340293132965\n"
     ]
    },
    {
     "name": "stderr",
     "output_type": "stream",
     "text": [
      "\u001b[32m[I 2022-01-26 12:49:56,915]\u001b[0m Trial 63 finished with value: 0.42859703271738586 and parameters: {'rf_max_depth': 25, 'rf_min_samples_leaf': 43, 'min_samples_split': 73, 'rf_estimators': 12, 'rf_max_feats': 0.2653094332342102}. Best is trial 39 with value: 0.4963482765076891.\u001b[0m\n"
     ]
    },
    {
     "name": "stdout",
     "output_type": "stream",
     "text": [
      "MEAN TRAIN:  0.43324828868361714\n",
      "MEAN VALIDATION:  0.3304672186337011\n",
      "MEAN TEST 0.42859703271738586\n"
     ]
    },
    {
     "name": "stderr",
     "output_type": "stream",
     "text": [
      "\u001b[32m[I 2022-01-26 12:49:58,697]\u001b[0m Trial 58 finished with value: 0.4428106489780017 and parameters: {'rf_max_depth': 124, 'rf_min_samples_leaf': 26, 'min_samples_split': 88, 'rf_estimators': 113, 'rf_max_feats': 0.20439722094718152}. Best is trial 39 with value: 0.4963482765076891.\u001b[0m\n"
     ]
    },
    {
     "name": "stdout",
     "output_type": "stream",
     "text": [
      "MEAN TRAIN:  0.45165278490562466\n",
      "MEAN VALIDATION:  0.34792116454730804\n",
      "MEAN TEST 0.4428106489780017\n"
     ]
    },
    {
     "name": "stderr",
     "output_type": "stream",
     "text": [
      "\u001b[32m[I 2022-01-26 12:50:00,108]\u001b[0m Trial 64 finished with value: 0.41975714231603883 and parameters: {'rf_max_depth': 19, 'rf_min_samples_leaf': 47, 'min_samples_split': 32, 'rf_estimators': 49, 'rf_max_feats': 0.15029276927002022}. Best is trial 39 with value: 0.4963482765076891.\u001b[0m\n",
      "\u001b[32m[I 2022-01-26 12:50:00,147]\u001b[0m Trial 60 finished with value: 0.5281141274824366 and parameters: {'rf_max_depth': 82, 'rf_min_samples_leaf': 6, 'min_samples_split': 9, 'rf_estimators': 52, 'rf_max_feats': 0.22703744150321095}. Best is trial 60 with value: 0.5281141274824366.\u001b[0m\n"
     ]
    },
    {
     "name": "stdout",
     "output_type": "stream",
     "text": [
      "MEAN TRAIN:  0.41180246125016967\n",
      "MEAN VALIDATION:  0.32313002031733984\n",
      "MEAN TEST 0.41975714231603883\n",
      "MEAN TRAIN:  0.754529681821161\n",
      "MEAN VALIDATION:  0.46064387191586\n",
      "MEAN TEST 0.5281141274824366\n"
     ]
    },
    {
     "name": "stderr",
     "output_type": "stream",
     "text": [
      "\u001b[32m[I 2022-01-26 12:50:01,172]\u001b[0m Trial 62 finished with value: 0.3860007222422481 and parameters: {'rf_max_depth': 123, 'rf_min_samples_leaf': 37, 'min_samples_split': 143, 'rf_estimators': 126, 'rf_max_feats': 0.11766688061768207}. Best is trial 60 with value: 0.5281141274824366.\u001b[0m\n"
     ]
    },
    {
     "name": "stdout",
     "output_type": "stream",
     "text": [
      "MEAN TRAIN:  0.3642188452701024\n",
      "MEAN VALIDATION:  0.28687937873533687\n",
      "MEAN TEST 0.3860007222422481\n"
     ]
    },
    {
     "name": "stderr",
     "output_type": "stream",
     "text": [
      "\u001b[32m[I 2022-01-26 12:50:02,381]\u001b[0m Trial 55 finished with value: 0.4483464161981159 and parameters: {'rf_max_depth': 48, 'rf_min_samples_leaf': 35, 'min_samples_split': 82, 'rf_estimators': 147, 'rf_max_feats': 0.29089997671668544}. Best is trial 60 with value: 0.5281141274824366.\u001b[0m\n"
     ]
    },
    {
     "name": "stdout",
     "output_type": "stream",
     "text": [
      "MEAN TRAIN:  0.4597054857534129\n",
      "MEAN VALIDATION:  0.3522547458906216\n",
      "MEAN TEST 0.4483464161981159\n"
     ]
    },
    {
     "name": "stderr",
     "output_type": "stream",
     "text": [
      "\u001b[32m[I 2022-01-26 12:50:05,296]\u001b[0m Trial 65 finished with value: 0.40384174705322984 and parameters: {'rf_max_depth': 41, 'rf_min_samples_leaf': 51, 'min_samples_split': 48, 'rf_estimators': 139, 'rf_max_feats': 0.10229773961391604}. Best is trial 60 with value: 0.5281141274824366.\u001b[0m\n"
     ]
    },
    {
     "name": "stdout",
     "output_type": "stream",
     "text": [
      "MEAN TRAIN:  0.39056768577968476\n",
      "MEAN VALIDATION:  0.306348889759374\n",
      "MEAN TEST 0.40384174705322984\n"
     ]
    },
    {
     "name": "stderr",
     "output_type": "stream",
     "text": [
      "\u001b[32m[I 2022-01-26 12:50:05,537]\u001b[0m Trial 66 finished with value: 0.39365922609538445 and parameters: {'rf_max_depth': 103, 'rf_min_samples_leaf': 50, 'min_samples_split': 149, 'rf_estimators': 62, 'rf_max_feats': 0.3529707304201736}. Best is trial 60 with value: 0.5281141274824366.\u001b[0m\n"
     ]
    },
    {
     "name": "stdout",
     "output_type": "stream",
     "text": [
      "MEAN TRAIN:  0.36514293863030084\n",
      "MEAN VALIDATION:  0.2916789233501834\n",
      "MEAN TEST 0.39365922609538445\n"
     ]
    },
    {
     "name": "stderr",
     "output_type": "stream",
     "text": [
      "\u001b[32m[I 2022-01-26 12:50:08,330]\u001b[0m Trial 61 finished with value: 0.4863071326417092 and parameters: {'rf_max_depth': 88, 'rf_min_samples_leaf': 19, 'min_samples_split': 39, 'rf_estimators': 130, 'rf_max_feats': 0.21081860894120014}. Best is trial 60 with value: 0.5281141274824366.\u001b[0m\n"
     ]
    },
    {
     "name": "stdout",
     "output_type": "stream",
     "text": [
      "MEAN TRAIN:  0.5584862096361508\n",
      "MEAN VALIDATION:  0.3920015355665644\n",
      "MEAN TEST 0.4863071326417092\n"
     ]
    },
    {
     "name": "stderr",
     "output_type": "stream",
     "text": [
      "\u001b[32m[I 2022-01-26 12:50:08,973]\u001b[0m Trial 72 finished with value: 0.42058098028749813 and parameters: {'rf_max_depth': 32, 'rf_min_samples_leaf': 15, 'min_samples_split': 71, 'rf_estimators': 5, 'rf_max_feats': 0.20950434332899404}. Best is trial 60 with value: 0.5281141274824366.\u001b[0m\n",
      "\u001b[32m[I 2022-01-26 12:50:09,142]\u001b[0m Trial 70 finished with value: 0.4453090072714317 and parameters: {'rf_max_depth': 91, 'rf_min_samples_leaf': 26, 'min_samples_split': 82, 'rf_estimators': 39, 'rf_max_feats': 0.24128513179325833}. Best is trial 60 with value: 0.5281141274824366.\u001b[0m\n"
     ]
    },
    {
     "name": "stdout",
     "output_type": "stream",
     "text": [
      "MEAN TRAIN:  0.4665532441799102\n",
      "MEAN VALIDATION:  0.3456808181046912\n",
      "MEAN TEST 0.42058098028749813\n",
      "MEAN TRAIN:  0.46247232726075377\n",
      "MEAN VALIDATION:  0.34384086457620755\n",
      "MEAN TEST 0.4453090072714317\n"
     ]
    },
    {
     "name": "stderr",
     "output_type": "stream",
     "text": [
      "\u001b[32m[I 2022-01-26 12:50:10,794]\u001b[0m Trial 71 finished with value: 0.3867440333344906 and parameters: {'rf_max_depth': 5, 'rf_min_samples_leaf': 65, 'min_samples_split': 72, 'rf_estimators': 87, 'rf_max_feats': 0.19560160860771114}. Best is trial 60 with value: 0.5281141274824366.\u001b[0m\n",
      "\u001b[32m[I 2022-01-26 12:50:10,951]\u001b[0m Trial 67 finished with value: 0.39787656523185744 and parameters: {'rf_max_depth': 44, 'rf_min_samples_leaf': 64, 'min_samples_split': 20, 'rf_estimators': 139, 'rf_max_feats': 0.28116545892286937}. Best is trial 60 with value: 0.5281141274824366.\u001b[0m\n"
     ]
    },
    {
     "name": "stdout",
     "output_type": "stream",
     "text": [
      "MEAN TRAIN:  0.3623860464492763\n",
      "MEAN VALIDATION:  0.28624383803819425\n",
      "MEAN TEST 0.3867440333344906\n",
      "MEAN TRAIN:  0.37089405208687937\n",
      "MEAN VALIDATION:  0.29556152151829407\n",
      "MEAN TEST 0.39787656523185744\n"
     ]
    },
    {
     "name": "stderr",
     "output_type": "stream",
     "text": [
      "\u001b[32m[I 2022-01-26 12:50:13,415]\u001b[0m Trial 69 finished with value: 0.4108708015691601 and parameters: {'rf_max_depth': 79, 'rf_min_samples_leaf': 33, 'min_samples_split': 126, 'rf_estimators': 109, 'rf_max_feats': 0.37628160037292935}. Best is trial 60 with value: 0.5281141274824366.\u001b[0m\n",
      "\u001b[32m[I 2022-01-26 12:50:13,576]\u001b[0m Trial 73 finished with value: 0.36466248017550174 and parameters: {'rf_max_depth': 133, 'rf_min_samples_leaf': 78, 'min_samples_split': 69, 'rf_estimators': 85, 'rf_max_feats': 0.1797997931603552}. Best is trial 60 with value: 0.5281141274824366.\u001b[0m\n"
     ]
    },
    {
     "name": "stdout",
     "output_type": "stream",
     "text": [
      "MEAN TRAIN:  0.39331866718028047\n",
      "MEAN VALIDATION:  0.3099607708043445\n",
      "MEAN TEST 0.4108708015691601\n",
      "MEAN TRAIN:  0.3313452261347303\n",
      "MEAN VALIDATION:  0.2589693532029814\n",
      "MEAN TEST 0.36466248017550174\n"
     ]
    },
    {
     "name": "stderr",
     "output_type": "stream",
     "text": [
      "\u001b[32m[I 2022-01-26 12:50:14,672]\u001b[0m Trial 68 finished with value: 0.5270898765406976 and parameters: {'rf_max_depth': 99, 'rf_min_samples_leaf': 7, 'min_samples_split': 16, 'rf_estimators': 79, 'rf_max_feats': 0.24823792777759626}. Best is trial 60 with value: 0.5281141274824366.\u001b[0m\n"
     ]
    },
    {
     "name": "stdout",
     "output_type": "stream",
     "text": [
      "MEAN TRAIN:  0.7229725090591247\n",
      "MEAN VALIDATION:  0.4517153296948858\n",
      "MEAN TEST 0.5270898765406976\n"
     ]
    },
    {
     "name": "stderr",
     "output_type": "stream",
     "text": [
      "\u001b[32m[I 2022-01-26 12:50:14,965]\u001b[0m Trial 74 finished with value: 0.3810240695725825 and parameters: {'rf_max_depth': 20, 'rf_min_samples_leaf': 75, 'min_samples_split': 11, 'rf_estimators': 89, 'rf_max_feats': 0.2456061657250199}. Best is trial 60 with value: 0.5281141274824366.\u001b[0m\n"
     ]
    },
    {
     "name": "stdout",
     "output_type": "stream",
     "text": [
      "MEAN TRAIN:  0.34673352428654597\n",
      "MEAN VALIDATION:  0.2780557179936146\n",
      "MEAN TEST 0.3810240695725825\n"
     ]
    },
    {
     "name": "stderr",
     "output_type": "stream",
     "text": [
      "\u001b[32m[I 2022-01-26 12:50:17,557]\u001b[0m Trial 76 finished with value: 0.44441628432197666 and parameters: {'rf_max_depth': 124, 'rf_min_samples_leaf': 19, 'min_samples_split': 79, 'rf_estimators': 107, 'rf_max_feats': 0.10665860038712986}. Best is trial 60 with value: 0.5281141274824366.\u001b[0m\n"
     ]
    },
    {
     "name": "stdout",
     "output_type": "stream",
     "text": [
      "MEAN TRAIN:  0.4622510772148651\n",
      "MEAN VALIDATION:  0.35147239245820583\n",
      "MEAN TEST 0.44441628432197666\n"
     ]
    },
    {
     "name": "stderr",
     "output_type": "stream",
     "text": [
      "\u001b[32m[I 2022-01-26 12:50:17,965]\u001b[0m Trial 78 finished with value: 0.40257850027756054 and parameters: {'rf_max_depth': 86, 'rf_min_samples_leaf': 54, 'min_samples_split': 88, 'rf_estimators': 81, 'rf_max_feats': 0.12768581845090096}. Best is trial 60 with value: 0.5281141274824366.\u001b[0m\n"
     ]
    },
    {
     "name": "stdout",
     "output_type": "stream",
     "text": [
      "MEAN TRAIN:  0.3867614532980243\n",
      "MEAN VALIDATION:  0.3084952599065657\n",
      "MEAN TEST 0.40257850027756054\n"
     ]
    },
    {
     "name": "stderr",
     "output_type": "stream",
     "text": [
      "\u001b[32m[I 2022-01-26 12:50:20,064]\u001b[0m Trial 75 finished with value: 0.3965372309328452 and parameters: {'rf_max_depth': 6, 'rf_min_samples_leaf': 66, 'min_samples_split': 23, 'rf_estimators': 99, 'rf_max_feats': 0.3749185281634642}. Best is trial 60 with value: 0.5281141274824366.\u001b[0m\n"
     ]
    },
    {
     "name": "stdout",
     "output_type": "stream",
     "text": [
      "MEAN TRAIN:  0.369360947814231\n",
      "MEAN VALIDATION:  0.2918692260988808\n",
      "MEAN TEST 0.3965372309328452\n"
     ]
    },
    {
     "name": "stderr",
     "output_type": "stream",
     "text": [
      "\u001b[32m[I 2022-01-26 12:50:21,150]\u001b[0m Trial 81 finished with value: 0.46703844545327494 and parameters: {'rf_max_depth': 133, 'rf_min_samples_leaf': 7, 'min_samples_split': 60, 'rf_estimators': 48, 'rf_max_feats': 0.10584924573435953}. Best is trial 60 with value: 0.5281141274824366.\u001b[0m\n",
      "\u001b[32m[I 2022-01-26 12:50:21,336]\u001b[0m Trial 79 finished with value: 0.3856423140788393 and parameters: {'rf_max_depth': 99, 'rf_min_samples_leaf': 70, 'min_samples_split': 45, 'rf_estimators': 94, 'rf_max_feats': 0.26519999622720763}. Best is trial 60 with value: 0.5281141274824366.\u001b[0m\n"
     ]
    },
    {
     "name": "stdout",
     "output_type": "stream",
     "text": [
      "MEAN TRAIN:  0.5293376560181\n",
      "MEAN VALIDATION:  0.3796797212248076\n",
      "MEAN TEST 0.46703844545327494\n",
      "MEAN TRAIN:  0.35578329935184755\n",
      "MEAN VALIDATION:  0.2810276128053516\n",
      "MEAN TEST 0.3856423140788393\n"
     ]
    },
    {
     "name": "stderr",
     "output_type": "stream",
     "text": [
      "\u001b[32m[I 2022-01-26 12:50:23,112]\u001b[0m Trial 80 finished with value: 0.4548298020586078 and parameters: {'rf_max_depth': 102, 'rf_min_samples_leaf': 4, 'min_samples_split': 88, 'rf_estimators': 94, 'rf_max_feats': 0.1787290734540983}. Best is trial 60 with value: 0.5281141274824366.\u001b[0m\n"
     ]
    },
    {
     "name": "stdout",
     "output_type": "stream",
     "text": [
      "MEAN TRAIN:  0.4962457719421631\n",
      "MEAN VALIDATION:  0.3658618849057242\n",
      "MEAN TEST 0.4548298020586078\n"
     ]
    },
    {
     "name": "stderr",
     "output_type": "stream",
     "text": [
      "\u001b[32m[I 2022-01-26 12:50:24,481]\u001b[0m Trial 83 finished with value: 0.4155097660546704 and parameters: {'rf_max_depth': 148, 'rf_min_samples_leaf': 45, 'min_samples_split': 28, 'rf_estimators': 82, 'rf_max_feats': 0.10863973642353174}. Best is trial 60 with value: 0.5281141274824366.\u001b[0m\n"
     ]
    },
    {
     "name": "stdout",
     "output_type": "stream",
     "text": [
      "MEAN TRAIN:  0.4127230194580253\n",
      "MEAN VALIDATION:  0.3268956611459869\n",
      "MEAN TEST 0.4155097660546704\n"
     ]
    },
    {
     "name": "stderr",
     "output_type": "stream",
     "text": [
      "\u001b[32m[I 2022-01-26 12:50:24,959]\u001b[0m Trial 85 finished with value: 0.4243813891917229 and parameters: {'rf_max_depth': 28, 'rf_min_samples_leaf': 47, 'min_samples_split': 40, 'rf_estimators': 36, 'rf_max_feats': 0.28229458209363234}. Best is trial 60 with value: 0.5281141274824366.\u001b[0m\n"
     ]
    },
    {
     "name": "stdout",
     "output_type": "stream",
     "text": [
      "MEAN TRAIN:  0.4259087511413231\n",
      "MEAN VALIDATION:  0.32439338547191904\n",
      "MEAN TEST 0.4243813891917229\n"
     ]
    },
    {
     "name": "stderr",
     "output_type": "stream",
     "text": [
      "\u001b[32m[I 2022-01-26 12:50:25,684]\u001b[0m Trial 77 finished with value: 0.42965476565168403 and parameters: {'rf_max_depth': 93, 'rf_min_samples_leaf': 47, 'min_samples_split': 37, 'rf_estimators': 128, 'rf_max_feats': 0.2790276694076502}. Best is trial 60 with value: 0.5281141274824366.\u001b[0m\n"
     ]
    },
    {
     "name": "stdout",
     "output_type": "stream",
     "text": [
      "MEAN TRAIN:  0.4260252405482391\n",
      "MEAN VALIDATION:  0.33211537942191754\n",
      "MEAN TEST 0.42965476565168403\n"
     ]
    },
    {
     "name": "stderr",
     "output_type": "stream",
     "text": [
      "\u001b[32m[I 2022-01-26 12:50:29,413]\u001b[0m Trial 82 finished with value: 0.403793823319546 and parameters: {'rf_max_depth': 31, 'rf_min_samples_leaf': 65, 'min_samples_split': 117, 'rf_estimators': 119, 'rf_max_feats': 0.38080004161311753}. Best is trial 60 with value: 0.5281141274824366.\u001b[0m\n"
     ]
    },
    {
     "name": "stdout",
     "output_type": "stream",
     "text": [
      "MEAN TRAIN:  0.37427190044241027\n",
      "MEAN VALIDATION:  0.2983614091260823\n",
      "MEAN TEST 0.403793823319546\n"
     ]
    },
    {
     "name": "stderr",
     "output_type": "stream",
     "text": [
      "\u001b[32m[I 2022-01-26 12:50:29,866]\u001b[0m Trial 88 finished with value: 0.49560644492854633 and parameters: {'rf_max_depth': 99, 'rf_min_samples_leaf': 7, 'min_samples_split': 47, 'rf_estimators': 39, 'rf_max_feats': 0.22674391882371772}. Best is trial 60 with value: 0.5281141274824366.\u001b[0m\n"
     ]
    },
    {
     "name": "stdout",
     "output_type": "stream",
     "text": [
      "MEAN TRAIN:  0.592314421891372\n",
      "MEAN VALIDATION:  0.4100305201275133\n",
      "MEAN TEST 0.49560644492854633\n"
     ]
    },
    {
     "name": "stderr",
     "output_type": "stream",
     "text": [
      "\u001b[32m[I 2022-01-26 12:50:30,346]\u001b[0m Trial 86 finished with value: 0.4059179887843268 and parameters: {'rf_max_depth': 28, 'rf_min_samples_leaf': 9, 'min_samples_split': 142, 'rf_estimators': 83, 'rf_max_feats': 0.31281730000824953}. Best is trial 60 with value: 0.5281141274824366.\u001b[0m\n",
      "\u001b[32m[I 2022-01-26 12:50:30,448]\u001b[0m Trial 84 finished with value: 0.44089214434883717 and parameters: {'rf_max_depth': 79, 'rf_min_samples_leaf': 14, 'min_samples_split': 98, 'rf_estimators': 111, 'rf_max_feats': 0.21206184990702778}. Best is trial 60 with value: 0.5281141274824366.\u001b[0m\n"
     ]
    },
    {
     "name": "stdout",
     "output_type": "stream",
     "text": [
      "MEAN TRAIN:  0.3856622559680127\n",
      "MEAN VALIDATION:  0.3003867422623438\n",
      "MEAN TEST 0.4059179887843268\n",
      "MEAN TRAIN:  0.452457238121864\n",
      "MEAN VALIDATION:  0.344050902706721\n",
      "MEAN TEST 0.44089214434883717\n"
     ]
    },
    {
     "name": "stderr",
     "output_type": "stream",
     "text": [
      "\u001b[32m[I 2022-01-26 12:50:33,898]\u001b[0m Trial 90 finished with value: 0.45070377793702054 and parameters: {'rf_max_depth': 69, 'rf_min_samples_leaf': 15, 'min_samples_split': 75, 'rf_estimators': 67, 'rf_max_feats': 0.13187468604134922}. Best is trial 60 with value: 0.5281141274824366.\u001b[0m\n"
     ]
    },
    {
     "name": "stdout",
     "output_type": "stream",
     "text": [
      "MEAN TRAIN:  0.4810650693074384\n",
      "MEAN VALIDATION:  0.361970299197392\n",
      "MEAN TEST 0.45070377793702054\n"
     ]
    },
    {
     "name": "stderr",
     "output_type": "stream",
     "text": [
      "\u001b[32m[I 2022-01-26 12:50:34,390]\u001b[0m Trial 89 finished with value: 0.43174035585948956 and parameters: {'rf_max_depth': 54, 'rf_min_samples_leaf': 43, 'min_samples_split': 85, 'rf_estimators': 108, 'rf_max_feats': 0.21957865453999337}. Best is trial 60 with value: 0.5281141274824366.\u001b[0m\n"
     ]
    },
    {
     "name": "stdout",
     "output_type": "stream",
     "text": [
      "MEAN TRAIN:  0.4339950315458273\n",
      "MEAN VALIDATION:  0.3380510732133107\n",
      "MEAN TEST 0.43174035585948956\n"
     ]
    },
    {
     "name": "stderr",
     "output_type": "stream",
     "text": [
      "\u001b[32m[I 2022-01-26 12:50:34,656]\u001b[0m Trial 95 finished with value: 0.36031097366553794 and parameters: {'rf_max_depth': 129, 'rf_min_samples_leaf': 68, 'min_samples_split': 24, 'rf_estimators': 2, 'rf_max_feats': 0.32818899652191424}. Best is trial 60 with value: 0.5281141274824366.\u001b[0m\n"
     ]
    },
    {
     "name": "stdout",
     "output_type": "stream",
     "text": [
      "MEAN TRAIN:  0.3046233554729267\n",
      "MEAN VALIDATION:  0.25843359109853825\n",
      "MEAN TEST 0.36031097366553794\n"
     ]
    },
    {
     "name": "stderr",
     "output_type": "stream",
     "text": [
      "\u001b[32m[I 2022-01-26 12:50:35,610]\u001b[0m Trial 91 finished with value: 0.4207034181754256 and parameters: {'rf_max_depth': 63, 'rf_min_samples_leaf': 46, 'min_samples_split': 84, 'rf_estimators': 93, 'rf_max_feats': 0.14650178821423257}. Best is trial 60 with value: 0.5281141274824366.\u001b[0m\n"
     ]
    },
    {
     "name": "stdout",
     "output_type": "stream",
     "text": [
      "MEAN TRAIN:  0.417583676672427\n",
      "MEAN VALIDATION:  0.3233388266395726\n",
      "MEAN TEST 0.4207034181754256\n"
     ]
    },
    {
     "name": "stderr",
     "output_type": "stream",
     "text": [
      "\u001b[32m[I 2022-01-26 12:50:36,611]\u001b[0m Trial 97 finished with value: 0.43489405026911376 and parameters: {'rf_max_depth': 40, 'rf_min_samples_leaf': 8, 'min_samples_split': 75, 'rf_estimators': 14, 'rf_max_feats': 0.10703427220815187}. Best is trial 60 with value: 0.5281141274824366.\u001b[0m\n"
     ]
    },
    {
     "name": "stdout",
     "output_type": "stream",
     "text": [
      "MEAN TRAIN:  0.4841162359229861\n",
      "MEAN VALIDATION:  0.3501776931908878\n",
      "MEAN TEST 0.43489405026911376\n"
     ]
    },
    {
     "name": "stderr",
     "output_type": "stream",
     "text": [
      "\u001b[32m[I 2022-01-26 12:50:39,427]\u001b[0m Trial 98 finished with value: 0.41892086840518666 and parameters: {'rf_max_depth': 141, 'rf_min_samples_leaf': 46, 'min_samples_split': 106, 'rf_estimators': 44, 'rf_max_feats': 0.18428178169495638}. Best is trial 60 with value: 0.5281141274824366.\u001b[0m\n"
     ]
    },
    {
     "name": "stdout",
     "output_type": "stream",
     "text": [
      "MEAN TRAIN:  0.4085603727630828\n",
      "MEAN VALIDATION:  0.3216087406927678\n",
      "MEAN TEST 0.41892086840518666\n"
     ]
    },
    {
     "name": "stderr",
     "output_type": "stream",
     "text": [
      "\u001b[32m[I 2022-01-26 12:50:39,779]\u001b[0m Trial 92 finished with value: 0.40039068992507626 and parameters: {'rf_max_depth': 84, 'rf_min_samples_leaf': 22, 'min_samples_split': 144, 'rf_estimators': 108, 'rf_max_feats': 0.3452912111735371}. Best is trial 60 with value: 0.5281141274824366.\u001b[0m\n"
     ]
    },
    {
     "name": "stdout",
     "output_type": "stream",
     "text": [
      "MEAN TRAIN:  0.37626638619507263\n",
      "MEAN VALIDATION:  0.2931942997296182\n",
      "MEAN TEST 0.40039068992507626\n"
     ]
    },
    {
     "name": "stderr",
     "output_type": "stream",
     "text": [
      "\u001b[32m[I 2022-01-26 12:50:40,907]\u001b[0m Trial 94 finished with value: 0.4195401565179141 and parameters: {'rf_max_depth': 71, 'rf_min_samples_leaf': 53, 'min_samples_split': 91, 'rf_estimators': 80, 'rf_max_feats': 0.27820784414842537}. Best is trial 60 with value: 0.5281141274824366.\u001b[0m\n"
     ]
    },
    {
     "name": "stdout",
     "output_type": "stream",
     "text": [
      "MEAN TRAIN:  0.4026939837669069\n",
      "MEAN VALIDATION:  0.3206296086824373\n",
      "MEAN TEST 0.4195401565179141\n"
     ]
    },
    {
     "name": "stderr",
     "output_type": "stream",
     "text": [
      "\u001b[32m[I 2022-01-26 12:50:41,473]\u001b[0m Trial 93 finished with value: 0.52582413156431 and parameters: {'rf_max_depth': 143, 'rf_min_samples_leaf': 8, 'min_samples_split': 4, 'rf_estimators': 64, 'rf_max_feats': 0.26261310838608254}. Best is trial 60 with value: 0.5281141274824366.\u001b[0m\n"
     ]
    },
    {
     "name": "stdout",
     "output_type": "stream",
     "text": [
      "MEAN TRAIN:  0.7111011079323065\n",
      "MEAN VALIDATION:  0.4464721524212564\n",
      "MEAN TEST 0.52582413156431\n"
     ]
    },
    {
     "name": "stderr",
     "output_type": "stream",
     "text": [
      "\u001b[32m[I 2022-01-26 12:50:42,221]\u001b[0m Trial 99 finished with value: 0.3920616353536321 and parameters: {'rf_max_depth': 23, 'rf_min_samples_leaf': 16, 'min_samples_split': 136, 'rf_estimators': 57, 'rf_max_feats': 0.10700496854105708}. Best is trial 60 with value: 0.5281141274824366.\u001b[0m\n"
     ]
    },
    {
     "name": "stdout",
     "output_type": "stream",
     "text": [
      "MEAN TRAIN:  0.38085875031952937\n",
      "MEAN VALIDATION:  0.2906540945172453\n",
      "MEAN TEST 0.3920616353536321\n"
     ]
    },
    {
     "name": "stderr",
     "output_type": "stream",
     "text": [
      "\u001b[32m[I 2022-01-26 12:50:43,417]\u001b[0m Trial 96 finished with value: 0.39669378454095894 and parameters: {'rf_max_depth': 14, 'rf_min_samples_leaf': 59, 'min_samples_split': 52, 'rf_estimators': 149, 'rf_max_feats': 0.16872271417973192}. Best is trial 60 with value: 0.5281141274824366.\u001b[0m\n"
     ]
    },
    {
     "name": "stdout",
     "output_type": "stream",
     "text": [
      "MEAN TRAIN:  0.3725152773492619\n",
      "MEAN VALIDATION:  0.30044372403552755\n",
      "MEAN TEST 0.39669378454095894\n"
     ]
    },
    {
     "name": "stderr",
     "output_type": "stream",
     "text": [
      "\u001b[32m[I 2022-01-26 12:50:44,232]\u001b[0m Trial 87 finished with value: 0.4550384043034633 and parameters: {'rf_max_depth': 38, 'rf_min_samples_leaf': 17, 'min_samples_split': 90, 'rf_estimators': 150, 'rf_max_feats': 0.3907328331056691}. Best is trial 60 with value: 0.5281141274824366.\u001b[0m\n"
     ]
    },
    {
     "name": "stdout",
     "output_type": "stream",
     "text": [
      "MEAN TRAIN:  0.47095169403595205\n",
      "MEAN VALIDATION:  0.35856630576243853\n",
      "MEAN TEST 0.4550384043034633\n"
     ]
    },
    {
     "name": "stderr",
     "output_type": "stream",
     "text": [
      "\u001b[32m[I 2022-01-26 12:50:45,597]\u001b[0m Trial 100 finished with value: 0.3947647856808914 and parameters: {'rf_max_depth': 71, 'rf_min_samples_leaf': 52, 'min_samples_split': 123, 'rf_estimators': 112, 'rf_max_feats': 0.12555230749868643}. Best is trial 60 with value: 0.5281141274824366.\u001b[0m\n"
     ]
    },
    {
     "name": "stdout",
     "output_type": "stream",
     "text": [
      "MEAN TRAIN:  0.37750953825409894\n",
      "MEAN VALIDATION:  0.30257159965191543\n",
      "MEAN TEST 0.3947647856808914\n"
     ]
    },
    {
     "name": "stderr",
     "output_type": "stream",
     "text": [
      "\u001b[32m[I 2022-01-26 12:50:47,609]\u001b[0m Trial 101 finished with value: 0.40439268828572167 and parameters: {'rf_max_depth': 95, 'rf_min_samples_leaf': 53, 'min_samples_split': 122, 'rf_estimators': 89, 'rf_max_feats': 0.24227246123734547}. Best is trial 60 with value: 0.5281141274824366.\u001b[0m\n"
     ]
    },
    {
     "name": "stdout",
     "output_type": "stream",
     "text": [
      "MEAN TRAIN:  0.3858281278852796\n",
      "MEAN VALIDATION:  0.3086887250693201\n",
      "MEAN TEST 0.40439268828572167\n"
     ]
    },
    {
     "name": "stderr",
     "output_type": "stream",
     "text": [
      "\u001b[32m[I 2022-01-26 12:50:47,859]\u001b[0m Trial 103 finished with value: 0.4383595689168553 and parameters: {'rf_max_depth': 87, 'rf_min_samples_leaf': 21, 'min_samples_split': 88, 'rf_estimators': 94, 'rf_max_feats': 0.10753890540029357}. Best is trial 60 with value: 0.5281141274824366.\u001b[0m\n",
      "\u001b[32m[I 2022-01-26 12:50:47,913]\u001b[0m Trial 107 finished with value: 0.3572260085421101 and parameters: {'rf_max_depth': 112, 'rf_min_samples_leaf': 35, 'min_samples_split': 33, 'rf_estimators': 2, 'rf_max_feats': 0.13357966656973486}. Best is trial 60 with value: 0.5281141274824366.\u001b[0m\n"
     ]
    },
    {
     "name": "stdout",
     "output_type": "stream",
     "text": [
      "MEAN TRAIN:  0.4452247233938177\n",
      "MEAN VALIDATION:  0.3384439850742381\n",
      "MEAN TEST 0.4383595689168553\n",
      "MEAN TRAIN:  0.4027170583659189\n",
      "MEAN VALIDATION:  0.2625720519848024\n",
      "MEAN TEST 0.3572260085421101\n"
     ]
    },
    {
     "name": "stderr",
     "output_type": "stream",
     "text": [
      "\u001b[32m[I 2022-01-26 12:50:49,238]\u001b[0m Trial 102 finished with value: 0.42201146929203615 and parameters: {'rf_max_depth': 48, 'rf_min_samples_leaf': 9, 'min_samples_split': 117, 'rf_estimators': 112, 'rf_max_feats': 0.1734846452614586}. Best is trial 60 with value: 0.5281141274824366.\u001b[0m\n"
     ]
    },
    {
     "name": "stdout",
     "output_type": "stream",
     "text": [
      "MEAN TRAIN:  0.41840081886750297\n",
      "MEAN VALIDATION:  0.32707884023309897\n",
      "MEAN TEST 0.42201146929203615\n"
     ]
    },
    {
     "name": "stderr",
     "output_type": "stream",
     "text": [
      "\u001b[32m[I 2022-01-26 12:50:51,240]\u001b[0m Trial 104 finished with value: 0.3897203604682858 and parameters: {'rf_max_depth': 108, 'rf_min_samples_leaf': 59, 'min_samples_split': 50, 'rf_estimators': 148, 'rf_max_feats': 0.1346613005354891}. Best is trial 60 with value: 0.5281141274824366.\u001b[0m\n"
     ]
    },
    {
     "name": "stdout",
     "output_type": "stream",
     "text": [
      "MEAN TRAIN:  0.3689467333265809\n",
      "MEAN VALIDATION:  0.2938875406629421\n",
      "MEAN TEST 0.3897203604682858\n"
     ]
    },
    {
     "name": "stderr",
     "output_type": "stream",
     "text": [
      "\u001b[32m[I 2022-01-26 12:50:51,986]\u001b[0m Trial 106 finished with value: 0.4295921391472845 and parameters: {'rf_max_depth': 63, 'rf_min_samples_leaf': 45, 'min_samples_split': 71, 'rf_estimators': 75, 'rf_max_feats': 0.21163057135192256}. Best is trial 60 with value: 0.5281141274824366.\u001b[0m\n"
     ]
    },
    {
     "name": "stdout",
     "output_type": "stream",
     "text": [
      "MEAN TRAIN:  0.42530285515765875\n",
      "MEAN VALIDATION:  0.33446656753162196\n",
      "MEAN TEST 0.4295921391472845\n"
     ]
    },
    {
     "name": "stderr",
     "output_type": "stream",
     "text": [
      "\u001b[32m[I 2022-01-26 12:50:54,578]\u001b[0m Trial 111 finished with value: 0.3512910337029882 and parameters: {'rf_max_depth': 108, 'rf_min_samples_leaf': 80, 'min_samples_split': 78, 'rf_estimators': 79, 'rf_max_feats': 0.10836143151505073}. Best is trial 60 with value: 0.5281141274824366.\u001b[0m\n"
     ]
    },
    {
     "name": "stdout",
     "output_type": "stream",
     "text": [
      "MEAN TRAIN:  0.3166466594353362\n",
      "MEAN VALIDATION:  0.25086777265592114\n",
      "MEAN TEST 0.3512910337029882\n"
     ]
    },
    {
     "name": "stderr",
     "output_type": "stream",
     "text": [
      "\u001b[32m[I 2022-01-26 12:50:55,385]\u001b[0m Trial 110 finished with value: 0.3900227199453189 and parameters: {'rf_max_depth': 131, 'rf_min_samples_leaf': 68, 'min_samples_split': 53, 'rf_estimators': 87, 'rf_max_feats': 0.24771111102078758}. Best is trial 60 with value: 0.5281141274824366.\u001b[0m\n",
      "\u001b[32m[I 2022-01-26 12:50:55,534]\u001b[0m Trial 112 finished with value: 0.3574796121069362 and parameters: {'rf_max_depth': 63, 'rf_min_samples_leaf': 80, 'min_samples_split': 124, 'rf_estimators': 75, 'rf_max_feats': 0.15026648008559515}. Best is trial 60 with value: 0.5281141274824366.\u001b[0m\n"
     ]
    },
    {
     "name": "stdout",
     "output_type": "stream",
     "text": [
      "MEAN TRAIN:  0.36019702119845826\n",
      "MEAN VALIDATION:  0.2878436481423877\n",
      "MEAN TEST 0.3900227199453189\n",
      "MEAN TRAIN:  0.32380572825876175\n",
      "MEAN VALIDATION:  0.26495374876187994\n",
      "MEAN TEST 0.3574796121069362\n"
     ]
    },
    {
     "name": "stderr",
     "output_type": "stream",
     "text": [
      "\u001b[32m[I 2022-01-26 12:50:56,618]\u001b[0m Trial 109 finished with value: 0.414612710219305 and parameters: {'rf_max_depth': 71, 'rf_min_samples_leaf': 53, 'min_samples_split': 19, 'rf_estimators': 104, 'rf_max_feats': 0.24463441989297824}. Best is trial 60 with value: 0.5281141274824366.\u001b[0m\n"
     ]
    },
    {
     "name": "stdout",
     "output_type": "stream",
     "text": [
      "MEAN TRAIN:  0.4029383561208027\n",
      "MEAN VALIDATION:  0.320034906910622\n",
      "MEAN TEST 0.414612710219305\n"
     ]
    },
    {
     "name": "stderr",
     "output_type": "stream",
     "text": [
      "\u001b[32m[I 2022-01-26 12:50:58,017]\u001b[0m Trial 108 finished with value: 0.3936829964364461 and parameters: {'rf_max_depth': 17, 'rf_min_samples_leaf': 66, 'min_samples_split': 7, 'rf_estimators': 131, 'rf_max_feats': 0.2747654632577299}. Best is trial 60 with value: 0.5281141274824366.\u001b[0m\n"
     ]
    },
    {
     "name": "stdout",
     "output_type": "stream",
     "text": [
      "MEAN TRAIN:  0.36717723995730844\n",
      "MEAN VALIDATION:  0.29213206672301456\n",
      "MEAN TEST 0.3936829964364461\n"
     ]
    },
    {
     "name": "stderr",
     "output_type": "stream",
     "text": [
      "\u001b[32m[I 2022-01-26 12:50:59,996]\u001b[0m Trial 113 finished with value: 0.400920977937926 and parameters: {'rf_max_depth': 81, 'rf_min_samples_leaf': 59, 'min_samples_split': 34, 'rf_estimators': 83, 'rf_max_feats': 0.17931782045014238}. Best is trial 60 with value: 0.5281141274824366.\u001b[0m\n"
     ]
    },
    {
     "name": "stdout",
     "output_type": "stream",
     "text": [
      "MEAN TRAIN:  0.3754459790718515\n",
      "MEAN VALIDATION:  0.29893004188130895\n",
      "MEAN TEST 0.400920977937926\n"
     ]
    },
    {
     "name": "stderr",
     "output_type": "stream",
     "text": [
      "\u001b[32m[I 2022-01-26 12:51:00,241]\u001b[0m Trial 117 finished with value: 0.40915167193181573 and parameters: {'rf_max_depth': 77, 'rf_min_samples_leaf': 53, 'min_samples_split': 34, 'rf_estimators': 28, 'rf_max_feats': 0.2029963137223018}. Best is trial 60 with value: 0.5281141274824366.\u001b[0m\n"
     ]
    },
    {
     "name": "stdout",
     "output_type": "stream",
     "text": [
      "MEAN TRAIN:  0.39320992016890505\n",
      "MEAN VALIDATION:  0.3072868157352886\n",
      "MEAN TEST 0.40915167193181573\n"
     ]
    },
    {
     "name": "stderr",
     "output_type": "stream",
     "text": [
      "\u001b[32m[I 2022-01-26 12:51:01,180]\u001b[0m Trial 105 finished with value: 0.45687475660273436 and parameters: {'rf_max_depth': 9, 'rf_min_samples_leaf': 32, 'min_samples_split': 70, 'rf_estimators': 140, 'rf_max_feats': 0.3049860790226595}. Best is trial 60 with value: 0.5281141274824366.\u001b[0m\n"
     ]
    },
    {
     "name": "stdout",
     "output_type": "stream",
     "text": [
      "MEAN TRAIN:  0.4772275140184655\n",
      "MEAN VALIDATION:  0.3634919131862615\n",
      "MEAN TEST 0.45687475660273436\n"
     ]
    },
    {
     "name": "stderr",
     "output_type": "stream",
     "text": [
      "\u001b[32m[I 2022-01-26 12:51:01,647]\u001b[0m Trial 115 finished with value: 0.38471976109020123 and parameters: {'rf_max_depth': 36, 'rf_min_samples_leaf': 43, 'min_samples_split': 141, 'rf_estimators': 131, 'rf_max_feats': 0.1079651693171487}. Best is trial 60 with value: 0.5281141274824366.\u001b[0m\n"
     ]
    },
    {
     "name": "stdout",
     "output_type": "stream",
     "text": [
      "MEAN TRAIN:  0.3614683559276225\n",
      "MEAN VALIDATION:  0.28585635178502244\n",
      "MEAN TEST 0.38471976109020123\n"
     ]
    },
    {
     "name": "stderr",
     "output_type": "stream",
     "text": [
      "\u001b[32m[I 2022-01-26 12:51:02,073]\u001b[0m Trial 114 finished with value: 0.4034131266757369 and parameters: {'rf_max_depth': 20, 'rf_min_samples_leaf': 8, 'min_samples_split': 136, 'rf_estimators': 94, 'rf_max_feats': 0.1989246027032809}. Best is trial 60 with value: 0.5281141274824366.\u001b[0m\n"
     ]
    },
    {
     "name": "stdout",
     "output_type": "stream",
     "text": [
      "MEAN TRAIN:  0.39186370298544226\n",
      "MEAN VALIDATION:  0.3024789070941344\n",
      "MEAN TEST 0.4034131266757369\n"
     ]
    },
    {
     "name": "stderr",
     "output_type": "stream",
     "text": [
      "\u001b[32m[I 2022-01-26 12:51:03,154]\u001b[0m Trial 118 finished with value: 0.3648207135692562 and parameters: {'rf_max_depth': 94, 'rf_min_samples_leaf': 70, 'min_samples_split': 35, 'rf_estimators': 68, 'rf_max_feats': 0.10160746036193874}. Best is trial 60 with value: 0.5281141274824366.\u001b[0m\n"
     ]
    },
    {
     "name": "stdout",
     "output_type": "stream",
     "text": [
      "MEAN TRAIN:  0.3338810615486866\n",
      "MEAN VALIDATION:  0.2681633608665063\n",
      "MEAN TEST 0.3648207135692562\n"
     ]
    },
    {
     "name": "stderr",
     "output_type": "stream",
     "text": [
      "\u001b[32m[I 2022-01-26 12:51:03,739]\u001b[0m Trial 120 finished with value: 0.3680341521521273 and parameters: {'rf_max_depth': 55, 'rf_min_samples_leaf': 71, 'min_samples_split': 9, 'rf_estimators': 49, 'rf_max_feats': 0.1310839479245253}. Best is trial 60 with value: 0.5281141274824366.\u001b[0m\n"
     ]
    },
    {
     "name": "stdout",
     "output_type": "stream",
     "text": [
      "MEAN TRAIN:  0.3399222781842446\n",
      "MEAN VALIDATION:  0.26676516060331446\n",
      "MEAN TEST 0.3680341521521273\n"
     ]
    },
    {
     "name": "stderr",
     "output_type": "stream",
     "text": [
      "\u001b[32m[I 2022-01-26 12:51:03,962]\u001b[0m Trial 116 finished with value: 0.3908534525191305 and parameters: {'rf_max_depth': 60, 'rf_min_samples_leaf': 69, 'min_samples_split': 106, 'rf_estimators': 101, 'rf_max_feats': 0.2606108157219618}. Best is trial 60 with value: 0.5281141274824366.\u001b[0m\n"
     ]
    },
    {
     "name": "stdout",
     "output_type": "stream",
     "text": [
      "MEAN TRAIN:  0.35757272636123794\n",
      "MEAN VALIDATION:  0.29104038777350255\n",
      "MEAN TEST 0.3908534525191305\n"
     ]
    },
    {
     "name": "stderr",
     "output_type": "stream",
     "text": [
      "\u001b[32m[I 2022-01-26 12:51:06,328]\u001b[0m Trial 125 finished with value: 0.3714351716593904 and parameters: {'rf_max_depth': 32, 'rf_min_samples_leaf': 79, 'min_samples_split': 23, 'rf_estimators': 40, 'rf_max_feats': 0.21851660641328494}. Best is trial 60 with value: 0.5281141274824366.\u001b[0m\n",
      "\u001b[32m[I 2022-01-26 12:51:06,507]\u001b[0m Trial 124 finished with value: 0.41391434834866486 and parameters: {'rf_max_depth': 122, 'rf_min_samples_leaf': 53, 'min_samples_split': 56, 'rf_estimators': 26, 'rf_max_feats': 0.3352194616470768}. Best is trial 60 with value: 0.5281141274824366.\u001b[0m\n"
     ]
    },
    {
     "name": "stdout",
     "output_type": "stream",
     "text": [
      "MEAN TRAIN:  0.33541996906278965\n",
      "MEAN VALIDATION:  0.2697677752022167\n",
      "MEAN TEST 0.3714351716593904\n",
      "MEAN TRAIN:  0.407361237568978\n",
      "MEAN VALIDATION:  0.30498097551653425\n",
      "MEAN TEST 0.41391434834866486\n"
     ]
    },
    {
     "name": "stderr",
     "output_type": "stream",
     "text": [
      "\u001b[32m[I 2022-01-26 12:51:07,519]\u001b[0m Trial 123 finished with value: 0.4642139233428546 and parameters: {'rf_max_depth': 63, 'rf_min_samples_leaf': 5, 'min_samples_split': 80, 'rf_estimators': 41, 'rf_max_feats': 0.20985491509691936}. Best is trial 60 with value: 0.5281141274824366.\u001b[0m\n"
     ]
    },
    {
     "name": "stdout",
     "output_type": "stream",
     "text": [
      "MEAN TRAIN:  0.5098264573412513\n",
      "MEAN VALIDATION:  0.37376140372607713\n",
      "MEAN TEST 0.4642139233428546\n"
     ]
    },
    {
     "name": "stderr",
     "output_type": "stream",
     "text": [
      "\u001b[32m[I 2022-01-26 12:51:08,881]\u001b[0m Trial 127 finished with value: 0.39657001286382637 and parameters: {'rf_max_depth': 132, 'rf_min_samples_leaf': 60, 'min_samples_split': 41, 'rf_estimators': 32, 'rf_max_feats': 0.20017236499115032}. Best is trial 60 with value: 0.5281141274824366.\u001b[0m\n"
     ]
    },
    {
     "name": "stdout",
     "output_type": "stream",
     "text": [
      "MEAN TRAIN:  0.37421299783042705\n",
      "MEAN VALIDATION:  0.29497107214355617\n",
      "MEAN TEST 0.39657001286382637\n"
     ]
    },
    {
     "name": "stderr",
     "output_type": "stream",
     "text": [
      "\u001b[32m[I 2022-01-26 12:51:09,426]\u001b[0m Trial 128 finished with value: 0.3937802720760891 and parameters: {'rf_max_depth': 133, 'rf_min_samples_leaf': 64, 'min_samples_split': 102, 'rf_estimators': 20, 'rf_max_feats': 0.3268603429938792}. Best is trial 60 with value: 0.5281141274824366.\u001b[0m\n"
     ]
    },
    {
     "name": "stdout",
     "output_type": "stream",
     "text": [
      "MEAN TRAIN:  0.36464366166377166\n",
      "MEAN VALIDATION:  0.2955695556067735\n",
      "MEAN TEST 0.3937802720760891\n"
     ]
    },
    {
     "name": "stderr",
     "output_type": "stream",
     "text": [
      "\u001b[32m[I 2022-01-26 12:51:09,682]\u001b[0m Trial 122 finished with value: 0.42093960345925163 and parameters: {'rf_max_depth': 33, 'rf_min_samples_leaf': 6, 'min_samples_split': 119, 'rf_estimators': 118, 'rf_max_feats': 0.137566574932187}. Best is trial 60 with value: 0.5281141274824366.\u001b[0m\n"
     ]
    },
    {
     "name": "stdout",
     "output_type": "stream",
     "text": [
      "MEAN TRAIN:  0.42172275951918803\n",
      "MEAN VALIDATION:  0.32458918191492003\n",
      "MEAN TEST 0.42093960345925163\n"
     ]
    },
    {
     "name": "stderr",
     "output_type": "stream",
     "text": [
      "\u001b[32m[I 2022-01-26 12:51:09,964]\u001b[0m Trial 126 finished with value: 0.3899826827864259 and parameters: {'rf_max_depth': 136, 'rf_min_samples_leaf': 45, 'min_samples_split': 142, 'rf_estimators': 61, 'rf_max_feats': 0.15760490222351045}. Best is trial 60 with value: 0.5281141274824366.\u001b[0m\n"
     ]
    },
    {
     "name": "stdout",
     "output_type": "stream",
     "text": [
      "MEAN TRAIN:  0.3606896844596018\n",
      "MEAN VALIDATION:  0.29460356140190946\n",
      "MEAN TEST 0.3899826827864259\n"
     ]
    },
    {
     "name": "stderr",
     "output_type": "stream",
     "text": [
      "\u001b[32m[I 2022-01-26 12:51:10,578]\u001b[0m Trial 121 finished with value: 0.3865351281415647 and parameters: {'rf_max_depth': 13, 'rf_min_samples_leaf': 58, 'min_samples_split': 148, 'rf_estimators': 135, 'rf_max_feats': 0.2308334384175193}. Best is trial 60 with value: 0.5281141274824366.\u001b[0m\n"
     ]
    },
    {
     "name": "stdout",
     "output_type": "stream",
     "text": [
      "MEAN TRAIN:  0.35694491586201416\n",
      "MEAN VALIDATION:  0.28522878535235086\n",
      "MEAN TEST 0.3865351281415647\n"
     ]
    },
    {
     "name": "stderr",
     "output_type": "stream",
     "text": [
      "\u001b[32m[I 2022-01-26 12:51:10,801]\u001b[0m Trial 119 finished with value: 0.37758140741652196 and parameters: {'rf_max_depth': 25, 'rf_min_samples_leaf': 79, 'min_samples_split': 89, 'rf_estimators': 147, 'rf_max_feats': 0.2846937879305388}. Best is trial 60 with value: 0.5281141274824366.\u001b[0m\n"
     ]
    },
    {
     "name": "stdout",
     "output_type": "stream",
     "text": [
      "MEAN TRAIN:  0.3420924374043216\n",
      "MEAN VALIDATION:  0.26982635141473316\n",
      "MEAN TEST 0.37758140741652196\n"
     ]
    },
    {
     "name": "stderr",
     "output_type": "stream",
     "text": [
      "\u001b[32m[I 2022-01-26 12:51:11,290]\u001b[0m Trial 132 finished with value: 0.366754987301776 and parameters: {'rf_max_depth': 106, 'rf_min_samples_leaf': 67, 'min_samples_split': 135, 'rf_estimators': 27, 'rf_max_feats': 0.10157599330996589}. Best is trial 60 with value: 0.5281141274824366.\u001b[0m\n"
     ]
    },
    {
     "name": "stdout",
     "output_type": "stream",
     "text": [
      "MEAN TRAIN:  0.3368822034304844\n",
      "MEAN VALIDATION:  0.2610089888425554\n",
      "MEAN TEST 0.366754987301776\n"
     ]
    },
    {
     "name": "stderr",
     "output_type": "stream",
     "text": [
      "\u001b[32m[I 2022-01-26 12:51:15,177]\u001b[0m Trial 130 finished with value: 0.3921695694144103 and parameters: {'rf_max_depth': 115, 'rf_min_samples_leaf': 57, 'min_samples_split': 10, 'rf_estimators': 117, 'rf_max_feats': 0.12046017909069932}. Best is trial 60 with value: 0.5281141274824366.\u001b[0m\n"
     ]
    },
    {
     "name": "stdout",
     "output_type": "stream",
     "text": [
      "MEAN TRAIN:  0.37126061452109893\n",
      "MEAN VALIDATION:  0.29293066670744644\n",
      "MEAN TEST 0.3921695694144103\n"
     ]
    },
    {
     "name": "stderr",
     "output_type": "stream",
     "text": [
      "\u001b[32m[I 2022-01-26 12:51:16,614]\u001b[0m Trial 135 finished with value: 0.4490125824642601 and parameters: {'rf_max_depth': 93, 'rf_min_samples_leaf': 13, 'min_samples_split': 85, 'rf_estimators': 65, 'rf_max_feats': 0.17977196154488673}. Best is trial 60 with value: 0.5281141274824366.\u001b[0m\n",
      "\u001b[32m[I 2022-01-26 12:51:16,693]\u001b[0m Trial 131 finished with value: 0.3963470439520564 and parameters: {'rf_max_depth': 141, 'rf_min_samples_leaf': 62, 'min_samples_split': 58, 'rf_estimators': 104, 'rf_max_feats': 0.2122338857549306}. Best is trial 60 with value: 0.5281141274824366.\u001b[0m\n"
     ]
    },
    {
     "name": "stdout",
     "output_type": "stream",
     "text": [
      "MEAN TRAIN:  0.4716729247170502\n",
      "MEAN VALIDATION:  0.35644365322373295\n",
      "MEAN TEST 0.4490125824642601\n",
      "MEAN TRAIN:  0.3711796162279429\n",
      "MEAN VALIDATION:  0.2961957611087905\n",
      "MEAN TEST 0.3963470439520564\n"
     ]
    },
    {
     "name": "stderr",
     "output_type": "stream",
     "text": [
      "\u001b[32m[I 2022-01-26 12:51:19,224]\u001b[0m Trial 137 finished with value: 0.4169192604783161 and parameters: {'rf_max_depth': 19, 'rf_min_samples_leaf': 50, 'min_samples_split': 108, 'rf_estimators': 32, 'rf_max_feats': 0.22453522325468878}. Best is trial 60 with value: 0.5281141274824366.\u001b[0m\n"
     ]
    },
    {
     "name": "stdout",
     "output_type": "stream",
     "text": [
      "MEAN TRAIN:  0.40393747080583\n",
      "MEAN VALIDATION:  0.31852897618949483\n",
      "MEAN TEST 0.4169192604783161\n"
     ]
    },
    {
     "name": "stderr",
     "output_type": "stream",
     "text": [
      "\u001b[32m[I 2022-01-26 12:51:20,162]\u001b[0m Trial 129 finished with value: 0.4653826119984184 and parameters: {'rf_max_depth': 4, 'rf_min_samples_leaf': 27, 'min_samples_split': 62, 'rf_estimators': 90, 'rf_max_feats': 0.3048559791478397}. Best is trial 60 with value: 0.5281141274824366.\u001b[0m\n",
      "\u001b[32m[I 2022-01-26 12:51:20,200]\u001b[0m Trial 136 finished with value: 0.41208751544901767 and parameters: {'rf_max_depth': 69, 'rf_min_samples_leaf': 16, 'min_samples_split': 133, 'rf_estimators': 47, 'rf_max_feats': 0.3876852616803065}. Best is trial 60 with value: 0.5281141274824366.\u001b[0m\n"
     ]
    },
    {
     "name": "stdout",
     "output_type": "stream",
     "text": [
      "MEAN TRAIN:  0.4945541901608352\n",
      "MEAN VALIDATION:  0.3733980011250256\n",
      "MEAN TEST 0.4653826119984184\n",
      "MEAN TRAIN:  0.39087709697836504\n",
      "MEAN VALIDATION:  0.31272180161879204\n",
      "MEAN TEST 0.41208751544901767\n"
     ]
    },
    {
     "name": "stderr",
     "output_type": "stream",
     "text": [
      "\u001b[32m[I 2022-01-26 12:51:21,166]\u001b[0m Trial 133 finished with value: 0.40638436307889725 and parameters: {'rf_max_depth': 73, 'rf_min_samples_leaf': 59, 'min_samples_split': 25, 'rf_estimators': 121, 'rf_max_feats': 0.3079773382923694}. Best is trial 60 with value: 0.5281141274824366.\u001b[0m\n"
     ]
    },
    {
     "name": "stdout",
     "output_type": "stream",
     "text": [
      "MEAN TRAIN:  0.383707266263457\n",
      "MEAN VALIDATION:  0.3022591480193588\n",
      "MEAN TEST 0.40638436307889725\n"
     ]
    },
    {
     "name": "stderr",
     "output_type": "stream",
     "text": [
      "\u001b[32m[I 2022-01-26 12:51:21,995]\u001b[0m Trial 138 finished with value: 0.3867505296227563 and parameters: {'rf_max_depth': 90, 'rf_min_samples_leaf': 68, 'min_samples_split': 22, 'rf_estimators': 78, 'rf_max_feats': 0.24324609003632613}. Best is trial 60 with value: 0.5281141274824366.\u001b[0m\n"
     ]
    },
    {
     "name": "stdout",
     "output_type": "stream",
     "text": [
      "MEAN TRAIN:  0.3567911956223679\n",
      "MEAN VALIDATION:  0.28433039472124627\n",
      "MEAN TEST 0.3867505296227563\n"
     ]
    },
    {
     "name": "stderr",
     "output_type": "stream",
     "text": [
      "\u001b[32m[I 2022-01-26 12:51:22,299]\u001b[0m Trial 134 finished with value: 0.44307038583134145 and parameters: {'rf_max_depth': 149, 'rf_min_samples_leaf': 33, 'min_samples_split': 86, 'rf_estimators': 121, 'rf_max_feats': 0.24534907926792712}. Best is trial 60 with value: 0.5281141274824366.\u001b[0m\n"
     ]
    },
    {
     "name": "stdout",
     "output_type": "stream",
     "text": [
      "MEAN TRAIN:  0.45171581023784013\n",
      "MEAN VALIDATION:  0.34128727541627135\n",
      "MEAN TEST 0.44307038583134145\n"
     ]
    },
    {
     "name": "stderr",
     "output_type": "stream",
     "text": [
      "\u001b[32m[I 2022-01-26 12:51:23,542]\u001b[0m Trial 141 finished with value: 0.3881733899903314 and parameters: {'rf_max_depth': 43, 'rf_min_samples_leaf': 65, 'min_samples_split': 147, 'rf_estimators': 47, 'rf_max_feats': 0.2563660926824782}. Best is trial 60 with value: 0.5281141274824366.\u001b[0m\n"
     ]
    },
    {
     "name": "stdout",
     "output_type": "stream",
     "text": [
      "MEAN TRAIN:  0.35421026945123596\n",
      "MEAN VALIDATION:  0.2887122328410644\n",
      "MEAN TEST 0.3881733899903314\n"
     ]
    },
    {
     "name": "stderr",
     "output_type": "stream",
     "text": [
      "\u001b[32m[I 2022-01-26 12:51:24,034]\u001b[0m Trial 139 finished with value: 0.38344102238576283 and parameters: {'rf_max_depth': 14, 'rf_min_samples_leaf': 64, 'min_samples_split': 51, 'rf_estimators': 92, 'rf_max_feats': 0.13980273428374565}. Best is trial 60 with value: 0.5281141274824366.\u001b[0m\n",
      "\u001b[32m[I 2022-01-26 12:51:24,052]\u001b[0m Trial 145 finished with value: 0.39316744792548103 and parameters: {'rf_max_depth': 128, 'rf_min_samples_leaf': 56, 'min_samples_split': 19, 'rf_estimators': 6, 'rf_max_feats': 0.196612036370046}. Best is trial 60 with value: 0.5281141274824366.\u001b[0m\n"
     ]
    },
    {
     "name": "stdout",
     "output_type": "stream",
     "text": [
      "MEAN TRAIN:  0.35825064744613405\n",
      "MEAN VALIDATION:  0.2791685503028939\n",
      "MEAN TEST 0.38344102238576283\n",
      "MEAN TRAIN:  0.3697702934170969\n",
      "MEAN VALIDATION:  0.2941556743124705\n",
      "MEAN TEST 0.39316744792548103\n"
     ]
    },
    {
     "name": "stderr",
     "output_type": "stream",
     "text": [
      "\u001b[32m[I 2022-01-26 12:51:25,214]\u001b[0m Trial 146 finished with value: 0.38947917373395197 and parameters: {'rf_max_depth': 4, 'rf_min_samples_leaf': 54, 'min_samples_split': 36, 'rf_estimators': 17, 'rf_max_feats': 0.1607883529992318}. Best is trial 60 with value: 0.5281141274824366.\u001b[0m\n"
     ]
    },
    {
     "name": "stdout",
     "output_type": "stream",
     "text": [
      "MEAN TRAIN:  0.38211160724451804\n",
      "MEAN VALIDATION:  0.30074463399722084\n",
      "MEAN TEST 0.38947917373395197\n"
     ]
    },
    {
     "name": "stderr",
     "output_type": "stream",
     "text": [
      "\u001b[32m[I 2022-01-26 12:51:26,608]\u001b[0m Trial 140 finished with value: 0.4557757472737457 and parameters: {'rf_max_depth': 74, 'rf_min_samples_leaf': 30, 'min_samples_split': 71, 'rf_estimators': 44, 'rf_max_feats': 0.3841525176855}. Best is trial 60 with value: 0.5281141274824366.\u001b[0m\n"
     ]
    },
    {
     "name": "stdout",
     "output_type": "stream",
     "text": [
      "MEAN TRAIN:  0.48653172501087305\n",
      "MEAN VALIDATION:  0.3533083188687488\n",
      "MEAN TEST 0.4557757472737457\n"
     ]
    },
    {
     "name": "stderr",
     "output_type": "stream",
     "text": [
      "\u001b[32m[I 2022-01-26 12:51:28,074]\u001b[0m Trial 147 finished with value: 0.384640450889534 and parameters: {'rf_max_depth': 16, 'rf_min_samples_leaf': 66, 'min_samples_split': 38, 'rf_estimators': 67, 'rf_max_feats': 0.18027584725047166}. Best is trial 60 with value: 0.5281141274824366.\u001b[0m\n"
     ]
    },
    {
     "name": "stdout",
     "output_type": "stream",
     "text": [
      "MEAN TRAIN:  0.3579732173462168\n",
      "MEAN VALIDATION:  0.28118632081868544\n",
      "MEAN TEST 0.384640450889534\n"
     ]
    },
    {
     "name": "stderr",
     "output_type": "stream",
     "text": [
      "\u001b[32m[I 2022-01-26 12:51:28,399]\u001b[0m Trial 143 finished with value: 0.37319300458469695 and parameters: {'rf_max_depth': 144, 'rf_min_samples_leaf': 70, 'min_samples_split': 96, 'rf_estimators': 137, 'rf_max_feats': 0.1293763112422274}. Best is trial 60 with value: 0.5281141274824366.\u001b[0m\n"
     ]
    },
    {
     "name": "stdout",
     "output_type": "stream",
     "text": [
      "MEAN TRAIN:  0.34080684384669235\n",
      "MEAN VALIDATION:  0.27590283362116147\n",
      "MEAN TEST 0.37319300458469695\n"
     ]
    },
    {
     "name": "stderr",
     "output_type": "stream",
     "text": [
      "\u001b[32m[I 2022-01-26 12:51:31,330]\u001b[0m Trial 142 finished with value: 0.41302551804852017 and parameters: {'rf_max_depth': 91, 'rf_min_samples_leaf': 43, 'min_samples_split': 119, 'rf_estimators': 118, 'rf_max_feats': 0.28192789575558247}. Best is trial 60 with value: 0.5281141274824366.\u001b[0m\n"
     ]
    },
    {
     "name": "stdout",
     "output_type": "stream",
     "text": [
      "MEAN TRAIN:  0.39835318437673245\n",
      "MEAN VALIDATION:  0.30995942711677477\n",
      "MEAN TEST 0.41302551804852017\n"
     ]
    },
    {
     "name": "stderr",
     "output_type": "stream",
     "text": [
      "\u001b[32m[I 2022-01-26 12:51:32,589]\u001b[0m Trial 151 finished with value: 0.39507858092356063 and parameters: {'rf_max_depth': 48, 'rf_min_samples_leaf': 64, 'min_samples_split': 45, 'rf_estimators': 60, 'rf_max_feats': 0.23272775808754995}. Best is trial 60 with value: 0.5281141274824366.\u001b[0m\n",
      "\u001b[32m[I 2022-01-26 12:51:32,596]\u001b[0m Trial 144 finished with value: 0.4608953355004647 and parameters: {'rf_max_depth': 79, 'rf_min_samples_leaf': 30, 'min_samples_split': 22, 'rf_estimators': 76, 'rf_max_feats': 0.3313834776815173}. Best is trial 60 with value: 0.5281141274824366.\u001b[0m\n"
     ]
    },
    {
     "name": "stdout",
     "output_type": "stream",
     "text": [
      "MEAN TRAIN:  0.3646822050947575\n",
      "MEAN VALIDATION:  0.29467484406907907\n",
      "MEAN TEST 0.39507858092356063\n",
      "MEAN TRAIN:  0.49693038784336496\n",
      "MEAN VALIDATION:  0.3680518336411174\n",
      "MEAN TEST 0.4608953355004647\n"
     ]
    },
    {
     "name": "stderr",
     "output_type": "stream",
     "text": [
      "\u001b[32m[I 2022-01-26 12:51:32,995]\u001b[0m Trial 153 finished with value: 0.39428059398490045 and parameters: {'rf_max_depth': 91, 'rf_min_samples_leaf': 44, 'min_samples_split': 83, 'rf_estimators': 5, 'rf_max_feats': 0.10830541854570117}. Best is trial 60 with value: 0.5281141274824366.\u001b[0m\n"
     ]
    },
    {
     "name": "stdout",
     "output_type": "stream",
     "text": [
      "MEAN TRAIN:  0.388443182090809\n",
      "MEAN VALIDATION:  0.31389192123215515\n",
      "MEAN TEST 0.39428059398490045\n"
     ]
    },
    {
     "name": "stderr",
     "output_type": "stream",
     "text": [
      "\u001b[32m[I 2022-01-26 12:51:33,989]\u001b[0m Trial 155 finished with value: 0.3796577215863047 and parameters: {'rf_max_depth': 143, 'rf_min_samples_leaf': 78, 'min_samples_split': 126, 'rf_estimators': 11, 'rf_max_feats': 0.3612147355306841}. Best is trial 60 with value: 0.5281141274824366.\u001b[0m\n"
     ]
    },
    {
     "name": "stdout",
     "output_type": "stream",
     "text": [
      "MEAN TRAIN:  0.3417752802108498\n",
      "MEAN VALIDATION:  0.27323989305455465\n",
      "MEAN TEST 0.3796577215863047\n"
     ]
    },
    {
     "name": "stderr",
     "output_type": "stream",
     "text": [
      "\u001b[32m[I 2022-01-26 12:51:36,092]\u001b[0m Trial 149 finished with value: 0.39559582629245604 and parameters: {'rf_max_depth': 75, 'rf_min_samples_leaf': 47, 'min_samples_split': 150, 'rf_estimators': 102, 'rf_max_feats': 0.36044289443526467}. Best is trial 60 with value: 0.5281141274824366.\u001b[0m\n"
     ]
    },
    {
     "name": "stdout",
     "output_type": "stream",
     "text": [
      "MEAN TRAIN:  0.36855173697297855\n",
      "MEAN VALIDATION:  0.2931947736748527\n",
      "MEAN TEST 0.39559582629245604\n"
     ]
    },
    {
     "name": "stderr",
     "output_type": "stream",
     "text": [
      "\u001b[32m[I 2022-01-26 12:51:36,648]\u001b[0m Trial 148 finished with value: 0.4063444700077591 and parameters: {'rf_max_depth': 39, 'rf_min_samples_leaf': 56, 'min_samples_split': 104, 'rf_estimators': 149, 'rf_max_feats': 0.22285732708804165}. Best is trial 60 with value: 0.5281141274824366.\u001b[0m\n"
     ]
    },
    {
     "name": "stdout",
     "output_type": "stream",
     "text": [
      "MEAN TRAIN:  0.391050218711075\n",
      "MEAN VALIDATION:  0.3080195463182333\n",
      "MEAN TEST 0.4063444700077591\n"
     ]
    },
    {
     "name": "stderr",
     "output_type": "stream",
     "text": [
      "\u001b[32m[I 2022-01-26 12:51:38,729]\u001b[0m Trial 150 finished with value: 0.40165756599390895 and parameters: {'rf_max_depth': 66, 'rf_min_samples_leaf': 5, 'min_samples_split': 145, 'rf_estimators': 129, 'rf_max_feats': 0.2657838820335477}. Best is trial 60 with value: 0.5281141274824366.\u001b[0m\n"
     ]
    },
    {
     "name": "stdout",
     "output_type": "stream",
     "text": [
      "MEAN TRAIN:  0.3861379256720701\n",
      "MEAN VALIDATION:  0.30182688931844687\n",
      "MEAN TEST 0.40165756599390895\n"
     ]
    },
    {
     "name": "stderr",
     "output_type": "stream",
     "text": [
      "\u001b[32m[I 2022-01-26 12:51:40,544]\u001b[0m Trial 157 finished with value: 0.4124796265161586 and parameters: {'rf_max_depth': 110, 'rf_min_samples_leaf': 45, 'min_samples_split': 50, 'rf_estimators': 75, 'rf_max_feats': 0.11618473478270543}. Best is trial 60 with value: 0.5281141274824366.\u001b[0m\n"
     ]
    },
    {
     "name": "stdout",
     "output_type": "stream",
     "text": [
      "MEAN TRAIN:  0.41252217813480635\n",
      "MEAN VALIDATION:  0.32177846874885024\n",
      "MEAN TEST 0.4124796265161586\n"
     ]
    },
    {
     "name": "stderr",
     "output_type": "stream",
     "text": [
      "\u001b[32m[I 2022-01-26 12:51:41,270]\u001b[0m Trial 159 finished with value: 0.4284462571757757 and parameters: {'rf_max_depth': 113, 'rf_min_samples_leaf': 36, 'min_samples_split': 91, 'rf_estimators': 23, 'rf_max_feats': 0.22384960169408882}. Best is trial 60 with value: 0.5281141274824366.\u001b[0m\n"
     ]
    },
    {
     "name": "stdout",
     "output_type": "stream",
     "text": [
      "MEAN TRAIN:  0.437365378488645\n",
      "MEAN VALIDATION:  0.34386494889013325\n",
      "MEAN TEST 0.4284462571757757\n"
     ]
    },
    {
     "name": "stderr",
     "output_type": "stream",
     "text": [
      "\u001b[32m[I 2022-01-26 12:51:43,741]\u001b[0m Trial 156 finished with value: 0.4164704723749729 and parameters: {'rf_max_depth': 105, 'rf_min_samples_leaf': 45, 'min_samples_split': 121, 'rf_estimators': 81, 'rf_max_feats': 0.3786749284025983}. Best is trial 60 with value: 0.5281141274824366.\u001b[0m\n"
     ]
    },
    {
     "name": "stdout",
     "output_type": "stream",
     "text": [
      "MEAN TRAIN:  0.3972361309071267\n",
      "MEAN VALIDATION:  0.31252442506273564\n",
      "MEAN TEST 0.4164704723749729\n"
     ]
    },
    {
     "name": "stderr",
     "output_type": "stream",
     "text": [
      "\u001b[32m[I 2022-01-26 12:51:44,255]\u001b[0m Trial 154 finished with value: 0.5522924497637286 and parameters: {'rf_max_depth': 80, 'rf_min_samples_leaf': 1, 'min_samples_split': 12, 'rf_estimators': 39, 'rf_max_feats': 0.3044405652310468}. Best is trial 154 with value: 0.5522924497637286.\u001b[0m\n"
     ]
    },
    {
     "name": "stdout",
     "output_type": "stream",
     "text": [
      "MEAN TRAIN:  0.8500651984017452\n",
      "MEAN VALIDATION:  0.482792641929929\n",
      "MEAN TEST 0.5522924497637286\n"
     ]
    },
    {
     "name": "stderr",
     "output_type": "stream",
     "text": [
      "\u001b[32m[I 2022-01-26 12:51:45,698]\u001b[0m Trial 161 finished with value: 0.37254242932325615 and parameters: {'rf_max_depth': 60, 'rf_min_samples_leaf': 72, 'min_samples_split': 21, 'rf_estimators': 91, 'rf_max_feats': 0.13312632469756264}. Best is trial 154 with value: 0.5522924497637286.\u001b[0m\n"
     ]
    },
    {
     "name": "stdout",
     "output_type": "stream",
     "text": [
      "MEAN TRAIN:  0.3374582063148747\n",
      "MEAN VALIDATION:  0.2691633808344943\n",
      "MEAN TEST 0.37254242932325615\n"
     ]
    },
    {
     "name": "stderr",
     "output_type": "stream",
     "text": [
      "\u001b[32m[I 2022-01-26 12:51:46,230]\u001b[0m Trial 163 finished with value: 0.4148432302556417 and parameters: {'rf_max_depth': 63, 'rf_min_samples_leaf': 45, 'min_samples_split': 108, 'rf_estimators': 26, 'rf_max_feats': 0.189849027583611}. Best is trial 154 with value: 0.5522924497637286.\u001b[0m\n"
     ]
    },
    {
     "name": "stdout",
     "output_type": "stream",
     "text": [
      "MEAN TRAIN:  0.4013139776645758\n",
      "MEAN VALIDATION:  0.3159473798983633\n",
      "MEAN TEST 0.4148432302556417\n"
     ]
    },
    {
     "name": "stderr",
     "output_type": "stream",
     "text": [
      "\u001b[32m[I 2022-01-26 12:51:46,563]\u001b[0m Trial 152 finished with value: 0.42107859906186 and parameters: {'rf_max_depth': 54, 'rf_min_samples_leaf': 6, 'min_samples_split': 125, 'rf_estimators': 148, 'rf_max_feats': 0.2936477192105139}. Best is trial 154 with value: 0.5522924497637286.\u001b[0m\n"
     ]
    },
    {
     "name": "stdout",
     "output_type": "stream",
     "text": [
      "MEAN TRAIN:  0.41363383120156777\n",
      "MEAN VALIDATION:  0.31343932919786355\n",
      "MEAN TEST 0.42107859906186\n"
     ]
    },
    {
     "name": "stderr",
     "output_type": "stream",
     "text": [
      "\u001b[32m[I 2022-01-26 12:51:47,137]\u001b[0m Trial 162 finished with value: 0.36633843704503005 and parameters: {'rf_max_depth': 26, 'rf_min_samples_leaf': 70, 'min_samples_split': 126, 'rf_estimators': 81, 'rf_max_feats': 0.10335504501315433}. Best is trial 154 with value: 0.5522924497637286.\u001b[0m\n"
     ]
    },
    {
     "name": "stdout",
     "output_type": "stream",
     "text": [
      "MEAN TRAIN:  0.33676667430147467\n",
      "MEAN VALIDATION:  0.2721791454081574\n",
      "MEAN TEST 0.36633843704503005\n"
     ]
    },
    {
     "name": "stderr",
     "output_type": "stream",
     "text": [
      "\u001b[32m[I 2022-01-26 12:51:48,231]\u001b[0m Trial 158 finished with value: 0.4091134404084191 and parameters: {'rf_max_depth': 43, 'rf_min_samples_leaf': 57, 'min_samples_split': 126, 'rf_estimators': 105, 'rf_max_feats': 0.3839070119685698}. Best is trial 154 with value: 0.5522924497637286.\u001b[0m\n"
     ]
    },
    {
     "name": "stdout",
     "output_type": "stream",
     "text": [
      "MEAN TRAIN:  0.3830664626711394\n",
      "MEAN VALIDATION:  0.3027804567323191\n",
      "MEAN TEST 0.4091134404084191\n"
     ]
    },
    {
     "name": "stderr",
     "output_type": "stream",
     "text": [
      "\u001b[32m[I 2022-01-26 12:51:49,319]\u001b[0m Trial 160 finished with value: 0.4724276127819542 and parameters: {'rf_max_depth': 8, 'rf_min_samples_leaf': 21, 'min_samples_split': 41, 'rf_estimators': 86, 'rf_max_feats': 0.16084404747235123}. Best is trial 154 with value: 0.5522924497637286.\u001b[0m\n"
     ]
    },
    {
     "name": "stdout",
     "output_type": "stream",
     "text": [
      "MEAN TRAIN:  0.5340995760883482\n",
      "MEAN VALIDATION:  0.38502146250181435\n",
      "MEAN TEST 0.4724276127819542\n"
     ]
    },
    {
     "name": "stderr",
     "output_type": "stream",
     "text": [
      "\u001b[32m[I 2022-01-26 12:51:50,208]\u001b[0m Trial 167 finished with value: 0.38861549419609964 and parameters: {'rf_max_depth': 24, 'rf_min_samples_leaf': 60, 'min_samples_split': 75, 'rf_estimators': 67, 'rf_max_feats': 0.10720033645406868}. Best is trial 154 with value: 0.5522924497637286.\u001b[0m\n"
     ]
    },
    {
     "name": "stdout",
     "output_type": "stream",
     "text": [
      "MEAN TRAIN:  0.3618961300210691\n",
      "MEAN VALIDATION:  0.2883248680536391\n",
      "MEAN TEST 0.38861549419609964\n"
     ]
    },
    {
     "name": "stderr",
     "output_type": "stream",
     "text": [
      "\u001b[32m[I 2022-01-26 12:51:53,444]\u001b[0m Trial 169 finished with value: 0.3877915546220848 and parameters: {'rf_max_depth': 72, 'rf_min_samples_leaf': 63, 'min_samples_split': 120, 'rf_estimators': 78, 'rf_max_feats': 0.14923060063933677}. Best is trial 154 with value: 0.5522924497637286.\u001b[0m\n"
     ]
    },
    {
     "name": "stdout",
     "output_type": "stream",
     "text": [
      "MEAN TRAIN:  0.3594404700776369\n",
      "MEAN VALIDATION:  0.28142280826061955\n",
      "MEAN TEST 0.3877915546220848\n"
     ]
    },
    {
     "name": "stderr",
     "output_type": "stream",
     "text": [
      "\u001b[32m[I 2022-01-26 12:51:54,151]\u001b[0m Trial 170 finished with value: 0.40137086991869253 and parameters: {'rf_max_depth': 97, 'rf_min_samples_leaf': 52, 'min_samples_split': 47, 'rf_estimators': 74, 'rf_max_feats': 0.1172462515063761}. Best is trial 154 with value: 0.5522924497637286.\u001b[0m\n"
     ]
    },
    {
     "name": "stdout",
     "output_type": "stream",
     "text": [
      "MEAN TRAIN:  0.38908170527158886\n",
      "MEAN VALIDATION:  0.30576990587725544\n",
      "MEAN TEST 0.40137086991869253\n"
     ]
    },
    {
     "name": "stderr",
     "output_type": "stream",
     "text": [
      "\u001b[32m[I 2022-01-26 12:51:55,836]\u001b[0m Trial 165 finished with value: 0.40966560593234425 and parameters: {'rf_max_depth': 2, 'rf_min_samples_leaf': 7, 'min_samples_split': 26, 'rf_estimators': 127, 'rf_max_feats': 0.2450689733767801}. Best is trial 154 with value: 0.5522924497637286.\u001b[0m\n"
     ]
    },
    {
     "name": "stdout",
     "output_type": "stream",
     "text": [
      "MEAN TRAIN:  0.41279513521064193\n",
      "MEAN VALIDATION:  0.32279618334918886\n",
      "MEAN TEST 0.40966560593234425\n"
     ]
    },
    {
     "name": "stderr",
     "output_type": "stream",
     "text": [
      "\u001b[32m[I 2022-01-26 12:51:56,214]\u001b[0m Trial 164 finished with value: 0.4091575733146657 and parameters: {'rf_max_depth': 4, 'rf_min_samples_leaf': 61, 'min_samples_split': 57, 'rf_estimators': 107, 'rf_max_feats': 0.36415798697682195}. Best is trial 154 with value: 0.5522924497637286.\u001b[0m\n",
      "\u001b[32m[I 2022-01-26 12:51:56,332]\u001b[0m Trial 173 finished with value: 0.38367514585096985 and parameters: {'rf_max_depth': 122, 'rf_min_samples_leaf': 50, 'min_samples_split': 34, 'rf_estimators': 6, 'rf_max_feats': 0.1411940740905124}. Best is trial 154 with value: 0.5522924497637286.\u001b[0m\n"
     ]
    },
    {
     "name": "stdout",
     "output_type": "stream",
     "text": [
      "MEAN TRAIN:  0.38215917571788427\n",
      "MEAN VALIDATION:  0.2981292990083907\n",
      "MEAN TEST 0.4091575733146657\n",
      "MEAN TRAIN:  0.380721206761364\n",
      "MEAN VALIDATION:  0.3034589802799144\n",
      "MEAN TEST 0.38367514585096985\n"
     ]
    },
    {
     "name": "stderr",
     "output_type": "stream",
     "text": [
      "\u001b[32m[I 2022-01-26 12:51:57,243]\u001b[0m Trial 171 finished with value: 0.3819198411398509 and parameters: {'rf_max_depth': 90, 'rf_min_samples_leaf': 72, 'min_samples_split': 126, 'rf_estimators': 67, 'rf_max_feats': 0.18521880701469726}. Best is trial 154 with value: 0.5522924497637286.\u001b[0m\n"
     ]
    },
    {
     "name": "stdout",
     "output_type": "stream",
     "text": [
      "MEAN TRAIN:  0.3483361029664583\n",
      "MEAN VALIDATION:  0.2775756402356896\n",
      "MEAN TEST 0.3819198411398509\n"
     ]
    },
    {
     "name": "stderr",
     "output_type": "stream",
     "text": [
      "\u001b[32m[I 2022-01-26 12:51:58,632]\u001b[0m Trial 174 finished with value: 0.42327728991057223 and parameters: {'rf_max_depth': 29, 'rf_min_samples_leaf': 54, 'min_samples_split': 98, 'rf_estimators': 20, 'rf_max_feats': 0.38431797872017975}. Best is trial 154 with value: 0.5522924497637286.\u001b[0m\n"
     ]
    },
    {
     "name": "stdout",
     "output_type": "stream",
     "text": [
      "MEAN TRAIN:  0.39672996857837195\n",
      "MEAN VALIDATION:  0.3134050237443815\n",
      "MEAN TEST 0.42327728991057223\n"
     ]
    },
    {
     "name": "stderr",
     "output_type": "stream",
     "text": [
      "\u001b[32m[I 2022-01-26 12:51:59,106]\u001b[0m Trial 172 finished with value: 0.39555780802667995 and parameters: {'rf_max_depth': 15, 'rf_min_samples_leaf': 56, 'min_samples_split': 11, 'rf_estimators': 95, 'rf_max_feats': 0.12408770176174536}. Best is trial 154 with value: 0.5522924497637286.\u001b[0m\n",
      "\u001b[32m[I 2022-01-26 12:51:59,265]\u001b[0m Trial 177 finished with value: 0.3816884814346523 and parameters: {'rf_max_depth': 26, 'rf_min_samples_leaf': 70, 'min_samples_split': 67, 'rf_estimators': 8, 'rf_max_feats': 0.25878127601618506}. Best is trial 154 with value: 0.5522924497637286.\u001b[0m\n"
     ]
    },
    {
     "name": "stdout",
     "output_type": "stream",
     "text": [
      "MEAN TRAIN:  0.3761756107078835\n",
      "MEAN VALIDATION:  0.30566654556318473\n",
      "MEAN TEST 0.39555780802667995\n",
      "MEAN TRAIN:  0.34459400568529286\n",
      "MEAN VALIDATION:  0.2731505487956681\n",
      "MEAN TEST 0.3816884814346523\n"
     ]
    },
    {
     "name": "stderr",
     "output_type": "stream",
     "text": [
      "\u001b[32m[I 2022-01-26 12:52:00,440]\u001b[0m Trial 168 finished with value: 0.43716721028848904 and parameters: {'rf_max_depth': 3, 'rf_min_samples_leaf': 32, 'min_samples_split': 85, 'rf_estimators': 150, 'rf_max_feats': 0.20470129320391742}. Best is trial 154 with value: 0.5522924497637286.\u001b[0m\n"
     ]
    },
    {
     "name": "stdout",
     "output_type": "stream",
     "text": [
      "MEAN TRAIN:  0.44058398643567387\n",
      "MEAN VALIDATION:  0.34374764920263345\n",
      "MEAN TEST 0.43716721028848904\n"
     ]
    },
    {
     "name": "stderr",
     "output_type": "stream",
     "text": [
      "\u001b[32m[I 2022-01-26 12:52:01,738]\u001b[0m Trial 175 finished with value: 0.4043585523416203 and parameters: {'rf_max_depth': 28, 'rf_min_samples_leaf': 3, 'min_samples_split': 133, 'rf_estimators': 83, 'rf_max_feats': 0.18130334261547118}. Best is trial 154 with value: 0.5522924497637286.\u001b[0m\n"
     ]
    },
    {
     "name": "stdout",
     "output_type": "stream",
     "text": [
      "MEAN TRAIN:  0.3977171878691991\n",
      "MEAN VALIDATION:  0.30394617772019766\n",
      "MEAN TEST 0.4043585523416203\n"
     ]
    },
    {
     "name": "stderr",
     "output_type": "stream",
     "text": [
      "\u001b[32m[I 2022-01-26 12:52:04,091]\u001b[0m Trial 166 finished with value: 0.4709093897105897 and parameters: {'rf_max_depth': 131, 'rf_min_samples_leaf': 24, 'min_samples_split': 64, 'rf_estimators': 124, 'rf_max_feats': 0.36404608642785957}. Best is trial 154 with value: 0.5522924497637286.\u001b[0m\n"
     ]
    },
    {
     "name": "stdout",
     "output_type": "stream",
     "text": [
      "MEAN TRAIN:  0.5045539143804687\n",
      "MEAN VALIDATION:  0.37231486382229123\n",
      "MEAN TEST 0.4709093897105897\n"
     ]
    },
    {
     "name": "stderr",
     "output_type": "stream",
     "text": [
      "\u001b[32m[I 2022-01-26 12:52:07,090]\u001b[0m Trial 181 finished with value: 0.40714204736041043 and parameters: {'rf_max_depth': 47, 'rf_min_samples_leaf': 59, 'min_samples_split': 84, 'rf_estimators': 65, 'rf_max_feats': 0.2963694508574897}. Best is trial 154 with value: 0.5522924497637286.\u001b[0m\n"
     ]
    },
    {
     "name": "stdout",
     "output_type": "stream",
     "text": [
      "MEAN TRAIN:  0.38437162602460445\n",
      "MEAN VALIDATION:  0.30982255005722276\n",
      "MEAN TEST 0.40714204736041043\n"
     ]
    },
    {
     "name": "stderr",
     "output_type": "stream",
     "text": [
      "\u001b[32m[I 2022-01-26 12:52:07,833]\u001b[0m Trial 179 finished with value: 0.4599915160760923 and parameters: {'rf_max_depth': 139, 'rf_min_samples_leaf': 11, 'min_samples_split': 83, 'rf_estimators': 68, 'rf_max_feats': 0.3341816735844944}. Best is trial 154 with value: 0.5522924497637286.\u001b[0m\n"
     ]
    },
    {
     "name": "stdout",
     "output_type": "stream",
     "text": [
      "MEAN TRAIN:  0.4899419576729079\n",
      "MEAN VALIDATION:  0.36624816044694014\n",
      "MEAN TEST 0.4599915160760923\n"
     ]
    },
    {
     "name": "stderr",
     "output_type": "stream",
     "text": [
      "\u001b[32m[I 2022-01-26 12:52:08,516]\u001b[0m Trial 180 finished with value: 0.45241245850448786 and parameters: {'rf_max_depth': 116, 'rf_min_samples_leaf': 35, 'min_samples_split': 34, 'rf_estimators': 70, 'rf_max_feats': 0.3035446311843176}. Best is trial 154 with value: 0.5522924497637286.\u001b[0m\n"
     ]
    },
    {
     "name": "stdout",
     "output_type": "stream",
     "text": [
      "MEAN TRAIN:  0.4709130188367096\n",
      "MEAN VALIDATION:  0.36257207660706997\n",
      "MEAN TEST 0.45241245850448786\n"
     ]
    },
    {
     "name": "stderr",
     "output_type": "stream",
     "text": [
      "\u001b[32m[I 2022-01-26 12:52:09,049]\u001b[0m Trial 184 finished with value: 0.412159996489519 and parameters: {'rf_max_depth': 102, 'rf_min_samples_leaf': 20, 'min_samples_split': 104, 'rf_estimators': 16, 'rf_max_feats': 0.17938628313769953}. Best is trial 154 with value: 0.5522924497637286.\u001b[0m\n",
      "\u001b[32m[I 2022-01-26 12:52:09,195]\u001b[0m Trial 178 finished with value: 0.4148360475942766 and parameters: {'rf_max_depth': 106, 'rf_min_samples_leaf': 48, 'min_samples_split': 117, 'rf_estimators': 117, 'rf_max_feats': 0.30035587310057826}. Best is trial 154 with value: 0.5522924497637286.\u001b[0m\n"
     ]
    },
    {
     "name": "stdout",
     "output_type": "stream",
     "text": [
      "MEAN TRAIN:  0.4233709672736728\n",
      "MEAN VALIDATION:  0.3205649533021126\n",
      "MEAN TEST 0.412159996489519\n",
      "MEAN TRAIN:  0.3972782288258352\n",
      "MEAN VALIDATION:  0.31527154071224706\n",
      "MEAN TEST 0.4148360475942766\n"
     ]
    },
    {
     "name": "stderr",
     "output_type": "stream",
     "text": [
      "\u001b[32m[I 2022-01-26 12:52:12,960]\u001b[0m Trial 182 finished with value: 0.42852701779981733 and parameters: {'rf_max_depth': 64, 'rf_min_samples_leaf': 37, 'min_samples_split': 107, 'rf_estimators': 96, 'rf_max_feats': 0.29752892690851884}. Best is trial 154 with value: 0.5522924497637286.\u001b[0m\n",
      "\u001b[32m[I 2022-01-26 12:52:12,969]\u001b[0m Trial 183 finished with value: 0.4507074097643963 and parameters: {'rf_max_depth': 38, 'rf_min_samples_leaf': 30, 'min_samples_split': 14, 'rf_estimators': 78, 'rf_max_feats': 0.14684367747319815}. Best is trial 154 with value: 0.5522924497637286.\u001b[0m\n"
     ]
    },
    {
     "name": "stdout",
     "output_type": "stream",
     "text": [
      "MEAN TRAIN:  0.4222798539031312\n",
      "MEAN VALIDATION:  0.3263747160862275\n",
      "MEAN TEST 0.42852701779981733\n",
      "MEAN TRAIN:  0.47593431964735605\n",
      "MEAN VALIDATION:  0.3564653309167573\n",
      "MEAN TEST 0.4507074097643963\n"
     ]
    },
    {
     "name": "stderr",
     "output_type": "stream",
     "text": [
      "\u001b[32m[I 2022-01-26 12:52:13,267]\u001b[0m Trial 185 finished with value: 0.40008970036788083 and parameters: {'rf_max_depth': 7, 'rf_min_samples_leaf': 57, 'min_samples_split': 39, 'rf_estimators': 71, 'rf_max_feats': 0.19317826453170944}. Best is trial 154 with value: 0.5522924497637286.\u001b[0m\n"
     ]
    },
    {
     "name": "stdout",
     "output_type": "stream",
     "text": [
      "MEAN TRAIN:  0.38250632580281396\n",
      "MEAN VALIDATION:  0.2966482896743743\n",
      "MEAN TEST 0.40008970036788083\n"
     ]
    },
    {
     "name": "stderr",
     "output_type": "stream",
     "text": [
      "\u001b[32m[I 2022-01-26 12:52:15,708]\u001b[0m Trial 176 finished with value: 0.48904257876500096 and parameters: {'rf_max_depth': 95, 'rf_min_samples_leaf': 19, 'min_samples_split': 2, 'rf_estimators': 128, 'rf_max_feats': 0.29526048006823363}. Best is trial 154 with value: 0.5522924497637286.\u001b[0m\n",
      "\u001b[32m[I 2022-01-26 12:52:15,836]\u001b[0m Trial 187 finished with value: 0.42694833372601915 and parameters: {'rf_max_depth': 67, 'rf_min_samples_leaf': 18, 'min_samples_split': 104, 'rf_estimators': 112, 'rf_max_feats': 0.1328887953928784}. Best is trial 154 with value: 0.5522924497637286.\u001b[0m\n"
     ]
    },
    {
     "name": "stdout",
     "output_type": "stream",
     "text": [
      "MEAN TRAIN:  0.5672979022253523\n",
      "MEAN VALIDATION:  0.3981482147088579\n",
      "MEAN TEST 0.48904257876500096\n",
      "MEAN TRAIN:  0.42801952354090167\n",
      "MEAN VALIDATION:  0.32916059541359066\n",
      "MEAN TEST 0.42694833372601915\n"
     ]
    },
    {
     "name": "stderr",
     "output_type": "stream",
     "text": [
      "\u001b[32m[I 2022-01-26 12:52:18,106]\u001b[0m Trial 191 finished with value: 0.4897653935598328 and parameters: {'rf_max_depth': 33, 'rf_min_samples_leaf': 13, 'min_samples_split': 2, 'rf_estimators': 20, 'rf_max_feats': 0.17101719412170735}. Best is trial 154 with value: 0.5522924497637286.\u001b[0m\n"
     ]
    },
    {
     "name": "stdout",
     "output_type": "stream",
     "text": [
      "MEAN TRAIN:  0.6072953602213563\n",
      "MEAN VALIDATION:  0.40874530578247\n",
      "MEAN TEST 0.4897653935598328\n"
     ]
    },
    {
     "name": "stderr",
     "output_type": "stream",
     "text": [
      "\u001b[32m[I 2022-01-26 12:52:18,564]\u001b[0m Trial 186 finished with value: 0.3967634243686518 and parameters: {'rf_max_depth': 42, 'rf_min_samples_leaf': 45, 'min_samples_split': 147, 'rf_estimators': 114, 'rf_max_feats': 0.3343159541214414}. Best is trial 154 with value: 0.5522924497637286.\u001b[0m\n"
     ]
    },
    {
     "name": "stdout",
     "output_type": "stream",
     "text": [
      "MEAN TRAIN:  0.37185569555494546\n",
      "MEAN VALIDATION:  0.2944911503287651\n",
      "MEAN TEST 0.3967634243686518\n"
     ]
    },
    {
     "name": "stderr",
     "output_type": "stream",
     "text": [
      "\u001b[32m[I 2022-01-26 12:52:20,454]\u001b[0m Trial 189 finished with value: 0.42679975552556915 and parameters: {'rf_max_depth': 31, 'rf_min_samples_leaf': 39, 'min_samples_split': 64, 'rf_estimators': 130, 'rf_max_feats': 0.11765090363848593}. Best is trial 154 with value: 0.5522924497637286.\u001b[0m\n"
     ]
    },
    {
     "name": "stdout",
     "output_type": "stream",
     "text": [
      "MEAN TRAIN:  0.43172532055640006\n",
      "MEAN VALIDATION:  0.3348051251322083\n",
      "MEAN TEST 0.42679975552556915\n"
     ]
    },
    {
     "name": "stderr",
     "output_type": "stream",
     "text": [
      "\u001b[32m[I 2022-01-26 12:52:22,422]\u001b[0m Trial 188 finished with value: 0.39980447863712587 and parameters: {'rf_max_depth': 52, 'rf_min_samples_leaf': 49, 'min_samples_split': 140, 'rf_estimators': 101, 'rf_max_feats': 0.3825726445297472}. Best is trial 154 with value: 0.5522924497637286.\u001b[0m\n"
     ]
    },
    {
     "name": "stdout",
     "output_type": "stream",
     "text": [
      "MEAN TRAIN:  0.3752499447051861\n",
      "MEAN VALIDATION:  0.2880944183827996\n",
      "MEAN TEST 0.39980447863712587\n"
     ]
    },
    {
     "name": "stderr",
     "output_type": "stream",
     "text": [
      "\u001b[32m[I 2022-01-26 12:52:23,831]\u001b[0m Trial 195 finished with value: 0.4015883629383702 and parameters: {'rf_max_depth': 84, 'rf_min_samples_leaf': 39, 'min_samples_split': 130, 'rf_estimators': 49, 'rf_max_feats': 0.21344696362766355}. Best is trial 154 with value: 0.5522924497637286.\u001b[0m\n"
     ]
    },
    {
     "name": "stdout",
     "output_type": "stream",
     "text": [
      "MEAN TRAIN:  0.37969691593325816\n",
      "MEAN VALIDATION:  0.3016742883035052\n",
      "MEAN TEST 0.4015883629383702\n"
     ]
    },
    {
     "name": "stderr",
     "output_type": "stream",
     "text": [
      "\u001b[32m[I 2022-01-26 12:52:24,117]\u001b[0m Trial 192 finished with value: 0.44200447936505166 and parameters: {'rf_max_depth': 36, 'rf_min_samples_leaf': 32, 'min_samples_split': 15, 'rf_estimators': 132, 'rf_max_feats': 0.1169696631447995}. Best is trial 154 with value: 0.5522924497637286.\u001b[0m\n"
     ]
    },
    {
     "name": "stdout",
     "output_type": "stream",
     "text": [
      "MEAN TRAIN:  0.46090199538987653\n",
      "MEAN VALIDATION:  0.3502717284969221\n",
      "MEAN TEST 0.44200447936505166\n"
     ]
    },
    {
     "name": "stderr",
     "output_type": "stream",
     "text": [
      "\u001b[32m[I 2022-01-26 12:52:26,459]\u001b[0m Trial 197 finished with value: 0.4647553111542012 and parameters: {'rf_max_depth': 113, 'rf_min_samples_leaf': 1, 'min_samples_split': 72, 'rf_estimators': 28, 'rf_max_feats': 0.1582130310692979}. Best is trial 154 with value: 0.5522924497637286.\u001b[0m\n"
     ]
    },
    {
     "name": "stdout",
     "output_type": "stream",
     "text": [
      "MEAN TRAIN:  0.5610093031865948\n",
      "MEAN VALIDATION:  0.3832242742099128\n",
      "MEAN TEST 0.4647553111542012\n"
     ]
    },
    {
     "name": "stderr",
     "output_type": "stream",
     "text": [
      "\u001b[32m[I 2022-01-26 12:52:27,483]\u001b[0m Trial 198 finished with value: 0.5224036006362214 and parameters: {'rf_max_depth': 46, 'rf_min_samples_leaf': 9, 'min_samples_split': 7, 'rf_estimators': 25, 'rf_max_feats': 0.19413162457208868}. Best is trial 154 with value: 0.5522924497637286.\u001b[0m\n"
     ]
    },
    {
     "name": "stdout",
     "output_type": "stream",
     "text": [
      "MEAN TRAIN:  0.6783408456810986\n",
      "MEAN VALIDATION:  0.4203406485601775\n",
      "MEAN TEST 0.5224036006362214\n"
     ]
    },
    {
     "name": "stderr",
     "output_type": "stream",
     "text": [
      "\u001b[32m[I 2022-01-26 12:52:27,707]\u001b[0m Trial 200 finished with value: 0.33023275798222895 and parameters: {'rf_max_depth': 27, 'rf_min_samples_leaf': 74, 'min_samples_split': 15, 'rf_estimators': 3, 'rf_max_feats': 0.12904582392795558}. Best is trial 154 with value: 0.5522924497637286.\u001b[0m\n",
      "\u001b[32m[I 2022-01-26 12:52:27,872]\u001b[0m Trial 196 finished with value: 0.3766855028435134 and parameters: {'rf_max_depth': 145, 'rf_min_samples_leaf': 79, 'min_samples_split': 93, 'rf_estimators': 84, 'rf_max_feats': 0.2713307172012198}. Best is trial 154 with value: 0.5522924497637286.\u001b[0m\n"
     ]
    },
    {
     "name": "stdout",
     "output_type": "stream",
     "text": [
      "MEAN TRAIN:  0.29759523398108745\n",
      "MEAN VALIDATION:  0.22295425546320868\n",
      "MEAN TEST 0.33023275798222895\n",
      "MEAN TRAIN:  0.33923392103058825\n",
      "MEAN VALIDATION:  0.27296706074606003\n",
      "MEAN TEST 0.3766855028435134\n"
     ]
    },
    {
     "name": "stderr",
     "output_type": "stream",
     "text": [
      "\u001b[32m[I 2022-01-26 12:52:29,155]\u001b[0m Trial 194 finished with value: 0.4893973926019826 and parameters: {'rf_max_depth': 102, 'rf_min_samples_leaf': 6, 'min_samples_split': 59, 'rf_estimators': 83, 'rf_max_feats': 0.25157053002486407}. Best is trial 154 with value: 0.5522924497637286.\u001b[0m\n"
     ]
    },
    {
     "name": "stdout",
     "output_type": "stream",
     "text": [
      "MEAN TRAIN:  0.5646925096387967\n",
      "MEAN VALIDATION:  0.4005141680959604\n",
      "MEAN TEST 0.4893973926019826\n"
     ]
    },
    {
     "name": "stderr",
     "output_type": "stream",
     "text": [
      "\u001b[32m[I 2022-01-26 12:52:29,392]\u001b[0m Trial 190 finished with value: 0.4825965939250663 and parameters: {'rf_max_depth': 130, 'rf_min_samples_leaf': 4, 'min_samples_split': 72, 'rf_estimators': 143, 'rf_max_feats': 0.22871422589729562}. Best is trial 154 with value: 0.5522924497637286.\u001b[0m\n"
     ]
    },
    {
     "name": "stdout",
     "output_type": "stream",
     "text": [
      "MEAN TRAIN:  0.5456074621477743\n",
      "MEAN VALIDATION:  0.3912407769779811\n",
      "MEAN TEST 0.4825965939250663\n"
     ]
    },
    {
     "name": "stderr",
     "output_type": "stream",
     "text": [
      "\u001b[32m[I 2022-01-26 12:52:32,794]\u001b[0m Trial 203 finished with value: 0.37968489125282856 and parameters: {'rf_max_depth': 66, 'rf_min_samples_leaf': 79, 'min_samples_split': 19, 'rf_estimators': 48, 'rf_max_feats': 0.3273963261462674}. Best is trial 154 with value: 0.5522924497637286.\u001b[0m\n"
     ]
    },
    {
     "name": "stdout",
     "output_type": "stream",
     "text": [
      "MEAN TRAIN:  0.34318762832860583\n",
      "MEAN VALIDATION:  0.27520257154156885\n",
      "MEAN TEST 0.37968489125282856\n"
     ]
    },
    {
     "name": "stderr",
     "output_type": "stream",
     "text": [
      "\u001b[32m[I 2022-01-26 12:52:33,092]\u001b[0m Trial 199 finished with value: 0.4487254935397318 and parameters: {'rf_max_depth': 129, 'rf_min_samples_leaf': 32, 'min_samples_split': 62, 'rf_estimators': 75, 'rf_max_feats': 0.19112810641788142}. Best is trial 154 with value: 0.5522924497637286.\u001b[0m\n"
     ]
    },
    {
     "name": "stdout",
     "output_type": "stream",
     "text": [
      "MEAN TRAIN:  0.47206310599373624\n",
      "MEAN VALIDATION:  0.35550803801240494\n",
      "MEAN TEST 0.4487254935397318\n"
     ]
    },
    {
     "name": "stderr",
     "output_type": "stream",
     "text": [
      "\u001b[32m[I 2022-01-26 12:52:33,958]\u001b[0m Trial 193 finished with value: 0.4743943830091772 and parameters: {'rf_max_depth': 91, 'rf_min_samples_leaf': 19, 'min_samples_split': 55, 'rf_estimators': 149, 'rf_max_feats': 0.21898454056865116}. Best is trial 154 with value: 0.5522924497637286.\u001b[0m\n"
     ]
    },
    {
     "name": "stdout",
     "output_type": "stream",
     "text": [
      "MEAN TRAIN:  0.5250982859904475\n",
      "MEAN VALIDATION:  0.3802021535456898\n",
      "MEAN TEST 0.4743943830091772\n"
     ]
    },
    {
     "name": "stderr",
     "output_type": "stream",
     "text": [
      "\u001b[32m[I 2022-01-26 12:52:34,872]\u001b[0m Trial 202 finished with value: 0.37961138103015574 and parameters: {'rf_max_depth': 17, 'rf_min_samples_leaf': 77, 'min_samples_split': 79, 'rf_estimators': 104, 'rf_max_feats': 0.2502980299507227}. Best is trial 154 with value: 0.5522924497637286.\u001b[0m\n"
     ]
    },
    {
     "name": "stdout",
     "output_type": "stream",
     "text": [
      "MEAN TRAIN:  0.3424532037388791\n",
      "MEAN VALIDATION:  0.2741007429683529\n",
      "MEAN TEST 0.37961138103015574\n"
     ]
    },
    {
     "name": "stderr",
     "output_type": "stream",
     "text": [
      "\u001b[32m[I 2022-01-26 12:52:36,558]\u001b[0m Trial 204 finished with value: 0.4306676066139218 and parameters: {'rf_max_depth': 17, 'rf_min_samples_leaf': 2, 'min_samples_split': 109, 'rf_estimators': 120, 'rf_max_feats': 0.11272436586590792}. Best is trial 154 with value: 0.5522924497637286.\u001b[0m\n"
     ]
    },
    {
     "name": "stdout",
     "output_type": "stream",
     "text": [
      "MEAN TRAIN:  0.4457763030125378\n",
      "MEAN VALIDATION:  0.34185293219518753\n",
      "MEAN TEST 0.4306676066139218\n"
     ]
    },
    {
     "name": "stderr",
     "output_type": "stream",
     "text": [
      "\u001b[32m[I 2022-01-26 12:52:37,982]\u001b[0m Trial 207 finished with value: 0.43279847844311775 and parameters: {'rf_max_depth': 99, 'rf_min_samples_leaf': 30, 'min_samples_split': 97, 'rf_estimators': 44, 'rf_max_feats': 0.22674391882371772}. Best is trial 154 with value: 0.5522924497637286.\u001b[0m\n"
     ]
    },
    {
     "name": "stdout",
     "output_type": "stream",
     "text": [
      "MEAN TRAIN:  0.4373154588905571\n",
      "MEAN VALIDATION:  0.3310804653880862\n",
      "MEAN TEST 0.43279847844311775\n"
     ]
    },
    {
     "name": "stderr",
     "output_type": "stream",
     "text": [
      "\u001b[32m[I 2022-01-26 12:52:38,671]\u001b[0m Trial 201 finished with value: 0.43623891543232113 and parameters: {'rf_max_depth': 61, 'rf_min_samples_leaf': 43, 'min_samples_split': 100, 'rf_estimators': 91, 'rf_max_feats': 0.37035522298663875}. Best is trial 154 with value: 0.5522924497637286.\u001b[0m\n"
     ]
    },
    {
     "name": "stdout",
     "output_type": "stream",
     "text": [
      "MEAN TRAIN:  0.4318012296001646\n",
      "MEAN VALIDATION:  0.32957477631082577\n",
      "MEAN TEST 0.43623891543232113\n"
     ]
    },
    {
     "name": "stderr",
     "output_type": "stream",
     "text": [
      "\u001b[32m[I 2022-01-26 12:52:40,029]\u001b[0m Trial 210 finished with value: 0.4431043293788289 and parameters: {'rf_max_depth': 113, 'rf_min_samples_leaf': 36, 'min_samples_split': 71, 'rf_estimators': 19, 'rf_max_feats': 0.22384960169408882}. Best is trial 154 with value: 0.5522924497637286.\u001b[0m\n"
     ]
    },
    {
     "name": "stdout",
     "output_type": "stream",
     "text": [
      "MEAN TRAIN:  0.4550196994035026\n",
      "MEAN VALIDATION:  0.3497155772245707\n",
      "MEAN TEST 0.4431043293788289\n"
     ]
    },
    {
     "name": "stderr",
     "output_type": "stream",
     "text": [
      "\u001b[32m[I 2022-01-26 12:52:40,981]\u001b[0m Trial 206 finished with value: 0.3970250267647744 and parameters: {'rf_max_depth': 77, 'rf_min_samples_leaf': 5, 'min_samples_split': 149, 'rf_estimators': 101, 'rf_max_feats': 0.2606108157219618}. Best is trial 154 with value: 0.5522924497637286.\u001b[0m\n"
     ]
    },
    {
     "name": "stdout",
     "output_type": "stream",
     "text": [
      "MEAN TRAIN:  0.38010099589508434\n",
      "MEAN VALIDATION:  0.293823370806782\n",
      "MEAN TEST 0.3970250267647744\n"
     ]
    },
    {
     "name": "stderr",
     "output_type": "stream",
     "text": [
      "\u001b[32m[I 2022-01-26 12:52:43,385]\u001b[0m Trial 209 finished with value: 0.4016322235062383 and parameters: {'rf_max_depth': 41, 'rf_min_samples_leaf': 51, 'min_samples_split': 85, 'rf_estimators': 139, 'rf_max_feats': 0.10229773961391604}. Best is trial 154 with value: 0.5522924497637286.\u001b[0m\n"
     ]
    },
    {
     "name": "stdout",
     "output_type": "stream",
     "text": [
      "MEAN TRAIN:  0.39195574566668484\n",
      "MEAN VALIDATION:  0.30610379526777537\n",
      "MEAN TEST 0.4016322235062383\n"
     ]
    },
    {
     "name": "stderr",
     "output_type": "stream",
     "text": [
      "\u001b[32m[I 2022-01-26 12:52:43,660]\u001b[0m Trial 211 finished with value: 0.40119275612091954 and parameters: {'rf_max_depth': 4, 'rf_min_samples_leaf': 61, 'min_samples_split': 8, 'rf_estimators': 64, 'rf_max_feats': 0.26261310838608254}. Best is trial 154 with value: 0.5522924497637286.\u001b[0m\n"
     ]
    },
    {
     "name": "stdout",
     "output_type": "stream",
     "text": [
      "MEAN TRAIN:  0.3777069154593728\n",
      "MEAN VALIDATION:  0.29498149157961756\n",
      "MEAN TEST 0.40119275612091954\n"
     ]
    },
    {
     "name": "stderr",
     "output_type": "stream",
     "text": [
      "\u001b[32m[I 2022-01-26 12:52:43,957]\u001b[0m Trial 205 finished with value: 0.49885131016119544 and parameters: {'rf_max_depth': 108, 'rf_min_samples_leaf': 7, 'min_samples_split': 50, 'rf_estimators': 79, 'rf_max_feats': 0.24823792777759626}. Best is trial 154 with value: 0.5522924497637286.\u001b[0m\n"
     ]
    },
    {
     "name": "stdout",
     "output_type": "stream",
     "text": [
      "MEAN TRAIN:  0.5871882598489435\n",
      "MEAN VALIDATION:  0.4138153436498687\n",
      "MEAN TEST 0.49885131016119544\n"
     ]
    },
    {
     "name": "stderr",
     "output_type": "stream",
     "text": [
      "\u001b[32m[I 2022-01-26 12:52:45,685]\u001b[0m Trial 214 finished with value: 0.4147667738697132 and parameters: {'rf_max_depth': 29, 'rf_min_samples_leaf': 54, 'min_samples_split': 103, 'rf_estimators': 20, 'rf_max_feats': 0.3825041673834177}. Best is trial 154 with value: 0.5522924497637286.\u001b[0m\n"
     ]
    },
    {
     "name": "stdout",
     "output_type": "stream",
     "text": [
      "MEAN TRAIN:  0.3986232185278261\n",
      "MEAN VALIDATION:  0.3223386327085727\n",
      "MEAN TEST 0.4147667738697132\n"
     ]
    },
    {
     "name": "stderr",
     "output_type": "stream",
     "text": [
      "\u001b[32m[I 2022-01-26 12:52:46,281]\u001b[0m Trial 217 finished with value: 0.4276558132769049 and parameters: {'rf_max_depth': 93, 'rf_min_samples_leaf': 15, 'min_samples_split': 71, 'rf_estimators': 5, 'rf_max_feats': 0.20950434332899404}. Best is trial 154 with value: 0.5522924497637286.\u001b[0m\n"
     ]
    },
    {
     "name": "stdout",
     "output_type": "stream",
     "text": [
      "MEAN TRAIN:  0.4727470459902331\n",
      "MEAN VALIDATION:  0.3562622039999733\n",
      "MEAN TEST 0.4276558132769049\n"
     ]
    },
    {
     "name": "stderr",
     "output_type": "stream",
     "text": [
      "\u001b[32m[I 2022-01-26 12:52:46,602]\u001b[0m Trial 212 finished with value: 0.470821443619524 and parameters: {'rf_max_depth': 124, 'rf_min_samples_leaf': 19, 'min_samples_split': 7, 'rf_estimators': 87, 'rf_max_feats': 0.10665860038712986}. Best is trial 154 with value: 0.5522924497637286.\u001b[0m\n"
     ]
    },
    {
     "name": "stdout",
     "output_type": "stream",
     "text": [
      "MEAN TRAIN:  0.5368786713531062\n",
      "MEAN VALIDATION:  0.38604643776190006\n",
      "MEAN TEST 0.470821443619524\n"
     ]
    },
    {
     "name": "stderr",
     "output_type": "stream",
     "text": [
      "\u001b[32m[I 2022-01-26 12:52:46,922]\u001b[0m Trial 215 finished with value: 0.4162075092807944 and parameters: {'rf_max_depth': 71, 'rf_min_samples_leaf': 6, 'min_samples_split': 122, 'rf_estimators': 52, 'rf_max_feats': 0.14647899945910198}. Best is trial 154 with value: 0.5522924497637286.\u001b[0m\n"
     ]
    },
    {
     "name": "stdout",
     "output_type": "stream",
     "text": [
      "MEAN TRAIN:  0.41311090525879424\n",
      "MEAN VALIDATION:  0.3207071513469337\n",
      "MEAN TEST 0.4162075092807944\n"
     ]
    },
    {
     "name": "stderr",
     "output_type": "stream",
     "text": [
      "\u001b[32m[I 2022-01-26 12:52:49,441]\u001b[0m Trial 216 finished with value: 0.3922715466571197 and parameters: {'rf_max_depth': 19, 'rf_min_samples_leaf': 47, 'min_samples_split': 150, 'rf_estimators': 62, 'rf_max_feats': 0.36044289443526467}. Best is trial 154 with value: 0.5522924497637286.\u001b[0m\n"
     ]
    },
    {
     "name": "stdout",
     "output_type": "stream",
     "text": [
      "MEAN TRAIN:  0.37130529332016626\n",
      "MEAN VALIDATION:  0.2818342837977739\n",
      "MEAN TEST 0.3922715466571197\n"
     ]
    },
    {
     "name": "stderr",
     "output_type": "stream",
     "text": [
      "\u001b[32m[I 2022-01-26 12:52:52,104]\u001b[0m Trial 213 finished with value: 0.441927524024479 and parameters: {'rf_max_depth': 48, 'rf_min_samples_leaf': 35, 'min_samples_split': 82, 'rf_estimators': 147, 'rf_max_feats': 0.17977196154488673}. Best is trial 154 with value: 0.5522924497637286.\u001b[0m\n"
     ]
    },
    {
     "name": "stdout",
     "output_type": "stream",
     "text": [
      "MEAN TRAIN:  0.44766179944735035\n",
      "MEAN VALIDATION:  0.34944517799792285\n",
      "MEAN TEST 0.441927524024479\n"
     ]
    },
    {
     "name": "stderr",
     "output_type": "stream",
     "text": [
      "\u001b[32m[I 2022-01-26 12:52:52,753]\u001b[0m Trial 221 finished with value: 0.4478503524704083 and parameters: {'rf_max_depth': 9, 'rf_min_samples_leaf': 32, 'min_samples_split': 72, 'rf_estimators': 38, 'rf_max_feats': 0.19560160860771114}. Best is trial 154 with value: 0.5522924497637286.\u001b[0m\n"
     ]
    },
    {
     "name": "stdout",
     "output_type": "stream",
     "text": [
      "MEAN TRAIN:  0.46190195488392255\n",
      "MEAN VALIDATION:  0.3428848897108098\n",
      "MEAN TEST 0.4478503524704083\n"
     ]
    },
    {
     "name": "stderr",
     "output_type": "stream",
     "text": [
      "\u001b[32m[I 2022-01-26 12:52:53,820]\u001b[0m Trial 208 finished with value: 0.4768270937318245 and parameters: {'rf_max_depth': 19, 'rf_min_samples_leaf': 5, 'min_samples_split': 79, 'rf_estimators': 140, 'rf_max_feats': 0.319134732860408}. Best is trial 154 with value: 0.5522924497637286.\u001b[0m\n"
     ]
    },
    {
     "name": "stdout",
     "output_type": "stream",
     "text": [
      "MEAN TRAIN:  0.5248210629653278\n",
      "MEAN VALIDATION:  0.38542662748483436\n",
      "MEAN TEST 0.4768270937318245\n"
     ]
    },
    {
     "name": "stderr",
     "output_type": "stream",
     "text": [
      "\u001b[32m[I 2022-01-26 12:52:54,161]\u001b[0m Trial 218 finished with value: 0.43422826498170564 and parameters: {'rf_max_depth': 70, 'rf_min_samples_leaf': 11, 'min_samples_split': 110, 'rf_estimators': 80, 'rf_max_feats': 0.29188749267317665}. Best is trial 154 with value: 0.5522924497637286.\u001b[0m\n"
     ]
    },
    {
     "name": "stdout",
     "output_type": "stream",
     "text": [
      "MEAN TRAIN:  0.43326493266479316\n",
      "MEAN VALIDATION:  0.3359654442615433\n",
      "MEAN TEST 0.43422826498170564\n"
     ]
    },
    {
     "name": "stderr",
     "output_type": "stream",
     "text": [
      "\u001b[32m[I 2022-01-26 12:52:54,594]\u001b[0m Trial 219 finished with value: 0.396840279879232 and parameters: {'rf_max_depth': 76, 'rf_min_samples_leaf': 32, 'min_samples_split': 128, 'rf_estimators': 150, 'rf_max_feats': 0.14684367747319815}. Best is trial 154 with value: 0.5522924497637286.\u001b[0m\n"
     ]
    },
    {
     "name": "stdout",
     "output_type": "stream",
     "text": [
      "MEAN TRAIN:  0.3800337151681066\n",
      "MEAN VALIDATION:  0.29782787231146574\n",
      "MEAN TEST 0.396840279879232\n"
     ]
    },
    {
     "name": "stderr",
     "output_type": "stream",
     "text": [
      "\u001b[32m[I 2022-01-26 12:52:59,072]\u001b[0m Trial 220 finished with value: 0.3933068378994923 and parameters: {'rf_max_depth': 122, 'rf_min_samples_leaf': 60, 'min_samples_split': 137, 'rf_estimators': 144, 'rf_max_feats': 0.3352194616470768}. Best is trial 154 with value: 0.5522924497637286.\u001b[0m\n",
      "\u001b[32m[I 2022-01-26 12:52:59,212]\u001b[0m Trial 222 finished with value: 0.4150791932742125 and parameters: {'rf_max_depth': 84, 'rf_min_samples_leaf': 53, 'min_samples_split': 62, 'rf_estimators': 89, 'rf_max_feats': 0.24227246123734547}. Best is trial 154 with value: 0.5522924497637286.\u001b[0m\n"
     ]
    },
    {
     "name": "stdout",
     "output_type": "stream",
     "text": [
      "MEAN TRAIN:  0.3685493385264052\n",
      "MEAN VALIDATION:  0.2923940855398256\n",
      "MEAN TEST 0.3933068378994923\n",
      "MEAN TRAIN:  0.4042847925788678\n",
      "MEAN VALIDATION:  0.32232314417775987\n",
      "MEAN TEST 0.4150791932742125\n"
     ]
    },
    {
     "name": "stderr",
     "output_type": "stream",
     "text": [
      "\u001b[32m[I 2022-01-26 12:52:59,977]\u001b[0m Trial 228 finished with value: 0.36044968119790577 and parameters: {'rf_max_depth': 40, 'rf_min_samples_leaf': 63, 'min_samples_split': 75, 'rf_estimators': 14, 'rf_max_feats': 0.10703427220815187}. Best is trial 154 with value: 0.5522924497637286.\u001b[0m\n"
     ]
    },
    {
     "name": "stdout",
     "output_type": "stream",
     "text": [
      "MEAN TRAIN:  0.3393995553624989\n",
      "MEAN VALIDATION:  0.2648815577242426\n",
      "MEAN TEST 0.36044968119790577\n"
     ]
    },
    {
     "name": "stderr",
     "output_type": "stream",
     "text": [
      "\u001b[32m[I 2022-01-26 12:53:00,362]\u001b[0m Trial 225 finished with value: 0.4708961037556631 and parameters: {'rf_max_depth': 148, 'rf_min_samples_leaf': 6, 'min_samples_split': 59, 'rf_estimators': 83, 'rf_max_feats': 0.10863973642353174}. Best is trial 154 with value: 0.5522924497637286.\u001b[0m\n"
     ]
    },
    {
     "name": "stdout",
     "output_type": "stream",
     "text": [
      "MEAN TRAIN:  0.5450724244633919\n",
      "MEAN VALIDATION:  0.3881164104114355\n",
      "MEAN TEST 0.4708961037556631\n"
     ]
    },
    {
     "name": "stderr",
     "output_type": "stream",
     "text": [
      "\u001b[32m[I 2022-01-26 12:53:00,732]\u001b[0m Trial 224 finished with value: 0.39030148995512715 and parameters: {'rf_max_depth': 91, 'rf_min_samples_leaf': 69, 'min_samples_split': 106, 'rf_estimators': 101, 'rf_max_feats': 0.2606108157219618}. Best is trial 154 with value: 0.5522924497637286.\u001b[0m\n"
     ]
    },
    {
     "name": "stdout",
     "output_type": "stream",
     "text": [
      "MEAN TRAIN:  0.35654526405550857\n",
      "MEAN VALIDATION:  0.2832672401399196\n",
      "MEAN TEST 0.39030148995512715\n"
     ]
    },
    {
     "name": "stderr",
     "output_type": "stream",
     "text": [
      "\u001b[32m[I 2022-01-26 12:53:02,530]\u001b[0m Trial 227 finished with value: 0.38296179322291624 and parameters: {'rf_max_depth': 3, 'rf_min_samples_leaf': 71, 'min_samples_split': 117, 'rf_estimators': 50, 'rf_max_feats': 0.2239397339722947}. Best is trial 154 with value: 0.5522924497637286.\u001b[0m\n"
     ]
    },
    {
     "name": "stdout",
     "output_type": "stream",
     "text": [
      "MEAN TRAIN:  0.3525783764155293\n",
      "MEAN VALIDATION:  0.28108583339992943\n",
      "MEAN TEST 0.38296179322291624\n"
     ]
    },
    {
     "name": "stderr",
     "output_type": "stream",
     "text": [
      "\u001b[32m[I 2022-01-26 12:53:02,945]\u001b[0m Trial 226 finished with value: 0.4503105358030049 and parameters: {'rf_max_depth': 40, 'rf_min_samples_leaf': 35, 'min_samples_split': 75, 'rf_estimators': 70, 'rf_max_feats': 0.3071053155272198}. Best is trial 154 with value: 0.5522924497637286.\u001b[0m\n"
     ]
    },
    {
     "name": "stdout",
     "output_type": "stream",
     "text": [
      "MEAN TRAIN:  0.4655574626384821\n",
      "MEAN VALIDATION:  0.3525859596358917\n",
      "MEAN TEST 0.4503105358030049\n"
     ]
    },
    {
     "name": "stderr",
     "output_type": "stream",
     "text": [
      "\u001b[32m[I 2022-01-26 12:53:04,558]\u001b[0m Trial 229 finished with value: 0.39941868547461706 and parameters: {'rf_max_depth': 13, 'rf_min_samples_leaf': 47, 'min_samples_split': 142, 'rf_estimators': 49, 'rf_max_feats': 0.31281730000824953}. Best is trial 154 with value: 0.5522924497637286.\u001b[0m\n"
     ]
    },
    {
     "name": "stdout",
     "output_type": "stream",
     "text": [
      "MEAN TRAIN:  0.37767998806407116\n",
      "MEAN VALIDATION:  0.29334955380898053\n",
      "MEAN TEST 0.39941868547461706\n"
     ]
    },
    {
     "name": "stderr",
     "output_type": "stream",
     "text": [
      "\u001b[32m[I 2022-01-26 12:53:08,381]\u001b[0m Trial 232 finished with value: 0.44836612601791764 and parameters: {'rf_max_depth': 38, 'rf_min_samples_leaf': 30, 'min_samples_split': 14, 'rf_estimators': 78, 'rf_max_feats': 0.13252611829437114}. Best is trial 154 with value: 0.5522924497637286.\u001b[0m\n"
     ]
    },
    {
     "name": "stdout",
     "output_type": "stream",
     "text": [
      "MEAN TRAIN:  0.4728484633975013\n",
      "MEAN VALIDATION:  0.3519832110124682\n",
      "MEAN TEST 0.44836612601791764\n"
     ]
    },
    {
     "name": "stderr",
     "output_type": "stream",
     "text": [
      "\u001b[32m[I 2022-01-26 12:53:08,763]\u001b[0m Trial 231 finished with value: 0.36957245058424454 and parameters: {'rf_max_depth': 3, 'rf_min_samples_leaf': 80, 'min_samples_split': 13, 'rf_estimators': 150, 'rf_max_feats': 0.18167963351070876}. Best is trial 154 with value: 0.5522924497637286.\u001b[0m\n"
     ]
    },
    {
     "name": "stdout",
     "output_type": "stream",
     "text": [
      "MEAN TRAIN:  0.3332084843052339\n",
      "MEAN VALIDATION:  0.2680314835684152\n",
      "MEAN TEST 0.36957245058424454\n"
     ]
    },
    {
     "name": "stderr",
     "output_type": "stream",
     "text": [
      "\u001b[32m[I 2022-01-26 12:53:09,950]\u001b[0m Trial 223 finished with value: 0.48434235589473396 and parameters: {'rf_max_depth': 137, 'rf_min_samples_leaf': 20, 'min_samples_split': 9, 'rf_estimators': 142, 'rf_max_feats': 0.22703744150321095}. Best is trial 154 with value: 0.5522924497637286.\u001b[0m\n"
     ]
    },
    {
     "name": "stdout",
     "output_type": "stream",
     "text": [
      "MEAN TRAIN:  0.5532982323239717\n",
      "MEAN VALIDATION:  0.3948241723501138\n",
      "MEAN TEST 0.48434235589473396\n"
     ]
    },
    {
     "name": "stderr",
     "output_type": "stream",
     "text": [
      "\u001b[32m[I 2022-01-26 12:53:10,408]\u001b[0m Trial 230 finished with value: 0.4073126922532436 and parameters: {'rf_max_depth': 132, 'rf_min_samples_leaf': 56, 'min_samples_split': 119, 'rf_estimators': 123, 'rf_max_feats': 0.25420884573348834}. Best is trial 154 with value: 0.5522924497637286.\u001b[0m\n",
      "\u001b[32m[I 2022-01-26 12:53:10,509]\u001b[0m Trial 233 finished with value: 0.4082434778575367 and parameters: {'rf_max_depth': 105, 'rf_min_samples_leaf': 45, 'min_samples_split': 121, 'rf_estimators': 108, 'rf_max_feats': 0.21206184990702778}. Best is trial 154 with value: 0.5522924497637286.\u001b[0m\n"
     ]
    },
    {
     "name": "stdout",
     "output_type": "stream",
     "text": [
      "MEAN TRAIN:  0.3850580784202471\n",
      "MEAN VALIDATION:  0.304348621129822\n",
      "MEAN TEST 0.4073126922532436\n",
      "MEAN TRAIN:  0.3927333520260187\n",
      "MEAN VALIDATION:  0.3088288240907566\n",
      "MEAN TEST 0.4082434778575367\n"
     ]
    },
    {
     "name": "stderr",
     "output_type": "stream",
     "text": [
      "\u001b[32m[I 2022-01-26 12:53:10,811]\u001b[0m Trial 237 finished with value: 0.4279717314950938 and parameters: {'rf_max_depth': 116, 'rf_min_samples_leaf': 35, 'min_samples_split': 34, 'rf_estimators': 7, 'rf_max_feats': 0.25884420142187625}. Best is trial 154 with value: 0.5522924497637286.\u001b[0m\n"
     ]
    },
    {
     "name": "stdout",
     "output_type": "stream",
     "text": [
      "MEAN TRAIN:  0.4505330599125335\n",
      "MEAN VALIDATION:  0.3392246078502925\n",
      "MEAN TEST 0.4279717314950938\n"
     ]
    },
    {
     "name": "stderr",
     "output_type": "stream",
     "text": [
      "\u001b[32m[I 2022-01-26 12:53:11,647]\u001b[0m Trial 240 finished with value: 0.42048889834738307 and parameters: {'rf_max_depth': 124, 'rf_min_samples_leaf': 35, 'min_samples_split': 76, 'rf_estimators': 12, 'rf_max_feats': 0.1301654471176484}. Best is trial 154 with value: 0.5522924497637286.\u001b[0m\n"
     ]
    },
    {
     "name": "stdout",
     "output_type": "stream",
     "text": [
      "MEAN TRAIN:  0.4366993552242072\n",
      "MEAN VALIDATION:  0.321551508801678\n",
      "MEAN TEST 0.42048889834738307\n"
     ]
    },
    {
     "name": "stderr",
     "output_type": "stream",
     "text": [
      "\u001b[32m[I 2022-01-26 12:53:11,960]\u001b[0m Trial 239 finished with value: 0.41484164779242727 and parameters: {'rf_max_depth': 95, 'rf_min_samples_leaf': 31, 'min_samples_split': 106, 'rf_estimators': 14, 'rf_max_feats': 0.29526048006823363}. Best is trial 154 with value: 0.5522924497637286.\u001b[0m\n"
     ]
    },
    {
     "name": "stdout",
     "output_type": "stream",
     "text": [
      "MEAN TRAIN:  0.4205073570475807\n",
      "MEAN VALIDATION:  0.3284496286577576\n",
      "MEAN TEST 0.41484164779242727\n"
     ]
    },
    {
     "name": "stderr",
     "output_type": "stream",
     "text": [
      "\u001b[32m[I 2022-01-26 12:53:13,383]\u001b[0m Trial 238 finished with value: 0.4550854113014043 and parameters: {'rf_max_depth': 63, 'rf_min_samples_leaf': 5, 'min_samples_split': 80, 'rf_estimators': 41, 'rf_max_feats': 0.1223807646517333}. Best is trial 154 with value: 0.5522924497637286.\u001b[0m\n"
     ]
    },
    {
     "name": "stdout",
     "output_type": "stream",
     "text": [
      "MEAN TRAIN:  0.4958705789040552\n",
      "MEAN VALIDATION:  0.36350298364975203\n",
      "MEAN TEST 0.4550854113014043\n"
     ]
    },
    {
     "name": "stderr",
     "output_type": "stream",
     "text": [
      "\u001b[32m[I 2022-01-26 12:53:14,908]\u001b[0m Trial 234 finished with value: 0.4321694277500085 and parameters: {'rf_max_depth': 136, 'rf_min_samples_leaf': 19, 'min_samples_split': 107, 'rf_estimators': 130, 'rf_max_feats': 0.21081860894120014}. Best is trial 154 with value: 0.5522924497637286.\u001b[0m\n"
     ]
    },
    {
     "name": "stdout",
     "output_type": "stream",
     "text": [
      "MEAN TRAIN:  0.4317306738695338\n",
      "MEAN VALIDATION:  0.3334075773770495\n",
      "MEAN TEST 0.4321694277500085\n"
     ]
    },
    {
     "name": "stderr",
     "output_type": "stream",
     "text": [
      "\u001b[32m[I 2022-01-26 12:53:17,049]\u001b[0m Trial 242 finished with value: 0.4565198807783589 and parameters: {'rf_max_depth': 39, 'rf_min_samples_leaf': 30, 'min_samples_split': 12, 'rf_estimators': 49, 'rf_max_feats': 0.23068739276242153}. Best is trial 154 with value: 0.5522924497637286.\u001b[0m\n"
     ]
    },
    {
     "name": "stdout",
     "output_type": "stream",
     "text": [
      "MEAN TRAIN:  0.4866809957400816\n",
      "MEAN VALIDATION:  0.35764286837463444\n",
      "MEAN TEST 0.4565198807783589\n"
     ]
    },
    {
     "name": "stderr",
     "output_type": "stream",
     "text": [
      "\u001b[32m[I 2022-01-26 12:53:17,341]\u001b[0m Trial 241 finished with value: 0.3993165708279173 and parameters: {'rf_max_depth': 145, 'rf_min_samples_leaf': 49, 'min_samples_split': 123, 'rf_estimators': 102, 'rf_max_feats': 0.14747463459583157}. Best is trial 154 with value: 0.5522924497637286.\u001b[0m\n"
     ]
    },
    {
     "name": "stdout",
     "output_type": "stream",
     "text": [
      "MEAN TRAIN:  0.3789138792546069\n",
      "MEAN VALIDATION:  0.29936695239261335\n",
      "MEAN TEST 0.3993165708279173\n"
     ]
    },
    {
     "name": "stderr",
     "output_type": "stream",
     "text": [
      "\u001b[32m[I 2022-01-26 12:53:17,666]\u001b[0m Trial 235 finished with value: 0.4795080396959692 and parameters: {'rf_max_depth': 79, 'rf_min_samples_leaf': 17, 'min_samples_split': 58, 'rf_estimators': 58, 'rf_max_feats': 0.37035522298663875}. Best is trial 154 with value: 0.5522924497637286.\u001b[0m\n"
     ]
    },
    {
     "name": "stdout",
     "output_type": "stream",
     "text": [
      "MEAN TRAIN:  0.5308353347083179\n",
      "MEAN VALIDATION:  0.37691254367821725\n",
      "MEAN TEST 0.4795080396959692\n"
     ]
    },
    {
     "name": "stderr",
     "output_type": "stream",
     "text": [
      "\u001b[32m[I 2022-01-26 12:53:19,010]\u001b[0m Trial 236 finished with value: 0.45853348173733083 and parameters: {'rf_max_depth': 78, 'rf_min_samples_leaf': 34, 'min_samples_split': 41, 'rf_estimators': 86, 'rf_max_feats': 0.29526048006823363}. Best is trial 154 with value: 0.5522924497637286.\u001b[0m\n"
     ]
    },
    {
     "name": "stdout",
     "output_type": "stream",
     "text": [
      "MEAN TRAIN:  0.4751482032577094\n",
      "MEAN VALIDATION:  0.3598490207483582\n",
      "MEAN TEST 0.45853348173733083\n"
     ]
    },
    {
     "name": "stderr",
     "output_type": "stream",
     "text": [
      "\u001b[32m[I 2022-01-26 12:53:20,228]\u001b[0m Trial 246 finished with value: 0.4147429891066265 and parameters: {'rf_max_depth': 91, 'rf_min_samples_leaf': 44, 'min_samples_split': 83, 'rf_estimators': 52, 'rf_max_feats': 0.11862222863278177}. Best is trial 154 with value: 0.5522924497637286.\u001b[0m\n"
     ]
    },
    {
     "name": "stdout",
     "output_type": "stream",
     "text": [
      "MEAN TRAIN:  0.4147953355647737\n",
      "MEAN VALIDATION:  0.3198795797382976\n",
      "MEAN TEST 0.4147429891066265\n"
     ]
    },
    {
     "name": "stderr",
     "output_type": "stream",
     "text": [
      "\u001b[32m[I 2022-01-26 12:53:22,310]\u001b[0m Trial 243 finished with value: 0.4543686464154309 and parameters: {'rf_max_depth': 106, 'rf_min_samples_leaf': 18, 'min_samples_split': 71, 'rf_estimators': 126, 'rf_max_feats': 0.1328887953928784}. Best is trial 154 with value: 0.5522924497637286.\u001b[0m\n"
     ]
    },
    {
     "name": "stdout",
     "output_type": "stream",
     "text": [
      "MEAN TRAIN:  0.4811887941128637\n",
      "MEAN VALIDATION:  0.35895562352260263\n",
      "MEAN TEST 0.4543686464154309\n"
     ]
    },
    {
     "name": "stderr",
     "output_type": "stream",
     "text": [
      "\u001b[32m[I 2022-01-26 12:53:24,359]\u001b[0m Trial 244 finished with value: 0.45937074803220446 and parameters: {'rf_max_depth': 124, 'rf_min_samples_leaf': 30, 'min_samples_split': 71, 'rf_estimators': 72, 'rf_max_feats': 0.35078484174284874}. Best is trial 154 with value: 0.5522924497637286.\u001b[0m\n"
     ]
    },
    {
     "name": "stdout",
     "output_type": "stream",
     "text": [
      "MEAN TRAIN:  0.48343702316092096\n",
      "MEAN VALIDATION:  0.3657255655528247\n",
      "MEAN TEST 0.45937074803220446\n"
     ]
    },
    {
     "name": "stderr",
     "output_type": "stream",
     "text": [
      "\u001b[32m[I 2022-01-26 12:53:25,556]\u001b[0m Trial 251 finished with value: 0.4198032221106005 and parameters: {'rf_max_depth': 137, 'rf_min_samples_leaf': 27, 'min_samples_split': 102, 'rf_estimators': 20, 'rf_max_feats': 0.11533197518174791}. Best is trial 154 with value: 0.5522924497637286.\u001b[0m\n"
     ]
    },
    {
     "name": "stdout",
     "output_type": "stream",
     "text": [
      "MEAN TRAIN:  0.4119126384429654\n",
      "MEAN VALIDATION:  0.3233484925006237\n",
      "MEAN TEST 0.4198032221106005\n"
     ]
    },
    {
     "name": "stderr",
     "output_type": "stream",
     "text": [
      "\u001b[32m[I 2022-01-26 12:53:26,566]\u001b[0m Trial 245 finished with value: 0.42501396308204215 and parameters: {'rf_max_depth': 65, 'rf_min_samples_leaf': 46, 'min_samples_split': 29, 'rf_estimators': 129, 'rf_max_feats': 0.194778682859134}. Best is trial 154 with value: 0.5522924497637286.\u001b[0m\n"
     ]
    },
    {
     "name": "stdout",
     "output_type": "stream",
     "text": [
      "MEAN TRAIN:  0.42260530196160423\n",
      "MEAN VALIDATION:  0.3278490599855347\n",
      "MEAN TEST 0.42501396308204215\n"
     ]
    },
    {
     "name": "stderr",
     "output_type": "stream",
     "text": [
      "\u001b[32m[I 2022-01-26 12:53:28,297]\u001b[0m Trial 249 finished with value: 0.43714121874774553 and parameters: {'rf_max_depth': 75, 'rf_min_samples_leaf': 26, 'min_samples_split': 88, 'rf_estimators': 114, 'rf_max_feats': 0.16683699259431534}. Best is trial 154 with value: 0.5522924497637286.\u001b[0m\n"
     ]
    },
    {
     "name": "stdout",
     "output_type": "stream",
     "text": [
      "MEAN TRAIN:  0.4477877679707353\n",
      "MEAN VALIDATION:  0.3417329714758311\n",
      "MEAN TEST 0.43714121874774553\n"
     ]
    },
    {
     "name": "stderr",
     "output_type": "stream",
     "text": [
      "\u001b[32m[I 2022-01-26 12:53:29,859]\u001b[0m Trial 248 finished with value: 0.42992616986236987 and parameters: {'rf_max_depth': 28, 'rf_min_samples_leaf': 47, 'min_samples_split': 40, 'rf_estimators': 114, 'rf_max_feats': 0.28229458209363234}. Best is trial 154 with value: 0.5522924497637286.\u001b[0m\n"
     ]
    },
    {
     "name": "stdout",
     "output_type": "stream",
     "text": [
      "MEAN TRAIN:  0.4268230864921301\n",
      "MEAN VALIDATION:  0.3326809874468971\n",
      "MEAN TEST 0.42992616986236987\n"
     ]
    },
    {
     "name": "stderr",
     "output_type": "stream",
     "text": [
      "\u001b[32m[I 2022-01-26 12:53:32,083]\u001b[0m Trial 250 finished with value: 0.49250199393413663 and parameters: {'rf_max_depth': 99, 'rf_min_samples_leaf': 9, 'min_samples_split': 55, 'rf_estimators': 78, 'rf_max_feats': 0.24823792777759626}. Best is trial 154 with value: 0.5522924497637286.\u001b[0m\n"
     ]
    },
    {
     "name": "stdout",
     "output_type": "stream",
     "text": [
      "MEAN TRAIN:  0.5630342675921309\n",
      "MEAN VALIDATION:  0.4015473203927599\n",
      "MEAN TEST 0.49250199393413663\n"
     ]
    },
    {
     "name": "stderr",
     "output_type": "stream",
     "text": [
      "\u001b[32m[I 2022-01-26 12:53:32,672]\u001b[0m Trial 255 finished with value: 0.4796292219328288 and parameters: {'rf_max_depth': 95, 'rf_min_samples_leaf': 19, 'min_samples_split': 2, 'rf_estimators': 28, 'rf_max_feats': 0.1582130310692979}. Best is trial 154 with value: 0.5522924497637286.\u001b[0m\n"
     ]
    },
    {
     "name": "stdout",
     "output_type": "stream",
     "text": [
      "MEAN TRAIN:  0.544049295557123\n",
      "MEAN VALIDATION:  0.37450742727523106\n",
      "MEAN TEST 0.4796292219328288\n"
     ]
    },
    {
     "name": "stderr",
     "output_type": "stream",
     "text": [
      "\u001b[32m[I 2022-01-26 12:53:33,439]\u001b[0m Trial 254 finished with value: 0.3795664947610434 and parameters: {'rf_max_depth': 112, 'rf_min_samples_leaf': 66, 'min_samples_split': 79, 'rf_estimators': 120, 'rf_max_feats': 0.11272436586590792}. Best is trial 154 with value: 0.5522924497637286.\u001b[0m\n"
     ]
    },
    {
     "name": "stdout",
     "output_type": "stream",
     "text": [
      "MEAN TRAIN:  0.3480746709180117\n",
      "MEAN VALIDATION:  0.2752831158907887\n",
      "MEAN TEST 0.3795664947610434\n"
     ]
    },
    {
     "name": "stderr",
     "output_type": "stream",
     "text": [
      "\u001b[32m[I 2022-01-26 12:53:34,179]\u001b[0m Trial 252 finished with value: 0.4214410112767844 and parameters: {'rf_max_depth': 63, 'rf_min_samples_leaf': 45, 'min_samples_split': 108, 'rf_estimators': 89, 'rf_max_feats': 0.31033820866398987}. Best is trial 154 with value: 0.5522924497637286.\u001b[0m\n"
     ]
    },
    {
     "name": "stdout",
     "output_type": "stream",
     "text": [
      "MEAN TRAIN:  0.4125800376904157\n",
      "MEAN VALIDATION:  0.3222610131192481\n",
      "MEAN TEST 0.4214410112767844\n"
     ]
    },
    {
     "name": "stderr",
     "output_type": "stream",
     "text": [
      "\u001b[32m[I 2022-01-26 12:53:35,969]\u001b[0m Trial 253 finished with value: 0.3791410542223869 and parameters: {'rf_max_depth': 80, 'rf_min_samples_leaf': 77, 'min_samples_split': 26, 'rf_estimators': 150, 'rf_max_feats': 0.2450689733767801}. Best is trial 154 with value: 0.5522924497637286.\u001b[0m\n"
     ]
    },
    {
     "name": "stdout",
     "output_type": "stream",
     "text": [
      "MEAN TRAIN:  0.34241864298492514\n",
      "MEAN VALIDATION:  0.2722997113872089\n",
      "MEAN TEST 0.3791410542223869\n"
     ]
    },
    {
     "name": "stderr",
     "output_type": "stream",
     "text": [
      "\u001b[32m[I 2022-01-26 12:53:36,641]\u001b[0m Trial 247 finished with value: 0.47798671632064166 and parameters: {'rf_max_depth': 33, 'rf_min_samples_leaf': 24, 'min_samples_split': 2, 'rf_estimators': 124, 'rf_max_feats': 0.36404608642785957}. Best is trial 154 with value: 0.5522924497637286.\u001b[0m\n"
     ]
    },
    {
     "name": "stdout",
     "output_type": "stream",
     "text": [
      "MEAN TRAIN:  0.53410006167256\n",
      "MEAN VALIDATION:  0.3815162880117888\n",
      "MEAN TEST 0.47798671632064166\n"
     ]
    },
    {
     "name": "stderr",
     "output_type": "stream",
     "text": [
      "\u001b[32m[I 2022-01-26 12:53:39,620]\u001b[0m Trial 256 finished with value: 0.4313651842420726 and parameters: {'rf_max_depth': 84, 'rf_min_samples_leaf': 39, 'min_samples_split': 47, 'rf_estimators': 131, 'rf_max_feats': 0.1172462515063761}. Best is trial 154 with value: 0.5522924497637286.\u001b[0m\n"
     ]
    },
    {
     "name": "stdout",
     "output_type": "stream",
     "text": [
      "MEAN TRAIN:  0.4338276939970133\n",
      "MEAN VALIDATION:  0.33593267203550303\n",
      "MEAN TEST 0.4313651842420726\n"
     ]
    },
    {
     "name": "stderr",
     "output_type": "stream",
     "text": [
      "\u001b[32m[I 2022-01-26 12:53:42,004]\u001b[0m Trial 257 finished with value: 0.41523124559567715 and parameters: {'rf_max_depth': 61, 'rf_min_samples_leaf': 55, 'min_samples_split': 100, 'rf_estimators': 91, 'rf_max_feats': 0.37035522298663875}. Best is trial 154 with value: 0.5522924497637286.\u001b[0m\n"
     ]
    },
    {
     "name": "stdout",
     "output_type": "stream",
     "text": [
      "MEAN TRAIN:  0.39921918081792035\n",
      "MEAN VALIDATION:  0.3167682374976184\n",
      "MEAN TEST 0.41523124559567715\n"
     ]
    },
    {
     "name": "stderr",
     "output_type": "stream",
     "text": [
      "\u001b[32m[I 2022-01-26 12:53:43,108]\u001b[0m Trial 258 finished with value: 0.4025644558611307 and parameters: {'rf_max_depth': 66, 'rf_min_samples_leaf': 5, 'min_samples_split': 145, 'rf_estimators': 129, 'rf_max_feats': 0.2657838820335477}. Best is trial 154 with value: 0.5522924497637286.\u001b[0m\n"
     ]
    },
    {
     "name": "stdout",
     "output_type": "stream",
     "text": [
      "MEAN TRAIN:  0.3881924821916759\n",
      "MEAN VALIDATION:  0.3002532432595085\n",
      "MEAN TEST 0.4025644558611307\n"
     ]
    },
    {
     "name": "stderr",
     "output_type": "stream",
     "text": [
      "\u001b[32m[I 2022-01-26 12:53:43,593]\u001b[0m Trial 263 finished with value: 0.4422402643514577 and parameters: {'rf_max_depth': 33, 'rf_min_samples_leaf': 21, 'min_samples_split': 88, 'rf_estimators': 20, 'rf_max_feats': 0.18500073618051172}. Best is trial 154 with value: 0.5522924497637286.\u001b[0m\n"
     ]
    },
    {
     "name": "stdout",
     "output_type": "stream",
     "text": [
      "MEAN TRAIN:  0.4536942813050926\n",
      "MEAN VALIDATION:  0.34172708561538867\n",
      "MEAN TEST 0.4422402643514577\n"
     ]
    },
    {
     "name": "stderr",
     "output_type": "stream",
     "text": [
      "\u001b[32m[I 2022-01-26 12:53:44,892]\u001b[0m Trial 262 finished with value: 0.408935966677433 and parameters: {'rf_max_depth': 98, 'rf_min_samples_leaf': 48, 'min_samples_split': 30, 'rf_estimators': 109, 'rf_max_feats': 0.10917080295282397}. Best is trial 154 with value: 0.5522924497637286.\u001b[0m\n"
     ]
    },
    {
     "name": "stdout",
     "output_type": "stream",
     "text": [
      "MEAN TRAIN:  0.40154735048601936\n",
      "MEAN VALIDATION:  0.3132802599385033\n",
      "MEAN TEST 0.408935966677433\n"
     ]
    },
    {
     "name": "stderr",
     "output_type": "stream",
     "text": [
      "\u001b[32m[I 2022-01-26 12:53:46,481]\u001b[0m Trial 261 finished with value: 0.40794306233225547 and parameters: {'rf_max_depth': 6, 'rf_min_samples_leaf': 56, 'min_samples_split': 125, 'rf_estimators': 108, 'rf_max_feats': 0.3452912111735371}. Best is trial 154 with value: 0.5522924497637286.\u001b[0m\n"
     ]
    },
    {
     "name": "stdout",
     "output_type": "stream",
     "text": [
      "MEAN TRAIN:  0.383239025123751\n",
      "MEAN VALIDATION:  0.30116330775332456\n",
      "MEAN TEST 0.40794306233225547\n"
     ]
    },
    {
     "name": "stderr",
     "output_type": "stream",
     "text": [
      "\u001b[32m[I 2022-01-26 12:53:48,516]\u001b[0m Trial 267 finished with value: 0.3833953684597238 and parameters: {'rf_max_depth': 124, 'rf_min_samples_leaf': 60, 'min_samples_split': 110, 'rf_estimators': 44, 'rf_max_feats': 0.11646555787528627}. Best is trial 154 with value: 0.5522924497637286.\u001b[0m\n"
     ]
    },
    {
     "name": "stdout",
     "output_type": "stream",
     "text": [
      "MEAN TRAIN:  0.36148868037669296\n",
      "MEAN VALIDATION:  0.29225705331461144\n",
      "MEAN TEST 0.3833953684597238\n"
     ]
    },
    {
     "name": "stderr",
     "output_type": "stream",
     "text": [
      "\u001b[32m[I 2022-01-26 12:53:54,638]\u001b[0m Trial 265 finished with value: 0.42616567555235463 and parameters: {'rf_max_depth': 106, 'rf_min_samples_leaf': 48, 'min_samples_split': 48, 'rf_estimators': 117, 'rf_max_feats': 0.30035587310057826}. Best is trial 154 with value: 0.5522924497637286.\u001b[0m\n",
      "\u001b[32m[I 2022-01-26 12:53:54,761]\u001b[0m Trial 266 finished with value: 0.40834376887469437 and parameters: {'rf_max_depth': 59, 'rf_min_samples_leaf': 60, 'min_samples_split': 80, 'rf_estimators': 110, 'rf_max_feats': 0.34476137338155355}. Best is trial 154 with value: 0.5522924497637286.\u001b[0m\n"
     ]
    },
    {
     "name": "stdout",
     "output_type": "stream",
     "text": [
      "MEAN TRAIN:  0.4223810350133405\n",
      "MEAN VALIDATION:  0.3307215369383659\n",
      "MEAN TEST 0.42616567555235463\n",
      "MEAN TRAIN:  0.38352780356560173\n",
      "MEAN VALIDATION:  0.3011165535886173\n",
      "MEAN TEST 0.40834376887469437\n"
     ]
    },
    {
     "name": "stderr",
     "output_type": "stream",
     "text": [
      "\u001b[32m[I 2022-01-26 12:53:56,474]\u001b[0m Trial 264 finished with value: 0.39943336324628953 and parameters: {'rf_max_depth': 79, 'rf_min_samples_leaf': 66, 'min_samples_split': 103, 'rf_estimators': 144, 'rf_max_feats': 0.3966484779386933}. Best is trial 154 with value: 0.5522924497637286.\u001b[0m\n"
     ]
    },
    {
     "name": "stdout",
     "output_type": "stream",
     "text": [
      "MEAN TRAIN:  0.37274524380196195\n",
      "MEAN VALIDATION:  0.2931660514288403\n",
      "MEAN TEST 0.39943336324628953\n"
     ]
    },
    {
     "name": "stderr",
     "output_type": "stream",
     "text": [
      "\u001b[32m[I 2022-01-26 12:53:57,032]\u001b[0m Trial 271 finished with value: 0.3962204054165229 and parameters: {'rf_max_depth': 65, 'rf_min_samples_leaf': 51, 'min_samples_split': 103, 'rf_estimators': 9, 'rf_max_feats': 0.12408770176174536}. Best is trial 154 with value: 0.5522924497637286.\u001b[0m\n"
     ]
    },
    {
     "name": "stdout",
     "output_type": "stream",
     "text": [
      "MEAN TRAIN:  0.38827829430219507\n",
      "MEAN VALIDATION:  0.3033189115019549\n",
      "MEAN TEST 0.3962204054165229\n"
     ]
    },
    {
     "name": "stderr",
     "output_type": "stream",
     "text": [
      "\u001b[32m[I 2022-01-26 12:53:57,519]\u001b[0m Trial 260 finished with value: 0.49585421905825344 and parameters: {'rf_max_depth': 9, 'rf_min_samples_leaf': 7, 'min_samples_split': 52, 'rf_estimators': 124, 'rf_max_feats': 0.3749185281634642}. Best is trial 154 with value: 0.5522924497637286.\u001b[0m\n"
     ]
    },
    {
     "name": "stdout",
     "output_type": "stream",
     "text": [
      "MEAN TRAIN:  0.5933976448056699\n",
      "MEAN VALIDATION:  0.41273545316117577\n",
      "MEAN TEST 0.49585421905825344\n"
     ]
    },
    {
     "name": "stderr",
     "output_type": "stream",
     "text": [
      "\u001b[32m[I 2022-01-26 12:53:59,599]\u001b[0m Trial 272 finished with value: 0.4602650556087486 and parameters: {'rf_max_depth': 4, 'rf_min_samples_leaf': 27, 'min_samples_split': 62, 'rf_estimators': 26, 'rf_max_feats': 0.2450689733767801}. Best is trial 154 with value: 0.5522924497637286.\u001b[0m\n"
     ]
    },
    {
     "name": "stdout",
     "output_type": "stream",
     "text": [
      "MEAN TRAIN:  0.4833024847285209\n",
      "MEAN VALIDATION:  0.35702635247249953\n",
      "MEAN TEST 0.4602650556087486\n"
     ]
    },
    {
     "name": "stderr",
     "output_type": "stream",
     "text": [
      "\u001b[32m[I 2022-01-26 12:54:00,113]\u001b[0m Trial 270 finished with value: 0.4998638311812367 and parameters: {'rf_max_depth': 28, 'rf_min_samples_leaf': 13, 'min_samples_split': 2, 'rf_estimators': 64, 'rf_max_feats': 0.12046017909069932}. Best is trial 154 with value: 0.5522924497637286.\u001b[0m\n",
      "\u001b[32m[I 2022-01-26 12:54:00,184]\u001b[0m Trial 259 finished with value: 0.5383306478433495 and parameters: {'rf_max_depth': 33, 'rf_min_samples_leaf': 6, 'min_samples_split': 2, 'rf_estimators': 128, 'rf_max_feats': 0.29526048006823363}. Best is trial 154 with value: 0.5522924497637286.\u001b[0m\n"
     ]
    },
    {
     "name": "stdout",
     "output_type": "stream",
     "text": [
      "MEAN TRAIN:  0.6078410630521013\n",
      "MEAN VALIDATION:  0.4197270774612683\n",
      "MEAN TEST 0.4998638311812367\n",
      "MEAN TRAIN:  0.7629028613843045\n",
      "MEAN VALIDATION:  0.4668538219514475\n",
      "MEAN TEST 0.5383306478433495\n"
     ]
    },
    {
     "name": "stderr",
     "output_type": "stream",
     "text": [
      "\u001b[32m[I 2022-01-26 12:54:01,720]\u001b[0m Trial 276 finished with value: 0.43430047024934615 and parameters: {'rf_max_depth': 40, 'rf_min_samples_leaf': 8, 'min_samples_split': 117, 'rf_estimators': 14, 'rf_max_feats': 0.3352194616470768}. Best is trial 154 with value: 0.5522924497637286.\u001b[0m\n"
     ]
    },
    {
     "name": "stdout",
     "output_type": "stream",
     "text": [
      "MEAN TRAIN:  0.42203454515470823\n",
      "MEAN VALIDATION:  0.3245211183957245\n",
      "MEAN TEST 0.43430047024934615\n"
     ]
    },
    {
     "name": "stderr",
     "output_type": "stream",
     "text": [
      "\u001b[32m[I 2022-01-26 12:54:02,779]\u001b[0m Trial 269 finished with value: 0.41246580208045175 and parameters: {'rf_max_depth': 82, 'rf_min_samples_leaf': 45, 'min_samples_split': 121, 'rf_estimators': 81, 'rf_max_feats': 0.3786749284025983}. Best is trial 154 with value: 0.5522924497637286.\u001b[0m\n"
     ]
    },
    {
     "name": "stdout",
     "output_type": "stream",
     "text": [
      "MEAN TRAIN:  0.39616188881658887\n",
      "MEAN VALIDATION:  0.31503565589896104\n",
      "MEAN TEST 0.41246580208045175\n"
     ]
    },
    {
     "name": "stderr",
     "output_type": "stream",
     "text": [
      "\u001b[32m[I 2022-01-26 12:54:03,274]\u001b[0m Trial 273 finished with value: 0.44367249692262145 and parameters: {'rf_max_depth': 147, 'rf_min_samples_leaf': 35, 'min_samples_split': 79, 'rf_estimators': 62, 'rf_max_feats': 0.2450689733767801}. Best is trial 154 with value: 0.5522924497637286.\u001b[0m\n"
     ]
    },
    {
     "name": "stdout",
     "output_type": "stream",
     "text": [
      "MEAN TRAIN:  0.45654260456155893\n",
      "MEAN VALIDATION:  0.34653437090498346\n",
      "MEAN TEST 0.44367249692262145\n"
     ]
    },
    {
     "name": "stderr",
     "output_type": "stream",
     "text": [
      "\u001b[32m[I 2022-01-26 12:54:03,496]\u001b[0m Trial 268 finished with value: 0.5323651111514713 and parameters: {'rf_max_depth': 61, 'rf_min_samples_leaf': 6, 'min_samples_split': 9, 'rf_estimators': 91, 'rf_max_feats': 0.22703744150321095}. Best is trial 154 with value: 0.5522924497637286.\u001b[0m\n"
     ]
    },
    {
     "name": "stdout",
     "output_type": "stream",
     "text": [
      "MEAN TRAIN:  0.7560357987130971\n",
      "MEAN VALIDATION:  0.4718286999977928\n",
      "MEAN TEST 0.5323651111514713\n"
     ]
    },
    {
     "name": "stderr",
     "output_type": "stream",
     "text": [
      "\u001b[32m[I 2022-01-26 12:54:05,233]\u001b[0m Trial 279 finished with value: 0.39527544648743174 and parameters: {'rf_max_depth': 17, 'rf_min_samples_leaf': 53, 'min_samples_split': 130, 'rf_estimators': 28, 'rf_max_feats': 0.21344696362766355}. Best is trial 154 with value: 0.5522924497637286.\u001b[0m\n"
     ]
    },
    {
     "name": "stdout",
     "output_type": "stream",
     "text": [
      "MEAN TRAIN:  0.37273118409124256\n",
      "MEAN VALIDATION:  0.29353008726589574\n",
      "MEAN TEST 0.39527544648743174\n"
     ]
    },
    {
     "name": "stderr",
     "output_type": "stream",
     "text": [
      "\u001b[32m[I 2022-01-26 12:54:07,133]\u001b[0m Trial 280 finished with value: 0.412579954629473 and parameters: {'rf_max_depth': 80, 'rf_min_samples_leaf': 54, 'min_samples_split': 12, 'rf_estimators': 39, 'rf_max_feats': 0.29188749267317665}. Best is trial 154 with value: 0.5522924497637286.\u001b[0m\n",
      "\u001b[32m[I 2022-01-26 12:54:07,235]\u001b[0m Trial 278 finished with value: 0.40534178547165994 and parameters: {'rf_max_depth': 102, 'rf_min_samples_leaf': 51, 'min_samples_split': 59, 'rf_estimators': 83, 'rf_max_feats': 0.12046017909069932}. Best is trial 154 with value: 0.5522924497637286.\u001b[0m\n"
     ]
    },
    {
     "name": "stdout",
     "output_type": "stream",
     "text": [
      "MEAN TRAIN:  0.401103122568245\n",
      "MEAN VALIDATION:  0.32115578165024944\n",
      "MEAN TEST 0.412579954629473\n",
      "MEAN TRAIN:  0.39413145001802186\n",
      "MEAN VALIDATION:  0.3151506176022599\n",
      "MEAN TEST 0.40534178547165994\n"
     ]
    },
    {
     "name": "stderr",
     "output_type": "stream",
     "text": [
      "\u001b[32m[I 2022-01-26 12:54:08,785]\u001b[0m Trial 283 finished with value: 0.4346445846686171 and parameters: {'rf_max_depth': 127, 'rf_min_samples_leaf': 33, 'min_samples_split': 3, 'rf_estimators': 20, 'rf_max_feats': 0.1381156124617064}. Best is trial 154 with value: 0.5522924497637286.\u001b[0m\n"
     ]
    },
    {
     "name": "stdout",
     "output_type": "stream",
     "text": [
      "MEAN TRAIN:  0.45321731287550737\n",
      "MEAN VALIDATION:  0.34665207985757013\n",
      "MEAN TEST 0.4346445846686171\n"
     ]
    },
    {
     "name": "stderr",
     "output_type": "stream",
     "text": [
      "\u001b[32m[I 2022-01-26 12:54:10,884]\u001b[0m Trial 277 finished with value: 0.4581549405636151 and parameters: {'rf_max_depth': 139, 'rf_min_samples_leaf': 24, 'min_samples_split': 73, 'rf_estimators': 68, 'rf_max_feats': 0.3341816735844944}. Best is trial 154 with value: 0.5522924497637286.\u001b[0m\n",
      "\u001b[32m[I 2022-01-26 12:54:11,076]\u001b[0m Trial 275 finished with value: 0.4158970136089348 and parameters: {'rf_max_depth': 99, 'rf_min_samples_leaf': 55, 'min_samples_split': 32, 'rf_estimators': 96, 'rf_max_feats': 0.3919793296448739}. Best is trial 154 with value: 0.5522924497637286.\u001b[0m\n"
     ]
    },
    {
     "name": "stdout",
     "output_type": "stream",
     "text": [
      "MEAN TRAIN:  0.49093713073343836\n",
      "MEAN VALIDATION:  0.3634494091883093\n",
      "MEAN TEST 0.4581549405636151\n",
      "MEAN TRAIN:  0.40309298380559844\n",
      "MEAN VALIDATION:  0.31809340140897613\n",
      "MEAN TEST 0.4158970136089348\n"
     ]
    },
    {
     "name": "stderr",
     "output_type": "stream",
     "text": [
      "\u001b[32m[I 2022-01-26 12:54:13,022]\u001b[0m Trial 281 finished with value: 0.3978714871083041 and parameters: {'rf_max_depth': 30, 'rf_min_samples_leaf': 45, 'min_samples_split': 142, 'rf_estimators': 87, 'rf_max_feats': 0.30485213099511177}. Best is trial 154 with value: 0.5522924497637286.\u001b[0m\n"
     ]
    },
    {
     "name": "stdout",
     "output_type": "stream",
     "text": [
      "MEAN TRAIN:  0.37666413646291363\n",
      "MEAN VALIDATION:  0.29431131969985697\n",
      "MEAN TEST 0.3978714871083041\n"
     ]
    },
    {
     "name": "stderr",
     "output_type": "stream",
     "text": [
      "\u001b[32m[I 2022-01-26 12:54:13,239]\u001b[0m Trial 282 finished with value: 0.4097013390473423 and parameters: {'rf_max_depth': 61, 'rf_min_samples_leaf': 49, 'min_samples_split': 73, 'rf_estimators': 100, 'rf_max_feats': 0.12686001875181482}. Best is trial 154 with value: 0.5522924497637286.\u001b[0m\n"
     ]
    },
    {
     "name": "stdout",
     "output_type": "stream",
     "text": [
      "MEAN TRAIN:  0.4009217437875853\n",
      "MEAN VALIDATION:  0.3124459056747885\n",
      "MEAN TEST 0.4097013390473423\n"
     ]
    },
    {
     "name": "stderr",
     "output_type": "stream",
     "text": [
      "\u001b[32m[I 2022-01-26 12:54:14,738]\u001b[0m Trial 287 finished with value: 0.4143310364325717 and parameters: {'rf_max_depth': 79, 'rf_min_samples_leaf': 48, 'min_samples_split': 106, 'rf_estimators': 23, 'rf_max_feats': 0.15969021274842965}. Best is trial 154 with value: 0.5522924497637286.\u001b[0m\n"
     ]
    },
    {
     "name": "stdout",
     "output_type": "stream",
     "text": [
      "MEAN TRAIN:  0.3985559638834418\n",
      "MEAN VALIDATION:  0.31732529179130653\n",
      "MEAN TEST 0.4143310364325717\n"
     ]
    },
    {
     "name": "stderr",
     "output_type": "stream",
     "text": [
      "\u001b[32m[I 2022-01-26 12:54:15,507]\u001b[0m Trial 289 finished with value: 0.4313630605147488 and parameters: {'rf_max_depth': 113, 'rf_min_samples_leaf': 36, 'min_samples_split': 30, 'rf_estimators': 4, 'rf_max_feats': 0.35577244134013103}. Best is trial 154 with value: 0.5522924497637286.\u001b[0m\n"
     ]
    },
    {
     "name": "stdout",
     "output_type": "stream",
     "text": [
      "MEAN TRAIN:  0.4479000300424157\n",
      "MEAN VALIDATION:  0.32538136803852125\n",
      "MEAN TEST 0.4313630605147488\n"
     ]
    },
    {
     "name": "stderr",
     "output_type": "stream",
     "text": [
      "\u001b[32m[I 2022-01-26 12:54:16,948]\u001b[0m Trial 286 finished with value: 0.4693206029204444 and parameters: {'rf_max_depth': 80, 'rf_min_samples_leaf': 27, 'min_samples_split': 12, 'rf_estimators': 39, 'rf_max_feats': 0.3044405652310468}. Best is trial 154 with value: 0.5522924497637286.\u001b[0m\n"
     ]
    },
    {
     "name": "stdout",
     "output_type": "stream",
     "text": [
      "MEAN TRAIN:  0.508406384660301\n",
      "MEAN VALIDATION:  0.35972195550540603\n",
      "MEAN TEST 0.4693206029204444\n"
     ]
    },
    {
     "name": "stderr",
     "output_type": "stream",
     "text": [
      "\u001b[32m[I 2022-01-26 12:54:17,293]\u001b[0m Trial 288 finished with value: 0.3759386341737455 and parameters: {'rf_max_depth': 96, 'rf_min_samples_leaf': 75, 'min_samples_split': 122, 'rf_estimators': 66, 'rf_max_feats': 0.19506485939930177}. Best is trial 154 with value: 0.5522924497637286.\u001b[0m\n"
     ]
    },
    {
     "name": "stdout",
     "output_type": "stream",
     "text": [
      "MEAN TRAIN:  0.34258080571257593\n",
      "MEAN VALIDATION:  0.2784433543895478\n",
      "MEAN TEST 0.3759386341737455\n"
     ]
    },
    {
     "name": "stderr",
     "output_type": "stream",
     "text": [
      "\u001b[32m[I 2022-01-26 12:54:18,102]\u001b[0m Trial 285 finished with value: 0.40375269412930964 and parameters: {'rf_max_depth': 133, 'rf_min_samples_leaf': 42, 'min_samples_split': 133, 'rf_estimators': 76, 'rf_max_feats': 0.3012972176426906}. Best is trial 154 with value: 0.5522924497637286.\u001b[0m\n"
     ]
    },
    {
     "name": "stdout",
     "output_type": "stream",
     "text": [
      "MEAN TRAIN:  0.3842123248449825\n",
      "MEAN VALIDATION:  0.3023936195874076\n",
      "MEAN TEST 0.40375269412930964\n"
     ]
    },
    {
     "name": "stderr",
     "output_type": "stream",
     "text": [
      "\u001b[32m[I 2022-01-26 12:54:18,871]\u001b[0m Trial 293 finished with value: 0.3973418242440664 and parameters: {'rf_max_depth': 8, 'rf_min_samples_leaf': 21, 'min_samples_split': 113, 'rf_estimators': 11, 'rf_max_feats': 0.16084404747235123}. Best is trial 154 with value: 0.5522924497637286.\u001b[0m\n"
     ]
    },
    {
     "name": "stdout",
     "output_type": "stream",
     "text": [
      "MEAN TRAIN:  0.3975207921414664\n",
      "MEAN VALIDATION:  0.2962249809880899\n",
      "MEAN TEST 0.3973418242440664\n"
     ]
    },
    {
     "name": "stderr",
     "output_type": "stream",
     "text": [
      "\u001b[32m[I 2022-01-26 12:54:19,214]\u001b[0m Trial 274 finished with value: 0.49061284091496227 and parameters: {'rf_max_depth': 88, 'rf_min_samples_leaf': 19, 'min_samples_split': 41, 'rf_estimators': 128, 'rf_max_feats': 0.29526048006823363}. Best is trial 154 with value: 0.5522924497637286.\u001b[0m\n"
     ]
    },
    {
     "name": "stdout",
     "output_type": "stream",
     "text": [
      "MEAN TRAIN:  0.5608297600477983\n",
      "MEAN VALIDATION:  0.39579091065929417\n",
      "MEAN TEST 0.49061284091496227\n"
     ]
    },
    {
     "name": "stderr",
     "output_type": "stream",
     "text": [
      "\u001b[32m[I 2022-01-26 12:54:19,957]\u001b[0m Trial 295 finished with value: 0.41775536593029977 and parameters: {'rf_max_depth': 143, 'rf_min_samples_leaf': 7, 'min_samples_split': 106, 'rf_estimators': 5, 'rf_max_feats': 0.34894130247384836}. Best is trial 154 with value: 0.5522924497637286.\u001b[0m\n"
     ]
    },
    {
     "name": "stdout",
     "output_type": "stream",
     "text": [
      "MEAN TRAIN:  0.426999538597636\n",
      "MEAN VALIDATION:  0.31853373702220156\n",
      "MEAN TEST 0.41775536593029977\n"
     ]
    },
    {
     "name": "stderr",
     "output_type": "stream",
     "text": [
      "\u001b[32m[I 2022-01-26 12:54:21,184]\u001b[0m Trial 291 finished with value: 0.4606564698297058 and parameters: {'rf_max_depth': 28, 'rf_min_samples_leaf': 16, 'min_samples_split': 69, 'rf_estimators': 39, 'rf_max_feats': 0.22674391882371772}. Best is trial 154 with value: 0.5522924497637286.\u001b[0m\n"
     ]
    },
    {
     "name": "stdout",
     "output_type": "stream",
     "text": [
      "MEAN TRAIN:  0.4972611737435798\n",
      "MEAN VALIDATION:  0.36118619025070836\n",
      "MEAN TEST 0.4606564698297058\n"
     ]
    },
    {
     "name": "stderr",
     "output_type": "stream",
     "text": [
      "\u001b[32m[I 2022-01-26 12:54:22,279]\u001b[0m Trial 284 finished with value: 0.43153832336351244 and parameters: {'rf_max_depth': 44, 'rf_min_samples_leaf': 48, 'min_samples_split': 44, 'rf_estimators': 120, 'rf_max_feats': 0.3187314119128053}. Best is trial 154 with value: 0.5522924497637286.\u001b[0m\n"
     ]
    },
    {
     "name": "stdout",
     "output_type": "stream",
     "text": [
      "MEAN TRAIN:  0.4253488201675216\n",
      "MEAN VALIDATION:  0.33155617549507493\n",
      "MEAN TEST 0.43153832336351244\n"
     ]
    },
    {
     "name": "stderr",
     "output_type": "stream",
     "text": [
      "\u001b[32m[I 2022-01-26 12:54:24,437]\u001b[0m Trial 290 finished with value: 0.41619970146747676 and parameters: {'rf_max_depth': 124, 'rf_min_samples_leaf': 45, 'min_samples_split': 121, 'rf_estimators': 81, 'rf_max_feats': 0.3786749284025983}. Best is trial 154 with value: 0.5522924497637286.\u001b[0m\n"
     ]
    },
    {
     "name": "stdout",
     "output_type": "stream",
     "text": [
      "MEAN TRAIN:  0.39669425543170195\n",
      "MEAN VALIDATION:  0.3159033435504187\n",
      "MEAN TEST 0.41619970146747676\n"
     ]
    },
    {
     "name": "stderr",
     "output_type": "stream",
     "text": [
      "\u001b[32m[I 2022-01-26 12:54:31,616]\u001b[0m Trial 294 finished with value: 0.40734250731126254 and parameters: {'rf_max_depth': 31, 'rf_min_samples_leaf': 61, 'min_samples_split': 88, 'rf_estimators': 119, 'rf_max_feats': 0.38080004161311753}. Best is trial 154 with value: 0.5522924497637286.\u001b[0m\n"
     ]
    },
    {
     "name": "stdout",
     "output_type": "stream",
     "text": [
      "MEAN TRAIN:  0.38236888761280363\n",
      "MEAN VALIDATION:  0.30346129890873835\n",
      "MEAN TEST 0.40734250731126254\n"
     ]
    },
    {
     "name": "stderr",
     "output_type": "stream",
     "text": [
      "\u001b[32m[I 2022-01-26 12:54:31,825]\u001b[0m Trial 296 finished with value: 0.44022561115277614 and parameters: {'rf_max_depth': 8, 'rf_min_samples_leaf': 43, 'min_samples_split': 41, 'rf_estimators': 86, 'rf_max_feats': 0.37628160037292935}. Best is trial 154 with value: 0.5522924497637286.\u001b[0m\n"
     ]
    },
    {
     "name": "stdout",
     "output_type": "stream",
     "text": [
      "MEAN TRAIN:  0.4455663279335648\n",
      "MEAN VALIDATION:  0.3412183394449239\n",
      "MEAN TEST 0.44022561115277614\n"
     ]
    },
    {
     "name": "stderr",
     "output_type": "stream",
     "text": [
      "\u001b[32m[I 2022-01-26 12:54:32,491]\u001b[0m Trial 292 finished with value: 0.4643600226751814 and parameters: {'rf_max_depth': 102, 'rf_min_samples_leaf': 32, 'min_samples_split': 32, 'rf_estimators': 96, 'rf_max_feats': 0.3919793296448739}. Best is trial 154 with value: 0.5522924497637286.\u001b[0m\n"
     ]
    },
    {
     "name": "stdout",
     "output_type": "stream",
     "text": [
      "MEAN TRAIN:  0.4914709495850724\n",
      "MEAN VALIDATION:  0.365761454355419\n",
      "MEAN TEST 0.4643600226751814\n"
     ]
    },
    {
     "name": "stderr",
     "output_type": "stream",
     "text": [
      "\u001b[32m[I 2022-01-26 12:54:39,869]\u001b[0m Trial 301 finished with value: 0.3971047150453685 and parameters: {'rf_max_depth': 136, 'rf_min_samples_leaf': 2, 'min_samples_split': 142, 'rf_estimators': 118, 'rf_max_feats': 0.15760490222351045}. Best is trial 154 with value: 0.5522924497637286.\u001b[0m\n"
     ]
    },
    {
     "name": "stdout",
     "output_type": "stream",
     "text": [
      "MEAN TRAIN:  0.38497190690181066\n",
      "MEAN VALIDATION:  0.300203496167527\n",
      "MEAN TEST 0.3971047150453685\n"
     ]
    },
    {
     "name": "stderr",
     "output_type": "stream",
     "text": [
      "\u001b[32m[I 2022-01-26 12:54:40,652]\u001b[0m Trial 297 finished with value: 0.479031589349271 and parameters: {'rf_max_depth': 98, 'rf_min_samples_leaf': 24, 'min_samples_split': 48, 'rf_estimators': 139, 'rf_max_feats': 0.26130711509354204}. Best is trial 154 with value: 0.5522924497637286.\u001b[0m\n"
     ]
    },
    {
     "name": "stdout",
     "output_type": "stream",
     "text": [
      "MEAN TRAIN:  0.5285768091960061\n",
      "MEAN VALIDATION:  0.38247704186445963\n",
      "MEAN TEST 0.479031589349271\n"
     ]
    },
    {
     "name": "stderr",
     "output_type": "stream",
     "text": [
      "\u001b[32m[I 2022-01-26 12:54:41,418]\u001b[0m Trial 298 finished with value: 0.45897172797497754 and parameters: {'rf_max_depth': 74, 'rf_min_samples_leaf': 32, 'min_samples_split': 71, 'rf_estimators': 140, 'rf_max_feats': 0.3049860790226595}. Best is trial 154 with value: 0.5522924497637286.\u001b[0m\n",
      "\u001b[32m[I 2022-01-26 12:54:41,508]\u001b[0m Trial 299 finished with value: 0.4643643138485894 and parameters: {'rf_max_depth': 4, 'rf_min_samples_leaf': 27, 'min_samples_split': 62, 'rf_estimators': 118, 'rf_max_feats': 0.3048559791478397}. Best is trial 154 with value: 0.5522924497637286.\u001b[0m\n"
     ]
    },
    {
     "name": "stdout",
     "output_type": "stream",
     "text": [
      "MEAN TRAIN:  0.47804618530299886\n",
      "MEAN VALIDATION:  0.36408142402557936\n",
      "MEAN TEST 0.45897172797497754\n",
      "MEAN TRAIN:  0.4951602347508768\n",
      "MEAN VALIDATION:  0.366331590033225\n",
      "MEAN TEST 0.4643643138485894\n"
     ]
    },
    {
     "name": "stderr",
     "output_type": "stream",
     "text": [
      "\u001b[32m[I 2022-01-26 12:54:42,384]\u001b[0m Trial 305 finished with value: 0.38689722188749637 and parameters: {'rf_max_depth': 102, 'rf_min_samples_leaf': 49, 'min_samples_split': 140, 'rf_estimators': 12, 'rf_max_feats': 0.2747654632577299}. Best is trial 154 with value: 0.5522924497637286.\u001b[0m\n"
     ]
    },
    {
     "name": "stdout",
     "output_type": "stream",
     "text": [
      "MEAN TRAIN:  0.35721202393851303\n",
      "MEAN VALIDATION:  0.28004460334236936\n",
      "MEAN TEST 0.38689722188749637\n"
     ]
    },
    {
     "name": "stderr",
     "output_type": "stream",
     "text": [
      "\u001b[32m[I 2022-01-26 12:54:43,187]\u001b[0m Trial 304 finished with value: 0.40588236680549183 and parameters: {'rf_max_depth': 28, 'rf_min_samples_leaf': 47, 'min_samples_split': 112, 'rf_estimators': 43, 'rf_max_feats': 0.14748412140701564}. Best is trial 154 with value: 0.5522924497637286.\u001b[0m\n"
     ]
    },
    {
     "name": "stdout",
     "output_type": "stream",
     "text": [
      "MEAN TRAIN:  0.39353608663542705\n",
      "MEAN VALIDATION:  0.31096833746746055\n",
      "MEAN TEST 0.40588236680549183\n"
     ]
    },
    {
     "name": "stderr",
     "output_type": "stream",
     "text": [
      "\u001b[32m[I 2022-01-26 12:54:44,175]\u001b[0m Trial 303 finished with value: 0.3923260787200293 and parameters: {'rf_max_depth': 2, 'rf_min_samples_leaf': 64, 'min_samples_split': 40, 'rf_estimators': 58, 'rf_max_feats': 0.27685373700195814}. Best is trial 154 with value: 0.5522924497637286.\u001b[0m\n"
     ]
    },
    {
     "name": "stdout",
     "output_type": "stream",
     "text": [
      "MEAN TRAIN:  0.36331932561927516\n",
      "MEAN VALIDATION:  0.28712332732218326\n",
      "MEAN TEST 0.3923260787200293\n"
     ]
    },
    {
     "name": "stderr",
     "output_type": "stream",
     "text": [
      "\u001b[32m[I 2022-01-26 12:54:48,443]\u001b[0m Trial 309 finished with value: 0.40449473513479006 and parameters: {'rf_max_depth': 65, 'rf_min_samples_leaf': 51, 'min_samples_split': 93, 'rf_estimators': 91, 'rf_max_feats': 0.10700496854105708}. Best is trial 154 with value: 0.5522924497637286.\u001b[0m\n",
      "\u001b[32m[I 2022-01-26 12:54:48,500]\u001b[0m Trial 300 finished with value: 0.4175840105035909 and parameters: {'rf_max_depth': 48, 'rf_min_samples_leaf': 56, 'min_samples_split': 64, 'rf_estimators': 147, 'rf_max_feats': 0.36404608642785957}. Best is trial 154 with value: 0.5522924497637286.\u001b[0m\n"
     ]
    },
    {
     "name": "stdout",
     "output_type": "stream",
     "text": [
      "MEAN TRAIN:  0.3916913849922366\n",
      "MEAN VALIDATION:  0.31009071861748483\n",
      "MEAN TEST 0.40449473513479006\n",
      "MEAN TRAIN:  0.397064727279081\n",
      "MEAN VALIDATION:  0.312658611601767\n",
      "MEAN TEST 0.4175840105035909\n"
     ]
    },
    {
     "name": "stderr",
     "output_type": "stream",
     "text": [
      "\u001b[32m[I 2022-01-26 12:54:49,211]\u001b[0m Trial 302 finished with value: 0.45866349942189444 and parameters: {'rf_max_depth': 28, 'rf_min_samples_leaf': 32, 'min_samples_split': 15, 'rf_estimators': 132, 'rf_max_feats': 0.28229458209363234}. Best is trial 154 with value: 0.5522924497637286.\u001b[0m\n"
     ]
    },
    {
     "name": "stdout",
     "output_type": "stream",
     "text": [
      "MEAN TRAIN:  0.4834668791203004\n",
      "MEAN VALIDATION:  0.36219977715768337\n",
      "MEAN TEST 0.45866349942189444\n"
     ]
    },
    {
     "name": "stderr",
     "output_type": "stream",
     "text": [
      "\u001b[32m[I 2022-01-26 12:54:51,805]\u001b[0m Trial 308 finished with value: 0.5138031163339203 and parameters: {'rf_max_depth': 79, 'rf_min_samples_leaf': 9, 'min_samples_split': 10, 'rf_estimators': 95, 'rf_max_feats': 0.10713541449559455}. Best is trial 154 with value: 0.5522924497637286.\u001b[0m\n"
     ]
    },
    {
     "name": "stdout",
     "output_type": "stream",
     "text": [
      "MEAN TRAIN:  0.6657303242468213\n",
      "MEAN VALIDATION:  0.43678436595559306\n",
      "MEAN TEST 0.5138031163339203\n"
     ]
    },
    {
     "name": "stderr",
     "output_type": "stream",
     "text": [
      "\u001b[32m[I 2022-01-26 12:54:54,865]\u001b[0m Trial 306 finished with value: 0.45849804152281515 and parameters: {'rf_max_depth': 9, 'rf_min_samples_leaf': 32, 'min_samples_split': 70, 'rf_estimators': 120, 'rf_max_feats': 0.2936477192105139}. Best is trial 154 with value: 0.5522924497637286.\u001b[0m\n"
     ]
    },
    {
     "name": "stdout",
     "output_type": "stream",
     "text": [
      "MEAN TRAIN:  0.47947543883972543\n",
      "MEAN VALIDATION:  0.35996622887395313\n",
      "MEAN TEST 0.45849804152281515\n"
     ]
    },
    {
     "name": "stderr",
     "output_type": "stream",
     "text": [
      "\u001b[32m[I 2022-01-26 12:54:56,040]\u001b[0m Trial 312 finished with value: 0.4374347888727142 and parameters: {'rf_max_depth': 97, 'rf_min_samples_leaf': 35, 'min_samples_split': 34, 'rf_estimators': 120, 'rf_max_feats': 0.1172462515063761}. Best is trial 154 with value: 0.5522924497637286.\u001b[0m\n"
     ]
    },
    {
     "name": "stdout",
     "output_type": "stream",
     "text": [
      "MEAN TRAIN:  0.4487984113823954\n",
      "MEAN VALIDATION:  0.3382901047651517\n",
      "MEAN TEST 0.4374347888727142\n"
     ]
    },
    {
     "name": "stderr",
     "output_type": "stream",
     "text": [
      "\u001b[32m[I 2022-01-26 12:54:56,589]\u001b[0m Trial 310 finished with value: 0.4682056201775782 and parameters: {'rf_max_depth': 63, 'rf_min_samples_leaf': 7, 'min_samples_split': 80, 'rf_estimators': 87, 'rf_max_feats': 0.20985491509691936}. Best is trial 154 with value: 0.5522924497637286.\u001b[0m\n"
     ]
    },
    {
     "name": "stdout",
     "output_type": "stream",
     "text": [
      "MEAN TRAIN:  0.5041254815754035\n",
      "MEAN VALIDATION:  0.3763992927899311\n",
      "MEAN TEST 0.4682056201775782\n"
     ]
    },
    {
     "name": "stderr",
     "output_type": "stream",
     "text": [
      "\u001b[32m[I 2022-01-26 12:54:57,223]\u001b[0m Trial 314 finished with value: 0.4588274057545304 and parameters: {'rf_max_depth': 99, 'rf_min_samples_leaf': 12, 'min_samples_split': 65, 'rf_estimators': 25, 'rf_max_feats': 0.19413162457208868}. Best is trial 154 with value: 0.5522924497637286.\u001b[0m\n",
      "\u001b[32m[I 2022-01-26 12:54:57,409]\u001b[0m Trial 313 finished with value: 0.451985770028999 and parameters: {'rf_max_depth': 74, 'rf_min_samples_leaf': 13, 'min_samples_split': 91, 'rf_estimators': 65, 'rf_max_feats': 0.22384960169408882}. Best is trial 154 with value: 0.5522924497637286.\u001b[0m\n"
     ]
    },
    {
     "name": "stdout",
     "output_type": "stream",
     "text": [
      "MEAN TRAIN:  0.5111643610992992\n",
      "MEAN VALIDATION:  0.3676910045444923\n",
      "MEAN TEST 0.4588274057545304\n",
      "MEAN TRAIN:  0.46746225674707664\n",
      "MEAN VALIDATION:  0.36036877920703736\n",
      "MEAN TEST 0.451985770028999\n"
     ]
    },
    {
     "name": "stderr",
     "output_type": "stream",
     "text": [
      "\u001b[32m[I 2022-01-26 12:54:57,859]\u001b[0m Trial 316 finished with value: 0.42615334971867663 and parameters: {'rf_max_depth': 90, 'rf_min_samples_leaf': 47, 'min_samples_split': 22, 'rf_estimators': 12, 'rf_max_feats': 0.3273425049577186}. Best is trial 154 with value: 0.5522924497637286.\u001b[0m\n"
     ]
    },
    {
     "name": "stdout",
     "output_type": "stream",
     "text": [
      "MEAN TRAIN:  0.42001849462174673\n",
      "MEAN VALIDATION:  0.33893933784666697\n",
      "MEAN TEST 0.42615334971867663\n"
     ]
    },
    {
     "name": "stderr",
     "output_type": "stream",
     "text": [
      "\u001b[32m[I 2022-01-26 12:54:58,330]\u001b[0m Trial 311 finished with value: 0.48673455858226156 and parameters: {'rf_max_depth': 132, 'rf_min_samples_leaf': 5, 'min_samples_split': 57, 'rf_estimators': 94, 'rf_max_feats': 0.18929983981702914}. Best is trial 154 with value: 0.5522924497637286.\u001b[0m\n"
     ]
    },
    {
     "name": "stdout",
     "output_type": "stream",
     "text": [
      "MEAN TRAIN:  0.574300966427135\n",
      "MEAN VALIDATION:  0.401462241403598\n",
      "MEAN TEST 0.48673455858226156\n"
     ]
    },
    {
     "name": "stderr",
     "output_type": "stream",
     "text": [
      "\u001b[32m[I 2022-01-26 12:54:59,238]\u001b[0m Trial 307 finished with value: 0.4869876126051548 and parameters: {'rf_max_depth': 4, 'rf_min_samples_leaf': 7, 'min_samples_split': 47, 'rf_estimators': 124, 'rf_max_feats': 0.3048559791478397}. Best is trial 154 with value: 0.5522924497637286.\u001b[0m\n"
     ]
    },
    {
     "name": "stdout",
     "output_type": "stream",
     "text": [
      "MEAN TRAIN:  0.560856034565185\n",
      "MEAN VALIDATION:  0.40103802657658427\n",
      "MEAN TEST 0.4869876126051548\n"
     ]
    },
    {
     "name": "stderr",
     "output_type": "stream",
     "text": [
      "\u001b[32m[I 2022-01-26 12:55:03,947]\u001b[0m Trial 318 finished with value: 0.4574179860017494 and parameters: {'rf_max_depth': 8, 'rf_min_samples_leaf': 15, 'min_samples_split': 72, 'rf_estimators': 86, 'rf_max_feats': 0.16084404747235123}. Best is trial 154 with value: 0.5522924497637286.\u001b[0m\n"
     ]
    },
    {
     "name": "stdout",
     "output_type": "stream",
     "text": [
      "MEAN TRAIN:  0.4890983621995121\n",
      "MEAN VALIDATION:  0.36440664774878495\n",
      "MEAN TEST 0.4574179860017494\n"
     ]
    },
    {
     "name": "stderr",
     "output_type": "stream",
     "text": [
      "\u001b[32m[I 2022-01-26 12:55:05,603]\u001b[0m Trial 317 finished with value: 0.4597124016848125 and parameters: {'rf_max_depth': 116, 'rf_min_samples_leaf': 27, 'min_samples_split': 62, 'rf_estimators': 70, 'rf_max_feats': 0.3035446311843176}. Best is trial 154 with value: 0.5522924497637286.\u001b[0m\n"
     ]
    },
    {
     "name": "stdout",
     "output_type": "stream",
     "text": [
      "MEAN TRAIN:  0.49636886335389097\n",
      "MEAN VALIDATION:  0.361135668875069\n",
      "MEAN TEST 0.4597124016848125\n"
     ]
    },
    {
     "name": "stderr",
     "output_type": "stream",
     "text": [
      "\u001b[32m[I 2022-01-26 12:55:07,764]\u001b[0m Trial 315 finished with value: 0.4318117350149552 and parameters: {'rf_max_depth': 3, 'rf_min_samples_leaf': 35, 'min_samples_split': 101, 'rf_estimators': 144, 'rf_max_feats': 0.240531876313841}. Best is trial 154 with value: 0.5522924497637286.\u001b[0m\n"
     ]
    },
    {
     "name": "stdout",
     "output_type": "stream",
     "text": [
      "MEAN TRAIN:  0.4264991896836654\n",
      "MEAN VALIDATION:  0.3356285239314402\n",
      "MEAN TEST 0.4318117350149552\n"
     ]
    },
    {
     "name": "stderr",
     "output_type": "stream",
     "text": [
      "\u001b[32m[I 2022-01-26 12:55:08,676]\u001b[0m Trial 323 finished with value: 0.39008743658536005 and parameters: {'rf_max_depth': 93, 'rf_min_samples_leaf': 74, 'min_samples_split': 36, 'rf_estimators': 35, 'rf_max_feats': 0.359049784656003}. Best is trial 154 with value: 0.5522924497637286.\u001b[0m\n"
     ]
    },
    {
     "name": "stdout",
     "output_type": "stream",
     "text": [
      "MEAN TRAIN:  0.35254359779728117\n",
      "MEAN VALIDATION:  0.2807895139964488\n",
      "MEAN TEST 0.39008743658536005\n"
     ]
    },
    {
     "name": "stderr",
     "output_type": "stream",
     "text": [
      "\u001b[32m[I 2022-01-26 12:55:09,135]\u001b[0m Trial 325 finished with value: 0.3686040365396961 and parameters: {'rf_max_depth': 103, 'rf_min_samples_leaf': 62, 'min_samples_split': 129, 'rf_estimators': 7, 'rf_max_feats': 0.15943475205235802}. Best is trial 154 with value: 0.5522924497637286.\u001b[0m\n"
     ]
    },
    {
     "name": "stdout",
     "output_type": "stream",
     "text": [
      "MEAN TRAIN:  0.34380340024562434\n",
      "MEAN VALIDATION:  0.2631076404350274\n",
      "MEAN TEST 0.3686040365396961\n"
     ]
    },
    {
     "name": "stderr",
     "output_type": "stream",
     "text": [
      "\u001b[32m[I 2022-01-26 12:55:09,564]\u001b[0m Trial 320 finished with value: 0.46143945790538987 and parameters: {'rf_max_depth': 129, 'rf_min_samples_leaf': 23, 'min_samples_split': 73, 'rf_estimators': 116, 'rf_max_feats': 0.23677834479262172}. Best is trial 154 with value: 0.5522924497637286.\u001b[0m\n"
     ]
    },
    {
     "name": "stdout",
     "output_type": "stream",
     "text": [
      "MEAN TRAIN:  0.4825462160654917\n",
      "MEAN VALIDATION:  0.36216925090544255\n",
      "MEAN TEST 0.46143945790538987\n"
     ]
    },
    {
     "name": "stderr",
     "output_type": "stream",
     "text": [
      "\u001b[32m[I 2022-01-26 12:55:10,205]\u001b[0m Trial 321 finished with value: 0.41921863150787075 and parameters: {'rf_max_depth': 133, 'rf_min_samples_leaf': 53, 'min_samples_split': 56, 'rf_estimators': 111, 'rf_max_feats': 0.3352194616470768}. Best is trial 154 with value: 0.5522924497637286.\u001b[0m\n"
     ]
    },
    {
     "name": "stdout",
     "output_type": "stream",
     "text": [
      "MEAN TRAIN:  0.40476062815573355\n",
      "MEAN VALIDATION:  0.3210098967002368\n",
      "MEAN TEST 0.41921863150787075\n"
     ]
    },
    {
     "name": "stderr",
     "output_type": "stream",
     "text": [
      "\u001b[32m[I 2022-01-26 12:55:12,100]\u001b[0m Trial 319 finished with value: 0.4975352406028405 and parameters: {'rf_max_depth': 117, 'rf_min_samples_leaf': 1, 'min_samples_split': 63, 'rf_estimators': 86, 'rf_max_feats': 0.30544307143426497}. Best is trial 154 with value: 0.5522924497637286.\u001b[0m\n"
     ]
    },
    {
     "name": "stdout",
     "output_type": "stream",
     "text": [
      "MEAN TRAIN:  0.6093081148477437\n",
      "MEAN VALIDATION:  0.41502105431396175\n",
      "MEAN TEST 0.4975352406028405\n"
     ]
    },
    {
     "name": "stderr",
     "output_type": "stream",
     "text": [
      "\u001b[32m[I 2022-01-26 12:55:14,162]\u001b[0m Trial 326 finished with value: 0.37691483800697567 and parameters: {'rf_max_depth': 40, 'rf_min_samples_leaf': 41, 'min_samples_split': 144, 'rf_estimators': 108, 'rf_max_feats': 0.10703427220815187}. Best is trial 154 with value: 0.5522924497637286.\u001b[0m\n"
     ]
    },
    {
     "name": "stdout",
     "output_type": "stream",
     "text": [
      "MEAN TRAIN:  0.3589737415092157\n",
      "MEAN VALIDATION:  0.2845642130994047\n",
      "MEAN TEST 0.37691483800697567\n"
     ]
    },
    {
     "name": "stderr",
     "output_type": "stream",
     "text": [
      "\u001b[32m[I 2022-01-26 12:55:15,897]\u001b[0m Trial 324 finished with value: 0.47407030733181743 and parameters: {'rf_max_depth': 62, 'rf_min_samples_leaf': 19, 'min_samples_split': 2, 'rf_estimators': 91, 'rf_max_feats': 0.12171073352913159}. Best is trial 154 with value: 0.5522924497637286.\u001b[0m\n"
     ]
    },
    {
     "name": "stdout",
     "output_type": "stream",
     "text": [
      "MEAN TRAIN:  0.5408139859818698\n",
      "MEAN VALIDATION:  0.3885438840365458\n",
      "MEAN TEST 0.47407030733181743\n"
     ]
    },
    {
     "name": "stderr",
     "output_type": "stream",
     "text": [
      "\u001b[32m[I 2022-01-26 12:55:16,724]\u001b[0m Trial 328 finished with value: 0.4562991832050277 and parameters: {'rf_max_depth': 89, 'rf_min_samples_leaf': 23, 'min_samples_split': 73, 'rf_estimators': 51, 'rf_max_feats': 0.24927922625422333}. Best is trial 154 with value: 0.5522924497637286.\u001b[0m\n"
     ]
    },
    {
     "name": "stdout",
     "output_type": "stream",
     "text": [
      "MEAN TRAIN:  0.4839842698182453\n",
      "MEAN VALIDATION:  0.35978784878556047\n",
      "MEAN TEST 0.4562991832050277\n"
     ]
    },
    {
     "name": "stderr",
     "output_type": "stream",
     "text": [
      "\u001b[32m[I 2022-01-26 12:55:17,094]\u001b[0m Trial 330 finished with value: 0.3864305378146379 and parameters: {'rf_max_depth': 48, 'rf_min_samples_leaf': 64, 'min_samples_split': 129, 'rf_estimators': 50, 'rf_max_feats': 0.14263063708061186}. Best is trial 154 with value: 0.5522924497637286.\u001b[0m\n"
     ]
    },
    {
     "name": "stdout",
     "output_type": "stream",
     "text": [
      "MEAN TRAIN:  0.3564821239504587\n",
      "MEAN VALIDATION:  0.2894585002496374\n",
      "MEAN TEST 0.3864305378146379\n"
     ]
    },
    {
     "name": "stderr",
     "output_type": "stream",
     "text": [
      "\u001b[32m[I 2022-01-26 12:55:18,013]\u001b[0m Trial 332 finished with value: 0.38489624275068335 and parameters: {'rf_max_depth': 31, 'rf_min_samples_leaf': 65, 'min_samples_split': 73, 'rf_estimators': 12, 'rf_max_feats': 0.38080004161311753}. Best is trial 154 with value: 0.5522924497637286.\u001b[0m\n"
     ]
    },
    {
     "name": "stdout",
     "output_type": "stream",
     "text": [
      "MEAN TRAIN:  0.36384359201921035\n",
      "MEAN VALIDATION:  0.28976023829645225\n",
      "MEAN TEST 0.38489624275068335\n"
     ]
    },
    {
     "name": "stderr",
     "output_type": "stream",
     "text": [
      "\u001b[32m[I 2022-01-26 12:55:20,382]\u001b[0m Trial 327 finished with value: 0.4346357413983978 and parameters: {'rf_max_depth': 61, 'rf_min_samples_leaf': 33, 'min_samples_split': 100, 'rf_estimators': 109, 'rf_max_feats': 0.24534907926792712}. Best is trial 154 with value: 0.5522924497637286.\u001b[0m\n"
     ]
    },
    {
     "name": "stdout",
     "output_type": "stream",
     "text": [
      "MEAN TRAIN:  0.4335405024100944\n",
      "MEAN VALIDATION:  0.3339793629346355\n",
      "MEAN TEST 0.4346357413983978\n"
     ]
    },
    {
     "name": "stderr",
     "output_type": "stream",
     "text": [
      "\u001b[32m[I 2022-01-26 12:55:21,098]\u001b[0m Trial 334 finished with value: 0.415174624718989 and parameters: {'rf_max_depth': 36, 'rf_min_samples_leaf': 2, 'min_samples_split': 121, 'rf_estimators': 51, 'rf_max_feats': 0.11272436586590792}. Best is trial 154 with value: 0.5522924497637286.\u001b[0m\n"
     ]
    },
    {
     "name": "stdout",
     "output_type": "stream",
     "text": [
      "MEAN TRAIN:  0.41813333120275864\n",
      "MEAN VALIDATION:  0.3177039125993951\n",
      "MEAN TEST 0.415174624718989\n"
     ]
    },
    {
     "name": "stderr",
     "output_type": "stream",
     "text": [
      "\u001b[32m[I 2022-01-26 12:55:23,898]\u001b[0m Trial 331 finished with value: 0.3990270427120782 and parameters: {'rf_max_depth': 6, 'rf_min_samples_leaf': 66, 'min_samples_split': 23, 'rf_estimators': 76, 'rf_max_feats': 0.3749185281634642}. Best is trial 154 with value: 0.5522924497637286.\u001b[0m\n"
     ]
    },
    {
     "name": "stdout",
     "output_type": "stream",
     "text": [
      "MEAN TRAIN:  0.3692386539362674\n",
      "MEAN VALIDATION:  0.2924021641891731\n",
      "MEAN TEST 0.3990270427120782\n"
     ]
    },
    {
     "name": "stderr",
     "output_type": "stream",
     "text": [
      "\u001b[32m[I 2022-01-26 12:55:24,488]\u001b[0m Trial 322 finished with value: 0.47048962304769243 and parameters: {'rf_max_depth': 25, 'rf_min_samples_leaf': 6, 'min_samples_split': 79, 'rf_estimators': 148, 'rf_max_feats': 0.2936477192105139}. Best is trial 154 with value: 0.5522924497637286.\u001b[0m\n"
     ]
    },
    {
     "name": "stdout",
     "output_type": "stream",
     "text": [
      "MEAN TRAIN:  0.5153944549733351\n",
      "MEAN VALIDATION:  0.3777049933521804\n",
      "MEAN TEST 0.47048962304769243\n"
     ]
    },
    {
     "name": "stderr",
     "output_type": "stream",
     "text": [
      "\u001b[32m[I 2022-01-26 12:55:25,488]\u001b[0m Trial 336 finished with value: 0.36728257711453755 and parameters: {'rf_max_depth': 129, 'rf_min_samples_leaf': 80, 'min_samples_split': 62, 'rf_estimators': 75, 'rf_max_feats': 0.19112810641788142}. Best is trial 154 with value: 0.5522924497637286.\u001b[0m\n"
     ]
    },
    {
     "name": "stdout",
     "output_type": "stream",
     "text": [
      "MEAN TRAIN:  0.32953523688404407\n",
      "MEAN VALIDATION:  0.26881834722015674\n",
      "MEAN TEST 0.36728257711453755\n"
     ]
    },
    {
     "name": "stderr",
     "output_type": "stream",
     "text": [
      "\u001b[32m[I 2022-01-26 12:55:27,289]\u001b[0m Trial 337 finished with value: 0.44483975000184195 and parameters: {'rf_max_depth': 82, 'rf_min_samples_leaf': 39, 'min_samples_split': 30, 'rf_estimators': 35, 'rf_max_feats': 0.22703744150321095}. Best is trial 154 with value: 0.5522924497637286.\u001b[0m\n"
     ]
    },
    {
     "name": "stdout",
     "output_type": "stream",
     "text": [
      "MEAN TRAIN:  0.44936316953430155\n",
      "MEAN VALIDATION:  0.34384798620831225\n",
      "MEAN TEST 0.44483975000184195\n"
     ]
    },
    {
     "name": "stderr",
     "output_type": "stream",
     "text": [
      "\u001b[32m[I 2022-01-26 12:55:27,932]\u001b[0m Trial 333 finished with value: 0.4562075564001521 and parameters: {'rf_max_depth': 50, 'rf_min_samples_leaf': 15, 'min_samples_split': 72, 'rf_estimators': 141, 'rf_max_feats': 0.13261871409998663}. Best is trial 154 with value: 0.5522924497637286.\u001b[0m\n"
     ]
    },
    {
     "name": "stdout",
     "output_type": "stream",
     "text": [
      "MEAN TRAIN:  0.4857065558826049\n",
      "MEAN VALIDATION:  0.362453492929198\n",
      "MEAN TEST 0.4562075564001521\n"
     ]
    },
    {
     "name": "stderr",
     "output_type": "stream",
     "text": [
      "\u001b[32m[I 2022-01-26 12:55:29,940]\u001b[0m Trial 335 finished with value: 0.3835474025772572 and parameters: {'rf_max_depth': 91, 'rf_min_samples_leaf': 70, 'min_samples_split': 82, 'rf_estimators': 139, 'rf_max_feats': 0.24128513179325833}. Best is trial 154 with value: 0.5522924497637286.\u001b[0m\n"
     ]
    },
    {
     "name": "stdout",
     "output_type": "stream",
     "text": [
      "MEAN TRAIN:  0.3528104083605834\n",
      "MEAN VALIDATION:  0.27938168903752747\n",
      "MEAN TEST 0.3835474025772572\n"
     ]
    },
    {
     "name": "stderr",
     "output_type": "stream",
     "text": [
      "\u001b[32m[I 2022-01-26 12:55:31,884]\u001b[0m Trial 329 finished with value: 0.491943861675532 and parameters: {'rf_max_depth': 93, 'rf_min_samples_leaf': 19, 'min_samples_split': 39, 'rf_estimators': 130, 'rf_max_feats': 0.27168102352640006}. Best is trial 154 with value: 0.5522924497637286.\u001b[0m\n"
     ]
    },
    {
     "name": "stdout",
     "output_type": "stream",
     "text": [
      "MEAN TRAIN:  0.5655072755145729\n",
      "MEAN VALIDATION:  0.399740138675419\n",
      "MEAN TEST 0.491943861675532\n"
     ]
    },
    {
     "name": "stderr",
     "output_type": "stream",
     "text": [
      "\u001b[32m[I 2022-01-26 12:55:33,659]\u001b[0m Trial 338 finished with value: 0.39244055777320935 and parameters: {'rf_max_depth': 12, 'rf_min_samples_leaf': 65, 'min_samples_split': 15, 'rf_estimators': 124, 'rf_max_feats': 0.23180815775416327}. Best is trial 154 with value: 0.5522924497637286.\u001b[0m\n"
     ]
    },
    {
     "name": "stdout",
     "output_type": "stream",
     "text": [
      "MEAN TRAIN:  0.36588122524994204\n",
      "MEAN VALIDATION:  0.2895646449904322\n",
      "MEAN TEST 0.39244055777320935\n"
     ]
    },
    {
     "name": "stderr",
     "output_type": "stream",
     "text": [
      "\u001b[32m[I 2022-01-26 12:55:35,925]\u001b[0m Trial 341 finished with value: 0.4162995465313453 and parameters: {'rf_max_depth': 36, 'rf_min_samples_leaf': 43, 'min_samples_split': 4, 'rf_estimators': 131, 'rf_max_feats': 0.1079651693171487}. Best is trial 154 with value: 0.5522924497637286.\u001b[0m\n"
     ]
    },
    {
     "name": "stdout",
     "output_type": "stream",
     "text": [
      "MEAN TRAIN:  0.41784316954227074\n",
      "MEAN VALIDATION:  0.32398066171765477\n",
      "MEAN TEST 0.4162995465313453\n"
     ]
    },
    {
     "name": "stderr",
     "output_type": "stream",
     "text": [
      "\u001b[32m[I 2022-01-26 12:55:37,577]\u001b[0m Trial 339 finished with value: 0.5414301520351225 and parameters: {'rf_max_depth': 109, 'rf_min_samples_leaf': 3, 'min_samples_split': 14, 'rf_estimators': 78, 'rf_max_feats': 0.14684367747319815}. Best is trial 154 with value: 0.5522924497637286.\u001b[0m\n"
     ]
    },
    {
     "name": "stdout",
     "output_type": "stream",
     "text": [
      "MEAN TRAIN:  0.7845117349444077\n",
      "MEAN VALIDATION:  0.4792290817375157\n",
      "MEAN TEST 0.5414301520351225\n"
     ]
    },
    {
     "name": "stderr",
     "output_type": "stream",
     "text": [
      "\u001b[32m[I 2022-01-26 12:55:38,728]\u001b[0m Trial 343 finished with value: 0.4067197618727304 and parameters: {'rf_max_depth': 88, 'rf_min_samples_leaf': 39, 'min_samples_split': 122, 'rf_estimators': 95, 'rf_max_feats': 0.19506485939930177}. Best is trial 154 with value: 0.5522924497637286.\u001b[0m\n",
      "\u001b[32m[I 2022-01-26 12:55:38,781]\u001b[0m Trial 342 finished with value: 0.48870778007459814 and parameters: {'rf_max_depth': 105, 'rf_min_samples_leaf': 16, 'min_samples_split': 6, 'rf_estimators': 81, 'rf_max_feats': 0.1515093753548118}. Best is trial 154 with value: 0.5522924497637286.\u001b[0m\n"
     ]
    },
    {
     "name": "stdout",
     "output_type": "stream",
     "text": [
      "MEAN TRAIN:  0.3897386430191774\n",
      "MEAN VALIDATION:  0.3097159526475214\n",
      "MEAN TEST 0.4067197618727304\n",
      "MEAN TRAIN:  0.5785835212420534\n",
      "MEAN VALIDATION:  0.3992169339444828\n",
      "MEAN TEST 0.48870778007459814\n"
     ]
    },
    {
     "name": "stderr",
     "output_type": "stream",
     "text": [
      "\u001b[32m[I 2022-01-26 12:55:40,900]\u001b[0m Trial 340 finished with value: 0.4114305593367272 and parameters: {'rf_max_depth': 13, 'rf_min_samples_leaf': 57, 'min_samples_split': 82, 'rf_estimators': 147, 'rf_max_feats': 0.29089997671668544}. Best is trial 154 with value: 0.5522924497637286.\u001b[0m\n"
     ]
    },
    {
     "name": "stdout",
     "output_type": "stream",
     "text": [
      "MEAN TRAIN:  0.3922614380091122\n",
      "MEAN VALIDATION:  0.30986145481754385\n",
      "MEAN TEST 0.4114305593367272\n"
     ]
    },
    {
     "name": "stderr",
     "output_type": "stream",
     "text": [
      "\u001b[32m[I 2022-01-26 12:55:42,033]\u001b[0m Trial 344 finished with value: 0.4032192929940067 and parameters: {'rf_max_depth': 4, 'rf_min_samples_leaf': 61, 'min_samples_split': 52, 'rf_estimators': 100, 'rf_max_feats': 0.29526048006823363}. Best is trial 154 with value: 0.5522924497637286.\u001b[0m\n"
     ]
    },
    {
     "name": "stdout",
     "output_type": "stream",
     "text": [
      "MEAN TRAIN:  0.37768457956145474\n",
      "MEAN VALIDATION:  0.2988679535906564\n",
      "MEAN TEST 0.4032192929940067\n"
     ]
    },
    {
     "name": "stderr",
     "output_type": "stream",
     "text": [
      "\u001b[32m[I 2022-01-26 12:55:42,269]\u001b[0m Trial 348 finished with value: 0.404558325668552 and parameters: {'rf_max_depth': 20, 'rf_min_samples_leaf': 6, 'min_samples_split': 136, 'rf_estimators': 52, 'rf_max_feats': 0.22703744150321095}. Best is trial 154 with value: 0.5522924497637286.\u001b[0m\n"
     ]
    },
    {
     "name": "stdout",
     "output_type": "stream",
     "text": [
      "MEAN TRAIN:  0.39079163358970037\n",
      "MEAN VALIDATION:  0.3030455990256681\n",
      "MEAN TEST 0.404558325668552\n"
     ]
    },
    {
     "name": "stderr",
     "output_type": "stream",
     "text": [
      "\u001b[32m[I 2022-01-26 12:55:46,701]\u001b[0m Trial 345 finished with value: 0.4144037372897088 and parameters: {'rf_max_depth': 89, 'rf_min_samples_leaf': 33, 'min_samples_split': 126, 'rf_estimators': 109, 'rf_max_feats': 0.37628160037292935}. Best is trial 154 with value: 0.5522924497637286.\u001b[0m\n"
     ]
    },
    {
     "name": "stdout",
     "output_type": "stream",
     "text": [
      "MEAN TRAIN:  0.3985727269931065\n",
      "MEAN VALIDATION:  0.3080727459660425\n",
      "MEAN TEST 0.4144037372897088\n"
     ]
    },
    {
     "name": "stderr",
     "output_type": "stream",
     "text": [
      "\u001b[32m[I 2022-01-26 12:55:47,812]\u001b[0m Trial 351 finished with value: 0.3960046129591886 and parameters: {'rf_max_depth': 102, 'rf_min_samples_leaf': 65, 'min_samples_split': 59, 'rf_estimators': 72, 'rf_max_feats': 0.30544307143426497}. Best is trial 154 with value: 0.5522924497637286.\u001b[0m\n",
      "\u001b[32m[I 2022-01-26 12:55:47,864]\u001b[0m Trial 347 finished with value: 0.4803844476288134 and parameters: {'rf_max_depth': 99, 'rf_min_samples_leaf': 22, 'min_samples_split': 16, 'rf_estimators': 79, 'rf_max_feats': 0.24823792777759626}. Best is trial 154 with value: 0.5522924497637286.\u001b[0m\n"
     ]
    },
    {
     "name": "stdout",
     "output_type": "stream",
     "text": [
      "MEAN TRAIN:  0.365287379571945\n",
      "MEAN VALIDATION:  0.2948989636217433\n",
      "MEAN TEST 0.3960046129591886\n",
      "MEAN TRAIN:  0.5370978174500461\n",
      "MEAN VALIDATION:  0.3971295746406086\n",
      "MEAN TEST 0.4803844476288134\n"
     ]
    },
    {
     "name": "stderr",
     "output_type": "stream",
     "text": [
      "\u001b[32m[I 2022-01-26 12:55:48,596]\u001b[0m Trial 354 finished with value: 0.46042963973704065 and parameters: {'rf_max_depth': 117, 'rf_min_samples_leaf': 1, 'min_samples_split': 63, 'rf_estimators': 8, 'rf_max_feats': 0.11529672930234706}. Best is trial 154 with value: 0.5522924497637286.\u001b[0m\n"
     ]
    },
    {
     "name": "stdout",
     "output_type": "stream",
     "text": [
      "MEAN TRAIN:  0.5613284761240607\n",
      "MEAN VALIDATION:  0.3721053580717922\n",
      "MEAN TEST 0.46042963973704065\n"
     ]
    },
    {
     "name": "stderr",
     "output_type": "stream",
     "text": [
      "\u001b[32m[I 2022-01-26 12:55:49,508]\u001b[0m Trial 355 finished with value: 0.4399839440790327 and parameters: {'rf_max_depth': 31, 'rf_min_samples_leaf': 8, 'min_samples_split': 75, 'rf_estimators': 14, 'rf_max_feats': 0.10703427220815187}. Best is trial 154 with value: 0.5522924497637286.\u001b[0m\n"
     ]
    },
    {
     "name": "stdout",
     "output_type": "stream",
     "text": [
      "MEAN TRAIN:  0.48096920308563973\n",
      "MEAN VALIDATION:  0.347100239828786\n",
      "MEAN TEST 0.4399839440790327\n"
     ]
    },
    {
     "name": "stderr",
     "output_type": "stream",
     "text": [
      "\u001b[32m[I 2022-01-26 12:55:50,131]\u001b[0m Trial 350 finished with value: 0.5036634137145964 and parameters: {'rf_max_depth': 81, 'rf_min_samples_leaf': 8, 'min_samples_split': 34, 'rf_estimators': 74, 'rf_max_feats': 0.17931782045014238}. Best is trial 154 with value: 0.5522924497637286.\u001b[0m\n"
     ]
    },
    {
     "name": "stdout",
     "output_type": "stream",
     "text": [
      "MEAN TRAIN:  0.6238482948987663\n",
      "MEAN VALIDATION:  0.42301698171353497\n",
      "MEAN TEST 0.5036634137145964\n"
     ]
    },
    {
     "name": "stderr",
     "output_type": "stream",
     "text": [
      "\u001b[32m[I 2022-01-26 12:55:50,946]\u001b[0m Trial 353 finished with value: 0.4635263089581355 and parameters: {'rf_max_depth': 133, 'rf_min_samples_leaf': 7, 'min_samples_split': 60, 'rf_estimators': 48, 'rf_max_feats': 0.10584924573435953}. Best is trial 154 with value: 0.5522924497637286.\u001b[0m\n"
     ]
    },
    {
     "name": "stdout",
     "output_type": "stream",
     "text": [
      "MEAN TRAIN:  0.530785801467752\n",
      "MEAN VALIDATION:  0.3860648439420918\n",
      "MEAN TEST 0.4635263089581355\n"
     ]
    },
    {
     "name": "stderr",
     "output_type": "stream",
     "text": [
      "\u001b[32m[I 2022-01-26 12:55:51,150]\u001b[0m Trial 346 finished with value: 0.49654073182799907 and parameters: {'rf_max_depth': 117, 'rf_min_samples_leaf': 1, 'min_samples_split': 63, 'rf_estimators': 86, 'rf_max_feats': 0.30544307143426497}. Best is trial 154 with value: 0.5522924497637286.\u001b[0m\n"
     ]
    },
    {
     "name": "stdout",
     "output_type": "stream",
     "text": [
      "MEAN TRAIN:  0.6133644321080132\n",
      "MEAN VALIDATION:  0.4198588081659982\n",
      "MEAN TEST 0.49654073182799907\n"
     ]
    },
    {
     "name": "stderr",
     "output_type": "stream",
     "text": [
      "\u001b[32m[I 2022-01-26 12:55:51,693]\u001b[0m Trial 349 finished with value: 0.5227611032204625 and parameters: {'rf_max_depth': 143, 'rf_min_samples_leaf': 8, 'min_samples_split': 4, 'rf_estimators': 64, 'rf_max_feats': 0.26261310838608254}. Best is trial 154 with value: 0.5522924497637286.\u001b[0m\n",
      "\u001b[32m[I 2022-01-26 12:55:51,792]\u001b[0m Trial 359 finished with value: 0.37337157179504094 and parameters: {'rf_max_depth': 121, 'rf_min_samples_leaf': 58, 'min_samples_split': 86, 'rf_estimators': 4, 'rf_max_feats': 0.29188749267317665}. Best is trial 154 with value: 0.5522924497637286.\u001b[0m\n"
     ]
    },
    {
     "name": "stdout",
     "output_type": "stream",
     "text": [
      "MEAN TRAIN:  0.7083457086403417\n",
      "MEAN VALIDATION:  0.44284121774677787\n",
      "MEAN TEST 0.5227611032204625\n",
      "MEAN TRAIN:  0.3512425844612325\n",
      "MEAN VALIDATION:  0.23157015945666326\n",
      "MEAN TEST 0.37337157179504094\n"
     ]
    },
    {
     "name": "stderr",
     "output_type": "stream",
     "text": [
      "\u001b[32m[I 2022-01-26 12:55:55,443]\u001b[0m Trial 352 finished with value: 0.4715268960286069 and parameters: {'rf_max_depth': 71, 'rf_min_samples_leaf': 24, 'min_samples_split': 30, 'rf_estimators': 67, 'rf_max_feats': 0.26130711509354204}. Best is trial 154 with value: 0.5522924497637286.\u001b[0m\n"
     ]
    },
    {
     "name": "stdout",
     "output_type": "stream",
     "text": [
      "MEAN TRAIN:  0.5289142314573178\n",
      "MEAN VALIDATION:  0.37916005211783804\n",
      "MEAN TEST 0.4715268960286069\n"
     ]
    },
    {
     "name": "stderr",
     "output_type": "stream",
     "text": [
      "\u001b[32m[I 2022-01-26 12:55:56,839]\u001b[0m Trial 361 finished with value: 0.4795992152106388 and parameters: {'rf_max_depth': 90, 'rf_min_samples_leaf': 22, 'min_samples_split': 49, 'rf_estimators': 39, 'rf_max_feats': 0.23422073334782467}. Best is trial 154 with value: 0.5522924497637286.\u001b[0m\n"
     ]
    },
    {
     "name": "stdout",
     "output_type": "stream",
     "text": [
      "MEAN TRAIN:  0.5270926536351501\n",
      "MEAN VALIDATION:  0.37385174307541547\n",
      "MEAN TEST 0.4795992152106388\n"
     ]
    },
    {
     "name": "stderr",
     "output_type": "stream",
     "text": [
      "\u001b[32m[I 2022-01-26 12:55:57,691]\u001b[0m Trial 357 finished with value: 0.37453954104739073 and parameters: {'rf_max_depth': 84, 'rf_min_samples_leaf': 75, 'min_samples_split': 98, 'rf_estimators': 122, 'rf_max_feats': 0.21344696362766355}. Best is trial 154 with value: 0.5522924497637286.\u001b[0m\n"
     ]
    },
    {
     "name": "stdout",
     "output_type": "stream",
     "text": [
      "MEAN TRAIN:  0.34368099935318747\n",
      "MEAN VALIDATION:  0.2738499249238285\n",
      "MEAN TEST 0.37453954104739073\n"
     ]
    },
    {
     "name": "stderr",
     "output_type": "stream",
     "text": [
      "\u001b[32m[I 2022-01-26 12:55:58,035]\u001b[0m Trial 360 finished with value: 0.4190472460077038 and parameters: {'rf_max_depth': 65, 'rf_min_samples_leaf': 51, 'min_samples_split': 93, 'rf_estimators': 78, 'rf_max_feats': 0.21136188244879323}. Best is trial 154 with value: 0.5522924497637286.\u001b[0m\n"
     ]
    },
    {
     "name": "stdout",
     "output_type": "stream",
     "text": [
      "MEAN TRAIN:  0.4051064315862801\n",
      "MEAN VALIDATION:  0.32162037793392917\n",
      "MEAN TEST 0.4190472460077038\n"
     ]
    },
    {
     "name": "stderr",
     "output_type": "stream",
     "text": [
      "\u001b[32m[I 2022-01-26 12:56:00,118]\u001b[0m Trial 356 finished with value: 0.5509940979962901 and parameters: {'rf_max_depth': 80, 'rf_min_samples_leaf': 1, 'min_samples_split': 12, 'rf_estimators': 39, 'rf_max_feats': 0.2693556080076496}. Best is trial 154 with value: 0.5522924497637286.\u001b[0m\n"
     ]
    },
    {
     "name": "stdout",
     "output_type": "stream",
     "text": [
      "MEAN TRAIN:  0.8514299043926495\n",
      "MEAN VALIDATION:  0.4808337084109696\n",
      "MEAN TEST 0.5509940979962901\n"
     ]
    },
    {
     "name": "stderr",
     "output_type": "stream",
     "text": [
      "\u001b[32m[I 2022-01-26 12:56:00,659]\u001b[0m Trial 366 finished with value: 0.3525438803167007 and parameters: {'rf_max_depth': 41, 'rf_min_samples_leaf': 78, 'min_samples_split': 142, 'rf_estimators': 12, 'rf_max_feats': 0.10229773961391604}. Best is trial 154 with value: 0.5522924497637286.\u001b[0m\n"
     ]
    },
    {
     "name": "stdout",
     "output_type": "stream",
     "text": [
      "MEAN TRAIN:  0.3176360818160268\n",
      "MEAN VALIDATION:  0.2560894868596642\n",
      "MEAN TEST 0.3525438803167007\n"
     ]
    },
    {
     "name": "stderr",
     "output_type": "stream",
     "text": [
      "\u001b[32m[I 2022-01-26 12:56:02,646]\u001b[0m Trial 363 finished with value: 0.40150586656201626 and parameters: {'rf_max_depth': 99, 'rf_min_samples_leaf': 55, 'min_samples_split': 84, 'rf_estimators': 96, 'rf_max_feats': 0.14650178821423257}. Best is trial 154 with value: 0.5522924497637286.\u001b[0m\n"
     ]
    },
    {
     "name": "stdout",
     "output_type": "stream",
     "text": [
      "MEAN TRAIN:  0.3859394171823573\n",
      "MEAN VALIDATION:  0.3029760702852732\n",
      "MEAN TEST 0.40150586656201626\n"
     ]
    },
    {
     "name": "stderr",
     "output_type": "stream",
     "text": [
      "\u001b[32m[I 2022-01-26 12:56:04,181]\u001b[0m Trial 358 finished with value: 0.5275880251359888 and parameters: {'rf_max_depth': 143, 'rf_min_samples_leaf': 8, 'min_samples_split': 4, 'rf_estimators': 64, 'rf_max_feats': 0.26261310838608254}. Best is trial 154 with value: 0.5522924497637286.\u001b[0m\n"
     ]
    },
    {
     "name": "stdout",
     "output_type": "stream",
     "text": [
      "MEAN TRAIN:  0.7089986547530913\n",
      "MEAN VALIDATION:  0.4477967226654115\n",
      "MEAN TEST 0.5275880251359888\n"
     ]
    },
    {
     "name": "stderr",
     "output_type": "stream",
     "text": [
      "\u001b[32m[I 2022-01-26 12:56:07,467]\u001b[0m Trial 364 finished with value: 0.45197498038356265 and parameters: {'rf_max_depth': 139, 'rf_min_samples_leaf': 30, 'min_samples_split': 83, 'rf_estimators': 68, 'rf_max_feats': 0.3341816735844944}. Best is trial 154 with value: 0.5522924497637286.\u001b[0m\n"
     ]
    },
    {
     "name": "stdout",
     "output_type": "stream",
     "text": [
      "MEAN TRAIN:  0.4648571368429681\n",
      "MEAN VALIDATION:  0.3497754659662137\n",
      "MEAN TEST 0.45197498038356265\n"
     ]
    },
    {
     "name": "stderr",
     "output_type": "stream",
     "text": [
      "\u001b[32m[I 2022-01-26 12:56:07,736]\u001b[0m Trial 365 finished with value: 0.43571073021579637 and parameters: {'rf_max_depth': 54, 'rf_min_samples_leaf': 43, 'min_samples_split': 59, 'rf_estimators': 83, 'rf_max_feats': 0.26953295131945465}. Best is trial 154 with value: 0.5522924497637286.\u001b[0m\n"
     ]
    },
    {
     "name": "stdout",
     "output_type": "stream",
     "text": [
      "MEAN TRAIN:  0.4377447764936647\n",
      "MEAN VALIDATION:  0.3379797857268324\n",
      "MEAN TEST 0.43571073021579637\n"
     ]
    },
    {
     "name": "stderr",
     "output_type": "stream",
     "text": [
      "\u001b[32m[I 2022-01-26 12:56:09,988]\u001b[0m Trial 367 finished with value: 0.4281292923843809 and parameters: {'rf_max_depth': 30, 'rf_min_samples_leaf': 45, 'min_samples_split': 32, 'rf_estimators': 89, 'rf_max_feats': 0.24227246123734547}. Best is trial 154 with value: 0.5522924497637286.\u001b[0m\n"
     ]
    },
    {
     "name": "stdout",
     "output_type": "stream",
     "text": [
      "MEAN TRAIN:  0.42794366299615405\n",
      "MEAN VALIDATION:  0.3337383244697086\n",
      "MEAN TEST 0.4281292923843809\n"
     ]
    },
    {
     "name": "stderr",
     "output_type": "stream",
     "text": [
      "\u001b[32m[I 2022-01-26 12:56:14,467]\u001b[0m Trial 370 finished with value: 0.46673402166824535 and parameters: {'rf_max_depth': 98, 'rf_min_samples_leaf': 19, 'min_samples_split': 71, 'rf_estimators': 44, 'rf_max_feats': 0.37774454139844355}. Best is trial 154 with value: 0.5522924497637286.\u001b[0m\n"
     ]
    },
    {
     "name": "stdout",
     "output_type": "stream",
     "text": [
      "MEAN TRAIN:  0.5041802648166642\n",
      "MEAN VALIDATION:  0.36258227055583336\n",
      "MEAN TEST 0.46673402166824535\n"
     ]
    },
    {
     "name": "stderr",
     "output_type": "stream",
     "text": [
      "\u001b[32m[I 2022-01-26 12:56:15,265]\u001b[0m Trial 372 finished with value: 0.3975730523113116 and parameters: {'rf_max_depth': 55, 'rf_min_samples_leaf': 30, 'min_samples_split': 126, 'rf_estimators': 105, 'rf_max_feats': 0.11771418941169369}. Best is trial 154 with value: 0.5522924497637286.\u001b[0m\n"
     ]
    },
    {
     "name": "stdout",
     "output_type": "stream",
     "text": [
      "MEAN TRAIN:  0.3838476417969011\n",
      "MEAN VALIDATION:  0.30350651568585124\n",
      "MEAN TEST 0.3975730523113116\n"
     ]
    },
    {
     "name": "stderr",
     "output_type": "stream",
     "text": [
      "\u001b[32m[I 2022-01-26 12:56:16,236]\u001b[0m Trial 362 finished with value: 0.49216457767465266 and parameters: {'rf_max_depth': 93, 'rf_min_samples_leaf': 9, 'min_samples_split': 50, 'rf_estimators': 131, 'rf_max_feats': 0.2790276694076502}. Best is trial 154 with value: 0.5522924497637286.\u001b[0m\n"
     ]
    },
    {
     "name": "stdout",
     "output_type": "stream",
     "text": [
      "MEAN TRAIN:  0.5785685965195033\n",
      "MEAN VALIDATION:  0.40203542718305385\n",
      "MEAN TEST 0.49216457767465266\n"
     ]
    },
    {
     "name": "stderr",
     "output_type": "stream",
     "text": [
      "\u001b[32m[I 2022-01-26 12:56:16,746]\u001b[0m Trial 373 finished with value: 0.43733152771890627 and parameters: {'rf_max_depth': 149, 'rf_min_samples_leaf': 36, 'min_samples_split': 79, 'rf_estimators': 23, 'rf_max_feats': 0.22384960169408882}. Best is trial 154 with value: 0.5522924497637286.\u001b[0m\n"
     ]
    },
    {
     "name": "stdout",
     "output_type": "stream",
     "text": [
      "MEAN TRAIN:  0.44930547824226696\n",
      "MEAN VALIDATION:  0.34027491630461715\n",
      "MEAN TEST 0.43733152771890627\n"
     ]
    },
    {
     "name": "stderr",
     "output_type": "stream",
     "text": [
      "\u001b[32m[I 2022-01-26 12:56:17,514]\u001b[0m Trial 368 finished with value: 0.44744966665906405 and parameters: {'rf_max_depth': 103, 'rf_min_samples_leaf': 15, 'min_samples_split': 93, 'rf_estimators': 117, 'rf_max_feats': 0.3212814979510111}. Best is trial 154 with value: 0.5522924497637286.\u001b[0m\n"
     ]
    },
    {
     "name": "stdout",
     "output_type": "stream",
     "text": [
      "MEAN TRAIN:  0.46388311415263594\n",
      "MEAN VALIDATION:  0.3558207665478325\n",
      "MEAN TEST 0.44744966665906405\n"
     ]
    },
    {
     "name": "stderr",
     "output_type": "stream",
     "text": [
      "\u001b[32m[I 2022-01-26 12:56:17,718]\u001b[0m Trial 369 finished with value: 0.4364318123896525 and parameters: {'rf_max_depth': 114, 'rf_min_samples_leaf': 32, 'min_samples_split': 100, 'rf_estimators': 144, 'rf_max_feats': 0.240531876313841}. Best is trial 154 with value: 0.5522924497637286.\u001b[0m\n"
     ]
    },
    {
     "name": "stdout",
     "output_type": "stream",
     "text": [
      "MEAN TRAIN:  0.4350793573782319\n",
      "MEAN VALIDATION:  0.3373017886355044\n",
      "MEAN TEST 0.4364318123896525\n"
     ]
    },
    {
     "name": "stderr",
     "output_type": "stream",
     "text": [
      "\u001b[32m[I 2022-01-26 12:56:21,819]\u001b[0m Trial 377 finished with value: 0.48391623824110297 and parameters: {'rf_max_depth': 63, 'rf_min_samples_leaf': 6, 'min_samples_split': 55, 'rf_estimators': 30, 'rf_max_feats': 0.21898454056865116}. Best is trial 154 with value: 0.5522924497637286.\u001b[0m\n"
     ]
    },
    {
     "name": "stdout",
     "output_type": "stream",
     "text": [
      "MEAN TRAIN:  0.5732063801496586\n",
      "MEAN VALIDATION:  0.40267287148490893\n",
      "MEAN TEST 0.48391623824110297\n"
     ]
    },
    {
     "name": "stderr",
     "output_type": "stream",
     "text": [
      "\u001b[32m[I 2022-01-26 12:56:22,584]\u001b[0m Trial 374 finished with value: 0.41618541652511765 and parameters: {'rf_max_depth': 128, 'rf_min_samples_leaf': 5, 'min_samples_split': 125, 'rf_estimators': 90, 'rf_max_feats': 0.20840511094045105}. Best is trial 154 with value: 0.5522924497637286.\u001b[0m\n"
     ]
    },
    {
     "name": "stdout",
     "output_type": "stream",
     "text": [
      "MEAN TRAIN:  0.41167815771413296\n",
      "MEAN VALIDATION:  0.3206442664212445\n",
      "MEAN TEST 0.41618541652511765\n"
     ]
    },
    {
     "name": "stderr",
     "output_type": "stream",
     "text": [
      "\u001b[32m[I 2022-01-26 12:56:23,455]\u001b[0m Trial 378 finished with value: 0.4114629136675528 and parameters: {'rf_max_depth': 16, 'rf_min_samples_leaf': 52, 'min_samples_split': 98, 'rf_estimators': 74, 'rf_max_feats': 0.18027584725047166}. Best is trial 154 with value: 0.5522924497637286.\u001b[0m\n"
     ]
    },
    {
     "name": "stdout",
     "output_type": "stream",
     "text": [
      "MEAN TRAIN:  0.39885840880954254\n",
      "MEAN VALIDATION:  0.3132780674517947\n",
      "MEAN TEST 0.4114629136675528\n"
     ]
    },
    {
     "name": "stderr",
     "output_type": "stream",
     "text": [
      "\u001b[32m[I 2022-01-26 12:56:23,920]\u001b[0m Trial 381 finished with value: 0.3851410922032245 and parameters: {'rf_max_depth': 111, 'rf_min_samples_leaf': 39, 'min_samples_split': 78, 'rf_estimators': 5, 'rf_max_feats': 0.15288227241577723}. Best is trial 154 with value: 0.5522924497637286.\u001b[0m\n"
     ]
    },
    {
     "name": "stdout",
     "output_type": "stream",
     "text": [
      "MEAN TRAIN:  0.4066046858825131\n",
      "MEAN VALIDATION:  0.31362585007849975\n",
      "MEAN TEST 0.3851410922032245\n"
     ]
    },
    {
     "name": "stderr",
     "output_type": "stream",
     "text": [
      "\u001b[32m[I 2022-01-26 12:56:25,013]\u001b[0m Trial 371 finished with value: 0.4473971198194347 and parameters: {'rf_max_depth': 86, 'rf_min_samples_leaf': 35, 'min_samples_split': 82, 'rf_estimators': 147, 'rf_max_feats': 0.29089997671668544}. Best is trial 154 with value: 0.5522924497637286.\u001b[0m\n"
     ]
    },
    {
     "name": "stdout",
     "output_type": "stream",
     "text": [
      "MEAN TRAIN:  0.4594091490917382\n",
      "MEAN VALIDATION:  0.35180745355154885\n",
      "MEAN TEST 0.4473971198194347\n"
     ]
    },
    {
     "name": "stderr",
     "output_type": "stream",
     "text": [
      "\u001b[32m[I 2022-01-26 12:56:26,941]\u001b[0m Trial 376 finished with value: 0.39903859837519945 and parameters: {'rf_max_depth': 2, 'rf_min_samples_leaf': 51, 'min_samples_split': 73, 'rf_estimators': 127, 'rf_max_feats': 0.24927922625422333}. Best is trial 154 with value: 0.5522924497637286.\u001b[0m\n",
      "\u001b[32m[I 2022-01-26 12:56:27,128]\u001b[0m Trial 375 finished with value: 0.3868022060860708 and parameters: {'rf_max_depth': 130, 'rf_min_samples_leaf': 70, 'min_samples_split': 72, 'rf_estimators': 143, 'rf_max_feats': 0.25144462148778923}. Best is trial 154 with value: 0.5522924497637286.\u001b[0m\n"
     ]
    },
    {
     "name": "stdout",
     "output_type": "stream",
     "text": [
      "MEAN TRAIN:  0.38244758172912396\n",
      "MEAN VALIDATION:  0.303519800297519\n",
      "MEAN TEST 0.39903859837519945\n",
      "MEAN TRAIN:  0.35615367557478944\n",
      "MEAN VALIDATION:  0.2859222538116127\n",
      "MEAN TEST 0.3868022060860708\n"
     ]
    },
    {
     "name": "stderr",
     "output_type": "stream",
     "text": [
      "\u001b[32m[I 2022-01-26 12:56:27,787]\u001b[0m Trial 383 finished with value: 0.38101256356964736 and parameters: {'rf_max_depth': 82, 'rf_min_samples_leaf': 63, 'min_samples_split': 122, 'rf_estimators': 52, 'rf_max_feats': 0.12544532715304713}. Best is trial 154 with value: 0.5522924497637286.\u001b[0m\n"
     ]
    },
    {
     "name": "stdout",
     "output_type": "stream",
     "text": [
      "MEAN TRAIN:  0.3572131011262146\n",
      "MEAN VALIDATION:  0.27984828632434033\n",
      "MEAN TEST 0.38101256356964736\n"
     ]
    },
    {
     "name": "stderr",
     "output_type": "stream",
     "text": [
      "\u001b[32m[I 2022-01-26 12:56:29,157]\u001b[0m Trial 379 finished with value: 0.4051873209765115 and parameters: {'rf_max_depth': 90, 'rf_min_samples_leaf': 43, 'min_samples_split': 129, 'rf_estimators': 89, 'rf_max_feats': 0.2624444850624932}. Best is trial 154 with value: 0.5522924497637286.\u001b[0m\n"
     ]
    },
    {
     "name": "stdout",
     "output_type": "stream",
     "text": [
      "MEAN TRAIN:  0.3833921531216645\n",
      "MEAN VALIDATION:  0.3015159745969697\n",
      "MEAN TEST 0.4051873209765115\n"
     ]
    },
    {
     "name": "stderr",
     "output_type": "stream",
     "text": [
      "\u001b[32m[I 2022-01-26 12:56:31,395]\u001b[0m Trial 382 finished with value: 0.4069666070281196 and parameters: {'rf_max_depth': 81, 'rf_min_samples_leaf': 59, 'min_samples_split': 37, 'rf_estimators': 83, 'rf_max_feats': 0.2790276694076502}. Best is trial 154 with value: 0.5522924497637286.\u001b[0m\n"
     ]
    },
    {
     "name": "stdout",
     "output_type": "stream",
     "text": [
      "MEAN TRAIN:  0.3849789791573584\n",
      "MEAN VALIDATION:  0.30720036150271685\n",
      "MEAN TEST 0.4069666070281196\n"
     ]
    },
    {
     "name": "stderr",
     "output_type": "stream",
     "text": [
      "\u001b[32m[I 2022-01-26 12:56:32,202]\u001b[0m Trial 385 finished with value: 0.4026031477951067 and parameters: {'rf_max_depth': 31, 'rf_min_samples_leaf': 57, 'min_samples_split': 39, 'rf_estimators': 71, 'rf_max_feats': 0.19317826453170944}. Best is trial 154 with value: 0.5522924497637286.\u001b[0m\n"
     ]
    },
    {
     "name": "stdout",
     "output_type": "stream",
     "text": [
      "MEAN TRAIN:  0.38140406460108867\n",
      "MEAN VALIDATION:  0.3062878631211672\n",
      "MEAN TEST 0.4026031477951067\n"
     ]
    },
    {
     "name": "stderr",
     "output_type": "stream",
     "text": [
      "\u001b[32m[I 2022-01-26 12:56:34,913]\u001b[0m Trial 387 finished with value: 0.39294680262928783 and parameters: {'rf_max_depth': 148, 'rf_min_samples_leaf': 45, 'min_samples_split': 126, 'rf_estimators': 109, 'rf_max_feats': 0.10863973642353174}. Best is trial 154 with value: 0.5522924497637286.\u001b[0m\n",
      "\u001b[32m[I 2022-01-26 12:56:34,993]\u001b[0m Trial 380 finished with value: 0.46554543004536536 and parameters: {'rf_max_depth': 60, 'rf_min_samples_leaf': 21, 'min_samples_split': 73, 'rf_estimators': 101, 'rf_max_feats': 0.2606108157219618}. Best is trial 154 with value: 0.5522924497637286.\u001b[0m\n"
     ]
    },
    {
     "name": "stdout",
     "output_type": "stream",
     "text": [
      "MEAN TRAIN:  0.373684962337658\n",
      "MEAN VALIDATION:  0.2969384718334946\n",
      "MEAN TEST 0.39294680262928783\n",
      "MEAN TRAIN:  0.4872670986897316\n",
      "MEAN VALIDATION:  0.3724888372490186\n",
      "MEAN TEST 0.46554543004536536\n"
     ]
    },
    {
     "name": "stderr",
     "output_type": "stream",
     "text": [
      "\u001b[32m[I 2022-01-26 12:56:35,696]\u001b[0m Trial 388 finished with value: 0.45756788180805985 and parameters: {'rf_max_depth': 10, 'rf_min_samples_leaf': 28, 'min_samples_split': 12, 'rf_estimators': 39, 'rf_max_feats': 0.18130334261547118}. Best is trial 154 with value: 0.5522924497637286.\u001b[0m\n"
     ]
    },
    {
     "name": "stdout",
     "output_type": "stream",
     "text": [
      "MEAN TRAIN:  0.4893317613993525\n",
      "MEAN VALIDATION:  0.3619047236457469\n",
      "MEAN TEST 0.45756788180805985\n"
     ]
    },
    {
     "name": "stderr",
     "output_type": "stream",
     "text": [
      "\u001b[32m[I 2022-01-26 12:56:37,487]\u001b[0m Trial 384 finished with value: 0.46149768626605986 and parameters: {'rf_max_depth': 9, 'rf_min_samples_leaf': 31, 'min_samples_split': 16, 'rf_estimators': 79, 'rf_max_feats': 0.3049860790226595}. Best is trial 154 with value: 0.5522924497637286.\u001b[0m\n"
     ]
    },
    {
     "name": "stdout",
     "output_type": "stream",
     "text": [
      "MEAN TRAIN:  0.48963306354271313\n",
      "MEAN VALIDATION:  0.3671201841493818\n",
      "MEAN TEST 0.46149768626605986\n"
     ]
    },
    {
     "name": "stderr",
     "output_type": "stream",
     "text": [
      "\u001b[32m[I 2022-01-26 12:56:37,874]\u001b[0m Trial 386 finished with value: 0.4809876965800566 and parameters: {'rf_max_depth': 93, 'rf_min_samples_leaf': 19, 'min_samples_split': 3, 'rf_estimators': 102, 'rf_max_feats': 0.14747463459583157}. Best is trial 154 with value: 0.5522924497637286.\u001b[0m\n"
     ]
    },
    {
     "name": "stdout",
     "output_type": "stream",
     "text": [
      "MEAN TRAIN:  0.5476285335439819\n",
      "MEAN VALIDATION:  0.3874401282683766\n",
      "MEAN TEST 0.4809876965800566\n"
     ]
    },
    {
     "name": "stderr",
     "output_type": "stream",
     "text": [
      "\u001b[32m[I 2022-01-26 12:56:40,353]\u001b[0m Trial 391 finished with value: 0.4132239141401496 and parameters: {'rf_max_depth': 81, 'rf_min_samples_leaf': 49, 'min_samples_split': 105, 'rf_estimators': 83, 'rf_max_feats': 0.17931782045014238}. Best is trial 154 with value: 0.5522924497637286.\u001b[0m\n",
      "\u001b[32m[I 2022-01-26 12:56:40,555]\u001b[0m Trial 389 finished with value: 0.41905823111063556 and parameters: {'rf_max_depth': 137, 'rf_min_samples_leaf': 46, 'min_samples_split': 84, 'rf_estimators': 129, 'rf_max_feats': 0.1421216226469506}. Best is trial 154 with value: 0.5522924497637286.\u001b[0m\n"
     ]
    },
    {
     "name": "stdout",
     "output_type": "stream",
     "text": [
      "MEAN TRAIN:  0.4003557971711572\n",
      "MEAN VALIDATION:  0.314117550508043\n",
      "MEAN TEST 0.4132239141401496\n",
      "MEAN TRAIN:  0.41399919760584936\n",
      "MEAN VALIDATION:  0.3234716157835143\n",
      "MEAN TEST 0.41905823111063556\n"
     ]
    },
    {
     "name": "stderr",
     "output_type": "stream",
     "text": [
      "\u001b[32m[I 2022-01-26 12:56:42,448]\u001b[0m Trial 393 finished with value: 0.3928460190065528 and parameters: {'rf_max_depth': 21, 'rf_min_samples_leaf': 62, 'min_samples_split': 73, 'rf_estimators': 70, 'rf_max_feats': 0.24927922625422333}. Best is trial 154 with value: 0.5522924497637286.\u001b[0m\n"
     ]
    },
    {
     "name": "stdout",
     "output_type": "stream",
     "text": [
      "MEAN TRAIN:  0.3706871516877009\n",
      "MEAN VALIDATION:  0.28753546158569016\n",
      "MEAN TEST 0.3928460190065528\n"
     ]
    },
    {
     "name": "stderr",
     "output_type": "stream",
     "text": [
      "\u001b[32m[I 2022-01-26 12:56:44,554]\u001b[0m Trial 394 finished with value: 0.3920698085805405 and parameters: {'rf_max_depth': 133, 'rf_min_samples_leaf': 64, 'min_samples_split': 118, 'rf_estimators': 113, 'rf_max_feats': 0.20439722094718152}. Best is trial 154 with value: 0.5522924497637286.\u001b[0m\n"
     ]
    },
    {
     "name": "stdout",
     "output_type": "stream",
     "text": [
      "MEAN TRAIN:  0.36430247739640575\n",
      "MEAN VALIDATION:  0.29065341845154846\n",
      "MEAN TEST 0.3920698085805405\n"
     ]
    },
    {
     "name": "stderr",
     "output_type": "stream",
     "text": [
      "\u001b[32m[I 2022-01-26 12:56:47,537]\u001b[0m Trial 398 finished with value: 0.4585397360439072 and parameters: {'rf_max_depth': 66, 'rf_min_samples_leaf': 19, 'min_samples_split': 71, 'rf_estimators': 32, 'rf_max_feats': 0.2280793748958792}. Best is trial 154 with value: 0.5522924497637286.\u001b[0m\n"
     ]
    },
    {
     "name": "stdout",
     "output_type": "stream",
     "text": [
      "MEAN TRAIN:  0.4941402686559318\n",
      "MEAN VALIDATION:  0.36875257863225536\n",
      "MEAN TEST 0.4585397360439072\n"
     ]
    },
    {
     "name": "stderr",
     "output_type": "stream",
     "text": [
      "\u001b[32m[I 2022-01-26 12:56:50,095]\u001b[0m Trial 396 finished with value: 0.43382553260295226 and parameters: {'rf_max_depth': 27, 'rf_min_samples_leaf': 42, 'min_samples_split': 104, 'rf_estimators': 104, 'rf_max_feats': 0.3037609047432277}. Best is trial 154 with value: 0.5522924497637286.\u001b[0m\n"
     ]
    },
    {
     "name": "stdout",
     "output_type": "stream",
     "text": [
      "MEAN TRAIN:  0.4230880659797188\n",
      "MEAN VALIDATION:  0.33371029097233984\n",
      "MEAN TEST 0.43382553260295226\n"
     ]
    },
    {
     "name": "stderr",
     "output_type": "stream",
     "text": [
      "\u001b[32m[I 2022-01-26 12:56:50,709]\u001b[0m Trial 390 finished with value: 0.49867832322359595 and parameters: {'rf_max_depth': 36, 'rf_min_samples_leaf': 2, 'min_samples_split': 58, 'rf_estimators': 120, 'rf_max_feats': 0.23180815775416327}. Best is trial 154 with value: 0.5522924497637286.\u001b[0m\n"
     ]
    },
    {
     "name": "stdout",
     "output_type": "stream",
     "text": [
      "MEAN TRAIN:  0.6169027729170395\n",
      "MEAN VALIDATION:  0.42009158220654663\n",
      "MEAN TEST 0.49867832322359595\n"
     ]
    },
    {
     "name": "stderr",
     "output_type": "stream",
     "text": [
      "\u001b[32m[I 2022-01-26 12:56:51,030]\u001b[0m Trial 399 finished with value: 0.40826378807176694 and parameters: {'rf_max_depth': 3, 'rf_min_samples_leaf': 55, 'min_samples_split': 19, 'rf_estimators': 50, 'rf_max_feats': 0.2239397339722947}. Best is trial 154 with value: 0.5522924497637286.\u001b[0m\n",
      "\u001b[32m[I 2022-01-26 12:56:51,185]\u001b[0m Trial 401 finished with value: 0.3517122560498354 and parameters: {'rf_max_depth': 102, 'rf_min_samples_leaf': 75, 'min_samples_split': 88, 'rf_estimators': 8, 'rf_max_feats': 0.1787290734540983}. Best is trial 154 with value: 0.5522924497637286.\u001b[0m\n"
     ]
    },
    {
     "name": "stdout",
     "output_type": "stream",
     "text": [
      "MEAN TRAIN:  0.39396418927506144\n",
      "MEAN VALIDATION:  0.3132372206879913\n",
      "MEAN TEST 0.40826378807176694\n",
      "MEAN TRAIN:  0.32630523558370583\n",
      "MEAN VALIDATION:  0.24204143462519773\n",
      "MEAN TEST 0.3517122560498354\n"
     ]
    },
    {
     "name": "stderr",
     "output_type": "stream",
     "text": [
      "\u001b[32m[I 2022-01-26 12:56:53,453]\u001b[0m Trial 402 finished with value: 0.40544103828340494 and parameters: {'rf_max_depth': 133, 'rf_min_samples_leaf': 49, 'min_samples_split': 60, 'rf_estimators': 48, 'rf_max_feats': 0.10584924573435953}. Best is trial 154 with value: 0.5522924497637286.\u001b[0m\n"
     ]
    },
    {
     "name": "stdout",
     "output_type": "stream",
     "text": [
      "MEAN TRAIN:  0.3992889805412204\n",
      "MEAN VALIDATION:  0.3125261254853303\n",
      "MEAN TEST 0.40544103828340494\n"
     ]
    },
    {
     "name": "stderr",
     "output_type": "stream",
     "text": [
      "\u001b[32m[I 2022-01-26 12:56:55,525]\u001b[0m Trial 395 finished with value: 0.4365979659361944 and parameters: {'rf_max_depth': 67, 'rf_min_samples_leaf': 19, 'min_samples_split': 106, 'rf_estimators': 130, 'rf_max_feats': 0.3922336098873619}. Best is trial 154 with value: 0.5522924497637286.\u001b[0m\n"
     ]
    },
    {
     "name": "stdout",
     "output_type": "stream",
     "text": [
      "MEAN TRAIN:  0.4351104538827048\n",
      "MEAN VALIDATION:  0.33461146909804335\n",
      "MEAN TEST 0.4365979659361944\n"
     ]
    },
    {
     "name": "stderr",
     "output_type": "stream",
     "text": [
      "\u001b[32m[I 2022-01-26 12:56:56,230]\u001b[0m Trial 403 finished with value: 0.4444524960329385 and parameters: {'rf_max_depth': 38, 'rf_min_samples_leaf': 30, 'min_samples_split': 60, 'rf_estimators': 78, 'rf_max_feats': 0.12046927633044895}. Best is trial 154 with value: 0.5522924497637286.\u001b[0m\n"
     ]
    },
    {
     "name": "stdout",
     "output_type": "stream",
     "text": [
      "MEAN TRAIN:  0.47149274874342917\n",
      "MEAN VALIDATION:  0.35505945766811725\n",
      "MEAN TEST 0.4444524960329385\n"
     ]
    },
    {
     "name": "stderr",
     "output_type": "stream",
     "text": [
      "\u001b[32m[I 2022-01-26 12:56:56,664]\u001b[0m Trial 392 finished with value: 0.5202186337059922 and parameters: {'rf_max_depth': 130, 'rf_min_samples_leaf': 9, 'min_samples_split': 18, 'rf_estimators': 143, 'rf_max_feats': 0.22871422589729562}. Best is trial 154 with value: 0.5522924497637286.\u001b[0m\n"
     ]
    },
    {
     "name": "stdout",
     "output_type": "stream",
     "text": [
      "MEAN TRAIN:  0.685918158424667\n",
      "MEAN VALIDATION:  0.4434658000687607\n",
      "MEAN TEST 0.5202186337059922\n"
     ]
    },
    {
     "name": "stderr",
     "output_type": "stream",
     "text": [
      "\u001b[32m[I 2022-01-26 12:57:00,582]\u001b[0m Trial 405 finished with value: 0.3852870678022818 and parameters: {'rf_max_depth': 128, 'rf_min_samples_leaf': 67, 'min_samples_split': 110, 'rf_estimators': 89, 'rf_max_feats': 0.19757582075704383}. Best is trial 154 with value: 0.5522924497637286.\u001b[0m\n"
     ]
    },
    {
     "name": "stdout",
     "output_type": "stream",
     "text": [
      "MEAN TRAIN:  0.35729210312869875\n",
      "MEAN VALIDATION:  0.2883676469246946\n",
      "MEAN TEST 0.3852870678022818\n"
     ]
    },
    {
     "name": "stderr",
     "output_type": "stream",
     "text": [
      "\u001b[32m[I 2022-01-26 12:57:00,957]\u001b[0m Trial 397 finished with value: 0.49167068507761813 and parameters: {'rf_max_depth': 61, 'rf_min_samples_leaf': 20, 'min_samples_split': 2, 'rf_estimators': 128, 'rf_max_feats': 0.3165003529313483}. Best is trial 154 with value: 0.5522924497637286.\u001b[0m\n"
     ]
    },
    {
     "name": "stdout",
     "output_type": "stream",
     "text": [
      "MEAN TRAIN:  0.5632933331067015\n",
      "MEAN VALIDATION:  0.39268461103541635\n",
      "MEAN TEST 0.49167068507761813\n"
     ]
    },
    {
     "name": "stderr",
     "output_type": "stream",
     "text": [
      "\u001b[32m[I 2022-01-26 12:57:01,862]\u001b[0m Trial 404 finished with value: 0.40335308744021975 and parameters: {'rf_max_depth': 73, 'rf_min_samples_leaf': 59, 'min_samples_split': 27, 'rf_estimators': 130, 'rf_max_feats': 0.21189047509948392}. Best is trial 154 with value: 0.5522924497637286.\u001b[0m\n"
     ]
    },
    {
     "name": "stdout",
     "output_type": "stream",
     "text": [
      "MEAN TRAIN:  0.3774421727763747\n",
      "MEAN VALIDATION:  0.3041051625296398\n",
      "MEAN TEST 0.40335308744021975\n"
     ]
    },
    {
     "name": "stderr",
     "output_type": "stream",
     "text": [
      "\u001b[32m[I 2022-01-26 12:57:02,540]\u001b[0m Trial 400 finished with value: 0.4111072398044426 and parameters: {'rf_max_depth': 48, 'rf_min_samples_leaf': 35, 'min_samples_split': 127, 'rf_estimators': 147, 'rf_max_feats': 0.29089997671668544}. Best is trial 154 with value: 0.5522924497637286.\u001b[0m\n"
     ]
    },
    {
     "name": "stdout",
     "output_type": "stream",
     "text": [
      "MEAN TRAIN:  0.39147672174832626\n",
      "MEAN VALIDATION:  0.30657922284129296\n",
      "MEAN TEST 0.4111072398044426\n"
     ]
    },
    {
     "name": "stderr",
     "output_type": "stream",
     "text": [
      "\u001b[32m[I 2022-01-26 12:57:05,005]\u001b[0m Trial 407 finished with value: 0.43097333630907775 and parameters: {'rf_max_depth': 124, 'rf_min_samples_leaf': 30, 'min_samples_split': 107, 'rf_estimators': 81, 'rf_max_feats': 0.3026808377712907}. Best is trial 154 with value: 0.5522924497637286.\u001b[0m\n"
     ]
    },
    {
     "name": "stdout",
     "output_type": "stream",
     "text": [
      "MEAN TRAIN:  0.4254167811658924\n",
      "MEAN VALIDATION:  0.3323818968326334\n",
      "MEAN TEST 0.43097333630907775\n"
     ]
    },
    {
     "name": "stderr",
     "output_type": "stream",
     "text": [
      "\u001b[32m[I 2022-01-26 12:57:05,925]\u001b[0m Trial 406 finished with value: 0.46523614126385526 and parameters: {'rf_max_depth': 139, 'rf_min_samples_leaf': 11, 'min_samples_split': 83, 'rf_estimators': 68, 'rf_max_feats': 0.3341816735844944}. Best is trial 154 with value: 0.5522924497637286.\u001b[0m\n"
     ]
    },
    {
     "name": "stdout",
     "output_type": "stream",
     "text": [
      "MEAN TRAIN:  0.493286643551558\n",
      "MEAN VALIDATION:  0.36946045225675633\n",
      "MEAN TEST 0.46523614126385526\n"
     ]
    },
    {
     "name": "stderr",
     "output_type": "stream",
     "text": [
      "\u001b[32m[I 2022-01-26 12:57:08,520]\u001b[0m Trial 409 finished with value: 0.4001769815027867 and parameters: {'rf_max_depth': 103, 'rf_min_samples_leaf': 21, 'min_samples_split': 149, 'rf_estimators': 62, 'rf_max_feats': 0.3529707304201736}. Best is trial 154 with value: 0.5522924497637286.\u001b[0m\n"
     ]
    },
    {
     "name": "stdout",
     "output_type": "stream",
     "text": [
      "MEAN TRAIN:  0.3708064465130012\n",
      "MEAN VALIDATION:  0.2839681382405356\n",
      "MEAN TEST 0.4001769815027867\n"
     ]
    },
    {
     "name": "stderr",
     "output_type": "stream",
     "text": [
      "\u001b[32m[I 2022-01-26 12:57:09,300]\u001b[0m Trial 408 finished with value: 0.4015175623563419 and parameters: {'rf_max_depth': 87, 'rf_min_samples_leaf': 21, 'min_samples_split': 136, 'rf_estimators': 94, 'rf_max_feats': 0.19775158895783512}. Best is trial 154 with value: 0.5522924497637286.\u001b[0m\n"
     ]
    },
    {
     "name": "stdout",
     "output_type": "stream",
     "text": [
      "MEAN TRAIN:  0.38237837492667504\n",
      "MEAN VALIDATION:  0.2964060377871136\n",
      "MEAN TEST 0.4015175623563419\n"
     ]
    },
    {
     "name": "stderr",
     "output_type": "stream",
     "text": [
      "\u001b[32m[I 2022-01-26 12:57:11,501]\u001b[0m Trial 411 finished with value: 0.4745598999198677 and parameters: {'rf_max_depth': 148, 'rf_min_samples_leaf': 6, 'min_samples_split': 59, 'rf_estimators': 83, 'rf_max_feats': 0.10863973642353174}. Best is trial 154 with value: 0.5522924497637286.\u001b[0m\n"
     ]
    },
    {
     "name": "stdout",
     "output_type": "stream",
     "text": [
      "MEAN TRAIN:  0.541653117332895\n",
      "MEAN VALIDATION:  0.3895677027087692\n",
      "MEAN TEST 0.4745598999198677\n"
     ]
    },
    {
     "name": "stderr",
     "output_type": "stream",
     "text": [
      "\u001b[32m[I 2022-01-26 12:57:12,595]\u001b[0m Trial 415 finished with value: 0.4798742589631317 and parameters: {'rf_max_depth': 113, 'rf_min_samples_leaf': 1, 'min_samples_split': 72, 'rf_estimators': 28, 'rf_max_feats': 0.1582130310692979}. Best is trial 154 with value: 0.5522924497637286.\u001b[0m\n"
     ]
    },
    {
     "name": "stdout",
     "output_type": "stream",
     "text": [
      "MEAN TRAIN:  0.5590641136306544\n",
      "MEAN VALIDATION:  0.39834651303466717\n",
      "MEAN TEST 0.4798742589631317\n"
     ]
    },
    {
     "name": "stderr",
     "output_type": "stream",
     "text": [
      "\u001b[32m[I 2022-01-26 12:57:12,837]\u001b[0m Trial 412 finished with value: 0.45305510095966073 and parameters: {'rf_max_depth': 67, 'rf_min_samples_leaf': 13, 'min_samples_split': 85, 'rf_estimators': 65, 'rf_max_feats': 0.17977196154488673}. Best is trial 154 with value: 0.5522924497637286.\u001b[0m\n"
     ]
    },
    {
     "name": "stdout",
     "output_type": "stream",
     "text": [
      "MEAN TRAIN:  0.47364534169122025\n",
      "MEAN VALIDATION:  0.3590185894476082\n",
      "MEAN TEST 0.45305510095966073\n"
     ]
    },
    {
     "name": "stderr",
     "output_type": "stream",
     "text": [
      "\u001b[32m[I 2022-01-26 12:57:13,179]\u001b[0m Trial 413 finished with value: 0.45326742237860584 and parameters: {'rf_max_depth': 102, 'rf_min_samples_leaf': 6, 'min_samples_split': 80, 'rf_estimators': 78, 'rf_max_feats': 0.11419530513043057}. Best is trial 154 with value: 0.5522924497637286.\u001b[0m\n",
      "\u001b[32m[I 2022-01-26 12:57:13,255]\u001b[0m Trial 410 finished with value: 0.46245358931649927 and parameters: {'rf_max_depth': 63, 'rf_min_samples_leaf': 7, 'min_samples_split': 70, 'rf_estimators': 120, 'rf_max_feats': 0.10822322368810078}. Best is trial 154 with value: 0.5522924497637286.\u001b[0m\n"
     ]
    },
    {
     "name": "stdout",
     "output_type": "stream",
     "text": [
      "MEAN TRAIN:  0.491855527796211\n",
      "MEAN VALIDATION:  0.3635124772871793\n",
      "MEAN TEST 0.45326742237860584\n",
      "MEAN TRAIN:  0.5081091220072039\n",
      "MEAN VALIDATION:  0.3795880707239775\n",
      "MEAN TEST 0.46245358931649927\n"
     ]
    },
    {
     "name": "stderr",
     "output_type": "stream",
     "text": [
      "\u001b[32m[I 2022-01-26 12:57:14,996]\u001b[0m Trial 417 finished with value: 0.4895398453479135 and parameters: {'rf_max_depth': 99, 'rf_min_samples_leaf': 16, 'min_samples_split': 6, 'rf_estimators': 25, 'rf_max_feats': 0.1515093753548118}. Best is trial 154 with value: 0.5522924497637286.\u001b[0m\n"
     ]
    },
    {
     "name": "stdout",
     "output_type": "stream",
     "text": [
      "MEAN TRAIN:  0.5728193641609709\n",
      "MEAN VALIDATION:  0.3968180689708743\n",
      "MEAN TEST 0.4895398453479135\n"
     ]
    },
    {
     "name": "stderr",
     "output_type": "stream",
     "text": [
      "\u001b[32m[I 2022-01-26 12:57:16,213]\u001b[0m Trial 418 finished with value: 0.516037461150672 and parameters: {'rf_max_depth': 109, 'rf_min_samples_leaf': 9, 'min_samples_split': 7, 'rf_estimators': 25, 'rf_max_feats': 0.19413162457208868}. Best is trial 154 with value: 0.5522924497637286.\u001b[0m\n"
     ]
    },
    {
     "name": "stdout",
     "output_type": "stream",
     "text": [
      "MEAN TRAIN:  0.6783261330306949\n",
      "MEAN VALIDATION:  0.42680083127176704\n",
      "MEAN TEST 0.516037461150672\n"
     ]
    },
    {
     "name": "stderr",
     "output_type": "stream",
     "text": [
      "\u001b[32m[I 2022-01-26 12:57:20,049]\u001b[0m Trial 414 finished with value: 0.48216823923473073 and parameters: {'rf_max_depth': 99, 'rf_min_samples_leaf': 7, 'min_samples_split': 62, 'rf_estimators': 90, 'rf_max_feats': 0.22674391882371772}. Best is trial 154 with value: 0.5522924497637286.\u001b[0m\n"
     ]
    },
    {
     "name": "stdout",
     "output_type": "stream",
     "text": [
      "MEAN TRAIN:  0.5481126314669955\n",
      "MEAN VALIDATION:  0.3941809296986973\n",
      "MEAN TEST 0.48216823923473073\n"
     ]
    },
    {
     "name": "stderr",
     "output_type": "stream",
     "text": [
      "\u001b[32m[I 2022-01-26 12:57:22,440]\u001b[0m Trial 422 finished with value: 0.3847119996469942 and parameters: {'rf_max_depth': 63, 'rf_min_samples_leaf': 70, 'min_samples_split': 108, 'rf_estimators': 89, 'rf_max_feats': 0.26130711509354204}. Best is trial 154 with value: 0.5522924497637286.\u001b[0m\n"
     ]
    },
    {
     "name": "stdout",
     "output_type": "stream",
     "text": [
      "MEAN TRAIN:  0.35476857957584806\n",
      "MEAN VALIDATION:  0.2837619853995119\n",
      "MEAN TEST 0.3847119996469942\n"
     ]
    },
    {
     "name": "stderr",
     "output_type": "stream",
     "text": [
      "\u001b[32m[I 2022-01-26 12:57:29,343]\u001b[0m Trial 424 finished with value: 0.46223954627630626 and parameters: {'rf_max_depth': 63, 'rf_min_samples_leaf': 27, 'min_samples_split': 62, 'rf_estimators': 70, 'rf_max_feats': 0.20985491509691936}. Best is trial 154 with value: 0.5522924497637286.\u001b[0m\n"
     ]
    },
    {
     "name": "stdout",
     "output_type": "stream",
     "text": [
      "MEAN TRAIN:  0.48943763175417987\n",
      "MEAN VALIDATION:  0.36558977484037414\n",
      "MEAN TEST 0.46223954627630626\n"
     ]
    },
    {
     "name": "stderr",
     "output_type": "stream",
     "text": [
      "\u001b[32m[I 2022-01-26 12:57:29,949]\u001b[0m Trial 419 finished with value: 0.4871600311290683 and parameters: {'rf_max_depth': 91, 'rf_min_samples_leaf': 19, 'min_samples_split': 9, 'rf_estimators': 141, 'rf_max_feats': 0.21898454056865116}. Best is trial 154 with value: 0.5522924497637286.\u001b[0m\n",
      "\u001b[32m[I 2022-01-26 12:57:29,962]\u001b[0m Trial 421 finished with value: 0.43469960648245787 and parameters: {'rf_max_depth': 98, 'rf_min_samples_leaf': 1, 'min_samples_split': 115, 'rf_estimators': 139, 'rf_max_feats': 0.30544307143426497}. Best is trial 154 with value: 0.5522924497637286.\u001b[0m\n"
     ]
    },
    {
     "name": "stdout",
     "output_type": "stream",
     "text": [
      "MEAN TRAIN:  0.5595806359141733\n",
      "MEAN VALIDATION:  0.3996354564033748\n",
      "MEAN TEST 0.4871600311290683\n",
      "MEAN TRAIN:  0.4416152228297571\n",
      "MEAN VALIDATION:  0.33409821640255605\n",
      "MEAN TEST 0.43469960648245787\n"
     ]
    },
    {
     "name": "stderr",
     "output_type": "stream",
     "text": [
      "\u001b[32m[I 2022-01-26 12:57:32,931]\u001b[0m Trial 423 finished with value: 0.4322556951464346 and parameters: {'rf_max_depth': 95, 'rf_min_samples_leaf': 19, 'min_samples_split': 106, 'rf_estimators': 128, 'rf_max_feats': 0.29526048006823363}. Best is trial 154 with value: 0.5522924497637286.\u001b[0m\n"
     ]
    },
    {
     "name": "stdout",
     "output_type": "stream",
     "text": [
      "MEAN TRAIN:  0.43560322559427195\n",
      "MEAN VALIDATION:  0.33209882019164805\n",
      "MEAN TEST 0.4322556951464346\n"
     ]
    },
    {
     "name": "stderr",
     "output_type": "stream",
     "text": [
      "\u001b[32m[I 2022-01-26 12:57:33,774]\u001b[0m Trial 425 finished with value: 0.4339871297639634 and parameters: {'rf_max_depth': 38, 'rf_min_samples_leaf': 32, 'min_samples_split': 85, 'rf_estimators': 78, 'rf_max_feats': 0.12046927633044895}. Best is trial 154 with value: 0.5522924497637286.\u001b[0m\n",
      "\u001b[32m[I 2022-01-26 12:57:33,836]\u001b[0m Trial 420 finished with value: 0.5492814379291486 and parameters: {'rf_max_depth': 139, 'rf_min_samples_leaf': 3, 'min_samples_split': 14, 'rf_estimators': 78, 'rf_max_feats': 0.3341816735844944}. Best is trial 154 with value: 0.5522924497637286.\u001b[0m\n",
      "\u001b[32m[I 2022-01-26 12:57:33,925]\u001b[0m Trial 416 finished with value: 0.4862719094474703 and parameters: {'rf_max_depth': 114, 'rf_min_samples_leaf': 9, 'min_samples_split': 65, 'rf_estimators': 135, 'rf_max_feats': 0.37628160037292935}. Best is trial 154 with value: 0.5522924497637286.\u001b[0m\n"
     ]
    },
    {
     "name": "stdout",
     "output_type": "stream",
     "text": [
      "MEAN TRAIN:  0.4398353331014742\n",
      "MEAN VALIDATION:  0.3380324333221646\n",
      "MEAN TEST 0.4339871297639634\n",
      "MEAN TRAIN:  0.8026383585781988\n",
      "MEAN VALIDATION:  0.4843111027006278\n",
      "MEAN TEST 0.5492814379291486\n",
      "MEAN TRAIN:  0.5451681571236758\n",
      "MEAN VALIDATION:  0.390970236379848\n",
      "MEAN TEST 0.4862719094474703\n"
     ]
    },
    {
     "name": "stderr",
     "output_type": "stream",
     "text": [
      "\u001b[32m[I 2022-01-26 12:57:34,606]\u001b[0m Trial 428 finished with value: 0.41306876885186294 and parameters: {'rf_max_depth': 90, 'rf_min_samples_leaf': 19, 'min_samples_split': 117, 'rf_estimators': 14, 'rf_max_feats': 0.36424903533430164}. Best is trial 154 with value: 0.5522924497637286.\u001b[0m\n"
     ]
    },
    {
     "name": "stdout",
     "output_type": "stream",
     "text": [
      "MEAN TRAIN:  0.4131973638618788\n",
      "MEAN VALIDATION:  0.3012101039459385\n",
      "MEAN TEST 0.41306876885186294\n"
     ]
    },
    {
     "name": "stderr",
     "output_type": "stream",
     "text": [
      "\u001b[32m[I 2022-01-26 12:57:41,616]\u001b[0m Trial 430 finished with value: 0.42631948874593883 and parameters: {'rf_max_depth': 61, 'rf_min_samples_leaf': 43, 'min_samples_split': 102, 'rf_estimators': 91, 'rf_max_feats': 0.24474502900923878}. Best is trial 154 with value: 0.5522924497637286.\u001b[0m\n",
      "\u001b[32m[I 2022-01-26 12:57:41,717]\u001b[0m Trial 429 finished with value: 0.44460071514761734 and parameters: {'rf_max_depth': 90, 'rf_min_samples_leaf': 33, 'min_samples_split': 22, 'rf_estimators': 121, 'rf_max_feats': 0.12546314631994335}. Best is trial 154 with value: 0.5522924497637286.\u001b[0m\n"
     ]
    },
    {
     "name": "stdout",
     "output_type": "stream",
     "text": [
      "MEAN TRAIN:  0.4236721449936362\n",
      "MEAN VALIDATION:  0.32653896543526395\n",
      "MEAN TEST 0.42631948874593883\n",
      "MEAN TRAIN:  0.4608061914559588\n",
      "MEAN VALIDATION:  0.350578455534207\n",
      "MEAN TEST 0.44460071514761734\n"
     ]
    },
    {
     "name": "stderr",
     "output_type": "stream",
     "text": [
      "\u001b[32m[I 2022-01-26 12:57:41,911]\u001b[0m Trial 431 finished with value: 0.5068690805695477 and parameters: {'rf_max_depth': 31, 'rf_min_samples_leaf': 7, 'min_samples_split': 25, 'rf_estimators': 87, 'rf_max_feats': 0.10703427220815187}. Best is trial 154 with value: 0.5522924497637286.\u001b[0m\n"
     ]
    },
    {
     "name": "stdout",
     "output_type": "stream",
     "text": [
      "MEAN TRAIN:  0.650554778539896\n",
      "MEAN VALIDATION:  0.4308820327114951\n",
      "MEAN TEST 0.5068690805695477\n"
     ]
    },
    {
     "name": "stderr",
     "output_type": "stream",
     "text": [
      "\u001b[32m[I 2022-01-26 12:57:43,050]\u001b[0m Trial 432 finished with value: 0.5020208925086171 and parameters: {'rf_max_depth': 81, 'rf_min_samples_leaf': 8, 'min_samples_split': 34, 'rf_estimators': 74, 'rf_max_feats': 0.17931782045014238}. Best is trial 154 with value: 0.5522924497637286.\u001b[0m\n"
     ]
    },
    {
     "name": "stdout",
     "output_type": "stream",
     "text": [
      "MEAN TRAIN:  0.6213892343108107\n",
      "MEAN VALIDATION:  0.4211915828913112\n",
      "MEAN TEST 0.5020208925086171\n"
     ]
    },
    {
     "name": "stderr",
     "output_type": "stream",
     "text": [
      "\u001b[32m[I 2022-01-26 12:57:43,983]\u001b[0m Trial 426 finished with value: 0.4721365282161683 and parameters: {'rf_max_depth': 98, 'rf_min_samples_leaf': 24, 'min_samples_split': 30, 'rf_estimators': 116, 'rf_max_feats': 0.26130711509354204}. Best is trial 154 with value: 0.5522924497637286.\u001b[0m\n"
     ]
    },
    {
     "name": "stdout",
     "output_type": "stream",
     "text": [
      "MEAN TRAIN:  0.5281286982281903\n",
      "MEAN VALIDATION:  0.38274610305730683\n",
      "MEAN TEST 0.4721365282161683\n"
     ]
    },
    {
     "name": "stderr",
     "output_type": "stream",
     "text": [
      "\u001b[32m[I 2022-01-26 12:57:46,712]\u001b[0m Trial 427 finished with value: 0.4629997229547076 and parameters: {'rf_max_depth': 9, 'rf_min_samples_leaf': 25, 'min_samples_split': 70, 'rf_estimators': 140, 'rf_max_feats': 0.3049860790226595}. Best is trial 154 with value: 0.5522924497637286.\u001b[0m\n"
     ]
    },
    {
     "name": "stdout",
     "output_type": "stream",
     "text": [
      "MEAN TRAIN:  0.48940379690709246\n",
      "MEAN VALIDATION:  0.365095544254664\n",
      "MEAN TEST 0.4629997229547076\n"
     ]
    },
    {
     "name": "stderr",
     "output_type": "stream",
     "text": [
      "\u001b[32m[I 2022-01-26 12:57:47,270]\u001b[0m Trial 435 finished with value: 0.4715537916708251 and parameters: {'rf_max_depth': 53, 'rf_min_samples_leaf': 27, 'min_samples_split': 2, 'rf_estimators': 41, 'rf_max_feats': 0.3048559791478397}. Best is trial 154 with value: 0.5522924497637286.\u001b[0m\n"
     ]
    },
    {
     "name": "stdout",
     "output_type": "stream",
     "text": [
      "MEAN TRAIN:  0.5080886520290203\n",
      "MEAN VALIDATION:  0.3713775467823902\n",
      "MEAN TEST 0.4715537916708251\n"
     ]
    },
    {
     "name": "stderr",
     "output_type": "stream",
     "text": [
      "\u001b[32m[I 2022-01-26 12:57:48,341]\u001b[0m Trial 434 finished with value: 0.47941629511066264 and parameters: {'rf_max_depth': 131, 'rf_min_samples_leaf': 7, 'min_samples_split': 64, 'rf_estimators': 58, 'rf_max_feats': 0.23180815775416327}. Best is trial 154 with value: 0.5522924497637286.\u001b[0m\n"
     ]
    },
    {
     "name": "stdout",
     "output_type": "stream",
     "text": [
      "MEAN TRAIN:  0.5441821366516093\n",
      "MEAN VALIDATION:  0.39173329999712153\n",
      "MEAN TEST 0.47941629511066264\n"
     ]
    },
    {
     "name": "stderr",
     "output_type": "stream",
     "text": [
      "\u001b[32m[I 2022-01-26 12:57:53,818]\u001b[0m Trial 433 finished with value: 0.45187764987454687 and parameters: {'rf_max_depth': 93, 'rf_min_samples_leaf': 33, 'min_samples_split': 71, 'rf_estimators': 143, 'rf_max_feats': 0.20950434332899404}. Best is trial 154 with value: 0.5522924497637286.\u001b[0m\n"
     ]
    },
    {
     "name": "stdout",
     "output_type": "stream",
     "text": [
      "MEAN TRAIN:  0.46539191557526394\n",
      "MEAN VALIDATION:  0.35276328648628663\n",
      "MEAN TEST 0.45187764987454687\n"
     ]
    },
    {
     "name": "stderr",
     "output_type": "stream",
     "text": [
      "\u001b[32m[I 2022-01-26 12:57:56,073]\u001b[0m Trial 436 finished with value: 0.4479020245766964 and parameters: {'rf_max_depth': 4, 'rf_min_samples_leaf': 12, 'min_samples_split': 96, 'rf_estimators': 124, 'rf_max_feats': 0.3048559791478397}. Best is trial 154 with value: 0.5522924497637286.\u001b[0m\n",
      "\u001b[32m[I 2022-01-26 12:57:56,224]\u001b[0m Trial 440 finished with value: 0.45292114274512496 and parameters: {'rf_max_depth': 132, 'rf_min_samples_leaf': 31, 'min_samples_split': 23, 'rf_estimators': 94, 'rf_max_feats': 0.18929983981702914}. Best is trial 154 with value: 0.5522924497637286.\u001b[0m\n"
     ]
    },
    {
     "name": "stdout",
     "output_type": "stream",
     "text": [
      "MEAN TRAIN:  0.4578976709526101\n",
      "MEAN VALIDATION:  0.3514591007393446\n",
      "MEAN TEST 0.4479020245766964\n",
      "MEAN TRAIN:  0.4777070783097037\n",
      "MEAN VALIDATION:  0.35787988756109745\n",
      "MEAN TEST 0.45292114274512496\n"
     ]
    },
    {
     "name": "stderr",
     "output_type": "stream",
     "text": [
      "\u001b[32m[I 2022-01-26 12:57:56,991]\u001b[0m Trial 438 finished with value: 0.47822547831167644 and parameters: {'rf_max_depth': 71, 'rf_min_samples_leaf': 24, 'min_samples_split': 52, 'rf_estimators': 72, 'rf_max_feats': 0.35078484174284874}. Best is trial 154 with value: 0.5522924497637286.\u001b[0m\n"
     ]
    },
    {
     "name": "stdout",
     "output_type": "stream",
     "text": [
      "MEAN TRAIN:  0.5279979443584113\n",
      "MEAN VALIDATION:  0.3864331964299743\n",
      "MEAN TEST 0.47822547831167644\n"
     ]
    },
    {
     "name": "stderr",
     "output_type": "stream",
     "text": [
      "\u001b[32m[I 2022-01-26 12:57:57,328]\u001b[0m Trial 441 finished with value: 0.4002952153410086 and parameters: {'rf_max_depth': 108, 'rf_min_samples_leaf': 3, 'min_samples_split': 137, 'rf_estimators': 67, 'rf_max_feats': 0.14684367747319815}. Best is trial 154 with value: 0.5522924497637286.\u001b[0m\n"
     ]
    },
    {
     "name": "stdout",
     "output_type": "stream",
     "text": [
      "MEAN TRAIN:  0.3892324038675314\n",
      "MEAN VALIDATION:  0.3097561165534648\n",
      "MEAN TEST 0.4002952153410086\n"
     ]
    },
    {
     "name": "stderr",
     "output_type": "stream",
     "text": [
      "\u001b[32m[I 2022-01-26 12:57:58,366]\u001b[0m Trial 444 finished with value: 0.4536549970742675 and parameters: {'rf_max_depth': 25, 'rf_min_samples_leaf': 34, 'min_samples_split': 41, 'rf_estimators': 12, 'rf_max_feats': 0.2653094332342102}. Best is trial 154 with value: 0.5522924497637286.\u001b[0m\n"
     ]
    },
    {
     "name": "stdout",
     "output_type": "stream",
     "text": [
      "MEAN TRAIN:  0.45789240800735076\n",
      "MEAN VALIDATION:  0.35094719774083594\n",
      "MEAN TEST 0.4536549970742675\n"
     ]
    },
    {
     "name": "stderr",
     "output_type": "stream",
     "text": [
      "\u001b[32m[I 2022-01-26 12:57:59,957]\u001b[0m Trial 446 finished with value: 0.39025382286315263 and parameters: {'rf_max_depth': 95, 'rf_min_samples_leaf': 60, 'min_samples_split': 71, 'rf_estimators': 28, 'rf_max_feats': 0.1582130310692979}. Best is trial 154 with value: 0.5522924497637286.\u001b[0m\n"
     ]
    },
    {
     "name": "stdout",
     "output_type": "stream",
     "text": [
      "MEAN TRAIN:  0.36848542972143916\n",
      "MEAN VALIDATION:  0.2849195084724713\n",
      "MEAN TEST 0.39025382286315263\n"
     ]
    },
    {
     "name": "stderr",
     "output_type": "stream",
     "text": [
      "\u001b[32m[I 2022-01-26 12:58:00,745]\u001b[0m Trial 439 finished with value: 0.45647549368432366 and parameters: {'rf_max_depth': 9, 'rf_min_samples_leaf': 32, 'min_samples_split': 70, 'rf_estimators': 120, 'rf_max_feats': 0.2936477192105139}. Best is trial 154 with value: 0.5522924497637286.\u001b[0m\n"
     ]
    },
    {
     "name": "stdout",
     "output_type": "stream",
     "text": [
      "MEAN TRAIN:  0.4776016687766876\n",
      "MEAN VALIDATION:  0.35693444210606984\n",
      "MEAN TEST 0.45647549368432366\n"
     ]
    },
    {
     "name": "stderr",
     "output_type": "stream",
     "text": [
      "\u001b[32m[I 2022-01-26 12:58:02,652]\u001b[0m Trial 437 finished with value: 0.49129185242828566 and parameters: {'rf_max_depth': 117, 'rf_min_samples_leaf': 1, 'min_samples_split': 63, 'rf_estimators': 143, 'rf_max_feats': 0.22871422589729562}. Best is trial 154 with value: 0.5522924497637286.\u001b[0m\n"
     ]
    },
    {
     "name": "stdout",
     "output_type": "stream",
     "text": [
      "MEAN TRAIN:  0.6082259157269142\n",
      "MEAN VALIDATION:  0.41314850210413373\n",
      "MEAN TEST 0.49129185242828566\n"
     ]
    },
    {
     "name": "stderr",
     "output_type": "stream",
     "text": [
      "\u001b[32m[I 2022-01-26 12:58:06,003]\u001b[0m Trial 449 finished with value: 0.450601184652687 and parameters: {'rf_max_depth': 95, 'rf_min_samples_leaf': 32, 'min_samples_split': 70, 'rf_estimators': 28, 'rf_max_feats': 0.3049860790226595}. Best is trial 154 with value: 0.5522924497637286.\u001b[0m\n"
     ]
    },
    {
     "name": "stdout",
     "output_type": "stream",
     "text": [
      "MEAN TRAIN:  0.4782952344101409\n",
      "MEAN VALIDATION:  0.3513718254168955\n",
      "MEAN TEST 0.450601184652687\n"
     ]
    },
    {
     "name": "stderr",
     "output_type": "stream",
     "text": [
      "\u001b[32m[I 2022-01-26 12:58:07,713]\u001b[0m Trial 443 finished with value: 0.4255825376124653 and parameters: {'rf_max_depth': 71, 'rf_min_samples_leaf': 47, 'min_samples_split': 87, 'rf_estimators': 128, 'rf_max_feats': 0.26130711509354204}. Best is trial 154 with value: 0.5522924497637286.\u001b[0m\n"
     ]
    },
    {
     "name": "stdout",
     "output_type": "stream",
     "text": [
      "MEAN TRAIN:  0.42427833461032904\n",
      "MEAN VALIDATION:  0.3241809702279272\n",
      "MEAN TEST 0.4255825376124653\n"
     ]
    },
    {
     "name": "stderr",
     "output_type": "stream",
     "text": [
      "\u001b[32m[I 2022-01-26 12:58:08,293]\u001b[0m Trial 447 finished with value: 0.46535928269165516 and parameters: {'rf_max_depth': 63, 'rf_min_samples_leaf': 7, 'min_samples_split': 80, 'rf_estimators': 87, 'rf_max_feats': 0.20985491509691936}. Best is trial 154 with value: 0.5522924497637286.\u001b[0m\n"
     ]
    },
    {
     "name": "stdout",
     "output_type": "stream",
     "text": [
      "MEAN TRAIN:  0.5018797482759242\n",
      "MEAN VALIDATION:  0.37473167117683825\n",
      "MEAN TEST 0.46535928269165516\n"
     ]
    },
    {
     "name": "stderr",
     "output_type": "stream",
     "text": [
      "\u001b[32m[I 2022-01-26 12:58:09,015]\u001b[0m Trial 452 finished with value: 0.39121757050859285 and parameters: {'rf_max_depth': 10, 'rf_min_samples_leaf': 56, 'min_samples_split': 10, 'rf_estimators': 14, 'rf_max_feats': 0.10713541449559455}. Best is trial 154 with value: 0.5522924497637286.\u001b[0m\n"
     ]
    },
    {
     "name": "stdout",
     "output_type": "stream",
     "text": [
      "MEAN TRAIN:  0.3686176053872103\n",
      "MEAN VALIDATION:  0.2859913887278255\n",
      "MEAN TEST 0.39121757050859285\n"
     ]
    },
    {
     "name": "stderr",
     "output_type": "stream",
     "text": [
      "\u001b[32m[I 2022-01-26 12:58:10,182]\u001b[0m Trial 445 finished with value: 0.4810622732380693 and parameters: {'rf_max_depth': 15, 'rf_min_samples_leaf': 19, 'min_samples_split': 41, 'rf_estimators': 128, 'rf_max_feats': 0.17977196154488673}. Best is trial 154 with value: 0.5522924497637286.\u001b[0m\n"
     ]
    },
    {
     "name": "stdout",
     "output_type": "stream",
     "text": [
      "MEAN TRAIN:  0.550803589541327\n",
      "MEAN VALIDATION:  0.38837801374120595\n",
      "MEAN TEST 0.4810622732380693\n"
     ]
    },
    {
     "name": "stderr",
     "output_type": "stream",
     "text": [
      "\u001b[32m[I 2022-01-26 12:58:11,222]\u001b[0m Trial 454 finished with value: 0.44874879226686726 and parameters: {'rf_max_depth': 74, 'rf_min_samples_leaf': 27, 'min_samples_split': 62, 'rf_estimators': 8, 'rf_max_feats': 0.19916491037541156}. Best is trial 154 with value: 0.5522924497637286.\u001b[0m\n"
     ]
    },
    {
     "name": "stdout",
     "output_type": "stream",
     "text": [
      "MEAN TRAIN:  0.47030971022670415\n",
      "MEAN VALIDATION:  0.33245296729989765\n",
      "MEAN TEST 0.44874879226686726\n"
     ]
    },
    {
     "name": "stderr",
     "output_type": "stream",
     "text": [
      "\u001b[32m[I 2022-01-26 12:58:12,255]\u001b[0m Trial 451 finished with value: 0.4150948196845343 and parameters: {'rf_max_depth': 76, 'rf_min_samples_leaf': 40, 'min_samples_split': 98, 'rf_estimators': 79, 'rf_max_feats': 0.10703427220815187}. Best is trial 154 with value: 0.5522924497637286.\u001b[0m\n"
     ]
    },
    {
     "name": "stdout",
     "output_type": "stream",
     "text": [
      "MEAN TRAIN:  0.4125041296920114\n",
      "MEAN VALIDATION:  0.32422216669314374\n",
      "MEAN TEST 0.4150948196845343\n"
     ]
    },
    {
     "name": "stderr",
     "output_type": "stream",
     "text": [
      "\u001b[32m[I 2022-01-26 12:58:12,824]\u001b[0m Trial 450 finished with value: 0.4741297868701082 and parameters: {'rf_max_depth': 124, 'rf_min_samples_leaf': 19, 'min_samples_split': 11, 'rf_estimators': 87, 'rf_max_feats': 0.10665860038712986}. Best is trial 154 with value: 0.5522924497637286.\u001b[0m\n"
     ]
    },
    {
     "name": "stdout",
     "output_type": "stream",
     "text": [
      "MEAN TRAIN:  0.5384409912560331\n",
      "MEAN VALIDATION:  0.3895615806147764\n",
      "MEAN TEST 0.4741297868701082\n"
     ]
    },
    {
     "name": "stderr",
     "output_type": "stream",
     "text": [
      "\u001b[32m[I 2022-01-26 12:58:13,862]\u001b[0m Trial 456 finished with value: 0.4301136485740825 and parameters: {'rf_max_depth': 38, 'rf_min_samples_leaf': 17, 'min_samples_split': 100, 'rf_estimators': 19, 'rf_max_feats': 0.1787290734540983}. Best is trial 154 with value: 0.5522924497637286.\u001b[0m\n"
     ]
    },
    {
     "name": "stdout",
     "output_type": "stream",
     "text": [
      "MEAN TRAIN:  0.4357137155376766\n",
      "MEAN VALIDATION:  0.34763843390960797\n",
      "MEAN TEST 0.4301136485740825\n"
     ]
    },
    {
     "name": "stderr",
     "output_type": "stream",
     "text": [
      "\u001b[32m[I 2022-01-26 12:58:15,993]\u001b[0m Trial 448 finished with value: 0.4539548972642393 and parameters: {'rf_max_depth': 99, 'rf_min_samples_leaf': 9, 'min_samples_split': 90, 'rf_estimators': 150, 'rf_max_feats': 0.24823792777759626}. Best is trial 154 with value: 0.5522924497637286.\u001b[0m\n"
     ]
    },
    {
     "name": "stdout",
     "output_type": "stream",
     "text": [
      "MEAN TRAIN:  0.4768976577751577\n",
      "MEAN VALIDATION:  0.35874151814221633\n",
      "MEAN TEST 0.4539548972642393\n"
     ]
    },
    {
     "name": "stderr",
     "output_type": "stream",
     "text": [
      "\u001b[32m[I 2022-01-26 12:58:16,356]\u001b[0m Trial 442 finished with value: 0.4768449228609527 and parameters: {'rf_max_depth': 130, 'rf_min_samples_leaf': 9, 'min_samples_split': 72, 'rf_estimators': 143, 'rf_max_feats': 0.33320852781882665}. Best is trial 154 with value: 0.5522924497637286.\u001b[0m\n"
     ]
    },
    {
     "name": "stdout",
     "output_type": "stream",
     "text": [
      "MEAN TRAIN:  0.5244980350157723\n",
      "MEAN VALIDATION:  0.383255277255683\n",
      "MEAN TEST 0.4768449228609527\n"
     ]
    },
    {
     "name": "stderr",
     "output_type": "stream",
     "text": [
      "\u001b[32m[I 2022-01-26 12:58:22,130]\u001b[0m Trial 458 finished with value: 0.4681913746055981 and parameters: {'rf_max_depth': 79, 'rf_min_samples_leaf': 7, 'min_samples_split': 80, 'rf_estimators': 87, 'rf_max_feats': 0.20985491509691936}. Best is trial 154 with value: 0.5522924497637286.\u001b[0m\n",
      "\u001b[32m[I 2022-01-26 12:58:22,236]\u001b[0m Trial 459 finished with value: 0.4517447718747105 and parameters: {'rf_max_depth': 20, 'rf_min_samples_leaf': 30, 'min_samples_split': 20, 'rf_estimators': 81, 'rf_max_feats': 0.1515093753548118}. Best is trial 154 with value: 0.5522924497637286.\u001b[0m\n"
     ]
    },
    {
     "name": "stdout",
     "output_type": "stream",
     "text": [
      "MEAN TRAIN:  0.503056923966992\n",
      "MEAN VALIDATION:  0.37383664143519646\n",
      "MEAN TEST 0.4681913746055981\n",
      "MEAN TRAIN:  0.4761307293264167\n",
      "MEAN VALIDATION:  0.36097524951867666\n",
      "MEAN TEST 0.4517447718747105\n"
     ]
    },
    {
     "name": "stderr",
     "output_type": "stream",
     "text": [
      "\u001b[32m[I 2022-01-26 12:58:22,339]\u001b[0m Trial 460 finished with value: 0.46500512559171014 and parameters: {'rf_max_depth': 99, 'rf_min_samples_leaf': 24, 'min_samples_split': 30, 'rf_estimators': 58, 'rf_max_feats': 0.19413162457208868}. Best is trial 154 with value: 0.5522924497637286.\u001b[0m\n"
     ]
    },
    {
     "name": "stdout",
     "output_type": "stream",
     "text": [
      "MEAN TRAIN:  0.516559871414462\n",
      "MEAN VALIDATION:  0.3766142024534505\n",
      "MEAN TEST 0.46500512559171014\n"
     ]
    },
    {
     "name": "stderr",
     "output_type": "stream",
     "text": [
      "\u001b[32m[I 2022-01-26 12:58:22,729]\u001b[0m Trial 455 finished with value: 0.46356888197904195 and parameters: {'rf_max_depth': 84, 'rf_min_samples_leaf': 5, 'min_samples_split': 79, 'rf_estimators': 131, 'rf_max_feats': 0.171267951465991}. Best is trial 154 with value: 0.5522924497637286.\u001b[0m\n"
     ]
    },
    {
     "name": "stdout",
     "output_type": "stream",
     "text": [
      "MEAN TRAIN:  0.5123367962418209\n",
      "MEAN VALIDATION:  0.37650366475209995\n",
      "MEAN TEST 0.46356888197904195\n"
     ]
    },
    {
     "name": "stderr",
     "output_type": "stream",
     "text": [
      "\u001b[32m[I 2022-01-26 12:58:22,987]\u001b[0m Trial 457 finished with value: 0.4065346952903341 and parameters: {'rf_max_depth': 4, 'rf_min_samples_leaf': 39, 'min_samples_split': 130, 'rf_estimators': 118, 'rf_max_feats': 0.3048559791478397}. Best is trial 154 with value: 0.5522924497637286.\u001b[0m\n"
     ]
    },
    {
     "name": "stdout",
     "output_type": "stream",
     "text": [
      "MEAN TRAIN:  0.3876457350844172\n",
      "MEAN VALIDATION:  0.29595738504785774\n",
      "MEAN TEST 0.4065346952903341\n"
     ]
    },
    {
     "name": "stderr",
     "output_type": "stream",
     "text": [
      "\u001b[32m[I 2022-01-26 12:58:26,139]\u001b[0m Trial 453 finished with value: 0.4974537202673252 and parameters: {'rf_max_depth': 99, 'rf_min_samples_leaf': 7, 'min_samples_split': 50, 'rf_estimators': 123, 'rf_max_feats': 0.24823792777759626}. Best is trial 154 with value: 0.5522924497637286.\u001b[0m\n"
     ]
    },
    {
     "name": "stdout",
     "output_type": "stream",
     "text": [
      "MEAN TRAIN:  0.5871252821172673\n",
      "MEAN VALIDATION:  0.4147630402000647\n",
      "MEAN TEST 0.4974537202673252\n"
     ]
    },
    {
     "name": "stderr",
     "output_type": "stream",
     "text": [
      "\u001b[32m[I 2022-01-26 12:58:29,906]\u001b[0m Trial 461 finished with value: 0.4757484340694894 and parameters: {'rf_max_depth': 54, 'rf_min_samples_leaf': 7, 'min_samples_split': 59, 'rf_estimators': 83, 'rf_max_feats': 0.15247997606493877}. Best is trial 154 with value: 0.5522924497637286.\u001b[0m\n"
     ]
    },
    {
     "name": "stdout",
     "output_type": "stream",
     "text": [
      "MEAN TRAIN:  0.5462881207671687\n",
      "MEAN VALIDATION:  0.3915638427671027\n",
      "MEAN TEST 0.4757484340694894\n"
     ]
    },
    {
     "name": "stderr",
     "output_type": "stream",
     "text": [
      "\u001b[32m[I 2022-01-26 12:58:30,328]\u001b[0m Trial 465 finished with value: 0.45290383714065074 and parameters: {'rf_max_depth': 9, 'rf_min_samples_leaf': 32, 'min_samples_split': 55, 'rf_estimators': 78, 'rf_max_feats': 0.19560160860771114}. Best is trial 154 with value: 0.5522924497637286.\u001b[0m\n"
     ]
    },
    {
     "name": "stdout",
     "output_type": "stream",
     "text": [
      "MEAN TRAIN:  0.4759975898444124\n",
      "MEAN VALIDATION:  0.3571485979916491\n",
      "MEAN TEST 0.45290383714065074\n"
     ]
    },
    {
     "name": "stderr",
     "output_type": "stream",
     "text": [
      "\u001b[32m[I 2022-01-26 12:58:32,464]\u001b[0m Trial 468 finished with value: 0.37885714896587264 and parameters: {'rf_max_depth': 99, 'rf_min_samples_leaf': 79, 'min_samples_split': 97, 'rf_estimators': 25, 'rf_max_feats': 0.29892626626692115}. Best is trial 154 with value: 0.5522924497637286.\u001b[0m\n"
     ]
    },
    {
     "name": "stdout",
     "output_type": "stream",
     "text": [
      "MEAN TRAIN:  0.3419100925715226\n",
      "MEAN VALIDATION:  0.2797141705473726\n",
      "MEAN TEST 0.37885714896587264\n"
     ]
    },
    {
     "name": "stderr",
     "output_type": "stream",
     "text": [
      "\u001b[32m[I 2022-01-26 12:58:35,429]\u001b[0m Trial 467 finished with value: 0.4144534477774343 and parameters: {'rf_max_depth': 81, 'rf_min_samples_leaf': 51, 'min_samples_split': 30, 'rf_estimators': 74, 'rf_max_feats': 0.17743531767438475}. Best is trial 154 with value: 0.5522924497637286.\u001b[0m\n"
     ]
    },
    {
     "name": "stdout",
     "output_type": "stream",
     "text": [
      "MEAN TRAIN:  0.40053299989863084\n",
      "MEAN VALIDATION:  0.31777784801051767\n",
      "MEAN TEST 0.4144534477774343\n"
     ]
    },
    {
     "name": "stderr",
     "output_type": "stream",
     "text": [
      "\u001b[32m[I 2022-01-26 12:58:40,507]\u001b[0m Trial 466 finished with value: 0.48883677936790837 and parameters: {'rf_max_depth': 131, 'rf_min_samples_leaf': 4, 'min_samples_split': 64, 'rf_estimators': 90, 'rf_max_feats': 0.2920117552148781}. Best is trial 154 with value: 0.5522924497637286.\u001b[0m\n"
     ]
    },
    {
     "name": "stdout",
     "output_type": "stream",
     "text": [
      "MEAN TRAIN:  0.5761256505897453\n",
      "MEAN VALIDATION:  0.40132489151996936\n",
      "MEAN TEST 0.48883677936790837\n"
     ]
    },
    {
     "name": "stderr",
     "output_type": "stream",
     "text": [
      "\u001b[32m[I 2022-01-26 12:58:41,951]\u001b[0m Trial 462 finished with value: 0.48820390034681777 and parameters: {'rf_max_depth': 28, 'rf_min_samples_leaf': 19, 'min_samples_split': 40, 'rf_estimators': 132, 'rf_max_feats': 0.28229458209363234}. Best is trial 154 with value: 0.5522924497637286.\u001b[0m\n"
     ]
    },
    {
     "name": "stdout",
     "output_type": "stream",
     "text": [
      "MEAN TRAIN:  0.5619717656177385\n",
      "MEAN VALIDATION:  0.39737371918644554\n",
      "MEAN TEST 0.48820390034681777\n"
     ]
    },
    {
     "name": "stderr",
     "output_type": "stream",
     "text": [
      "\u001b[32m[I 2022-01-26 12:58:42,160]\u001b[0m Trial 464 finished with value: 0.4656408885448613 and parameters: {'rf_max_depth': 74, 'rf_min_samples_leaf': 30, 'min_samples_split': 2, 'rf_estimators': 124, 'rf_max_feats': 0.36404608642785957}. Best is trial 154 with value: 0.5522924497637286.\u001b[0m\n"
     ]
    },
    {
     "name": "stdout",
     "output_type": "stream",
     "text": [
      "MEAN TRAIN:  0.4996063771278406\n",
      "MEAN VALIDATION:  0.3690210736583941\n",
      "MEAN TEST 0.4656408885448613\n"
     ]
    },
    {
     "name": "stderr",
     "output_type": "stream",
     "text": [
      "\u001b[32m[I 2022-01-26 12:58:42,611]\u001b[0m Trial 469 finished with value: 0.4452795070925629 and parameters: {'rf_max_depth': 80, 'rf_min_samples_leaf': 1, 'min_samples_split': 102, 'rf_estimators': 139, 'rf_max_feats': 0.1479006107148702}. Best is trial 154 with value: 0.5522924497637286.\u001b[0m\n",
      "\u001b[32m[I 2022-01-26 12:58:42,768]\u001b[0m Trial 471 finished with value: 0.442669354302576 and parameters: {'rf_max_depth': 38, 'rf_min_samples_leaf': 27, 'min_samples_split': 62, 'rf_estimators': 26, 'rf_max_feats': 0.14684367747319815}. Best is trial 154 with value: 0.5522924497637286.\u001b[0m\n"
     ]
    },
    {
     "name": "stdout",
     "output_type": "stream",
     "text": [
      "MEAN TRAIN:  0.4663525355982136\n",
      "MEAN VALIDATION:  0.3507757028882921\n",
      "MEAN TEST 0.4452795070925629\n",
      "MEAN TRAIN:  0.47837099756133916\n",
      "MEAN VALIDATION:  0.36227968511888636\n",
      "MEAN TEST 0.442669354302576\n"
     ]
    },
    {
     "name": "stderr",
     "output_type": "stream",
     "text": [
      "\u001b[32m[I 2022-01-26 12:58:45,361]\u001b[0m Trial 470 finished with value: 0.4892351918236402 and parameters: {'rf_max_depth': 27, 'rf_min_samples_leaf': 2, 'min_samples_split': 58, 'rf_estimators': 112, 'rf_max_feats': 0.1214290143650878}. Best is trial 154 with value: 0.5522924497637286.\u001b[0m\n"
     ]
    },
    {
     "name": "stdout",
     "output_type": "stream",
     "text": [
      "MEAN TRAIN:  0.5990764345458957\n",
      "MEAN VALIDATION:  0.4116697658959353\n",
      "MEAN TEST 0.4892351918236402\n"
     ]
    },
    {
     "name": "stderr",
     "output_type": "stream",
     "text": [
      "\u001b[32m[I 2022-01-26 12:58:50,184]\u001b[0m Trial 473 finished with value: 0.45737059368584265 and parameters: {'rf_max_depth': 55, 'rf_min_samples_leaf': 19, 'min_samples_split': 65, 'rf_estimators': 119, 'rf_max_feats': 0.1263764656279593}. Best is trial 154 with value: 0.5522924497637286.\u001b[0m\n"
     ]
    },
    {
     "name": "stdout",
     "output_type": "stream",
     "text": [
      "MEAN TRAIN:  0.48752447572572183\n",
      "MEAN VALIDATION:  0.35834227278675923\n",
      "MEAN TEST 0.45737059368584265\n"
     ]
    },
    {
     "name": "stderr",
     "output_type": "stream",
     "text": [
      "\u001b[32m[I 2022-01-26 12:58:50,942]\u001b[0m Trial 463 finished with value: 0.5320995964136118 and parameters: {'rf_max_depth': 68, 'rf_min_samples_leaf': 8, 'min_samples_split': 4, 'rf_estimators': 116, 'rf_max_feats': 0.3733026091718963}. Best is trial 154 with value: 0.5522924497637286.\u001b[0m\n"
     ]
    },
    {
     "name": "stdout",
     "output_type": "stream",
     "text": [
      "MEAN TRAIN:  0.722170297033034\n",
      "MEAN VALIDATION:  0.4476927468864534\n",
      "MEAN TEST 0.5320995964136118\n"
     ]
    },
    {
     "name": "stderr",
     "output_type": "stream",
     "text": [
      "\u001b[32m[I 2022-01-26 12:58:51,233]\u001b[0m Trial 475 finished with value: 0.43531681743097456 and parameters: {'rf_max_depth': 47, 'rf_min_samples_leaf': 43, 'min_samples_split': 73, 'rf_estimators': 88, 'rf_max_feats': 0.2653094332342102}. Best is trial 154 with value: 0.5522924497637286.\u001b[0m\n"
     ]
    },
    {
     "name": "stdout",
     "output_type": "stream",
     "text": [
      "MEAN TRAIN:  0.43765210270523164\n",
      "MEAN VALIDATION:  0.33466252574505095\n",
      "MEAN TEST 0.43531681743097456\n"
     ]
    },
    {
     "name": "stderr",
     "output_type": "stream",
     "text": [
      "\u001b[32m[I 2022-01-26 12:58:51,877]\u001b[0m Trial 472 finished with value: 0.5547352832054083 and parameters: {'rf_max_depth': 80, 'rf_min_samples_leaf': 1, 'min_samples_split': 12, 'rf_estimators': 39, 'rf_max_feats': 0.2693556080076496}. Best is trial 472 with value: 0.5547352832054083.\u001b[0m\n"
     ]
    },
    {
     "name": "stdout",
     "output_type": "stream",
     "text": [
      "MEAN TRAIN:  0.8496154595000516\n",
      "MEAN VALIDATION:  0.4852904122083361\n",
      "MEAN TEST 0.5547352832054083\n"
     ]
    },
    {
     "name": "stderr",
     "output_type": "stream",
     "text": [
      "\u001b[32m[I 2022-01-26 12:58:54,490]\u001b[0m Trial 478 finished with value: 0.45319198131662136 and parameters: {'rf_max_depth': 93, 'rf_min_samples_leaf': 19, 'min_samples_split': 59, 'rf_estimators': 61, 'rf_max_feats': 0.10863973642353174}. Best is trial 472 with value: 0.5547352832054083.\u001b[0m\n"
     ]
    },
    {
     "name": "stdout",
     "output_type": "stream",
     "text": [
      "MEAN TRAIN:  0.4928595140412854\n",
      "MEAN VALIDATION:  0.3688260370626531\n",
      "MEAN TEST 0.45319198131662136\n"
     ]
    },
    {
     "name": "stderr",
     "output_type": "stream",
     "text": [
      "\u001b[32m[I 2022-01-26 12:58:58,802]\u001b[0m Trial 477 finished with value: 0.4326821083033682 and parameters: {'rf_max_depth': 16, 'rf_min_samples_leaf': 39, 'min_samples_split': 2, 'rf_estimators': 131, 'rf_max_feats': 0.1582130310692979}. Best is trial 472 with value: 0.5547352832054083.\u001b[0m\n"
     ]
    },
    {
     "name": "stdout",
     "output_type": "stream",
     "text": [
      "MEAN TRAIN:  0.44023187043476797\n",
      "MEAN VALIDATION:  0.33550744574238617\n",
      "MEAN TEST 0.4326821083033682\n"
     ]
    },
    {
     "name": "stderr",
     "output_type": "stream",
     "text": [
      "\u001b[32m[I 2022-01-26 12:58:59,287]\u001b[0m Trial 480 finished with value: 0.45644215300494073 and parameters: {'rf_max_depth': 38, 'rf_min_samples_leaf': 30, 'min_samples_split': 14, 'rf_estimators': 78, 'rf_max_feats': 0.20985491509691936}. Best is trial 472 with value: 0.5547352832054083.\u001b[0m\n"
     ]
    },
    {
     "name": "stdout",
     "output_type": "stream",
     "text": [
      "MEAN TRAIN:  0.48527718402704867\n",
      "MEAN VALIDATION:  0.3627834968538077\n",
      "MEAN TEST 0.45644215300494073\n"
     ]
    },
    {
     "name": "stderr",
     "output_type": "stream",
     "text": [
      "\u001b[32m[I 2022-01-26 12:59:00,113]\u001b[0m Trial 476 finished with value: 0.5018846898565125 and parameters: {'rf_max_depth': 63, 'rf_min_samples_leaf': 7, 'min_samples_split': 50, 'rf_estimators': 79, 'rf_max_feats': 0.37582284871915433}. Best is trial 472 with value: 0.5547352832054083.\u001b[0m\n"
     ]
    },
    {
     "name": "stdout",
     "output_type": "stream",
     "text": [
      "MEAN TRAIN:  0.5929484508805577\n",
      "MEAN VALIDATION:  0.4070528005714958\n",
      "MEAN TEST 0.5018846898565125\n"
     ]
    },
    {
     "name": "stderr",
     "output_type": "stream",
     "text": [
      "\u001b[32m[I 2022-01-26 12:59:04,191]\u001b[0m Trial 482 finished with value: 0.38837378925994714 and parameters: {'rf_max_depth': 119, 'rf_min_samples_leaf': 67, 'min_samples_split': 98, 'rf_estimators': 83, 'rf_max_feats': 0.21206184990702778}. Best is trial 472 with value: 0.5547352832054083.\u001b[0m\n"
     ]
    },
    {
     "name": "stdout",
     "output_type": "stream",
     "text": [
      "MEAN TRAIN:  0.35870568736577824\n",
      "MEAN VALIDATION:  0.28287413549098284\n",
      "MEAN TEST 0.38837378925994714\n"
     ]
    },
    {
     "name": "stderr",
     "output_type": "stream",
     "text": [
      "\u001b[32m[I 2022-01-26 12:59:05,192]\u001b[0m Trial 481 finished with value: 0.4287336052326277 and parameters: {'rf_max_depth': 27, 'rf_min_samples_leaf': 42, 'min_samples_split': 104, 'rf_estimators': 104, 'rf_max_feats': 0.3037609047432277}. Best is trial 472 with value: 0.5547352832054083.\u001b[0m\n"
     ]
    },
    {
     "name": "stdout",
     "output_type": "stream",
     "text": [
      "MEAN TRAIN:  0.4207107401367116\n",
      "MEAN VALIDATION:  0.32662477157134634\n",
      "MEAN TEST 0.4287336052326277\n"
     ]
    },
    {
     "name": "stderr",
     "output_type": "stream",
     "text": [
      "\u001b[32m[I 2022-01-26 12:59:05,550]\u001b[0m Trial 483 finished with value: 0.3945593254076873 and parameters: {'rf_max_depth': 106, 'rf_min_samples_leaf': 47, 'min_samples_split': 125, 'rf_estimators': 114, 'rf_max_feats': 0.14318672858131262}. Best is trial 472 with value: 0.5547352832054083.\u001b[0m\n"
     ]
    },
    {
     "name": "stdout",
     "output_type": "stream",
     "text": [
      "MEAN TRAIN:  0.37614248934019107\n",
      "MEAN VALIDATION:  0.29768420232355125\n",
      "MEAN TEST 0.3945593254076873\n"
     ]
    },
    {
     "name": "stderr",
     "output_type": "stream",
     "text": [
      "\u001b[32m[I 2022-01-26 12:59:06,277]\u001b[0m Trial 486 finished with value: 0.43587125425010065 and parameters: {'rf_max_depth': 99, 'rf_min_samples_leaf': 35, 'min_samples_split': 7, 'rf_estimators': 10, 'rf_max_feats': 0.1615133606067284}. Best is trial 472 with value: 0.5547352832054083.\u001b[0m\n"
     ]
    },
    {
     "name": "stdout",
     "output_type": "stream",
     "text": [
      "MEAN TRAIN:  0.44485523694265117\n",
      "MEAN VALIDATION:  0.3415003786943698\n",
      "MEAN TEST 0.43587125425010065\n"
     ]
    },
    {
     "name": "stderr",
     "output_type": "stream",
     "text": [
      "\u001b[32m[I 2022-01-26 12:59:08,371]\u001b[0m Trial 484 finished with value: 0.4482416721816129 and parameters: {'rf_max_depth': 52, 'rf_min_samples_leaf': 26, 'min_samples_split': 73, 'rf_estimators': 113, 'rf_max_feats': 0.14858337789831086}. Best is trial 472 with value: 0.5547352832054083.\u001b[0m\n"
     ]
    },
    {
     "name": "stdout",
     "output_type": "stream",
     "text": [
      "MEAN TRAIN:  0.4653072339870308\n",
      "MEAN VALIDATION:  0.34774112158525944\n",
      "MEAN TEST 0.4482416721816129\n"
     ]
    },
    {
     "name": "stderr",
     "output_type": "stream",
     "text": [
      "\u001b[32m[I 2022-01-26 12:59:08,783]\u001b[0m Trial 488 finished with value: 0.5288819219341059 and parameters: {'rf_max_depth': 109, 'rf_min_samples_leaf': 3, 'min_samples_split': 14, 'rf_estimators': 12, 'rf_max_feats': 0.2653094332342102}. Best is trial 472 with value: 0.5547352832054083.\u001b[0m\n"
     ]
    },
    {
     "name": "stdout",
     "output_type": "stream",
     "text": [
      "MEAN TRAIN:  0.7765123627192001\n",
      "MEAN VALIDATION:  0.4836310293423395\n",
      "MEAN TEST 0.5288819219341059\n"
     ]
    },
    {
     "name": "stderr",
     "output_type": "stream",
     "text": [
      "\u001b[32m[I 2022-01-26 12:59:09,339]\u001b[0m Trial 474 finished with value: 0.560543776322629 and parameters: {'rf_max_depth': 117, 'rf_min_samples_leaf': 1, 'min_samples_split': 9, 'rf_estimators': 91, 'rf_max_feats': 0.30544307143426497}. Best is trial 474 with value: 0.560543776322629.\u001b[0m\n",
      "\u001b[32m[I 2022-01-26 12:59:09,469]\u001b[0m Trial 489 finished with value: 0.42375373216478274 and parameters: {'rf_max_depth': 149, 'rf_min_samples_leaf': 33, 'min_samples_split': 87, 'rf_estimators': 12, 'rf_max_feats': 0.22881711720326664}. Best is trial 474 with value: 0.560543776322629.\u001b[0m\n"
     ]
    },
    {
     "name": "stdout",
     "output_type": "stream",
     "text": [
      "MEAN TRAIN:  0.8741269918058429\n",
      "MEAN VALIDATION:  0.49588081558238295\n",
      "MEAN TEST 0.560543776322629\n",
      "MEAN TRAIN:  0.43884517813968393\n",
      "MEAN VALIDATION:  0.3333037702994394\n",
      "MEAN TEST 0.42375373216478274\n"
     ]
    },
    {
     "name": "stderr",
     "output_type": "stream",
     "text": [
      "\u001b[32m[I 2022-01-26 12:59:11,005]\u001b[0m Trial 485 finished with value: 0.4658083763249531 and parameters: {'rf_max_depth': 36, 'rf_min_samples_leaf': 16, 'min_samples_split': 56, 'rf_estimators': 81, 'rf_max_feats': 0.1515093753548118}. Best is trial 474 with value: 0.560543776322629.\u001b[0m\n"
     ]
    },
    {
     "name": "stdout",
     "output_type": "stream",
     "text": [
      "MEAN TRAIN:  0.5182286310191554\n",
      "MEAN VALIDATION:  0.37150881334526875\n",
      "MEAN TEST 0.4658083763249531\n"
     ]
    },
    {
     "name": "stderr",
     "output_type": "stream",
     "text": [
      "\u001b[32m[I 2022-01-26 12:59:11,883]\u001b[0m Trial 479 finished with value: 0.5124585303834499 and parameters: {'rf_max_depth': 95, 'rf_min_samples_leaf': 12, 'min_samples_split': 2, 'rf_estimators': 121, 'rf_max_feats': 0.29526048006823363}. Best is trial 474 with value: 0.560543776322629.\u001b[0m\n"
     ]
    },
    {
     "name": "stdout",
     "output_type": "stream",
     "text": [
      "MEAN TRAIN:  0.6464906253747275\n",
      "MEAN VALIDATION:  0.43051115340678836\n",
      "MEAN TEST 0.5124585303834499\n"
     ]
    },
    {
     "name": "stderr",
     "output_type": "stream",
     "text": [
      "\u001b[32m[I 2022-01-26 12:59:14,515]\u001b[0m Trial 492 finished with value: 0.4257486076975575 and parameters: {'rf_max_depth': 132, 'rf_min_samples_leaf': 47, 'min_samples_split': 40, 'rf_estimators': 44, 'rf_max_feats': 0.37774454139844355}. Best is trial 474 with value: 0.560543776322629.\u001b[0m\n"
     ]
    },
    {
     "name": "stdout",
     "output_type": "stream",
     "text": [
      "MEAN TRAIN:  0.427445040247947\n",
      "MEAN VALIDATION:  0.3207198756467541\n",
      "MEAN TEST 0.4257486076975575\n"
     ]
    },
    {
     "name": "stderr",
     "output_type": "stream",
     "text": [
      "\u001b[32m[I 2022-01-26 12:59:15,631]\u001b[0m Trial 490 finished with value: 0.4332358776570631 and parameters: {'rf_max_depth': 8, 'rf_min_samples_leaf': 43, 'min_samples_split': 80, 'rf_estimators': 86, 'rf_max_feats': 0.20985491509691936}. Best is trial 474 with value: 0.560543776322629.\u001b[0m\n"
     ]
    },
    {
     "name": "stdout",
     "output_type": "stream",
     "text": [
      "MEAN TRAIN:  0.4327408932340708\n",
      "MEAN VALIDATION:  0.3372769880535788\n",
      "MEAN TEST 0.4332358776570631\n"
     ]
    },
    {
     "name": "stderr",
     "output_type": "stream",
     "text": [
      "\u001b[32m[I 2022-01-26 12:59:16,045]\u001b[0m Trial 493 finished with value: 0.5003647164965752 and parameters: {'rf_max_depth': 99, 'rf_min_samples_leaf': 5, 'min_samples_split': 47, 'rf_estimators': 39, 'rf_max_feats': 0.22674391882371772}. Best is trial 474 with value: 0.560543776322629.\u001b[0m\n"
     ]
    },
    {
     "name": "stdout",
     "output_type": "stream",
     "text": [
      "MEAN TRAIN:  0.6119658610423555\n",
      "MEAN VALIDATION:  0.41568991985752746\n",
      "MEAN TEST 0.5003647164965752\n"
     ]
    },
    {
     "name": "stderr",
     "output_type": "stream",
     "text": [
      "\u001b[32m[I 2022-01-26 12:59:18,960]\u001b[0m Trial 494 finished with value: 0.45327445596530797 and parameters: {'rf_max_depth': 54, 'rf_min_samples_leaf': 2, 'min_samples_split': 85, 'rf_estimators': 108, 'rf_max_feats': 0.11529672930234706}. Best is trial 474 with value: 0.560543776322629.\u001b[0m\n"
     ]
    },
    {
     "name": "stdout",
     "output_type": "stream",
     "text": [
      "MEAN TRAIN:  0.5018623216624638\n",
      "MEAN VALIDATION:  0.36776366878043915\n",
      "MEAN TEST 0.45327445596530797\n"
     ]
    },
    {
     "name": "stderr",
     "output_type": "stream",
     "text": [
      "\u001b[32m[I 2022-01-26 12:59:22,391]\u001b[0m Trial 487 finished with value: 0.48049007487320533 and parameters: {'rf_max_depth': 128, 'rf_min_samples_leaf': 20, 'min_samples_split': 7, 'rf_estimators': 142, 'rf_max_feats': 0.22703744150321095}. Best is trial 474 with value: 0.560543776322629.\u001b[0m\n"
     ]
    },
    {
     "name": "stdout",
     "output_type": "stream",
     "text": [
      "MEAN TRAIN:  0.5542057493205526\n",
      "MEAN VALIDATION:  0.38881922138585684\n",
      "MEAN TEST 0.48049007487320533\n"
     ]
    },
    {
     "name": "stderr",
     "output_type": "stream",
     "text": [
      "\u001b[32m[I 2022-01-26 12:59:23,707]\u001b[0m Trial 491 finished with value: 0.4822826803731924 and parameters: {'rf_max_depth': 48, 'rf_min_samples_leaf': 24, 'min_samples_split': 12, 'rf_estimators': 104, 'rf_max_feats': 0.3037609047432277}. Best is trial 474 with value: 0.560543776322629.\u001b[0m\n"
     ]
    },
    {
     "name": "stdout",
     "output_type": "stream",
     "text": [
      "MEAN TRAIN:  0.5307734279425308\n",
      "MEAN VALIDATION:  0.38635612840772715\n",
      "MEAN TEST 0.4822826803731924\n"
     ]
    },
    {
     "name": "stderr",
     "output_type": "stream",
     "text": [
      "\u001b[32m[I 2022-01-26 12:59:24,058]\u001b[0m Trial 498 finished with value: 0.4348876249504846 and parameters: {'rf_max_depth': 30, 'rf_min_samples_leaf': 45, 'min_samples_split': 2, 'rf_estimators': 45, 'rf_max_feats': 0.3165003529313483}. Best is trial 474 with value: 0.560543776322629.\u001b[0m\n"
     ]
    },
    {
     "name": "stdout",
     "output_type": "stream",
     "text": [
      "MEAN TRAIN:  0.4342975696156649\n",
      "MEAN VALIDATION:  0.3411418163758833\n",
      "MEAN TEST 0.4348876249504846\n"
     ]
    },
    {
     "name": "stderr",
     "output_type": "stream",
     "text": [
      "\u001b[32m[I 2022-01-26 12:59:26,999]\u001b[0m Trial 497 finished with value: 0.40792203881651135 and parameters: {'rf_max_depth': 88, 'rf_min_samples_leaf': 1, 'min_samples_split': 141, 'rf_estimators': 128, 'rf_max_feats': 0.29526048006823363}. Best is trial 474 with value: 0.560543776322629.\u001b[0m\n"
     ]
    },
    {
     "name": "stdout",
     "output_type": "stream",
     "text": [
      "MEAN TRAIN:  0.39519995824699566\n",
      "MEAN VALIDATION:  0.30812088803329984\n",
      "MEAN TEST 0.40792203881651135\n"
     ]
    },
    {
     "name": "stderr",
     "output_type": "stream",
     "text": [
      "\u001b[32m[I 2022-01-26 12:59:27,669]\u001b[0m Trial 496 finished with value: 0.4626836714146694 and parameters: {'rf_max_depth': 54, 'rf_min_samples_leaf': 32, 'min_samples_split': 59, 'rf_estimators': 83, 'rf_max_feats': 0.3919793296448739}. Best is trial 474 with value: 0.560543776322629.\u001b[0m\n"
     ]
    },
    {
     "name": "stdout",
     "output_type": "stream",
     "text": [
      "MEAN TRAIN:  0.48935105790623207\n",
      "MEAN VALIDATION:  0.3636370100193972\n",
      "MEAN TEST 0.4626836714146694\n"
     ]
    },
    {
     "name": "stderr",
     "output_type": "stream",
     "text": [
      "\u001b[32m[I 2022-01-26 12:59:31,226]\u001b[0m Trial 502 finished with value: 0.4616441343322176 and parameters: {'rf_max_depth': 91, 'rf_min_samples_leaf': 19, 'min_samples_split': 55, 'rf_estimators': 66, 'rf_max_feats': 0.12892504766274773}. Best is trial 474 with value: 0.560543776322629.\u001b[0m\n",
      "\u001b[32m[I 2022-01-26 12:59:31,352]\u001b[0m Trial 495 finished with value: 0.4638878354243621 and parameters: {'rf_max_depth': 60, 'rf_min_samples_leaf': 21, 'min_samples_split': 73, 'rf_estimators': 147, 'rf_max_feats': 0.29089997671668544}. Best is trial 474 with value: 0.560543776322629.\u001b[0m\n"
     ]
    },
    {
     "name": "stdout",
     "output_type": "stream",
     "text": [
      "MEAN TRAIN:  0.5078291710702476\n",
      "MEAN VALIDATION:  0.3737251812691579\n",
      "MEAN TEST 0.4616441343322176\n",
      "MEAN TRAIN:  0.4929426429838384\n",
      "MEAN VALIDATION:  0.3694020464730169\n",
      "MEAN TEST 0.4638878354243621\n"
     ]
    },
    {
     "name": "stderr",
     "output_type": "stream",
     "text": [
      "\u001b[32m[I 2022-01-26 12:59:31,527]\u001b[0m Trial 500 finished with value: 0.464270036433008 and parameters: {'rf_max_depth': 116, 'rf_min_samples_leaf': 27, 'min_samples_split': 62, 'rf_estimators': 70, 'rf_max_feats': 0.3035446311843176}. Best is trial 474 with value: 0.560543776322629.\u001b[0m\n"
     ]
    },
    {
     "name": "stdout",
     "output_type": "stream",
     "text": [
      "MEAN TRAIN:  0.5003440101208226\n",
      "MEAN VALIDATION:  0.373590415504691\n",
      "MEAN TEST 0.464270036433008\n"
     ]
    },
    {
     "name": "stderr",
     "output_type": "stream",
     "text": [
      "\u001b[32m[I 2022-01-26 12:59:34,060]\u001b[0m Trial 501 finished with value: 0.527325170579297 and parameters: {'rf_max_depth': 143, 'rf_min_samples_leaf': 8, 'min_samples_split': 4, 'rf_estimators': 64, 'rf_max_feats': 0.26261310838608254}. Best is trial 474 with value: 0.560543776322629.\u001b[0m\n"
     ]
    },
    {
     "name": "stdout",
     "output_type": "stream",
     "text": [
      "MEAN TRAIN:  0.7117148167340857\n",
      "MEAN VALIDATION:  0.4487561428624837\n",
      "MEAN TEST 0.527325170579297\n"
     ]
    },
    {
     "name": "stderr",
     "output_type": "stream",
     "text": [
      "\u001b[32m[I 2022-01-26 12:59:36,561]\u001b[0m Trial 503 finished with value: 0.5409192827318494 and parameters: {'rf_max_depth': 102, 'rf_min_samples_leaf': 4, 'min_samples_split': 7, 'rf_estimators': 87, 'rf_max_feats': 0.10665860038712986}. Best is trial 474 with value: 0.560543776322629.\u001b[0m\n"
     ]
    },
    {
     "name": "stdout",
     "output_type": "stream",
     "text": [
      "MEAN TRAIN:  0.8007044599427438\n",
      "MEAN VALIDATION:  0.46498359254122096\n",
      "MEAN TEST 0.5409192827318494\n"
     ]
    },
    {
     "name": "stderr",
     "output_type": "stream",
     "text": [
      "\u001b[32m[I 2022-01-26 12:59:38,723]\u001b[0m Trial 505 finished with value: 0.4453088701790093 and parameters: {'rf_max_depth': 116, 'rf_min_samples_leaf': 32, 'min_samples_split': 83, 'rf_estimators': 68, 'rf_max_feats': 0.3341816735844944}. Best is trial 474 with value: 0.560543776322629.\u001b[0m\n"
     ]
    },
    {
     "name": "stdout",
     "output_type": "stream",
     "text": [
      "MEAN TRAIN:  0.46362289331189965\n",
      "MEAN VALIDATION:  0.3544230428486527\n",
      "MEAN TEST 0.4453088701790093\n"
     ]
    },
    {
     "name": "stderr",
     "output_type": "stream",
     "text": [
      "\u001b[32m[I 2022-01-26 12:59:39,556]\u001b[0m Trial 509 finished with value: 0.4507158260001459 and parameters: {'rf_max_depth': 113, 'rf_min_samples_leaf': 13, 'min_samples_split': 34, 'rf_estimators': 4, 'rf_max_feats': 0.35577244134013103}. Best is trial 474 with value: 0.560543776322629.\u001b[0m\n"
     ]
    },
    {
     "name": "stdout",
     "output_type": "stream",
     "text": [
      "MEAN TRAIN:  0.5690239861101155\n",
      "MEAN VALIDATION:  0.36504994234909105\n",
      "MEAN TEST 0.4507158260001459\n"
     ]
    },
    {
     "name": "stderr",
     "output_type": "stream",
     "text": [
      "\u001b[32m[I 2022-01-26 12:59:39,808]\u001b[0m Trial 499 finished with value: 0.5429753659255543 and parameters: {'rf_max_depth': 14, 'rf_min_samples_leaf': 3, 'min_samples_split': 14, 'rf_estimators': 138, 'rf_max_feats': 0.14684367747319815}. Best is trial 474 with value: 0.560543776322629.\u001b[0m\n"
     ]
    },
    {
     "name": "stdout",
     "output_type": "stream",
     "text": [
      "MEAN TRAIN:  0.7879585747921766\n",
      "MEAN VALIDATION:  0.47560152723038984\n",
      "MEAN TEST 0.5429753659255543\n"
     ]
    },
    {
     "name": "stderr",
     "output_type": "stream",
     "text": [
      "\u001b[32m[I 2022-01-26 12:59:40,867]\u001b[0m Trial 507 finished with value: 0.47517084312793223 and parameters: {'rf_max_depth': 136, 'rf_min_samples_leaf': 16, 'min_samples_split': 48, 'rf_estimators': 81, 'rf_max_feats': 0.1515093753548118}. Best is trial 474 with value: 0.560543776322629.\u001b[0m\n"
     ]
    },
    {
     "name": "stdout",
     "output_type": "stream",
     "text": [
      "MEAN TRAIN:  0.5363392595575867\n",
      "MEAN VALIDATION:  0.37980169631825067\n",
      "MEAN TEST 0.47517084312793223\n"
     ]
    },
    {
     "name": "stderr",
     "output_type": "stream",
     "text": [
      "\u001b[32m[I 2022-01-26 12:59:43,210]\u001b[0m Trial 512 finished with value: 0.45458933550025105 and parameters: {'rf_max_depth': 127, 'rf_min_samples_leaf': 33, 'min_samples_split': 3, 'rf_estimators': 20, 'rf_max_feats': 0.2692400801023779}. Best is trial 474 with value: 0.560543776322629.\u001b[0m\n"
     ]
    },
    {
     "name": "stdout",
     "output_type": "stream",
     "text": [
      "MEAN TRAIN:  0.47076141230964536\n",
      "MEAN VALIDATION:  0.3619713738051307\n",
      "MEAN TEST 0.45458933550025105\n"
     ]
    },
    {
     "name": "stderr",
     "output_type": "stream",
     "text": [
      "\u001b[32m[I 2022-01-26 12:59:43,555]\u001b[0m Trial 504 finished with value: 0.50629444350939 and parameters: {'rf_max_depth': 109, 'rf_min_samples_leaf': 3, 'min_samples_split': 46, 'rf_estimators': 124, 'rf_max_feats': 0.14684367747319815}. Best is trial 474 with value: 0.560543776322629.\u001b[0m\n"
     ]
    },
    {
     "name": "stdout",
     "output_type": "stream",
     "text": [
      "MEAN TRAIN:  0.6311598164492311\n",
      "MEAN VALIDATION:  0.4281756526510616\n",
      "MEAN TEST 0.50629444350939\n"
     ]
    },
    {
     "name": "stderr",
     "output_type": "stream",
     "text": [
      "\u001b[32m[I 2022-01-26 12:59:44,380]\u001b[0m Trial 511 finished with value: 0.4199587472733432 and parameters: {'rf_max_depth': 143, 'rf_min_samples_leaf': 8, 'min_samples_split': 116, 'rf_estimators': 65, 'rf_max_feats': 0.17101719412170735}. Best is trial 474 with value: 0.560543776322629.\u001b[0m\n"
     ]
    },
    {
     "name": "stdout",
     "output_type": "stream",
     "text": [
      "MEAN TRAIN:  0.41777554401982736\n",
      "MEAN VALIDATION:  0.32739494756912524\n",
      "MEAN TEST 0.4199587472733432\n"
     ]
    },
    {
     "name": "stderr",
     "output_type": "stream",
     "text": [
      "\u001b[32m[I 2022-01-26 12:59:44,747]\u001b[0m Trial 510 finished with value: 0.3879361836215346 and parameters: {'rf_max_depth': 38, 'rf_min_samples_leaf': 60, 'min_samples_split': 139, 'rf_estimators': 78, 'rf_max_feats': 0.22703744150321095}. Best is trial 474 with value: 0.560543776322629.\u001b[0m\n"
     ]
    },
    {
     "name": "stdout",
     "output_type": "stream",
     "text": [
      "MEAN TRAIN:  0.36030954901658757\n",
      "MEAN VALIDATION:  0.285850622978178\n",
      "MEAN TEST 0.3879361836215346\n"
     ]
    },
    {
     "name": "stderr",
     "output_type": "stream",
     "text": [
      "\u001b[32m[I 2022-01-26 12:59:47,935]\u001b[0m Trial 506 finished with value: 0.45152539217860765 and parameters: {'rf_max_depth': 48, 'rf_min_samples_leaf': 35, 'min_samples_split': 71, 'rf_estimators': 147, 'rf_max_feats': 0.29089997671668544}. Best is trial 474 with value: 0.560543776322629.\u001b[0m\n"
     ]
    },
    {
     "name": "stdout",
     "output_type": "stream",
     "text": [
      "MEAN TRAIN:  0.46756868734818957\n",
      "MEAN VALIDATION:  0.3565439924733161\n",
      "MEAN TEST 0.45152539217860765\n"
     ]
    },
    {
     "name": "stderr",
     "output_type": "stream",
     "text": [
      "\u001b[32m[I 2022-01-26 12:59:49,557]\u001b[0m Trial 515 finished with value: 0.42382630093411217 and parameters: {'rf_max_depth': 131, 'rf_min_samples_leaf': 35, 'min_samples_split': 90, 'rf_estimators': 87, 'rf_max_feats': 0.10665860038712986}. Best is trial 474 with value: 0.560543776322629.\u001b[0m\n"
     ]
    },
    {
     "name": "stdout",
     "output_type": "stream",
     "text": [
      "MEAN TRAIN:  0.4287741911428989\n",
      "MEAN VALIDATION:  0.33181863004653184\n",
      "MEAN TEST 0.42382630093411217\n"
     ]
    },
    {
     "name": "stderr",
     "output_type": "stream",
     "text": [
      "\u001b[32m[I 2022-01-26 12:59:56,319]\u001b[0m Trial 513 finished with value: 0.4682339232539771 and parameters: {'rf_max_depth': 4, 'rf_min_samples_leaf': 27, 'min_samples_split': 2, 'rf_estimators': 90, 'rf_max_feats': 0.29526048006823363}. Best is trial 474 with value: 0.560543776322629.\u001b[0m\n"
     ]
    },
    {
     "name": "stdout",
     "output_type": "stream",
     "text": [
      "MEAN TRAIN:  0.5066729241760173\n",
      "MEAN VALIDATION:  0.37308931152025904\n",
      "MEAN TEST 0.4682339232539771\n"
     ]
    },
    {
     "name": "stderr",
     "output_type": "stream",
     "text": [
      "\u001b[32m[I 2022-01-26 12:59:58,473]\u001b[0m Trial 508 finished with value: 0.4804394908949252 and parameters: {'rf_max_depth': 17, 'rf_min_samples_leaf': 24, 'min_samples_split': 2, 'rf_estimators': 124, 'rf_max_feats': 0.36404608642785957}. Best is trial 474 with value: 0.560543776322629.\u001b[0m\n"
     ]
    },
    {
     "name": "stdout",
     "output_type": "stream",
     "text": [
      "MEAN TRAIN:  0.5341686542248321\n",
      "MEAN VALIDATION:  0.3882210628691049\n",
      "MEAN TEST 0.4804394908949252\n"
     ]
    },
    {
     "name": "stderr",
     "output_type": "stream",
     "text": [
      "\u001b[32m[I 2022-01-26 13:00:02,224]\u001b[0m Trial 514 finished with value: 0.46662285034574935 and parameters: {'rf_max_depth': 25, 'rf_min_samples_leaf': 6, 'min_samples_split': 79, 'rf_estimators': 148, 'rf_max_feats': 0.2280793748958792}. Best is trial 474 with value: 0.560543776322629.\u001b[0m\n"
     ]
    },
    {
     "name": "stdout",
     "output_type": "stream",
     "text": [
      "MEAN TRAIN:  0.510352715800636\n",
      "MEAN VALIDATION:  0.377346464716589\n",
      "MEAN TEST 0.46662285034574935\n"
     ]
    },
    {
     "name": "stderr",
     "output_type": "stream",
     "text": [
      "\u001b[32m[I 2022-01-26 13:00:02,754]\u001b[0m Trial 516 finished with value: 0.49824670768530605 and parameters: {'rf_max_depth': 117, 'rf_min_samples_leaf': 1, 'min_samples_split': 63, 'rf_estimators': 86, 'rf_max_feats': 0.30544307143426497}. Best is trial 474 with value: 0.560543776322629.\u001b[0m\n"
     ]
    },
    {
     "name": "stdout",
     "output_type": "stream",
     "text": [
      "MEAN TRAIN:  0.610195487529357\n",
      "MEAN VALIDATION:  0.4198770148326071\n",
      "MEAN TEST 0.49824670768530605\n"
     ]
    },
    {
     "name": "stderr",
     "output_type": "stream",
     "text": [
      "\u001b[32m[I 2022-01-26 13:00:06,295]\u001b[0m Trial 522 finished with value: 0.4360922255076217 and parameters: {'rf_max_depth': 114, 'rf_min_samples_leaf': 21, 'min_samples_split': 94, 'rf_estimators': 25, 'rf_max_feats': 0.240531876313841}. Best is trial 474 with value: 0.560543776322629.\u001b[0m\n"
     ]
    },
    {
     "name": "stdout",
     "output_type": "stream",
     "text": [
      "MEAN TRAIN:  0.4493782798564764\n",
      "MEAN VALIDATION:  0.3427273533272771\n",
      "MEAN TEST 0.4360922255076217\n"
     ]
    },
    {
     "name": "stderr",
     "output_type": "stream",
     "text": [
      "\u001b[32m[I 2022-01-26 13:00:06,712]\u001b[0m Trial 518 finished with value: 0.5117355257845119 and parameters: {'rf_max_depth': 27, 'rf_min_samples_leaf': 8, 'min_samples_split': 34, 'rf_estimators': 74, 'rf_max_feats': 0.3037609047432277}. Best is trial 474 with value: 0.560543776322629.\u001b[0m\n"
     ]
    },
    {
     "name": "stdout",
     "output_type": "stream",
     "text": [
      "MEAN TRAIN:  0.6367116367802474\n",
      "MEAN VALIDATION:  0.42422686183386366\n",
      "MEAN TEST 0.5117355257845119\n"
     ]
    },
    {
     "name": "stderr",
     "output_type": "stream",
     "text": [
      "\u001b[32m[I 2022-01-26 13:00:08,271]\u001b[0m Trial 517 finished with value: 0.45600881448197655 and parameters: {'rf_max_depth': 38, 'rf_min_samples_leaf': 23, 'min_samples_split': 90, 'rf_estimators': 116, 'rf_max_feats': 0.3907328331056691}. Best is trial 474 with value: 0.560543776322629.\u001b[0m\n"
     ]
    },
    {
     "name": "stdout",
     "output_type": "stream",
     "text": [
      "MEAN TRAIN:  0.4663692018782311\n",
      "MEAN VALIDATION:  0.35744071166204006\n",
      "MEAN TEST 0.45600881448197655\n"
     ]
    },
    {
     "name": "stderr",
     "output_type": "stream",
     "text": [
      "\u001b[32m[I 2022-01-26 13:00:08,953]\u001b[0m Trial 521 finished with value: 0.44745167086967114 and parameters: {'rf_max_depth': 124, 'rf_min_samples_leaf': 19, 'min_samples_split': 69, 'rf_estimators': 87, 'rf_max_feats': 0.10111595381502969}. Best is trial 474 with value: 0.560543776322629.\u001b[0m\n",
      "\u001b[32m[I 2022-01-26 13:00:09,083]\u001b[0m Trial 525 finished with value: 0.44063201548131553 and parameters: {'rf_max_depth': 117, 'rf_min_samples_leaf': 16, 'min_samples_split': 63, 'rf_estimators': 8, 'rf_max_feats': 0.11529672930234706}. Best is trial 474 with value: 0.560543776322629.\u001b[0m\n"
     ]
    },
    {
     "name": "stdout",
     "output_type": "stream",
     "text": [
      "MEAN TRAIN:  0.47526912245392827\n",
      "MEAN VALIDATION:  0.3565549343365265\n",
      "MEAN TEST 0.44745167086967114\n",
      "MEAN TRAIN:  0.48104137320128026\n",
      "MEAN VALIDATION:  0.36641558578755595\n",
      "MEAN TEST 0.44063201548131553\n"
     ]
    },
    {
     "name": "stderr",
     "output_type": "stream",
     "text": [
      "\u001b[32m[I 2022-01-26 13:00:13,605]\u001b[0m Trial 519 finished with value: 0.47804982863000217 and parameters: {'rf_max_depth': 137, 'rf_min_samples_leaf': 20, 'min_samples_split': 9, 'rf_estimators': 142, 'rf_max_feats': 0.16442360021787134}. Best is trial 474 with value: 0.560543776322629.\u001b[0m\n"
     ]
    },
    {
     "name": "stdout",
     "output_type": "stream",
     "text": [
      "MEAN TRAIN:  0.5433440032522597\n",
      "MEAN VALIDATION:  0.389987178177289\n",
      "MEAN TEST 0.47804982863000217\n"
     ]
    },
    {
     "name": "stderr",
     "output_type": "stream",
     "text": [
      "\u001b[32m[I 2022-01-26 13:00:14,872]\u001b[0m Trial 524 finished with value: 0.46388025119609155 and parameters: {'rf_max_depth': 61, 'rf_min_samples_leaf': 16, 'min_samples_split': 64, 'rf_estimators': 91, 'rf_max_feats': 0.1515093753548118}. Best is trial 474 with value: 0.560543776322629.\u001b[0m\n"
     ]
    },
    {
     "name": "stdout",
     "output_type": "stream",
     "text": [
      "MEAN TRAIN:  0.5016888729117565\n",
      "MEAN VALIDATION:  0.36525962029431075\n",
      "MEAN TEST 0.46388025119609155\n"
     ]
    },
    {
     "name": "stderr",
     "output_type": "stream",
     "text": [
      "\u001b[32m[I 2022-01-26 13:00:15,270]\u001b[0m Trial 528 finished with value: 0.47838969740118903 and parameters: {'rf_max_depth': 117, 'rf_min_samples_leaf': 1, 'min_samples_split': 63, 'rf_estimators': 8, 'rf_max_feats': 0.29089997671668544}. Best is trial 474 with value: 0.560543776322629.\u001b[0m\n"
     ]
    },
    {
     "name": "stdout",
     "output_type": "stream",
     "text": [
      "MEAN TRAIN:  0.590293034582961\n",
      "MEAN VALIDATION:  0.38440075490746217\n",
      "MEAN TEST 0.47838969740118903\n"
     ]
    },
    {
     "name": "stderr",
     "output_type": "stream",
     "text": [
      "\u001b[32m[I 2022-01-26 13:00:17,100]\u001b[0m Trial 523 finished with value: 0.37944819247898137 and parameters: {'rf_max_depth': 75, 'rf_min_samples_leaf': 77, 'min_samples_split': 41, 'rf_estimators': 128, 'rf_max_feats': 0.29526048006823363}. Best is trial 474 with value: 0.560543776322629.\u001b[0m\n"
     ]
    },
    {
     "name": "stdout",
     "output_type": "stream",
     "text": [
      "MEAN TRAIN:  0.3463881603326824\n",
      "MEAN VALIDATION:  0.2814860092950182\n",
      "MEAN TEST 0.37944819247898137\n"
     ]
    },
    {
     "name": "stderr",
     "output_type": "stream",
     "text": [
      "\u001b[32m[I 2022-01-26 13:00:18,033]\u001b[0m Trial 526 finished with value: 0.49394970574241626 and parameters: {'rf_max_depth': 97, 'rf_min_samples_leaf': 1, 'min_samples_split': 55, 'rf_estimators': 86, 'rf_max_feats': 0.12212008920419007}. Best is trial 474 with value: 0.560543776322629.\u001b[0m\n"
     ]
    },
    {
     "name": "stdout",
     "output_type": "stream",
     "text": [
      "MEAN TRAIN:  0.618081669927067\n",
      "MEAN VALIDATION:  0.41389308861319113\n",
      "MEAN TEST 0.49394970574241626\n"
     ]
    },
    {
     "name": "stderr",
     "output_type": "stream",
     "text": [
      "\u001b[32m[I 2022-01-26 13:00:19,036]\u001b[0m Trial 531 finished with value: 0.4198260124046193 and parameters: {'rf_max_depth': 40, 'rf_min_samples_leaf': 8, 'min_samples_split': 117, 'rf_estimators': 14, 'rf_max_feats': 0.3037609047432277}. Best is trial 474 with value: 0.560543776322629.\u001b[0m\n"
     ]
    },
    {
     "name": "stdout",
     "output_type": "stream",
     "text": [
      "MEAN TRAIN:  0.42161150186474766\n",
      "MEAN VALIDATION:  0.3268346683813707\n",
      "MEAN TEST 0.4198260124046193\n"
     ]
    },
    {
     "name": "stderr",
     "output_type": "stream",
     "text": [
      "\u001b[32m[I 2022-01-26 13:00:21,313]\u001b[0m Trial 532 finished with value: 0.37264412191844076 and parameters: {'rf_max_depth': 99, 'rf_min_samples_leaf': 80, 'min_samples_split': 60, 'rf_estimators': 44, 'rf_max_feats': 0.22674391882371772}. Best is trial 474 with value: 0.560543776322629.\u001b[0m\n"
     ]
    },
    {
     "name": "stdout",
     "output_type": "stream",
     "text": [
      "MEAN TRAIN:  0.3316413706687681\n",
      "MEAN VALIDATION:  0.27188195952227845\n",
      "MEAN TEST 0.37264412191844076\n"
     ]
    },
    {
     "name": "stderr",
     "output_type": "stream",
     "text": [
      "\u001b[32m[I 2022-01-26 13:00:23,300]\u001b[0m Trial 529 finished with value: 0.44668523756887274 and parameters: {'rf_max_depth': 79, 'rf_min_samples_leaf': 7, 'min_samples_split': 98, 'rf_estimators': 79, 'rf_max_feats': 0.21206184990702778}. Best is trial 474 with value: 0.560543776322629.\u001b[0m\n",
      "\u001b[32m[I 2022-01-26 13:00:23,479]\u001b[0m Trial 520 finished with value: 0.46774444819395455 and parameters: {'rf_max_depth': 98, 'rf_min_samples_leaf': 24, 'min_samples_split': 58, 'rf_estimators': 148, 'rf_max_feats': 0.3136701879008911}. Best is trial 474 with value: 0.560543776322629.\u001b[0m\n"
     ]
    },
    {
     "name": "stdout",
     "output_type": "stream",
     "text": [
      "MEAN TRAIN:  0.46308442478518375\n",
      "MEAN VALIDATION:  0.34845513951332363\n",
      "MEAN TEST 0.44668523756887274\n",
      "MEAN TRAIN:  0.5130115400383033\n",
      "MEAN VALIDATION:  0.37318355635229067\n",
      "MEAN TEST 0.46774444819395455\n"
     ]
    },
    {
     "name": "stderr",
     "output_type": "stream",
     "text": [
      "\u001b[32m[I 2022-01-26 13:00:25,839]\u001b[0m Trial 530 finished with value: 0.5076976361424173 and parameters: {'rf_max_depth': 32, 'rf_min_samples_leaf': 8, 'min_samples_split': 34, 'rf_estimators': 74, 'rf_max_feats': 0.17931782045014238}. Best is trial 474 with value: 0.560543776322629.\u001b[0m\n",
      "\u001b[32m[I 2022-01-26 13:00:25,998]\u001b[0m Trial 533 finished with value: 0.42532505721489666 and parameters: {'rf_max_depth': 79, 'rf_min_samples_leaf': 43, 'min_samples_split': 10, 'rf_estimators': 95, 'rf_max_feats': 0.14452464674301493}. Best is trial 474 with value: 0.560543776322629.\u001b[0m\n"
     ]
    },
    {
     "name": "stdout",
     "output_type": "stream",
     "text": [
      "MEAN TRAIN:  0.622139084857089\n",
      "MEAN VALIDATION:  0.4155514060810053\n",
      "MEAN TEST 0.5076976361424173\n",
      "MEAN TRAIN:  0.42619717113036454\n",
      "MEAN VALIDATION:  0.3342186576283717\n",
      "MEAN TEST 0.42532505721489666\n"
     ]
    },
    {
     "name": "stderr",
     "output_type": "stream",
     "text": [
      "\u001b[32m[I 2022-01-26 13:00:27,995]\u001b[0m Trial 527 finished with value: 0.46900350897558096 and parameters: {'rf_max_depth': 139, 'rf_min_samples_leaf': 11, 'min_samples_split': 73, 'rf_estimators': 128, 'rf_max_feats': 0.29526048006823363}. Best is trial 474 with value: 0.560543776322629.\u001b[0m\n"
     ]
    },
    {
     "name": "stdout",
     "output_type": "stream",
     "text": [
      "MEAN TRAIN:  0.5106942900636129\n",
      "MEAN VALIDATION:  0.3784071243045159\n",
      "MEAN TEST 0.46900350897558096\n"
     ]
    },
    {
     "name": "stderr",
     "output_type": "stream",
     "text": [
      "\u001b[32m[I 2022-01-26 13:00:31,836]\u001b[0m Trial 535 finished with value: 0.48132186102096924 and parameters: {'rf_max_depth': 9, 'rf_min_samples_leaf': 7, 'min_samples_split': 60, 'rf_estimators': 48, 'rf_max_feats': 0.3049860790226595}. Best is trial 474 with value: 0.560543776322629.\u001b[0m\n"
     ]
    },
    {
     "name": "stdout",
     "output_type": "stream",
     "text": [
      "MEAN TRAIN:  0.5598090162264168\n",
      "MEAN VALIDATION:  0.40231288645213825\n",
      "MEAN TEST 0.48132186102096924\n"
     ]
    },
    {
     "name": "stderr",
     "output_type": "stream",
     "text": [
      "\u001b[32m[I 2022-01-26 13:00:33,738]\u001b[0m Trial 534 finished with value: 0.5222800198407999 and parameters: {'rf_max_depth': 114, 'rf_min_samples_leaf': 8, 'min_samples_split': 4, 'rf_estimators': 64, 'rf_max_feats': 0.240531876313841}. Best is trial 474 with value: 0.560543776322629.\u001b[0m\n"
     ]
    },
    {
     "name": "stdout",
     "output_type": "stream",
     "text": [
      "MEAN TRAIN:  0.7071481666034487\n",
      "MEAN VALIDATION:  0.4425702570104833\n",
      "MEAN TEST 0.5222800198407999\n"
     ]
    },
    {
     "name": "stderr",
     "output_type": "stream",
     "text": [
      "\u001b[32m[I 2022-01-26 13:00:34,724]\u001b[0m Trial 538 finished with value: 0.5000532144080961 and parameters: {'rf_max_depth': 69, 'rf_min_samples_leaf': 13, 'min_samples_split': 2, 'rf_estimators': 67, 'rf_max_feats': 0.17101719412170735}. Best is trial 474 with value: 0.560543776322629.\u001b[0m\n"
     ]
    },
    {
     "name": "stdout",
     "output_type": "stream",
     "text": [
      "MEAN TRAIN:  0.6170762061959625\n",
      "MEAN VALIDATION:  0.42237513966446744\n",
      "MEAN TEST 0.5000532144080961\n"
     ]
    },
    {
     "name": "stderr",
     "output_type": "stream",
     "text": [
      "\u001b[32m[I 2022-01-26 13:00:36,650]\u001b[0m Trial 542 finished with value: 0.44135174328810944 and parameters: {'rf_max_depth': 136, 'rf_min_samples_leaf': 35, 'min_samples_split': 22, 'rf_estimators': 12, 'rf_max_feats': 0.3273425049577186}. Best is trial 474 with value: 0.560543776322629.\u001b[0m\n"
     ]
    },
    {
     "name": "stdout",
     "output_type": "stream",
     "text": [
      "MEAN TRAIN:  0.4609637150184954\n",
      "MEAN VALIDATION:  0.33265240480829006\n",
      "MEAN TEST 0.44135174328810944\n"
     ]
    },
    {
     "name": "stderr",
     "output_type": "stream",
     "text": [
      "\u001b[32m[I 2022-01-26 13:00:37,476]\u001b[0m Trial 541 finished with value: 0.4602143225913321 and parameters: {'rf_max_depth': 121, 'rf_min_samples_leaf': 7, 'min_samples_split': 80, 'rf_estimators': 32, 'rf_max_feats': 0.20985491509691936}. Best is trial 474 with value: 0.560543776322629.\u001b[0m\n"
     ]
    },
    {
     "name": "stdout",
     "output_type": "stream",
     "text": [
      "MEAN TRAIN:  0.49649711071595937\n",
      "MEAN VALIDATION:  0.36122188741752514\n",
      "MEAN TEST 0.4602143225913321\n"
     ]
    },
    {
     "name": "stderr",
     "output_type": "stream",
     "text": [
      "\u001b[32m[I 2022-01-26 13:00:41,182]\u001b[0m Trial 540 finished with value: 0.4806434588012154 and parameters: {'rf_max_depth': 79, 'rf_min_samples_leaf': 17, 'min_samples_split': 58, 'rf_estimators': 49, 'rf_max_feats': 0.37035522298663875}. Best is trial 474 with value: 0.560543776322629.\u001b[0m\n"
     ]
    },
    {
     "name": "stdout",
     "output_type": "stream",
     "text": [
      "MEAN TRAIN:  0.5347962951707139\n",
      "MEAN VALIDATION:  0.38303035293915216\n",
      "MEAN TEST 0.4806434588012154\n"
     ]
    },
    {
     "name": "stderr",
     "output_type": "stream",
     "text": [
      "\u001b[32m[I 2022-01-26 13:00:42,376]\u001b[0m Trial 536 finished with value: 0.44543475421560386 and parameters: {'rf_max_depth': 55, 'rf_min_samples_leaf': 39, 'min_samples_split': 64, 'rf_estimators': 147, 'rf_max_feats': 0.29089997671668544}. Best is trial 474 with value: 0.560543776322629.\u001b[0m\n"
     ]
    },
    {
     "name": "stdout",
     "output_type": "stream",
     "text": [
      "MEAN TRAIN:  0.45712440161901274\n",
      "MEAN VALIDATION:  0.35043383901860403\n",
      "MEAN TEST 0.44543475421560386\n"
     ]
    },
    {
     "name": "stderr",
     "output_type": "stream",
     "text": [
      "\u001b[32m[I 2022-01-26 13:00:48,310]\u001b[0m Trial 543 finished with value: 0.43173612211513585 and parameters: {'rf_max_depth': 90, 'rf_min_samples_leaf': 47, 'min_samples_split': 22, 'rf_estimators': 81, 'rf_max_feats': 0.3692189591491229}. Best is trial 474 with value: 0.560543776322629.\u001b[0m\n"
     ]
    },
    {
     "name": "stdout",
     "output_type": "stream",
     "text": [
      "MEAN TRAIN:  0.4303212024150703\n",
      "MEAN VALIDATION:  0.33006732147750484\n",
      "MEAN TEST 0.43173612211513585\n"
     ]
    },
    {
     "name": "stderr",
     "output_type": "stream",
     "text": [
      "\u001b[32m[I 2022-01-26 13:00:49,104]\u001b[0m Trial 537 finished with value: 0.551018673501902 and parameters: {'rf_max_depth': 113, 'rf_min_samples_leaf': 1, 'min_samples_split': 18, 'rf_estimators': 143, 'rf_max_feats': 0.13479858187024568}. Best is trial 474 with value: 0.560543776322629.\u001b[0m\n"
     ]
    },
    {
     "name": "stdout",
     "output_type": "stream",
     "text": [
      "MEAN TRAIN:  0.8092814296426617\n",
      "MEAN VALIDATION:  0.4807665828418555\n",
      "MEAN TEST 0.551018673501902\n"
     ]
    },
    {
     "name": "stderr",
     "output_type": "stream",
     "text": [
      "\u001b[32m[I 2022-01-26 13:00:52,449]\u001b[0m Trial 547 finished with value: 0.47468515068019546 and parameters: {'rf_max_depth': 88, 'rf_min_samples_leaf': 19, 'min_samples_split': 41, 'rf_estimators': 39, 'rf_max_feats': 0.15104665609713863}. Best is trial 474 with value: 0.560543776322629.\u001b[0m\n",
      "\u001b[32m[I 2022-01-26 13:00:52,469]\u001b[0m Trial 544 finished with value: 0.43898105130356607 and parameters: {'rf_max_depth': 61, 'rf_min_samples_leaf': 22, 'min_samples_split': 100, 'rf_estimators': 140, 'rf_max_feats': 0.24823792777759626}. Best is trial 474 with value: 0.560543776322629.\u001b[0m\n"
     ]
    },
    {
     "name": "stdout",
     "output_type": "stream",
     "text": [
      "MEAN TRAIN:  0.5419206354444898\n",
      "MEAN VALIDATION:  0.3943107334549455\n",
      "MEAN TEST 0.47468515068019546\n",
      "MEAN TRAIN:  0.4417190188401389\n",
      "MEAN VALIDATION:  0.3373590379070981\n",
      "MEAN TEST 0.43898105130356607\n"
     ]
    },
    {
     "name": "stderr",
     "output_type": "stream",
     "text": [
      "\u001b[32m[I 2022-01-26 13:00:53,170]\u001b[0m Trial 549 finished with value: 0.44894305233267484 and parameters: {'rf_max_depth': 46, 'rf_min_samples_leaf': 24, 'min_samples_split': 30, 'rf_estimators': 8, 'rf_max_feats': 0.11014384378700454}. Best is trial 474 with value: 0.560543776322629.\u001b[0m\n"
     ]
    },
    {
     "name": "stdout",
     "output_type": "stream",
     "text": [
      "MEAN TRAIN:  0.4873267570912983\n",
      "MEAN VALIDATION:  0.3535602880023429\n",
      "MEAN TEST 0.44894305233267484\n"
     ]
    },
    {
     "name": "stderr",
     "output_type": "stream",
     "text": [
      "\u001b[32m[I 2022-01-26 13:00:53,874]\u001b[0m Trial 539 finished with value: 0.5642706316233468 and parameters: {'rf_max_depth': 117, 'rf_min_samples_leaf': 1, 'min_samples_split': 4, 'rf_estimators': 64, 'rf_max_feats': 0.30544307143426497}. Best is trial 539 with value: 0.5642706316233468.\u001b[0m\n"
     ]
    },
    {
     "name": "stdout",
     "output_type": "stream",
     "text": [
      "MEAN TRAIN:  0.9088598496825047\n",
      "MEAN VALIDATION:  0.4866986521399623\n",
      "MEAN TEST 0.5642706316233468\n"
     ]
    },
    {
     "name": "stderr",
     "output_type": "stream",
     "text": [
      "\u001b[32m[I 2022-01-26 13:00:54,302]\u001b[0m Trial 546 finished with value: 0.5295673285409285 and parameters: {'rf_max_depth': 38, 'rf_min_samples_leaf': 5, 'min_samples_split': 14, 'rf_estimators': 78, 'rf_max_feats': 0.14684367747319815}. Best is trial 539 with value: 0.5642706316233468.\u001b[0m\n"
     ]
    },
    {
     "name": "stdout",
     "output_type": "stream",
     "text": [
      "MEAN TRAIN:  0.750765817960212\n",
      "MEAN VALIDATION:  0.45567980732135593\n",
      "MEAN TEST 0.5295673285409285\n"
     ]
    },
    {
     "name": "stderr",
     "output_type": "stream",
     "text": [
      "\u001b[32m[I 2022-01-26 13:00:57,143]\u001b[0m Trial 545 finished with value: 0.44896595375640314 and parameters: {'rf_max_depth': 111, 'rf_min_samples_leaf': 36, 'min_samples_split': 72, 'rf_estimators': 143, 'rf_max_feats': 0.22290291646978727}. Best is trial 539 with value: 0.5642706316233468.\u001b[0m\n"
     ]
    },
    {
     "name": "stdout",
     "output_type": "stream",
     "text": [
      "MEAN TRAIN:  0.4614975513934582\n",
      "MEAN VALIDATION:  0.3543068828566489\n",
      "MEAN TEST 0.44896595375640314\n"
     ]
    },
    {
     "name": "stderr",
     "output_type": "stream",
     "text": [
      "\u001b[32m[I 2022-01-26 13:01:02,384]\u001b[0m Trial 553 finished with value: 0.4021790618906211 and parameters: {'rf_max_depth': 148, 'rf_min_samples_leaf': 1, 'min_samples_split': 143, 'rf_estimators': 83, 'rf_max_feats': 0.2693556080076496}. Best is trial 539 with value: 0.5642706316233468.\u001b[0m\n"
     ]
    },
    {
     "name": "stdout",
     "output_type": "stream",
     "text": [
      "MEAN TRAIN:  0.3900797795501282\n",
      "MEAN VALIDATION:  0.2982437500198904\n",
      "MEAN TEST 0.4021790618906211\n"
     ]
    },
    {
     "name": "stderr",
     "output_type": "stream",
     "text": [
      "\u001b[32m[I 2022-01-26 13:01:05,528]\u001b[0m Trial 551 finished with value: 0.43066680631213244 and parameters: {'rf_max_depth': 149, 'rf_min_samples_leaf': 33, 'min_samples_split': 100, 'rf_estimators': 121, 'rf_max_feats': 0.24534907926792712}. Best is trial 539 with value: 0.5642706316233468.\u001b[0m\n"
     ]
    },
    {
     "name": "stdout",
     "output_type": "stream",
     "text": [
      "MEAN TRAIN:  0.43191330918450693\n",
      "MEAN VALIDATION:  0.3310034748614157\n",
      "MEAN TEST 0.43066680631213244\n"
     ]
    },
    {
     "name": "stderr",
     "output_type": "stream",
     "text": [
      "\u001b[32m[I 2022-01-26 13:01:06,703]\u001b[0m Trial 548 finished with value: 0.43994811231895375 and parameters: {'rf_max_depth': 88, 'rf_min_samples_leaf': 44, 'min_samples_split': 39, 'rf_estimators': 130, 'rf_max_feats': 0.3383944313494169}. Best is trial 539 with value: 0.5642706316233468.\u001b[0m\n"
     ]
    },
    {
     "name": "stdout",
     "output_type": "stream",
     "text": [
      "MEAN TRAIN:  0.440284568708228\n",
      "MEAN VALIDATION:  0.3396993675607575\n",
      "MEAN TEST 0.43994811231895375\n"
     ]
    },
    {
     "name": "stderr",
     "output_type": "stream",
     "text": [
      "\u001b[32m[I 2022-01-26 13:01:08,290]\u001b[0m Trial 550 finished with value: 0.4552924975668275 and parameters: {'rf_max_depth': 40, 'rf_min_samples_leaf': 35, 'min_samples_split': 41, 'rf_estimators': 112, 'rf_max_feats': 0.3071053155272198}. Best is trial 539 with value: 0.5642706316233468.\u001b[0m\n"
     ]
    },
    {
     "name": "stdout",
     "output_type": "stream",
     "text": [
      "MEAN TRAIN:  0.4717767256355293\n",
      "MEAN VALIDATION:  0.35740888844430174\n",
      "MEAN TEST 0.4552924975668275\n"
     ]
    },
    {
     "name": "stderr",
     "output_type": "stream",
     "text": [
      "\u001b[32m[I 2022-01-26 13:01:09,758]\u001b[0m Trial 557 finished with value: 0.454498628068139 and parameters: {'rf_max_depth': 63, 'rf_min_samples_leaf': 18, 'min_samples_split': 55, 'rf_estimators': 30, 'rf_max_feats': 0.1328887953928784}. Best is trial 539 with value: 0.5642706316233468.\u001b[0m\n"
     ]
    },
    {
     "name": "stdout",
     "output_type": "stream",
     "text": [
      "MEAN TRAIN:  0.5100718874660102\n",
      "MEAN VALIDATION:  0.36392201969569166\n",
      "MEAN TEST 0.454498628068139\n"
     ]
    },
    {
     "name": "stderr",
     "output_type": "stream",
     "text": [
      "\u001b[32m[I 2022-01-26 13:01:13,836]\u001b[0m Trial 555 finished with value: 0.44322767554881926 and parameters: {'rf_max_depth': 124, 'rf_min_samples_leaf': 26, 'min_samples_split': 88, 'rf_estimators': 113, 'rf_max_feats': 0.20439722094718152}. Best is trial 539 with value: 0.5642706316233468.\u001b[0m\n"
     ]
    },
    {
     "name": "stdout",
     "output_type": "stream",
     "text": [
      "MEAN TRAIN:  0.45455427444373003\n",
      "MEAN VALIDATION:  0.3483433378079136\n",
      "MEAN TEST 0.44322767554881926\n"
     ]
    },
    {
     "name": "stderr",
     "output_type": "stream",
     "text": [
      "\u001b[32m[I 2022-01-26 13:01:14,477]\u001b[0m Trial 552 finished with value: 0.5013951632981405 and parameters: {'rf_max_depth': 36, 'rf_min_samples_leaf': 2, 'min_samples_split': 58, 'rf_estimators': 121, 'rf_max_feats': 0.23180815775416327}. Best is trial 539 with value: 0.5642706316233468.\u001b[0m\n"
     ]
    },
    {
     "name": "stdout",
     "output_type": "stream",
     "text": [
      "MEAN TRAIN:  0.6180450791726692\n",
      "MEAN VALIDATION:  0.4224485334619935\n",
      "MEAN TEST 0.5013951632981405\n"
     ]
    },
    {
     "name": "stderr",
     "output_type": "stream",
     "text": [
      "\u001b[32m[I 2022-01-26 13:01:17,418]\u001b[0m Trial 556 finished with value: 0.41514949681963415 and parameters: {'rf_max_depth': 133, 'rf_min_samples_leaf': 53, 'min_samples_split': 56, 'rf_estimators': 111, 'rf_max_feats': 0.24823792777759626}. Best is trial 539 with value: 0.5642706316233468.\u001b[0m\n"
     ]
    },
    {
     "name": "stdout",
     "output_type": "stream",
     "text": [
      "MEAN TRAIN:  0.3994206053120112\n",
      "MEAN VALIDATION:  0.3167145153872778\n",
      "MEAN TEST 0.41514949681963415\n"
     ]
    },
    {
     "name": "stderr",
     "output_type": "stream",
     "text": [
      "\u001b[32m[I 2022-01-26 13:01:18,990]\u001b[0m Trial 562 finished with value: 0.42578195457937423 and parameters: {'rf_max_depth': 40, 'rf_min_samples_leaf': 8, 'min_samples_split': 117, 'rf_estimators': 13, 'rf_max_feats': 0.2931591824655798}. Best is trial 539 with value: 0.5642706316233468.\u001b[0m\n"
     ]
    },
    {
     "name": "stdout",
     "output_type": "stream",
     "text": [
      "MEAN TRAIN:  0.4219534606850881\n",
      "MEAN VALIDATION:  0.33286546653871435\n",
      "MEAN TEST 0.42578195457937423\n"
     ]
    },
    {
     "name": "stderr",
     "output_type": "stream",
     "text": [
      "\u001b[32m[I 2022-01-26 13:01:22,399]\u001b[0m Trial 554 finished with value: 0.5026271209467973 and parameters: {'rf_max_depth': 93, 'rf_min_samples_leaf': 15, 'min_samples_split': 14, 'rf_estimators': 132, 'rf_max_feats': 0.28229458209363234}. Best is trial 539 with value: 0.5642706316233468.\u001b[0m\n"
     ]
    },
    {
     "name": "stdout",
     "output_type": "stream",
     "text": [
      "MEAN TRAIN:  0.6071006165699346\n",
      "MEAN VALIDATION:  0.42208636387703835\n",
      "MEAN TEST 0.5026271209467973\n"
     ]
    },
    {
     "name": "stderr",
     "output_type": "stream",
     "text": [
      "\u001b[32m[I 2022-01-26 13:01:23,088]\u001b[0m Trial 558 finished with value: 0.45422383355664975 and parameters: {'rf_max_depth': 9, 'rf_min_samples_leaf': 7, 'min_samples_split': 85, 'rf_estimators': 124, 'rf_max_feats': 0.20470129320391742}. Best is trial 539 with value: 0.5642706316233468.\u001b[0m\n"
     ]
    },
    {
     "name": "stdout",
     "output_type": "stream",
     "text": [
      "MEAN TRAIN:  0.4886386105853749\n",
      "MEAN VALIDATION:  0.3617136760486212\n",
      "MEAN TEST 0.45422383355664975\n"
     ]
    },
    {
     "name": "stderr",
     "output_type": "stream",
     "text": [
      "\u001b[32m[I 2022-01-26 13:01:24,201]\u001b[0m Trial 563 finished with value: 0.4153204033102692 and parameters: {'rf_max_depth': 105, 'rf_min_samples_leaf': 48, 'min_samples_split': 83, 'rf_estimators': 68, 'rf_max_feats': 0.1515093753548118}. Best is trial 539 with value: 0.5642706316233468.\u001b[0m\n"
     ]
    },
    {
     "name": "stdout",
     "output_type": "stream",
     "text": [
      "MEAN TRAIN:  0.4079129505845949\n",
      "MEAN VALIDATION:  0.31761050218624154\n",
      "MEAN TEST 0.4153204033102692\n"
     ]
    },
    {
     "name": "stderr",
     "output_type": "stream",
     "text": [
      "\u001b[32m[I 2022-01-26 13:01:24,842]\u001b[0m Trial 564 finished with value: 0.46219382349667715 and parameters: {'rf_max_depth': 33, 'rf_min_samples_leaf': 21, 'min_samples_split': 47, 'rf_estimators': 20, 'rf_max_feats': 0.18500073618051172}. Best is trial 539 with value: 0.5642706316233468.\u001b[0m\n"
     ]
    },
    {
     "name": "stdout",
     "output_type": "stream",
     "text": [
      "MEAN TRAIN:  0.5219122431435466\n",
      "MEAN VALIDATION:  0.38305219382023725\n",
      "MEAN TEST 0.46219382349667715\n"
     ]
    },
    {
     "name": "stderr",
     "output_type": "stream",
     "text": [
      "\u001b[32m[I 2022-01-26 13:01:27,202]\u001b[0m Trial 565 finished with value: 0.4290739358332001 and parameters: {'rf_max_depth': 50, 'rf_min_samples_leaf': 17, 'min_samples_split': 90, 'rf_estimators': 53, 'rf_max_feats': 0.13261871409998663}. Best is trial 539 with value: 0.5642706316233468.\u001b[0m\n"
     ]
    },
    {
     "name": "stdout",
     "output_type": "stream",
     "text": [
      "MEAN TRAIN:  0.4491653517017614\n",
      "MEAN VALIDATION:  0.34071423615527235\n",
      "MEAN TEST 0.4290739358332001\n"
     ]
    },
    {
     "name": "stderr",
     "output_type": "stream",
     "text": [
      "\u001b[32m[I 2022-01-26 13:01:30,343]\u001b[0m Trial 559 finished with value: 0.5352694300610134 and parameters: {'rf_max_depth': 108, 'rf_min_samples_leaf': 1, 'min_samples_split': 32, 'rf_estimators': 85, 'rf_max_feats': 0.24823792777759626}. Best is trial 539 with value: 0.5642706316233468.\u001b[0m\n"
     ]
    },
    {
     "name": "stdout",
     "output_type": "stream",
     "text": [
      "MEAN TRAIN:  0.7412553266915651\n",
      "MEAN VALIDATION:  0.4633791693616326\n",
      "MEAN TEST 0.5352694300610134\n"
     ]
    },
    {
     "name": "stderr",
     "output_type": "stream",
     "text": [
      "\u001b[32m[I 2022-01-26 13:01:30,558]\u001b[0m Trial 568 finished with value: 0.4639735373036767 and parameters: {'rf_max_depth': 4, 'rf_min_samples_leaf': 27, 'min_samples_split': 55, 'rf_estimators': 26, 'rf_max_feats': 0.21898454056865116}. Best is trial 539 with value: 0.5642706316233468.\u001b[0m\n"
     ]
    },
    {
     "name": "stdout",
     "output_type": "stream",
     "text": [
      "MEAN TRAIN:  0.4965097145689906\n",
      "MEAN VALIDATION:  0.3691755820549523\n",
      "MEAN TEST 0.4639735373036767\n"
     ]
    },
    {
     "name": "stderr",
     "output_type": "stream",
     "text": [
      "\u001b[32m[I 2022-01-26 13:01:31,642]\u001b[0m Trial 560 finished with value: 0.4595532694613714 and parameters: {'rf_max_depth': 79, 'rf_min_samples_leaf': 14, 'min_samples_split': 83, 'rf_estimators': 111, 'rf_max_feats': 0.3341816735844944}. Best is trial 539 with value: 0.5642706316233468.\u001b[0m\n"
     ]
    },
    {
     "name": "stdout",
     "output_type": "stream",
     "text": [
      "MEAN TRAIN:  0.48545365772897214\n",
      "MEAN VALIDATION:  0.3692811082881171\n",
      "MEAN TEST 0.4595532694613714\n"
     ]
    },
    {
     "name": "stderr",
     "output_type": "stream",
     "text": [
      "\u001b[32m[I 2022-01-26 13:01:32,543]\u001b[0m Trial 561 finished with value: 0.431681203013728 and parameters: {'rf_max_depth': 4, 'rf_min_samples_leaf': 27, 'min_samples_split': 106, 'rf_estimators': 140, 'rf_max_feats': 0.319134732860408}. Best is trial 539 with value: 0.5642706316233468.\u001b[0m\n"
     ]
    },
    {
     "name": "stdout",
     "output_type": "stream",
     "text": [
      "MEAN TRAIN:  0.4291335606758688\n",
      "MEAN VALIDATION:  0.33331118799015724\n",
      "MEAN TEST 0.431681203013728\n"
     ]
    },
    {
     "name": "stderr",
     "output_type": "stream",
     "text": [
      "\u001b[32m[I 2022-01-26 13:01:33,066]\u001b[0m Trial 567 finished with value: 0.47650963468043733 and parameters: {'rf_max_depth': 81, 'rf_min_samples_leaf': 6, 'min_samples_split': 59, 'rf_estimators': 74, 'rf_max_feats': 0.14595229789495304}. Best is trial 539 with value: 0.5642706316233468.\u001b[0m\n"
     ]
    },
    {
     "name": "stdout",
     "output_type": "stream",
     "text": [
      "MEAN TRAIN:  0.5511586245359587\n",
      "MEAN VALIDATION:  0.3908995495192481\n",
      "MEAN TEST 0.47650963468043733\n"
     ]
    },
    {
     "name": "stderr",
     "output_type": "stream",
     "text": [
      "\u001b[32m[I 2022-01-26 13:01:34,301]\u001b[0m Trial 566 finished with value: 0.4601116322661699 and parameters: {'rf_max_depth': 38, 'rf_min_samples_leaf': 30, 'min_samples_split': 58, 'rf_estimators': 78, 'rf_max_feats': 0.23180815775416327}. Best is trial 539 with value: 0.5642706316233468.\u001b[0m\n"
     ]
    },
    {
     "name": "stdout",
     "output_type": "stream",
     "text": [
      "MEAN TRAIN:  0.4900032740832122\n",
      "MEAN VALIDATION:  0.36165779173615775\n",
      "MEAN TEST 0.4601116322661699\n"
     ]
    },
    {
     "name": "stderr",
     "output_type": "stream",
     "text": [
      "\u001b[32m[I 2022-01-26 13:01:36,176]\u001b[0m Trial 573 finished with value: 0.5016840698328318 and parameters: {'rf_max_depth': 7, 'rf_min_samples_leaf': 13, 'min_samples_split': 2, 'rf_estimators': 20, 'rf_max_feats': 0.17101719412170735}. Best is trial 539 with value: 0.5642706316233468.\u001b[0m\n"
     ]
    },
    {
     "name": "stdout",
     "output_type": "stream",
     "text": [
      "MEAN TRAIN:  0.6103658569770772\n",
      "MEAN VALIDATION:  0.4063750902321258\n",
      "MEAN TEST 0.5016840698328318\n"
     ]
    },
    {
     "name": "stderr",
     "output_type": "stream",
     "text": [
      "\u001b[32m[I 2022-01-26 13:01:38,651]\u001b[0m Trial 574 finished with value: 0.4504937305861694 and parameters: {'rf_max_depth': 69, 'rf_min_samples_leaf': 15, 'min_samples_split': 75, 'rf_estimators': 44, 'rf_max_feats': 0.13187468604134922}. Best is trial 539 with value: 0.5642706316233468.\u001b[0m\n"
     ]
    },
    {
     "name": "stdout",
     "output_type": "stream",
     "text": [
      "MEAN TRAIN:  0.47740096094740814\n",
      "MEAN VALIDATION:  0.3533766655227564\n",
      "MEAN TEST 0.4504937305861694\n"
     ]
    },
    {
     "name": "stderr",
     "output_type": "stream",
     "text": [
      "\u001b[32m[I 2022-01-26 13:01:39,118]\u001b[0m Trial 571 finished with value: 0.43876432381083036 and parameters: {'rf_max_depth': 96, 'rf_min_samples_leaf': 42, 'min_samples_split': 58, 'rf_estimators': 61, 'rf_max_feats': 0.24128513179325833}. Best is trial 539 with value: 0.5642706316233468.\u001b[0m\n"
     ]
    },
    {
     "name": "stdout",
     "output_type": "stream",
     "text": [
      "MEAN TRAIN:  0.43920913220057034\n",
      "MEAN VALIDATION:  0.3415645920279921\n",
      "MEAN TEST 0.43876432381083036\n"
     ]
    },
    {
     "name": "stderr",
     "output_type": "stream",
     "text": [
      "\u001b[32m[I 2022-01-26 13:01:41,223]\u001b[0m Trial 570 finished with value: 0.432557323688867 and parameters: {'rf_max_depth': 63, 'rf_min_samples_leaf': 45, 'min_samples_split': 57, 'rf_estimators': 89, 'rf_max_feats': 0.2624444850624932}. Best is trial 539 with value: 0.5642706316233468.\u001b[0m\n"
     ]
    },
    {
     "name": "stdout",
     "output_type": "stream",
     "text": [
      "MEAN TRAIN:  0.43139952103530393\n",
      "MEAN VALIDATION:  0.34001758864692516\n",
      "MEAN TEST 0.432557323688867\n"
     ]
    },
    {
     "name": "stderr",
     "output_type": "stream",
     "text": [
      "\u001b[32m[I 2022-01-26 13:01:45,724]\u001b[0m Trial 576 finished with value: 0.3776630672279824 and parameters: {'rf_max_depth': 90, 'rf_min_samples_leaf': 74, 'min_samples_split': 88, 'rf_estimators': 89, 'rf_max_feats': 0.2624444850624932}. Best is trial 539 with value: 0.5642706316233468.\u001b[0m\n"
     ]
    },
    {
     "name": "stdout",
     "output_type": "stream",
     "text": [
      "MEAN TRAIN:  0.34730540079054373\n",
      "MEAN VALIDATION:  0.27882572627400803\n",
      "MEAN TEST 0.3776630672279824\n"
     ]
    },
    {
     "name": "stderr",
     "output_type": "stream",
     "text": [
      "\u001b[32m[I 2022-01-26 13:01:46,508]\u001b[0m Trial 577 finished with value: 0.38066288904835793 and parameters: {'rf_max_depth': 63, 'rf_min_samples_leaf': 77, 'min_samples_split': 55, 'rf_estimators': 86, 'rf_max_feats': 0.30544307143426497}. Best is trial 539 with value: 0.5642706316233468.\u001b[0m\n"
     ]
    },
    {
     "name": "stdout",
     "output_type": "stream",
     "text": [
      "MEAN TRAIN:  0.3464108396004103\n",
      "MEAN VALIDATION:  0.27456807019125684\n",
      "MEAN TEST 0.38066288904835793\n"
     ]
    },
    {
     "name": "stderr",
     "output_type": "stream",
     "text": [
      "\u001b[32m[I 2022-01-26 13:01:46,736]\u001b[0m Trial 575 finished with value: 0.5517226194231177 and parameters: {'rf_max_depth': 125, 'rf_min_samples_leaf': 1, 'min_samples_split': 12, 'rf_estimators': 39, 'rf_max_feats': 0.2280793748958792}. Best is trial 539 with value: 0.5642706316233468.\u001b[0m\n"
     ]
    },
    {
     "name": "stdout",
     "output_type": "stream",
     "text": [
      "MEAN TRAIN:  0.8467664172737616\n",
      "MEAN VALIDATION:  0.4768359458783825\n",
      "MEAN TEST 0.5517226194231177\n"
     ]
    },
    {
     "name": "stderr",
     "output_type": "stream",
     "text": [
      "\u001b[32m[I 2022-01-26 13:01:47,491]\u001b[0m Trial 569 finished with value: 0.5278088683426934 and parameters: {'rf_max_depth': 129, 'rf_min_samples_leaf': 8, 'min_samples_split': 4, 'rf_estimators': 75, 'rf_max_feats': 0.2748305490716357}. Best is trial 539 with value: 0.5642706316233468.\u001b[0m\n"
     ]
    },
    {
     "name": "stdout",
     "output_type": "stream",
     "text": [
      "MEAN TRAIN:  0.7114758296078441\n",
      "MEAN VALIDATION:  0.45562573523817856\n",
      "MEAN TEST 0.5278088683426934\n"
     ]
    },
    {
     "name": "stderr",
     "output_type": "stream",
     "text": [
      "\u001b[32m[I 2022-01-26 13:01:50,349]\u001b[0m Trial 572 finished with value: 0.4664966892634211 and parameters: {'rf_max_depth': 99, 'rf_min_samples_leaf': 32, 'min_samples_split': 32, 'rf_estimators': 96, 'rf_max_feats': 0.3919793296448739}. Best is trial 539 with value: 0.5642706316233468.\u001b[0m\n"
     ]
    },
    {
     "name": "stdout",
     "output_type": "stream",
     "text": [
      "MEAN TRAIN:  0.49260140828400417\n",
      "MEAN VALIDATION:  0.36826301401881445\n",
      "MEAN TEST 0.4664966892634211\n"
     ]
    },
    {
     "name": "stderr",
     "output_type": "stream",
     "text": [
      "\u001b[32m[I 2022-01-26 13:01:51,836]\u001b[0m Trial 580 finished with value: 0.48584510440955864 and parameters: {'rf_max_depth': 117, 'rf_min_samples_leaf': 19, 'min_samples_split': 27, 'rf_estimators': 28, 'rf_max_feats': 0.30544307143426497}. Best is trial 539 with value: 0.5642706316233468.\u001b[0m\n"
     ]
    },
    {
     "name": "stdout",
     "output_type": "stream",
     "text": [
      "MEAN TRAIN:  0.5678395016789552\n",
      "MEAN VALIDATION:  0.3911064882100086\n",
      "MEAN TEST 0.48584510440955864\n"
     ]
    },
    {
     "name": "stderr",
     "output_type": "stream",
     "text": [
      "\u001b[32m[I 2022-01-26 13:01:52,856]\u001b[0m Trial 579 finished with value: 0.4119681509823409 and parameters: {'rf_max_depth': 54, 'rf_min_samples_leaf': 57, 'min_samples_split': 85, 'rf_estimators': 65, 'rf_max_feats': 0.2936477192105139}. Best is trial 539 with value: 0.5642706316233468.\u001b[0m\n"
     ]
    },
    {
     "name": "stdout",
     "output_type": "stream",
     "text": [
      "MEAN TRAIN:  0.39133823756035513\n",
      "MEAN VALIDATION:  0.3156337075779873\n",
      "MEAN TEST 0.4119681509823409\n"
     ]
    },
    {
     "name": "stderr",
     "output_type": "stream",
     "text": [
      "\u001b[32m[I 2022-01-26 13:01:53,081]\u001b[0m Trial 578 finished with value: 0.4736089168807741 and parameters: {'rf_max_depth': 127, 'rf_min_samples_leaf': 19, 'min_samples_split': 52, 'rf_estimators': 87, 'rf_max_feats': 0.23422073334782467}. Best is trial 539 with value: 0.5642706316233468.\u001b[0m\n"
     ]
    },
    {
     "name": "stdout",
     "output_type": "stream",
     "text": [
      "MEAN TRAIN:  0.5296324213016643\n",
      "MEAN VALIDATION:  0.38421143147708425\n",
      "MEAN TEST 0.4736089168807741\n"
     ]
    },
    {
     "name": "stderr",
     "output_type": "stream",
     "text": [
      "\u001b[32m[I 2022-01-26 13:01:53,442]\u001b[0m Trial 581 finished with value: 0.4272743727294809 and parameters: {'rf_max_depth': 27, 'rf_min_samples_leaf': 7, 'min_samples_split': 104, 'rf_estimators': 104, 'rf_max_feats': 0.10584924573435953}. Best is trial 539 with value: 0.5642706316233468.\u001b[0m\n"
     ]
    },
    {
     "name": "stdout",
     "output_type": "stream",
     "text": [
      "MEAN TRAIN:  0.4372324166586693\n",
      "MEAN VALIDATION:  0.33372824924675776\n",
      "MEAN TEST 0.4272743727294809\n"
     ]
    },
    {
     "name": "stderr",
     "output_type": "stream",
     "text": [
      "\u001b[32m[I 2022-01-26 13:01:58,584]\u001b[0m Trial 582 finished with value: 0.4339859607697716 and parameters: {'rf_max_depth': 54, 'rf_min_samples_leaf': 43, 'min_samples_split': 63, 'rf_estimators': 108, 'rf_max_feats': 0.21957865453999337}. Best is trial 539 with value: 0.5642706316233468.\u001b[0m\n"
     ]
    },
    {
     "name": "stdout",
     "output_type": "stream",
     "text": [
      "MEAN TRAIN:  0.4363097302217353\n",
      "MEAN VALIDATION:  0.34027555744628984\n",
      "MEAN TEST 0.4339859607697716\n"
     ]
    },
    {
     "name": "stderr",
     "output_type": "stream",
     "text": [
      "\u001b[32m[I 2022-01-26 13:02:00,186]\u001b[0m Trial 588 finished with value: 0.4687381847743505 and parameters: {'rf_max_depth': 95, 'rf_min_samples_leaf': 19, 'min_samples_split': 2, 'rf_estimators': 8, 'rf_max_feats': 0.29526048006823363}. Best is trial 539 with value: 0.5642706316233468.\u001b[0m\n"
     ]
    },
    {
     "name": "stdout",
     "output_type": "stream",
     "text": [
      "MEAN TRAIN:  0.5554574687517817\n",
      "MEAN VALIDATION:  0.35439126208833216\n",
      "MEAN TEST 0.4687381847743505\n"
     ]
    },
    {
     "name": "stderr",
     "output_type": "stream",
     "text": [
      "\u001b[32m[I 2022-01-26 13:02:04,544]\u001b[0m Trial 584 finished with value: 0.43704611549060923 and parameters: {'rf_max_depth': 46, 'rf_min_samples_leaf': 39, 'min_samples_split': 7, 'rf_estimators': 131, 'rf_max_feats': 0.19413162457208868}. Best is trial 539 with value: 0.5642706316233468.\u001b[0m\n"
     ]
    },
    {
     "name": "stdout",
     "output_type": "stream",
     "text": [
      "MEAN TRAIN:  0.4464654497063215\n",
      "MEAN VALIDATION:  0.34383084945999826\n",
      "MEAN TEST 0.43704611549060923\n"
     ]
    },
    {
     "name": "stderr",
     "output_type": "stream",
     "text": [
      "\u001b[32m[I 2022-01-26 13:02:04,840]\u001b[0m Trial 586 finished with value: 0.45781688559695055 and parameters: {'rf_max_depth': 63, 'rf_min_samples_leaf': 25, 'min_samples_split': 71, 'rf_estimators': 75, 'rf_max_feats': 0.3263664134288083}. Best is trial 539 with value: 0.5642706316233468.\u001b[0m\n"
     ]
    },
    {
     "name": "stdout",
     "output_type": "stream",
     "text": [
      "MEAN TRAIN:  0.48974760139464807\n",
      "MEAN VALIDATION:  0.3671822375709789\n",
      "MEAN TEST 0.45781688559695055\n"
     ]
    },
    {
     "name": "stderr",
     "output_type": "stream",
     "text": [
      "\u001b[32m[I 2022-01-26 13:02:05,435]\u001b[0m Trial 585 finished with value: 0.43451350404036954 and parameters: {'rf_max_depth': 93, 'rf_min_samples_leaf': 47, 'min_samples_split': 37, 'rf_estimators': 86, 'rf_max_feats': 0.37628160037292935}. Best is trial 539 with value: 0.5642706316233468.\u001b[0m\n"
     ]
    },
    {
     "name": "stdout",
     "output_type": "stream",
     "text": [
      "MEAN TRAIN:  0.4292099570392958\n",
      "MEAN VALIDATION:  0.32948578926788513\n",
      "MEAN TEST 0.43451350404036954\n"
     ]
    },
    {
     "name": "stderr",
     "output_type": "stream",
     "text": [
      "\u001b[32m[I 2022-01-26 13:02:06,957]\u001b[0m Trial 589 finished with value: 0.37385527215055786 and parameters: {'rf_max_depth': 28, 'rf_min_samples_leaf': 77, 'min_samples_split': 65, 'rf_estimators': 94, 'rf_max_feats': 0.22674391882371772}. Best is trial 539 with value: 0.5642706316233468.\u001b[0m\n"
     ]
    },
    {
     "name": "stdout",
     "output_type": "stream",
     "text": [
      "MEAN TRAIN:  0.33798715446600924\n",
      "MEAN VALIDATION:  0.268209025603522\n",
      "MEAN TEST 0.37385527215055786\n"
     ]
    },
    {
     "name": "stderr",
     "output_type": "stream",
     "text": [
      "\u001b[32m[I 2022-01-26 13:02:07,729]\u001b[0m Trial 583 finished with value: 0.49151642819835306 and parameters: {'rf_max_depth': 91, 'rf_min_samples_leaf': 19, 'min_samples_split': 12, 'rf_estimators': 105, 'rf_max_feats': 0.2693556080076496}. Best is trial 539 with value: 0.5642706316233468.\u001b[0m\n"
     ]
    },
    {
     "name": "stdout",
     "output_type": "stream",
     "text": [
      "MEAN TRAIN:  0.56703727567087\n",
      "MEAN VALIDATION:  0.3957978753031183\n",
      "MEAN TEST 0.49151642819835306\n"
     ]
    },
    {
     "name": "stderr",
     "output_type": "stream",
     "text": [
      "\u001b[32m[I 2022-01-26 13:02:09,937]\u001b[0m Trial 587 finished with value: 0.5243924550890592 and parameters: {'rf_max_depth': 100, 'rf_min_samples_leaf': 8, 'min_samples_split': 4, 'rf_estimators': 78, 'rf_max_feats': 0.26261310838608254}. Best is trial 539 with value: 0.5642706316233468.\u001b[0m\n"
     ]
    },
    {
     "name": "stdout",
     "output_type": "stream",
     "text": [
      "MEAN TRAIN:  0.7133920781740102\n",
      "MEAN VALIDATION:  0.45111051660955903\n",
      "MEAN TEST 0.5243924550890592\n"
     ]
    },
    {
     "name": "stderr",
     "output_type": "stream",
     "text": [
      "\u001b[32m[I 2022-01-26 13:02:13,279]\u001b[0m Trial 590 finished with value: 0.46181558672442213 and parameters: {'rf_max_depth': 11, 'rf_min_samples_leaf': 8, 'min_samples_split': 83, 'rf_estimators': 68, 'rf_max_feats': 0.26261310838608254}. Best is trial 539 with value: 0.5642706316233468.\u001b[0m\n",
      "\u001b[32m[I 2022-01-26 13:02:13,341]\u001b[0m Trial 592 finished with value: 0.3962869030657982 and parameters: {'rf_max_depth': 28, 'rf_min_samples_leaf': 9, 'min_samples_split': 149, 'rf_estimators': 98, 'rf_max_feats': 0.22674391882371772}. Best is trial 539 with value: 0.5642706316233468.\u001b[0m\n"
     ]
    },
    {
     "name": "stdout",
     "output_type": "stream",
     "text": [
      "MEAN TRAIN:  0.4925956447170556\n",
      "MEAN VALIDATION:  0.364119347576206\n",
      "MEAN TEST 0.46181558672442213\n",
      "MEAN TRAIN:  0.3761122706845762\n",
      "MEAN VALIDATION:  0.2873348237407006\n",
      "MEAN TEST 0.3962869030657982\n"
     ]
    },
    {
     "name": "stderr",
     "output_type": "stream",
     "text": [
      "\u001b[32m[I 2022-01-26 13:02:14,883]\u001b[0m Trial 596 finished with value: 0.37750469702418554 and parameters: {'rf_max_depth': 31, 'rf_min_samples_leaf': 65, 'min_samples_split': 64, 'rf_estimators': 28, 'rf_max_feats': 0.11765090363848593}. Best is trial 539 with value: 0.5642706316233468.\u001b[0m\n"
     ]
    },
    {
     "name": "stdout",
     "output_type": "stream",
     "text": [
      "MEAN TRAIN:  0.3477083111612782\n",
      "MEAN VALIDATION:  0.27947805933301756\n",
      "MEAN TEST 0.37750469702418554\n"
     ]
    },
    {
     "name": "stderr",
     "output_type": "stream",
     "text": [
      "\u001b[32m[I 2022-01-26 13:02:16,047]\u001b[0m Trial 593 finished with value: 0.427860067989951 and parameters: {'rf_max_depth': 93, 'rf_min_samples_leaf': 47, 'min_samples_split': 50, 'rf_estimators': 79, 'rf_max_feats': 0.2790276694076502}. Best is trial 539 with value: 0.5642706316233468.\u001b[0m\n"
     ]
    },
    {
     "name": "stdout",
     "output_type": "stream",
     "text": [
      "MEAN TRAIN:  0.4228864386537877\n",
      "MEAN VALIDATION:  0.3243825911531791\n",
      "MEAN TEST 0.427860067989951\n"
     ]
    },
    {
     "name": "stderr",
     "output_type": "stream",
     "text": [
      "\u001b[32m[I 2022-01-26 13:02:16,639]\u001b[0m Trial 591 finished with value: 0.4262608995908699 and parameters: {'rf_max_depth': 75, 'rf_min_samples_leaf': 41, 'min_samples_split': 88, 'rf_estimators': 142, 'rf_max_feats': 0.16683699259431534}. Best is trial 539 with value: 0.5642706316233468.\u001b[0m\n"
     ]
    },
    {
     "name": "stdout",
     "output_type": "stream",
     "text": [
      "MEAN TRAIN:  0.42980986499598217\n",
      "MEAN VALIDATION:  0.3321307665698795\n",
      "MEAN TEST 0.4262608995908699\n"
     ]
    },
    {
     "name": "stderr",
     "output_type": "stream",
     "text": [
      "\u001b[32m[I 2022-01-26 13:02:21,158]\u001b[0m Trial 597 finished with value: 0.47056414797401347 and parameters: {'rf_max_depth': 137, 'rf_min_samples_leaf': 20, 'min_samples_split': 55, 'rf_estimators': 55, 'rf_max_feats': 0.22703744150321095}. Best is trial 539 with value: 0.5642706316233468.\u001b[0m\n"
     ]
    },
    {
     "name": "stdout",
     "output_type": "stream",
     "text": [
      "MEAN TRAIN:  0.5195037065203947\n",
      "MEAN VALIDATION:  0.37595162906364826\n",
      "MEAN TEST 0.47056414797401347\n"
     ]
    },
    {
     "name": "stderr",
     "output_type": "stream",
     "text": [
      "\u001b[32m[I 2022-01-26 13:02:23,296]\u001b[0m Trial 595 finished with value: 0.4108647848215619 and parameters: {'rf_max_depth': 93, 'rf_min_samples_leaf': 58, 'min_samples_split': 37, 'rf_estimators': 128, 'rf_max_feats': 0.2790276694076502}. Best is trial 539 with value: 0.5642706316233468.\u001b[0m\n",
      "\u001b[32m[I 2022-01-26 13:02:23,400]\u001b[0m Trial 598 finished with value: 0.39389490071444 and parameters: {'rf_max_depth': 143, 'rf_min_samples_leaf': 68, 'min_samples_split': 2, 'rf_estimators': 91, 'rf_max_feats': 0.26261310838608254}. Best is trial 539 with value: 0.5642706316233468.\u001b[0m\n"
     ]
    },
    {
     "name": "stdout",
     "output_type": "stream",
     "text": [
      "MEAN TRAIN:  0.38963726015870487\n",
      "MEAN VALIDATION:  0.30816221826851053\n",
      "MEAN TEST 0.4108647848215619\n",
      "MEAN TRAIN:  0.36119154090142047\n",
      "MEAN VALIDATION:  0.2864303285734561\n",
      "MEAN TEST 0.39389490071444\n"
     ]
    },
    {
     "name": "stderr",
     "output_type": "stream",
     "text": [
      "\u001b[32m[I 2022-01-26 13:02:25,864]\u001b[0m Trial 600 finished with value: 0.4488942351768574 and parameters: {'rf_max_depth': 99, 'rf_min_samples_leaf': 4, 'min_samples_split': 88, 'rf_estimators': 94, 'rf_max_feats': 0.1515093753548118}. Best is trial 539 with value: 0.5642706316233468.\u001b[0m\n"
     ]
    },
    {
     "name": "stdout",
     "output_type": "stream",
     "text": [
      "MEAN TRAIN:  0.48971459277415585\n",
      "MEAN VALIDATION:  0.3642151764881493\n",
      "MEAN TEST 0.4488942351768574\n"
     ]
    },
    {
     "name": "stderr",
     "output_type": "stream",
     "text": [
      "\u001b[32m[I 2022-01-26 13:02:27,091]\u001b[0m Trial 601 finished with value: 0.45999747185183243 and parameters: {'rf_max_depth': 102, 'rf_min_samples_leaf': 32, 'min_samples_split': 32, 'rf_estimators': 30, 'rf_max_feats': 0.3919793296448739}. Best is trial 539 with value: 0.5642706316233468.\u001b[0m\n",
      "\u001b[32m[I 2022-01-26 13:02:27,234]\u001b[0m Trial 599 finished with value: 0.45837074542923206 and parameters: {'rf_max_depth': 91, 'rf_min_samples_leaf': 19, 'min_samples_split': 64, 'rf_estimators': 130, 'rf_max_feats': 0.11765090363848593}. Best is trial 539 with value: 0.5642706316233468.\u001b[0m\n"
     ]
    },
    {
     "name": "stdout",
     "output_type": "stream",
     "text": [
      "MEAN TRAIN:  0.4837676970774133\n",
      "MEAN VALIDATION:  0.36431407564042084\n",
      "MEAN TEST 0.45999747185183243\n",
      "MEAN TRAIN:  0.4897441967634892\n",
      "MEAN VALIDATION:  0.3626301560203212\n",
      "MEAN TEST 0.45837074542923206\n"
     ]
    },
    {
     "name": "stderr",
     "output_type": "stream",
     "text": [
      "\u001b[32m[I 2022-01-26 13:02:29,243]\u001b[0m Trial 605 finished with value: 0.43196472069285363 and parameters: {'rf_max_depth': 113, 'rf_min_samples_leaf': 36, 'min_samples_split': 85, 'rf_estimators': 23, 'rf_max_feats': 0.17977196154488673}. Best is trial 539 with value: 0.5642706316233468.\u001b[0m\n"
     ]
    },
    {
     "name": "stdout",
     "output_type": "stream",
     "text": [
      "MEAN TRAIN:  0.43682161200947406\n",
      "MEAN VALIDATION:  0.3311223629172082\n",
      "MEAN TEST 0.43196472069285363\n"
     ]
    },
    {
     "name": "stderr",
     "output_type": "stream",
     "text": [
      "\u001b[32m[I 2022-01-26 13:02:34,448]\u001b[0m Trial 606 finished with value: 0.4512061809831174 and parameters: {'rf_max_depth': 59, 'rf_min_samples_leaf': 1, 'min_samples_split': 88, 'rf_estimators': 94, 'rf_max_feats': 0.11533197518174791}. Best is trial 539 with value: 0.5642706316233468.\u001b[0m\n",
      "\u001b[32m[I 2022-01-26 13:02:34,640]\u001b[0m Trial 603 finished with value: 0.46085217541871193 and parameters: {'rf_max_depth': 127, 'rf_min_samples_leaf': 30, 'min_samples_split': 14, 'rf_estimators': 78, 'rf_max_feats': 0.2692400801023779}. Best is trial 539 with value: 0.5642706316233468.\u001b[0m\n"
     ]
    },
    {
     "name": "stdout",
     "output_type": "stream",
     "text": [
      "MEAN TRAIN:  0.49948365223880276\n",
      "MEAN VALIDATION:  0.3731028872218576\n",
      "MEAN TEST 0.4512061809831174\n",
      "MEAN TRAIN:  0.4934654774175943\n",
      "MEAN VALIDATION:  0.3631404953884438\n",
      "MEAN TEST 0.46085217541871193\n"
     ]
    },
    {
     "name": "stderr",
     "output_type": "stream",
     "text": [
      "\u001b[32m[I 2022-01-26 13:02:35,214]\u001b[0m Trial 602 finished with value: 0.48197763664736365 and parameters: {'rf_max_depth': 143, 'rf_min_samples_leaf': 9, 'min_samples_split': 65, 'rf_estimators': 64, 'rf_max_feats': 0.33320852781882665}. Best is trial 539 with value: 0.5642706316233468.\u001b[0m\n"
     ]
    },
    {
     "name": "stdout",
     "output_type": "stream",
     "text": [
      "MEAN TRAIN:  0.5398536617351967\n",
      "MEAN VALIDATION:  0.39463386512073634\n",
      "MEAN TEST 0.48197763664736365\n"
     ]
    },
    {
     "name": "stderr",
     "output_type": "stream",
     "text": [
      "\u001b[32m[I 2022-01-26 13:02:35,814]\u001b[0m Trial 607 finished with value: 0.40050745837912005 and parameters: {'rf_max_depth': 140, 'rf_min_samples_leaf': 62, 'min_samples_split': 59, 'rf_estimators': 78, 'rf_max_feats': 0.23231275305516208}. Best is trial 539 with value: 0.5642706316233468.\u001b[0m\n"
     ]
    },
    {
     "name": "stdout",
     "output_type": "stream",
     "text": [
      "MEAN TRAIN:  0.37584120525542586\n",
      "MEAN VALIDATION:  0.29873023288012507\n",
      "MEAN TEST 0.40050745837912005\n"
     ]
    },
    {
     "name": "stderr",
     "output_type": "stream",
     "text": [
      "\u001b[32m[I 2022-01-26 13:02:38,295]\u001b[0m Trial 594 finished with value: 0.5238345662398496 and parameters: {'rf_max_depth': 93, 'rf_min_samples_leaf': 9, 'min_samples_split': 16, 'rf_estimators': 131, 'rf_max_feats': 0.3049860790226595}. Best is trial 539 with value: 0.5642706316233468.\u001b[0m\n"
     ]
    },
    {
     "name": "stdout",
     "output_type": "stream",
     "text": [
      "MEAN TRAIN:  0.6949600605537316\n",
      "MEAN VALIDATION:  0.45130213480354103\n",
      "MEAN TEST 0.5238345662398496\n"
     ]
    },
    {
     "name": "stderr",
     "output_type": "stream",
     "text": [
      "\u001b[32m[I 2022-01-26 13:02:39,626]\u001b[0m Trial 604 finished with value: 0.4992890606236523 and parameters: {'rf_max_depth': 139, 'rf_min_samples_leaf': 5, 'min_samples_split': 57, 'rf_estimators': 68, 'rf_max_feats': 0.3341816735844944}. Best is trial 539 with value: 0.5642706316233468.\u001b[0m\n"
     ]
    },
    {
     "name": "stdout",
     "output_type": "stream",
     "text": [
      "MEAN TRAIN:  0.5914741732365005\n",
      "MEAN VALIDATION:  0.409318997602562\n",
      "MEAN TEST 0.4992890606236523\n"
     ]
    },
    {
     "name": "stderr",
     "output_type": "stream",
     "text": [
      "\u001b[32m[I 2022-01-26 13:02:44,406]\u001b[0m Trial 610 finished with value: 0.506835759144869 and parameters: {'rf_max_depth': 117, 'rf_min_samples_leaf': 1, 'min_samples_split': 56, 'rf_estimators': 44, 'rf_max_feats': 0.30544307143426497}. Best is trial 539 with value: 0.5642706316233468.\u001b[0m\n"
     ]
    },
    {
     "name": "stdout",
     "output_type": "stream",
     "text": [
      "MEAN TRAIN:  0.6388599896701822\n",
      "MEAN VALIDATION:  0.4260187666863908\n",
      "MEAN TEST 0.506835759144869\n"
     ]
    },
    {
     "name": "stderr",
     "output_type": "stream",
     "text": [
      "\u001b[32m[I 2022-01-26 13:02:46,840]\u001b[0m Trial 609 finished with value: 0.4508859462403295 and parameters: {'rf_max_depth': 29, 'rf_min_samples_leaf': 33, 'min_samples_split': 78, 'rf_estimators': 109, 'rf_max_feats': 0.24534907926792712}. Best is trial 539 with value: 0.5642706316233468.\u001b[0m\n"
     ]
    },
    {
     "name": "stdout",
     "output_type": "stream",
     "text": [
      "MEAN TRAIN:  0.46215813891806884\n",
      "MEAN VALIDATION:  0.351405256516036\n",
      "MEAN TEST 0.4508859462403295\n"
     ]
    },
    {
     "name": "stderr",
     "output_type": "stream",
     "text": [
      "\u001b[32m[I 2022-01-26 13:02:51,062]\u001b[0m Trial 612 finished with value: 0.4405664310130497 and parameters: {'rf_max_depth': 106, 'rf_min_samples_leaf': 23, 'min_samples_split': 95, 'rf_estimators': 117, 'rf_max_feats': 0.23677834479262172}. Best is trial 539 with value: 0.5642706316233468.\u001b[0m\n"
     ]
    },
    {
     "name": "stdout",
     "output_type": "stream",
     "text": [
      "MEAN TRAIN:  0.44710742398204983\n",
      "MEAN VALIDATION:  0.35166271490053935\n",
      "MEAN TEST 0.4405664310130497\n"
     ]
    },
    {
     "name": "stderr",
     "output_type": "stream",
     "text": [
      "\u001b[32m[I 2022-01-26 13:02:55,390]\u001b[0m Trial 608 finished with value: 0.47598187822566906 and parameters: {'rf_max_depth': 98, 'rf_min_samples_leaf': 24, 'min_samples_split': 47, 'rf_estimators': 139, 'rf_max_feats': 0.26130711509354204}. Best is trial 539 with value: 0.5642706316233468.\u001b[0m\n"
     ]
    },
    {
     "name": "stdout",
     "output_type": "stream",
     "text": [
      "MEAN TRAIN:  0.5275757315956545\n",
      "MEAN VALIDATION:  0.37976831470466876\n",
      "MEAN TEST 0.47598187822566906\n"
     ]
    },
    {
     "name": "stderr",
     "output_type": "stream",
     "text": [
      "\u001b[32m[I 2022-01-26 13:02:56,031]\u001b[0m Trial 611 finished with value: 0.5280767375673981 and parameters: {'rf_max_depth': 99, 'rf_min_samples_leaf': 7, 'min_samples_split': 2, 'rf_estimators': 91, 'rf_max_feats': 0.24823792777759626}. Best is trial 539 with value: 0.5642706316233468.\u001b[0m\n"
     ]
    },
    {
     "name": "stdout",
     "output_type": "stream",
     "text": [
      "MEAN TRAIN:  0.733857306025792\n",
      "MEAN VALIDATION:  0.46600859661503174\n",
      "MEAN TEST 0.5280767375673981\n"
     ]
    },
    {
     "name": "stderr",
     "output_type": "stream",
     "text": [
      "\u001b[32m[I 2022-01-26 13:02:57,795]\u001b[0m Trial 614 finished with value: 0.4943035288149886 and parameters: {'rf_max_depth': 75, 'rf_min_samples_leaf': 1, 'min_samples_split': 63, 'rf_estimators': 86, 'rf_max_feats': 0.19337332801595083}. Best is trial 539 with value: 0.5642706316233468.\u001b[0m\n"
     ]
    },
    {
     "name": "stdout",
     "output_type": "stream",
     "text": [
      "MEAN TRAIN:  0.598735686533721\n",
      "MEAN VALIDATION:  0.41106842659703424\n",
      "MEAN TEST 0.4943035288149886\n"
     ]
    },
    {
     "name": "stderr",
     "output_type": "stream",
     "text": [
      "\u001b[32m[I 2022-01-26 13:03:07,421]\u001b[0m Trial 613 finished with value: 0.48353373404428607 and parameters: {'rf_max_depth': 55, 'rf_min_samples_leaf': 9, 'min_samples_split': 65, 'rf_estimators': 138, 'rf_max_feats': 0.33320852781882665}. Best is trial 539 with value: 0.5642706316233468.\u001b[0m\n"
     ]
    },
    {
     "name": "stdout",
     "output_type": "stream",
     "text": [
      "MEAN TRAIN:  0.5404205214921831\n",
      "MEAN VALIDATION:  0.3871251134124062\n",
      "MEAN TEST 0.48353373404428607\n"
     ]
    },
    {
     "name": "stderr",
     "output_type": "stream",
     "text": [
      "\u001b[32m[I 2022-01-26 13:03:08,517]\u001b[0m Trial 617 finished with value: 0.42207202515238346 and parameters: {'rf_max_depth': 128, 'rf_min_samples_leaf': 46, 'min_samples_split': 7, 'rf_estimators': 120, 'rf_max_feats': 0.17101719412170735}. Best is trial 539 with value: 0.5642706316233468.\u001b[0m\n"
     ]
    },
    {
     "name": "stdout",
     "output_type": "stream",
     "text": [
      "MEAN TRAIN:  0.4183693079809651\n",
      "MEAN VALIDATION:  0.32363445977332356\n",
      "MEAN TEST 0.42207202515238346\n"
     ]
    },
    {
     "name": "stderr",
     "output_type": "stream",
     "text": [
      "\u001b[32m[I 2022-01-26 13:03:10,819]\u001b[0m Trial 616 finished with value: 0.5092779891993265 and parameters: {'rf_max_depth': 127, 'rf_min_samples_leaf': 12, 'min_samples_split': 9, 'rf_estimators': 91, 'rf_max_feats': 0.22703744150321095}. Best is trial 539 with value: 0.5642706316233468.\u001b[0m\n"
     ]
    },
    {
     "name": "stdout",
     "output_type": "stream",
     "text": [
      "MEAN TRAIN:  0.6369937963715496\n",
      "MEAN VALIDATION:  0.42236563622103895\n",
      "MEAN TEST 0.5092779891993265\n"
     ]
    },
    {
     "name": "stderr",
     "output_type": "stream",
     "text": [
      "\u001b[32m[I 2022-01-26 13:03:11,240]\u001b[0m Trial 618 finished with value: 0.46204325829191034 and parameters: {'rf_max_depth': 61, 'rf_min_samples_leaf': 25, 'min_samples_split': 64, 'rf_estimators': 91, 'rf_max_feats': 0.2364547023124566}. Best is trial 539 with value: 0.5642706316233468.\u001b[0m\n"
     ]
    },
    {
     "name": "stdout",
     "output_type": "stream",
     "text": [
      "MEAN TRAIN:  0.49409549250172535\n",
      "MEAN VALIDATION:  0.3679497763092519\n",
      "MEAN TEST 0.46204325829191034\n"
     ]
    },
    {
     "name": "stderr",
     "output_type": "stream",
     "text": [
      "\u001b[32m[I 2022-01-26 13:03:14,032]\u001b[0m Trial 623 finished with value: 0.4482124359715577 and parameters: {'rf_max_depth': 113, 'rf_min_samples_leaf': 28, 'min_samples_split': 63, 'rf_estimators': 15, 'rf_max_feats': 0.19337332801595083}. Best is trial 539 with value: 0.5642706316233468.\u001b[0m\n"
     ]
    },
    {
     "name": "stdout",
     "output_type": "stream",
     "text": [
      "MEAN TRAIN:  0.4813365418007094\n",
      "MEAN VALIDATION:  0.3598260417181741\n",
      "MEAN TEST 0.4482124359715577\n"
     ]
    },
    {
     "name": "stderr",
     "output_type": "stream",
     "text": [
      "\u001b[32m[I 2022-01-26 13:03:19,204]\u001b[0m Trial 621 finished with value: 0.47474486844505587 and parameters: {'rf_max_depth': 7, 'rf_min_samples_leaf': 9, 'min_samples_split': 65, 'rf_estimators': 55, 'rf_max_feats': 0.22703744150321095}. Best is trial 539 with value: 0.5642706316233468.\u001b[0m\n"
     ]
    },
    {
     "name": "stdout",
     "output_type": "stream",
     "text": [
      "MEAN TRAIN:  0.5299786593706997\n",
      "MEAN VALIDATION:  0.38166226309778395\n",
      "MEAN TEST 0.47474486844505587\n"
     ]
    },
    {
     "name": "stderr",
     "output_type": "stream",
     "text": [
      "\u001b[32m[I 2022-01-26 13:03:20,328]\u001b[0m Trial 615 finished with value: 0.49010222476851517 and parameters: {'rf_max_depth': 79, 'rf_min_samples_leaf': 11, 'min_samples_split': 58, 'rf_estimators': 148, 'rf_max_feats': 0.3136701879008911}. Best is trial 539 with value: 0.5642706316233468.\u001b[0m\n"
     ]
    },
    {
     "name": "stdout",
     "output_type": "stream",
     "text": [
      "MEAN TRAIN:  0.5487738241378813\n",
      "MEAN VALIDATION:  0.3935248757578286\n",
      "MEAN TEST 0.49010222476851517\n"
     ]
    },
    {
     "name": "stderr",
     "output_type": "stream",
     "text": [
      "\u001b[32m[I 2022-01-26 13:03:22,453]\u001b[0m Trial 619 finished with value: 0.49669945229334883 and parameters: {'rf_max_depth': 91, 'rf_min_samples_leaf': 1, 'min_samples_split': 63, 'rf_estimators': 86, 'rf_max_feats': 0.31737078897730425}. Best is trial 539 with value: 0.5642706316233468.\u001b[0m\n"
     ]
    },
    {
     "name": "stdout",
     "output_type": "stream",
     "text": [
      "MEAN TRAIN:  0.614300215908449\n",
      "MEAN VALIDATION:  0.41306686260238135\n",
      "MEAN TEST 0.49669945229334883\n"
     ]
    },
    {
     "name": "stderr",
     "output_type": "stream",
     "text": [
      "\u001b[32m[I 2022-01-26 13:03:23,145]\u001b[0m Trial 624 finished with value: 0.4667286644327988 and parameters: {'rf_max_depth': 124, 'rf_min_samples_leaf': 21, 'min_samples_split': 41, 'rf_estimators': 86, 'rf_max_feats': 0.10665860038712986}. Best is trial 539 with value: 0.5642706316233468.\u001b[0m\n"
     ]
    },
    {
     "name": "stdout",
     "output_type": "stream",
     "text": [
      "MEAN TRAIN:  0.524095688206119\n",
      "MEAN VALIDATION:  0.3736002744269521\n",
      "MEAN TEST 0.4667286644327988\n"
     ]
    },
    {
     "name": "stderr",
     "output_type": "stream",
     "text": [
      "\u001b[32m[I 2022-01-26 13:03:25,641]\u001b[0m Trial 620 finished with value: 0.5392948964777753 and parameters: {'rf_max_depth': 36, 'rf_min_samples_leaf': 3, 'min_samples_split': 14, 'rf_estimators': 78, 'rf_max_feats': 0.14684367747319815}. Best is trial 539 with value: 0.5642706316233468.\u001b[0m\n"
     ]
    },
    {
     "name": "stdout",
     "output_type": "stream",
     "text": [
      "MEAN TRAIN:  0.7850739278626955\n",
      "MEAN VALIDATION:  0.479082741280379\n",
      "MEAN TEST 0.5392948964777753\n"
     ]
    },
    {
     "name": "stderr",
     "output_type": "stream",
     "text": [
      "\u001b[32m[I 2022-01-26 13:03:29,697]\u001b[0m Trial 628 finished with value: 0.5292480922100892 and parameters: {'rf_max_depth': 93, 'rf_min_samples_leaf': 9, 'min_samples_split': 16, 'rf_estimators': 25, 'rf_max_feats': 0.3049860790226595}. Best is trial 539 with value: 0.5642706316233468.\u001b[0m\n"
     ]
    },
    {
     "name": "stdout",
     "output_type": "stream",
     "text": [
      "MEAN TRAIN:  0.6883473289896213\n",
      "MEAN VALIDATION:  0.4372899278633275\n",
      "MEAN TEST 0.5292480922100892\n"
     ]
    },
    {
     "name": "stderr",
     "output_type": "stream",
     "text": [
      "\u001b[32m[I 2022-01-26 13:03:30,672]\u001b[0m Trial 626 finished with value: 0.4803001220321791 and parameters: {'rf_max_depth': 54, 'rf_min_samples_leaf': 7, 'min_samples_split': 55, 'rf_estimators': 83, 'rf_max_feats': 0.15247997606493877}. Best is trial 539 with value: 0.5642706316233468.\u001b[0m\n"
     ]
    },
    {
     "name": "stdout",
     "output_type": "stream",
     "text": [
      "MEAN TRAIN:  0.5572277640464572\n",
      "MEAN VALIDATION:  0.4004451173903014\n",
      "MEAN TEST 0.4803001220321791\n"
     ]
    },
    {
     "name": "stderr",
     "output_type": "stream",
     "text": [
      "\u001b[32m[I 2022-01-26 13:03:34,120]\u001b[0m Trial 630 finished with value: 0.46689433003436215 and parameters: {'rf_max_depth': 25, 'rf_min_samples_leaf': 19, 'min_samples_split': 57, 'rf_estimators': 28, 'rf_max_feats': 0.2676221609487403}. Best is trial 539 with value: 0.5642706316233468.\u001b[0m\n"
     ]
    },
    {
     "name": "stdout",
     "output_type": "stream",
     "text": [
      "MEAN TRAIN:  0.5190880413228528\n",
      "MEAN VALIDATION:  0.3651344096891084\n",
      "MEAN TEST 0.46689433003436215\n"
     ]
    },
    {
     "name": "stderr",
     "output_type": "stream",
     "text": [
      "\u001b[32m[I 2022-01-26 13:03:35,577]\u001b[0m Trial 627 finished with value: 0.43099686223310785 and parameters: {'rf_max_depth': 55, 'rf_min_samples_leaf': 8, 'min_samples_split': 107, 'rf_estimators': 138, 'rf_max_feats': 0.17931782045014238}. Best is trial 539 with value: 0.5642706316233468.\u001b[0m\n"
     ]
    },
    {
     "name": "stdout",
     "output_type": "stream",
     "text": [
      "MEAN TRAIN:  0.44041036272846323\n",
      "MEAN VALIDATION:  0.3399398527928688\n",
      "MEAN TEST 0.43099686223310785\n"
     ]
    },
    {
     "name": "stderr",
     "output_type": "stream",
     "text": [
      "\u001b[32m[I 2022-01-26 13:03:36,041]\u001b[0m Trial 629 finished with value: 0.5007104468506937 and parameters: {'rf_max_depth': 135, 'rf_min_samples_leaf': 13, 'min_samples_split': 2, 'rf_estimators': 72, 'rf_max_feats': 0.17101719412170735}. Best is trial 539 with value: 0.5642706316233468.\u001b[0m\n"
     ]
    },
    {
     "name": "stdout",
     "output_type": "stream",
     "text": [
      "MEAN TRAIN:  0.6173167020305235\n",
      "MEAN VALIDATION:  0.41262160076165344\n",
      "MEAN TEST 0.5007104468506937\n"
     ]
    },
    {
     "name": "stderr",
     "output_type": "stream",
     "text": [
      "\u001b[32m[I 2022-01-26 13:03:37,347]\u001b[0m Trial 625 finished with value: 0.5176013151180938 and parameters: {'rf_max_depth': 99, 'rf_min_samples_leaf': 9, 'min_samples_split': 4, 'rf_estimators': 78, 'rf_max_feats': 0.26261310838608254}. Best is trial 539 with value: 0.5642706316233468.\u001b[0m\n"
     ]
    },
    {
     "name": "stdout",
     "output_type": "stream",
     "text": [
      "MEAN TRAIN:  0.6889961375948405\n",
      "MEAN VALIDATION:  0.437273724816137\n",
      "MEAN TEST 0.5176013151180938\n"
     ]
    },
    {
     "name": "stderr",
     "output_type": "stream",
     "text": [
      "\u001b[32m[I 2022-01-26 13:03:40,151]\u001b[0m Trial 632 finished with value: 0.3645355919566896 and parameters: {'rf_max_depth': 143, 'rf_min_samples_leaf': 79, 'min_samples_split': 12, 'rf_estimators': 104, 'rf_max_feats': 0.15104665609713863}. Best is trial 539 with value: 0.5642706316233468.\u001b[0m\n"
     ]
    },
    {
     "name": "stdout",
     "output_type": "stream",
     "text": [
      "MEAN TRAIN:  0.3289669144017604\n",
      "MEAN VALIDATION:  0.2593068923543139\n",
      "MEAN TEST 0.3645355919566896\n"
     ]
    },
    {
     "name": "stderr",
     "output_type": "stream",
     "text": [
      "\u001b[32m[I 2022-01-26 13:03:42,128]\u001b[0m Trial 633 finished with value: 0.4981940403194665 and parameters: {'rf_max_depth': 99, 'rf_min_samples_leaf': 5, 'min_samples_split': 47, 'rf_estimators': 39, 'rf_max_feats': 0.22674391882371772}. Best is trial 539 with value: 0.5642706316233468.\u001b[0m\n"
     ]
    },
    {
     "name": "stdout",
     "output_type": "stream",
     "text": [
      "MEAN TRAIN:  0.6125496152903471\n",
      "MEAN VALIDATION:  0.4203269079196169\n",
      "MEAN TEST 0.4981940403194665\n"
     ]
    },
    {
     "name": "stderr",
     "output_type": "stream",
     "text": [
      "\u001b[32m[I 2022-01-26 13:03:45,829]\u001b[0m Trial 636 finished with value: 0.4957333921996927 and parameters: {'rf_max_depth': 99, 'rf_min_samples_leaf': 7, 'min_samples_split': 30, 'rf_estimators': 58, 'rf_max_feats': 0.10584924573435953}. Best is trial 539 with value: 0.5642706316233468.\u001b[0m\n"
     ]
    },
    {
     "name": "stdout",
     "output_type": "stream",
     "text": [
      "MEAN TRAIN:  0.6310008943426814\n",
      "MEAN VALIDATION:  0.4204482898879037\n",
      "MEAN TEST 0.4957333921996927\n"
     ]
    },
    {
     "name": "stderr",
     "output_type": "stream",
     "text": [
      "\u001b[32m[I 2022-01-26 13:03:47,995]\u001b[0m Trial 635 finished with value: 0.5497436538927291 and parameters: {'rf_max_depth': 69, 'rf_min_samples_leaf': 1, 'min_samples_split': 12, 'rf_estimators': 39, 'rf_max_feats': 0.22434362471930752}. Best is trial 539 with value: 0.5642706316233468.\u001b[0m\n"
     ]
    },
    {
     "name": "stdout",
     "output_type": "stream",
     "text": [
      "MEAN TRAIN:  0.8488239498908966\n",
      "MEAN VALIDATION:  0.4829116023678976\n",
      "MEAN TEST 0.5497436538927291\n"
     ]
    },
    {
     "name": "stderr",
     "output_type": "stream",
     "text": [
      "\u001b[32m[I 2022-01-26 13:03:48,935]\u001b[0m Trial 622 finished with value: 0.5394901049665698 and parameters: {'rf_max_depth': 33, 'rf_min_samples_leaf': 6, 'min_samples_split': 2, 'rf_estimators': 128, 'rf_max_feats': 0.29526048006823363}. Best is trial 539 with value: 0.5642706316233468.\u001b[0m\n"
     ]
    },
    {
     "name": "stdout",
     "output_type": "stream",
     "text": [
      "MEAN TRAIN:  0.764219349306438\n",
      "MEAN VALIDATION:  0.4614390872111743\n",
      "MEAN TEST 0.5394901049665698\n"
     ]
    },
    {
     "name": "stderr",
     "output_type": "stream",
     "text": [
      "\u001b[32m[I 2022-01-26 13:03:54,164]\u001b[0m Trial 637 finished with value: 0.4855832677770507 and parameters: {'rf_max_depth': 143, 'rf_min_samples_leaf': 9, 'min_samples_split': 65, 'rf_estimators': 64, 'rf_max_feats': 0.33320852781882665}. Best is trial 539 with value: 0.5642706316233468.\u001b[0m\n"
     ]
    },
    {
     "name": "stdout",
     "output_type": "stream",
     "text": [
      "MEAN TRAIN:  0.5445389727075208\n",
      "MEAN VALIDATION:  0.39772846286449814\n",
      "MEAN TEST 0.4855832677770507\n"
     ]
    },
    {
     "name": "stderr",
     "output_type": "stream",
     "text": [
      "\u001b[32m[I 2022-01-26 13:03:57,017]\u001b[0m Trial 639 finished with value: 0.46491025081907883 and parameters: {'rf_max_depth': 143, 'rf_min_samples_leaf': 28, 'min_samples_split': 4, 'rf_estimators': 64, 'rf_max_feats': 0.26261310838608254}. Best is trial 539 with value: 0.5642706316233468.\u001b[0m\n"
     ]
    },
    {
     "name": "stdout",
     "output_type": "stream",
     "text": [
      "MEAN TRAIN:  0.5036172331703865\n",
      "MEAN VALIDATION:  0.3721576501105333\n",
      "MEAN TEST 0.46491025081907883\n"
     ]
    },
    {
     "name": "stderr",
     "output_type": "stream",
     "text": [
      "\u001b[32m[I 2022-01-26 13:03:57,884]\u001b[0m Trial 641 finished with value: 0.5266648016053044 and parameters: {'rf_max_depth': 148, 'rf_min_samples_leaf': 3, 'min_samples_split': 2, 'rf_estimators': 12, 'rf_max_feats': 0.2653094332342102}. Best is trial 539 with value: 0.5642706316233468.\u001b[0m\n"
     ]
    },
    {
     "name": "stdout",
     "output_type": "stream",
     "text": [
      "MEAN TRAIN:  0.8402249870609644\n",
      "MEAN VALIDATION:  0.4639909263114288\n",
      "MEAN TEST 0.5266648016053044\n"
     ]
    },
    {
     "name": "stderr",
     "output_type": "stream",
     "text": [
      "\u001b[32m[I 2022-01-26 13:04:00,838]\u001b[0m Trial 638 finished with value: 0.4825782509645526 and parameters: {'rf_max_depth': 100, 'rf_min_samples_leaf': 8, 'min_samples_split': 63, 'rf_estimators': 86, 'rf_max_feats': 0.30544307143426497}. Best is trial 539 with value: 0.5642706316233468.\u001b[0m\n"
     ]
    },
    {
     "name": "stdout",
     "output_type": "stream",
     "text": [
      "MEAN TRAIN:  0.5462380788512033\n",
      "MEAN VALIDATION:  0.3874301660942626\n",
      "MEAN TEST 0.4825782509645526\n"
     ]
    },
    {
     "name": "stderr",
     "output_type": "stream",
     "text": [
      "\u001b[32m[I 2022-01-26 13:04:01,524]\u001b[0m Trial 634 finished with value: 0.48722358193728876 and parameters: {'rf_max_depth': 27, 'rf_min_samples_leaf': 20, 'min_samples_split': 9, 'rf_estimators': 142, 'rf_max_feats': 0.3037609047432277}. Best is trial 539 with value: 0.5642706316233468.\u001b[0m\n"
     ]
    },
    {
     "name": "stdout",
     "output_type": "stream",
     "text": [
      "MEAN TRAIN:  0.5606473271753969\n",
      "MEAN VALIDATION:  0.39457191936988795\n",
      "MEAN TEST 0.48722358193728876\n"
     ]
    },
    {
     "name": "stderr",
     "output_type": "stream",
     "text": [
      "\u001b[32m[I 2022-01-26 13:04:03,488]\u001b[0m Trial 640 finished with value: 0.49434140545961647 and parameters: {'rf_max_depth': 14, 'rf_min_samples_leaf': 3, 'min_samples_split': 58, 'rf_estimators': 138, 'rf_max_feats': 0.14684367747319815}. Best is trial 539 with value: 0.5642706316233468.\u001b[0m\n"
     ]
    },
    {
     "name": "stdout",
     "output_type": "stream",
     "text": [
      "MEAN TRAIN:  0.5881541688933722\n",
      "MEAN VALIDATION:  0.4163071404695374\n",
      "MEAN TEST 0.49434140545961647\n"
     ]
    },
    {
     "name": "stderr",
     "output_type": "stream",
     "text": [
      "\u001b[32m[I 2022-01-26 13:04:06,714]\u001b[0m Trial 642 finished with value: 0.4679225006639065 and parameters: {'rf_max_depth': 117, 'rf_min_samples_leaf': 26, 'min_samples_split': 63, 'rf_estimators': 58, 'rf_max_feats': 0.37035522298663875}. Best is trial 539 with value: 0.5642706316233468.\u001b[0m\n"
     ]
    },
    {
     "name": "stdout",
     "output_type": "stream",
     "text": [
      "MEAN TRAIN:  0.5040359846244311\n",
      "MEAN VALIDATION:  0.37049118812511705\n",
      "MEAN TEST 0.4679225006639065\n"
     ]
    },
    {
     "name": "stderr",
     "output_type": "stream",
     "text": [
      "\u001b[32m[I 2022-01-26 13:04:08,326]\u001b[0m Trial 643 finished with value: 0.46857613021149047 and parameters: {'rf_max_depth': 8, 'rf_min_samples_leaf': 21, 'min_samples_split': 63, 'rf_estimators': 86, 'rf_max_feats': 0.24714336828043273}. Best is trial 539 with value: 0.5642706316233468.\u001b[0m\n"
     ]
    },
    {
     "name": "stdout",
     "output_type": "stream",
     "text": [
      "MEAN TRAIN:  0.5047700954945468\n",
      "MEAN VALIDATION:  0.36973845640542935\n",
      "MEAN TEST 0.46857613021149047\n"
     ]
    },
    {
     "name": "stderr",
     "output_type": "stream",
     "text": [
      "\u001b[32m[I 2022-01-26 13:04:10,343]\u001b[0m Trial 647 finished with value: 0.3826581278377231 and parameters: {'rf_max_depth': 12, 'rf_min_samples_leaf': 74, 'min_samples_split': 12, 'rf_estimators': 51, 'rf_max_feats': 0.23180815775416327}. Best is trial 539 with value: 0.5642706316233468.\u001b[0m\n"
     ]
    },
    {
     "name": "stdout",
     "output_type": "stream",
     "text": [
      "MEAN TRAIN:  0.34414478511055896\n",
      "MEAN VALIDATION:  0.27505296799732115\n",
      "MEAN TEST 0.3826581278377231\n"
     ]
    },
    {
     "name": "stderr",
     "output_type": "stream",
     "text": [
      "\u001b[32m[I 2022-01-26 13:04:14,561]\u001b[0m Trial 631 finished with value: 0.5611247876835588 and parameters: {'rf_max_depth': 147, 'rf_min_samples_leaf': 1, 'min_samples_split': 4, 'rf_estimators': 105, 'rf_max_feats': 0.30544307143426497}. Best is trial 539 with value: 0.5642706316233468.\u001b[0m\n"
     ]
    },
    {
     "name": "stdout",
     "output_type": "stream",
     "text": [
      "MEAN TRAIN:  0.9099598580630601\n",
      "MEAN VALIDATION:  0.5001848166857874\n",
      "MEAN TEST 0.5611247876835588\n"
     ]
    },
    {
     "name": "stderr",
     "output_type": "stream",
     "text": [
      "\u001b[32m[I 2022-01-26 13:04:15,128]\u001b[0m Trial 648 finished with value: 0.45914410229568176 and parameters: {'rf_max_depth': 4, 'rf_min_samples_leaf': 27, 'min_samples_split': 55, 'rf_estimators': 62, 'rf_max_feats': 0.20404673140513716}. Best is trial 539 with value: 0.5642706316233468.\u001b[0m\n"
     ]
    },
    {
     "name": "stdout",
     "output_type": "stream",
     "text": [
      "MEAN TRAIN:  0.49383053816906175\n",
      "MEAN VALIDATION:  0.3672929917584077\n",
      "MEAN TEST 0.45914410229568176\n"
     ]
    },
    {
     "name": "stderr",
     "output_type": "stream",
     "text": [
      "\u001b[32m[I 2022-01-26 13:04:15,596]\u001b[0m Trial 645 finished with value: 0.5409138104146857 and parameters: {'rf_max_depth': 102, 'rf_min_samples_leaf': 4, 'min_samples_split': 7, 'rf_estimators': 87, 'rf_max_feats': 0.14684367747319815}. Best is trial 539 with value: 0.5642706316233468.\u001b[0m\n"
     ]
    },
    {
     "name": "stdout",
     "output_type": "stream",
     "text": [
      "MEAN TRAIN:  0.8092743144116792\n",
      "MEAN VALIDATION:  0.47754875598334506\n",
      "MEAN TEST 0.5409138104146857\n"
     ]
    },
    {
     "name": "stderr",
     "output_type": "stream",
     "text": [
      "\u001b[32m[I 2022-01-26 13:04:17,919]\u001b[0m Trial 651 finished with value: 0.5033272966964516 and parameters: {'rf_max_depth': 102, 'rf_min_samples_leaf': 8, 'min_samples_split': 8, 'rf_estimators': 25, 'rf_max_feats': 0.10665860038712986}. Best is trial 539 with value: 0.5642706316233468.\u001b[0m\n",
      "\u001b[32m[I 2022-01-26 13:04:18,083]\u001b[0m Trial 649 finished with value: 0.49978372679752586 and parameters: {'rf_max_depth': 9, 'rf_min_samples_leaf': 2, 'min_samples_split': 58, 'rf_estimators': 48, 'rf_max_feats': 0.23180815775416327}. Best is trial 539 with value: 0.5642706316233468.\u001b[0m\n"
     ]
    },
    {
     "name": "stdout",
     "output_type": "stream",
     "text": [
      "MEAN TRAIN:  0.6838759821515621\n",
      "MEAN VALIDATION:  0.4308027783962613\n",
      "MEAN TEST 0.5033272966964516\n",
      "MEAN TRAIN:  0.6141486173334005\n",
      "MEAN VALIDATION:  0.4069583320608611\n",
      "MEAN TEST 0.49978372679752586\n"
     ]
    },
    {
     "name": "stderr",
     "output_type": "stream",
     "text": [
      "\u001b[32m[I 2022-01-26 13:04:26,462]\u001b[0m Trial 654 finished with value: 0.5220080852296084 and parameters: {'rf_max_depth': 102, 'rf_min_samples_leaf': 6, 'min_samples_split': 7, 'rf_estimators': 74, 'rf_max_feats': 0.10665860038712986}. Best is trial 539 with value: 0.5642706316233468.\u001b[0m\n",
      "\u001b[32m[I 2022-01-26 13:04:26,569]\u001b[0m Trial 646 finished with value: 0.4808013045711063 and parameters: {'rf_max_depth': 17, 'rf_min_samples_leaf': 24, 'min_samples_split': 2, 'rf_estimators': 124, 'rf_max_feats': 0.36404608642785957}. Best is trial 539 with value: 0.5642706316233468.\u001b[0m\n"
     ]
    },
    {
     "name": "stdout",
     "output_type": "stream",
     "text": [
      "MEAN TRAIN:  0.7352166241335867\n",
      "MEAN VALIDATION:  0.45346852242943825\n",
      "MEAN TEST 0.5220080852296084\n",
      "MEAN TRAIN:  0.5355890601217829\n",
      "MEAN VALIDATION:  0.39069842551020806\n",
      "MEAN TEST 0.4808013045711063\n"
     ]
    },
    {
     "name": "stderr",
     "output_type": "stream",
     "text": [
      "\u001b[32m[I 2022-01-26 13:04:27,775]\u001b[0m Trial 650 finished with value: 0.4471205355578781 and parameters: {'rf_max_depth': 53, 'rf_min_samples_leaf': 39, 'min_samples_split': 63, 'rf_estimators': 86, 'rf_max_feats': 0.3749185281634642}. Best is trial 539 with value: 0.5642706316233468.\u001b[0m\n"
     ]
    },
    {
     "name": "stdout",
     "output_type": "stream",
     "text": [
      "MEAN TRAIN:  0.46082063292786596\n",
      "MEAN VALIDATION:  0.3490216390655515\n",
      "MEAN TEST 0.4471205355578781\n"
     ]
    },
    {
     "name": "stderr",
     "output_type": "stream",
     "text": [
      "\u001b[32m[I 2022-01-26 13:04:32,486]\u001b[0m Trial 655 finished with value: 0.5041720384584114 and parameters: {'rf_max_depth': 102, 'rf_min_samples_leaf': 5, 'min_samples_split': 47, 'rf_estimators': 39, 'rf_max_feats': 0.22674391882371772}. Best is trial 539 with value: 0.5642706316233468.\u001b[0m\n"
     ]
    },
    {
     "name": "stdout",
     "output_type": "stream",
     "text": [
      "MEAN TRAIN:  0.6143170733777766\n",
      "MEAN VALIDATION:  0.4197663361170159\n",
      "MEAN TEST 0.5041720384584114\n"
     ]
    },
    {
     "name": "stderr",
     "output_type": "stream",
     "text": [
      "\u001b[32m[I 2022-01-26 13:04:34,834]\u001b[0m Trial 656 finished with value: 0.4950194237355925 and parameters: {'rf_max_depth': 129, 'rf_min_samples_leaf': 1, 'min_samples_split': 56, 'rf_estimators': 44, 'rf_max_feats': 0.2748305490716357}. Best is trial 539 with value: 0.5642706316233468.\u001b[0m\n"
     ]
    },
    {
     "name": "stdout",
     "output_type": "stream",
     "text": [
      "MEAN TRAIN:  0.6429270479294196\n",
      "MEAN VALIDATION:  0.42029047312276563\n",
      "MEAN TEST 0.4950194237355925\n"
     ]
    },
    {
     "name": "stderr",
     "output_type": "stream",
     "text": [
      "\u001b[32m[I 2022-01-26 13:04:36,857]\u001b[0m Trial 644 finished with value: 0.5561855284194566 and parameters: {'rf_max_depth': 125, 'rf_min_samples_leaf': 1, 'min_samples_split': 12, 'rf_estimators': 142, 'rf_max_feats': 0.2280793748958792}. Best is trial 539 with value: 0.5642706316233468.\u001b[0m\n"
     ]
    },
    {
     "name": "stdout",
     "output_type": "stream",
     "text": [
      "MEAN TRAIN:  0.8546078936690453\n",
      "MEAN VALIDATION:  0.48887426498360176\n",
      "MEAN TEST 0.5561855284194566\n"
     ]
    },
    {
     "name": "stderr",
     "output_type": "stream",
     "text": [
      "\u001b[32m[I 2022-01-26 13:04:39,190]\u001b[0m Trial 657 finished with value: 0.5295732321251052 and parameters: {'rf_max_depth': 99, 'rf_min_samples_leaf': 7, 'min_samples_split': 16, 'rf_estimators': 74, 'rf_max_feats': 0.17931782045014238}. Best is trial 539 with value: 0.5642706316233468.\u001b[0m\n"
     ]
    },
    {
     "name": "stdout",
     "output_type": "stream",
     "text": [
      "MEAN TRAIN:  0.7155192529595675\n",
      "MEAN VALIDATION:  0.45330080084061464\n",
      "MEAN TEST 0.5295732321251052\n"
     ]
    },
    {
     "name": "stderr",
     "output_type": "stream",
     "text": [
      "\u001b[32m[I 2022-01-26 13:04:40,473]\u001b[0m Trial 652 finished with value: 0.5427380096099821 and parameters: {'rf_max_depth': 61, 'rf_min_samples_leaf': 1, 'min_samples_split': 32, 'rf_estimators': 96, 'rf_max_feats': 0.3165003529313483}. Best is trial 539 with value: 0.5642706316233468.\u001b[0m\n"
     ]
    },
    {
     "name": "stdout",
     "output_type": "stream",
     "text": [
      "MEAN TRAIN:  0.747553757123075\n",
      "MEAN VALIDATION:  0.4714605033542633\n",
      "MEAN TEST 0.5427380096099821\n"
     ]
    },
    {
     "name": "stderr",
     "output_type": "stream",
     "text": [
      "\u001b[32m[I 2022-01-26 13:04:43,336]\u001b[0m Trial 653 finished with value: 0.48446926518988176 and parameters: {'rf_max_depth': 53, 'rf_min_samples_leaf': 9, 'min_samples_split': 65, 'rf_estimators': 135, 'rf_max_feats': 0.37628160037292935}. Best is trial 539 with value: 0.5642706316233468.\u001b[0m\n"
     ]
    },
    {
     "name": "stdout",
     "output_type": "stream",
     "text": [
      "MEAN TRAIN:  0.5430746728403154\n",
      "MEAN VALIDATION:  0.3942913927247441\n",
      "MEAN TEST 0.48446926518988176\n"
     ]
    },
    {
     "name": "stderr",
     "output_type": "stream",
     "text": [
      "\u001b[32m[I 2022-01-26 13:04:44,042]\u001b[0m Trial 660 finished with value: 0.4765665269338696 and parameters: {'rf_max_depth': 129, 'rf_min_samples_leaf': 17, 'min_samples_split': 58, 'rf_estimators': 49, 'rf_max_feats': 0.2748305490716357}. Best is trial 539 with value: 0.5642706316233468.\u001b[0m\n"
     ]
    },
    {
     "name": "stdout",
     "output_type": "stream",
     "text": [
      "MEAN TRAIN:  0.5280060886534163\n",
      "MEAN VALIDATION:  0.3869722721765989\n",
      "MEAN TEST 0.4765665269338696\n"
     ]
    },
    {
     "name": "stderr",
     "output_type": "stream",
     "text": [
      "\u001b[32m[I 2022-01-26 13:04:44,676]\u001b[0m Trial 661 finished with value: 0.4619580358317644 and parameters: {'rf_max_depth': 137, 'rf_min_samples_leaf': 21, 'min_samples_split': 55, 'rf_estimators': 55, 'rf_max_feats': 0.16084404747235123}. Best is trial 539 with value: 0.5642706316233468.\u001b[0m\n"
     ]
    },
    {
     "name": "stdout",
     "output_type": "stream",
     "text": [
      "MEAN TRAIN:  0.5094012425863663\n",
      "MEAN VALIDATION:  0.35947821770887717\n",
      "MEAN TEST 0.4619580358317644\n"
     ]
    },
    {
     "name": "stderr",
     "output_type": "stream",
     "text": [
      "\u001b[32m[I 2022-01-26 13:04:49,568]\u001b[0m Trial 659 finished with value: 0.4400705983173485 and parameters: {'rf_max_depth': 134, 'rf_min_samples_leaf': 40, 'min_samples_split': 16, 'rf_estimators': 142, 'rf_max_feats': 0.22703744150321095}. Best is trial 539 with value: 0.5642706316233468.\u001b[0m\n"
     ]
    },
    {
     "name": "stdout",
     "output_type": "stream",
     "text": [
      "MEAN TRAIN:  0.44537463047049375\n",
      "MEAN VALIDATION:  0.34516439938980464\n",
      "MEAN TEST 0.4400705983173485\n"
     ]
    },
    {
     "name": "stderr",
     "output_type": "stream",
     "text": [
      "\u001b[32m[I 2022-01-26 13:04:52,997]\u001b[0m Trial 658 finished with value: 0.5292131879448415 and parameters: {'rf_max_depth': 100, 'rf_min_samples_leaf': 8, 'min_samples_split': 4, 'rf_estimators': 97, 'rf_max_feats': 0.26261310838608254}. Best is trial 539 with value: 0.5642706316233468.\u001b[0m\n"
     ]
    },
    {
     "name": "stdout",
     "output_type": "stream",
     "text": [
      "MEAN TRAIN:  0.7123724958600011\n",
      "MEAN VALIDATION:  0.4472617297385546\n",
      "MEAN TEST 0.5292131879448415\n"
     ]
    },
    {
     "name": "stderr",
     "output_type": "stream",
     "text": [
      "\u001b[32m[I 2022-01-26 13:04:53,746]\u001b[0m Trial 664 finished with value: 0.46909403225208557 and parameters: {'rf_max_depth': 143, 'rf_min_samples_leaf': 24, 'min_samples_split': 4, 'rf_estimators': 64, 'rf_max_feats': 0.26261310838608254}. Best is trial 539 with value: 0.5642706316233468.\u001b[0m\n"
     ]
    },
    {
     "name": "stdout",
     "output_type": "stream",
     "text": [
      "MEAN TRAIN:  0.5242119908323796\n",
      "MEAN VALIDATION:  0.3742986059886334\n",
      "MEAN TEST 0.46909403225208557\n"
     ]
    },
    {
     "name": "stderr",
     "output_type": "stream",
     "text": [
      "\u001b[32m[I 2022-01-26 13:04:54,062]\u001b[0m Trial 663 finished with value: 0.4068870692835894 and parameters: {'rf_max_depth': 36, 'rf_min_samples_leaf': 57, 'min_samples_split': 58, 'rf_estimators': 120, 'rf_max_feats': 0.23180815775416327}. Best is trial 539 with value: 0.5642706316233468.\u001b[0m\n"
     ]
    },
    {
     "name": "stdout",
     "output_type": "stream",
     "text": [
      "MEAN TRAIN:  0.3884862200194522\n",
      "MEAN VALIDATION:  0.3051290061120481\n",
      "MEAN TEST 0.4068870692835894\n"
     ]
    },
    {
     "name": "stderr",
     "output_type": "stream",
     "text": [
      "\u001b[32m[I 2022-01-26 13:04:56,714]\u001b[0m Trial 666 finished with value: 0.42144994931128893 and parameters: {'rf_max_depth': 125, 'rf_min_samples_leaf': 50, 'min_samples_split': 30, 'rf_estimators': 67, 'rf_max_feats': 0.26130711509354204}. Best is trial 539 with value: 0.5642706316233468.\u001b[0m\n"
     ]
    },
    {
     "name": "stdout",
     "output_type": "stream",
     "text": [
      "MEAN TRAIN:  0.415344380456897\n",
      "MEAN VALIDATION:  0.32586280277222357\n",
      "MEAN TEST 0.42144994931128893\n"
     ]
    },
    {
     "name": "stderr",
     "output_type": "stream",
     "text": [
      "\u001b[32m[I 2022-01-26 13:04:58,672]\u001b[0m Trial 668 finished with value: 0.44527788845311667 and parameters: {'rf_max_depth': 99, 'rf_min_samples_leaf': 7, 'min_samples_split': 92, 'rf_estimators': 39, 'rf_max_feats': 0.26130711509354204}. Best is trial 539 with value: 0.5642706316233468.\u001b[0m\n"
     ]
    },
    {
     "name": "stdout",
     "output_type": "stream",
     "text": [
      "MEAN TRAIN:  0.47718335808093004\n",
      "MEAN VALIDATION:  0.35599928710670514\n",
      "MEAN TEST 0.44527788845311667\n"
     ]
    },
    {
     "name": "stderr",
     "output_type": "stream",
     "text": [
      "\u001b[32m[I 2022-01-26 13:04:59,125]\u001b[0m Trial 665 finished with value: 0.47540670869237134 and parameters: {'rf_max_depth': 63, 'rf_min_samples_leaf': 27, 'min_samples_split': 62, 'rf_estimators': 79, 'rf_max_feats': 0.37582284871915433}. Best is trial 539 with value: 0.5642706316233468.\u001b[0m\n"
     ]
    },
    {
     "name": "stdout",
     "output_type": "stream",
     "text": [
      "MEAN TRAIN:  0.5048336808480208\n",
      "MEAN VALIDATION:  0.3749320392694556\n",
      "MEAN TEST 0.47540670869237134\n"
     ]
    },
    {
     "name": "stderr",
     "output_type": "stream",
     "text": [
      "\u001b[32m[I 2022-01-26 13:05:06,163]\u001b[0m Trial 671 finished with value: 0.5325694768232783 and parameters: {'rf_max_depth': 99, 'rf_min_samples_leaf': 7, 'min_samples_split': 2, 'rf_estimators': 39, 'rf_max_feats': 0.24823792777759626}. Best is trial 539 with value: 0.5642706316233468.\u001b[0m\n"
     ]
    },
    {
     "name": "stdout",
     "output_type": "stream",
     "text": [
      "MEAN TRAIN:  0.7319471843835471\n",
      "MEAN VALIDATION:  0.45129619057300774\n",
      "MEAN TEST 0.5325694768232783\n"
     ]
    },
    {
     "name": "stderr",
     "output_type": "stream",
     "text": [
      "\u001b[32m[I 2022-01-26 13:05:08,250]\u001b[0m Trial 672 finished with value: 0.511945233137988 and parameters: {'rf_max_depth': 79, 'rf_min_samples_leaf': 8, 'min_samples_split': 10, 'rf_estimators': 92, 'rf_max_feats': 0.10713541449559455}. Best is trial 539 with value: 0.5642706316233468.\u001b[0m\n"
     ]
    },
    {
     "name": "stdout",
     "output_type": "stream",
     "text": [
      "MEAN TRAIN:  0.6863066780598136\n",
      "MEAN VALIDATION:  0.4395518823193851\n",
      "MEAN TEST 0.511945233137988\n"
     ]
    },
    {
     "name": "stderr",
     "output_type": "stream",
     "text": [
      "\u001b[32m[I 2022-01-26 13:05:10,115]\u001b[0m Trial 662 finished with value: 0.5298134796542142 and parameters: {'rf_max_depth': 143, 'rf_min_samples_leaf': 8, 'min_samples_split': 4, 'rf_estimators': 144, 'rf_max_feats': 0.26261310838608254}. Best is trial 539 with value: 0.5642706316233468.\u001b[0m\n"
     ]
    },
    {
     "name": "stdout",
     "output_type": "stream",
     "text": [
      "MEAN TRAIN:  0.7124671433039981\n",
      "MEAN VALIDATION:  0.44891431611499505\n",
      "MEAN TEST 0.5298134796542142\n"
     ]
    },
    {
     "name": "stderr",
     "output_type": "stream",
     "text": [
      "\u001b[32m[I 2022-01-26 13:05:11,950]\u001b[0m Trial 667 finished with value: 0.5396492786830719 and parameters: {'rf_max_depth': 143, 'rf_min_samples_leaf': 1, 'min_samples_split': 33, 'rf_estimators': 86, 'rf_max_feats': 0.26261310838608254}. Best is trial 539 with value: 0.5642706316233468.\u001b[0m\n"
     ]
    },
    {
     "name": "stdout",
     "output_type": "stream",
     "text": [
      "MEAN TRAIN:  0.7370375752462593\n",
      "MEAN VALIDATION:  0.46847030439498677\n",
      "MEAN TEST 0.5396492786830719\n"
     ]
    },
    {
     "name": "stderr",
     "output_type": "stream",
     "text": [
      "\u001b[32m[I 2022-01-26 13:05:14,530]\u001b[0m Trial 669 finished with value: 0.4919285791218238 and parameters: {'rf_max_depth': 28, 'rf_min_samples_leaf': 19, 'min_samples_split': 40, 'rf_estimators': 132, 'rf_max_feats': 0.28229458209363234}. Best is trial 539 with value: 0.5642706316233468.\u001b[0m\n"
     ]
    },
    {
     "name": "stdout",
     "output_type": "stream",
     "text": [
      "MEAN TRAIN:  0.5647345097889047\n",
      "MEAN VALIDATION:  0.40022506422715454\n",
      "MEAN TEST 0.4919285791218238\n"
     ]
    },
    {
     "name": "stderr",
     "output_type": "stream",
     "text": [
      "\u001b[32m[I 2022-01-26 13:05:15,552]\u001b[0m Trial 670 finished with value: 0.48002582097670166 and parameters: {'rf_max_depth': 93, 'rf_min_samples_leaf': 15, 'min_samples_split': 61, 'rf_estimators': 132, 'rf_max_feats': 0.2920117552148781}. Best is trial 539 with value: 0.5642706316233468.\u001b[0m\n"
     ]
    },
    {
     "name": "stdout",
     "output_type": "stream",
     "text": [
      "MEAN TRAIN:  0.5288584393476279\n",
      "MEAN VALIDATION:  0.3852904536202833\n",
      "MEAN TEST 0.48002582097670166\n"
     ]
    },
    {
     "name": "stderr",
     "output_type": "stream",
     "text": [
      "\u001b[32m[I 2022-01-26 13:05:17,489]\u001b[0m Trial 677 finished with value: 0.4747972079513817 and parameters: {'rf_max_depth': 95, 'rf_min_samples_leaf': 19, 'min_samples_split': 2, 'rf_estimators': 28, 'rf_max_feats': 0.1582130310692979}. Best is trial 539 with value: 0.5642706316233468.\u001b[0m\n"
     ]
    },
    {
     "name": "stdout",
     "output_type": "stream",
     "text": [
      "MEAN TRAIN:  0.5470276197944897\n",
      "MEAN VALIDATION:  0.38762872819475\n",
      "MEAN TEST 0.4747972079513817\n"
     ]
    },
    {
     "name": "stderr",
     "output_type": "stream",
     "text": [
      "\u001b[32m[I 2022-01-26 13:05:19,369]\u001b[0m Trial 673 finished with value: 0.45929364900958103 and parameters: {'rf_max_depth': 130, 'rf_min_samples_leaf': 24, 'min_samples_split': 72, 'rf_estimators': 124, 'rf_max_feats': 0.22871422589729562}. Best is trial 539 with value: 0.5642706316233468.\u001b[0m\n",
      "\u001b[32m[I 2022-01-26 13:05:19,464]\u001b[0m Trial 679 finished with value: 0.4454911054557037 and parameters: {'rf_max_depth': 99, 'rf_min_samples_leaf': 34, 'min_samples_split': 6, 'rf_estimators': 25, 'rf_max_feats': 0.1481200682100457}. Best is trial 539 with value: 0.5642706316233468.\u001b[0m\n"
     ]
    },
    {
     "name": "stdout",
     "output_type": "stream",
     "text": [
      "MEAN TRAIN:  0.4850671795192765\n",
      "MEAN VALIDATION:  0.3665802816206907\n",
      "MEAN TEST 0.45929364900958103\n",
      "MEAN TRAIN:  0.4575637650618999\n",
      "MEAN VALIDATION:  0.34925082995682893\n",
      "MEAN TEST 0.4454911054557037\n"
     ]
    },
    {
     "name": "stderr",
     "output_type": "stream",
     "text": [
      "\u001b[32m[I 2022-01-26 13:05:23,412]\u001b[0m Trial 676 finished with value: 0.5472992554019764 and parameters: {'rf_max_depth': 125, 'rf_min_samples_leaf': 1, 'min_samples_split': 12, 'rf_estimators': 39, 'rf_max_feats': 0.2748305490716357}. Best is trial 539 with value: 0.5642706316233468.\u001b[0m\n"
     ]
    },
    {
     "name": "stdout",
     "output_type": "stream",
     "text": [
      "MEAN TRAIN:  0.8506253098778807\n",
      "MEAN VALIDATION:  0.4734262765311172\n",
      "MEAN TEST 0.5472992554019764\n"
     ]
    },
    {
     "name": "stderr",
     "output_type": "stream",
     "text": [
      "\u001b[32m[I 2022-01-26 13:05:25,924]\u001b[0m Trial 681 finished with value: 0.439252236157586 and parameters: {'rf_max_depth': 80, 'rf_min_samples_leaf': 14, 'min_samples_split': 83, 'rf_estimators': 95, 'rf_max_feats': 0.10713541449559455}. Best is trial 539 with value: 0.5642706316233468.\u001b[0m\n"
     ]
    },
    {
     "name": "stdout",
     "output_type": "stream",
     "text": [
      "MEAN TRAIN:  0.46467797347840867\n",
      "MEAN VALIDATION:  0.3543250305707323\n",
      "MEAN TEST 0.439252236157586\n"
     ]
    },
    {
     "name": "stderr",
     "output_type": "stream",
     "text": [
      "\u001b[32m[I 2022-01-26 13:05:26,782]\u001b[0m Trial 675 finished with value: 0.44736740106168843 and parameters: {'rf_max_depth': 93, 'rf_min_samples_leaf': 9, 'min_samples_split': 98, 'rf_estimators': 131, 'rf_max_feats': 0.3049860790226595}. Best is trial 539 with value: 0.5642706316233468.\u001b[0m\n"
     ]
    },
    {
     "name": "stdout",
     "output_type": "stream",
     "text": [
      "MEAN TRAIN:  0.46508256230463585\n",
      "MEAN VALIDATION:  0.35519887917197907\n",
      "MEAN TEST 0.44736740106168843\n"
     ]
    },
    {
     "name": "stderr",
     "output_type": "stream",
     "text": [
      "\u001b[32m[I 2022-01-26 13:05:30,063]\u001b[0m Trial 674 finished with value: 0.5525685728483248 and parameters: {'rf_max_depth': 109, 'rf_min_samples_leaf': 3, 'min_samples_split': 14, 'rf_estimators': 78, 'rf_max_feats': 0.3048559791478397}. Best is trial 539 with value: 0.5642706316233468.\u001b[0m\n",
      "\u001b[32m[I 2022-01-26 13:05:30,228]\u001b[0m Trial 684 finished with value: 0.4823644356837885 and parameters: {'rf_max_depth': 99, 'rf_min_samples_leaf': 7, 'min_samples_split': 59, 'rf_estimators': 22, 'rf_max_feats': 0.24823792777759626}. Best is trial 539 with value: 0.5642706316233468.\u001b[0m\n"
     ]
    },
    {
     "name": "stdout",
     "output_type": "stream",
     "text": [
      "MEAN TRAIN:  0.8028848006495058\n",
      "MEAN VALIDATION:  0.4818232397935466\n",
      "MEAN TEST 0.5525685728483248\n",
      "MEAN TRAIN:  0.5533233040187865\n",
      "MEAN VALIDATION:  0.37792756325519034\n",
      "MEAN TEST 0.4823644356837885\n"
     ]
    },
    {
     "name": "stderr",
     "output_type": "stream",
     "text": [
      "\u001b[32m[I 2022-01-26 13:05:31,587]\u001b[0m Trial 680 finished with value: 0.4759442199132323 and parameters: {'rf_max_depth': 15, 'rf_min_samples_leaf': 19, 'min_samples_split': 41, 'rf_estimators': 128, 'rf_max_feats': 0.1276494323830762}. Best is trial 539 with value: 0.5642706316233468.\u001b[0m\n"
     ]
    },
    {
     "name": "stdout",
     "output_type": "stream",
     "text": [
      "MEAN TRAIN:  0.5396918650385605\n",
      "MEAN VALIDATION:  0.38190487310467647\n",
      "MEAN TEST 0.4759442199132323\n"
     ]
    },
    {
     "name": "stderr",
     "output_type": "stream",
     "text": [
      "\u001b[32m[I 2022-01-26 13:05:32,500]\u001b[0m Trial 678 finished with value: 0.48177930436095495 and parameters: {'rf_max_depth': 48, 'rf_min_samples_leaf': 24, 'min_samples_split': 12, 'rf_estimators': 104, 'rf_max_feats': 0.3037609047432277}. Best is trial 539 with value: 0.5642706316233468.\u001b[0m\n"
     ]
    },
    {
     "name": "stdout",
     "output_type": "stream",
     "text": [
      "MEAN TRAIN:  0.5303867260174053\n",
      "MEAN VALIDATION:  0.3831900669785653\n",
      "MEAN TEST 0.48177930436095495\n"
     ]
    },
    {
     "name": "stderr",
     "output_type": "stream",
     "text": [
      "\u001b[32m[I 2022-01-26 13:05:32,766]\u001b[0m Trial 682 finished with value: 0.40974714743777857 and parameters: {'rf_max_depth': 95, 'rf_min_samples_leaf': 1, 'min_samples_split': 142, 'rf_estimators': 86, 'rf_max_feats': 0.30544307143426497}. Best is trial 539 with value: 0.5642706316233468.\u001b[0m\n"
     ]
    },
    {
     "name": "stdout",
     "output_type": "stream",
     "text": [
      "MEAN TRAIN:  0.39344374696530293\n",
      "MEAN VALIDATION:  0.30413951122155225\n",
      "MEAN TEST 0.40974714743777857\n"
     ]
    },
    {
     "name": "stderr",
     "output_type": "stream",
     "text": [
      "\u001b[32m[I 2022-01-26 13:05:34,734]\u001b[0m Trial 685 finished with value: 0.4548035770112415 and parameters: {'rf_max_depth': 98, 'rf_min_samples_leaf': 19, 'min_samples_split': 71, 'rf_estimators': 44, 'rf_max_feats': 0.1758097983401217}. Best is trial 539 with value: 0.5642706316233468.\u001b[0m\n"
     ]
    },
    {
     "name": "stdout",
     "output_type": "stream",
     "text": [
      "MEAN TRAIN:  0.48124292397268437\n",
      "MEAN VALIDATION:  0.3565447077198912\n",
      "MEAN TEST 0.4548035770112415\n"
     ]
    },
    {
     "name": "stderr",
     "output_type": "stream",
     "text": [
      "\u001b[32m[I 2022-01-26 13:05:38,810]\u001b[0m Trial 689 finished with value: 0.4451215780775498 and parameters: {'rf_max_depth': 78, 'rf_min_samples_leaf': 34, 'min_samples_split': 9, 'rf_estimators': 52, 'rf_max_feats': 0.22703744150321095}. Best is trial 539 with value: 0.5642706316233468.\u001b[0m\n"
     ]
    },
    {
     "name": "stdout",
     "output_type": "stream",
     "text": [
      "MEAN TRAIN:  0.46933434870872165\n",
      "MEAN VALIDATION:  0.34835975656355583\n",
      "MEAN TEST 0.4451215780775498\n"
     ]
    },
    {
     "name": "stderr",
     "output_type": "stream",
     "text": [
      "\u001b[32m[I 2022-01-26 13:05:39,406]\u001b[0m Trial 683 finished with value: 0.46299087041313164 and parameters: {'rf_max_depth': 131, 'rf_min_samples_leaf': 24, 'min_samples_split': 64, 'rf_estimators': 90, 'rf_max_feats': 0.2923827984166344}. Best is trial 539 with value: 0.5642706316233468.\u001b[0m\n"
     ]
    },
    {
     "name": "stdout",
     "output_type": "stream",
     "text": [
      "MEAN TRAIN:  0.5020653561378298\n",
      "MEAN VALIDATION:  0.37403511011587576\n",
      "MEAN TEST 0.46299087041313164\n"
     ]
    },
    {
     "name": "stderr",
     "output_type": "stream",
     "text": [
      "\u001b[32m[I 2022-01-26 13:05:42,010]\u001b[0m Trial 687 finished with value: 0.48550089164110355 and parameters: {'rf_max_depth': 9, 'rf_min_samples_leaf': 7, 'min_samples_split': 62, 'rf_estimators': 59, 'rf_max_feats': 0.3048559791478397}. Best is trial 539 with value: 0.5642706316233468.\u001b[0m\n"
     ]
    },
    {
     "name": "stdout",
     "output_type": "stream",
     "text": [
      "MEAN TRAIN:  0.5568905694962604\n",
      "MEAN VALIDATION:  0.39377845546287854\n",
      "MEAN TEST 0.48550089164110355\n"
     ]
    },
    {
     "name": "stderr",
     "output_type": "stream",
     "text": [
      "\u001b[32m[I 2022-01-26 13:05:44,142]\u001b[0m Trial 686 finished with value: 0.46211947878033344 and parameters: {'rf_max_depth': 137, 'rf_min_samples_leaf': 20, 'min_samples_split': 63, 'rf_estimators': 142, 'rf_max_feats': 0.16442360021787134}. Best is trial 539 with value: 0.5642706316233468.\u001b[0m\n"
     ]
    },
    {
     "name": "stdout",
     "output_type": "stream",
     "text": [
      "MEAN TRAIN:  0.4989726412253225\n",
      "MEAN VALIDATION:  0.37011069456959744\n",
      "MEAN TEST 0.46211947878033344\n"
     ]
    },
    {
     "name": "stderr",
     "output_type": "stream",
     "text": [
      "\u001b[32m[I 2022-01-26 13:05:44,622]\u001b[0m Trial 693 finished with value: 0.4335409468411697 and parameters: {'rf_max_depth': 67, 'rf_min_samples_leaf': 19, 'min_samples_split': 89, 'rf_estimators': 28, 'rf_max_feats': 0.16697020132013252}. Best is trial 539 with value: 0.5642706316233468.\u001b[0m\n"
     ]
    },
    {
     "name": "stdout",
     "output_type": "stream",
     "text": [
      "MEAN TRAIN:  0.45182512520227985\n",
      "MEAN VALIDATION:  0.34406534386721394\n",
      "MEAN TEST 0.4335409468411697\n"
     ]
    },
    {
     "name": "stderr",
     "output_type": "stream",
     "text": [
      "\u001b[32m[I 2022-01-26 13:05:47,977]\u001b[0m Trial 691 finished with value: 0.5116015183888784 and parameters: {'rf_max_depth': 31, 'rf_min_samples_leaf': 7, 'min_samples_split': 25, 'rf_estimators': 87, 'rf_max_feats': 0.10703427220815187}. Best is trial 539 with value: 0.5642706316233468.\u001b[0m\n"
     ]
    },
    {
     "name": "stdout",
     "output_type": "stream",
     "text": [
      "MEAN TRAIN:  0.6531896155961961\n",
      "MEAN VALIDATION:  0.4307158894709172\n",
      "MEAN TEST 0.5116015183888784\n"
     ]
    },
    {
     "name": "stderr",
     "output_type": "stream",
     "text": [
      "\u001b[32m[I 2022-01-26 13:05:49,201]\u001b[0m Trial 690 finished with value: 0.49204702242477366 and parameters: {'rf_max_depth': 71, 'rf_min_samples_leaf': 7, 'min_samples_split': 59, 'rf_estimators': 72, 'rf_max_feats': 0.35078484174284874}. Best is trial 539 with value: 0.5642706316233468.\u001b[0m\n"
     ]
    },
    {
     "name": "stdout",
     "output_type": "stream",
     "text": [
      "MEAN TRAIN:  0.5676316121131955\n",
      "MEAN VALIDATION:  0.39877210083223746\n",
      "MEAN TEST 0.49204702242477366\n"
     ]
    },
    {
     "name": "stderr",
     "output_type": "stream",
     "text": [
      "\u001b[32m[I 2022-01-26 13:05:51,015]\u001b[0m Trial 695 finished with value: 0.47115150177905774 and parameters: {'rf_max_depth': 53, 'rf_min_samples_leaf': 27, 'min_samples_split': 2, 'rf_estimators': 41, 'rf_max_feats': 0.3048559791478397}. Best is trial 539 with value: 0.5642706316233468.\u001b[0m\n"
     ]
    },
    {
     "name": "stdout",
     "output_type": "stream",
     "text": [
      "MEAN TRAIN:  0.5130977524946755\n",
      "MEAN VALIDATION:  0.37927217945050035\n",
      "MEAN TEST 0.47115150177905774\n"
     ]
    },
    {
     "name": "stderr",
     "output_type": "stream",
     "text": [
      "\u001b[32m[I 2022-01-26 13:05:51,616]\u001b[0m Trial 694 finished with value: 0.448557764880435 and parameters: {'rf_max_depth': 105, 'rf_min_samples_leaf': 16, 'min_samples_split': 80, 'rf_estimators': 87, 'rf_max_feats': 0.1515093753548118}. Best is trial 539 with value: 0.5642706316233468.\u001b[0m\n",
      "\u001b[32m[I 2022-01-26 13:05:51,771]\u001b[0m Trial 697 finished with value: 0.5144553939173786 and parameters: {'rf_max_depth': 109, 'rf_min_samples_leaf': 6, 'min_samples_split': 14, 'rf_estimators': 12, 'rf_max_feats': 0.22703744150321095}. Best is trial 539 with value: 0.5642706316233468.\u001b[0m\n"
     ]
    },
    {
     "name": "stdout",
     "output_type": "stream",
     "text": [
      "MEAN TRAIN:  0.47124133800938006\n",
      "MEAN VALIDATION:  0.354820856147975\n",
      "MEAN TEST 0.448557764880435\n",
      "MEAN TRAIN:  0.7232910586546946\n",
      "MEAN VALIDATION:  0.44961254935555567\n",
      "MEAN TEST 0.5144553939173786\n"
     ]
    },
    {
     "name": "stderr",
     "output_type": "stream",
     "text": [
      "\u001b[32m[I 2022-01-26 13:05:53,558]\u001b[0m Trial 692 finished with value: 0.3978836366718387 and parameters: {'rf_max_depth': 55, 'rf_min_samples_leaf': 19, 'min_samples_split': 149, 'rf_estimators': 135, 'rf_max_feats': 0.33430765476113006}. Best is trial 539 with value: 0.5642706316233468.\u001b[0m\n"
     ]
    },
    {
     "name": "stdout",
     "output_type": "stream",
     "text": [
      "MEAN TRAIN:  0.3761026754996676\n",
      "MEAN VALIDATION:  0.294250526379401\n",
      "MEAN TEST 0.3978836366718387\n"
     ]
    },
    {
     "name": "stderr",
     "output_type": "stream",
     "text": [
      "\u001b[32m[I 2022-01-26 13:05:54,352]\u001b[0m Trial 696 finished with value: 0.4007226539972086 and parameters: {'rf_max_depth': 114, 'rf_min_samples_leaf': 8, 'min_samples_split': 147, 'rf_estimators': 75, 'rf_max_feats': 0.240531876313841}. Best is trial 539 with value: 0.5642706316233468.\u001b[0m\n"
     ]
    },
    {
     "name": "stdout",
     "output_type": "stream",
     "text": [
      "MEAN TRAIN:  0.38041660595689153\n",
      "MEAN VALIDATION:  0.29869681824193917\n",
      "MEAN TEST 0.4007226539972086\n"
     ]
    },
    {
     "name": "stderr",
     "output_type": "stream",
     "text": [
      "\u001b[32m[I 2022-01-26 13:05:55,258]\u001b[0m Trial 688 finished with value: 0.4713044303492621 and parameters: {'rf_max_depth': 9, 'rf_min_samples_leaf': 6, 'min_samples_split': 79, 'rf_estimators': 148, 'rf_max_feats': 0.3049860790226595}. Best is trial 539 with value: 0.5642706316233468.\u001b[0m\n"
     ]
    },
    {
     "name": "stdout",
     "output_type": "stream",
     "text": [
      "MEAN TRAIN:  0.5174450786978833\n",
      "MEAN VALIDATION:  0.3749272822785911\n",
      "MEAN TEST 0.4713044303492621\n"
     ]
    },
    {
     "name": "stderr",
     "output_type": "stream",
     "text": [
      "\u001b[32m[I 2022-01-26 13:05:57,953]\u001b[0m Trial 702 finished with value: 0.5315892749843181 and parameters: {'rf_max_depth': 82, 'rf_min_samples_leaf': 3, 'min_samples_split': 9, 'rf_estimators': 16, 'rf_max_feats': 0.2137666100914958}. Best is trial 539 with value: 0.5642706316233468.\u001b[0m\n"
     ]
    },
    {
     "name": "stdout",
     "output_type": "stream",
     "text": [
      "MEAN TRAIN:  0.8177892029242008\n",
      "MEAN VALIDATION:  0.47094639445712083\n",
      "MEAN TEST 0.5315892749843181\n"
     ]
    },
    {
     "name": "stderr",
     "output_type": "stream",
     "text": [
      "\u001b[32m[I 2022-01-26 13:06:01,523]\u001b[0m Trial 699 finished with value: 0.4742557722279105 and parameters: {'rf_max_depth': 117, 'rf_min_samples_leaf': 9, 'min_samples_split': 63, 'rf_estimators': 86, 'rf_max_feats': 0.19413162457208868}. Best is trial 539 with value: 0.5642706316233468.\u001b[0m\n"
     ]
    },
    {
     "name": "stdout",
     "output_type": "stream",
     "text": [
      "MEAN TRAIN:  0.5301535408305046\n",
      "MEAN VALIDATION:  0.37971257607744124\n",
      "MEAN TEST 0.4742557722279105\n"
     ]
    },
    {
     "name": "stderr",
     "output_type": "stream",
     "text": [
      "\u001b[32m[I 2022-01-26 13:06:05,680]\u001b[0m Trial 701 finished with value: 0.5483032564243053 and parameters: {'rf_max_depth': 91, 'rf_min_samples_leaf': 1, 'min_samples_split': 12, 'rf_estimators': 39, 'rf_max_feats': 0.2693556080076496}. Best is trial 539 with value: 0.5642706316233468.\u001b[0m\n"
     ]
    },
    {
     "name": "stdout",
     "output_type": "stream",
     "text": [
      "MEAN TRAIN:  0.8519407785949392\n",
      "MEAN VALIDATION:  0.48912273462819866\n",
      "MEAN TEST 0.5483032564243053\n"
     ]
    },
    {
     "name": "stderr",
     "output_type": "stream",
     "text": [
      "\u001b[32m[I 2022-01-26 13:06:07,336]\u001b[0m Trial 700 finished with value: 0.49250891842517885 and parameters: {'rf_max_depth': 131, 'rf_min_samples_leaf': 12, 'min_samples_split': 36, 'rf_estimators': 136, 'rf_max_feats': 0.1512344537710691}. Best is trial 539 with value: 0.5642706316233468.\u001b[0m\n"
     ]
    },
    {
     "name": "stdout",
     "output_type": "stream",
     "text": [
      "MEAN TRAIN:  0.588452549654845\n",
      "MEAN VALIDATION:  0.4084440781243709\n",
      "MEAN TEST 0.49250891842517885\n"
     ]
    },
    {
     "name": "stderr",
     "output_type": "stream",
     "text": [
      "\u001b[32m[I 2022-01-26 13:06:09,277]\u001b[0m Trial 706 finished with value: 0.45750212777101257 and parameters: {'rf_max_depth': 50, 'rf_min_samples_leaf': 33, 'min_samples_split': 2, 'rf_estimators': 20, 'rf_max_feats': 0.33320852781882665}. Best is trial 539 with value: 0.5642706316233468.\u001b[0m\n"
     ]
    },
    {
     "name": "stdout",
     "output_type": "stream",
     "text": [
      "MEAN TRAIN:  0.4751337817393228\n",
      "MEAN VALIDATION:  0.35302643886986995\n",
      "MEAN TEST 0.45750212777101257\n"
     ]
    },
    {
     "name": "stderr",
     "output_type": "stream",
     "text": [
      "\u001b[32m[I 2022-01-26 13:06:10,214]\u001b[0m Trial 704 finished with value: 0.46180439481004915 and parameters: {'rf_max_depth': 98, 'rf_min_samples_leaf': 24, 'min_samples_split': 7, 'rf_estimators': 139, 'rf_max_feats': 0.11878858223505206}. Best is trial 539 with value: 0.5642706316233468.\u001b[0m\n"
     ]
    },
    {
     "name": "stdout",
     "output_type": "stream",
     "text": [
      "MEAN TRAIN:  0.5050155903456031\n",
      "MEAN VALIDATION:  0.37225553161500735\n",
      "MEAN TEST 0.46180439481004915\n"
     ]
    },
    {
     "name": "stderr",
     "output_type": "stream",
     "text": [
      "\u001b[32m[I 2022-01-26 13:06:12,686]\u001b[0m Trial 698 finished with value: 0.5303469043284169 and parameters: {'rf_max_depth': 62, 'rf_min_samples_leaf': 9, 'min_samples_split': 4, 'rf_estimators': 91, 'rf_max_feats': 0.3049860790226595}. Best is trial 539 with value: 0.5642706316233468.\u001b[0m\n",
      "\u001b[32m[I 2022-01-26 13:06:12,691]\u001b[0m Trial 709 finished with value: 0.3929894575610304 and parameters: {'rf_max_depth': 143, 'rf_min_samples_leaf': 8, 'min_samples_split': 144, 'rf_estimators': 39, 'rf_max_feats': 0.1346141361670423}. Best is trial 539 with value: 0.5642706316233468.\u001b[0m\n"
     ]
    },
    {
     "name": "stdout",
     "output_type": "stream",
     "text": [
      "MEAN TRAIN: MEAN TRAIN:   0.3736471289756283\n",
      "MEAN VALIDATION: 0.6946078703773562\n",
      "MEAN VALIDATION:  0.44824895771756934\n",
      "MEAN TEST 0.5303469043284169\n",
      " 0.290446856747743\n",
      "MEAN TEST 0.3929894575610304\n"
     ]
    },
    {
     "name": "stderr",
     "output_type": "stream",
     "text": [
      "\u001b[32m[I 2022-01-26 13:06:15,771]\u001b[0m Trial 705 finished with value: 0.5239860669391534 and parameters: {'rf_max_depth': 66, 'rf_min_samples_leaf': 8, 'min_samples_split': 4, 'rf_estimators': 64, 'rf_max_feats': 0.240531876313841}. Best is trial 539 with value: 0.5642706316233468.\u001b[0m\n"
     ]
    },
    {
     "name": "stdout",
     "output_type": "stream",
     "text": [
      "MEAN TRAIN:  0.7090619789436813\n",
      "MEAN VALIDATION:  0.44806103610079795\n",
      "MEAN TEST 0.5239860669391534\n"
     ]
    },
    {
     "name": "stderr",
     "output_type": "stream",
     "text": [
      "\u001b[32m[I 2022-01-26 13:06:16,601]\u001b[0m Trial 708 finished with value: 0.4661614006352832 and parameters: {'rf_max_depth': 18, 'rf_min_samples_leaf': 24, 'min_samples_split': 71, 'rf_estimators': 39, 'rf_max_feats': 0.36404608642785957}. Best is trial 539 with value: 0.5642706316233468.\u001b[0m\n"
     ]
    },
    {
     "name": "stdout",
     "output_type": "stream",
     "text": [
      "MEAN TRAIN:  0.49245695145322194\n",
      "MEAN VALIDATION:  0.36893454787104324\n",
      "MEAN TEST 0.4661614006352832\n"
     ]
    },
    {
     "name": "stderr",
     "output_type": "stream",
     "text": [
      "\u001b[32m[I 2022-01-26 13:06:18,825]\u001b[0m Trial 703 finished with value: 0.4875600638134271 and parameters: {'rf_max_depth': 28, 'rf_min_samples_leaf': 19, 'min_samples_split': 40, 'rf_estimators': 132, 'rf_max_feats': 0.28229458209363234}. Best is trial 539 with value: 0.5642706316233468.\u001b[0m\n"
     ]
    },
    {
     "name": "stdout",
     "output_type": "stream",
     "text": [
      "MEAN TRAIN:  0.564024418757958\n",
      "MEAN VALIDATION:  0.3970038230322433\n",
      "MEAN TEST 0.4875600638134271\n"
     ]
    },
    {
     "name": "stderr",
     "output_type": "stream",
     "text": [
      "\u001b[32m[I 2022-01-26 13:06:22,001]\u001b[0m Trial 710 finished with value: 0.5318033396739555 and parameters: {'rf_max_depth': 33, 'rf_min_samples_leaf': 6, 'min_samples_split': 2, 'rf_estimators': 39, 'rf_max_feats': 0.22674391882371772}. Best is trial 539 with value: 0.5642706316233468.\u001b[0m\n",
      "\u001b[32m[I 2022-01-26 13:06:22,156]\u001b[0m Trial 711 finished with value: 0.4667894483501061 and parameters: {'rf_max_depth': 127, 'rf_min_samples_leaf': 19, 'min_samples_split': 62, 'rf_estimators': 71, 'rf_max_feats': 0.21081860894120014}. Best is trial 539 with value: 0.5642706316233468.\u001b[0m\n"
     ]
    },
    {
     "name": "stdout",
     "output_type": "stream",
     "text": [
      "MEAN TRAIN:  0.7548048250346802\n",
      "MEAN VALIDATION:  0.45847400290463114\n",
      "MEAN TEST 0.5318033396739555\n",
      "MEAN TRAIN:  0.5088909731700361\n",
      "MEAN VALIDATION:  0.3718426822017111\n",
      "MEAN TEST 0.4667894483501061\n"
     ]
    },
    {
     "name": "stderr",
     "output_type": "stream",
     "text": [
      "\u001b[32m[I 2022-01-26 13:06:24,081]\u001b[0m Trial 713 finished with value: 0.49434660228069094 and parameters: {'rf_max_depth': 139, 'rf_min_samples_leaf': 3, 'min_samples_split': 63, 'rf_estimators': 36, 'rf_max_feats': 0.29089997671668544}. Best is trial 539 with value: 0.5642706316233468.\u001b[0m\n"
     ]
    },
    {
     "name": "stdout",
     "output_type": "stream",
     "text": [
      "MEAN TRAIN:  0.5886178986453878\n",
      "MEAN VALIDATION:  0.3977550340042018\n",
      "MEAN TEST 0.49434660228069094\n"
     ]
    },
    {
     "name": "stderr",
     "output_type": "stream",
     "text": [
      "\u001b[32m[I 2022-01-26 13:06:29,976]\u001b[0m Trial 714 finished with value: 0.40135978682165463 and parameters: {'rf_max_depth': 12, 'rf_min_samples_leaf': 7, 'min_samples_split': 148, 'rf_estimators': 124, 'rf_max_feats': 0.23180815775416327}. Best is trial 539 with value: 0.5642706316233468.\u001b[0m\n",
      "\u001b[32m[I 2022-01-26 13:06:30,061]\u001b[0m Trial 707 finished with value: 0.5505196014433492 and parameters: {'rf_max_depth': 124, 'rf_min_samples_leaf': 1, 'min_samples_split': 18, 'rf_estimators': 87, 'rf_max_feats': 0.21237497262445523}. Best is trial 539 with value: 0.5642706316233468.\u001b[0m\n"
     ]
    },
    {
     "name": "stdout",
     "output_type": "stream",
     "text": [
      "MEAN TRAIN:  0.38417354349046845\n",
      "MEAN VALIDATION:  0.298023547227668\n",
      "MEAN TEST 0.40135978682165463\n",
      "MEAN TRAIN:  0.8119345096184711\n",
      "MEAN VALIDATION:  0.47561439735816896\n",
      "MEAN TEST 0.5505196014433492\n"
     ]
    },
    {
     "name": "stderr",
     "output_type": "stream",
     "text": [
      "\u001b[32m[I 2022-01-26 13:06:34,217]\u001b[0m Trial 716 finished with value: 0.48234627246280065 and parameters: {'rf_max_depth': 78, 'rf_min_samples_leaf': 9, 'min_samples_split': 55, 'rf_estimators': 78, 'rf_max_feats': 0.24045753856657778}. Best is trial 539 with value: 0.5642706316233468.\u001b[0m\n"
     ]
    },
    {
     "name": "stdout",
     "output_type": "stream",
     "text": [
      "MEAN TRAIN:  0.5573284351508739\n",
      "MEAN VALIDATION:  0.3992137254825671\n",
      "MEAN TEST 0.48234627246280065\n"
     ]
    },
    {
     "name": "stderr",
     "output_type": "stream",
     "text": [
      "\u001b[32m[I 2022-01-26 13:06:35,933]\u001b[0m Trial 715 finished with value: 0.4732668020738484 and parameters: {'rf_max_depth': 71, 'rf_min_samples_leaf': 24, 'min_samples_split': 52, 'rf_estimators': 72, 'rf_max_feats': 0.35078484174284874}. Best is trial 539 with value: 0.5642706316233468.\u001b[0m\n"
     ]
    },
    {
     "name": "stdout",
     "output_type": "stream",
     "text": [
      "MEAN TRAIN:  0.5300812198204086\n",
      "MEAN VALIDATION:  0.3780006098257485\n",
      "MEAN TEST 0.4732668020738484\n"
     ]
    },
    {
     "name": "stderr",
     "output_type": "stream",
     "text": [
      "\u001b[32m[I 2022-01-26 13:06:40,531]\u001b[0m Trial 712 finished with value: 0.47321231082091764 and parameters: {'rf_max_depth': 130, 'rf_min_samples_leaf': 13, 'min_samples_split': 72, 'rf_estimators': 143, 'rf_max_feats': 0.33320852781882665}. Best is trial 539 with value: 0.5642706316233468.\u001b[0m\n"
     ]
    },
    {
     "name": "stdout",
     "output_type": "stream",
     "text": [
      "MEAN TRAIN:  0.5121168838222039\n",
      "MEAN VALIDATION:  0.3792862939754123\n",
      "MEAN TEST 0.47321231082091764\n"
     ]
    },
    {
     "name": "stderr",
     "output_type": "stream",
     "text": [
      "\u001b[32m[I 2022-01-26 13:06:44,142]\u001b[0m Trial 720 finished with value: 0.4566060251215351 and parameters: {'rf_max_depth': 64, 'rf_min_samples_leaf': 19, 'min_samples_split': 64, 'rf_estimators': 130, 'rf_max_feats': 0.11765090363848593}. Best is trial 539 with value: 0.5642706316233468.\u001b[0m\n"
     ]
    },
    {
     "name": "stdout",
     "output_type": "stream",
     "text": [
      "MEAN TRAIN:  0.48956893631396864\n",
      "MEAN VALIDATION:  0.3669861627283844\n",
      "MEAN TEST 0.4566060251215351\n"
     ]
    },
    {
     "name": "stderr",
     "output_type": "stream",
     "text": [
      "\u001b[32m[I 2022-01-26 13:06:45,714]\u001b[0m Trial 719 finished with value: 0.46923351522074086 and parameters: {'rf_max_depth': 98, 'rf_min_samples_leaf': 24, 'min_samples_split': 63, 'rf_estimators': 101, 'rf_max_feats': 0.30544307143426497}. Best is trial 539 with value: 0.5642706316233468.\u001b[0m\n"
     ]
    },
    {
     "name": "stdout",
     "output_type": "stream",
     "text": [
      "MEAN TRAIN:  0.5022654095916975\n",
      "MEAN VALIDATION:  0.3646092061686376\n",
      "MEAN TEST 0.46923351522074086\n"
     ]
    },
    {
     "name": "stderr",
     "output_type": "stream",
     "text": [
      "\u001b[32m[I 2022-01-26 13:06:49,856]\u001b[0m Trial 717 finished with value: 0.5281073648087921 and parameters: {'rf_max_depth': 139, 'rf_min_samples_leaf': 8, 'min_samples_split': 4, 'rf_estimators': 99, 'rf_max_feats': 0.3341816735844944}. Best is trial 539 with value: 0.5642706316233468.\u001b[0m\n"
     ]
    },
    {
     "name": "stdout",
     "output_type": "stream",
     "text": [
      "MEAN TRAIN:  0.7203060367553985\n",
      "MEAN VALIDATION:  0.45770524242409627\n",
      "MEAN TEST 0.5281073648087921\n"
     ]
    },
    {
     "name": "stderr",
     "output_type": "stream",
     "text": [
      "\u001b[32m[I 2022-01-26 13:06:50,633]\u001b[0m Trial 718 finished with value: 0.47298832906136756 and parameters: {'rf_max_depth': 55, 'rf_min_samples_leaf': 9, 'min_samples_split': 71, 'rf_estimators': 138, 'rf_max_feats': 0.28286566710097155}. Best is trial 539 with value: 0.5642706316233468.\u001b[0m\n"
     ]
    },
    {
     "name": "stdout",
     "output_type": "stream",
     "text": [
      "MEAN TRAIN:  0.5221043777199623\n",
      "MEAN VALIDATION:  0.38095426276998445\n",
      "MEAN TEST 0.47298832906136756\n"
     ]
    },
    {
     "name": "stderr",
     "output_type": "stream",
     "text": [
      "\u001b[32m[I 2022-01-26 13:06:51,548]\u001b[0m Trial 721 finished with value: 0.41641306178721554 and parameters: {'rf_max_depth': 79, 'rf_min_samples_leaf': 55, 'min_samples_split': 58, 'rf_estimators': 124, 'rf_max_feats': 0.37035522298663875}. Best is trial 539 with value: 0.5642706316233468.\u001b[0m\n"
     ]
    },
    {
     "name": "stdout",
     "output_type": "stream",
     "text": [
      "MEAN TRAIN:  0.4030615686113535\n",
      "MEAN VALIDATION:  0.3202229227807955\n",
      "MEAN TEST 0.41641306178721554\n"
     ]
    },
    {
     "name": "stderr",
     "output_type": "stream",
     "text": [
      "\u001b[32m[I 2022-01-26 13:06:55,309]\u001b[0m Trial 723 finished with value: 0.5572193934831766 and parameters: {'rf_max_depth': 56, 'rf_min_samples_leaf': 1, 'min_samples_split': 12, 'rf_estimators': 39, 'rf_max_feats': 0.2693556080076496}. Best is trial 539 with value: 0.5642706316233468.\u001b[0m\n"
     ]
    },
    {
     "name": "stdout",
     "output_type": "stream",
     "text": [
      "MEAN TRAIN:  0.8496490393727468\n",
      "MEAN VALIDATION:  0.4897705018039445\n",
      "MEAN TEST 0.5572193934831766\n"
     ]
    },
    {
     "name": "stderr",
     "output_type": "stream",
     "text": [
      "\u001b[32m[I 2022-01-26 13:06:56,863]\u001b[0m Trial 722 finished with value: 0.4917603497069898 and parameters: {'rf_max_depth': 69, 'rf_min_samples_leaf': 7, 'min_samples_split': 50, 'rf_estimators': 131, 'rf_max_feats': 0.18877906276055434}. Best is trial 539 with value: 0.5642706316233468.\u001b[0m\n"
     ]
    },
    {
     "name": "stdout",
     "output_type": "stream",
     "text": [
      "MEAN TRAIN:  0.5787789746015575\n",
      "MEAN VALIDATION:  0.40637885221039866\n",
      "MEAN TEST 0.4917603497069898\n"
     ]
    },
    {
     "name": "stderr",
     "output_type": "stream",
     "text": [
      "\u001b[32m[I 2022-01-26 13:06:59,627]\u001b[0m Trial 727 finished with value: 0.5128476940514048 and parameters: {'rf_max_depth': 108, 'rf_min_samples_leaf': 8, 'min_samples_split': 4, 'rf_estimators': 64, 'rf_max_feats': 0.14430280884487345}. Best is trial 539 with value: 0.5642706316233468.\u001b[0m\n"
     ]
    },
    {
     "name": "stdout",
     "output_type": "stream",
     "text": [
      "MEAN TRAIN:  0.694933824395471\n",
      "MEAN VALIDATION:  0.43218001290426455\n",
      "MEAN TEST 0.5128476940514048\n"
     ]
    },
    {
     "name": "stderr",
     "output_type": "stream",
     "text": [
      "\u001b[32m[I 2022-01-26 13:07:00,402]\u001b[0m Trial 726 finished with value: 0.5480902219805726 and parameters: {'rf_max_depth': 117, 'rf_min_samples_leaf': 1, 'min_samples_split': 12, 'rf_estimators': 39, 'rf_max_feats': 0.2280793748958792}. Best is trial 539 with value: 0.5642706316233468.\u001b[0m\n"
     ]
    },
    {
     "name": "stdout",
     "output_type": "stream",
     "text": [
      "MEAN TRAIN:  0.8492560646276551\n",
      "MEAN VALIDATION:  0.4718573970167764\n",
      "MEAN TEST 0.5480902219805726\n"
     ]
    },
    {
     "name": "stderr",
     "output_type": "stream",
     "text": [
      "\u001b[32m[I 2022-01-26 13:07:01,714]\u001b[0m Trial 725 finished with value: 0.47187188040498584 and parameters: {'rf_max_depth': 143, 'rf_min_samples_leaf': 9, 'min_samples_split': 65, 'rf_estimators': 132, 'rf_max_feats': 0.14684367747319815}. Best is trial 539 with value: 0.5642706316233468.\u001b[0m\n"
     ]
    },
    {
     "name": "stdout",
     "output_type": "stream",
     "text": [
      "MEAN TRAIN:  0.5225785791230418\n",
      "MEAN VALIDATION:  0.3816346918180975\n",
      "MEAN TEST 0.47187188040498584\n"
     ]
    },
    {
     "name": "stderr",
     "output_type": "stream",
     "text": [
      "\u001b[32m[I 2022-01-26 13:07:03,464]\u001b[0m Trial 724 finished with value: 0.4567532633733206 and parameters: {'rf_max_depth': 44, 'rf_min_samples_leaf': 35, 'min_samples_split': 4, 'rf_estimators': 131, 'rf_max_feats': 0.3049860790226595}. Best is trial 539 with value: 0.5642706316233468.\u001b[0m\n"
     ]
    },
    {
     "name": "stdout",
     "output_type": "stream",
     "text": [
      "MEAN TRAIN:  0.47124725972269826\n",
      "MEAN VALIDATION:  0.35723959323183047\n",
      "MEAN TEST 0.4567532633733206\n"
     ]
    },
    {
     "name": "stderr",
     "output_type": "stream",
     "text": [
      "\u001b[32m[I 2022-01-26 13:07:05,492]\u001b[0m Trial 733 finished with value: 0.5054890200829609 and parameters: {'rf_max_depth': 46, 'rf_min_samples_leaf': 8, 'min_samples_split': 14, 'rf_estimators': 12, 'rf_max_feats': 0.17931782045014238}. Best is trial 539 with value: 0.5642706316233468.\u001b[0m\n"
     ]
    },
    {
     "name": "stdout",
     "output_type": "stream",
     "text": [
      "MEAN TRAIN:  0.6813533118835411\n",
      "MEAN VALIDATION:  0.4430660526363656\n",
      "MEAN TEST 0.5054890200829609\n"
     ]
    },
    {
     "name": "stderr",
     "output_type": "stream",
     "text": [
      "\u001b[32m[I 2022-01-26 13:07:08,952]\u001b[0m Trial 728 finished with value: 0.4226813932685641 and parameters: {'rf_max_depth': 88, 'rf_min_samples_leaf': 50, 'min_samples_split': 41, 'rf_estimators': 128, 'rf_max_feats': 0.2693556080076496}. Best is trial 539 with value: 0.5642706316233468.\u001b[0m\n"
     ]
    },
    {
     "name": "stdout",
     "output_type": "stream",
     "text": [
      "MEAN TRAIN:  0.41412908149215494\n",
      "MEAN VALIDATION:  0.3267338027901784\n",
      "MEAN TEST 0.4226813932685641\n"
     ]
    },
    {
     "name": "stderr",
     "output_type": "stream",
     "text": [
      "\u001b[32m[I 2022-01-26 13:07:11,165]\u001b[0m Trial 731 finished with value: 0.40484535852616005 and parameters: {'rf_max_depth': 117, 'rf_min_samples_leaf': 1, 'min_samples_split': 143, 'rf_estimators': 104, 'rf_max_feats': 0.30544307143426497}. Best is trial 539 with value: 0.5642706316233468.\u001b[0m\n"
     ]
    },
    {
     "name": "stdout",
     "output_type": "stream",
     "text": [
      "MEAN TRAIN:  0.3900445416110851\n",
      "MEAN VALIDATION:  0.30302845784312293\n",
      "MEAN TEST 0.40484535852616005\n"
     ]
    },
    {
     "name": "stderr",
     "output_type": "stream",
     "text": [
      "\u001b[32m[I 2022-01-26 13:07:12,632]\u001b[0m Trial 729 finished with value: 0.4773453744434164 and parameters: {'rf_max_depth': 98, 'rf_min_samples_leaf': 24, 'min_samples_split': 9, 'rf_estimators': 91, 'rf_max_feats': 0.3360172927656278}. Best is trial 539 with value: 0.5642706316233468.\u001b[0m\n"
     ]
    },
    {
     "name": "stdout",
     "output_type": "stream",
     "text": [
      "MEAN TRAIN:  0.5323437838297393\n",
      "MEAN VALIDATION:  0.38493602753491285\n",
      "MEAN TEST 0.4773453744434164\n"
     ]
    },
    {
     "name": "stderr",
     "output_type": "stream",
     "text": [
      "\u001b[32m[I 2022-01-26 13:07:13,255]\u001b[0m Trial 730 finished with value: 0.49817116568825526 and parameters: {'rf_max_depth': 95, 'rf_min_samples_leaf': 3, 'min_samples_split': 46, 'rf_estimators': 128, 'rf_max_feats': 0.12211856659570905}. Best is trial 539 with value: 0.5642706316233468.\u001b[0m\n"
     ]
    },
    {
     "name": "stdout",
     "output_type": "stream",
     "text": [
      "MEAN TRAIN:  0.6283764385406705\n",
      "MEAN VALIDATION:  0.4275071149498276\n",
      "MEAN TEST 0.49817116568825526\n"
     ]
    },
    {
     "name": "stderr",
     "output_type": "stream",
     "text": [
      "\u001b[32m[I 2022-01-26 13:07:14,160]\u001b[0m Trial 734 finished with value: 0.46461954727862753 and parameters: {'rf_max_depth': 132, 'rf_min_samples_leaf': 24, 'min_samples_split': 65, 'rf_estimators': 54, 'rf_max_feats': 0.33320852781882665}. Best is trial 539 with value: 0.5642706316233468.\u001b[0m\n"
     ]
    },
    {
     "name": "stdout",
     "output_type": "stream",
     "text": [
      "MEAN TRAIN:  0.49996666244477206\n",
      "MEAN VALIDATION:  0.36606356681720215\n",
      "MEAN TEST 0.46461954727862753\n"
     ]
    },
    {
     "name": "stderr",
     "output_type": "stream",
     "text": [
      "\u001b[32m[I 2022-01-26 13:07:17,694]\u001b[0m Trial 739 finished with value: 0.45293674174197107 and parameters: {'rf_max_depth': 98, 'rf_min_samples_leaf': 16, 'min_samples_split': 69, 'rf_estimators': 39, 'rf_max_feats': 0.14684367747319815}. Best is trial 539 with value: 0.5642706316233468.\u001b[0m\n"
     ]
    },
    {
     "name": "stdout",
     "output_type": "stream",
     "text": [
      "MEAN TRAIN:  0.49071575510234294\n",
      "MEAN VALIDATION:  0.36332911342356133\n",
      "MEAN TEST 0.45293674174197107\n"
     ]
    },
    {
     "name": "stderr",
     "output_type": "stream",
     "text": [
      "\u001b[32m[I 2022-01-26 13:07:21,119]\u001b[0m Trial 735 finished with value: 0.5229481228069076 and parameters: {'rf_max_depth': 36, 'rf_min_samples_leaf': 2, 'min_samples_split': 34, 'rf_estimators': 74, 'rf_max_feats': 0.17931782045014238}. Best is trial 539 with value: 0.5642706316233468.\u001b[0m\n"
     ]
    },
    {
     "name": "stdout",
     "output_type": "stream",
     "text": [
      "MEAN TRAIN:  0.7112761080003082\n",
      "MEAN VALIDATION:  0.4541893963670507\n",
      "MEAN TEST 0.5229481228069076\n"
     ]
    },
    {
     "name": "stderr",
     "output_type": "stream",
     "text": [
      "\u001b[32m[I 2022-01-26 13:07:22,229]\u001b[0m Trial 738 finished with value: 0.5124130050301374 and parameters: {'rf_max_depth': 130, 'rf_min_samples_leaf': 7, 'min_samples_split': 25, 'rf_estimators': 87, 'rf_max_feats': 0.10703427220815187}. Best is trial 539 with value: 0.5642706316233468.\u001b[0m\n"
     ]
    },
    {
     "name": "stdout",
     "output_type": "stream",
     "text": [
      "MEAN TRAIN:  0.6536087105169389\n",
      "MEAN VALIDATION:  0.42582918924911894\n",
      "MEAN TEST 0.5124130050301374\n"
     ]
    },
    {
     "name": "stderr",
     "output_type": "stream",
     "text": [
      "\u001b[32m[I 2022-01-26 13:07:23,156]\u001b[0m Trial 736 finished with value: 0.41835424371866675 and parameters: {'rf_max_depth': 137, 'rf_min_samples_leaf': 50, 'min_samples_split': 39, 'rf_estimators': 130, 'rf_max_feats': 0.22703744150321095}. Best is trial 539 with value: 0.5642706316233468.\u001b[0m\n"
     ]
    },
    {
     "name": "stdout",
     "output_type": "stream",
     "text": [
      "MEAN TRAIN:  0.4108145281848115\n",
      "MEAN VALIDATION:  0.32127749678163975\n",
      "MEAN TEST 0.41835424371866675\n"
     ]
    },
    {
     "name": "stderr",
     "output_type": "stream",
     "text": [
      "\u001b[32m[I 2022-01-26 13:07:24,239]\u001b[0m Trial 737 finished with value: 0.4065745924549313 and parameters: {'rf_max_depth': 127, 'rf_min_samples_leaf': 19, 'min_samples_split': 134, 'rf_estimators': 139, 'rf_max_feats': 0.23422073334782467}. Best is trial 539 with value: 0.5642706316233468.\u001b[0m\n"
     ]
    },
    {
     "name": "stdout",
     "output_type": "stream",
     "text": [
      "MEAN TRAIN:  0.389854908405167\n",
      "MEAN VALIDATION:  0.3061375234183014\n",
      "MEAN TEST 0.4065745924549313\n"
     ]
    },
    {
     "name": "stderr",
     "output_type": "stream",
     "text": [
      "\u001b[32m[I 2022-01-26 13:07:25,322]\u001b[0m Trial 743 finished with value: 0.3881854286137494 and parameters: {'rf_max_depth': 63, 'rf_min_samples_leaf': 22, 'min_samples_split': 146, 'rf_estimators': 30, 'rf_max_feats': 0.21898454056865116}. Best is trial 539 with value: 0.5642706316233468.\u001b[0m\n"
     ]
    },
    {
     "name": "stdout",
     "output_type": "stream",
     "text": [
      "MEAN TRAIN:  0.36526178654664954\n",
      "MEAN VALIDATION:  0.2956949048076881\n",
      "MEAN TEST 0.3881854286137494\n"
     ]
    },
    {
     "name": "stderr",
     "output_type": "stream",
     "text": [
      "\u001b[32m[I 2022-01-26 13:07:26,607]\u001b[0m Trial 744 finished with value: 0.4567389251864828 and parameters: {'rf_max_depth': 71, 'rf_min_samples_leaf': 24, 'min_samples_split': 63, 'rf_estimators': 16, 'rf_max_feats': 0.30544307143426497}. Best is trial 539 with value: 0.5642706316233468.\u001b[0m\n"
     ]
    },
    {
     "name": "stdout",
     "output_type": "stream",
     "text": [
      "MEAN TRAIN:  0.4891762674118015\n",
      "MEAN VALIDATION:  0.35694591777800283\n",
      "MEAN TEST 0.4567389251864828\n"
     ]
    },
    {
     "name": "stderr",
     "output_type": "stream",
     "text": [
      "\u001b[32m[I 2022-01-26 13:07:28,804]\u001b[0m Trial 741 finished with value: 0.47966775082893687 and parameters: {'rf_max_depth': 38, 'rf_min_samples_leaf': 5, 'min_samples_split': 63, 'rf_estimators': 78, 'rf_max_feats': 0.14684367747319815}. Best is trial 539 with value: 0.5642706316233468.\u001b[0m\n"
     ]
    },
    {
     "name": "stdout",
     "output_type": "stream",
     "text": [
      "MEAN TRAIN:  0.5490348537325873\n",
      "MEAN VALIDATION:  0.39350105086388176\n",
      "MEAN TEST 0.47966775082893687\n"
     ]
    },
    {
     "name": "stderr",
     "output_type": "stream",
     "text": [
      "\u001b[32m[I 2022-01-26 13:07:30,453]\u001b[0m Trial 740 finished with value: 0.47660654498830474 and parameters: {'rf_max_depth': 27, 'rf_min_samples_leaf': 4, 'min_samples_split': 73, 'rf_estimators': 101, 'rf_max_feats': 0.22871422589729562}. Best is trial 539 with value: 0.5642706316233468.\u001b[0m\n"
     ]
    },
    {
     "name": "stdout",
     "output_type": "stream",
     "text": [
      "MEAN TRAIN:  0.5383812414944119\n",
      "MEAN VALIDATION:  0.3898393048153136\n",
      "MEAN TEST 0.47660654498830474\n"
     ]
    },
    {
     "name": "stderr",
     "output_type": "stream",
     "text": [
      "\u001b[32m[I 2022-01-26 13:07:32,413]\u001b[0m Trial 745 finished with value: 0.3684928524353565 and parameters: {'rf_max_depth': 12, 'rf_min_samples_leaf': 80, 'min_samples_split': 66, 'rf_estimators': 124, 'rf_max_feats': 0.19337332801595083}. Best is trial 539 with value: 0.5642706316233468.\u001b[0m\n"
     ]
    },
    {
     "name": "stdout",
     "output_type": "stream",
     "text": [
      "MEAN TRAIN:  0.33282008808085484\n",
      "MEAN VALIDATION:  0.26764560041851215\n",
      "MEAN TEST 0.3684928524353565\n"
     ]
    },
    {
     "name": "stderr",
     "output_type": "stream",
     "text": [
      "\u001b[32m[I 2022-01-26 13:07:33,525]\u001b[0m Trial 732 finished with value: 0.5431552149743297 and parameters: {'rf_max_depth': 82, 'rf_min_samples_leaf': 6, 'min_samples_split': 2, 'rf_estimators': 128, 'rf_max_feats': 0.29526048006823363}. Best is trial 539 with value: 0.5642706316233468.\u001b[0m\n"
     ]
    },
    {
     "name": "stdout",
     "output_type": "stream",
     "text": [
      "MEAN TRAIN:  0.7628834727286148\n",
      "MEAN VALIDATION:  0.46780248902551713\n",
      "MEAN TEST 0.5431552149743297\n"
     ]
    },
    {
     "name": "stderr",
     "output_type": "stream",
     "text": [
      "\u001b[32m[I 2022-01-26 13:07:36,226]\u001b[0m Trial 748 finished with value: 0.39765425067356286 and parameters: {'rf_max_depth': 108, 'rf_min_samples_leaf': 24, 'min_samples_split': 141, 'rf_estimators': 67, 'rf_max_feats': 0.24823792777759626}. Best is trial 539 with value: 0.5642706316233468.\u001b[0m\n"
     ]
    },
    {
     "name": "stdout",
     "output_type": "stream",
     "text": [
      "MEAN TRAIN:  0.3765779099818931\n",
      "MEAN VALIDATION:  0.2934082250594668\n",
      "MEAN TEST 0.39765425067356286\n"
     ]
    },
    {
     "name": "stderr",
     "output_type": "stream",
     "text": [
      "\u001b[32m[I 2022-01-26 13:07:39,012]\u001b[0m Trial 742 finished with value: 0.5563723414908254 and parameters: {'rf_max_depth': 95, 'rf_min_samples_leaf': 1, 'min_samples_split': 2, 'rf_estimators': 39, 'rf_max_feats': 0.2693556080076496}. Best is trial 539 with value: 0.5642706316233468.\u001b[0m\n"
     ]
    },
    {
     "name": "stdout",
     "output_type": "stream",
     "text": [
      "MEAN TRAIN:  0.9167226333650899\n",
      "MEAN VALIDATION:  0.4864130623867314\n",
      "MEAN TEST 0.5563723414908254\n"
     ]
    },
    {
     "name": "stderr",
     "output_type": "stream",
     "text": [
      "\u001b[32m[I 2022-01-26 13:07:42,450]\u001b[0m Trial 751 finished with value: 0.47271377996519026 and parameters: {'rf_max_depth': 93, 'rf_min_samples_leaf': 26, 'min_samples_split': 47, 'rf_estimators': 37, 'rf_max_feats': 0.29526048006823363}. Best is trial 539 with value: 0.5642706316233468.\u001b[0m\n"
     ]
    },
    {
     "name": "stdout",
     "output_type": "stream",
     "text": [
      "MEAN TRAIN:  0.5132000842396928\n",
      "MEAN VALIDATION:  0.37548367110744213\n",
      "MEAN TEST 0.47271377996519026\n"
     ]
    },
    {
     "name": "stderr",
     "output_type": "stream",
     "text": [
      "\u001b[32m[I 2022-01-26 13:07:44,633]\u001b[0m Trial 752 finished with value: 0.414294336443533 and parameters: {'rf_max_depth': 9, 'rf_min_samples_leaf': 7, 'min_samples_split': 134, 'rf_estimators': 48, 'rf_max_feats': 0.3049860790226595}. Best is trial 539 with value: 0.5642706316233468.\u001b[0m\n"
     ]
    },
    {
     "name": "stdout",
     "output_type": "stream",
     "text": [
      "MEAN TRAIN:  0.4028044084821496\n",
      "MEAN VALIDATION:  0.3110184527449336\n",
      "MEAN TEST 0.414294336443533\n"
     ]
    },
    {
     "name": "stderr",
     "output_type": "stream",
     "text": [
      "\u001b[32m[I 2022-01-26 13:07:45,527]\u001b[0m Trial 746 finished with value: 0.5336737673811978 and parameters: {'rf_max_depth': 22, 'rf_min_samples_leaf': 7, 'min_samples_split': 7, 'rf_estimators': 87, 'rf_max_feats': 0.24823792777759626}. Best is trial 539 with value: 0.5642706316233468.\u001b[0m\n",
      "\u001b[32m[I 2022-01-26 13:07:45,721]\u001b[0m Trial 749 finished with value: 0.5376963395918 and parameters: {'rf_max_depth': 139, 'rf_min_samples_leaf': 3, 'min_samples_split': 14, 'rf_estimators': 78, 'rf_max_feats': 0.14436763192716243}. Best is trial 539 with value: 0.5642706316233468.\u001b[0m\n"
     ]
    },
    {
     "name": "stdout",
     "output_type": "stream",
     "text": [
      "MEAN TRAIN:  0.7327883829820762\n",
      "MEAN VALIDATION:  0.4651039506650222\n",
      "MEAN TEST 0.5336737673811978\n",
      "MEAN TRAIN:  0.7865974920967126\n",
      "MEAN VALIDATION:  0.4719001632122842\n",
      "MEAN TEST 0.5376963395918\n"
     ]
    },
    {
     "name": "stderr",
     "output_type": "stream",
     "text": [
      "\u001b[32m[I 2022-01-26 13:07:45,845]\u001b[0m Trial 753 finished with value: 0.4128881016549492 and parameters: {'rf_max_depth': 124, 'rf_min_samples_leaf': 19, 'min_samples_split': 116, 'rf_estimators': 57, 'rf_max_feats': 0.10665860038712986}. Best is trial 539 with value: 0.5642706316233468.\u001b[0m\n"
     ]
    },
    {
     "name": "stdout",
     "output_type": "stream",
     "text": [
      "MEAN TRAIN:  0.4022767277717926\n",
      "MEAN VALIDATION:  0.31761940637787195\n",
      "MEAN TEST 0.4128881016549492\n"
     ]
    },
    {
     "name": "stderr",
     "output_type": "stream",
     "text": [
      "\u001b[32m[I 2022-01-26 13:07:50,624]\u001b[0m Trial 754 finished with value: 0.4633221961355677 and parameters: {'rf_max_depth': 32, 'rf_min_samples_leaf': 17, 'min_samples_split': 58, 'rf_estimators': 74, 'rf_max_feats': 0.11472606240672377}. Best is trial 539 with value: 0.5642706316233468.\u001b[0m\n"
     ]
    },
    {
     "name": "stdout",
     "output_type": "stream",
     "text": [
      "MEAN TRAIN:  0.5062872665141113\n",
      "MEAN VALIDATION:  0.3704400970463973\n",
      "MEAN TEST 0.4633221961355677\n"
     ]
    },
    {
     "name": "stderr",
     "output_type": "stream",
     "text": [
      "\u001b[32m[I 2022-01-26 13:07:51,887]\u001b[0m Trial 756 finished with value: 0.360853197704024 and parameters: {'rf_max_depth': 31, 'rf_min_samples_leaf': 75, 'min_samples_split': 25, 'rf_estimators': 143, 'rf_max_feats': 0.10703427220815187}. Best is trial 539 with value: 0.5642706316233468.\u001b[0m\n"
     ]
    },
    {
     "name": "stdout",
     "output_type": "stream",
     "text": [
      "MEAN TRAIN:  0.3279100131189476\n",
      "MEAN VALIDATION:  0.26501915482646954\n",
      "MEAN TEST 0.360853197704024\n"
     ]
    },
    {
     "name": "stderr",
     "output_type": "stream",
     "text": [
      "\u001b[32m[I 2022-01-26 13:07:58,873]\u001b[0m Trial 750 finished with value: 0.48369473208596003 and parameters: {'rf_max_depth': 79, 'rf_min_samples_leaf': 17, 'min_samples_split': 58, 'rf_estimators': 133, 'rf_max_feats': 0.37035522298663875}. Best is trial 539 with value: 0.5642706316233468.\u001b[0m\n"
     ]
    },
    {
     "name": "stdout",
     "output_type": "stream",
     "text": [
      "MEAN TRAIN:  0.5352404983854063\n",
      "MEAN VALIDATION:  0.38784877263465056\n",
      "MEAN TEST 0.48369473208596003\n"
     ]
    },
    {
     "name": "stderr",
     "output_type": "stream",
     "text": [
      "\u001b[32m[I 2022-01-26 13:07:59,218]\u001b[0m Trial 747 finished with value: 0.5159875915747834 and parameters: {'rf_max_depth': 124, 'rf_min_samples_leaf': 13, 'min_samples_split': 13, 'rf_estimators': 143, 'rf_max_feats': 0.3225188904239183}. Best is trial 539 with value: 0.5642706316233468.\u001b[0m\n"
     ]
    },
    {
     "name": "stdout",
     "output_type": "stream",
     "text": [
      "MEAN TRAIN:  0.6352085454177921\n",
      "MEAN VALIDATION:  0.42464788001667947\n",
      "MEAN TEST 0.5159875915747834\n"
     ]
    },
    {
     "name": "stderr",
     "output_type": "stream",
     "text": [
      "\u001b[32m[I 2022-01-26 13:07:59,462]\u001b[0m Trial 755 finished with value: 0.5216537403716424 and parameters: {'rf_max_depth': 117, 'rf_min_samples_leaf': 7, 'min_samples_split': 25, 'rf_estimators': 64, 'rf_max_feats': 0.30544307143426497}. Best is trial 539 with value: 0.5642706316233468.\u001b[0m\n"
     ]
    },
    {
     "name": "stdout",
     "output_type": "stream",
     "text": [
      "MEAN TRAIN:  0.6793166505148924\n",
      "MEAN VALIDATION:  0.44104399212249684\n",
      "MEAN TEST 0.5216537403716424\n"
     ]
    },
    {
     "name": "stderr",
     "output_type": "stream",
     "text": [
      "\u001b[32m[I 2022-01-26 13:08:01,895]\u001b[0m Trial 758 finished with value: 0.45645552713944715 and parameters: {'rf_max_depth': 5, 'rf_min_samples_leaf': 34, 'min_samples_split': 34, 'rf_estimators': 86, 'rf_max_feats': 0.29526048006823363}. Best is trial 539 with value: 0.5642706316233468.\u001b[0m\n"
     ]
    },
    {
     "name": "stdout",
     "output_type": "stream",
     "text": [
      "MEAN TRAIN:  0.4756070923210915\n",
      "MEAN VALIDATION:  0.3554306076369529\n",
      "MEAN TEST 0.45645552713944715\n"
     ]
    },
    {
     "name": "stderr",
     "output_type": "stream",
     "text": [
      "\u001b[32m[I 2022-01-26 13:08:07,870]\u001b[0m Trial 759 finished with value: 0.4944396597308794 and parameters: {'rf_max_depth': 117, 'rf_min_samples_leaf': 1, 'min_samples_split': 63, 'rf_estimators': 86, 'rf_max_feats': 0.30544307143426497}. Best is trial 539 with value: 0.5642706316233468.\u001b[0m\n"
     ]
    },
    {
     "name": "stdout",
     "output_type": "stream",
     "text": [
      "MEAN TRAIN:  0.6079110807190207\n",
      "MEAN VALIDATION:  0.4111971232441146\n",
      "MEAN TEST 0.4944396597308794\n"
     ]
    },
    {
     "name": "stderr",
     "output_type": "stream",
     "text": [
      "\u001b[32m[I 2022-01-26 13:08:09,521]\u001b[0m Trial 757 finished with value: 0.5120040980406693 and parameters: {'rf_max_depth': 57, 'rf_min_samples_leaf': 12, 'min_samples_split': 2, 'rf_estimators': 121, 'rf_max_feats': 0.29526048006823363}. Best is trial 539 with value: 0.5642706316233468.\u001b[0m\n"
     ]
    },
    {
     "name": "stdout",
     "output_type": "stream",
     "text": [
      "MEAN TRAIN:  0.6453096806454567\n",
      "MEAN VALIDATION:  0.4288586155911969\n",
      "MEAN TEST 0.5120040980406693\n"
     ]
    },
    {
     "name": "stderr",
     "output_type": "stream",
     "text": [
      "\u001b[32m[I 2022-01-26 13:08:10,347]\u001b[0m Trial 765 finished with value: 0.441647599098426 and parameters: {'rf_max_depth': 95, 'rf_min_samples_leaf': 19, 'min_samples_split': 18, 'rf_estimators': 5, 'rf_max_feats': 0.21188644687084365}. Best is trial 539 with value: 0.5642706316233468.\u001b[0m\n"
     ]
    },
    {
     "name": "stdout",
     "output_type": "stream",
     "text": [
      "MEAN TRAIN:  0.5261854123008803\n",
      "MEAN VALIDATION:  0.3791718499729198\n",
      "MEAN TEST 0.441647599098426\n"
     ]
    },
    {
     "name": "stderr",
     "output_type": "stream",
     "text": [
      "\u001b[32m[I 2022-01-26 13:08:11,679]\u001b[0m Trial 762 finished with value: 0.49282222848256224 and parameters: {'rf_max_depth': 7, 'rf_min_samples_leaf': 7, 'min_samples_split': 50, 'rf_estimators': 79, 'rf_max_feats': 0.24823792777759626}. Best is trial 539 with value: 0.5642706316233468.\u001b[0m\n"
     ]
    },
    {
     "name": "stdout",
     "output_type": "stream",
     "text": [
      "MEAN TRAIN:  0.5854520565613354\n",
      "MEAN VALIDATION:  0.4028663166851917\n",
      "MEAN TEST 0.49282222848256224\n"
     ]
    },
    {
     "name": "stderr",
     "output_type": "stream",
     "text": [
      "\u001b[32m[I 2022-01-26 13:08:13,141]\u001b[0m Trial 764 finished with value: 0.3937864046822317 and parameters: {'rf_max_depth': 93, 'rf_min_samples_leaf': 60, 'min_samples_split': 99, 'rf_estimators': 79, 'rf_max_feats': 0.1582130310692979}. Best is trial 539 with value: 0.5642706316233468.\u001b[0m\n"
     ]
    },
    {
     "name": "stdout",
     "output_type": "stream",
     "text": [
      "MEAN TRAIN:  0.36992334728820675\n",
      "MEAN VALIDATION:  0.2921942711198625\n",
      "MEAN TEST 0.3937864046822317\n"
     ]
    },
    {
     "name": "stderr",
     "output_type": "stream",
     "text": [
      "\u001b[32m[I 2022-01-26 13:08:13,796]\u001b[0m Trial 763 finished with value: 0.4987608785694658 and parameters: {'rf_max_depth': 76, 'rf_min_samples_leaf': 5, 'min_samples_split': 42, 'rf_estimators': 104, 'rf_max_feats': 0.14684367747319815}. Best is trial 539 with value: 0.5642706316233468.\u001b[0m\n"
     ]
    },
    {
     "name": "stdout",
     "output_type": "stream",
     "text": [
      "MEAN TRAIN:  0.6157253844638018\n",
      "MEAN VALIDATION:  0.4166466762394734\n",
      "MEAN TEST 0.4987608785694658\n"
     ]
    },
    {
     "name": "stderr",
     "output_type": "stream",
     "text": [
      "\u001b[32m[I 2022-01-26 13:08:18,729]\u001b[0m Trial 767 finished with value: 0.47338641796800074 and parameters: {'rf_max_depth': 27, 'rf_min_samples_leaf': 13, 'min_samples_split': 58, 'rf_estimators': 78, 'rf_max_feats': 0.1214290143650878}. Best is trial 539 with value: 0.5642706316233468.\u001b[0m\n"
     ]
    },
    {
     "name": "stdout",
     "output_type": "stream",
     "text": [
      "MEAN TRAIN:  0.5181171196558862\n",
      "MEAN VALIDATION:  0.38589894666744884\n",
      "MEAN TEST 0.47338641796800074\n"
     ]
    },
    {
     "name": "stderr",
     "output_type": "stream",
     "text": [
      "\u001b[32m[I 2022-01-26 13:08:23,074]\u001b[0m Trial 760 finished with value: 0.5043124989855041 and parameters: {'rf_max_depth': 51, 'rf_min_samples_leaf': 15, 'min_samples_split': 25, 'rf_estimators': 132, 'rf_max_feats': 0.28229458209363234}. Best is trial 539 with value: 0.5642706316233468.\u001b[0m\n"
     ]
    },
    {
     "name": "stdout",
     "output_type": "stream",
     "text": [
      "MEAN TRAIN:  0.6064414347969239\n",
      "MEAN VALIDATION:  0.41711122074390816\n",
      "MEAN TEST 0.5043124989855041\n"
     ]
    },
    {
     "name": "stderr",
     "output_type": "stream",
     "text": [
      "\u001b[32m[I 2022-01-26 13:08:25,729]\u001b[0m Trial 766 finished with value: 0.4208770617752666 and parameters: {'rf_max_depth': 80, 'rf_min_samples_leaf': 1, 'min_samples_split': 127, 'rf_estimators': 124, 'rf_max_feats': 0.3044405652310468}. Best is trial 539 with value: 0.5642706316233468.\u001b[0m\n",
      "\u001b[32m[I 2022-01-26 13:08:25,852]\u001b[0m Trial 768 finished with value: 0.4869221096690815 and parameters: {'rf_max_depth': 23, 'rf_min_samples_leaf': 9, 'min_samples_split': 55, 'rf_estimators': 78, 'rf_max_feats': 0.24823792777759626}. Best is trial 539 with value: 0.5642706316233468.\u001b[0m\n"
     ]
    },
    {
     "name": "stdout",
     "output_type": "stream",
     "text": [
      "MEAN TRAIN:  0.41826867476638546\n",
      "MEAN VALIDATION:  0.315881775557039\n",
      "MEAN TEST 0.4208770617752666\n",
      "MEAN TRAIN:  0.5604626170043039\n",
      "MEAN VALIDATION:  0.39852018053695126\n",
      "MEAN TEST 0.4869221096690815\n"
     ]
    },
    {
     "name": "stderr",
     "output_type": "stream",
     "text": [
      "\u001b[32m[I 2022-01-26 13:08:26,363]\u001b[0m Trial 761 finished with value: 0.5612642697301374 and parameters: {'rf_max_depth': 80, 'rf_min_samples_leaf': 1, 'min_samples_split': 12, 'rf_estimators': 88, 'rf_max_feats': 0.2693556080076496}. Best is trial 539 with value: 0.5642706316233468.\u001b[0m\n"
     ]
    },
    {
     "name": "stdout",
     "output_type": "stream",
     "text": [
      "MEAN TRAIN:  0.8542545666346288\n",
      "MEAN VALIDATION:  0.4886439801529857\n",
      "MEAN TEST 0.5612642697301374\n"
     ]
    },
    {
     "name": "stderr",
     "output_type": "stream",
     "text": [
      "\u001b[32m[I 2022-01-26 13:08:26,806]\u001b[0m Trial 770 finished with value: 0.461556539843272 and parameters: {'rf_max_depth': 143, 'rf_min_samples_leaf': 8, 'min_samples_split': 83, 'rf_estimators': 68, 'rf_max_feats': 0.20429560850527193}. Best is trial 539 with value: 0.5642706316233468.\u001b[0m\n"
     ]
    },
    {
     "name": "stdout",
     "output_type": "stream",
     "text": [
      "MEAN TRAIN:  0.491200134150857\n",
      "MEAN VALIDATION:  0.3583812017100869\n",
      "MEAN TEST 0.461556539843272\n"
     ]
    },
    {
     "name": "stderr",
     "output_type": "stream",
     "text": [
      "\u001b[32m[I 2022-01-26 13:08:34,061]\u001b[0m Trial 774 finished with value: 0.390817456875 and parameters: {'rf_max_depth': 138, 'rf_min_samples_leaf': 67, 'min_samples_split': 142, 'rf_estimators': 58, 'rf_max_feats': 0.37035522298663875}. Best is trial 539 with value: 0.5642706316233468.\u001b[0m\n"
     ]
    },
    {
     "name": "stdout",
     "output_type": "stream",
     "text": [
      "MEAN TRAIN:  0.36095946660112344\n",
      "MEAN VALIDATION:  0.2828907967937101\n",
      "MEAN TEST 0.390817456875\n"
     ]
    },
    {
     "name": "stderr",
     "output_type": "stream",
     "text": [
      "\u001b[32m[I 2022-01-26 13:08:35,967]\u001b[0m Trial 771 finished with value: 0.47783134224913226 and parameters: {'rf_max_depth': 93, 'rf_min_samples_leaf': 19, 'min_samples_split': 3, 'rf_estimators': 102, 'rf_max_feats': 0.14747463459583157}. Best is trial 539 with value: 0.5642706316233468.\u001b[0m\n"
     ]
    },
    {
     "name": "stdout",
     "output_type": "stream",
     "text": [
      "MEAN TRAIN:  0.5465850856078627\n",
      "MEAN VALIDATION:  0.3876574968915654\n",
      "MEAN TEST 0.47783134224913226\n"
     ]
    },
    {
     "name": "stderr",
     "output_type": "stream",
     "text": [
      "\u001b[32m[I 2022-01-26 13:08:37,265]\u001b[0m Trial 773 finished with value: 0.4568164170031429 and parameters: {'rf_max_depth': 63, 'rf_min_samples_leaf': 5, 'min_samples_split': 79, 'rf_estimators': 131, 'rf_max_feats': 0.10182948146530015}. Best is trial 539 with value: 0.5642706316233468.\u001b[0m\n"
     ]
    },
    {
     "name": "stdout",
     "output_type": "stream",
     "text": [
      "MEAN TRAIN:  0.49694088114482166\n",
      "MEAN VALIDATION:  0.3688750273387349\n",
      "MEAN TEST 0.4568164170031429\n"
     ]
    },
    {
     "name": "stderr",
     "output_type": "stream",
     "text": [
      "\u001b[32m[I 2022-01-26 13:08:38,138]\u001b[0m Trial 772 finished with value: 0.47455548052901514 and parameters: {'rf_max_depth': 79, 'rf_min_samples_leaf': 9, 'min_samples_split': 58, 'rf_estimators': 112, 'rf_max_feats': 0.1214290143650878}. Best is trial 539 with value: 0.5642706316233468.\u001b[0m\n"
     ]
    },
    {
     "name": "stdout",
     "output_type": "stream",
     "text": [
      "MEAN TRAIN:  0.5349622233657978\n",
      "MEAN VALIDATION:  0.3786597765481455\n",
      "MEAN TEST 0.47455548052901514\n"
     ]
    },
    {
     "name": "stderr",
     "output_type": "stream",
     "text": [
      "\u001b[32m[I 2022-01-26 13:08:41,462]\u001b[0m Trial 769 finished with value: 0.4751229446447038 and parameters: {'rf_max_depth': 117, 'rf_min_samples_leaf': 9, 'min_samples_split': 72, 'rf_estimators': 143, 'rf_max_feats': 0.33320852781882665}. Best is trial 539 with value: 0.5642706316233468.\u001b[0m\n"
     ]
    },
    {
     "name": "stdout",
     "output_type": "stream",
     "text": [
      "MEAN TRAIN:  0.5247522821281952\n",
      "MEAN VALIDATION:  0.38732930466130633\n",
      "MEAN TEST 0.4751229446447038\n"
     ]
    },
    {
     "name": "stderr",
     "output_type": "stream",
     "text": [
      "\u001b[32m[I 2022-01-26 13:08:42,591]\u001b[0m Trial 776 finished with value: 0.4497683533703169 and parameters: {'rf_max_depth': 105, 'rf_min_samples_leaf': 16, 'min_samples_split': 73, 'rf_estimators': 81, 'rf_max_feats': 0.1515093753548118}. Best is trial 539 with value: 0.5642706316233468.\u001b[0m\n"
     ]
    },
    {
     "name": "stdout",
     "output_type": "stream",
     "text": [
      "MEAN TRAIN:  0.4853302323088453\n",
      "MEAN VALIDATION:  0.36510407476495843\n",
      "MEAN TEST 0.4497683533703169\n"
     ]
    },
    {
     "name": "stderr",
     "output_type": "stream",
     "text": [
      "\u001b[32m[I 2022-01-26 13:08:45,517]\u001b[0m Trial 780 finished with value: 0.5266413843390296 and parameters: {'rf_max_depth': 99, 'rf_min_samples_leaf': 4, 'min_samples_split': 7, 'rf_estimators': 25, 'rf_max_feats': 0.10665860038712986}. Best is trial 539 with value: 0.5642706316233468.\u001b[0m\n"
     ]
    },
    {
     "name": "stdout",
     "output_type": "stream",
     "text": [
      "MEAN TRAIN:  0.7925017471789103\n",
      "MEAN VALIDATION:  0.46464017543292135\n",
      "MEAN TEST 0.5266413843390296\n"
     ]
    },
    {
     "name": "stderr",
     "output_type": "stream",
     "text": [
      "\u001b[32m[I 2022-01-26 13:08:49,857]\u001b[0m Trial 779 finished with value: 0.4800658614504929 and parameters: {'rf_max_depth': 73, 'rf_min_samples_leaf': 19, 'min_samples_split': 44, 'rf_estimators': 74, 'rf_max_feats': 0.22000880072602988}. Best is trial 539 with value: 0.5642706316233468.\u001b[0m\n",
      "\u001b[32m[I 2022-01-26 13:08:50,040]\u001b[0m Trial 782 finished with value: 0.5297281674575294 and parameters: {'rf_max_depth': 80, 'rf_min_samples_leaf': 1, 'min_samples_split': 14, 'rf_estimators': 12, 'rf_max_feats': 0.2653094332342102}. Best is trial 539 with value: 0.5642706316233468.\u001b[0m\n"
     ]
    },
    {
     "name": "stdout",
     "output_type": "stream",
     "text": [
      "MEAN TRAIN:  0.5466800118434383\n",
      "MEAN VALIDATION:  0.38634462194437563\n",
      "MEAN TEST 0.4800658614504929\n",
      "MEAN TRAIN:  0.822807170766317\n",
      "MEAN VALIDATION:  0.4715473247566506\n",
      "MEAN TEST 0.5297281674575294\n"
     ]
    },
    {
     "name": "stderr",
     "output_type": "stream",
     "text": [
      "\u001b[32m[I 2022-01-26 13:08:52,412]\u001b[0m Trial 775 finished with value: 0.48168763262457004 and parameters: {'rf_max_depth': 98, 'rf_min_samples_leaf': 19, 'min_samples_split': 47, 'rf_estimators': 139, 'rf_max_feats': 0.26130711509354204}. Best is trial 539 with value: 0.5642706316233468.\u001b[0m\n"
     ]
    },
    {
     "name": "stdout",
     "output_type": "stream",
     "text": [
      "MEAN TRAIN:  0.5469905151164485\n",
      "MEAN VALIDATION:  0.3910587017664743\n",
      "MEAN TEST 0.48168763262457004\n"
     ]
    },
    {
     "name": "stderr",
     "output_type": "stream",
     "text": [
      "\u001b[32m[I 2022-01-26 13:08:54,742]\u001b[0m Trial 783 finished with value: 0.48131547520267154 and parameters: {'rf_max_depth': 63, 'rf_min_samples_leaf': 19, 'min_samples_split': 2, 'rf_estimators': 28, 'rf_max_feats': 0.21898454056865116}. Best is trial 539 with value: 0.5642706316233468.\u001b[0m\n"
     ]
    },
    {
     "name": "stdout",
     "output_type": "stream",
     "text": [
      "MEAN TRAIN:  0.5556350636870432\n",
      "MEAN VALIDATION:  0.3919132875578931\n",
      "MEAN TEST 0.48131547520267154\n"
     ]
    },
    {
     "name": "stderr",
     "output_type": "stream",
     "text": [
      "\u001b[32m[I 2022-01-26 13:08:58,648]\u001b[0m Trial 786 finished with value: 0.511142439640772 and parameters: {'rf_max_depth': 71, 'rf_min_samples_leaf': 9, 'min_samples_split': 18, 'rf_estimators': 21, 'rf_max_feats': 0.22871422589729562}. Best is trial 539 with value: 0.5642706316233468.\u001b[0m\n"
     ]
    },
    {
     "name": "stdout",
     "output_type": "stream",
     "text": [
      "MEAN TRAIN:  0.6783852405825153\n",
      "MEAN VALIDATION:  0.43017423380752656\n",
      "MEAN TEST 0.511142439640772\n"
     ]
    },
    {
     "name": "stderr",
     "output_type": "stream",
     "text": [
      "\u001b[32m[I 2022-01-26 13:09:01,737]\u001b[0m Trial 784 finished with value: 0.38397305649699903 and parameters: {'rf_max_depth': 19, 'rf_min_samples_leaf': 76, 'min_samples_split': 79, 'rf_estimators': 128, 'rf_max_feats': 0.29526048006823363}. Best is trial 539 with value: 0.5642706316233468.\u001b[0m\n",
      "\u001b[32m[I 2022-01-26 13:09:01,912]\u001b[0m Trial 777 finished with value: 0.4754797434450751 and parameters: {'rf_max_depth': 137, 'rf_min_samples_leaf': 20, 'min_samples_split': 58, 'rf_estimators': 142, 'rf_max_feats': 0.3136701879008911}. Best is trial 539 with value: 0.5642706316233468.\u001b[0m\n"
     ]
    },
    {
     "name": "stdout",
     "output_type": "stream",
     "text": [
      "MEAN TRAIN:  0.348966143391707\n",
      "MEAN VALIDATION:  0.277756509943688\n",
      "MEAN TEST 0.38397305649699903\n",
      "MEAN TRAIN:  0.5227262556778769\n",
      "MEAN VALIDATION:  0.3800846966126262\n",
      "MEAN TEST 0.4754797434450751\n"
     ]
    },
    {
     "name": "stderr",
     "output_type": "stream",
     "text": [
      "\u001b[32m[I 2022-01-26 13:09:05,616]\u001b[0m Trial 788 finished with value: 0.501206273751643 and parameters: {'rf_max_depth': 46, 'rf_min_samples_leaf': 9, 'min_samples_split': 7, 'rf_estimators': 25, 'rf_max_feats': 0.19413162457208868}. Best is trial 539 with value: 0.5642706316233468.\u001b[0m\n"
     ]
    },
    {
     "name": "stdout",
     "output_type": "stream",
     "text": [
      "MEAN TRAIN:  0.6751459578533214\n",
      "MEAN VALIDATION:  0.43565211036006735\n",
      "MEAN TEST 0.501206273751643\n"
     ]
    },
    {
     "name": "stderr",
     "output_type": "stream",
     "text": [
      "\u001b[32m[I 2022-01-26 13:09:07,771]\u001b[0m Trial 785 finished with value: 0.4878633576382111 and parameters: {'rf_max_depth': 27, 'rf_min_samples_leaf': 19, 'min_samples_split': 9, 'rf_estimators': 112, 'rf_max_feats': 0.21898454056865116}. Best is trial 539 with value: 0.5642706316233468.\u001b[0m\n"
     ]
    },
    {
     "name": "stdout",
     "output_type": "stream",
     "text": [
      "MEAN TRAIN:  0.5610155291906879\n",
      "MEAN VALIDATION:  0.39420409551564994\n",
      "MEAN TEST 0.4878633576382111\n"
     ]
    },
    {
     "name": "stderr",
     "output_type": "stream",
     "text": [
      "\u001b[32m[I 2022-01-26 13:09:10,024]\u001b[0m Trial 781 finished with value: 0.529859226366788 and parameters: {'rf_max_depth': 117, 'rf_min_samples_leaf': 8, 'min_samples_split': 4, 'rf_estimators': 136, 'rf_max_feats': 0.22703744150321095}. Best is trial 539 with value: 0.5642706316233468.\u001b[0m\n",
      "\u001b[32m[I 2022-01-26 13:09:10,169]\u001b[0m Trial 787 finished with value: 0.45901609098454027 and parameters: {'rf_max_depth': 60, 'rf_min_samples_leaf': 21, 'min_samples_split': 73, 'rf_estimators': 88, 'rf_max_feats': 0.28229458209363234}. Best is trial 539 with value: 0.5642706316233468.\u001b[0m\n"
     ]
    },
    {
     "name": "stdout",
     "output_type": "stream",
     "text": [
      "MEAN TRAIN:  0.7082026867353358\n",
      "MEAN VALIDATION:  0.4453646558870708\n",
      "MEAN TEST 0.529859226366788\n",
      "MEAN TRAIN:  0.4899851344194589\n",
      "MEAN VALIDATION:  0.3608672325794952\n",
      "MEAN TEST 0.45901609098454027\n"
     ]
    },
    {
     "name": "stderr",
     "output_type": "stream",
     "text": [
      "\u001b[32m[I 2022-01-26 13:09:15,659]\u001b[0m Trial 791 finished with value: 0.40152831866766076 and parameters: {'rf_max_depth': 93, 'rf_min_samples_leaf': 3, 'min_samples_split': 138, 'rf_estimators': 124, 'rf_max_feats': 0.14684367747319815}. Best is trial 539 with value: 0.5642706316233468.\u001b[0m\n"
     ]
    },
    {
     "name": "stdout",
     "output_type": "stream",
     "text": [
      "MEAN TRAIN:  0.3885092657722241\n",
      "MEAN VALIDATION:  0.30466096993832437\n",
      "MEAN TEST 0.40152831866766076\n"
     ]
    },
    {
     "name": "stderr",
     "output_type": "stream",
     "text": [
      "\u001b[32m[I 2022-01-26 13:09:20,860]\u001b[0m Trial 793 finished with value: 0.5097281101345928 and parameters: {'rf_max_depth': 84, 'rf_min_samples_leaf': 9, 'min_samples_split': 14, 'rf_estimators': 95, 'rf_max_feats': 0.10713541449559455}. Best is trial 539 with value: 0.5642706316233468.\u001b[0m\n"
     ]
    },
    {
     "name": "stdout",
     "output_type": "stream",
     "text": [
      "MEAN TRAIN:  0.6642838792156606\n",
      "MEAN VALIDATION:  0.4398395876893268\n",
      "MEAN TEST 0.5097281101345928\n"
     ]
    },
    {
     "name": "stderr",
     "output_type": "stream",
     "text": [
      "\u001b[32m[I 2022-01-26 13:09:21,184]\u001b[0m Trial 778 finished with value: 0.5549586562158316 and parameters: {'rf_max_depth': 117, 'rf_min_samples_leaf': 1, 'min_samples_split': 16, 'rf_estimators': 131, 'rf_max_feats': 0.3049860790226595}. Best is trial 539 with value: 0.5642706316233468.\u001b[0m\n"
     ]
    },
    {
     "name": "stdout",
     "output_type": "stream",
     "text": [
      "MEAN TRAIN:  0.8299834467764189\n",
      "MEAN VALIDATION:  0.4840175713165298\n",
      "MEAN TEST 0.5549586562158316\n"
     ]
    },
    {
     "name": "stderr",
     "output_type": "stream",
     "text": [
      "\u001b[32m[I 2022-01-26 13:09:22,072]\u001b[0m Trial 792 finished with value: 0.4731273779231035 and parameters: {'rf_max_depth': 128, 'rf_min_samples_leaf': 20, 'min_samples_split': 7, 'rf_estimators': 142, 'rf_max_feats': 0.1036502377395946}. Best is trial 539 with value: 0.5642706316233468.\u001b[0m\n"
     ]
    },
    {
     "name": "stdout",
     "output_type": "stream",
     "text": [
      "MEAN TRAIN:  0.5304714305042368\n",
      "MEAN VALIDATION:  0.3793890044511538\n",
      "MEAN TEST 0.4731273779231035\n"
     ]
    },
    {
     "name": "stderr",
     "output_type": "stream",
     "text": [
      "\u001b[32m[I 2022-01-26 13:09:24,518]\u001b[0m Trial 794 finished with value: 0.47144963597681944 and parameters: {'rf_max_depth': 113, 'rf_min_samples_leaf': 21, 'min_samples_split': 53, 'rf_estimators': 74, 'rf_max_feats': 0.17931782045014238}. Best is trial 539 with value: 0.5642706316233468.\u001b[0m\n"
     ]
    },
    {
     "name": "stdout",
     "output_type": "stream",
     "text": [
      "MEAN TRAIN:  0.5192227036304013\n",
      "MEAN VALIDATION:  0.3773084950883278\n",
      "MEAN TEST 0.47144963597681944\n"
     ]
    },
    {
     "name": "stderr",
     "output_type": "stream",
     "text": [
      "\u001b[32m[I 2022-01-26 13:09:25,865]\u001b[0m Trial 789 finished with value: 0.49246435662757226 and parameters: {'rf_max_depth': 28, 'rf_min_samples_leaf': 19, 'min_samples_split': 12, 'rf_estimators': 132, 'rf_max_feats': 0.3037609047432277}. Best is trial 539 with value: 0.5642706316233468.\u001b[0m\n"
     ]
    },
    {
     "name": "stdout",
     "output_type": "stream",
     "text": [
      "MEAN TRAIN:  0.5701013587552188\n",
      "MEAN VALIDATION:  0.40356471842775193\n",
      "MEAN TEST 0.49246435662757226\n"
     ]
    },
    {
     "name": "stderr",
     "output_type": "stream",
     "text": [
      "\u001b[32m[I 2022-01-26 13:09:26,725]\u001b[0m Trial 795 finished with value: 0.4711268400632312 and parameters: {'rf_max_depth': 143, 'rf_min_samples_leaf': 9, 'min_samples_split': 65, 'rf_estimators': 64, 'rf_max_feats': 0.1251969128915489}. Best is trial 539 with value: 0.5642706316233468.\u001b[0m\n"
     ]
    },
    {
     "name": "stdout",
     "output_type": "stream",
     "text": [
      "MEAN TRAIN:  0.514452198656367\n",
      "MEAN VALIDATION:  0.38277714411358865\n",
      "MEAN TEST 0.4711268400632312\n"
     ]
    },
    {
     "name": "stderr",
     "output_type": "stream",
     "text": [
      "\u001b[32m[I 2022-01-26 13:09:27,969]\u001b[0m Trial 790 finished with value: 0.46994826193961786 and parameters: {'rf_max_depth': 139, 'rf_min_samples_leaf': 21, 'min_samples_split': 63, 'rf_estimators': 140, 'rf_max_feats': 0.30544307143426497}. Best is trial 539 with value: 0.5642706316233468.\u001b[0m\n"
     ]
    },
    {
     "name": "stdout",
     "output_type": "stream",
     "text": [
      "MEAN TRAIN:  0.5100304236521009\n",
      "MEAN VALIDATION:  0.37315758672314586\n",
      "MEAN TEST 0.46994826193961786\n"
     ]
    },
    {
     "name": "stderr",
     "output_type": "stream",
     "text": [
      "\u001b[32m[I 2022-01-26 13:09:29,433]\u001b[0m Trial 797 finished with value: 0.4967848937203764 and parameters: {'rf_max_depth': 129, 'rf_min_samples_leaf': 8, 'min_samples_split': 47, 'rf_estimators': 39, 'rf_max_feats': 0.2748305490716357}. Best is trial 539 with value: 0.5642706316233468.\u001b[0m\n"
     ]
    },
    {
     "name": "stdout",
     "output_type": "stream",
     "text": [
      "MEAN TRAIN:  0.5868030744093754\n",
      "MEAN VALIDATION:  0.401039130343964\n",
      "MEAN TEST 0.4967848937203764\n"
     ]
    },
    {
     "name": "stderr",
     "output_type": "stream",
     "text": [
      "\u001b[32m[I 2022-01-26 13:09:33,550]\u001b[0m Trial 798 finished with value: 0.4900124297454944 and parameters: {'rf_max_depth': 38, 'rf_min_samples_leaf': 7, 'min_samples_split': 50, 'rf_estimators': 79, 'rf_max_feats': 0.14684367747319815}. Best is trial 539 with value: 0.5642706316233468.\u001b[0m\n",
      "\u001b[32m[I 2022-01-26 13:09:33,709]\u001b[0m Trial 801 finished with value: 0.45767080974943547 and parameters: {'rf_max_depth': 98, 'rf_min_samples_leaf': 24, 'min_samples_split': 58, 'rf_estimators': 69, 'rf_max_feats': 0.1214290143650878}. Best is trial 539 with value: 0.5642706316233468.\u001b[0m\n"
     ]
    },
    {
     "name": "stdout",
     "output_type": "stream",
     "text": [
      "MEAN TRAIN:  0.5736409411852277\n",
      "MEAN VALIDATION:  0.40370213968408153\n",
      "MEAN TEST 0.4900124297454944\n",
      "MEAN TRAIN:  0.49074055028171293\n",
      "MEAN VALIDATION:  0.36587001831422483\n",
      "MEAN TEST 0.45767080974943547\n"
     ]
    },
    {
     "name": "stderr",
     "output_type": "stream",
     "text": [
      "\u001b[32m[I 2022-01-26 13:09:34,777]\u001b[0m Trial 800 finished with value: 0.5138437189300751 and parameters: {'rf_max_depth': 129, 'rf_min_samples_leaf': 8, 'min_samples_split': 4, 'rf_estimators': 64, 'rf_max_feats': 0.12365405863523858}. Best is trial 539 with value: 0.5642706316233468.\u001b[0m\n"
     ]
    },
    {
     "name": "stdout",
     "output_type": "stream",
     "text": [
      "MEAN TRAIN:  0.6906287535741015\n",
      "MEAN VALIDATION:  0.43733699986398944\n",
      "MEAN TEST 0.5138437189300751\n"
     ]
    },
    {
     "name": "stderr",
     "output_type": "stream",
     "text": [
      "\u001b[32m[I 2022-01-26 13:09:40,812]\u001b[0m Trial 796 finished with value: 0.47646654433811814 and parameters: {'rf_max_depth': 117, 'rf_min_samples_leaf': 1, 'min_samples_split': 80, 'rf_estimators': 112, 'rf_max_feats': 0.30544307143426497}. Best is trial 539 with value: 0.5642706316233468.\u001b[0m\n"
     ]
    },
    {
     "name": "stdout",
     "output_type": "stream",
     "text": [
      "MEAN TRAIN:  0.549140278444225\n",
      "MEAN VALIDATION:  0.3889134136894327\n",
      "MEAN TEST 0.47646654433811814\n"
     ]
    },
    {
     "name": "stderr",
     "output_type": "stream",
     "text": [
      "\u001b[32m[I 2022-01-26 13:09:44,320]\u001b[0m Trial 803 finished with value: 0.5094875855054202 and parameters: {'rf_max_depth': 114, 'rf_min_samples_leaf': 8, 'min_samples_split': 33, 'rf_estimators': 64, 'rf_max_feats': 0.240531876313841}. Best is trial 539 with value: 0.5642706316233468.\u001b[0m\n"
     ]
    },
    {
     "name": "stdout",
     "output_type": "stream",
     "text": [
      "MEAN TRAIN:  0.6303306623396752\n",
      "MEAN VALIDATION:  0.4257987000526137\n",
      "MEAN TEST 0.5094875855054202\n"
     ]
    },
    {
     "name": "stderr",
     "output_type": "stream",
     "text": [
      "\u001b[32m[I 2022-01-26 13:09:52,803]\u001b[0m Trial 799 finished with value: 0.4890657913565531 and parameters: {'rf_max_depth': 93, 'rf_min_samples_leaf': 15, 'min_samples_split': 50, 'rf_estimators': 132, 'rf_max_feats': 0.37582284871915433}. Best is trial 539 with value: 0.5642706316233468.\u001b[0m\n"
     ]
    },
    {
     "name": "stdout",
     "output_type": "stream",
     "text": [
      "MEAN TRAIN:  0.5615725478172322\n",
      "MEAN VALIDATION:  0.3972829157161646\n",
      "MEAN TEST 0.4890657913565531\n"
     ]
    },
    {
     "name": "stderr",
     "output_type": "stream",
     "text": [
      "\u001b[32m[I 2022-01-26 13:09:53,597]\u001b[0m Trial 807 finished with value: 0.4836259482592681 and parameters: {'rf_max_depth': 143, 'rf_min_samples_leaf': 9, 'min_samples_split': 56, 'rf_estimators': 64, 'rf_max_feats': 0.24823792777759626}. Best is trial 539 with value: 0.5642706316233468.\u001b[0m\n"
     ]
    },
    {
     "name": "stdout",
     "output_type": "stream",
     "text": [
      "MEAN TRAIN:  0.5569311397046691\n",
      "MEAN VALIDATION:  0.39649682931420865\n",
      "MEAN TEST 0.4836259482592681\n"
     ]
    },
    {
     "name": "stderr",
     "output_type": "stream",
     "text": [
      "\u001b[32m[I 2022-01-26 13:09:53,800]\u001b[0m Trial 804 finished with value: 0.5464136014701391 and parameters: {'rf_max_depth': 95, 'rf_min_samples_leaf': 3, 'min_samples_split': 14, 'rf_estimators': 67, 'rf_max_feats': 0.3305207452655433}. Best is trial 539 with value: 0.5642706316233468.\u001b[0m\n"
     ]
    },
    {
     "name": "stdout",
     "output_type": "stream",
     "text": [
      "MEAN TRAIN:  0.805013464592378\n",
      "MEAN VALIDATION:  0.47748112361121525\n",
      "MEAN TEST 0.5464136014701391\n"
     ]
    },
    {
     "name": "stderr",
     "output_type": "stream",
     "text": [
      "\u001b[32m[I 2022-01-26 13:09:54,141]\u001b[0m Trial 802 finished with value: 0.4784723190158247 and parameters: {'rf_max_depth': 82, 'rf_min_samples_leaf': 6, 'min_samples_split': 72, 'rf_estimators': 143, 'rf_max_feats': 0.33320852781882665}. Best is trial 539 with value: 0.5642706316233468.\u001b[0m\n"
     ]
    },
    {
     "name": "stdout",
     "output_type": "stream",
     "text": [
      "MEAN TRAIN:  0.5387082851477365\n",
      "MEAN VALIDATION:  0.38767104710250694\n",
      "MEAN TEST 0.4784723190158247\n"
     ]
    },
    {
     "name": "stderr",
     "output_type": "stream",
     "text": [
      "\u001b[32m[I 2022-01-26 13:09:58,633]\u001b[0m Trial 805 finished with value: 0.49321032963350964 and parameters: {'rf_max_depth': 108, 'rf_min_samples_leaf': 9, 'min_samples_split': 50, 'rf_estimators': 142, 'rf_max_feats': 0.2790276694076502}. Best is trial 539 with value: 0.5642706316233468.\u001b[0m\n"
     ]
    },
    {
     "name": "stdout",
     "output_type": "stream",
     "text": [
      "MEAN TRAIN:  0.578087980478081\n",
      "MEAN VALIDATION:  0.4040996279840098\n",
      "MEAN TEST 0.49321032963350964\n"
     ]
    },
    {
     "name": "stderr",
     "output_type": "stream",
     "text": [
      "\u001b[32m[I 2022-01-26 13:10:02,910]\u001b[0m Trial 811 finished with value: 0.4555468341379173 and parameters: {'rf_max_depth': 140, 'rf_min_samples_leaf': 31, 'min_samples_split': 58, 'rf_estimators': 49, 'rf_max_feats': 0.37035522298663875}. Best is trial 539 with value: 0.5642706316233468.\u001b[0m\n"
     ]
    },
    {
     "name": "stdout",
     "output_type": "stream",
     "text": [
      "MEAN TRAIN:  0.49205068335202623\n",
      "MEAN VALIDATION:  0.3701529680499333\n",
      "MEAN TEST 0.4555468341379173\n"
     ]
    },
    {
     "name": "stderr",
     "output_type": "stream",
     "text": [
      "\u001b[32m[I 2022-01-26 13:10:04,001]\u001b[0m Trial 808 finished with value: 0.4752878917896696 and parameters: {'rf_max_depth': 102, 'rf_min_samples_leaf': 9, 'min_samples_split': 50, 'rf_estimators': 131, 'rf_max_feats': 0.10549224967303183}. Best is trial 539 with value: 0.5642706316233468.\u001b[0m\n",
      "\u001b[32m[I 2022-01-26 13:10:04,135]\u001b[0m Trial 809 finished with value: 0.4651935846023427 and parameters: {'rf_max_depth': 117, 'rf_min_samples_leaf': 18, 'min_samples_split': 63, 'rf_estimators': 86, 'rf_max_feats': 0.20985491509691936}. Best is trial 539 with value: 0.5642706316233468.\u001b[0m\n"
     ]
    },
    {
     "name": "stdout",
     "output_type": "stream",
     "text": [
      "MEAN TRAIN:  0.5510617670354482\n",
      "MEAN VALIDATION:  0.3927940734699672\n",
      "MEAN TEST 0.4752878917896696\n",
      "MEAN TRAIN:  0.5069431322277034\n",
      "MEAN VALIDATION:  0.37292734300353964\n",
      "MEAN TEST 0.4651935846023427\n"
     ]
    },
    {
     "name": "stderr",
     "output_type": "stream",
     "text": [
      "\u001b[32m[I 2022-01-26 13:10:04,370]\u001b[0m Trial 810 finished with value: 0.4797555067253508 and parameters: {'rf_max_depth': 4, 'rf_min_samples_leaf': 7, 'min_samples_split': 25, 'rf_estimators': 124, 'rf_max_feats': 0.10703427220815187}. Best is trial 539 with value: 0.5642706316233468.\u001b[0m\n",
      "\u001b[32m[I 2022-01-26 13:10:04,488]\u001b[0m Trial 806 finished with value: 0.49215927472318893 and parameters: {'rf_max_depth': 79, 'rf_min_samples_leaf': 6, 'min_samples_split': 58, 'rf_estimators': 128, 'rf_max_feats': 0.3136701879008911}. Best is trial 539 with value: 0.5642706316233468.\u001b[0m\n"
     ]
    },
    {
     "name": "stdout",
     "output_type": "stream",
     "text": [
      "MEAN TRAIN:  0.5643640503274603\n",
      "MEAN VALIDATION:  0.396864682200232\n",
      "MEAN TEST 0.4797555067253508\n",
      "MEAN TRAIN:  0.5779750585202501\n",
      "MEAN VALIDATION:  0.4072415986333505\n",
      "MEAN TEST 0.49215927472318893\n"
     ]
    },
    {
     "name": "stderr",
     "output_type": "stream",
     "text": [
      "\u001b[32m[I 2022-01-26 13:10:07,751]\u001b[0m Trial 816 finished with value: 0.38801862843996515 and parameters: {'rf_max_depth': 139, 'rf_min_samples_leaf': 60, 'min_samples_split': 63, 'rf_estimators': 63, 'rf_max_feats': 0.11529672930234706}. Best is trial 539 with value: 0.5642706316233468.\u001b[0m\n"
     ]
    },
    {
     "name": "stdout",
     "output_type": "stream",
     "text": [
      "MEAN TRAIN:  0.35906939945408944\n",
      "MEAN VALIDATION:  0.2819721276701486\n",
      "MEAN TEST 0.38801862843996515\n"
     ]
    },
    {
     "name": "stderr",
     "output_type": "stream",
     "text": [
      "\u001b[32m[I 2022-01-26 13:10:09,155]\u001b[0m Trial 812 finished with value: 0.43373586703395917 and parameters: {'rf_max_depth': 49, 'rf_min_samples_leaf': 7, 'min_samples_split': 112, 'rf_estimators': 79, 'rf_max_feats': 0.33320852781882665}. Best is trial 539 with value: 0.5642706316233468.\u001b[0m\n"
     ]
    },
    {
     "name": "stdout",
     "output_type": "stream",
     "text": [
      "MEAN TRAIN:  0.4384085113521162\n",
      "MEAN VALIDATION:  0.333067009054515\n",
      "MEAN TEST 0.43373586703395917\n"
     ]
    },
    {
     "name": "stderr",
     "output_type": "stream",
     "text": [
      "\u001b[32m[I 2022-01-26 13:10:10,176]\u001b[0m Trial 817 finished with value: 0.42027315985969177 and parameters: {'rf_max_depth': 117, 'rf_min_samples_leaf': 50, 'min_samples_split': 63, 'rf_estimators': 56, 'rf_max_feats': 0.240531876313841}. Best is trial 539 with value: 0.5642706316233468.\u001b[0m\n"
     ]
    },
    {
     "name": "stdout",
     "output_type": "stream",
     "text": [
      "MEAN TRAIN:  0.4119000652035754\n",
      "MEAN VALIDATION:  0.3232011292507838\n",
      "MEAN TEST 0.42027315985969177\n"
     ]
    },
    {
     "name": "stderr",
     "output_type": "stream",
     "text": [
      "\u001b[32m[I 2022-01-26 13:10:10,707]\u001b[0m Trial 814 finished with value: 0.4432668473683673 and parameters: {'rf_max_depth': 143, 'rf_min_samples_leaf': 8, 'min_samples_split': 99, 'rf_estimators': 64, 'rf_max_feats': 0.19337332801595083}. Best is trial 539 with value: 0.5642706316233468.\u001b[0m\n"
     ]
    },
    {
     "name": "stdout",
     "output_type": "stream",
     "text": [
      "MEAN TRAIN:  0.457411108990867\n",
      "MEAN VALIDATION:  0.3410988065003727\n",
      "MEAN TEST 0.4432668473683673\n"
     ]
    },
    {
     "name": "stderr",
     "output_type": "stream",
     "text": [
      "\u001b[32m[I 2022-01-26 13:10:13,314]\u001b[0m Trial 813 finished with value: 0.5238745006909464 and parameters: {'rf_max_depth': 102, 'rf_min_samples_leaf': 4, 'min_samples_split': 23, 'rf_estimators': 83, 'rf_max_feats': 0.10863973642353174}. Best is trial 539 with value: 0.5642706316233468.\u001b[0m\n"
     ]
    },
    {
     "name": "stdout",
     "output_type": "stream",
     "text": [
      "MEAN TRAIN:  0.7034457226594993\n",
      "MEAN VALIDATION:  0.4500095239419462\n",
      "MEAN TEST 0.5238745006909464\n"
     ]
    },
    {
     "name": "stderr",
     "output_type": "stream",
     "text": [
      "\u001b[32m[I 2022-01-26 13:10:16,938]\u001b[0m Trial 819 finished with value: 0.39933579222701476 and parameters: {'rf_max_depth': 9, 'rf_min_samples_leaf': 8, 'min_samples_split': 148, 'rf_estimators': 75, 'rf_max_feats': 0.2748305490716357}. Best is trial 539 with value: 0.5642706316233468.\u001b[0m\n"
     ]
    },
    {
     "name": "stdout",
     "output_type": "stream",
     "text": [
      "MEAN TRAIN:  0.38234663708700395\n",
      "MEAN VALIDATION:  0.2951994632075432\n",
      "MEAN TEST 0.39933579222701476\n"
     ]
    },
    {
     "name": "stderr",
     "output_type": "stream",
     "text": [
      "\u001b[32m[I 2022-01-26 13:10:17,650]\u001b[0m Trial 823 finished with value: 0.3020824898125062 and parameters: {'rf_max_depth': 38, 'rf_min_samples_leaf': 69, 'min_samples_split': 18, 'rf_estimators': 2, 'rf_max_feats': 0.21237497262445523}. Best is trial 539 with value: 0.5642706316233468.\u001b[0m\n"
     ]
    },
    {
     "name": "stdout",
     "output_type": "stream",
     "text": [
      "MEAN TRAIN:  0.3007615123988024\n",
      "MEAN VALIDATION:  0.22152382304933788\n",
      "MEAN TEST 0.3020824898125062\n"
     ]
    },
    {
     "name": "stderr",
     "output_type": "stream",
     "text": [
      "\u001b[32m[I 2022-01-26 13:10:18,169]\u001b[0m Trial 821 finished with value: 0.45171622966543784 and parameters: {'rf_max_depth': 81, 'rf_min_samples_leaf': 8, 'min_samples_split': 89, 'rf_estimators': 74, 'rf_max_feats': 0.14436763192716243}. Best is trial 539 with value: 0.5642706316233468.\u001b[0m\n"
     ]
    },
    {
     "name": "stdout",
     "output_type": "stream",
     "text": [
      "MEAN TRAIN:  0.4752746198959675\n",
      "MEAN VALIDATION:  0.35720974404820993\n",
      "MEAN TEST 0.45171622966543784\n"
     ]
    },
    {
     "name": "stderr",
     "output_type": "stream",
     "text": [
      "\u001b[32m[I 2022-01-26 13:10:23,543]\u001b[0m Trial 820 finished with value: 0.5266073775515914 and parameters: {'rf_max_depth': 46, 'rf_min_samples_leaf': 9, 'min_samples_split': 7, 'rf_estimators': 49, 'rf_max_feats': 0.33320852781882665}. Best is trial 539 with value: 0.5642706316233468.\u001b[0m\n"
     ]
    },
    {
     "name": "stdout",
     "output_type": "stream",
     "text": [
      "MEAN TRAIN:  0.7004334685863889\n",
      "MEAN VALIDATION:  0.4486656915556494\n",
      "MEAN TEST 0.5266073775515914\n"
     ]
    },
    {
     "name": "stderr",
     "output_type": "stream",
     "text": [
      "\u001b[32m[I 2022-01-26 13:10:24,928]\u001b[0m Trial 815 finished with value: 0.45955413450250465 and parameters: {'rf_max_depth': 60, 'rf_min_samples_leaf': 21, 'min_samples_split': 73, 'rf_estimators': 147, 'rf_max_feats': 0.26576065153133316}. Best is trial 539 with value: 0.5642706316233468.\u001b[0m\n"
     ]
    },
    {
     "name": "stdout",
     "output_type": "stream",
     "text": [
      "MEAN TRAIN:  0.48865286688745513\n",
      "MEAN VALIDATION:  0.3631782555742453\n",
      "MEAN TEST 0.45955413450250465\n"
     ]
    },
    {
     "name": "stderr",
     "output_type": "stream",
     "text": [
      "\u001b[32m[I 2022-01-26 13:10:27,159]\u001b[0m Trial 825 finished with value: 0.5246355265337759 and parameters: {'rf_max_depth': 124, 'rf_min_samples_leaf': 8, 'min_samples_split': 13, 'rf_estimators': 40, 'rf_max_feats': 0.26261310838608254}. Best is trial 539 with value: 0.5642706316233468.\u001b[0m\n"
     ]
    },
    {
     "name": "stdout",
     "output_type": "stream",
     "text": [
      "MEAN TRAIN:  0.7085366101192093\n",
      "MEAN VALIDATION:  0.44894195268619563\n",
      "MEAN TEST 0.5246355265337759\n"
     ]
    },
    {
     "name": "stderr",
     "output_type": "stream",
     "text": [
      "\u001b[32m[I 2022-01-26 13:10:29,421]\u001b[0m Trial 818 finished with value: 0.5326371871240445 and parameters: {'rf_max_depth': 108, 'rf_min_samples_leaf': 7, 'min_samples_split': 16, 'rf_estimators': 95, 'rf_max_feats': 0.24823792777759626}. Best is trial 539 with value: 0.5642706316233468.\u001b[0m\n"
     ]
    },
    {
     "name": "stdout",
     "output_type": "stream",
     "text": [
      "MEAN TRAIN:  0.722204553057208\n",
      "MEAN VALIDATION:  0.4559380529373497\n",
      "MEAN TEST 0.5326371871240445\n"
     ]
    },
    {
     "name": "stderr",
     "output_type": "stream",
     "text": [
      "\u001b[32m[I 2022-01-26 13:10:30,277]\u001b[0m Trial 824 finished with value: 0.5429494385325905 and parameters: {'rf_max_depth': 26, 'rf_min_samples_leaf': 3, 'min_samples_split': 10, 'rf_estimators': 74, 'rf_max_feats': 0.12046017909069932}. Best is trial 539 with value: 0.5642706316233468.\u001b[0m\n"
     ]
    },
    {
     "name": "stdout",
     "output_type": "stream",
     "text": [
      "MEAN TRAIN:  0.813323250883986\n",
      "MEAN VALIDATION:  0.4802413769701239\n",
      "MEAN TEST 0.5429494385325905\n"
     ]
    },
    {
     "name": "stderr",
     "output_type": "stream",
     "text": [
      "\u001b[32m[I 2022-01-26 13:10:31,251]\u001b[0m Trial 826 finished with value: 0.4878480572529866 and parameters: {'rf_max_depth': 99, 'rf_min_samples_leaf': 5, 'min_samples_split': 47, 'rf_estimators': 64, 'rf_max_feats': 0.12365405863523858}. Best is trial 539 with value: 0.5642706316233468.\u001b[0m\n"
     ]
    },
    {
     "name": "stdout",
     "output_type": "stream",
     "text": [
      "MEAN TRAIN:  0.5939446761188943\n",
      "MEAN VALIDATION:  0.40721430611844356\n",
      "MEAN TEST 0.4878480572529866\n"
     ]
    },
    {
     "name": "stderr",
     "output_type": "stream",
     "text": [
      "\u001b[32m[I 2022-01-26 13:10:32,770]\u001b[0m Trial 822 finished with value: 0.53478821841243 and parameters: {'rf_max_depth': 99, 'rf_min_samples_leaf': 7, 'min_samples_split': 2, 'rf_estimators': 83, 'rf_max_feats': 0.24823792777759626}. Best is trial 539 with value: 0.5642706316233468.\u001b[0m\n"
     ]
    },
    {
     "name": "stdout",
     "output_type": "stream",
     "text": [
      "MEAN TRAIN:  0.7334816728898644\n",
      "MEAN VALIDATION:  0.46315665463870176\n",
      "MEAN TEST 0.53478821841243\n"
     ]
    },
    {
     "name": "stderr",
     "output_type": "stream",
     "text": [
      "\u001b[32m[I 2022-01-26 13:10:34,215]\u001b[0m Trial 828 finished with value: 0.48312482866547646 and parameters: {'rf_max_depth': 116, 'rf_min_samples_leaf': 1, 'min_samples_split': 63, 'rf_estimators': 64, 'rf_max_feats': 0.12365405863523858}. Best is trial 539 with value: 0.5642706316233468.\u001b[0m\n"
     ]
    },
    {
     "name": "stdout",
     "output_type": "stream",
     "text": [
      "MEAN TRAIN:  0.5858257999620615\n",
      "MEAN VALIDATION:  0.3990426467972104\n",
      "MEAN TEST 0.48312482866547646\n"
     ]
    },
    {
     "name": "stderr",
     "output_type": "stream",
     "text": [
      "\u001b[32m[I 2022-01-26 13:10:40,069]\u001b[0m Trial 827 finished with value: 0.5550803875667982 and parameters: {'rf_max_depth': 80, 'rf_min_samples_leaf': 1, 'min_samples_split': 12, 'rf_estimators': 44, 'rf_max_feats': 0.3044405652310468}. Best is trial 539 with value: 0.5642706316233468.\u001b[0m\n"
     ]
    },
    {
     "name": "stdout",
     "output_type": "stream",
     "text": [
      "MEAN TRAIN:  0.8528947579655002\n",
      "MEAN VALIDATION:  0.48107598782839267\n",
      "MEAN TEST 0.5550803875667982\n"
     ]
    },
    {
     "name": "stderr",
     "output_type": "stream",
     "text": [
      "\u001b[32m[I 2022-01-26 13:10:40,729]\u001b[0m Trial 831 finished with value: 0.3819388172532752 and parameters: {'rf_max_depth': 93, 'rf_min_samples_leaf': 75, 'min_samples_split': 12, 'rf_estimators': 130, 'rf_max_feats': 0.25540386343716004}. Best is trial 539 with value: 0.5642706316233468.\u001b[0m\n"
     ]
    },
    {
     "name": "stdout",
     "output_type": "stream",
     "text": [
      "MEAN TRAIN:  0.3479811691457401\n",
      "MEAN VALIDATION:  0.2782582772932189\n",
      "MEAN TEST 0.3819388172532752\n"
     ]
    },
    {
     "name": "stderr",
     "output_type": "stream",
     "text": [
      "\u001b[32m[I 2022-01-26 13:10:43,839]\u001b[0m Trial 832 finished with value: 0.5292037153044883 and parameters: {'rf_max_depth': 108, 'rf_min_samples_leaf': 7, 'min_samples_split': 6, 'rf_estimators': 81, 'rf_max_feats': 0.1515093753548118}. Best is trial 539 with value: 0.5642706316233468.\u001b[0m\n"
     ]
    },
    {
     "name": "stdout",
     "output_type": "stream",
     "text": [
      "MEAN TRAIN:  0.717887390654567\n",
      "MEAN VALIDATION:  0.45533838302005325\n",
      "MEAN TEST 0.5292037153044883\n"
     ]
    },
    {
     "name": "stderr",
     "output_type": "stream",
     "text": [
      "\u001b[32m[I 2022-01-26 13:10:46,455]\u001b[0m Trial 835 finished with value: 0.49777387907580073 and parameters: {'rf_max_depth': 38, 'rf_min_samples_leaf': 8, 'min_samples_split': 44, 'rf_estimators': 39, 'rf_max_feats': 0.2280793748958792}. Best is trial 539 with value: 0.5642706316233468.\u001b[0m\n"
     ]
    },
    {
     "name": "stdout",
     "output_type": "stream",
     "text": [
      "MEAN TRAIN:  0.5971579994556124\n",
      "MEAN VALIDATION:  0.4113240734163123\n",
      "MEAN TEST 0.49777387907580073\n"
     ]
    },
    {
     "name": "stderr",
     "output_type": "stream",
     "text": [
      "\u001b[32m[I 2022-01-26 13:10:47,170]\u001b[0m Trial 833 finished with value: 0.5097076873628231 and parameters: {'rf_max_depth': 143, 'rf_min_samples_leaf': 14, 'min_samples_split': 4, 'rf_estimators': 64, 'rf_max_feats': 0.3305207452655433}. Best is trial 539 with value: 0.5642706316233468.\u001b[0m\n"
     ]
    },
    {
     "name": "stdout",
     "output_type": "stream",
     "text": [
      "MEAN TRAIN:  0.6184114217033643\n",
      "MEAN VALIDATION:  0.4189142033154739\n",
      "MEAN TEST 0.5097076873628231\n"
     ]
    },
    {
     "name": "stderr",
     "output_type": "stream",
     "text": [
      "\u001b[32m[I 2022-01-26 13:10:51,273]\u001b[0m Trial 836 finished with value: 0.5140515159002772 and parameters: {'rf_max_depth': 66, 'rf_min_samples_leaf': 7, 'min_samples_split': 16, 'rf_estimators': 64, 'rf_max_feats': 0.11952114487135224}. Best is trial 539 with value: 0.5642706316233468.\u001b[0m\n"
     ]
    },
    {
     "name": "stdout",
     "output_type": "stream",
     "text": [
      "MEAN TRAIN:  0.6992467661555903\n",
      "MEAN VALIDATION:  0.4400909977098294\n",
      "MEAN TEST 0.5140515159002772\n"
     ]
    },
    {
     "name": "stderr",
     "output_type": "stream",
     "text": [
      "\u001b[32m[I 2022-01-26 13:10:51,534]\u001b[0m Trial 834 finished with value: 0.5415195411689002 and parameters: {'rf_max_depth': 102, 'rf_min_samples_leaf': 1, 'min_samples_split': 18, 'rf_estimators': 87, 'rf_max_feats': 0.10665860038712986}. Best is trial 539 with value: 0.5642706316233468.\u001b[0m\n"
     ]
    },
    {
     "name": "stdout",
     "output_type": "stream",
     "text": [
      "MEAN TRAIN:  0.8040149880624584\n",
      "MEAN VALIDATION:  0.4739057662425811\n",
      "MEAN TEST 0.5415195411689002\n"
     ]
    },
    {
     "name": "stderr",
     "output_type": "stream",
     "text": [
      "\u001b[32m[I 2022-01-26 13:10:52,637]\u001b[0m Trial 837 finished with value: 0.477491972837644 and parameters: {'rf_max_depth': 96, 'rf_min_samples_leaf': 24, 'min_samples_split': 48, 'rf_estimators': 39, 'rf_max_feats': 0.3037609047432277}. Best is trial 539 with value: 0.5642706316233468.\u001b[0m\n"
     ]
    },
    {
     "name": "stdout",
     "output_type": "stream",
     "text": [
      "MEAN TRAIN:  0.5275775587285481\n",
      "MEAN VALIDATION:  0.3913147046418091\n",
      "MEAN TEST 0.477491972837644\n"
     ]
    },
    {
     "name": "stderr",
     "output_type": "stream",
     "text": [
      "\u001b[32m[I 2022-01-26 13:10:55,719]\u001b[0m Trial 840 finished with value: 0.38530137503433065 and parameters: {'rf_max_depth': 143, 'rf_min_samples_leaf': 64, 'min_samples_split': 35, 'rf_estimators': 64, 'rf_max_feats': 0.17618093022611173}. Best is trial 539 with value: 0.5642706316233468.\u001b[0m\n"
     ]
    },
    {
     "name": "stdout",
     "output_type": "stream",
     "text": [
      "MEAN TRAIN:  0.35877323409359496\n",
      "MEAN VALIDATION:  0.284003448318945\n",
      "MEAN TEST 0.38530137503433065\n"
     ]
    },
    {
     "name": "stderr",
     "output_type": "stream",
     "text": [
      "\u001b[32m[I 2022-01-26 13:10:56,323]\u001b[0m Trial 838 finished with value: 0.4785711319422573 and parameters: {'rf_max_depth': 143, 'rf_min_samples_leaf': 8, 'min_samples_split': 63, 'rf_estimators': 64, 'rf_max_feats': 0.24304507045602786}. Best is trial 539 with value: 0.5642706316233468.\u001b[0m\n"
     ]
    },
    {
     "name": "stdout",
     "output_type": "stream",
     "text": [
      "MEAN TRAIN:  0.5436291611029767\n",
      "MEAN VALIDATION:  0.38804082243528193\n",
      "MEAN TEST 0.4785711319422573\n"
     ]
    },
    {
     "name": "stderr",
     "output_type": "stream",
     "text": [
      "\u001b[32m[I 2022-01-26 13:10:57,005]\u001b[0m Trial 830 finished with value: 0.5324305383958353 and parameters: {'rf_max_depth': 99, 'rf_min_samples_leaf': 7, 'min_samples_split': 2, 'rf_estimators': 129, 'rf_max_feats': 0.24823792777759626}. Best is trial 539 with value: 0.5642706316233468.\u001b[0m\n"
     ]
    },
    {
     "name": "stdout",
     "output_type": "stream",
     "text": [
      "MEAN TRAIN:  0.7346436075434324\n",
      "MEAN VALIDATION:  0.462015600157585\n",
      "MEAN TEST 0.5324305383958353\n"
     ]
    },
    {
     "name": "stderr",
     "output_type": "stream",
     "text": [
      "\u001b[32m[I 2022-01-26 13:10:57,473]\u001b[0m Trial 842 finished with value: 0.4733386214510066 and parameters: {'rf_max_depth': 129, 'rf_min_samples_leaf': 16, 'min_samples_split': 6, 'rf_estimators': 13, 'rf_max_feats': 0.12365405863523858}. Best is trial 539 with value: 0.5642706316233468.\u001b[0m\n"
     ]
    },
    {
     "name": "stdout",
     "output_type": "stream",
     "text": [
      "MEAN TRAIN:  0.5643644789314219\n",
      "MEAN VALIDATION:  0.3927358903714094\n",
      "MEAN TEST 0.4733386214510066\n"
     ]
    },
    {
     "name": "stderr",
     "output_type": "stream",
     "text": [
      "\u001b[32m[I 2022-01-26 13:11:01,392]\u001b[0m Trial 839 finished with value: 0.4174343584914017 and parameters: {'rf_max_depth': 113, 'rf_min_samples_leaf': 45, 'min_samples_split': 18, 'rf_estimators': 143, 'rf_max_feats': 0.13479858187024568}. Best is trial 539 with value: 0.5642706316233468.\u001b[0m\n"
     ]
    },
    {
     "name": "stdout",
     "output_type": "stream",
     "text": [
      "MEAN TRAIN:  0.41568665308740443\n",
      "MEAN VALIDATION:  0.32383599617805536\n",
      "MEAN TEST 0.4174343584914017\n"
     ]
    },
    {
     "name": "stderr",
     "output_type": "stream",
     "text": [
      "\u001b[32m[I 2022-01-26 13:11:02,550]\u001b[0m Trial 829 finished with value: 0.5375309116587912 and parameters: {'rf_max_depth': 109, 'rf_min_samples_leaf': 6, 'min_samples_split': 14, 'rf_estimators': 131, 'rf_max_feats': 0.3049860790226595}. Best is trial 539 with value: 0.5642706316233468.\u001b[0m\n"
     ]
    },
    {
     "name": "stdout",
     "output_type": "stream",
     "text": [
      "MEAN TRAIN:  0.7536038834985387\n",
      "MEAN VALIDATION:  0.46890778788660353\n",
      "MEAN TEST 0.5375309116587912\n"
     ]
    },
    {
     "name": "stderr",
     "output_type": "stream",
     "text": [
      "\u001b[32m[I 2022-01-26 13:11:03,419]\u001b[0m Trial 846 finished with value: 0.5111673025158339 and parameters: {'rf_max_depth': 139, 'rf_min_samples_leaf': 3, 'min_samples_split': 14, 'rf_estimators': 12, 'rf_max_feats': 0.14436763192716243}. Best is trial 539 with value: 0.5642706316233468.\u001b[0m\n"
     ]
    },
    {
     "name": "stdout",
     "output_type": "stream",
     "text": [
      "MEAN TRAIN:  0.7694300064913822\n",
      "MEAN VALIDATION:  0.4363471368158902\n",
      "MEAN TEST 0.5111673025158339\n"
     ]
    },
    {
     "name": "stderr",
     "output_type": "stream",
     "text": [
      "\u001b[32m[I 2022-01-26 13:11:09,801]\u001b[0m Trial 844 finished with value: 0.5379942541071092 and parameters: {'rf_max_depth': 117, 'rf_min_samples_leaf': 4, 'min_samples_split': 12, 'rf_estimators': 56, 'rf_max_feats': 0.2280793748958792}. Best is trial 539 with value: 0.5642706316233468.\u001b[0m\n"
     ]
    },
    {
     "name": "stdout",
     "output_type": "stream",
     "text": [
      "MEAN TRAIN:  0.7900826130298\n",
      "MEAN VALIDATION:  0.4713729890030332\n",
      "MEAN TEST 0.5379942541071092\n"
     ]
    },
    {
     "name": "stderr",
     "output_type": "stream",
     "text": [
      "\u001b[32m[I 2022-01-26 13:11:10,159]\u001b[0m Trial 843 finished with value: 0.5216222136827929 and parameters: {'rf_max_depth': 100, 'rf_min_samples_leaf': 7, 'min_samples_split': 16, 'rf_estimators': 79, 'rf_max_feats': 0.1932425679595335}. Best is trial 539 with value: 0.5642706316233468.\u001b[0m\n"
     ]
    },
    {
     "name": "stdout",
     "output_type": "stream",
     "text": [
      "MEAN TRAIN:  0.7170868011756432\n",
      "MEAN VALIDATION:  0.45442991082565476\n",
      "MEAN TEST 0.5216222136827929\n"
     ]
    },
    {
     "name": "stderr",
     "output_type": "stream",
     "text": [
      "\u001b[32m[I 2022-01-26 13:11:10,709]\u001b[0m Trial 848 finished with value: 0.4819891737616695 and parameters: {'rf_max_depth': 145, 'rf_min_samples_leaf': 2, 'min_samples_split': 67, 'rf_estimators': 48, 'rf_max_feats': 0.22674391882371772}. Best is trial 539 with value: 0.5642706316233468.\u001b[0m\n"
     ]
    },
    {
     "name": "stdout",
     "output_type": "stream",
     "text": [
      "MEAN TRAIN:  0.5748558562395745\n",
      "MEAN VALIDATION:  0.3888748000772168\n",
      "MEAN TEST 0.4819891737616695\n"
     ]
    },
    {
     "name": "stderr",
     "output_type": "stream",
     "text": [
      "\u001b[32m[I 2022-01-26 13:11:11,545]\u001b[0m Trial 841 finished with value: 0.5268638375542072 and parameters: {'rf_max_depth': 22, 'rf_min_samples_leaf': 7, 'min_samples_split': 7, 'rf_estimators': 86, 'rf_max_feats': 0.24823792777759626}. Best is trial 539 with value: 0.5642706316233468.\u001b[0m\n"
     ]
    },
    {
     "name": "stdout",
     "output_type": "stream",
     "text": [
      "MEAN TRAIN:  0.7320682783426042\n",
      "MEAN VALIDATION:  0.4577412451272177\n",
      "MEAN TEST 0.5268638375542072\n"
     ]
    },
    {
     "name": "stderr",
     "output_type": "stream",
     "text": [
      "\u001b[32m[I 2022-01-26 13:11:14,350]\u001b[0m Trial 852 finished with value: 0.5010231434720083 and parameters: {'rf_max_depth': 78, 'rf_min_samples_leaf': 3, 'min_samples_split': 41, 'rf_estimators': 12, 'rf_max_feats': 0.2653094332342102}. Best is trial 539 with value: 0.5642706316233468.\u001b[0m\n"
     ]
    },
    {
     "name": "stdout",
     "output_type": "stream",
     "text": [
      "MEAN TRAIN:  0.664962301713989\n",
      "MEAN VALIDATION:  0.4022116641365604\n",
      "MEAN TEST 0.5010231434720083\n"
     ]
    },
    {
     "name": "stderr",
     "output_type": "stream",
     "text": [
      "\u001b[32m[I 2022-01-26 13:11:15,112]\u001b[0m Trial 850 finished with value: 0.4245212316482247 and parameters: {'rf_max_depth': 123, 'rf_min_samples_leaf': 47, 'min_samples_split': 8, 'rf_estimators': 48, 'rf_max_feats': 0.23180815775416327}. Best is trial 539 with value: 0.5642706316233468.\u001b[0m\n"
     ]
    },
    {
     "name": "stdout",
     "output_type": "stream",
     "text": [
      "MEAN TRAIN:  0.42572755688074027\n",
      "MEAN VALIDATION:  0.32258116783955293\n",
      "MEAN TEST 0.4245212316482247\n"
     ]
    },
    {
     "name": "stderr",
     "output_type": "stream",
     "text": [
      "\u001b[32m[I 2022-01-26 13:11:20,441]\u001b[0m Trial 849 finished with value: 0.5140690828571733 and parameters: {'rf_max_depth': 79, 'rf_min_samples_leaf': 8, 'min_samples_split': 4, 'rf_estimators': 99, 'rf_max_feats': 0.10577866273931257}. Best is trial 539 with value: 0.5642706316233468.\u001b[0m\n"
     ]
    },
    {
     "name": "stdout",
     "output_type": "stream",
     "text": [
      "MEAN TRAIN:  0.6861257444330487\n",
      "MEAN VALIDATION:  0.44659767097120173\n",
      "MEAN TEST 0.5140690828571733\n"
     ]
    },
    {
     "name": "stderr",
     "output_type": "stream",
     "text": [
      "\u001b[32m[I 2022-01-26 13:11:20,957]\u001b[0m Trial 854 finished with value: 0.49541923625485784 and parameters: {'rf_max_depth': 129, 'rf_min_samples_leaf': 7, 'min_samples_split': 47, 'rf_estimators': 39, 'rf_max_feats': 0.22674391882371772}. Best is trial 539 with value: 0.5642706316233468.\u001b[0m\n"
     ]
    },
    {
     "name": "stdout",
     "output_type": "stream",
     "text": [
      "MEAN TRAIN:  0.5912940443466705\n",
      "MEAN VALIDATION:  0.409599944555043\n",
      "MEAN TEST 0.49541923625485784\n"
     ]
    },
    {
     "name": "stderr",
     "output_type": "stream",
     "text": [
      "\u001b[32m[I 2022-01-26 13:11:21,851]\u001b[0m Trial 845 finished with value: 0.5504784639285851 and parameters: {'rf_max_depth': 108, 'rf_min_samples_leaf': 2, 'min_samples_split': 16, 'rf_estimators': 95, 'rf_max_feats': 0.24823792777759626}. Best is trial 539 with value: 0.5642706316233468.\u001b[0m\n"
     ]
    },
    {
     "name": "stdout",
     "output_type": "stream",
     "text": [
      "MEAN TRAIN:  0.8109801966649508\n",
      "MEAN VALIDATION:  0.4840253117871508\n",
      "MEAN TEST 0.5504784639285851\n"
     ]
    },
    {
     "name": "stderr",
     "output_type": "stream",
     "text": [
      "\u001b[32m[I 2022-01-26 13:11:23,512]\u001b[0m Trial 847 finished with value: 0.5209463074453726 and parameters: {'rf_max_depth': 61, 'rf_min_samples_leaf': 9, 'min_samples_split': 7, 'rf_estimators': 131, 'rf_max_feats': 0.19413162457208868}. Best is trial 539 with value: 0.5642706316233468.\u001b[0m\n"
     ]
    },
    {
     "name": "stdout",
     "output_type": "stream",
     "text": [
      "MEAN TRAIN:  0.6835829151678883\n",
      "MEAN VALIDATION:  0.43807775563116014\n",
      "MEAN TEST 0.5209463074453726\n"
     ]
    },
    {
     "name": "stderr",
     "output_type": "stream",
     "text": [
      "\u001b[32m[I 2022-01-26 13:11:24,550]\u001b[0m Trial 851 finished with value: 0.48247325883428144 and parameters: {'rf_max_depth': 30, 'rf_min_samples_leaf': 13, 'min_samples_split': 63, 'rf_estimators': 86, 'rf_max_feats': 0.30544307143426497}. Best is trial 539 with value: 0.5642706316233468.\u001b[0m\n"
     ]
    },
    {
     "name": "stdout",
     "output_type": "stream",
     "text": [
      "MEAN TRAIN:  0.5287163919259054\n",
      "MEAN VALIDATION:  0.3845189617323891\n",
      "MEAN TEST 0.48247325883428144\n"
     ]
    },
    {
     "name": "stderr",
     "output_type": "stream",
     "text": [
      "\u001b[32m[I 2022-01-26 13:11:34,582]\u001b[0m Trial 855 finished with value: 0.48959994850884403 and parameters: {'rf_max_depth': 76, 'rf_min_samples_leaf': 12, 'min_samples_split': 42, 'rf_estimators': 134, 'rf_max_feats': 0.15217487901661864}. Best is trial 539 with value: 0.5642706316233468.\u001b[0m\n"
     ]
    },
    {
     "name": "stdout",
     "output_type": "stream",
     "text": [
      "MEAN TRAIN:  0.5686945030370275\n",
      "MEAN VALIDATION:  0.3999401303827014\n",
      "MEAN TEST 0.48959994850884403\n"
     ]
    },
    {
     "name": "stderr",
     "output_type": "stream",
     "text": [
      "\u001b[32m[I 2022-01-26 13:11:37,301]\u001b[0m Trial 853 finished with value: 0.48936420198045416 and parameters: {'rf_max_depth': 93, 'rf_min_samples_leaf': 15, 'min_samples_split': 50, 'rf_estimators': 132, 'rf_max_feats': 0.3165003529313483}. Best is trial 539 with value: 0.5642706316233468.\u001b[0m\n"
     ]
    },
    {
     "name": "stdout",
     "output_type": "stream",
     "text": [
      "MEAN TRAIN:  0.5570825163344524\n",
      "MEAN VALIDATION:  0.40089488452164457\n",
      "MEAN TEST 0.48936420198045416\n"
     ]
    },
    {
     "name": "stderr",
     "output_type": "stream",
     "text": [
      "\u001b[32m[I 2022-01-26 13:11:40,998]\u001b[0m Trial 857 finished with value: 0.49249273141847727 and parameters: {'rf_max_depth': 130, 'rf_min_samples_leaf': 6, 'min_samples_split': 59, 'rf_estimators': 143, 'rf_max_feats': 0.21870729434919295}. Best is trial 539 with value: 0.5642706316233468.\u001b[0m\n"
     ]
    },
    {
     "name": "stdout",
     "output_type": "stream",
     "text": [
      "MEAN TRAIN:  0.5674566528971885\n",
      "MEAN VALIDATION:  0.4047504811857275\n",
      "MEAN TEST 0.49249273141847727\n"
     ]
    },
    {
     "name": "stderr",
     "output_type": "stream",
     "text": [
      "\u001b[32m[I 2022-01-26 13:11:42,689]\u001b[0m Trial 856 finished with value: 0.5255256612915445 and parameters: {'rf_max_depth': 61, 'rf_min_samples_leaf': 8, 'min_samples_split': 2, 'rf_estimators': 90, 'rf_max_feats': 0.3165003529313483}. Best is trial 539 with value: 0.5642706316233468.\u001b[0m\n"
     ]
    },
    {
     "name": "stdout",
     "output_type": "stream",
     "text": [
      "MEAN TRAIN:  0.7176526197830648\n",
      "MEAN VALIDATION:  0.44999006372244404\n",
      "MEAN TEST 0.5255256612915445\n"
     ]
    },
    {
     "name": "stderr",
     "output_type": "stream",
     "text": [
      "\u001b[32m[I 2022-01-26 13:11:44,471]\u001b[0m Trial 861 finished with value: 0.5279935938903607 and parameters: {'rf_max_depth': 117, 'rf_min_samples_leaf': 7, 'min_samples_split': 12, 'rf_estimators': 39, 'rf_max_feats': 0.21547309487124505}. Best is trial 539 with value: 0.5642706316233468.\u001b[0m\n"
     ]
    },
    {
     "name": "stdout",
     "output_type": "stream",
     "text": [
      "MEAN TRAIN:  0.7222718970241877\n",
      "MEAN VALIDATION:  0.453554743367431\n",
      "MEAN TEST 0.5279935938903607\n"
     ]
    },
    {
     "name": "stderr",
     "output_type": "stream",
     "text": [
      "\u001b[32m[I 2022-01-26 13:11:45,766]\u001b[0m Trial 859 finished with value: 0.5233402156022847 and parameters: {'rf_max_depth': 62, 'rf_min_samples_leaf': 8, 'min_samples_split': 4, 'rf_estimators': 91, 'rf_max_feats': 0.3049860790226595}. Best is trial 539 with value: 0.5642706316233468.\u001b[0m\n"
     ]
    },
    {
     "name": "stdout",
     "output_type": "stream",
     "text": [
      "MEAN TRAIN:  0.7151730436001167\n",
      "MEAN VALIDATION:  0.450155687367743\n",
      "MEAN TEST 0.5233402156022847\n"
     ]
    },
    {
     "name": "stderr",
     "output_type": "stream",
     "text": [
      "\u001b[32m[I 2022-01-26 13:11:47,609]\u001b[0m Trial 865 finished with value: 0.48867180523631387 and parameters: {'rf_max_depth': 78, 'rf_min_samples_leaf': 8, 'min_samples_split': 14, 'rf_estimators': 12, 'rf_max_feats': 0.17931782045014238}. Best is trial 539 with value: 0.5642706316233468.\u001b[0m\n"
     ]
    },
    {
     "name": "stdout",
     "output_type": "stream",
     "text": [
      "MEAN TRAIN:  0.6818003765439112\n",
      "MEAN VALIDATION:  0.4180011355784384\n",
      "MEAN TEST 0.48867180523631387\n"
     ]
    },
    {
     "name": "stderr",
     "output_type": "stream",
     "text": [
      "\u001b[32m[I 2022-01-26 13:11:51,961]\u001b[0m Trial 862 finished with value: 0.5323394094531868 and parameters: {'rf_max_depth': 9, 'rf_min_samples_leaf': 2, 'min_samples_split': 31, 'rf_estimators': 48, 'rf_max_feats': 0.29526048006823363}. Best is trial 539 with value: 0.5642706316233468.\u001b[0m\n"
     ]
    },
    {
     "name": "stdout",
     "output_type": "stream",
     "text": [
      "MEAN TRAIN:  0.7305842646958298\n",
      "MEAN VALIDATION:  0.4672227108813553\n",
      "MEAN TEST 0.5323394094531868\n"
     ]
    },
    {
     "name": "stderr",
     "output_type": "stream",
     "text": [
      "\u001b[32m[I 2022-01-26 13:11:54,487]\u001b[0m Trial 858 finished with value: 0.528309048049162 and parameters: {'rf_max_depth': 117, 'rf_min_samples_leaf': 8, 'min_samples_split': 4, 'rf_estimators': 116, 'rf_max_feats': 0.3733026091718963}. Best is trial 539 with value: 0.5642706316233468.\u001b[0m\n"
     ]
    },
    {
     "name": "stdout",
     "output_type": "stream",
     "text": [
      "MEAN TRAIN:  0.7214081769542052\n",
      "MEAN VALIDATION:  0.4517681870877036\n",
      "MEAN TEST 0.528309048049162\n"
     ]
    },
    {
     "name": "stderr",
     "output_type": "stream",
     "text": [
      "\u001b[32m[I 2022-01-26 13:11:57,158]\u001b[0m Trial 867 finished with value: 0.5224980916877239 and parameters: {'rf_max_depth': 99, 'rf_min_samples_leaf': 7, 'min_samples_split': 23, 'rf_estimators': 25, 'rf_max_feats': 0.3049860790226595}. Best is trial 539 with value: 0.5642706316233468.\u001b[0m\n",
      "\u001b[32m[I 2022-01-26 13:11:57,311]\u001b[0m Trial 863 finished with value: 0.531599933159456 and parameters: {'rf_max_depth': 119, 'rf_min_samples_leaf': 7, 'min_samples_split': 16, 'rf_estimators': 74, 'rf_max_feats': 0.26261310838608254}. Best is trial 539 with value: 0.5642706316233468.\u001b[0m\n"
     ]
    },
    {
     "name": "stdout",
     "output_type": "stream",
     "text": [
      "MEAN TRAIN:  0.6844431960226303\n",
      "MEAN VALIDATION:  0.44175729267649066\n",
      "MEAN TEST 0.5224980916877239\n",
      "MEAN TRAIN:  0.7229604985189588\n",
      "MEAN VALIDATION:  0.45198570786493236\n",
      "MEAN TEST 0.531599933159456\n"
     ]
    },
    {
     "name": "stderr",
     "output_type": "stream",
     "text": [
      "\u001b[32m[I 2022-01-26 13:12:00,755]\u001b[0m Trial 866 finished with value: 0.5296866527812973 and parameters: {'rf_max_depth': 117, 'rf_min_samples_leaf': 7, 'min_samples_split': 25, 'rf_estimators': 64, 'rf_max_feats': 0.30544307143426497}. Best is trial 539 with value: 0.5642706316233468.\u001b[0m\n"
     ]
    },
    {
     "name": "stdout",
     "output_type": "stream",
     "text": [
      "MEAN TRAIN:  0.6796973582679252\n",
      "MEAN VALIDATION:  0.440130013051432\n",
      "MEAN TEST 0.5296866527812973\n"
     ]
    },
    {
     "name": "stderr",
     "output_type": "stream",
     "text": [
      "\u001b[32m[I 2022-01-26 13:12:05,045]\u001b[0m Trial 860 finished with value: 0.5585536193787103 and parameters: {'rf_max_depth': 80, 'rf_min_samples_leaf': 1, 'min_samples_split': 12, 'rf_estimators': 97, 'rf_max_feats': 0.3044405652310468}. Best is trial 539 with value: 0.5642706316233468.\u001b[0m\n"
     ]
    },
    {
     "name": "stdout",
     "output_type": "stream",
     "text": [
      "MEAN TRAIN:  0.8551924283767232\n",
      "MEAN VALIDATION:  0.48229638334753844\n",
      "MEAN TEST 0.5585536193787103\n"
     ]
    },
    {
     "name": "stderr",
     "output_type": "stream",
     "text": [
      "\u001b[32m[I 2022-01-26 13:12:07,696]\u001b[0m Trial 869 finished with value: 0.41582889445501775 and parameters: {'rf_max_depth': 68, 'rf_min_samples_leaf': 8, 'min_samples_split': 131, 'rf_estimators': 87, 'rf_max_feats': 0.3733026091718963}. Best is trial 539 with value: 0.5642706316233468.\u001b[0m\n"
     ]
    },
    {
     "name": "stdout",
     "output_type": "stream",
     "text": [
      "MEAN TRAIN:  0.4060805443134706\n",
      "MEAN VALIDATION:  0.3200432251911106\n",
      "MEAN TEST 0.41582889445501775\n"
     ]
    },
    {
     "name": "stderr",
     "output_type": "stream",
     "text": [
      "\u001b[32m[I 2022-01-26 13:12:12,176]\u001b[0m Trial 872 finished with value: 0.4824691626771621 and parameters: {'rf_max_depth': 13, 'rf_min_samples_leaf': 1, 'min_samples_split': 62, 'rf_estimators': 87, 'rf_max_feats': 0.10703427220815187}. Best is trial 539 with value: 0.5642706316233468.\u001b[0m\n"
     ]
    },
    {
     "name": "stdout",
     "output_type": "stream",
     "text": [
      "MEAN TRAIN:  0.5834954027844864\n",
      "MEAN VALIDATION:  0.4014843763747207\n",
      "MEAN TEST 0.4824691626771621\n"
     ]
    },
    {
     "name": "stderr",
     "output_type": "stream",
     "text": [
      "\u001b[32m[I 2022-01-26 13:12:12,892]\u001b[0m Trial 874 finished with value: 0.4275540470755733 and parameters: {'rf_max_depth': 36, 'rf_min_samples_leaf': 34, 'min_samples_split': 34, 'rf_estimators': 6, 'rf_max_feats': 0.17931782045014238}. Best is trial 539 with value: 0.5642706316233468.\u001b[0m\n"
     ]
    },
    {
     "name": "stdout",
     "output_type": "stream",
     "text": [
      "MEAN TRAIN:  0.44904580985461734\n",
      "MEAN VALIDATION:  0.3468563765454711\n",
      "MEAN TEST 0.4275540470755733\n"
     ]
    },
    {
     "name": "stderr",
     "output_type": "stream",
     "text": [
      "\u001b[32m[I 2022-01-26 13:12:13,645]\u001b[0m Trial 868 finished with value: 0.5227294457403542 and parameters: {'rf_max_depth': 122, 'rf_min_samples_leaf': 8, 'min_samples_split': 12, 'rf_estimators': 95, 'rf_max_feats': 0.2693556080076496}. Best is trial 539 with value: 0.5642706316233468.\u001b[0m\n"
     ]
    },
    {
     "name": "stdout",
     "output_type": "stream",
     "text": [
      "MEAN TRAIN:  0.7146554479252245\n",
      "MEAN VALIDATION:  0.4494507885435791\n",
      "MEAN TEST 0.5227294457403542\n"
     ]
    },
    {
     "name": "stderr",
     "output_type": "stream",
     "text": [
      "\u001b[32m[I 2022-01-26 13:12:15,689]\u001b[0m Trial 873 finished with value: 0.5139945721295074 and parameters: {'rf_max_depth': 109, 'rf_min_samples_leaf': 9, 'min_samples_split': 7, 'rf_estimators': 64, 'rf_max_feats': 0.14738396628876643}. Best is trial 539 with value: 0.5642706316233468.\u001b[0m\n"
     ]
    },
    {
     "name": "stdout",
     "output_type": "stream",
     "text": [
      "MEAN TRAIN:  0.6748092526024314\n",
      "MEAN VALIDATION:  0.4343665080433044\n",
      "MEAN TEST 0.5139945721295074\n"
     ]
    },
    {
     "name": "stderr",
     "output_type": "stream",
     "text": [
      "\u001b[32m[I 2022-01-26 13:12:17,891]\u001b[0m Trial 875 finished with value: 0.4053513628886055 and parameters: {'rf_max_depth': 38, 'rf_min_samples_leaf': 54, 'min_samples_split': 14, 'rf_estimators': 74, 'rf_max_feats': 0.16907209236302398}. Best is trial 539 with value: 0.5642706316233468.\u001b[0m\n"
     ]
    },
    {
     "name": "stdout",
     "output_type": "stream",
     "text": [
      "MEAN TRAIN:  0.3900179872607456\n",
      "MEAN VALIDATION:  0.31209310770443094\n",
      "MEAN TEST 0.4053513628886055\n"
     ]
    },
    {
     "name": "stderr",
     "output_type": "stream",
     "text": [
      "\u001b[32m[I 2022-01-26 13:12:21,858]\u001b[0m Trial 871 finished with value: 0.5510623579094938 and parameters: {'rf_max_depth': 102, 'rf_min_samples_leaf': 3, 'min_samples_split': 14, 'rf_estimators': 87, 'rf_max_feats': 0.2653094332342102}. Best is trial 539 with value: 0.5642706316233468.\u001b[0m\n"
     ]
    },
    {
     "name": "stdout",
     "output_type": "stream",
     "text": [
      "MEAN TRAIN:  0.8025695564078061\n",
      "MEAN VALIDATION:  0.48039617764708586\n",
      "MEAN TEST 0.5510623579094938\n"
     ]
    },
    {
     "name": "stderr",
     "output_type": "stream",
     "text": [
      "\u001b[32m[I 2022-01-26 13:12:24,265]\u001b[0m Trial 864 finished with value: 0.5613273841981959 and parameters: {'rf_max_depth': 56, 'rf_min_samples_leaf': 1, 'min_samples_split': 12, 'rf_estimators': 142, 'rf_max_feats': 0.2693556080076496}. Best is trial 539 with value: 0.5642706316233468.\u001b[0m\n"
     ]
    },
    {
     "name": "stdout",
     "output_type": "stream",
     "text": [
      "MEAN TRAIN:  0.8561017383720534\n",
      "MEAN VALIDATION:  0.4872365897139576\n",
      "MEAN TEST 0.5613273841981959\n",
      "MEAN TRAIN:  0.5497805611369084\n",
      "MEAN VALIDATION:  0.3933071735419403\n",
      "MEAN TEST 0.4800197694536961\n"
     ]
    },
    {
     "name": "stderr",
     "output_type": "stream",
     "text": [
      "\u001b[32m[I 2022-01-26 13:12:24,469]\u001b[0m Trial 876 finished with value: 0.4800197694536961 and parameters: {'rf_max_depth': 51, 'rf_min_samples_leaf': 15, 'min_samples_split': 50, 'rf_estimators': 79, 'rf_max_feats': 0.24823792777759626}. Best is trial 539 with value: 0.5642706316233468.\u001b[0m\n",
      "\u001b[32m[I 2022-01-26 13:12:25,928]\u001b[0m Trial 877 finished with value: 0.5230688975021612 and parameters: {'rf_max_depth': 108, 'rf_min_samples_leaf': 8, 'min_samples_split': 4, 'rf_estimators': 72, 'rf_max_feats': 0.17101719412170735}. Best is trial 539 with value: 0.5642706316233468.\u001b[0m\n"
     ]
    },
    {
     "name": "stdout",
     "output_type": "stream",
     "text": [
      "MEAN TRAIN:  0.6986598578832409\n",
      "MEAN VALIDATION:  0.44122343074851544\n",
      "MEAN TEST 0.5230688975021612\n"
     ]
    },
    {
     "name": "stderr",
     "output_type": "stream",
     "text": [
      "\u001b[32m[I 2022-01-26 13:12:31,080]\u001b[0m Trial 879 finished with value: 0.4201301192242285 and parameters: {'rf_max_depth': 36, 'rf_min_samples_leaf': 2, 'min_samples_split': 123, 'rf_estimators': 121, 'rf_max_feats': 0.17936411006477765}. Best is trial 539 with value: 0.5642706316233468.\u001b[0m\n"
     ]
    },
    {
     "name": "stdout",
     "output_type": "stream",
     "text": [
      "MEAN TRAIN:  0.41775765177986646\n",
      "MEAN VALIDATION:  0.32164346752062417\n",
      "MEAN TEST 0.4201301192242285\n"
     ]
    },
    {
     "name": "stderr",
     "output_type": "stream",
     "text": [
      "\u001b[32m[I 2022-01-26 13:12:34,200]\u001b[0m Trial 880 finished with value: 0.5458113872159218 and parameters: {'rf_max_depth': 125, 'rf_min_samples_leaf': 1, 'min_samples_split': 12, 'rf_estimators': 39, 'rf_max_feats': 0.2280793748958792}. Best is trial 539 with value: 0.5642706316233468.\u001b[0m\n",
      "\u001b[32m[I 2022-01-26 13:12:34,230]\u001b[0m Trial 882 finished with value: 0.46232040342916053 and parameters: {'rf_max_depth': 3, 'rf_min_samples_leaf': 3, 'min_samples_split': 34, 'rf_estimators': 74, 'rf_max_feats': 0.23145349754330097}. Best is trial 539 with value: 0.5642706316233468.\u001b[0m\n"
     ]
    },
    {
     "name": "stdout",
     "output_type": "stream",
     "text": [
      "MEAN TRAIN:  0.8464708330735929\n",
      "MEAN VALIDATION:  0.4896619262962466\n",
      "MEAN TEST 0.5458113872159218\n",
      "MEAN TRAIN:  0.5175219832286213\n",
      "MEAN VALIDATION:  0.38420724027370384\n",
      "MEAN TEST 0.46232040342916053\n"
     ]
    },
    {
     "name": "stderr",
     "output_type": "stream",
     "text": [
      "\u001b[32m[I 2022-01-26 13:12:36,113]\u001b[0m Trial 870 finished with value: 0.5598632936619089 and parameters: {'rf_max_depth': 117, 'rf_min_samples_leaf': 1, 'min_samples_split': 16, 'rf_estimators': 131, 'rf_max_feats': 0.3049860790226595}. Best is trial 539 with value: 0.5642706316233468.\u001b[0m\n"
     ]
    },
    {
     "name": "stdout",
     "output_type": "stream",
     "text": [
      "MEAN TRAIN:  0.833271927598463\n",
      "MEAN VALIDATION:  0.4863467255970614\n",
      "MEAN TEST 0.5598632936619089\n"
     ]
    },
    {
     "name": "stderr",
     "output_type": "stream",
     "text": [
      "\u001b[32m[I 2022-01-26 13:12:42,866]\u001b[0m Trial 881 finished with value: 0.4998784143796124 and parameters: {'rf_max_depth': 36, 'rf_min_samples_leaf': 2, 'min_samples_split': 58, 'rf_estimators': 120, 'rf_max_feats': 0.23180815775416327}. Best is trial 539 with value: 0.5642706316233468.\u001b[0m\n",
      "\u001b[32m[I 2022-01-26 13:12:42,954]\u001b[0m Trial 884 finished with value: 0.5241170324569049 and parameters: {'rf_max_depth': 33, 'rf_min_samples_leaf': 7, 'min_samples_split': 4, 'rf_estimators': 42, 'rf_max_feats': 0.24823792777759626}. Best is trial 539 with value: 0.5642706316233468.\u001b[0m\n"
     ]
    },
    {
     "name": "stdout",
     "output_type": "stream",
     "text": [
      "MEAN TRAIN:  0.6184596158519448\n",
      "MEAN VALIDATION:  0.4247420070392517\n",
      "MEAN TEST 0.4998784143796124\n",
      "MEAN TRAIN:  0.7297246633936051\n",
      "MEAN VALIDATION:  0.44752425274267377\n",
      "MEAN TEST 0.5241170324569049\n"
     ]
    },
    {
     "name": "stderr",
     "output_type": "stream",
     "text": [
      "\u001b[32m[I 2022-01-26 13:12:45,571]\u001b[0m Trial 887 finished with value: 0.3806837640473709 and parameters: {'rf_max_depth': 56, 'rf_min_samples_leaf': 69, 'min_samples_split': 12, 'rf_estimators': 39, 'rf_max_feats': 0.20685071837006022}. Best is trial 539 with value: 0.5642706316233468.\u001b[0m\n"
     ]
    },
    {
     "name": "stdout",
     "output_type": "stream",
     "text": [
      "MEAN TRAIN:  0.3478131883841556\n",
      "MEAN VALIDATION:  0.27815725934548263\n",
      "MEAN TEST 0.3806837640473709\n"
     ]
    },
    {
     "name": "stderr",
     "output_type": "stream",
     "text": [
      "\u001b[32m[I 2022-01-26 13:12:48,368]\u001b[0m Trial 889 finished with value: 0.5127204670649809 and parameters: {'rf_max_depth': 33, 'rf_min_samples_leaf': 9, 'min_samples_split': 2, 'rf_estimators': 20, 'rf_max_feats': 0.17101719412170735}. Best is trial 539 with value: 0.5642706316233468.\u001b[0m\n"
     ]
    },
    {
     "name": "stdout",
     "output_type": "stream",
     "text": [
      "MEAN TRAIN:  0.6687952266510522\n",
      "MEAN VALIDATION:  0.42293828905555547\n",
      "MEAN TEST 0.5127204670649809\n"
     ]
    },
    {
     "name": "stderr",
     "output_type": "stream",
     "text": [
      "\u001b[32m[I 2022-01-26 13:12:50,189]\u001b[0m Trial 878 finished with value: 0.5000218040459196 and parameters: {'rf_max_depth': 68, 'rf_min_samples_leaf': 1, 'min_samples_split': 63, 'rf_estimators': 147, 'rf_max_feats': 0.3662920922162988}. Best is trial 539 with value: 0.5642706316233468.\u001b[0m\n"
     ]
    },
    {
     "name": "stdout",
     "output_type": "stream",
     "text": [
      "MEAN TRAIN:  0.6153987358068367\n",
      "MEAN VALIDATION:  0.41613663569095927\n",
      "MEAN TEST 0.5000218040459196\n"
     ]
    },
    {
     "name": "stderr",
     "output_type": "stream",
     "text": [
      "\u001b[32m[I 2022-01-26 13:12:53,182]\u001b[0m Trial 883 finished with value: 0.5493252178136123 and parameters: {'rf_max_depth': 95, 'rf_min_samples_leaf': 3, 'min_samples_split': 2, 'rf_estimators': 78, 'rf_max_feats': 0.2693556080076496}. Best is trial 539 with value: 0.5642706316233468.\u001b[0m\n"
     ]
    },
    {
     "name": "stdout",
     "output_type": "stream",
     "text": [
      "MEAN TRAIN:  0.8556023795216318\n",
      "MEAN VALIDATION:  0.48604165843502994\n",
      "MEAN TEST 0.5493252178136123\n"
     ]
    },
    {
     "name": "stderr",
     "output_type": "stream",
     "text": [
      "\u001b[32m[I 2022-01-26 13:12:54,096]\u001b[0m Trial 885 finished with value: 0.5010909625765831 and parameters: {'rf_max_depth': 31, 'rf_min_samples_leaf': 8, 'min_samples_split': 43, 'rf_estimators': 136, 'rf_max_feats': 0.22703744150321095}. Best is trial 539 with value: 0.5642706316233468.\u001b[0m\n"
     ]
    },
    {
     "name": "stdout",
     "output_type": "stream",
     "text": [
      "MEAN TRAIN:  0.5995475110267572\n",
      "MEAN VALIDATION:  0.4135774014660809\n",
      "MEAN TEST 0.5010909625765831\n"
     ]
    },
    {
     "name": "stderr",
     "output_type": "stream",
     "text": [
      "\u001b[32m[I 2022-01-26 13:12:56,008]\u001b[0m Trial 888 finished with value: 0.534521484322658 and parameters: {'rf_max_depth': 143, 'rf_min_samples_leaf': 8, 'min_samples_split': 4, 'rf_estimators': 64, 'rf_max_feats': 0.26261310838608254}. Best is trial 539 with value: 0.5642706316233468.\u001b[0m\n"
     ]
    },
    {
     "name": "stdout",
     "output_type": "stream",
     "text": [
      "MEAN TRAIN:  0.711861104382717\n",
      "MEAN VALIDATION:  0.4529189458952609\n",
      "MEAN TEST 0.534521484322658\n"
     ]
    },
    {
     "name": "stderr",
     "output_type": "stream",
     "text": [
      "\u001b[32m[I 2022-01-26 13:12:58,865]\u001b[0m Trial 892 finished with value: 0.3987242331522011 and parameters: {'rf_max_depth': 28, 'rf_min_samples_leaf': 8, 'min_samples_split': 149, 'rf_estimators': 64, 'rf_max_feats': 0.240531876313841}. Best is trial 539 with value: 0.5642706316233468.\u001b[0m\n"
     ]
    },
    {
     "name": "stdout",
     "output_type": "stream",
     "text": [
      "MEAN TRAIN:  0.3771529257485696\n",
      "MEAN VALIDATION:  0.29017096158913674\n",
      "MEAN TEST 0.3987242331522011\n"
     ]
    },
    {
     "name": "stderr",
     "output_type": "stream",
     "text": [
      "\u001b[32m[I 2022-01-26 13:13:02,908]\u001b[0m Trial 893 finished with value: 0.46124209490437645 and parameters: {'rf_max_depth': 139, 'rf_min_samples_leaf': 9, 'min_samples_split': 73, 'rf_estimators': 95, 'rf_max_feats': 0.1460667929699738}. Best is trial 539 with value: 0.5642706316233468.\u001b[0m\n"
     ]
    },
    {
     "name": "stdout",
     "output_type": "stream",
     "text": [
      "MEAN TRAIN:  0.49897013801986195\n",
      "MEAN VALIDATION:  0.3673325583839858\n",
      "MEAN TEST 0.46124209490437645\n"
     ]
    },
    {
     "name": "stderr",
     "output_type": "stream",
     "text": [
      "\u001b[32m[I 2022-01-26 13:13:04,817]\u001b[0m Trial 890 finished with value: 0.5007529615555588 and parameters: {'rf_max_depth': 51, 'rf_min_samples_leaf': 12, 'min_samples_split': 25, 'rf_estimators': 136, 'rf_max_feats': 0.1512344537710691}. Best is trial 539 with value: 0.5642706316233468.\u001b[0m\n"
     ]
    },
    {
     "name": "stdout",
     "output_type": "stream",
     "text": [
      "MEAN TRAIN:  0.6261170771184383\n",
      "MEAN VALIDATION:  0.4230362914881325\n",
      "MEAN TEST 0.5007529615555588\n"
     ]
    },
    {
     "name": "stderr",
     "output_type": "stream",
     "text": [
      "\u001b[32m[I 2022-01-26 13:13:05,857]\u001b[0m Trial 891 finished with value: 0.5253681181019492 and parameters: {'rf_max_depth': 80, 'rf_min_samples_leaf': 8, 'min_samples_split': 10, 'rf_estimators': 72, 'rf_max_feats': 0.2653094332342102}. Best is trial 539 with value: 0.5642706316233468.\u001b[0m\n"
     ]
    },
    {
     "name": "stdout",
     "output_type": "stream",
     "text": [
      "MEAN TRAIN:  0.7113605069125923\n",
      "MEAN VALIDATION:  0.4470313961986677\n",
      "MEAN TEST 0.5253681181019492\n"
     ]
    },
    {
     "name": "stderr",
     "output_type": "stream",
     "text": [
      "\u001b[32m[I 2022-01-26 13:13:08,464]\u001b[0m Trial 896 finished with value: 0.38440185146349837 and parameters: {'rf_max_depth': 143, 'rf_min_samples_leaf': 71, 'min_samples_split': 4, 'rf_estimators': 64, 'rf_max_feats': 0.26261310838608254}. Best is trial 539 with value: 0.5642706316233468.\u001b[0m\n"
     ]
    },
    {
     "name": "stdout",
     "output_type": "stream",
     "text": [
      "MEAN TRAIN:  0.35394462256134673\n",
      "MEAN VALIDATION:  0.28142177591076395\n",
      "MEAN TEST 0.38440185146349837\n"
     ]
    },
    {
     "name": "stderr",
     "output_type": "stream",
     "text": [
      "\u001b[32m[I 2022-01-26 13:13:08,712]\u001b[0m Trial 886 finished with value: 0.5368329071578192 and parameters: {'rf_max_depth': 99, 'rf_min_samples_leaf': 7, 'min_samples_split': 2, 'rf_estimators': 131, 'rf_max_feats': 0.3049860790226595}. Best is trial 539 with value: 0.5642706316233468.\u001b[0m\n"
     ]
    },
    {
     "name": "stdout",
     "output_type": "stream",
     "text": [
      "MEAN TRAIN:  0.7386183305943181\n",
      "MEAN VALIDATION:  0.4580924347116069\n",
      "MEAN TEST 0.5368329071578192\n"
     ]
    },
    {
     "name": "stderr",
     "output_type": "stream",
     "text": [
      "\u001b[32m[I 2022-01-26 13:13:12,472]\u001b[0m Trial 899 finished with value: 0.4199746006372468 and parameters: {'rf_max_depth': 69, 'rf_min_samples_leaf': 53, 'min_samples_split': 14, 'rf_estimators': 39, 'rf_max_feats': 0.2653094332342102}. Best is trial 539 with value: 0.5642706316233468.\u001b[0m\n"
     ]
    },
    {
     "name": "stdout",
     "output_type": "stream",
     "text": [
      "MEAN TRAIN:  0.4043992153489607\n",
      "MEAN VALIDATION:  0.31770194153160114\n",
      "MEAN TEST 0.4199746006372468\n"
     ]
    },
    {
     "name": "stderr",
     "output_type": "stream",
     "text": [
      "\u001b[32m[I 2022-01-26 13:13:14,674]\u001b[0m Trial 894 finished with value: 0.5281490778272477 and parameters: {'rf_max_depth': 93, 'rf_min_samples_leaf': 5, 'min_samples_split': 16, 'rf_estimators': 131, 'rf_max_feats': 0.1353593286133362}. Best is trial 539 with value: 0.5642706316233468.\u001b[0m\n"
     ]
    },
    {
     "name": "stdout",
     "output_type": "stream",
     "text": [
      "MEAN TRAIN:  0.734187871340199\n",
      "MEAN VALIDATION:  0.4617553923173864\n",
      "MEAN TEST 0.5281490778272477\n"
     ]
    },
    {
     "name": "stderr",
     "output_type": "stream",
     "text": [
      "\u001b[32m[I 2022-01-26 13:13:15,180]\u001b[0m Trial 898 finished with value: 0.3895438038080462 and parameters: {'rf_max_depth': 117, 'rf_min_samples_leaf': 67, 'min_samples_split': 63, 'rf_estimators': 124, 'rf_max_feats': 0.23180815775416327}. Best is trial 539 with value: 0.5642706316233468.\u001b[0m\n"
     ]
    },
    {
     "name": "stdout",
     "output_type": "stream",
     "text": [
      "MEAN TRAIN:  0.36035297811007816\n",
      "MEAN VALIDATION:  0.2904414018822945\n",
      "MEAN TEST 0.3895438038080462\n"
     ]
    },
    {
     "name": "stderr",
     "output_type": "stream",
     "text": [
      "\u001b[32m[I 2022-01-26 13:13:16,826]\u001b[0m Trial 897 finished with value: 0.5166505480913816 and parameters: {'rf_max_depth': 129, 'rf_min_samples_leaf': 9, 'min_samples_split': 4, 'rf_estimators': 75, 'rf_max_feats': 0.19413162457208868}. Best is trial 539 with value: 0.5642706316233468.\u001b[0m\n"
     ]
    },
    {
     "name": "stdout",
     "output_type": "stream",
     "text": [
      "MEAN TRAIN:  0.6828306721669936\n",
      "MEAN VALIDATION:  0.4454576072181104\n",
      "MEAN TEST 0.5166505480913816\n"
     ]
    },
    {
     "name": "stderr",
     "output_type": "stream",
     "text": [
      "\u001b[32m[I 2022-01-26 13:13:17,204]\u001b[0m Trial 903 finished with value: 0.48746802320484156 and parameters: {'rf_max_depth': 93, 'rf_min_samples_leaf': 9, 'min_samples_split': 18, 'rf_estimators': 9, 'rf_max_feats': 0.31885648130616195}. Best is trial 539 with value: 0.5642706316233468.\u001b[0m\n"
     ]
    },
    {
     "name": "stdout",
     "output_type": "stream",
     "text": [
      "MEAN TRAIN:  0.6691594846596003\n",
      "MEAN VALIDATION:  0.44250886232723674\n",
      "MEAN TEST 0.48746802320484156\n"
     ]
    },
    {
     "name": "stderr",
     "output_type": "stream",
     "text": [
      "\u001b[32m[I 2022-01-26 13:13:20,516]\u001b[0m Trial 901 finished with value: 0.5274943131471934 and parameters: {'rf_max_depth': 139, 'rf_min_samples_leaf': 6, 'min_samples_split': 7, 'rf_estimators': 74, 'rf_max_feats': 0.10665860038712986}. Best is trial 539 with value: 0.5642706316233468.\u001b[0m\n"
     ]
    },
    {
     "name": "stdout",
     "output_type": "stream",
     "text": [
      "MEAN TRAIN:  0.734078135091854\n",
      "MEAN VALIDATION:  0.4563015247001287\n",
      "MEAN TEST 0.5274943131471934\n"
     ]
    },
    {
     "name": "stderr",
     "output_type": "stream",
     "text": [
      "\u001b[32m[I 2022-01-26 13:13:23,883]\u001b[0m Trial 895 finished with value: 0.4980849136428048 and parameters: {'rf_max_depth': 113, 'rf_min_samples_leaf': 17, 'min_samples_split': 18, 'rf_estimators': 143, 'rf_max_feats': 0.29526048006823363}. Best is trial 539 with value: 0.5642706316233468.\u001b[0m\n"
     ]
    },
    {
     "name": "stdout",
     "output_type": "stream",
     "text": [
      "MEAN TRAIN:  0.5874084409135705\n",
      "MEAN VALIDATION:  0.4084515030706665\n",
      "MEAN TEST 0.4980849136428048\n"
     ]
    },
    {
     "name": "stderr",
     "output_type": "stream",
     "text": [
      "\u001b[32m[I 2022-01-26 13:13:25,206]\u001b[0m Trial 905 finished with value: 0.4615814894500961 and parameters: {'rf_max_depth': 113, 'rf_min_samples_leaf': 1, 'min_samples_split': 88, 'rf_estimators': 68, 'rf_max_feats': 0.240531876313841}. Best is trial 539 with value: 0.5642706316233468.\u001b[0m\n"
     ]
    },
    {
     "name": "stdout",
     "output_type": "stream",
     "text": [
      "MEAN TRAIN:  0.5127439407776404\n",
      "MEAN VALIDATION:  0.3781656808276326\n",
      "MEAN TEST 0.4615814894500961\n"
     ]
    },
    {
     "name": "stderr",
     "output_type": "stream",
     "text": [
      "\u001b[32m[I 2022-01-26 13:13:33,426]\u001b[0m Trial 906 finished with value: 0.5190392510648222 and parameters: {'rf_max_depth': 147, 'rf_min_samples_leaf': 8, 'min_samples_split': 4, 'rf_estimators': 105, 'rf_max_feats': 0.1401534240995574}. Best is trial 539 with value: 0.5642706316233468.\u001b[0m\n"
     ]
    },
    {
     "name": "stdout",
     "output_type": "stream",
     "text": [
      "MEAN TRAIN:  0.6940312087555973\n",
      "MEAN VALIDATION:  0.4473878160719744\n",
      "MEAN TEST 0.5190392510648222\n"
     ]
    },
    {
     "name": "stderr",
     "output_type": "stream",
     "text": [
      "\u001b[32m[I 2022-01-26 13:13:34,767]\u001b[0m Trial 904 finished with value: 0.5351565071714525 and parameters: {'rf_max_depth': 108, 'rf_min_samples_leaf': 1, 'min_samples_split': 33, 'rf_estimators': 86, 'rf_max_feats': 0.24823792777759626}. Best is trial 539 with value: 0.5642706316233468.\u001b[0m\n"
     ]
    },
    {
     "name": "stdout",
     "output_type": "stream",
     "text": [
      "MEAN TRAIN:  0.7351667883788674\n",
      "MEAN VALIDATION:  0.4640854171583205\n",
      "MEAN TEST 0.5351565071714525\n"
     ]
    },
    {
     "name": "stderr",
     "output_type": "stream",
     "text": [
      "\u001b[32m[I 2022-01-26 13:13:35,620]\u001b[0m Trial 902 finished with value: 0.5226130951271968 and parameters: {'rf_max_depth': 62, 'rf_min_samples_leaf': 9, 'min_samples_split': 13, 'rf_estimators': 97, 'rf_max_feats': 0.3049860790226595}. Best is trial 539 with value: 0.5642706316233468.\u001b[0m\n"
     ]
    },
    {
     "name": "stdout",
     "output_type": "stream",
     "text": [
      "MEAN TRAIN:  0.6951178841827528\n",
      "MEAN VALIDATION:  0.44300562019189754\n",
      "MEAN TEST 0.5226130951271968\n"
     ]
    },
    {
     "name": "stderr",
     "output_type": "stream",
     "text": [
      "\u001b[32m[I 2022-01-26 13:13:36,995]\u001b[0m Trial 908 finished with value: 0.530363316260146 and parameters: {'rf_max_depth': 56, 'rf_min_samples_leaf': 6, 'min_samples_split': 16, 'rf_estimators': 51, 'rf_max_feats': 0.28025853613565327}. Best is trial 539 with value: 0.5642706316233468.\u001b[0m\n"
     ]
    },
    {
     "name": "stdout",
     "output_type": "stream",
     "text": [
      "MEAN TRAIN:  0.7351657613484149\n",
      "MEAN VALIDATION:  0.4537727280979711\n",
      "MEAN TEST 0.530363316260146\n"
     ]
    },
    {
     "name": "stderr",
     "output_type": "stream",
     "text": [
      "\u001b[32m[I 2022-01-26 13:13:38,937]\u001b[0m Trial 900 finished with value: 0.5616938345868009 and parameters: {'rf_max_depth': 69, 'rf_min_samples_leaf': 1, 'min_samples_split': 9, 'rf_estimators': 91, 'rf_max_feats': 0.30544307143426497}. Best is trial 539 with value: 0.5642706316233468.\u001b[0m\n"
     ]
    },
    {
     "name": "stdout",
     "output_type": "stream",
     "text": [
      "MEAN TRAIN:  0.8756394749740053\n",
      "MEAN VALIDATION:  0.49608498505136084\n",
      "MEAN TEST 0.5616938345868009\n"
     ]
    },
    {
     "name": "stderr",
     "output_type": "stream",
     "text": [
      "\u001b[32m[I 2022-01-26 13:13:40,673]\u001b[0m Trial 910 finished with value: 0.5071814388544056 and parameters: {'rf_max_depth': 81, 'rf_min_samples_leaf': 8, 'min_samples_split': 34, 'rf_estimators': 39, 'rf_max_feats': 0.22674391882371772}. Best is trial 539 with value: 0.5642706316233468.\u001b[0m\n"
     ]
    },
    {
     "name": "stdout",
     "output_type": "stream",
     "text": [
      "MEAN TRAIN:  0.6295332488768789\n",
      "MEAN VALIDATION:  0.42448061566202283\n",
      "MEAN TEST 0.5071814388544056\n"
     ]
    },
    {
     "name": "stderr",
     "output_type": "stream",
     "text": [
      "\u001b[32m[I 2022-01-26 13:13:41,729]\u001b[0m Trial 911 finished with value: 0.5244194284051307 and parameters: {'rf_max_depth': 143, 'rf_min_samples_leaf': 8, 'min_samples_split': 4, 'rf_estimators': 31, 'rf_max_feats': 0.26261310838608254}. Best is trial 539 with value: 0.5642706316233468.\u001b[0m\n"
     ]
    },
    {
     "name": "stdout",
     "output_type": "stream",
     "text": [
      "MEAN TRAIN:  0.7077424991464953\n",
      "MEAN VALIDATION:  0.45232812272590983\n",
      "MEAN TEST 0.5244194284051307\n"
     ]
    },
    {
     "name": "stderr",
     "output_type": "stream",
     "text": [
      "\u001b[32m[I 2022-01-26 13:13:44,903]\u001b[0m Trial 912 finished with value: 0.40293000277346025 and parameters: {'rf_max_depth': 81, 'rf_min_samples_leaf': 59, 'min_samples_split': 34, 'rf_estimators': 95, 'rf_max_feats': 0.24823792777759626}. Best is trial 539 with value: 0.5642706316233468.\u001b[0m\n"
     ]
    },
    {
     "name": "stdout",
     "output_type": "stream",
     "text": [
      "MEAN TRAIN:  0.38336879464500584\n",
      "MEAN VALIDATION:  0.3036563128740668\n",
      "MEAN TEST 0.40293000277346025\n"
     ]
    },
    {
     "name": "stderr",
     "output_type": "stream",
     "text": [
      "\u001b[32m[I 2022-01-26 13:13:48,255]\u001b[0m Trial 907 finished with value: 0.5538520268861975 and parameters: {'rf_max_depth': 102, 'rf_min_samples_leaf': 4, 'min_samples_split': 7, 'rf_estimators': 95, 'rf_max_feats': 0.2693556080076496}. Best is trial 539 with value: 0.5642706316233468.\u001b[0m\n"
     ]
    },
    {
     "name": "stdout",
     "output_type": "stream",
     "text": [
      "MEAN TRAIN:  0.8257565323678857\n",
      "MEAN VALIDATION:  0.48028309776946704\n",
      "MEAN TEST 0.5538520268861975\n"
     ]
    },
    {
     "name": "stderr",
     "output_type": "stream",
     "text": [
      "\u001b[32m[I 2022-01-26 13:13:49,511]\u001b[0m Trial 916 finished with value: 0.5487634487759313 and parameters: {'rf_max_depth': 99, 'rf_min_samples_leaf': 4, 'min_samples_split': 7, 'rf_estimators': 25, 'rf_max_feats': 0.1893290605487018}. Best is trial 539 with value: 0.5642706316233468.\u001b[0m\n"
     ]
    },
    {
     "name": "stdout",
     "output_type": "stream",
     "text": [
      "MEAN TRAIN:  0.8118022123365967\n",
      "MEAN VALIDATION:  0.4741908399513675\n",
      "MEAN TEST 0.5487634487759313\n"
     ]
    },
    {
     "name": "stderr",
     "output_type": "stream",
     "text": [
      "\u001b[32m[I 2022-01-26 13:13:51,916]\u001b[0m Trial 909 finished with value: 0.49350563997408575 and parameters: {'rf_max_depth': 108, 'rf_min_samples_leaf': 9, 'min_samples_split': 50, 'rf_estimators': 131, 'rf_max_feats': 0.24823792777759626}. Best is trial 539 with value: 0.5642706316233468.\u001b[0m\n"
     ]
    },
    {
     "name": "stdout",
     "output_type": "stream",
     "text": [
      "MEAN TRAIN:  0.5755028692056948\n",
      "MEAN VALIDATION:  0.40782257527257454\n",
      "MEAN TEST 0.49350563997408575\n"
     ]
    },
    {
     "name": "stderr",
     "output_type": "stream",
     "text": [
      "\u001b[32m[I 2022-01-26 13:13:53,337]\u001b[0m Trial 919 finished with value: 0.48401452652784416 and parameters: {'rf_max_depth': 135, 'rf_min_samples_leaf': 13, 'min_samples_split': 14, 'rf_estimators': 12, 'rf_max_feats': 0.17101719412170735}. Best is trial 539 with value: 0.5642706316233468.\u001b[0m\n"
     ]
    },
    {
     "name": "stdout",
     "output_type": "stream",
     "text": [
      "MEAN TRAIN:  0.6035416155847011\n",
      "MEAN VALIDATION:  0.4075109336618432\n",
      "MEAN TEST 0.48401452652784416\n"
     ]
    },
    {
     "name": "stderr",
     "output_type": "stream",
     "text": [
      "\u001b[32m[I 2022-01-26 13:13:53,917]\u001b[0m Trial 914 finished with value: 0.5480880560613803 and parameters: {'rf_max_depth': 93, 'rf_min_samples_leaf': 2, 'min_samples_split': 4, 'rf_estimators': 48, 'rf_max_feats': 0.23180815775416327}. Best is trial 539 with value: 0.5642706316233468.\u001b[0m\n"
     ]
    },
    {
     "name": "stdout",
     "output_type": "stream",
     "text": [
      "MEAN TRAIN:  0.8897837794626362\n",
      "MEAN VALIDATION:  0.48921480241691395\n",
      "MEAN TEST 0.5480880560613803\n"
     ]
    },
    {
     "name": "stderr",
     "output_type": "stream",
     "text": [
      "\u001b[32m[I 2022-01-26 13:13:54,860]\u001b[0m Trial 917 finished with value: 0.5359649978399272 and parameters: {'rf_max_depth': 46, 'rf_min_samples_leaf': 1, 'min_samples_split': 12, 'rf_estimators': 25, 'rf_max_feats': 0.2693556080076496}. Best is trial 539 with value: 0.5642706316233468.\u001b[0m\n"
     ]
    },
    {
     "name": "stdout",
     "output_type": "stream",
     "text": [
      "MEAN TRAIN:  0.8491845299668788\n",
      "MEAN VALIDATION:  0.48286447876877653\n",
      "MEAN TEST 0.5359649978399272\n"
     ]
    },
    {
     "name": "stderr",
     "output_type": "stream",
     "text": [
      "\u001b[32m[I 2022-01-26 13:13:56,854]\u001b[0m Trial 920 finished with value: 0.5145109229775721 and parameters: {'rf_max_depth': 80, 'rf_min_samples_leaf': 1, 'min_samples_split': 14, 'rf_estimators': 12, 'rf_max_feats': 0.2653094332342102}. Best is trial 539 with value: 0.5642706316233468.\u001b[0m\n"
     ]
    },
    {
     "name": "stdout",
     "output_type": "stream",
     "text": [
      "MEAN TRAIN:  0.8204531743694954\n",
      "MEAN VALIDATION:  0.4648372278210875\n",
      "MEAN TEST 0.5145109229775721\n"
     ]
    },
    {
     "name": "stderr",
     "output_type": "stream",
     "text": [
      "\u001b[32m[I 2022-01-26 13:13:58,756]\u001b[0m Trial 915 finished with value: 0.5042054615081357 and parameters: {'rf_max_depth': 28, 'rf_min_samples_leaf': 13, 'min_samples_split': 2, 'rf_estimators': 104, 'rf_max_feats': 0.26261310838608254}. Best is trial 539 with value: 0.5642706316233468.\u001b[0m\n"
     ]
    },
    {
     "name": "stdout",
     "output_type": "stream",
     "text": [
      "MEAN TRAIN:  0.6292207098544238\n",
      "MEAN VALIDATION:  0.4192281454764893\n",
      "MEAN TEST 0.5042054615081357\n"
     ]
    },
    {
     "name": "stderr",
     "output_type": "stream",
     "text": [
      "\u001b[32m[I 2022-01-26 13:14:02,539]\u001b[0m Trial 924 finished with value: 0.5017783471688595 and parameters: {'rf_max_depth': 46, 'rf_min_samples_leaf': 9, 'min_samples_split': 7, 'rf_estimators': 25, 'rf_max_feats': 0.19413162457208868}. Best is trial 539 with value: 0.5642706316233468.\u001b[0m\n"
     ]
    },
    {
     "name": "stdout",
     "output_type": "stream",
     "text": [
      "MEAN TRAIN:  0.6786509641958927\n",
      "MEAN VALIDATION:  0.426218927702922\n",
      "MEAN TEST 0.5017783471688595\n"
     ]
    },
    {
     "name": "stderr",
     "output_type": "stream",
     "text": [
      "\u001b[32m[I 2022-01-26 13:14:07,618]\u001b[0m Trial 923 finished with value: 0.5541471991419029 and parameters: {'rf_max_depth': 91, 'rf_min_samples_leaf': 1, 'min_samples_split': 12, 'rf_estimators': 39, 'rf_max_feats': 0.2693556080076496}. Best is trial 539 with value: 0.5642706316233468.\u001b[0m\n"
     ]
    },
    {
     "name": "stdout",
     "output_type": "stream",
     "text": [
      "MEAN TRAIN:  0.8484268467036318\n",
      "MEAN VALIDATION:  0.4896640557357991\n",
      "MEAN TEST 0.5541471991419029\n"
     ]
    },
    {
     "name": "stderr",
     "output_type": "stream",
     "text": [
      "\u001b[32m[I 2022-01-26 13:14:08,801]\u001b[0m Trial 913 finished with value: 0.5587698446805138 and parameters: {'rf_max_depth': 102, 'rf_min_samples_leaf': 1, 'min_samples_split': 7, 'rf_estimators': 87, 'rf_max_feats': 0.31090641892355975}. Best is trial 539 with value: 0.5642706316233468.\u001b[0m\n",
      "\u001b[32m[I 2022-01-26 13:14:08,924]\u001b[0m Trial 918 finished with value: 0.4784522957852012 and parameters: {'rf_max_depth': 79, 'rf_min_samples_leaf': 11, 'min_samples_split': 58, 'rf_estimators': 148, 'rf_max_feats': 0.24823792777759626}. Best is trial 539 with value: 0.5642706316233468.\u001b[0m\n"
     ]
    },
    {
     "name": "stdout",
     "output_type": "stream",
     "text": [
      "MEAN TRAIN:  0.8894695880208638\n",
      "MEAN VALIDATION:  0.48849381493617106\n",
      "MEAN TEST 0.5587698446805138\n",
      "MEAN TRAIN:  0.5415520051534007\n",
      "MEAN VALIDATION:  0.3881319586639451\n",
      "MEAN TEST 0.4784522957852012\n"
     ]
    },
    {
     "name": "stderr",
     "output_type": "stream",
     "text": [
      "\u001b[32m[I 2022-01-26 13:14:09,497]\u001b[0m Trial 921 finished with value: 0.5197760411030371 and parameters: {'rf_max_depth': 62, 'rf_min_samples_leaf': 9, 'min_samples_split': 4, 'rf_estimators': 91, 'rf_max_feats': 0.2280793748958792}. Best is trial 539 with value: 0.5642706316233468.\u001b[0m\n"
     ]
    },
    {
     "name": "stdout",
     "output_type": "stream",
     "text": [
      "MEAN TRAIN:  0.688829756967007\n",
      "MEAN VALIDATION:  0.4424875763475976\n",
      "MEAN TEST 0.5197760411030371\n"
     ]
    },
    {
     "name": "stderr",
     "output_type": "stream",
     "text": [
      "\u001b[32m[I 2022-01-26 13:14:09,880]\u001b[0m Trial 925 finished with value: 0.4023713195687564 and parameters: {'rf_max_depth': 117, 'rf_min_samples_leaf': 1, 'min_samples_split': 145, 'rf_estimators': 76, 'rf_max_feats': 0.3049860790226595}. Best is trial 539 with value: 0.5642706316233468.\u001b[0m\n"
     ]
    },
    {
     "name": "stdout",
     "output_type": "stream",
     "text": [
      "MEAN TRAIN:  0.3879373556266185\n",
      "MEAN VALIDATION:  0.294788162321984\n",
      "MEAN TEST 0.4023713195687564\n"
     ]
    },
    {
     "name": "stderr",
     "output_type": "stream",
     "text": [
      "\u001b[32m[I 2022-01-26 13:14:13,430]\u001b[0m Trial 922 finished with value: 0.529697119813211 and parameters: {'rf_max_depth': 28, 'rf_min_samples_leaf': 1, 'min_samples_split': 40, 'rf_estimators': 86, 'rf_max_feats': 0.28229458209363234}. Best is trial 539 with value: 0.5642706316233468.\u001b[0m\n"
     ]
    },
    {
     "name": "stdout",
     "output_type": "stream",
     "text": [
      "MEAN TRAIN:  0.7070283017803818\n",
      "MEAN VALIDATION:  0.44591196505325825\n",
      "MEAN TEST 0.529697119813211\n"
     ]
    },
    {
     "name": "stderr",
     "output_type": "stream",
     "text": [
      "\u001b[32m[I 2022-01-26 13:14:18,628]\u001b[0m Trial 929 finished with value: 0.5448933644473456 and parameters: {'rf_max_depth': 36, 'rf_min_samples_leaf': 1, 'min_samples_split': 14, 'rf_estimators': 39, 'rf_max_feats': 0.2242156022207375}. Best is trial 539 with value: 0.5642706316233468.\u001b[0m\n"
     ]
    },
    {
     "name": "stdout",
     "output_type": "stream",
     "text": [
      "MEAN TRAIN:  0.8359911810154113\n",
      "MEAN VALIDATION:  0.4892568097125494\n",
      "MEAN TEST 0.5448933644473456\n"
     ]
    },
    {
     "name": "stderr",
     "output_type": "stream",
     "text": [
      "\u001b[32m[I 2022-01-26 13:14:19,277]\u001b[0m Trial 926 finished with value: 0.5476100677001737 and parameters: {'rf_max_depth': 139, 'rf_min_samples_leaf': 3, 'min_samples_split': 14, 'rf_estimators': 78, 'rf_max_feats': 0.14436763192716243}. Best is trial 539 with value: 0.5642706316233468.\u001b[0m\n"
     ]
    },
    {
     "name": "stdout",
     "output_type": "stream",
     "text": [
      "MEAN TRAIN:  0.785199891302444\n",
      "MEAN VALIDATION:  0.47849177698529816\n",
      "MEAN TEST 0.5476100677001737\n"
     ]
    },
    {
     "name": "stderr",
     "output_type": "stream",
     "text": [
      "\u001b[32m[I 2022-01-26 13:14:20,348]\u001b[0m Trial 932 finished with value: 0.4877948848555828 and parameters: {'rf_max_depth': 147, 'rf_min_samples_leaf': 9, 'min_samples_split': 4, 'rf_estimators': 9, 'rf_max_feats': 0.2355345344810018}. Best is trial 539 with value: 0.5642706316233468.\u001b[0m\n"
     ]
    },
    {
     "name": "stdout",
     "output_type": "stream",
     "text": [
      "MEAN TRAIN:  0.6727333487620433\n",
      "MEAN VALIDATION:  0.41209617079586625\n",
      "MEAN TEST 0.4877948848555828\n"
     ]
    },
    {
     "name": "stderr",
     "output_type": "stream",
     "text": [
      "\u001b[32m[I 2022-01-26 13:14:22,156]\u001b[0m Trial 930 finished with value: 0.5254061374570378 and parameters: {'rf_max_depth': 143, 'rf_min_samples_leaf': 8, 'min_samples_split': 4, 'rf_estimators': 62, 'rf_max_feats': 0.26261310838608254}. Best is trial 539 with value: 0.5642706316233468.\u001b[0m\n"
     ]
    },
    {
     "name": "stdout",
     "output_type": "stream",
     "text": [
      "MEAN TRAIN:  0.7117748547160826\n",
      "MEAN VALIDATION:  0.45546971815847426\n",
      "MEAN TEST 0.5254061374570378\n"
     ]
    },
    {
     "name": "stderr",
     "output_type": "stream",
     "text": [
      "\u001b[32m[I 2022-01-26 13:14:23,609]\u001b[0m Trial 935 finished with value: 0.5119898304973362 and parameters: {'rf_max_depth': 31, 'rf_min_samples_leaf': 3, 'min_samples_split': 14, 'rf_estimators': 12, 'rf_max_feats': 0.10703427220815187}. Best is trial 539 with value: 0.5642706316233468.\u001b[0m\n"
     ]
    },
    {
     "name": "stdout",
     "output_type": "stream",
     "text": [
      "MEAN TRAIN:  0.7561787480511809\n",
      "MEAN VALIDATION:  0.4360910931954791\n",
      "MEAN TEST 0.5119898304973362\n"
     ]
    },
    {
     "name": "stderr",
     "output_type": "stream",
     "text": [
      "\u001b[32m[I 2022-01-26 13:14:24,013]\u001b[0m Trial 933 finished with value: 0.5303188989597174 and parameters: {'rf_max_depth': 31, 'rf_min_samples_leaf': 1, 'min_samples_split': 25, 'rf_estimators': 39, 'rf_max_feats': 0.10703427220815187}. Best is trial 539 with value: 0.5642706316233468.\u001b[0m\n"
     ]
    },
    {
     "name": "stdout",
     "output_type": "stream",
     "text": [
      "MEAN TRAIN:  0.7546279046073558\n",
      "MEAN VALIDATION:  0.4540107801281172\n",
      "MEAN TEST 0.5303188989597174\n"
     ]
    },
    {
     "name": "stderr",
     "output_type": "stream",
     "text": [
      "\u001b[32m[I 2022-01-26 13:14:26,553]\u001b[0m Trial 927 finished with value: 0.4740881810046461 and parameters: {'rf_max_depth': 99, 'rf_min_samples_leaf': 7, 'min_samples_split': 72, 'rf_estimators': 149, 'rf_max_feats': 0.22674391882371772}. Best is trial 539 with value: 0.5642706316233468.\u001b[0m\n"
     ]
    },
    {
     "name": "stdout",
     "output_type": "stream",
     "text": [
      "MEAN TRAIN:  0.5219689988695334\n",
      "MEAN VALIDATION:  0.3761086281662306\n",
      "MEAN TEST 0.4740881810046461\n"
     ]
    },
    {
     "name": "stderr",
     "output_type": "stream",
     "text": [
      "\u001b[32m[I 2022-01-26 13:14:28,051]\u001b[0m Trial 937 finished with value: 0.37430526476611814 and parameters: {'rf_max_depth': 141, 'rf_min_samples_leaf': 70, 'min_samples_split': 14, 'rf_estimators': 78, 'rf_max_feats': 0.1361585609075778}. Best is trial 539 with value: 0.5642706316233468.\u001b[0m\n"
     ]
    },
    {
     "name": "stdout",
     "output_type": "stream",
     "text": [
      "MEAN TRAIN:  0.34246894002172984\n",
      "MEAN VALIDATION:  0.27469521699323385\n",
      "MEAN TEST 0.37430526476611814\n"
     ]
    },
    {
     "name": "stderr",
     "output_type": "stream",
     "text": [
      "\u001b[32m[I 2022-01-26 13:14:29,602]\u001b[0m Trial 934 finished with value: 0.5155019140960075 and parameters: {'rf_max_depth': 127, 'rf_min_samples_leaf': 8, 'min_samples_split': 4, 'rf_estimators': 39, 'rf_max_feats': 0.31042807390908406}. Best is trial 539 with value: 0.5642706316233468.\u001b[0m\n"
     ]
    },
    {
     "name": "stdout",
     "output_type": "stream",
     "text": [
      "MEAN TRAIN:  0.7151476698427132\n",
      "MEAN VALIDATION:  0.4483379420138605\n",
      "MEAN TEST 0.5155019140960075\n"
     ]
    },
    {
     "name": "stderr",
     "output_type": "stream",
     "text": [
      "\u001b[32m[I 2022-01-26 13:14:31,850]\u001b[0m Trial 931 finished with value: 0.5306148464416364 and parameters: {'rf_max_depth': 99, 'rf_min_samples_leaf': 7, 'min_samples_split': 2, 'rf_estimators': 91, 'rf_max_feats': 0.24823792777759626}. Best is trial 539 with value: 0.5642706316233468.\u001b[0m\n"
     ]
    },
    {
     "name": "stdout",
     "output_type": "stream",
     "text": [
      "MEAN TRAIN:  0.7320365589855132\n",
      "MEAN VALIDATION:  0.4595431280255139\n",
      "MEAN TEST 0.5306148464416364\n"
     ]
    },
    {
     "name": "stderr",
     "output_type": "stream",
     "text": [
      "\u001b[32m[I 2022-01-26 13:14:34,001]\u001b[0m Trial 928 finished with value: 0.5218034476683815 and parameters: {'rf_max_depth': 143, 'rf_min_samples_leaf': 8, 'min_samples_split': 4, 'rf_estimators': 125, 'rf_max_feats': 0.26261310838608254}. Best is trial 539 with value: 0.5642706316233468.\u001b[0m\n"
     ]
    },
    {
     "name": "stdout",
     "output_type": "stream",
     "text": [
      "MEAN TRAIN:  0.7117855450207694\n",
      "MEAN VALIDATION:  0.44921055477985855\n",
      "MEAN TEST 0.5218034476683815\n"
     ]
    },
    {
     "name": "stderr",
     "output_type": "stream",
     "text": [
      "\u001b[32m[I 2022-01-26 13:14:35,490]\u001b[0m Trial 936 finished with value: 0.5072631286297157 and parameters: {'rf_max_depth': 32, 'rf_min_samples_leaf': 8, 'min_samples_split': 34, 'rf_estimators': 74, 'rf_max_feats': 0.22703744150321095}. Best is trial 539 with value: 0.5642706316233468.\u001b[0m\n"
     ]
    },
    {
     "name": "stdout",
     "output_type": "stream",
     "text": [
      "MEAN TRAIN:  0.6271692330335149\n",
      "MEAN VALIDATION:  0.42143033613973985\n",
      "MEAN TEST 0.5072631286297157\n"
     ]
    },
    {
     "name": "stderr",
     "output_type": "stream",
     "text": [
      "\u001b[32m[I 2022-01-26 13:14:37,881]\u001b[0m Trial 940 finished with value: 0.42018778396493356 and parameters: {'rf_max_depth': 143, 'rf_min_samples_leaf': 42, 'min_samples_split': 92, 'rf_estimators': 128, 'rf_max_feats': 0.12800585004078796}. Best is trial 539 with value: 0.5642706316233468.\u001b[0m\n"
     ]
    },
    {
     "name": "stdout",
     "output_type": "stream",
     "text": [
      "MEAN TRAIN:  0.42022474398074117\n",
      "MEAN VALIDATION:  0.32544007218793286\n",
      "MEAN TEST 0.42018778396493356\n"
     ]
    },
    {
     "name": "stderr",
     "output_type": "stream",
     "text": [
      "\u001b[32m[I 2022-01-26 13:14:39,472]\u001b[0m Trial 939 finished with value: 0.5171680246269659 and parameters: {'rf_max_depth': 9, 'rf_min_samples_leaf': 8, 'min_samples_split': 4, 'rf_estimators': 74, 'rf_max_feats': 0.17931782045014238}. Best is trial 539 with value: 0.5642706316233468.\u001b[0m\n"
     ]
    },
    {
     "name": "stdout",
     "output_type": "stream",
     "text": [
      "MEAN TRAIN:  0.7004390255915329\n",
      "MEAN VALIDATION:  0.44749361986413366\n",
      "MEAN TEST 0.5171680246269659\n"
     ]
    },
    {
     "name": "stderr",
     "output_type": "stream",
     "text": [
      "\u001b[32m[I 2022-01-26 13:14:40,686]\u001b[0m Trial 941 finished with value: 0.5074347173297641 and parameters: {'rf_max_depth': 65, 'rf_min_samples_leaf': 7, 'min_samples_split': 25, 'rf_estimators': 87, 'rf_max_feats': 0.10703427220815187}. Best is trial 539 with value: 0.5642706316233468.\u001b[0m\n"
     ]
    },
    {
     "name": "stdout",
     "output_type": "stream",
     "text": [
      "MEAN TRAIN:  0.6527749849001482\n",
      "MEAN VALIDATION:  0.429816792095367\n",
      "MEAN TEST 0.5074347173297641\n"
     ]
    },
    {
     "name": "stderr",
     "output_type": "stream",
     "text": [
      "\u001b[32m[I 2022-01-26 13:14:44,632]\u001b[0m Trial 938 finished with value: 0.519970568346861 and parameters: {'rf_max_depth': 93, 'rf_min_samples_leaf': 9, 'min_samples_split': 16, 'rf_estimators': 95, 'rf_max_feats': 0.24823792777759626}. Best is trial 539 with value: 0.5642706316233468.\u001b[0m\n"
     ]
    },
    {
     "name": "stdout",
     "output_type": "stream",
     "text": [
      "MEAN TRAIN:  0.6895437434043298\n",
      "MEAN VALIDATION:  0.44527043992218635\n",
      "MEAN TEST 0.519970568346861\n"
     ]
    },
    {
     "name": "stderr",
     "output_type": "stream",
     "text": [
      "\u001b[32m[I 2022-01-26 13:14:46,746]\u001b[0m Trial 945 finished with value: 0.4465917534780123 and parameters: {'rf_max_depth': 76, 'rf_min_samples_leaf': 16, 'min_samples_split': 78, 'rf_estimators': 104, 'rf_max_feats': 0.11846807631911244}. Best is trial 539 with value: 0.5642706316233468.\u001b[0m\n"
     ]
    },
    {
     "name": "stdout",
     "output_type": "stream",
     "text": [
      "MEAN TRAIN:  0.47228551113549627\n",
      "MEAN VALIDATION:  0.3590405951561354\n",
      "MEAN TEST 0.4465917534780123\n"
     ]
    },
    {
     "name": "stderr",
     "output_type": "stream",
     "text": [
      "\u001b[32m[I 2022-01-26 13:14:49,535]\u001b[0m Trial 943 finished with value: 0.5265320100669424 and parameters: {'rf_max_depth': 143, 'rf_min_samples_leaf': 1, 'min_samples_split': 34, 'rf_estimators': 86, 'rf_max_feats': 0.17931782045014238}. Best is trial 539 with value: 0.5642706316233468.\u001b[0m\n"
     ]
    },
    {
     "name": "stdout",
     "output_type": "stream",
     "text": [
      "MEAN TRAIN:  0.7260495991173384\n",
      "MEAN VALIDATION:  0.45564101811383767\n",
      "MEAN TEST 0.5265320100669424\n"
     ]
    },
    {
     "name": "stderr",
     "output_type": "stream",
     "text": [
      "\u001b[32m[I 2022-01-26 13:14:49,982]\u001b[0m Trial 949 finished with value: 0.4093762523112936 and parameters: {'rf_max_depth': 80, 'rf_min_samples_leaf': 1, 'min_samples_split': 60, 'rf_estimators': 3, 'rf_max_feats': 0.11789095608732551}. Best is trial 539 with value: 0.5642706316233468.\u001b[0m\n",
      "\u001b[32m[I 2022-01-26 13:14:50,048]\u001b[0m Trial 948 finished with value: 0.40980714363654397 and parameters: {'rf_max_depth': 33, 'rf_min_samples_leaf': 56, 'min_samples_split': 2, 'rf_estimators': 39, 'rf_max_feats': 0.22674391882371772}. Best is trial 539 with value: 0.5642706316233468.\u001b[0m\n"
     ]
    },
    {
     "name": "stdout",
     "output_type": "stream",
     "text": [
      "MEAN TRAIN:  0.551709104225506\n",
      "MEAN VALIDATION:  0.34770782951628976\n",
      "MEAN TEST 0.4093762523112936\n",
      "MEAN TRAIN:  0.39008251783742875\n",
      "MEAN VALIDATION:  0.3031187509862101\n",
      "MEAN TEST 0.40980714363654397\n"
     ]
    },
    {
     "name": "stderr",
     "output_type": "stream",
     "text": [
      "\u001b[32m[I 2022-01-26 13:14:50,282]\u001b[0m Trial 947 finished with value: 0.4839328848044386 and parameters: {'rf_max_depth': 30, 'rf_min_samples_leaf': 5, 'min_samples_split': 58, 'rf_estimators': 39, 'rf_max_feats': 0.23180815775416327}. Best is trial 539 with value: 0.5642706316233468.\u001b[0m\n"
     ]
    },
    {
     "name": "stdout",
     "output_type": "stream",
     "text": [
      "MEAN TRAIN:  0.573103556521642\n",
      "MEAN VALIDATION:  0.4038312660419819\n",
      "MEAN TEST 0.4839328848044386\n"
     ]
    },
    {
     "name": "stderr",
     "output_type": "stream",
     "text": [
      "\u001b[32m[I 2022-01-26 13:14:51,493]\u001b[0m Trial 952 finished with value: 0.41321440434212475 and parameters: {'rf_max_depth': 14, 'rf_min_samples_leaf': 7, 'min_samples_split': 124, 'rf_estimators': 12, 'rf_max_feats': 0.2653094332342102}. Best is trial 539 with value: 0.5642706316233468.\u001b[0m\n"
     ]
    },
    {
     "name": "stdout",
     "output_type": "stream",
     "text": [
      "MEAN TRAIN:  0.3963663615669348\n",
      "MEAN VALIDATION:  0.30061667724651764\n",
      "MEAN TEST 0.41321440434212475\n"
     ]
    },
    {
     "name": "stderr",
     "output_type": "stream",
     "text": [
      "\u001b[32m[I 2022-01-26 13:14:54,071]\u001b[0m Trial 953 finished with value: 0.4891364913881066 and parameters: {'rf_max_depth': 46, 'rf_min_samples_leaf': 13, 'min_samples_split': 7, 'rf_estimators': 20, 'rf_max_feats': 0.19413162457208868}. Best is trial 539 with value: 0.5642706316233468.\u001b[0m\n"
     ]
    },
    {
     "name": "stdout",
     "output_type": "stream",
     "text": [
      "MEAN TRAIN:  0.6133222885947762\n",
      "MEAN VALIDATION:  0.40562415657371426\n",
      "MEAN TEST 0.4891364913881066\n"
     ]
    },
    {
     "name": "stderr",
     "output_type": "stream",
     "text": [
      "\u001b[32m[I 2022-01-26 13:15:00,846]\u001b[0m Trial 942 finished with value: 0.5262964191275232 and parameters: {'rf_max_depth': 143, 'rf_min_samples_leaf': 8, 'min_samples_split': 4, 'rf_estimators': 130, 'rf_max_feats': 0.27168102352640006}. Best is trial 539 with value: 0.5642706316233468.\u001b[0m\n"
     ]
    },
    {
     "name": "stdout",
     "output_type": "stream",
     "text": [
      "MEAN TRAIN:  0.7128229288204919\n",
      "MEAN VALIDATION:  0.4466287894820815\n",
      "MEAN TEST 0.5262964191275232\n"
     ]
    },
    {
     "name": "stderr",
     "output_type": "stream",
     "text": [
      "\u001b[32m[I 2022-01-26 13:15:04,518]\u001b[0m Trial 954 finished with value: 0.4327204385681232 and parameters: {'rf_max_depth': 99, 'rf_min_samples_leaf': 9, 'min_samples_split': 111, 'rf_estimators': 91, 'rf_max_feats': 0.3049860790226595}. Best is trial 539 with value: 0.5642706316233468.\u001b[0m\n"
     ]
    },
    {
     "name": "stdout",
     "output_type": "stream",
     "text": [
      "MEAN TRAIN:  0.43136498530736506\n",
      "MEAN VALIDATION:  0.33038727151711084\n",
      "MEAN TEST 0.4327204385681232\n"
     ]
    },
    {
     "name": "stderr",
     "output_type": "stream",
     "text": [
      "\u001b[32m[I 2022-01-26 13:15:06,647]\u001b[0m Trial 946 finished with value: 0.5012323702841984 and parameters: {'rf_max_depth': 9, 'rf_min_samples_leaf': 7, 'min_samples_split': 52, 'rf_estimators': 124, 'rf_max_feats': 0.3749185281634642}. Best is trial 539 with value: 0.5642706316233468.\u001b[0m\n"
     ]
    },
    {
     "name": "stdout",
     "output_type": "stream",
     "text": [
      "MEAN TRAIN:  0.5912203715099974\n",
      "MEAN VALIDATION:  0.41076933477816163\n",
      "MEAN TEST 0.5012323702841984\n"
     ]
    },
    {
     "name": "stderr",
     "output_type": "stream",
     "text": [
      "\u001b[32m[I 2022-01-26 13:15:11,523]\u001b[0m Trial 951 finished with value: 0.510676593428733 and parameters: {'rf_max_depth': 37, 'rf_min_samples_leaf': 7, 'min_samples_split': 34, 'rf_estimators': 125, 'rf_max_feats': 0.24823792777759626}. Best is trial 539 with value: 0.5642706316233468.\u001b[0m\n"
     ]
    },
    {
     "name": "stdout",
     "output_type": "stream",
     "text": [
      "MEAN TRAIN:  0.6413294686279979\n",
      "MEAN VALIDATION:  0.43237489371064297\n",
      "MEAN TEST 0.510676593428733\n"
     ]
    },
    {
     "name": "stderr",
     "output_type": "stream",
     "text": [
      "\u001b[32m[I 2022-01-26 13:15:15,812]\u001b[0m Trial 956 finished with value: 0.5253500375743478 and parameters: {'rf_max_depth': 99, 'rf_min_samples_leaf': 8, 'min_samples_split': 4, 'rf_estimators': 39, 'rf_max_feats': 0.36642883337329096}. Best is trial 539 with value: 0.5642706316233468.\u001b[0m\n"
     ]
    },
    {
     "name": "stdout",
     "output_type": "stream",
     "text": [
      "MEAN TRAIN:  0.7154825616838012\n",
      "MEAN VALIDATION:  0.4407248818888022\n",
      "MEAN TEST 0.5253500375743478\n"
     ]
    },
    {
     "name": "stderr",
     "output_type": "stream",
     "text": [
      "\u001b[32m[I 2022-01-26 13:15:16,044]\u001b[0m Trial 944 finished with value: 0.5341878931458007 and parameters: {'rf_max_depth': 68, 'rf_min_samples_leaf': 8, 'min_samples_split': 4, 'rf_estimators': 139, 'rf_max_feats': 0.3733026091718963}. Best is trial 539 with value: 0.5642706316233468.\u001b[0m\n",
      "\u001b[32m[I 2022-01-26 13:15:16,047]\u001b[0m Trial 950 finished with value: 0.5518569037467678 and parameters: {'rf_max_depth': 80, 'rf_min_samples_leaf': 1, 'min_samples_split': 12, 'rf_estimators': 88, 'rf_max_feats': 0.2693556080076496}. Best is trial 539 with value: 0.5642706316233468.\u001b[0m\n"
     ]
    },
    {
     "name": "stdout",
     "output_type": "stream",
     "text": [
      "MEAN TRAIN:  0.7212967522879496\n",
      "MEAN VALIDATION:  0.45560685917396065\n",
      "MEAN TEST 0.5341878931458007\n",
      "MEAN TRAIN:  0.8541815648599002\n",
      "MEAN VALIDATION:  0.4884876334560643\n",
      "MEAN TEST 0.5518569037467678\n"
     ]
    },
    {
     "name": "stderr",
     "output_type": "stream",
     "text": [
      "\u001b[32m[I 2022-01-26 13:15:20,167]\u001b[0m Trial 957 finished with value: 0.47639030681633415 and parameters: {'rf_max_depth': 143, 'rf_min_samples_leaf': 9, 'min_samples_split': 65, 'rf_estimators': 91, 'rf_max_feats': 0.24823792777759626}. Best is trial 539 with value: 0.5642706316233468.\u001b[0m\n"
     ]
    },
    {
     "name": "stdout",
     "output_type": "stream",
     "text": [
      "MEAN TRAIN:  0.5367921506776936\n",
      "MEAN VALIDATION:  0.39699529491413293\n",
      "MEAN TEST 0.47639030681633415\n"
     ]
    },
    {
     "name": "stderr",
     "output_type": "stream",
     "text": [
      "\u001b[32m[I 2022-01-26 13:15:20,780]\u001b[0m Trial 959 finished with value: 0.37624634779132143 and parameters: {'rf_max_depth': 36, 'rf_min_samples_leaf': 68, 'min_samples_split': 63, 'rf_estimators': 78, 'rf_max_feats': 0.15781659369154627}. Best is trial 539 with value: 0.5642706316233468.\u001b[0m\n"
     ]
    },
    {
     "name": "stdout",
     "output_type": "stream",
     "text": [
      "MEAN TRAIN:  0.3487109714727096\n",
      "MEAN VALIDATION:  0.2772253827226358\n",
      "MEAN TEST 0.37624634779132143\n"
     ]
    },
    {
     "name": "stderr",
     "output_type": "stream",
     "text": [
      "\u001b[32m[I 2022-01-26 13:15:23,911]\u001b[0m Trial 955 finished with value: 0.5417438098718941 and parameters: {'rf_max_depth': 69, 'rf_min_samples_leaf': 3, 'min_samples_split': 14, 'rf_estimators': 78, 'rf_max_feats': 0.29526048006823363}. Best is trial 539 with value: 0.5642706316233468.\u001b[0m\n"
     ]
    },
    {
     "name": "stdout",
     "output_type": "stream",
     "text": [
      "MEAN TRAIN:  0.8021644135111339\n",
      "MEAN VALIDATION:  0.47129788359970004\n",
      "MEAN TEST 0.5417438098718941\n"
     ]
    },
    {
     "name": "stderr",
     "output_type": "stream",
     "text": [
      "\u001b[32m[I 2022-01-26 13:15:24,962]\u001b[0m Trial 958 finished with value: 0.4950915315116114 and parameters: {'rf_max_depth': 108, 'rf_min_samples_leaf': 7, 'min_samples_split': 50, 'rf_estimators': 79, 'rf_max_feats': 0.24823792777759626}. Best is trial 539 with value: 0.5642706316233468.\u001b[0m\n"
     ]
    },
    {
     "name": "stdout",
     "output_type": "stream",
     "text": [
      "MEAN TRAIN:  0.5852234872349905\n",
      "MEAN VALIDATION:  0.4069334983698881\n",
      "MEAN TEST 0.4950915315116114\n"
     ]
    },
    {
     "name": "stderr",
     "output_type": "stream",
     "text": [
      "\u001b[32m[I 2022-01-26 13:15:28,228]\u001b[0m Trial 960 finished with value: 0.5191780187404427 and parameters: {'rf_max_depth': 109, 'rf_min_samples_leaf': 8, 'min_samples_split': 14, 'rf_estimators': 74, 'rf_max_feats': 0.17931782045014238}. Best is trial 539 with value: 0.5642706316233468.\u001b[0m\n"
     ]
    },
    {
     "name": "stdout",
     "output_type": "stream",
     "text": [
      "MEAN TRAIN:  0.7018470076874005\n",
      "MEAN VALIDATION:  0.4500826187151555\n",
      "MEAN TEST 0.5191780187404427\n"
     ]
    },
    {
     "name": "stderr",
     "output_type": "stream",
     "text": [
      "\u001b[32m[I 2022-01-26 13:15:30,050]\u001b[0m Trial 965 finished with value: 0.46177878791203353 and parameters: {'rf_max_depth': 117, 'rf_min_samples_leaf': 1, 'min_samples_split': 85, 'rf_estimators': 39, 'rf_max_feats': 0.2280793748958792}. Best is trial 539 with value: 0.5642706316233468.\u001b[0m\n"
     ]
    },
    {
     "name": "stdout",
     "output_type": "stream",
     "text": [
      "MEAN TRAIN:  0.5187175198019027\n",
      "MEAN VALIDATION:  0.38060248486797715\n",
      "MEAN TEST 0.46177878791203353\n"
     ]
    },
    {
     "name": "stderr",
     "output_type": "stream",
     "text": [
      "\u001b[32m[I 2022-01-26 13:15:32,828]\u001b[0m Trial 963 finished with value: 0.473138632732673 and parameters: {'rf_max_depth': 69, 'rf_min_samples_leaf': 24, 'min_samples_split': 9, 'rf_estimators': 91, 'rf_max_feats': 0.22434362471930752}. Best is trial 539 with value: 0.5642706316233468.\u001b[0m\n"
     ]
    },
    {
     "name": "stdout",
     "output_type": "stream",
     "text": [
      "MEAN TRAIN:  0.5244361546648685\n",
      "MEAN VALIDATION:  0.3771939429465648\n",
      "MEAN TEST 0.473138632732673\n"
     ]
    },
    {
     "name": "stderr",
     "output_type": "stream",
     "text": [
      "\u001b[32m[I 2022-01-26 13:15:33,778]\u001b[0m Trial 961 finished with value: 0.4851898421845128 and parameters: {'rf_max_depth': 124, 'rf_min_samples_leaf': 22, 'min_samples_split': 13, 'rf_estimators': 96, 'rf_max_feats': 0.3225188904239183}. Best is trial 539 with value: 0.5642706316233468.\u001b[0m\n"
     ]
    },
    {
     "name": "stdout",
     "output_type": "stream",
     "text": [
      "MEAN TRAIN:  0.5429979074262719\n",
      "MEAN VALIDATION:  0.39236001172336\n",
      "MEAN TEST 0.4851898421845128\n"
     ]
    },
    {
     "name": "stderr",
     "output_type": "stream",
     "text": [
      "\u001b[32m[I 2022-01-26 13:15:37,806]\u001b[0m Trial 962 finished with value: 0.529180532958662 and parameters: {'rf_max_depth': 129, 'rf_min_samples_leaf': 8, 'min_samples_split': 9, 'rf_estimators': 95, 'rf_max_feats': 0.22703744150321095}. Best is trial 539 with value: 0.5642706316233468.\u001b[0m\n"
     ]
    },
    {
     "name": "stdout",
     "output_type": "stream",
     "text": [
      "MEAN TRAIN:  0.7081940762915647\n",
      "MEAN VALIDATION:  0.44910415133744885\n",
      "MEAN TEST 0.529180532958662\n"
     ]
    },
    {
     "name": "stderr",
     "output_type": "stream",
     "text": [
      "\u001b[32m[I 2022-01-26 13:15:39,710]\u001b[0m Trial 968 finished with value: 0.544591704423808 and parameters: {'rf_max_depth': 139, 'rf_min_samples_leaf': 3, 'min_samples_split': 14, 'rf_estimators': 48, 'rf_max_feats': 0.14436763192716243}. Best is trial 539 with value: 0.5642706316233468.\u001b[0m\n"
     ]
    },
    {
     "name": "stdout",
     "output_type": "stream",
     "text": [
      "MEAN TRAIN:  0.7869314720350431\n",
      "MEAN VALIDATION:  0.47537431651887446\n",
      "MEAN TEST 0.544591704423808\n"
     ]
    },
    {
     "name": "stderr",
     "output_type": "stream",
     "text": [
      "\u001b[32m[I 2022-01-26 13:15:41,008]\u001b[0m Trial 967 finished with value: 0.4863010530126048 and parameters: {'rf_max_depth': 99, 'rf_min_samples_leaf': 9, 'min_samples_split': 55, 'rf_estimators': 78, 'rf_max_feats': 0.24823792777759626}. Best is trial 539 with value: 0.5642706316233468.\u001b[0m\n"
     ]
    },
    {
     "name": "stdout",
     "output_type": "stream",
     "text": [
      "MEAN TRAIN:  0.5586285835494185\n",
      "MEAN VALIDATION:  0.3939151954996397\n",
      "MEAN TEST 0.4863010530126048\n"
     ]
    },
    {
     "name": "stderr",
     "output_type": "stream",
     "text": [
      "\u001b[32m[I 2022-01-26 13:15:41,685]\u001b[0m Trial 966 finished with value: 0.5066775302716143 and parameters: {'rf_max_depth': 33, 'rf_min_samples_leaf': 13, 'min_samples_split': 2, 'rf_estimators': 72, 'rf_max_feats': 0.29526048006823363}. Best is trial 539 with value: 0.5642706316233468.\u001b[0m\n"
     ]
    },
    {
     "name": "stdout",
     "output_type": "stream",
     "text": [
      "MEAN TRAIN:  0.6292977236465782\n",
      "MEAN VALIDATION:  0.42281240147838384\n",
      "MEAN TEST 0.5066775302716143\n"
     ]
    },
    {
     "name": "stderr",
     "output_type": "stream",
     "text": [
      "\u001b[32m[I 2022-01-26 13:15:42,067]\u001b[0m Trial 969 finished with value: 0.5440674118493666 and parameters: {'rf_max_depth': 30, 'rf_min_samples_leaf': 1, 'min_samples_split': 2, 'rf_estimators': 26, 'rf_max_feats': 0.18911502644962894}. Best is trial 539 with value: 0.5642706316233468.\u001b[0m\n"
     ]
    },
    {
     "name": "stdout",
     "output_type": "stream",
     "text": [
      "MEAN TRAIN:  0.9135861477503452\n",
      "MEAN VALIDATION:  0.459979425392809\n",
      "MEAN TEST 0.5440674118493666\n"
     ]
    },
    {
     "name": "stderr",
     "output_type": "stream",
     "text": [
      "\u001b[32m[I 2022-01-26 13:15:51,167]\u001b[0m Trial 973 finished with value: 0.5072333220869248 and parameters: {'rf_max_depth': 132, 'rf_min_samples_leaf': 13, 'min_samples_split': 2, 'rf_estimators': 64, 'rf_max_feats': 0.2280793748958792}. Best is trial 539 with value: 0.5642706316233468.\u001b[0m\n"
     ]
    },
    {
     "name": "stdout",
     "output_type": "stream",
     "text": [
      "MEAN TRAIN:  0.6244079166343633\n",
      "MEAN VALIDATION:  0.42260182148649256\n",
      "MEAN TEST 0.5072333220869248\n"
     ]
    },
    {
     "name": "stderr",
     "output_type": "stream",
     "text": [
      "\u001b[32m[I 2022-01-26 13:15:52,714]\u001b[0m Trial 974 finished with value: 0.537495335904622 and parameters: {'rf_max_depth': 22, 'rf_min_samples_leaf': 6, 'min_samples_split': 7, 'rf_estimators': 52, 'rf_max_feats': 0.24823792777759626}. Best is trial 539 with value: 0.5642706316233468.\u001b[0m\n",
      "\u001b[32m[I 2022-01-26 13:15:52,828]\u001b[0m Trial 970 finished with value: 0.5237985179715166 and parameters: {'rf_max_depth': 120, 'rf_min_samples_leaf': 8, 'min_samples_split': 4, 'rf_estimators': 116, 'rf_max_feats': 0.1569751657375137}. Best is trial 539 with value: 0.5642706316233468.\u001b[0m\n"
     ]
    },
    {
     "name": "stdout",
     "output_type": "stream",
     "text": [
      "MEAN TRAIN:  0.7580066581507271\n",
      "MEAN VALIDATION:  0.45842181984865205\n",
      "MEAN TEST 0.537495335904622\n",
      "MEAN TRAIN:  0.697579381055969\n",
      "MEAN VALIDATION:  0.4562625479433981\n",
      "MEAN TEST 0.5237985179715166\n"
     ]
    },
    {
     "name": "stderr",
     "output_type": "stream",
     "text": [
      "\u001b[32m[I 2022-01-26 13:15:55,258]\u001b[0m Trial 977 finished with value: 0.5058891856499399 and parameters: {'rf_max_depth': 143, 'rf_min_samples_leaf': 8, 'min_samples_split': 16, 'rf_estimators': 25, 'rf_max_feats': 0.10665860038712986}. Best is trial 539 with value: 0.5642706316233468.\u001b[0m\n"
     ]
    },
    {
     "name": "stdout",
     "output_type": "stream",
     "text": [
      "MEAN TRAIN:  0.6800422430845492\n",
      "MEAN VALIDATION:  0.43692404292399667\n",
      "MEAN TEST 0.5058891856499399\n"
     ]
    },
    {
     "name": "stderr",
     "output_type": "stream",
     "text": [
      "\u001b[32m[I 2022-01-26 13:15:55,846]\u001b[0m Trial 978 finished with value: 0.3983428257172815 and parameters: {'rf_max_depth': 33, 'rf_min_samples_leaf': 6, 'min_samples_split': 2, 'rf_estimators': 2, 'rf_max_feats': 0.29526048006823363}. Best is trial 539 with value: 0.5642706316233468.\u001b[0m\n"
     ]
    },
    {
     "name": "stdout",
     "output_type": "stream",
     "text": [
      "MEAN TRAIN:  0.6372645932975722\n",
      "MEAN VALIDATION:  0.2934898014618089\n",
      "MEAN TEST 0.3983428257172815\n"
     ]
    },
    {
     "name": "stderr",
     "output_type": "stream",
     "text": [
      "\u001b[32m[I 2022-01-26 13:15:56,084]\u001b[0m Trial 975 finished with value: 0.4236278132520507 and parameters: {'rf_max_depth': 3, 'rf_min_samples_leaf': 3, 'min_samples_split': 106, 'rf_estimators': 78, 'rf_max_feats': 0.14436763192716243}. Best is trial 539 with value: 0.5642706316233468.\u001b[0m\n"
     ]
    },
    {
     "name": "stdout",
     "output_type": "stream",
     "text": [
      "MEAN TRAIN:  0.4307483687793365\n",
      "MEAN VALIDATION:  0.3283857942437035\n",
      "MEAN TEST 0.4236278132520507\n"
     ]
    },
    {
     "name": "stderr",
     "output_type": "stream",
     "text": [
      "\u001b[32m[I 2022-01-26 13:16:04,025]\u001b[0m Trial 964 finished with value: 0.5465168488361979 and parameters: {'rf_max_depth': 14, 'rf_min_samples_leaf': 3, 'min_samples_split': 14, 'rf_estimators': 138, 'rf_max_feats': 0.3341816735844944}. Best is trial 539 with value: 0.5642706316233468.\u001b[0m\n"
     ]
    },
    {
     "name": "stdout",
     "output_type": "stream",
     "text": [
      "MEAN TRAIN:  0.806923297600803\n",
      "MEAN VALIDATION:  0.48087605254792365\n",
      "MEAN TEST 0.5465168488361979\n"
     ]
    },
    {
     "name": "stderr",
     "output_type": "stream",
     "text": [
      "\u001b[32m[I 2022-01-26 13:16:04,851]\u001b[0m Trial 971 finished with value: 0.5502216220202765 and parameters: {'rf_max_depth': 130, 'rf_min_samples_leaf': 1, 'min_samples_split': 25, 'rf_estimators': 87, 'rf_max_feats': 0.3479583103843516}. Best is trial 539 with value: 0.5642706316233468.\u001b[0m\n"
     ]
    },
    {
     "name": "stdout",
     "output_type": "stream",
     "text": [
      "MEAN TRAIN:  0.7811993116227336\n",
      "MEAN VALIDATION:  0.48085410832650366\n",
      "MEAN TEST 0.5502216220202765\n"
     ]
    },
    {
     "name": "stderr",
     "output_type": "stream",
     "text": [
      "\u001b[32m[I 2022-01-26 13:16:05,074]\u001b[0m Trial 979 finished with value: 0.4014438174411577 and parameters: {'rf_max_depth': 100, 'rf_min_samples_leaf': 8, 'min_samples_split': 147, 'rf_estimators': 120, 'rf_max_feats': 0.24823792777759626}. Best is trial 539 with value: 0.5642706316233468.\u001b[0m\n"
     ]
    },
    {
     "name": "stdout",
     "output_type": "stream",
     "text": [
      "MEAN TRAIN:  0.382341274395624\n",
      "MEAN VALIDATION:  0.29704361138423346\n",
      "MEAN TEST 0.4014438174411577\n"
     ]
    },
    {
     "name": "stderr",
     "output_type": "stream",
     "text": [
      "\u001b[32m[I 2022-01-26 13:16:10,754]\u001b[0m Trial 982 finished with value: 0.5381502939227698 and parameters: {'rf_max_depth': 102, 'rf_min_samples_leaf': 5, 'min_samples_split': 4, 'rf_estimators': 39, 'rf_max_feats': 0.15375551819999858}. Best is trial 539 with value: 0.5642706316233468.\u001b[0m\n"
     ]
    },
    {
     "name": "stdout",
     "output_type": "stream",
     "text": [
      "MEAN TRAIN:  0.7747143087564433\n",
      "MEAN VALIDATION:  0.4626984996595082\n",
      "MEAN TEST 0.5381502939227698\n"
     ]
    },
    {
     "name": "stderr",
     "output_type": "stream",
     "text": [
      "\u001b[32m[I 2022-01-26 13:16:15,300]\u001b[0m Trial 984 finished with value: 0.3522901161497508 and parameters: {'rf_max_depth': 100, 'rf_min_samples_leaf': 80, 'min_samples_split': 16, 'rf_estimators': 113, 'rf_max_feats': 0.10665860038712986}. Best is trial 539 with value: 0.5642706316233468.\u001b[0m\n"
     ]
    },
    {
     "name": "stdout",
     "output_type": "stream",
     "text": [
      "MEAN TRAIN:  0.31570898169356043\n",
      "MEAN VALIDATION:  0.25570404390654744\n",
      "MEAN TEST 0.3522901161497508\n"
     ]
    },
    {
     "name": "stderr",
     "output_type": "stream",
     "text": [
      "\u001b[32m[I 2022-01-26 13:16:15,656]\u001b[0m Trial 983 finished with value: 0.4756823614333451 and parameters: {'rf_max_depth': 88, 'rf_min_samples_leaf': 19, 'min_samples_split': 59, 'rf_estimators': 72, 'rf_max_feats': 0.29526048006823363}. Best is trial 539 with value: 0.5642706316233468.\u001b[0m\n"
     ]
    },
    {
     "name": "stdout",
     "output_type": "stream",
     "text": [
      "MEAN TRAIN:  0.5213131407547514\n",
      "MEAN VALIDATION:  0.3762014214370863\n",
      "MEAN TEST 0.4756823614333451\n"
     ]
    },
    {
     "name": "stderr",
     "output_type": "stream",
     "text": [
      "\u001b[32m[I 2022-01-26 13:16:20,466]\u001b[0m Trial 976 finished with value: 0.56071655432286 and parameters: {'rf_max_depth': 143, 'rf_min_samples_leaf': 1, 'min_samples_split': 4, 'rf_estimators': 136, 'rf_max_feats': 0.13479858187024568}. Best is trial 539 with value: 0.5642706316233468.\u001b[0m\n"
     ]
    },
    {
     "name": "stdout",
     "output_type": "stream",
     "text": [
      "MEAN TRAIN:  0.9086925828721031\n",
      "MEAN VALIDATION:  0.49711975007377146\n",
      "MEAN TEST 0.56071655432286\n"
     ]
    },
    {
     "name": "stderr",
     "output_type": "stream",
     "text": [
      "\u001b[32m[I 2022-01-26 13:16:21,917]\u001b[0m Trial 981 finished with value: 0.49620433702730704 and parameters: {'rf_max_depth': 12, 'rf_min_samples_leaf': 7, 'min_samples_split': 47, 'rf_estimators': 124, 'rf_max_feats': 0.23180815775416327}. Best is trial 539 with value: 0.5642706316233468.\u001b[0m\n"
     ]
    },
    {
     "name": "stdout",
     "output_type": "stream",
     "text": [
      "MEAN TRAIN:  0.5934511680273445\n",
      "MEAN VALIDATION:  0.4145770622778377\n",
      "MEAN TEST 0.49620433702730704\n"
     ]
    },
    {
     "name": "stderr",
     "output_type": "stream",
     "text": [
      "\u001b[32m[I 2022-01-26 13:16:22,928]\u001b[0m Trial 985 finished with value: 0.5072536282794831 and parameters: {'rf_max_depth': 57, 'rf_min_samples_leaf': 12, 'min_samples_split': 2, 'rf_estimators': 50, 'rf_max_feats': 0.22674391882371772}. Best is trial 539 with value: 0.5642706316233468.\u001b[0m\n"
     ]
    },
    {
     "name": "stdout",
     "output_type": "stream",
     "text": [
      "MEAN TRAIN:  0.6365907086707777\n",
      "MEAN VALIDATION:  0.42689707854134706\n",
      "MEAN TEST 0.5072536282794831\n"
     ]
    },
    {
     "name": "stderr",
     "output_type": "stream",
     "text": [
      "\u001b[32m[I 2022-01-26 13:16:24,592]\u001b[0m Trial 986 finished with value: 0.49156903329343205 and parameters: {'rf_max_depth': 99, 'rf_min_samples_leaf': 16, 'min_samples_split': 7, 'rf_estimators': 65, 'rf_max_feats': 0.22871422589729562}. Best is trial 539 with value: 0.5642706316233468.\u001b[0m\n"
     ]
    },
    {
     "name": "stdout",
     "output_type": "stream",
     "text": [
      "MEAN TRAIN:  0.5889620948780361\n",
      "MEAN VALIDATION:  0.4053780564604523\n",
      "MEAN TEST 0.49156903329343205\n"
     ]
    },
    {
     "name": "stderr",
     "output_type": "stream",
     "text": [
      "\u001b[32m[I 2022-01-26 13:16:29,027]\u001b[0m Trial 989 finished with value: 0.5093233896982241 and parameters: {'rf_max_depth': 119, 'rf_min_samples_leaf': 8, 'min_samples_split': 10, 'rf_estimators': 64, 'rf_max_feats': 0.10713541449559455}. Best is trial 539 with value: 0.5642706316233468.\u001b[0m\n"
     ]
    },
    {
     "name": "stdout",
     "output_type": "stream",
     "text": [
      "MEAN TRAIN:  0.6831451083789647\n",
      "MEAN VALIDATION:  0.43283441336172146\n",
      "MEAN TEST 0.5093233896982241\n"
     ]
    },
    {
     "name": "stderr",
     "output_type": "stream",
     "text": [
      "\u001b[32m[I 2022-01-26 13:16:30,054]\u001b[0m Trial 972 finished with value: 0.5609979749207998 and parameters: {'rf_max_depth': 143, 'rf_min_samples_leaf': 1, 'min_samples_split': 12, 'rf_estimators': 144, 'rf_max_feats': 0.3508912648055049}. Best is trial 539 with value: 0.5642706316233468.\u001b[0m\n"
     ]
    },
    {
     "name": "stdout",
     "output_type": "stream",
     "text": [
      "MEAN TRAIN:  0.859977067056023\n",
      "MEAN VALIDATION:  0.48863697550925667\n",
      "MEAN TEST 0.5609979749207998\n"
     ]
    },
    {
     "name": "stderr",
     "output_type": "stream",
     "text": [
      "\u001b[32m[I 2022-01-26 13:16:30,416]\u001b[0m Trial 980 finished with value: 0.5599072813038625 and parameters: {'rf_max_depth': 125, 'rf_min_samples_leaf': 1, 'min_samples_split': 12, 'rf_estimators': 142, 'rf_max_feats': 0.2280793748958792}. Best is trial 539 with value: 0.5642706316233468.\u001b[0m\n"
     ]
    },
    {
     "name": "stdout",
     "output_type": "stream",
     "text": [
      "MEAN TRAIN:  0.8540551180941612\n",
      "MEAN VALIDATION:  0.4867592925631962\n",
      "MEAN TEST 0.5599072813038625\n"
     ]
    },
    {
     "name": "stderr",
     "output_type": "stream",
     "text": [
      "\u001b[32m[I 2022-01-26 13:16:33,043]\u001b[0m Trial 990 finished with value: 0.48995695976616727 and parameters: {'rf_max_depth': 99, 'rf_min_samples_leaf': 7, 'min_samples_split': 47, 'rf_estimators': 96, 'rf_max_feats': 0.1302018747767839}. Best is trial 539 with value: 0.5642706316233468.\u001b[0m\n"
     ]
    },
    {
     "name": "stdout",
     "output_type": "stream",
     "text": [
      "MEAN TRAIN:  0.5811053725879857\n",
      "MEAN VALIDATION:  0.407014612918954\n",
      "MEAN TEST 0.48995695976616727\n"
     ]
    },
    {
     "name": "stderr",
     "output_type": "stream",
     "text": [
      "\u001b[32m[I 2022-01-26 13:16:34,406]\u001b[0m Trial 994 finished with value: 0.3743980829731247 and parameters: {'rf_max_depth': 75, 'rf_min_samples_leaf': 70, 'min_samples_split': 63, 'rf_estimators': 20, 'rf_max_feats': 0.19337332801595083}. Best is trial 539 with value: 0.5642706316233468.\u001b[0m\n"
     ]
    },
    {
     "name": "stdout",
     "output_type": "stream",
     "text": [
      "MEAN TRAIN:  0.3462068960520234\n",
      "MEAN VALIDATION:  0.2758601996448463\n",
      "MEAN TEST 0.3743980829731247\n"
     ]
    },
    {
     "name": "stderr",
     "output_type": "stream",
     "text": [
      "\u001b[32m[I 2022-01-26 13:16:36,117]\u001b[0m Trial 987 finished with value: 0.5516086744487214 and parameters: {'rf_max_depth': 28, 'rf_min_samples_leaf': 1, 'min_samples_split': 12, 'rf_estimators': 50, 'rf_max_feats': 0.31737078897730425}. Best is trial 539 with value: 0.5642706316233468.\u001b[0m\n"
     ]
    },
    {
     "name": "stdout",
     "output_type": "stream",
     "text": [
      "MEAN TRAIN:  0.8544917862210333\n",
      "MEAN VALIDATION:  0.5038784690594424\n",
      "MEAN TEST 0.5516086744487214\n"
     ]
    },
    {
     "name": "stderr",
     "output_type": "stream",
     "text": [
      "\u001b[32m[I 2022-01-26 13:16:37,886]\u001b[0m Trial 993 finished with value: 0.40286813717034864 and parameters: {'rf_max_depth': 93, 'rf_min_samples_leaf': 63, 'min_samples_split': 16, 'rf_estimators': 78, 'rf_max_feats': 0.3049860790226595}. Best is trial 539 with value: 0.5642706316233468.\u001b[0m\n"
     ]
    },
    {
     "name": "stdout",
     "output_type": "stream",
     "text": [
      "MEAN TRAIN:  0.3723492490166985\n",
      "MEAN VALIDATION:  0.29953368181678275\n",
      "MEAN TEST 0.40286813717034864\n"
     ]
    },
    {
     "name": "stderr",
     "output_type": "stream",
     "text": [
      "\u001b[32m[I 2022-01-26 13:16:39,318]\u001b[0m Trial 995 finished with value: 0.48421524994016607 and parameters: {'rf_max_depth': 139, 'rf_min_samples_leaf': 8, 'min_samples_split': 58, 'rf_estimators': 33, 'rf_max_feats': 0.23180815775416327}. Best is trial 539 with value: 0.5642706316233468.\u001b[0m\n"
     ]
    },
    {
     "name": "stdout",
     "output_type": "stream",
     "text": [
      "MEAN TRAIN:  0.5568077961149336\n",
      "MEAN VALIDATION:  0.3949874454488129\n",
      "MEAN TEST 0.48421524994016607\n"
     ]
    },
    {
     "name": "stderr",
     "output_type": "stream",
     "text": [
      "\u001b[32m[I 2022-01-26 13:16:44,241]\u001b[0m Trial 997 finished with value: 0.4223680656633556 and parameters: {'rf_max_depth': 143, 'rf_min_samples_leaf': 8, 'min_samples_split': 121, 'rf_estimators': 64, 'rf_max_feats': 0.26261310838608254}. Best is trial 539 with value: 0.5642706316233468.\u001b[0m\n"
     ]
    },
    {
     "name": "stdout",
     "output_type": "stream",
     "text": [
      "MEAN TRAIN:  0.41859202761099007\n",
      "MEAN VALIDATION:  0.32705672676068714\n",
      "MEAN TEST 0.4223680656633556\n"
     ]
    },
    {
     "name": "stderr",
     "output_type": "stream",
     "text": [
      "\u001b[32m[I 2022-01-26 13:16:44,955]\u001b[0m Trial 992 finished with value: 0.5003044332833942 and parameters: {'rf_max_depth': 35, 'rf_min_samples_leaf': 13, 'min_samples_split': 2, 'rf_estimators': 120, 'rf_max_feats': 0.17101719412170735}. Best is trial 539 with value: 0.5642706316233468.\u001b[0m\n"
     ]
    },
    {
     "name": "stdout",
     "output_type": "stream",
     "text": [
      "MEAN TRAIN:  0.614837372642817\n",
      "MEAN VALIDATION:  0.42158367794231094\n",
      "MEAN TEST 0.5003044332833942\n"
     ]
    },
    {
     "name": "stderr",
     "output_type": "stream",
     "text": [
      "\u001b[32m[I 2022-01-26 13:16:48,666]\u001b[0m Trial 1000 finished with value: 0.5365552121862145 and parameters: {'rf_max_depth': 28, 'rf_min_samples_leaf': 3, 'min_samples_split': 4, 'rf_estimators': 16, 'rf_max_feats': 0.2137666100914958}. Best is trial 539 with value: 0.5642706316233468.\u001b[0m\n"
     ]
    },
    {
     "name": "stdout",
     "output_type": "stream",
     "text": [
      "MEAN TRAIN:  0.8441518188312207\n",
      "MEAN VALIDATION:  0.46240202570556244\n",
      "MEAN TEST 0.5365552121862145\n"
     ]
    },
    {
     "name": "stderr",
     "output_type": "stream",
     "text": [
      "\u001b[32m[I 2022-01-26 13:16:49,786]\u001b[0m Trial 991 finished with value: 0.5506989790172904 and parameters: {'rf_max_depth': 80, 'rf_min_samples_leaf': 1, 'min_samples_split': 10, 'rf_estimators': 64, 'rf_max_feats': 0.30544307143426497}. Best is trial 539 with value: 0.5642706316233468.\u001b[0m\n"
     ]
    },
    {
     "name": "stdout",
     "output_type": "stream",
     "text": [
      "MEAN TRAIN:  0.8657269222618529\n",
      "MEAN VALIDATION:  0.48595933373807776\n",
      "MEAN TEST 0.5506989790172904\n"
     ]
    },
    {
     "name": "stderr",
     "output_type": "stream",
     "text": [
      "\u001b[32m[I 2022-01-26 13:16:50,864]\u001b[0m Trial 988 finished with value: 0.5309607085471777 and parameters: {'rf_max_depth': 99, 'rf_min_samples_leaf': 7, 'min_samples_split': 2, 'rf_estimators': 132, 'rf_max_feats': 0.28229458209363234}. Best is trial 539 with value: 0.5642706316233468.\u001b[0m\n"
     ]
    },
    {
     "name": "stdout",
     "output_type": "stream",
     "text": [
      "MEAN TRAIN:  0.7358015343471667\n",
      "MEAN VALIDATION:  0.45341285652636065\n",
      "MEAN TEST 0.5309607085471777\n"
     ]
    },
    {
     "name": "stderr",
     "output_type": "stream",
     "text": [
      "\u001b[32m[I 2022-01-26 13:16:56,405]\u001b[0m Trial 1001 finished with value: 0.4209133116727498 and parameters: {'rf_max_depth': 143, 'rf_min_samples_leaf': 44, 'min_samples_split': 114, 'rf_estimators': 83, 'rf_max_feats': 0.26261310838608254}. Best is trial 539 with value: 0.5642706316233468.\u001b[0m\n"
     ]
    },
    {
     "name": "stdout",
     "output_type": "stream",
     "text": [
      "MEAN TRAIN:  0.40767495409662596\n",
      "MEAN VALIDATION:  0.31897166870332\n",
      "MEAN TEST 0.4209133116727498\n"
     ]
    },
    {
     "name": "stderr",
     "output_type": "stream",
     "text": [
      "\u001b[32m[I 2022-01-26 13:16:57,803]\u001b[0m Trial 1002 finished with value: 0.37159973356692333 and parameters: {'rf_max_depth': 79, 'rf_min_samples_leaf': 74, 'min_samples_split': 58, 'rf_estimators': 148, 'rf_max_feats': 0.17101719412170735}. Best is trial 539 with value: 0.5642706316233468.\u001b[0m\n"
     ]
    },
    {
     "name": "stdout",
     "output_type": "stream",
     "text": [
      "MEAN TRAIN:  0.3427286634615535\n",
      "MEAN VALIDATION:  0.2717384713143136\n",
      "MEAN TEST 0.37159973356692333\n"
     ]
    },
    {
     "name": "stderr",
     "output_type": "stream",
     "text": [
      "\u001b[32m[I 2022-01-26 13:16:59,361]\u001b[0m Trial 996 finished with value: 0.5126915654797666 and parameters: {'rf_max_depth': 95, 'rf_min_samples_leaf': 12, 'min_samples_split': 2, 'rf_estimators': 121, 'rf_max_feats': 0.29526048006823363}. Best is trial 539 with value: 0.5642706316233468.\u001b[0m\n"
     ]
    },
    {
     "name": "stdout",
     "output_type": "stream",
     "text": [
      "MEAN TRAIN:  0.645739503015359\n",
      "MEAN VALIDATION:  0.4315243432350252\n",
      "MEAN TEST 0.5126915654797666\n"
     ]
    },
    {
     "name": "stderr",
     "output_type": "stream",
     "text": [
      "\u001b[32m[I 2022-01-26 13:17:02,410]\u001b[0m Trial 1003 finished with value: 0.5123567364071119 and parameters: {'rf_max_depth': 95, 'rf_min_samples_leaf': 3, 'min_samples_split': 46, 'rf_estimators': 64, 'rf_max_feats': 0.26261310838608254}. Best is trial 539 with value: 0.5642706316233468.\u001b[0m\n"
     ]
    },
    {
     "name": "stdout",
     "output_type": "stream",
     "text": [
      "MEAN TRAIN:  0.6512898023426595\n",
      "MEAN VALIDATION:  0.44352696749774906\n",
      "MEAN TEST 0.5123567364071119\n"
     ]
    },
    {
     "name": "stderr",
     "output_type": "stream",
     "text": [
      "\u001b[32m[I 2022-01-26 13:17:02,713]\u001b[0m Trial 1006 finished with value: 0.512086041969893 and parameters: {'rf_max_depth': 82, 'rf_min_samples_leaf': 3, 'min_samples_split': 23, 'rf_estimators': 16, 'rf_max_feats': 0.24823792777759626}. Best is trial 539 with value: 0.5642706316233468.\u001b[0m\n"
     ]
    },
    {
     "name": "stdout",
     "output_type": "stream",
     "text": [
      "MEAN TRAIN:  0.7331515571025082\n",
      "MEAN VALIDATION:  0.4566012145351698\n",
      "MEAN TEST 0.512086041969893\n"
     ]
    },
    {
     "name": "stderr",
     "output_type": "stream",
     "text": [
      "\u001b[32m[I 2022-01-26 13:17:05,190]\u001b[0m Trial 1008 finished with value: 0.4897731778419322 and parameters: {'rf_max_depth': 23, 'rf_min_samples_leaf': 13, 'min_samples_split': 2, 'rf_estimators': 20, 'rf_max_feats': 0.17101719412170735}. Best is trial 539 with value: 0.5642706316233468.\u001b[0m\n"
     ]
    },
    {
     "name": "stdout",
     "output_type": "stream",
     "text": [
      "MEAN TRAIN:  0.6068623632595791\n",
      "MEAN VALIDATION:  0.4202540210975586\n",
      "MEAN TEST 0.4897731778419322\n"
     ]
    },
    {
     "name": "stderr",
     "output_type": "stream",
     "text": [
      "\u001b[32m[I 2022-01-26 13:17:08,460]\u001b[0m Trial 1009 finished with value: 0.3964310547405449 and parameters: {'rf_max_depth': 117, 'rf_min_samples_leaf': 1, 'min_samples_split': 146, 'rf_estimators': 39, 'rf_max_feats': 0.2280793748958792}. Best is trial 539 with value: 0.5642706316233468.\u001b[0m\n"
     ]
    },
    {
     "name": "stdout",
     "output_type": "stream",
     "text": [
      "MEAN TRAIN:  0.3824353992002936\n",
      "MEAN VALIDATION:  0.29651356057556183\n",
      "MEAN TEST 0.3964310547405449\n"
     ]
    },
    {
     "name": "stderr",
     "output_type": "stream",
     "text": [
      "\u001b[32m[I 2022-01-26 13:17:09,506]\u001b[0m Trial 999 finished with value: 0.5493329062977564 and parameters: {'rf_max_depth': 139, 'rf_min_samples_leaf': 1, 'min_samples_split': 14, 'rf_estimators': 78, 'rf_max_feats': 0.3341816735844944}. Best is trial 539 with value: 0.5642706316233468.\u001b[0m\n"
     ]
    },
    {
     "name": "stdout",
     "output_type": "stream",
     "text": [
      "MEAN TRAIN:  0.8416408683638883\n",
      "MEAN VALIDATION:  0.4805646550824913\n",
      "MEAN TEST 0.5493329062977564\n"
     ]
    },
    {
     "name": "stderr",
     "output_type": "stream",
     "text": [
      "\u001b[32m[I 2022-01-26 13:17:12,786]\u001b[0m Trial 998 finished with value: 0.5571477213362854 and parameters: {'rf_max_depth': 129, 'rf_min_samples_leaf': 1, 'min_samples_split': 12, 'rf_estimators': 106, 'rf_max_feats': 0.3136701879008911}. Best is trial 539 with value: 0.5642706316233468.\u001b[0m\n"
     ]
    },
    {
     "name": "stdout",
     "output_type": "stream",
     "text": [
      "MEAN TRAIN:  0.855805087535155\n",
      "MEAN VALIDATION:  0.48758602606365714\n",
      "MEAN TEST 0.5571477213362854\n"
     ]
    },
    {
     "name": "stderr",
     "output_type": "stream",
     "text": [
      "\u001b[32m[I 2022-01-26 13:17:13,614]\u001b[0m Trial 1005 finished with value: 0.48097235398413263 and parameters: {'rf_max_depth': 106, 'rf_min_samples_leaf': 19, 'min_samples_split': 50, 'rf_estimators': 107, 'rf_max_feats': 0.28229458209363234}. Best is trial 539 with value: 0.5642706316233468.\u001b[0m\n"
     ]
    },
    {
     "name": "stdout",
     "output_type": "stream",
     "text": [
      "MEAN TRAIN:  0.5374482278436081\n",
      "MEAN VALIDATION:  0.3895692718235827\n",
      "MEAN TEST 0.48097235398413263\n"
     ]
    },
    {
     "name": "stderr",
     "output_type": "stream",
     "text": [
      "\u001b[32m[I 2022-01-26 13:17:16,284]\u001b[0m Trial 1011 finished with value: 0.5199772100661765 and parameters: {'rf_max_depth': 143, 'rf_min_samples_leaf': 8, 'min_samples_split': 8, 'rf_estimators': 64, 'rf_max_feats': 0.10665860038712986}. Best is trial 539 with value: 0.5642706316233468.\u001b[0m\n"
     ]
    },
    {
     "name": "stdout",
     "output_type": "stream",
     "text": [
      "MEAN TRAIN:  0.6871036924780215\n",
      "MEAN VALIDATION:  0.43376094972808293\n",
      "MEAN TEST 0.5199772100661765\n"
     ]
    },
    {
     "name": "stderr",
     "output_type": "stream",
     "text": [
      "\u001b[32m[I 2022-01-26 13:17:16,942]\u001b[0m Trial 1007 finished with value: 0.48956005392416824 and parameters: {'rf_max_depth': 117, 'rf_min_samples_leaf': 6, 'min_samples_split': 63, 'rf_estimators': 86, 'rf_max_feats': 0.3049860790226595}. Best is trial 539 with value: 0.5642706316233468.\u001b[0m\n"
     ]
    },
    {
     "name": "stdout",
     "output_type": "stream",
     "text": [
      "MEAN TRAIN:  0.5634401317244497\n",
      "MEAN VALIDATION:  0.3977528043070496\n",
      "MEAN TEST 0.48956005392416824\n"
     ]
    },
    {
     "name": "stderr",
     "output_type": "stream",
     "text": [
      "\u001b[32m[I 2022-01-26 13:17:19,422]\u001b[0m Trial 1004 finished with value: 0.4873297302161642 and parameters: {'rf_max_depth': 95, 'rf_min_samples_leaf': 20, 'min_samples_split': 2, 'rf_estimators': 142, 'rf_max_feats': 0.29526048006823363}. Best is trial 539 with value: 0.5642706316233468.\u001b[0m\n"
     ]
    },
    {
     "name": "stdout",
     "output_type": "stream",
     "text": [
      "MEAN TRAIN:  0.5590590483672611\n",
      "MEAN VALIDATION:  0.4002200692203413\n",
      "MEAN TEST 0.4873297302161642\n"
     ]
    },
    {
     "name": "stderr",
     "output_type": "stream",
     "text": [
      "\u001b[32m[I 2022-01-26 13:17:19,804]\u001b[0m Trial 1014 finished with value: 0.5304988361208534 and parameters: {'rf_max_depth': 148, 'rf_min_samples_leaf': 3, 'min_samples_split': 2, 'rf_estimators': 12, 'rf_max_feats': 0.2653094332342102}. Best is trial 539 with value: 0.5642706316233468.\u001b[0m\n"
     ]
    },
    {
     "name": "stdout",
     "output_type": "stream",
     "text": [
      "MEAN TRAIN:  0.834695504041888\n",
      "MEAN VALIDATION:  0.47138480810053823\n",
      "MEAN TEST 0.5304988361208534\n"
     ]
    },
    {
     "name": "stderr",
     "output_type": "stream",
     "text": [
      "\u001b[32m[I 2022-01-26 13:17:24,898]\u001b[0m Trial 1015 finished with value: 0.37949314123640837 and parameters: {'rf_max_depth': 99, 'rf_min_samples_leaf': 77, 'min_samples_split': 16, 'rf_estimators': 100, 'rf_max_feats': 0.2748305490716357}. Best is trial 539 with value: 0.5642706316233468.\u001b[0m\n"
     ]
    },
    {
     "name": "stdout",
     "output_type": "stream",
     "text": [
      "MEAN TRAIN:  0.3448659415750628\n",
      "MEAN VALIDATION:  0.2761213864443392\n",
      "MEAN TEST 0.37949314123640837\n"
     ]
    },
    {
     "name": "stderr",
     "output_type": "stream",
     "text": [
      "\u001b[32m[I 2022-01-26 13:17:25,370]\u001b[0m Trial 1012 finished with value: 0.5291194877724468 and parameters: {'rf_max_depth': 66, 'rf_min_samples_leaf': 8, 'min_samples_split': 14, 'rf_estimators': 64, 'rf_max_feats': 0.240531876313841}. Best is trial 539 with value: 0.5642706316233468.\u001b[0m\n"
     ]
    },
    {
     "name": "stdout",
     "output_type": "stream",
     "text": [
      "MEAN TRAIN:  0.710613633721502\n",
      "MEAN VALIDATION:  0.4413324256433799\n",
      "MEAN TEST 0.5291194877724468\n"
     ]
    },
    {
     "name": "stderr",
     "output_type": "stream",
     "text": [
      "\u001b[32m[I 2022-01-26 13:17:26,205]\u001b[0m Trial 1010 finished with value: 0.5212664561321925 and parameters: {'rf_max_depth': 139, 'rf_min_samples_leaf': 9, 'min_samples_split': 4, 'rf_estimators': 78, 'rf_max_feats': 0.31399522054517504}. Best is trial 539 with value: 0.5642706316233468.\u001b[0m\n"
     ]
    },
    {
     "name": "stdout",
     "output_type": "stream",
     "text": [
      "MEAN TRAIN:  0.6953346732383409\n",
      "MEAN VALIDATION:  0.4443554482670226\n",
      "MEAN TEST 0.5212664561321925\n"
     ]
    },
    {
     "name": "stderr",
     "output_type": "stream",
     "text": [
      "\u001b[32m[I 2022-01-26 13:17:27,997]\u001b[0m Trial 1013 finished with value: 0.5158262124605312 and parameters: {'rf_max_depth': 89, 'rf_min_samples_leaf': 9, 'min_samples_split': 7, 'rf_estimators': 91, 'rf_max_feats': 0.19413162457208868}. Best is trial 539 with value: 0.5642706316233468.\u001b[0m\n"
     ]
    },
    {
     "name": "stdout",
     "output_type": "stream",
     "text": [
      "MEAN TRAIN:  0.6838852001508238\n",
      "MEAN VALIDATION:  0.4405274654482736\n",
      "MEAN TEST 0.5158262124605312\n"
     ]
    },
    {
     "name": "stderr",
     "output_type": "stream",
     "text": [
      "\u001b[32m[I 2022-01-26 13:17:28,966]\u001b[0m Trial 1016 finished with value: 0.5179945594157702 and parameters: {'rf_max_depth': 117, 'rf_min_samples_leaf': 3, 'min_samples_split': 33, 'rf_estimators': 78, 'rf_max_feats': 0.1316448706524011}. Best is trial 539 with value: 0.5642706316233468.\u001b[0m\n"
     ]
    },
    {
     "name": "stdout",
     "output_type": "stream",
     "text": [
      "MEAN TRAIN:  0.6808374572453781\n",
      "MEAN VALIDATION:  0.44986996400953483\n",
      "MEAN TEST 0.5179945594157702\n"
     ]
    },
    {
     "name": "stderr",
     "output_type": "stream",
     "text": [
      "\u001b[32m[I 2022-01-26 13:17:30,345]\u001b[0m Trial 1022 finished with value: 0.5090002148688473 and parameters: {'rf_max_depth': 99, 'rf_min_samples_leaf': 4, 'min_samples_split': 14, 'rf_estimators': 12, 'rf_max_feats': 0.10665860038712986}. Best is trial 539 with value: 0.5642706316233468.\u001b[0m\n"
     ]
    },
    {
     "name": "stdout",
     "output_type": "stream",
     "text": [
      "MEAN TRAIN:  0.7354820473154094\n",
      "MEAN VALIDATION:  0.4218168737369066\n",
      "MEAN TEST 0.5090002148688473\n"
     ]
    },
    {
     "name": "stderr",
     "output_type": "stream",
     "text": [
      "\u001b[32m[I 2022-01-26 13:17:35,815]\u001b[0m Trial 1023 finished with value: 0.41596184833663125 and parameters: {'rf_max_depth': 95, 'rf_min_samples_leaf': 3, 'min_samples_split': 133, 'rf_estimators': 55, 'rf_max_feats': 0.2920117552148781}. Best is trial 539 with value: 0.5642706316233468.\u001b[0m\n"
     ]
    },
    {
     "name": "stdout",
     "output_type": "stream",
     "text": [
      "MEAN TRAIN:  0.4052800440858929\n",
      "MEAN VALIDATION:  0.31406509038278363\n",
      "MEAN TEST 0.41596184833663125\n"
     ]
    },
    {
     "name": "stderr",
     "output_type": "stream",
     "text": [
      "\u001b[32m[I 2022-01-26 13:17:36,561]\u001b[0m Trial 1020 finished with value: 0.531677002781958 and parameters: {'rf_max_depth': 82, 'rf_min_samples_leaf': 6, 'min_samples_split': 14, 'rf_estimators': 78, 'rf_max_feats': 0.14684367747319815}. Best is trial 539 with value: 0.5642706316233468.\u001b[0m\n"
     ]
    },
    {
     "name": "stdout",
     "output_type": "stream",
     "text": [
      "MEAN TRAIN:  0.7336979816223054\n",
      "MEAN VALIDATION:  0.4548551996751252\n",
      "MEAN TEST 0.531677002781958\n"
     ]
    },
    {
     "name": "stderr",
     "output_type": "stream",
     "text": [
      "\u001b[32m[I 2022-01-26 13:17:37,622]\u001b[0m Trial 1019 finished with value: 0.5237629840760255 and parameters: {'rf_max_depth': 80, 'rf_min_samples_leaf': 8, 'min_samples_split': 12, 'rf_estimators': 64, 'rf_max_feats': 0.2693556080076496}. Best is trial 539 with value: 0.5642706316233468.\u001b[0m\n"
     ]
    },
    {
     "name": "stdout",
     "output_type": "stream",
     "text": [
      "MEAN TRAIN:  0.7132178790303977\n",
      "MEAN VALIDATION:  0.43529525600210484\n",
      "MEAN TEST 0.5237629840760255\n"
     ]
    },
    {
     "name": "stderr",
     "output_type": "stream",
     "text": [
      "\u001b[32m[I 2022-01-26 13:17:37,963]\u001b[0m Trial 1021 finished with value: 0.5479213436596504 and parameters: {'rf_max_depth': 100, 'rf_min_samples_leaf': 1, 'min_samples_split': 12, 'rf_estimators': 39, 'rf_max_feats': 0.26261310838608254}. Best is trial 539 with value: 0.5642706316233468.\u001b[0m\n"
     ]
    },
    {
     "name": "stdout",
     "output_type": "stream",
     "text": [
      "MEAN TRAIN:  0.8490352232909194\n",
      "MEAN VALIDATION:  0.48510531268809076\n",
      "MEAN TEST 0.5479213436596504\n"
     ]
    },
    {
     "name": "stderr",
     "output_type": "stream",
     "text": [
      "\u001b[32m[I 2022-01-26 13:17:38,673]\u001b[0m Trial 1018 finished with value: 0.5493622387373387 and parameters: {'rf_max_depth': 117, 'rf_min_samples_leaf': 3, 'min_samples_split': 2, 'rf_estimators': 78, 'rf_max_feats': 0.17101719412170735}. Best is trial 539 with value: 0.5642706316233468.\u001b[0m\n"
     ]
    },
    {
     "name": "stdout",
     "output_type": "stream",
     "text": [
      "MEAN TRAIN:  0.8511477026610891\n",
      "MEAN VALIDATION:  0.4876455007291357\n",
      "MEAN TEST 0.5493622387373387\n"
     ]
    },
    {
     "name": "stderr",
     "output_type": "stream",
     "text": [
      "\u001b[32m[I 2022-01-26 13:17:49,124]\u001b[0m Trial 1017 finished with value: 0.562848679793522 and parameters: {'rf_max_depth': 33, 'rf_min_samples_leaf': 1, 'min_samples_split': 2, 'rf_estimators': 128, 'rf_max_feats': 0.19674310452525204}. Best is trial 539 with value: 0.5642706316233468.\u001b[0m\n"
     ]
    },
    {
     "name": "stdout",
     "output_type": "stream",
     "text": [
      "MEAN TRAIN:  0.9225116971283649\n",
      "MEAN VALIDATION:  0.4955687752502521\n",
      "MEAN TEST 0.562848679793522\n"
     ]
    }
   ],
   "source": [
    "class RFObjective(object):\n",
    "    def __init__(self, dataset, fp_params: dict):\n",
    "        self.dataset = dataset\n",
    "        self.fingerprints = get_fingerprints(dataset, **fp_params)\n",
    "\n",
    "    def __call__(self, trial):        \n",
    "        rf_trial_dict = {\n",
    "            \"max_depth\": trial.suggest_int('rf_max_depth', 2, 150),\n",
    "            \"min_samples_leaf\": trial.suggest_int('rf_min_samples_leaf', 1, 80),\n",
    "            'min_samples_split': trial.suggest_int('min_samples_split', 2, 150),\n",
    "            \"n_estimators\": trial.suggest_int('rf_estimators', 2, 150),\n",
    "            \"max_features\": trial.suggest_float('rf_max_feats', 0.1, 0.4, log=True)\n",
    "        }\n",
    "    \n",
    "        bundle = train_test_split(self.fingerprints, self.dataset, shuffle=True, random_state=SEED, test_size=0.25)\n",
    "\n",
    "        y_test = bundle[3]\n",
    "\n",
    "        model = RandomForestRegressor(**rf_trial_dict)\n",
    "        scores, y_pred = oof(model, bundle, assay=ASSAY)\n",
    "        return np.mean(scores)\n",
    "\n",
    "\n",
    "sampler = optuna.samplers.NSGAIISampler(population_size=200)\n",
    "study = optuna.create_study(direction='maximize', sampler=sampler)\n",
    "study.optimize(RFObjective(dataset, current_best), n_trials=1024, n_jobs = 6)"
   ]
  },
  {
   "cell_type": "markdown",
   "metadata": {},
   "source": [
    "### Static plots"
   ]
  },
  {
   "cell_type": "code",
   "execution_count": 10,
   "metadata": {},
   "outputs": [],
   "source": [
    "from utils.plots import static_avp_avr_graphs, avr_plot, avp_plot"
   ]
  },
  {
   "cell_type": "code",
   "execution_count": 11,
   "metadata": {},
   "outputs": [
    {
     "data": {
      "image/png": "[encoded data removed]",
      "text/plain": [
       "<Figure size 1080x360 with 2 Axes>"
      ]
     },
     "metadata": {
      "needs_background": "light"
     },
     "output_type": "display_data"
    }
   ],
   "source": [
    "static_avp_avr_graphs(y_pred, y_test[ASSAY], np.mean(errors), ASSAY)"
   ]
  },
  {
   "cell_type": "markdown",
   "metadata": {},
   "source": [
    "### Interactive plots"
   ]
  },
  {
   "cell_type": "code",
   "execution_count": null,
   "metadata": {},
   "outputs": [],
   "source": [
    "avp_plot(y_test[ASSAY], y_pred, y_test.index.values, y_test[\"Structure\"], np.mean(errors))"
   ]
  },
  {
   "cell_type": "code",
   "execution_count": null,
   "metadata": {},
   "outputs": [],
   "source": [
    "avr = avr_plot(y_test[ASSAY], y_pred, y_test.index.values, y_test[\"Structure\"], np.mean(errors))"
   ]
  }
 ],
 "metadata": {
  "interpreter": {
   "hash": "921405fb54ba40c0aecf9cfe4a53581e6631389606eafa2cb2fb269e41e61c99"
  },
  "kernelspec": {
   "display_name": "local-venv",
   "language": "python",
   "name": "python3"
  },
  "language_info": {
   "codemirror_mode": {
    "name": "ipython",
    "version": 3
   },
   "file_extension": ".py",
   "mimetype": "text/x-python",
   "name": "python",
   "nbconvert_exporter": "python",
   "pygments_lexer": "ipython3",
   "version": "3.9.8"
  }
 },
 "nbformat": 4,
 "nbformat_minor": 4
}
