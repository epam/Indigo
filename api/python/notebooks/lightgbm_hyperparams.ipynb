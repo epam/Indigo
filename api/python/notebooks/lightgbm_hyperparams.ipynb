{
 "cells": [
  {
   "cell_type": "code",
   "execution_count": 1,
   "metadata": {},
   "outputs": [],
   "source": [
    "import numpy as np\n",
    "import pandas as pd\n",
    "from indigo import *\n",
    "import matplotlib.pyplot as plt\n",
    "pd.options.mode.chained_assignment = None  # default='warn'\n",
    "from bokeh.io import output_notebook"
   ]
  },
  {
   "cell_type": "code",
   "execution_count": 2,
   "metadata": {},
   "outputs": [
    {
     "data": {
      "text/html": [
       "\n",
       "    <div class=\"bk-root\">\n",
       "        <a href=\"https://bokeh.org\" target=\"_blank\" class=\"bk-logo bk-logo-small bk-logo-notebook\"></a>\n",
       "        <span id=\"1001\">Loading BokehJS ...</span>\n",
       "    </div>"
      ]
     },
     "metadata": {},
     "output_type": "display_data"
    },
    {
     "data": {
      "application/javascript": "\n(function(root) {\n  function now() {\n    return new Date();\n  }\n\n  const force = true;\n\n  if (typeof root._bokeh_onload_callbacks === \"undefined\" || force === true) {\n    root._bokeh_onload_callbacks = [];\n    root._bokeh_is_loading = undefined;\n  }\n\n  const JS_MIME_TYPE = 'application/javascript';\n  const HTML_MIME_TYPE = 'text/html';\n  const EXEC_MIME_TYPE = 'application/vnd.bokehjs_exec.v0+json';\n  const CLASS_NAME = 'output_bokeh rendered_html';\n\n  /**\n   * Render data to the DOM node\n   */\n  function render(props, node) {\n    const script = document.createElement(\"script\");\n    node.appendChild(script);\n  }\n\n  /**\n   * Handle when an output is cleared or removed\n   */\n  function handleClearOutput(event, handle) {\n    const cell = handle.cell;\n\n    const id = cell.output_area._bokeh_element_id;\n    const server_id = cell.output_area._bokeh_server_id;\n    // Clean up Bokeh references\n    if (id != null && id in Bokeh.index) {\n      Bokeh.index[id].model.document.clear();\n      delete Bokeh.index[id];\n    }\n\n    if (server_id !== undefined) {\n      // Clean up Bokeh references\n      const cmd_clean = \"from bokeh.io.state import curstate; print(curstate().uuid_to_server['\" + server_id + \"'].get_sessions()[0].document.roots[0]._id)\";\n      cell.notebook.kernel.execute(cmd_clean, {\n        iopub: {\n          output: function(msg) {\n            const id = msg.content.text.trim();\n            if (id in Bokeh.index) {\n              Bokeh.index[id].model.document.clear();\n              delete Bokeh.index[id];\n            }\n          }\n        }\n      });\n      // Destroy server and session\n      const cmd_destroy = \"import bokeh.io.notebook as ion; ion.destroy_server('\" + server_id + \"')\";\n      cell.notebook.kernel.execute(cmd_destroy);\n    }\n  }\n\n  /**\n   * Handle when a new output is added\n   */\n  function handleAddOutput(event, handle) {\n    const output_area = handle.output_area;\n    const output = handle.output;\n\n    // limit handleAddOutput to display_data with EXEC_MIME_TYPE content only\n    if ((output.output_type != \"display_data\") || (!Object.prototype.hasOwnProperty.call(output.data, EXEC_MIME_TYPE))) {\n      return\n    }\n\n    const toinsert = output_area.element.find(\".\" + CLASS_NAME.split(' ')[0]);\n\n    if (output.metadata[EXEC_MIME_TYPE][\"id\"] !== undefined) {\n      toinsert[toinsert.length - 1].firstChild.textContent = output.data[JS_MIME_TYPE];\n      // store reference to embed id on output_area\n      output_area._bokeh_element_id = output.metadata[EXEC_MIME_TYPE][\"id\"];\n    }\n    if (output.metadata[EXEC_MIME_TYPE][\"server_id\"] !== undefined) {\n      const bk_div = document.createElement(\"div\");\n      bk_div.innerHTML = output.data[HTML_MIME_TYPE];\n      const script_attrs = bk_div.children[0].attributes;\n      for (let i = 0; i < script_attrs.length; i++) {\n        toinsert[toinsert.length - 1].firstChild.setAttribute(script_attrs[i].name, script_attrs[i].value);\n        toinsert[toinsert.length - 1].firstChild.textContent = bk_div.children[0].textContent\n      }\n      // store reference to server id on output_area\n      output_area._bokeh_server_id = output.metadata[EXEC_MIME_TYPE][\"server_id\"];\n    }\n  }\n\n  function register_renderer(events, OutputArea) {\n\n    function append_mime(data, metadata, element) {\n      // create a DOM node to render to\n      const toinsert = this.create_output_subarea(\n        metadata,\n        CLASS_NAME,\n        EXEC_MIME_TYPE\n      );\n      this.keyboard_manager.register_events(toinsert);\n      // Render to node\n      const props = {data: data, metadata: metadata[EXEC_MIME_TYPE]};\n      render(props, toinsert[toinsert.length - 1]);\n      element.append(toinsert);\n      return toinsert\n    }\n\n    /* Handle when an output is cleared or removed */\n    events.on('clear_output.CodeCell', handleClearOutput);\n    events.on('delete.Cell', handleClearOutput);\n\n    /* Handle when a new output is added */\n    events.on('output_added.OutputArea', handleAddOutput);\n\n    /**\n     * Register the mime type and append_mime function with output_area\n     */\n    OutputArea.prototype.register_mime_type(EXEC_MIME_TYPE, append_mime, {\n      /* Is output safe? */\n      safe: true,\n      /* Index of renderer in `output_area.display_order` */\n      index: 0\n    });\n  }\n\n  // register the mime type if in Jupyter Notebook environment and previously unregistered\n  if (root.Jupyter !== undefined) {\n    const events = require('base/js/events');\n    const OutputArea = require('notebook/js/outputarea').OutputArea;\n\n    if (OutputArea.prototype.mime_types().indexOf(EXEC_MIME_TYPE) == -1) {\n      register_renderer(events, OutputArea);\n    }\n  }\n\n  \n  if (typeof (root._bokeh_timeout) === \"undefined\" || force === true) {\n    root._bokeh_timeout = Date.now() + 5000;\n    root._bokeh_failed_load = false;\n  }\n\n  const NB_LOAD_WARNING = {'data': {'text/html':\n     \"<div style='background-color: #fdd'>\\n\"+\n     \"<p>\\n\"+\n     \"BokehJS does not appear to have successfully loaded. If loading BokehJS from CDN, this \\n\"+\n     \"may be due to a slow or bad network connection. Possible fixes:\\n\"+\n     \"</p>\\n\"+\n     \"<ul>\\n\"+\n     \"<li>re-rerun `output_notebook()` to attempt to load from CDN again, or</li>\\n\"+\n     \"<li>use INLINE resources instead, as so:</li>\\n\"+\n     \"</ul>\\n\"+\n     \"<code>\\n\"+\n     \"from bokeh.resources import INLINE\\n\"+\n     \"output_notebook(resources=INLINE)\\n\"+\n     \"</code>\\n\"+\n     \"</div>\"}};\n\n  function display_loaded() {\n    const el = document.getElementById(\"1001\");\n    if (el != null) {\n      el.textContent = \"BokehJS is loading...\";\n    }\n    if (root.Bokeh !== undefined) {\n      if (el != null) {\n        el.textContent = \"BokehJS \" + root.Bokeh.version + \" successfully loaded.\";\n      }\n    } else if (Date.now() < root._bokeh_timeout) {\n      setTimeout(display_loaded, 100)\n    }\n  }\n\n\n  function run_callbacks() {\n    try {\n      root._bokeh_onload_callbacks.forEach(function(callback) {\n        if (callback != null)\n          callback();\n      });\n    } finally {\n      delete root._bokeh_onload_callbacks\n    }\n    console.debug(\"Bokeh: all callbacks have finished\");\n  }\n\n  function load_libs(css_urls, js_urls, callback) {\n    if (css_urls == null) css_urls = [];\n    if (js_urls == null) js_urls = [];\n\n    root._bokeh_onload_callbacks.push(callback);\n    if (root._bokeh_is_loading > 0) {\n      console.debug(\"Bokeh: BokehJS is being loaded, scheduling callback at\", now());\n      return null;\n    }\n    if (js_urls == null || js_urls.length === 0) {\n      run_callbacks();\n      return null;\n    }\n    console.debug(\"Bokeh: BokehJS not loaded, scheduling load and callback at\", now());\n    root._bokeh_is_loading = css_urls.length + js_urls.length;\n\n    function on_load() {\n      root._bokeh_is_loading--;\n      if (root._bokeh_is_loading === 0) {\n        console.debug(\"Bokeh: all BokehJS libraries/stylesheets loaded\");\n        run_callbacks()\n      }\n    }\n\n    function on_error(url) {\n      console.error(\"failed to load \" + url);\n    }\n\n    for (let i = 0; i < css_urls.length; i++) {\n      const url = css_urls[i];\n      const element = document.createElement(\"link\");\n      element.onload = on_load;\n      element.onerror = on_error.bind(null, url);\n      element.rel = \"stylesheet\";\n      element.type = \"text/css\";\n      element.href = url;\n      console.debug(\"Bokeh: injecting link tag for BokehJS stylesheet: \", url);\n      document.body.appendChild(element);\n    }\n\n    for (let i = 0; i < js_urls.length; i++) {\n      const url = js_urls[i];\n      const element = document.createElement('script');\n      element.onload = on_load;\n      element.onerror = on_error.bind(null, url);\n      element.async = false;\n      element.src = url;\n      console.debug(\"Bokeh: injecting script tag for BokehJS library: \", url);\n      document.head.appendChild(element);\n    }\n  };\n\n  function inject_raw_css(css) {\n    const element = document.createElement(\"style\");\n    element.appendChild(document.createTextNode(css));\n    document.body.appendChild(element);\n  }\n\n  \n  const js_urls = [\"https://cdn.bokeh.org/bokeh/release/bokeh-2.4.2.min.js\", \"https://cdn.bokeh.org/bokeh/release/bokeh-gl-2.4.2.min.js\", \"https://cdn.bokeh.org/bokeh/release/bokeh-widgets-2.4.2.min.js\", \"https://cdn.bokeh.org/bokeh/release/bokeh-tables-2.4.2.min.js\", \"https://cdn.bokeh.org/bokeh/release/bokeh-mathjax-2.4.2.min.js\"];\n  const css_urls = [];\n  \n\n  const inline_js = [\n    function(Bokeh) {\n      Bokeh.set_log_level(\"info\");\n    },\n    function(Bokeh) {\n    \n    \n    }\n  ];\n\n  function run_inline_js() {\n    \n    if (root.Bokeh !== undefined || force === true) {\n      \n    for (let i = 0; i < inline_js.length; i++) {\n      inline_js[i].call(root, root.Bokeh);\n    }\n    if (force === true) {\n        display_loaded();\n      }} else if (Date.now() < root._bokeh_timeout) {\n      setTimeout(run_inline_js, 100);\n    } else if (!root._bokeh_failed_load) {\n      console.log(\"Bokeh: BokehJS failed to load within specified timeout.\");\n      root._bokeh_failed_load = true;\n    } else if (force !== true) {\n      const cell = $(document.getElementById(\"1001\")).parents('.cell').data().cell;\n      cell.output_area.append_execute_result(NB_LOAD_WARNING)\n    }\n\n  }\n\n  if (root._bokeh_is_loading === 0) {\n    console.debug(\"Bokeh: BokehJS loaded, going straight to plotting\");\n    run_inline_js();\n  } else {\n    load_libs(css_urls, js_urls, function() {\n      console.debug(\"Bokeh: BokehJS plotting callback run at\", now());\n      run_inline_js();\n    });\n  }\n}(window));",
      "application/vnd.bokehjs_load.v0+json": ""
     },
     "metadata": {},
     "output_type": "display_data"
    }
   ],
   "source": [
    "output_notebook()"
   ]
  },
  {
   "cell_type": "markdown",
   "metadata": {},
   "source": [
    "### Some global variables used throughout this notebook"
   ]
  },
  {
   "cell_type": "code",
   "execution_count": 3,
   "metadata": {},
   "outputs": [],
   "source": [
    "PATH = \"Adrenergic_dataset.csv\"\n",
    "FOLDS = 5\n",
    "SEED = 12\n",
    "ASSAY =  \"AdrA1A_PCHEMBL_VALUE\"\n",
    "#ASSAY =  \"logP\"\n",
    "\n",
    "columns = [\"Structure\", \"ID\", ASSAY]"
   ]
  },
  {
   "cell_type": "markdown",
   "metadata": {},
   "source": [
    "### Read data from csv"
   ]
  },
  {
   "cell_type": "code",
   "execution_count": 4,
   "metadata": {},
   "outputs": [
    {
     "data": {
      "text/html": [
       "<div>\n",
       "<style scoped>\n",
       "    .dataframe tbody tr th:only-of-type {\n",
       "        vertical-align: middle;\n",
       "    }\n",
       "\n",
       "    .dataframe tbody tr th {\n",
       "        vertical-align: top;\n",
       "    }\n",
       "\n",
       "    .dataframe thead th {\n",
       "        text-align: right;\n",
       "    }\n",
       "</style>\n",
       "<table border=\"1\" class=\"dataframe\">\n",
       "  <thead>\n",
       "    <tr style=\"text-align: right;\">\n",
       "      <th></th>\n",
       "      <th>Structure</th>\n",
       "      <th>ID</th>\n",
       "      <th>logP</th>\n",
       "      <th>Vx</th>\n",
       "      <th>MW</th>\n",
       "      <th>NegativeCharge</th>\n",
       "      <th>PositiveCharge</th>\n",
       "      <th>Flex</th>\n",
       "      <th>AromaticRings</th>\n",
       "      <th>OverallCharge</th>\n",
       "      <th>...</th>\n",
       "      <th>q485</th>\n",
       "      <th>frg-8</th>\n",
       "      <th>frg-26</th>\n",
       "      <th>frg-54</th>\n",
       "      <th>Nn</th>\n",
       "      <th>AdrA1A_PCHEMBL_VALUE</th>\n",
       "      <th>AdrA1B_PCHEMBL_VALUE</th>\n",
       "      <th>AdrA1D_PCHEMBL_VALUE</th>\n",
       "      <th>AdrA2A_PCHEMBL_VALUE</th>\n",
       "      <th>AdrA2C_PCHEMBL_VALUE</th>\n",
       "    </tr>\n",
       "  </thead>\n",
       "  <tbody>\n",
       "    <tr>\n",
       "      <th>0</th>\n",
       "      <td>CC\\C(=C(\\CC)/c1ccc(O)cc1)\\c2ccc(O)cc2</td>\n",
       "      <td>CHEMBL411</td>\n",
       "      <td>4.871</td>\n",
       "      <td>224.4</td>\n",
       "      <td>268.4</td>\n",
       "      <td>0</td>\n",
       "      <td>0</td>\n",
       "      <td>0.1905</td>\n",
       "      <td>2</td>\n",
       "      <td>0</td>\n",
       "      <td>...</td>\n",
       "      <td>4</td>\n",
       "      <td>2</td>\n",
       "      <td>0</td>\n",
       "      <td>0</td>\n",
       "      <td>0</td>\n",
       "      <td>NaN</td>\n",
       "      <td>NaN</td>\n",
       "      <td>NaN</td>\n",
       "      <td>NaN</td>\n",
       "      <td>5.66</td>\n",
       "    </tr>\n",
       "    <tr>\n",
       "      <th>1</th>\n",
       "      <td>CSc1ccc2Sc3ccccc3N(CCC4CCCCN4C)c2c1</td>\n",
       "      <td>CHEMBL479</td>\n",
       "      <td>5.900</td>\n",
       "      <td>290.2</td>\n",
       "      <td>370.6</td>\n",
       "      <td>0</td>\n",
       "      <td>2</td>\n",
       "      <td>0.1429</td>\n",
       "      <td>2</td>\n",
       "      <td>2</td>\n",
       "      <td>...</td>\n",
       "      <td>18</td>\n",
       "      <td>0</td>\n",
       "      <td>0</td>\n",
       "      <td>0</td>\n",
       "      <td>2</td>\n",
       "      <td>NaN</td>\n",
       "      <td>NaN</td>\n",
       "      <td>NaN</td>\n",
       "      <td>NaN</td>\n",
       "      <td>7.60</td>\n",
       "    </tr>\n",
       "    <tr>\n",
       "      <th>2</th>\n",
       "      <td>COc1cccc(CCN2C3C4C5CC6C7C5C3C7C2(O)C46)c1</td>\n",
       "      <td>CHEMBL2205811</td>\n",
       "      <td>3.040</td>\n",
       "      <td>225.5</td>\n",
       "      <td>309.4</td>\n",
       "      <td>0</td>\n",
       "      <td>1</td>\n",
       "      <td>0.1379</td>\n",
       "      <td>1</td>\n",
       "      <td>1</td>\n",
       "      <td>...</td>\n",
       "      <td>4</td>\n",
       "      <td>0</td>\n",
       "      <td>0</td>\n",
       "      <td>0</td>\n",
       "      <td>1</td>\n",
       "      <td>NaN</td>\n",
       "      <td>NaN</td>\n",
       "      <td>NaN</td>\n",
       "      <td>NaN</td>\n",
       "      <td>6.25</td>\n",
       "    </tr>\n",
       "    <tr>\n",
       "      <th>3</th>\n",
       "      <td>COc1cc(CN[C@H]2C3C4CC5C6C4CC3C6C25)cc(OC)c1OC</td>\n",
       "      <td>CHEMBL2432051</td>\n",
       "      <td>3.380</td>\n",
       "      <td>256.3</td>\n",
       "      <td>341.4</td>\n",
       "      <td>0</td>\n",
       "      <td>1</td>\n",
       "      <td>0.2000</td>\n",
       "      <td>1</td>\n",
       "      <td>1</td>\n",
       "      <td>...</td>\n",
       "      <td>8</td>\n",
       "      <td>0</td>\n",
       "      <td>0</td>\n",
       "      <td>0</td>\n",
       "      <td>1</td>\n",
       "      <td>NaN</td>\n",
       "      <td>NaN</td>\n",
       "      <td>NaN</td>\n",
       "      <td>NaN</td>\n",
       "      <td>5.64</td>\n",
       "    </tr>\n",
       "    <tr>\n",
       "      <th>4</th>\n",
       "      <td>COc1cccc(CCN2C3C4C5CC6C7C5C3C7C2(O)C46)c1OC</td>\n",
       "      <td>CHEMBL2205813</td>\n",
       "      <td>2.899</td>\n",
       "      <td>245.4</td>\n",
       "      <td>339.4</td>\n",
       "      <td>0</td>\n",
       "      <td>1</td>\n",
       "      <td>0.1613</td>\n",
       "      <td>1</td>\n",
       "      <td>1</td>\n",
       "      <td>...</td>\n",
       "      <td>6</td>\n",
       "      <td>0</td>\n",
       "      <td>0</td>\n",
       "      <td>0</td>\n",
       "      <td>1</td>\n",
       "      <td>NaN</td>\n",
       "      <td>NaN</td>\n",
       "      <td>NaN</td>\n",
       "      <td>NaN</td>\n",
       "      <td>5.36</td>\n",
       "    </tr>\n",
       "  </tbody>\n",
       "</table>\n",
       "<p>5 rows × 327 columns</p>\n",
       "</div>"
      ],
      "text/plain": [
       "                                       Structure             ID   logP     Vx  \\\n",
       "0          CC\\C(=C(\\CC)/c1ccc(O)cc1)\\c2ccc(O)cc2      CHEMBL411  4.871  224.4   \n",
       "1            CSc1ccc2Sc3ccccc3N(CCC4CCCCN4C)c2c1      CHEMBL479  5.900  290.2   \n",
       "2      COc1cccc(CCN2C3C4C5CC6C7C5C3C7C2(O)C46)c1  CHEMBL2205811  3.040  225.5   \n",
       "3  COc1cc(CN[C@H]2C3C4CC5C6C4CC3C6C25)cc(OC)c1OC  CHEMBL2432051  3.380  256.3   \n",
       "4    COc1cccc(CCN2C3C4C5CC6C7C5C3C7C2(O)C46)c1OC  CHEMBL2205813  2.899  245.4   \n",
       "\n",
       "      MW  NegativeCharge  PositiveCharge    Flex  AromaticRings  \\\n",
       "0  268.4               0               0  0.1905              2   \n",
       "1  370.6               0               2  0.1429              2   \n",
       "2  309.4               0               1  0.1379              1   \n",
       "3  341.4               0               1  0.2000              1   \n",
       "4  339.4               0               1  0.1613              1   \n",
       "\n",
       "   OverallCharge  ...  q485  frg-8  frg-26  frg-54  Nn  AdrA1A_PCHEMBL_VALUE  \\\n",
       "0              0  ...     4      2       0       0   0                   NaN   \n",
       "1              2  ...    18      0       0       0   2                   NaN   \n",
       "2              1  ...     4      0       0       0   1                   NaN   \n",
       "3              1  ...     8      0       0       0   1                   NaN   \n",
       "4              1  ...     6      0       0       0   1                   NaN   \n",
       "\n",
       "   AdrA1B_PCHEMBL_VALUE  AdrA1D_PCHEMBL_VALUE  AdrA2A_PCHEMBL_VALUE  \\\n",
       "0                   NaN                   NaN                   NaN   \n",
       "1                   NaN                   NaN                   NaN   \n",
       "2                   NaN                   NaN                   NaN   \n",
       "3                   NaN                   NaN                   NaN   \n",
       "4                   NaN                   NaN                   NaN   \n",
       "\n",
       "   AdrA2C_PCHEMBL_VALUE  \n",
       "0                  5.66  \n",
       "1                  7.60  \n",
       "2                  6.25  \n",
       "3                  5.64  \n",
       "4                  5.36  \n",
       "\n",
       "[5 rows x 327 columns]"
      ]
     },
     "execution_count": 4,
     "metadata": {},
     "output_type": "execute_result"
    }
   ],
   "source": [
    "df = pd.read_csv(PATH)\n",
    "df.head()"
   ]
  },
  {
   "cell_type": "markdown",
   "metadata": {},
   "source": [
    "### Drop NA values from assay value column"
   ]
  },
  {
   "cell_type": "code",
   "execution_count": 5,
   "metadata": {},
   "outputs": [],
   "source": [
    "dataset = df[columns]\n",
    "dataset.dropna(subset=[ASSAY], inplace=True)"
   ]
  },
  {
   "cell_type": "code",
   "execution_count": 6,
   "metadata": {},
   "outputs": [],
   "source": [
    "indigo = Indigo()\n",
    "\n",
    "\n",
    "def get_fingerprints(\n",
    "    dataset: pd.DataFrame, \n",
    "    ignore_stereochemistry_errors: bool = True,\n",
    "    ignore_bad_valence: bool = True,\n",
    "    similarity_type: str = \"ecfp6\", # \"ecfp4\", \"ecfp6\", \"ecfp8\", \"sim\", \"chem\"\n",
    "    fp_sim_qwords: int = 8,\n",
    "    fp_ord_qwords: int = 25,\n",
    "    fp_any_qwords: int = 15,\n",
    "    fp_tau_qwords: int = 25,\n",
    "    fp_ext_enabled: bool = True\n",
    "):\n",
    "    indigo.setOption(\"ignore-stereochemistry-errors\", ignore_stereochemistry_errors)\n",
    "    indigo.setOption(\"ignore-bad-valence\", ignore_bad_valence)\n",
    "    indigo.setOption(\"similarity-type\", similarity_type)\n",
    "    indigo.setOption(\"fp-sim-qwords\", fp_sim_qwords)\n",
    "    indigo.setOption(\"fp-ord-qwords\", fp_ord_qwords)\n",
    "    indigo.setOption(\"fp-any-qwords\", fp_any_qwords)\n",
    "    indigo.setOption(\"fp-tau-qwords\", fp_tau_qwords)\n",
    "    indigo.setOption(\"fp-ext-enabled\", fp_ext_enabled)\n",
    "    fingerprints = []\n",
    "    max_val = -np.Inf\n",
    "\n",
    "    for struct in dataset[\"Structure\"]:\n",
    "        mol = indigo.loadMolecule(struct)\n",
    "        mol.aromatize()\n",
    "        fingerprint = mol.fingerprint(\"full\").toBuffer()\n",
    "        buffered = np.frombuffer(fingerprint, dtype=np.uint8)\n",
    "        buffered = np.unpackbits(buffered)\n",
    "        fingerprints.append(buffered)\n",
    "        max_val = max(max_val, *buffered)\n",
    "\n",
    "    fingerprints = np.array(fingerprints, dtype=np.float32) / max_val\n",
    "    return fingerprints\n",
    "\n",
    "\n",
    "fingerprints = get_fingerprints(dataset)"
   ]
  },
  {
   "cell_type": "markdown",
   "metadata": {},
   "source": [
    "### Draw distribution plot for assay values"
   ]
  },
  {
   "cell_type": "code",
   "execution_count": 7,
   "metadata": {},
   "outputs": [
    {
     "data": {
      "image/png": "[encoded data removed]",
      "text/plain": [
       "<Figure size 432x288 with 1 Axes>"
      ]
     },
     "metadata": {
      "needs_background": "light"
     },
     "output_type": "display_data"
    }
   ],
   "source": [
    "def build_histogram(input, title: str = ''):\n",
    "    x = input\n",
    "    n, bins, patches = plt.hist(x, 30)\n",
    "\n",
    "    #plt.style.use('classic')\n",
    "    plt.xlabel(title)\n",
    "    plt.title(f'{title} distribution')\n",
    "    plt.grid(True, color = \"grey\", linewidth = \"0.4\", linestyle = \"dashed\")\n",
    "    plt.show()\n",
    "\n",
    "build_histogram(input=dataset[ASSAY], title=ASSAY)"
   ]
  },
  {
   "cell_type": "markdown",
   "metadata": {},
   "source": [
    "## Out-of-fold $r^2$ score estimations on train, validation and test datasets"
   ]
  },
  {
   "cell_type": "markdown",
   "metadata": {},
   "source": [
    "### LightGBM regression"
   ]
  },
  {
   "cell_type": "code",
   "execution_count": 12,
   "metadata": {},
   "outputs": [
    {
     "name": "stdout",
     "output_type": "stream",
     "text": [
      "MEAN TRAIN:  0.9546580233466054\n",
      "MEAN VALIDATION:  0.5254775799424818\n",
      "MEAN TEST 0.5202404473784763\n"
     ]
    }
   ],
   "source": [
    "from sklearn.model_selection import train_test_split\n",
    "from sklearn.metrics import r2_score\n",
    "from utils.folds import oof\n",
    "import lightgbm as lgb\n",
    "\n",
    "\n",
    "bundle = train_test_split(fingerprints, dataset, shuffle=True, random_state=SEED, test_size=0.25)\n",
    "\n",
    "y_test = bundle[3]\n",
    "\n",
    "model = lgb.LGBMRegressor(metric='l2', learning_rate=0.09, num_leaves=128, max_bin = 512, max_depth=12)\n",
    "scores, y_pred = oof(model, bundle, assay=ASSAY)"
   ]
  },
  {
   "cell_type": "markdown",
   "metadata": {},
   "source": [
    "### Fingerprints optimization"
   ]
  },
  {
   "cell_type": "code",
   "execution_count": 13,
   "metadata": {},
   "outputs": [],
   "source": [
    "import optuna"
   ]
  },
  {
   "cell_type": "code",
   "execution_count": null,
   "metadata": {},
   "outputs": [],
   "source": [
    "class FingerprintObjective(object):\n",
    "    def __init__(self, dataset):\n",
    "        self.dataset = dataset\n",
    "\n",
    "    def __call__(self, trial):\n",
    "        trials_dict = {\n",
    "            \"similarity_type\": trial.suggest_categorical(\"similarity_type\", [\"ecfp4\", \"ecfp6\", \"ecfp8\", \"sim\", \"chem\"]),\n",
    "            \"fp_sim_qwords\": trial.suggest_int(\"fp_sim_qwords\", 1, 32),\n",
    "            \"fp_ord_qwords\": trial.suggest_int(\"fp_ord_qwords\", 1, 32), #int = 25,\n",
    "            \"fp_any_qwords\": trial.suggest_int(\"fp_any_qwords\", 1, 32), #,int = 15,\n",
    "            \"fp_tau_qwords\": trial.suggest_int(\"fp_tau_qwords\", 1, 32), #int = 25,\n",
    "            \"fp_ext_enabled\": trial.suggest_categorical(\"fp_ext_enabled\", [0, 1]) #bool = True\n",
    "        }\n",
    "\n",
    "        fingerprints = get_fingerprints(self.dataset, **trials_dict)\n",
    "        bundle = train_test_split(fingerprints, dataset, shuffle=True, random_state=SEED, test_size=0.25)\n",
    "\n",
    "        y_test = bundle[3]\n",
    "\n",
    "        model = lgb.LGBMRegressor(metric='l2', learning_rate=0.09, num_leaves=128, max_bin = 512, max_depth=12)\n",
    "        scores, y_pred = oof(model, bundle, assay=ASSAY)\n",
    "        return np.mean(scores)\n",
    "\n",
    "\n",
    "pruner = optuna.pruners.SuccessiveHalvingPruner()\n",
    "sampler = optuna.samplers.NSGAIISampler(population_size=200)\n",
    "study = optuna.create_study(direction='maximize', pruner=pruner, sampler=sampler)\n",
    "study.optimize(FingerprintObjective(dataset), n_trials=100)"
   ]
  },
  {
   "cell_type": "code",
   "execution_count": null,
   "metadata": {},
   "outputs": [],
   "source": [
    "best_fingerprint = study.best_params\n",
    "print(\"best test score: \", study.best_value)\n",
    "print(\"best params: \", best_fingerprint)\n",
    "#{'similarity_type': 'ecfp8', 'fp_sim_qwords': 21, 'fp_ord_qwords': 15, 'fp_any_qwords': 10, 'fp_tau_qwords': 28, 'fp_ext_enabled': 1}"
   ]
  },
  {
   "cell_type": "code",
   "execution_count": 16,
   "metadata": {},
   "outputs": [
    {
     "name": "stdout",
     "output_type": "stream",
     "text": [
      "MEAN TRAIN:  0.9514036677888897\n",
      "MEAN VALIDATION:  0.5010126262732535\n",
      "MEAN TEST 0.5749489358712042\n"
     ]
    }
   ],
   "source": [
    "fingerprints = get_fingerprints(dataset, **best_fingerprint)\n",
    "bundle = train_test_split(fingerprints, dataset, shuffle=True, random_state=SEED, test_size=0.25)\n",
    "\n",
    "y_test = bundle[3]\n",
    "\n",
    "model = lgb.LGBMRegressor(metric='l2', learning_rate=0.09, num_leaves=128, max_bin = 512, max_depth=12)\n",
    "scores, y_pred = oof(model, bundle, assay=ASSAY)"
   ]
  },
  {
   "cell_type": "code",
   "execution_count": null,
   "metadata": {},
   "outputs": [],
   "source": [
    "class GBMObjective(object):\n",
    "    def __init__(self, dataset, fp_params: dict):\n",
    "        self.dataset = dataset\n",
    "        self.fingerprints = get_fingerprints(dataset, **fp_params)\n",
    "\n",
    "    def __call__(self, trial):        \n",
    "        trials_dict = {\n",
    "                'objective': trial.suggest_categorical(\"objective\", [\"huber\", \"l1\", \"l2\", \"fair\", \"poisson\", \"mape\", \"quantile\", \"gamma\"]),\n",
    "                'metric': 'l2',\n",
    "                'lambda_l1': trial.suggest_loguniform('lambda_l1', 1e-8, 10.0),\n",
    "                'lambda_l2': trial.suggest_loguniform('lambda_l2', 1e-8, 10.0),\n",
    "                'num_leaves': trial.suggest_int('num_leaves', 2, 256),\n",
    "                'feature_fraction': trial.suggest_uniform('feature_fraction', 0.4, 1.0),\n",
    "                'bagging_fraction': trial.suggest_uniform('bagging_fraction', 0.4, 1.0),\n",
    "                'bagging_freq': trial.suggest_int('bagging_freq', 1, 7),\n",
    "                'min_child_samples': trial.suggest_int('min_child_samples', 5, 100),\n",
    "            }\n",
    "    \n",
    "        bundle = train_test_split(self.fingerprints, self.dataset, shuffle=True, random_state=SEED, test_size=0.25)\n",
    "\n",
    "        y_test = bundle[3]\n",
    "\n",
    "        model = lgb.LGBMRegressor(**trials_dict)\n",
    "        scores, y_pred = oof(model, bundle, assay=ASSAY)\n",
    "        return np.mean(scores)\n",
    "\n",
    "\n",
    "sampler = optuna.samplers.TPESampler()\n",
    "study = optuna.create_study(direction='maximize', sampler=sampler)\n",
    "study.optimize(GBMObjective(dataset, best_fingerprint), n_trials=1000, n_jobs = 6)"
   ]
  },
  {
   "cell_type": "code",
   "execution_count": 41,
   "metadata": {},
   "outputs": [
    {
     "name": "stdout",
     "output_type": "stream",
     "text": [
      "best test score: 0.5847234648361241\n",
      "best lgbm params:  {'objective': 'poisson', 'lambda_l1': 0.24105842737246636, 'lambda_l2': 0.4911372495935856, 'num_leaves': 102, 'feature_fraction': 0.786394793577584, 'bagging_fraction': 0.7407033941845472, 'bagging_freq': 2, 'min_child_samples': 8}\n"
     ]
    }
   ],
   "source": [
    "lgbm_best_params = study.best_params\n",
    "print(\"best test score:\", study.best_value)\n",
    "print(\"best lgbm params: \", lgbm_best_params)"
   ]
  },
  {
   "cell_type": "markdown",
   "metadata": {},
   "source": [
    "### Optimized fingerprints and LightGBM"
   ]
  },
  {
   "cell_type": "code",
   "execution_count": 17,
   "metadata": {},
   "outputs": [
    {
     "name": "stdout",
     "output_type": "stream",
     "text": [
      "[LightGBM] [Warning] bagging_fraction is set=0.7407033941845472, subsample=1.0 will be ignored. Current value: bagging_fraction=0.7407033941845472\n",
      "[LightGBM] [Warning] feature_fraction is set=0.786394793577584, colsample_bytree=1.0 will be ignored. Current value: feature_fraction=0.786394793577584\n",
      "[LightGBM] [Warning] bagging_freq is set=2, subsample_freq=0 will be ignored. Current value: bagging_freq=2\n",
      "[LightGBM] [Warning] lambda_l2 is set=0.4911372495935856, reg_lambda=0.0 will be ignored. Current value: lambda_l2=0.4911372495935856\n",
      "[LightGBM] [Warning] lambda_l1 is set=0.24105842737246636, reg_alpha=0.0 will be ignored. Current value: lambda_l1=0.24105842737246636\n",
      "[LightGBM] [Warning] bagging_fraction is set=0.7407033941845472, subsample=1.0 will be ignored. Current value: bagging_fraction=0.7407033941845472\n",
      "[LightGBM] [Warning] feature_fraction is set=0.786394793577584, colsample_bytree=1.0 will be ignored. Current value: feature_fraction=0.786394793577584\n",
      "[LightGBM] [Warning] bagging_freq is set=2, subsample_freq=0 will be ignored. Current value: bagging_freq=2\n",
      "[LightGBM] [Warning] lambda_l2 is set=0.4911372495935856, reg_lambda=0.0 will be ignored. Current value: lambda_l2=0.4911372495935856\n",
      "[LightGBM] [Warning] lambda_l1 is set=0.24105842737246636, reg_alpha=0.0 will be ignored. Current value: lambda_l1=0.24105842737246636\n",
      "[LightGBM] [Warning] bagging_fraction is set=0.7407033941845472, subsample=1.0 will be ignored. Current value: bagging_fraction=0.7407033941845472\n",
      "[LightGBM] [Warning] feature_fraction is set=0.786394793577584, colsample_bytree=1.0 will be ignored. Current value: feature_fraction=0.786394793577584\n",
      "[LightGBM] [Warning] bagging_freq is set=2, subsample_freq=0 will be ignored. Current value: bagging_freq=2\n",
      "[LightGBM] [Warning] lambda_l2 is set=0.4911372495935856, reg_lambda=0.0 will be ignored. Current value: lambda_l2=0.4911372495935856\n",
      "[LightGBM] [Warning] lambda_l1 is set=0.24105842737246636, reg_alpha=0.0 will be ignored. Current value: lambda_l1=0.24105842737246636\n",
      "[LightGBM] [Warning] bagging_fraction is set=0.7407033941845472, subsample=1.0 will be ignored. Current value: bagging_fraction=0.7407033941845472\n",
      "[LightGBM] [Warning] feature_fraction is set=0.786394793577584, colsample_bytree=1.0 will be ignored. Current value: feature_fraction=0.786394793577584\n",
      "[LightGBM] [Warning] bagging_freq is set=2, subsample_freq=0 will be ignored. Current value: bagging_freq=2\n",
      "[LightGBM] [Warning] lambda_l2 is set=0.4911372495935856, reg_lambda=0.0 will be ignored. Current value: lambda_l2=0.4911372495935856\n",
      "[LightGBM] [Warning] lambda_l1 is set=0.24105842737246636, reg_alpha=0.0 will be ignored. Current value: lambda_l1=0.24105842737246636\n",
      "[LightGBM] [Warning] bagging_fraction is set=0.7407033941845472, subsample=1.0 will be ignored. Current value: bagging_fraction=0.7407033941845472\n",
      "[LightGBM] [Warning] feature_fraction is set=0.786394793577584, colsample_bytree=1.0 will be ignored. Current value: feature_fraction=0.786394793577584\n",
      "[LightGBM] [Warning] bagging_freq is set=2, subsample_freq=0 will be ignored. Current value: bagging_freq=2\n",
      "[LightGBM] [Warning] lambda_l2 is set=0.4911372495935856, reg_lambda=0.0 will be ignored. Current value: lambda_l2=0.4911372495935856\n",
      "[LightGBM] [Warning] lambda_l1 is set=0.24105842737246636, reg_alpha=0.0 will be ignored. Current value: lambda_l1=0.24105842737246636\n",
      "MEAN TRAIN:  0.9360961860968586\n",
      "MEAN VALIDATION:  0.5094359571461069\n",
      "MEAN TEST 0.5847234648361241\n"
     ]
    }
   ],
   "source": [
    "import warnings \n",
    "warnings.filterwarnings('ignore')\n",
    "\n",
    "fingerprints = get_fingerprints(dataset, **best_fingerprint)\n",
    "\n",
    "bundle = train_test_split(fingerprints, dataset, shuffle=True, random_state=SEED, test_size=0.25)\n",
    "\n",
    "y_test = bundle[3]\n",
    "\n",
    "model = lgb.LGBMRegressor(**lgbm_best_params)\n",
    "lgb.LGBMRegressor()\n",
    "scores, y_pred = oof(model, bundle, assay=ASSAY)"
   ]
  },
  {
   "cell_type": "markdown",
   "metadata": {},
   "source": [
    "### Static plots"
   ]
  },
  {
   "cell_type": "code",
   "execution_count": 18,
   "metadata": {},
   "outputs": [],
   "source": [
    "from utils.plots import static_avp_avr_graphs, avr_plot, avp_plot"
   ]
  },
  {
   "cell_type": "code",
   "execution_count": 19,
   "metadata": {},
   "outputs": [
    {
     "data": {
      "image/png": "[encoded data removed]",
      "text/plain": [
       "<Figure size 1080x360 with 2 Axes>"
      ]
     },
     "metadata": {
      "needs_background": "light"
     },
     "output_type": "display_data"
    }
   ],
   "source": [
    "static_avp_avr_graphs(y_pred, y_test[ASSAY], np.mean(scores), ASSAY)"
   ]
  },
  {
   "cell_type": "markdown",
   "metadata": {},
   "source": [
    "### Interactive plots"
   ]
  },
  {
   "cell_type": "code",
   "execution_count": null,
   "metadata": {},
   "outputs": [],
   "source": [
    "avp_plot(y_test[ASSAY], y_pred, y_test.index.values, y_test[\"Structure\"], np.mean(scores))"
   ]
  },
  {
   "cell_type": "code",
   "execution_count": null,
   "metadata": {},
   "outputs": [],
   "source": [
    "avr = avr_plot(y_test[ASSAY], y_pred, y_test.index.values, y_test[\"Structure\"], np.mean(scores))"
   ]
  }
 ],
 "metadata": {
  "interpreter": {
   "hash": "921405fb54ba40c0aecf9cfe4a53581e6631389606eafa2cb2fb269e41e61c99"
  },
  "kernelspec": {
   "display_name": "local-venv",
   "language": "python",
   "name": "python3"
  },
  "language_info": {
   "codemirror_mode": {
    "name": "ipython",
    "version": 3
   },
   "file_extension": ".py",
   "mimetype": "text/x-python",
   "name": "python",
   "nbconvert_exporter": "python",
   "pygments_lexer": "ipython3",
   "version": "3.9.8"
  }
 },
 "nbformat": 4,
 "nbformat_minor": 4
}
