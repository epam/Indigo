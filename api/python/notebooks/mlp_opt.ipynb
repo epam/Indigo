{
 "cells": [
  {
   "cell_type": "code",
   "execution_count": 1,
   "metadata": {},
   "outputs": [],
   "source": [
    "import numpy as np\n",
    "import pandas as pd\n",
    "from indigo import *\n",
    "import matplotlib.pyplot as plt\n",
    "pd.options.mode.chained_assignment = None  # default='warn'"
   ]
  },
  {
   "cell_type": "code",
   "execution_count": 2,
   "metadata": {},
   "outputs": [],
   "source": [
    "# output_notebook()"
   ]
  },
  {
   "cell_type": "markdown",
   "metadata": {},
   "source": [
    "### Some global variables used throughout this notebook"
   ]
  },
  {
   "cell_type": "code",
   "execution_count": 3,
   "metadata": {},
   "outputs": [],
   "source": [
    "PATH = \"Adrenergic_dataset.csv\"\n",
    "FOLDS = 5\n",
    "SEED = 12\n",
    "ASSAY =  \"AdrA1A_PCHEMBL_VALUE\"\n",
    "\n",
    "columns = [\"Structure\", \"ID\", ASSAY]"
   ]
  },
  {
   "cell_type": "markdown",
   "metadata": {},
   "source": [
    "### Read data from csv"
   ]
  },
  {
   "cell_type": "code",
   "execution_count": 4,
   "metadata": {},
   "outputs": [
    {
     "data": {
      "text/html": [
       "<div>\n",
       "<style scoped>\n",
       "    .dataframe tbody tr th:only-of-type {\n",
       "        vertical-align: middle;\n",
       "    }\n",
       "\n",
       "    .dataframe tbody tr th {\n",
       "        vertical-align: top;\n",
       "    }\n",
       "\n",
       "    .dataframe thead th {\n",
       "        text-align: right;\n",
       "    }\n",
       "</style>\n",
       "<table border=\"1\" class=\"dataframe\">\n",
       "  <thead>\n",
       "    <tr style=\"text-align: right;\">\n",
       "      <th></th>\n",
       "      <th>Structure</th>\n",
       "      <th>ID</th>\n",
       "      <th>logP</th>\n",
       "      <th>Vx</th>\n",
       "      <th>MW</th>\n",
       "      <th>NegativeCharge</th>\n",
       "      <th>PositiveCharge</th>\n",
       "      <th>Flex</th>\n",
       "      <th>AromaticRings</th>\n",
       "      <th>OverallCharge</th>\n",
       "      <th>...</th>\n",
       "      <th>q485</th>\n",
       "      <th>frg-8</th>\n",
       "      <th>frg-26</th>\n",
       "      <th>frg-54</th>\n",
       "      <th>Nn</th>\n",
       "      <th>AdrA1A_PCHEMBL_VALUE</th>\n",
       "      <th>AdrA1B_PCHEMBL_VALUE</th>\n",
       "      <th>AdrA1D_PCHEMBL_VALUE</th>\n",
       "      <th>AdrA2A_PCHEMBL_VALUE</th>\n",
       "      <th>AdrA2C_PCHEMBL_VALUE</th>\n",
       "    </tr>\n",
       "  </thead>\n",
       "  <tbody>\n",
       "    <tr>\n",
       "      <th>0</th>\n",
       "      <td>CC\\C(=C(\\CC)/c1ccc(O)cc1)\\c2ccc(O)cc2</td>\n",
       "      <td>CHEMBL411</td>\n",
       "      <td>4.871</td>\n",
       "      <td>224.4</td>\n",
       "      <td>268.4</td>\n",
       "      <td>0</td>\n",
       "      <td>0</td>\n",
       "      <td>0.1905</td>\n",
       "      <td>2</td>\n",
       "      <td>0</td>\n",
       "      <td>...</td>\n",
       "      <td>4</td>\n",
       "      <td>2</td>\n",
       "      <td>0</td>\n",
       "      <td>0</td>\n",
       "      <td>0</td>\n",
       "      <td>NaN</td>\n",
       "      <td>NaN</td>\n",
       "      <td>NaN</td>\n",
       "      <td>NaN</td>\n",
       "      <td>5.66</td>\n",
       "    </tr>\n",
       "    <tr>\n",
       "      <th>1</th>\n",
       "      <td>CSc1ccc2Sc3ccccc3N(CCC4CCCCN4C)c2c1</td>\n",
       "      <td>CHEMBL479</td>\n",
       "      <td>5.900</td>\n",
       "      <td>290.2</td>\n",
       "      <td>370.6</td>\n",
       "      <td>0</td>\n",
       "      <td>2</td>\n",
       "      <td>0.1429</td>\n",
       "      <td>2</td>\n",
       "      <td>2</td>\n",
       "      <td>...</td>\n",
       "      <td>18</td>\n",
       "      <td>0</td>\n",
       "      <td>0</td>\n",
       "      <td>0</td>\n",
       "      <td>2</td>\n",
       "      <td>NaN</td>\n",
       "      <td>NaN</td>\n",
       "      <td>NaN</td>\n",
       "      <td>NaN</td>\n",
       "      <td>7.60</td>\n",
       "    </tr>\n",
       "    <tr>\n",
       "      <th>2</th>\n",
       "      <td>COc1cccc(CCN2C3C4C5CC6C7C5C3C7C2(O)C46)c1</td>\n",
       "      <td>CHEMBL2205811</td>\n",
       "      <td>3.040</td>\n",
       "      <td>225.5</td>\n",
       "      <td>309.4</td>\n",
       "      <td>0</td>\n",
       "      <td>1</td>\n",
       "      <td>0.1379</td>\n",
       "      <td>1</td>\n",
       "      <td>1</td>\n",
       "      <td>...</td>\n",
       "      <td>4</td>\n",
       "      <td>0</td>\n",
       "      <td>0</td>\n",
       "      <td>0</td>\n",
       "      <td>1</td>\n",
       "      <td>NaN</td>\n",
       "      <td>NaN</td>\n",
       "      <td>NaN</td>\n",
       "      <td>NaN</td>\n",
       "      <td>6.25</td>\n",
       "    </tr>\n",
       "    <tr>\n",
       "      <th>3</th>\n",
       "      <td>COc1cc(CN[C@H]2C3C4CC5C6C4CC3C6C25)cc(OC)c1OC</td>\n",
       "      <td>CHEMBL2432051</td>\n",
       "      <td>3.380</td>\n",
       "      <td>256.3</td>\n",
       "      <td>341.4</td>\n",
       "      <td>0</td>\n",
       "      <td>1</td>\n",
       "      <td>0.2000</td>\n",
       "      <td>1</td>\n",
       "      <td>1</td>\n",
       "      <td>...</td>\n",
       "      <td>8</td>\n",
       "      <td>0</td>\n",
       "      <td>0</td>\n",
       "      <td>0</td>\n",
       "      <td>1</td>\n",
       "      <td>NaN</td>\n",
       "      <td>NaN</td>\n",
       "      <td>NaN</td>\n",
       "      <td>NaN</td>\n",
       "      <td>5.64</td>\n",
       "    </tr>\n",
       "    <tr>\n",
       "      <th>4</th>\n",
       "      <td>COc1cccc(CCN2C3C4C5CC6C7C5C3C7C2(O)C46)c1OC</td>\n",
       "      <td>CHEMBL2205813</td>\n",
       "      <td>2.899</td>\n",
       "      <td>245.4</td>\n",
       "      <td>339.4</td>\n",
       "      <td>0</td>\n",
       "      <td>1</td>\n",
       "      <td>0.1613</td>\n",
       "      <td>1</td>\n",
       "      <td>1</td>\n",
       "      <td>...</td>\n",
       "      <td>6</td>\n",
       "      <td>0</td>\n",
       "      <td>0</td>\n",
       "      <td>0</td>\n",
       "      <td>1</td>\n",
       "      <td>NaN</td>\n",
       "      <td>NaN</td>\n",
       "      <td>NaN</td>\n",
       "      <td>NaN</td>\n",
       "      <td>5.36</td>\n",
       "    </tr>\n",
       "  </tbody>\n",
       "</table>\n",
       "<p>5 rows × 327 columns</p>\n",
       "</div>"
      ],
      "text/plain": [
       "                                       Structure             ID   logP     Vx  \\\n",
       "0          CC\\C(=C(\\CC)/c1ccc(O)cc1)\\c2ccc(O)cc2      CHEMBL411  4.871  224.4   \n",
       "1            CSc1ccc2Sc3ccccc3N(CCC4CCCCN4C)c2c1      CHEMBL479  5.900  290.2   \n",
       "2      COc1cccc(CCN2C3C4C5CC6C7C5C3C7C2(O)C46)c1  CHEMBL2205811  3.040  225.5   \n",
       "3  COc1cc(CN[C@H]2C3C4CC5C6C4CC3C6C25)cc(OC)c1OC  CHEMBL2432051  3.380  256.3   \n",
       "4    COc1cccc(CCN2C3C4C5CC6C7C5C3C7C2(O)C46)c1OC  CHEMBL2205813  2.899  245.4   \n",
       "\n",
       "      MW  NegativeCharge  PositiveCharge    Flex  AromaticRings  \\\n",
       "0  268.4               0               0  0.1905              2   \n",
       "1  370.6               0               2  0.1429              2   \n",
       "2  309.4               0               1  0.1379              1   \n",
       "3  341.4               0               1  0.2000              1   \n",
       "4  339.4               0               1  0.1613              1   \n",
       "\n",
       "   OverallCharge  ...  q485  frg-8  frg-26  frg-54  Nn  AdrA1A_PCHEMBL_VALUE  \\\n",
       "0              0  ...     4      2       0       0   0                   NaN   \n",
       "1              2  ...    18      0       0       0   2                   NaN   \n",
       "2              1  ...     4      0       0       0   1                   NaN   \n",
       "3              1  ...     8      0       0       0   1                   NaN   \n",
       "4              1  ...     6      0       0       0   1                   NaN   \n",
       "\n",
       "   AdrA1B_PCHEMBL_VALUE  AdrA1D_PCHEMBL_VALUE  AdrA2A_PCHEMBL_VALUE  \\\n",
       "0                   NaN                   NaN                   NaN   \n",
       "1                   NaN                   NaN                   NaN   \n",
       "2                   NaN                   NaN                   NaN   \n",
       "3                   NaN                   NaN                   NaN   \n",
       "4                   NaN                   NaN                   NaN   \n",
       "\n",
       "   AdrA2C_PCHEMBL_VALUE  \n",
       "0                  5.66  \n",
       "1                  7.60  \n",
       "2                  6.25  \n",
       "3                  5.64  \n",
       "4                  5.36  \n",
       "\n",
       "[5 rows x 327 columns]"
      ]
     },
     "execution_count": 4,
     "metadata": {},
     "output_type": "execute_result"
    }
   ],
   "source": [
    "df = pd.read_csv(PATH)\n",
    "df.head()"
   ]
  },
  {
   "cell_type": "markdown",
   "metadata": {},
   "source": [
    "### Drop NA values from assay value column"
   ]
  },
  {
   "cell_type": "code",
   "execution_count": 5,
   "metadata": {},
   "outputs": [],
   "source": [
    "dataset = df[columns]\n",
    "dataset.dropna(subset=[ASSAY], inplace=True)"
   ]
  },
  {
   "cell_type": "code",
   "execution_count": 6,
   "metadata": {},
   "outputs": [
    {
     "data": {
      "text/html": [
       "<div>\n",
       "<style scoped>\n",
       "    .dataframe tbody tr th:only-of-type {\n",
       "        vertical-align: middle;\n",
       "    }\n",
       "\n",
       "    .dataframe tbody tr th {\n",
       "        vertical-align: top;\n",
       "    }\n",
       "\n",
       "    .dataframe thead th {\n",
       "        text-align: right;\n",
       "    }\n",
       "</style>\n",
       "<table border=\"1\" class=\"dataframe\">\n",
       "  <thead>\n",
       "    <tr style=\"text-align: right;\">\n",
       "      <th></th>\n",
       "      <th>Structure</th>\n",
       "      <th>ID</th>\n",
       "      <th>AdrA1A_PCHEMBL_VALUE</th>\n",
       "    </tr>\n",
       "  </thead>\n",
       "  <tbody>\n",
       "    <tr>\n",
       "      <th>7</th>\n",
       "      <td>CNC(=O)C(CCN1CCC(O)(CC1)c2ccc(Cl)cc2)(c3ccccc3...</td>\n",
       "      <td>CHEMBL1627</td>\n",
       "      <td>8.00</td>\n",
       "    </tr>\n",
       "    <tr>\n",
       "      <th>12</th>\n",
       "      <td>Cc1ccc2c(cccc2n1)N3CCN(CCc4cccc5c4OCc6c(ncn56)...</td>\n",
       "      <td>CHEMBL1241913</td>\n",
       "      <td>8.56</td>\n",
       "    </tr>\n",
       "    <tr>\n",
       "      <th>13</th>\n",
       "      <td>COc1ccccc1OCCNCC2CSC(S2)(c3ccccc3)c4ccccc4</td>\n",
       "      <td>CHEMBL1086156</td>\n",
       "      <td>7.45</td>\n",
       "    </tr>\n",
       "    <tr>\n",
       "      <th>16</th>\n",
       "      <td>O[C@H]1[C@H](CC[C@@H]1Oc2ccccc2)NC[C@H]3COc4cc...</td>\n",
       "      <td>CHEMBL135974</td>\n",
       "      <td>6.41</td>\n",
       "    </tr>\n",
       "    <tr>\n",
       "      <th>19</th>\n",
       "      <td>COc1cccc(OC)c1OCCNC[C@H]2COc3ccccc3O2</td>\n",
       "      <td>CHEMBL1182155</td>\n",
       "      <td>9.39</td>\n",
       "    </tr>\n",
       "  </tbody>\n",
       "</table>\n",
       "</div>"
      ],
      "text/plain": [
       "                                            Structure             ID  \\\n",
       "7   CNC(=O)C(CCN1CCC(O)(CC1)c2ccc(Cl)cc2)(c3ccccc3...     CHEMBL1627   \n",
       "12  Cc1ccc2c(cccc2n1)N3CCN(CCc4cccc5c4OCc6c(ncn56)...  CHEMBL1241913   \n",
       "13         COc1ccccc1OCCNCC2CSC(S2)(c3ccccc3)c4ccccc4  CHEMBL1086156   \n",
       "16  O[C@H]1[C@H](CC[C@@H]1Oc2ccccc2)NC[C@H]3COc4cc...   CHEMBL135974   \n",
       "19              COc1cccc(OC)c1OCCNC[C@H]2COc3ccccc3O2  CHEMBL1182155   \n",
       "\n",
       "    AdrA1A_PCHEMBL_VALUE  \n",
       "7                   8.00  \n",
       "12                  8.56  \n",
       "13                  7.45  \n",
       "16                  6.41  \n",
       "19                  9.39  "
      ]
     },
     "execution_count": 6,
     "metadata": {},
     "output_type": "execute_result"
    }
   ],
   "source": [
    "indigo = Indigo()\n",
    "\n",
    "\n",
    "def get_fingerprints(\n",
    "        dataset: pd.DataFrame,\n",
    "        ignore_stereochemistry_errors: bool = True,\n",
    "        ignore_bad_valence: bool = True,\n",
    "        similarity_type: str = \"ecfp6\",\n",
    "        fp_sim_qwords: int = 8,\n",
    "        fp_ord_qwords: int = 25,\n",
    "        fp_any_qwords: int = 15,\n",
    "        fp_tau_qwords: int = 25,\n",
    "        fp_ext_enabled: bool = True):\n",
    "\n",
    "\n",
    "    indigo.setOption(\"ignore-stereochemistry-errors\", ignore_stereochemistry_errors)\n",
    "    indigo.setOption(\"ignore-bad-valence\", ignore_bad_valence)\n",
    "    indigo.setOption(\"similarity-type\", similarity_type)\n",
    "    indigo.setOption(\"fp-sim-qwords\", fp_sim_qwords)\n",
    "    indigo.setOption(\"fp-ord-qwords\", fp_ord_qwords)\n",
    "    indigo.setOption(\"fp-any-qwords\", fp_any_qwords)\n",
    "    indigo.setOption(\"fp-tau-qwords\", fp_tau_qwords)\n",
    "    indigo.setOption(\"fp-ext-enabled\", fp_ext_enabled)\n",
    "    fingerprints = []\n",
    "    max_val = -np.Inf\n",
    "\n",
    "    for struct in dataset[\"Structure\"]:\n",
    "        mol = indigo.loadMolecule(struct)\n",
    "        mol.aromatize()\n",
    "        fingerprint = mol.fingerprint(\"full\").toBuffer()\n",
    "        buffered = np.frombuffer(fingerprint, dtype=np.uint8)\n",
    "        buffered = np.unpackbits(buffered)\n",
    "        fingerprints.append(buffered)\n",
    "        max_val = max(max_val, *buffered)\n",
    "\n",
    "    fingerprints = np.array(fingerprints, dtype=np.float32) / max_val\n",
    "    return fingerprints\n",
    "\n",
    "\n",
    "fingerprints = get_fingerprints(dataset)\n",
    "dataset.head()"
   ]
  },
  {
   "cell_type": "markdown",
   "metadata": {},
   "source": [
    "### Draw distribution plot for assay values"
   ]
  },
  {
   "cell_type": "code",
   "execution_count": 7,
   "metadata": {},
   "outputs": [
    {
     "data": {
      "image/png": "[encoded data removed]",
      "text/plain": [
       "<Figure size 432x288 with 1 Axes>"
      ]
     },
     "metadata": {
      "needs_background": "light"
     },
     "output_type": "display_data"
    }
   ],
   "source": [
    "def build_histogram(input, title: str = ''):\n",
    "    x = input\n",
    "    n, bins, patches = plt.hist(x, 30)\n",
    "\n",
    "    #plt.style.use('classic')\n",
    "    plt.xlabel(title)\n",
    "    plt.title(f'{title} distribution')\n",
    "    plt.grid(True, color = \"grey\", linewidth = \"0.4\", linestyle = \"dashed\")\n",
    "    plt.show()\n",
    "\n",
    "build_histogram(input=dataset[ASSAY], title=ASSAY)"
   ]
  },
  {
   "cell_type": "markdown",
   "metadata": {},
   "source": [
    "## Out-of-fold $r^2$ score estimations on train, validation and test datasets\n"
   ]
  },
  {
   "cell_type": "code",
   "execution_count": 8,
   "metadata": {},
   "outputs": [],
   "source": [
    "from sklearn.model_selection import train_test_split\n",
    "from sklearn.metrics import r2_score\n",
    "from sklearn.ensemble import RandomForestRegressor\n",
    "from utils.folds import oof\n",
    "\n",
    "bundle = train_test_split(fingerprints, dataset, shuffle=True, random_state=SEED, test_size=0.25)\n",
    "\n",
    "y_test = bundle[3]\n",
    "\n",
    "\n",
    "### MLP"
   ]
  },
  {
   "cell_type": "markdown",
   "metadata": {
    "pycharm": {
     "name": "#%% md\n"
    }
   },
   "source": [
    "### Optuna"
   ]
  },
  {
   "cell_type": "code",
   "execution_count": 9,
   "metadata": {},
   "outputs": [],
   "source": [
    "from functools import partial\n",
    "from utils.mlp import Perceptron, PerceptronOptuna\n",
    "import optuna"
   ]
  },
  {
   "cell_type": "code",
   "execution_count": 10,
   "metadata": {},
   "outputs": [
    {
     "name": "stderr",
     "output_type": "stream",
     "text": [
      "\u001B[32m[I 2022-02-07 11:57:45,681]\u001B[0m A new study created in memory with name: no-name-e822fbfa-be17-4311-84d8-4ce303ab35ef\u001B[0m\n",
      "\u001B[32m[I 2022-02-07 11:58:49,937]\u001B[0m Trial 0 finished with value: 0.536843684123226 and parameters: {'similarity_type': 'ecfp8', 'fp_sim_qwords': 6, 'fp_ord_qwords': 25, 'fp_any_qwords': 13, 'fp_tau_qwords': 1, 'fp_ext_enabled': 1}. Best is trial 0 with value: 0.536843684123226.\u001B[0m\n"
     ]
    },
    {
     "name": "stdout",
     "output_type": "stream",
     "text": [
      "MEAN TRAIN:  0.9173435258970606\n",
      "MEAN VALIDATION:  0.4901966376749196\n",
      "MEAN TEST 0.536843684123226\n"
     ]
    },
    {
     "name": "stderr",
     "output_type": "stream",
     "text": [
      "\u001B[32m[I 2022-02-07 12:00:21,071]\u001B[0m Trial 1 finished with value: 0.48424154658139484 and parameters: {'similarity_type': 'chem', 'fp_sim_qwords': 19, 'fp_ord_qwords': 23, 'fp_any_qwords': 25, 'fp_tau_qwords': 10, 'fp_ext_enabled': 0}. Best is trial 0 with value: 0.536843684123226.\u001B[0m\n"
     ]
    },
    {
     "name": "stdout",
     "output_type": "stream",
     "text": [
      "MEAN TRAIN:  0.8980354110770733\n",
      "MEAN VALIDATION:  0.451936860510702\n",
      "MEAN TEST 0.48424154658139484\n"
     ]
    },
    {
     "name": "stderr",
     "output_type": "stream",
     "text": [
      "\u001B[32m[I 2022-02-07 12:01:47,055]\u001B[0m Trial 2 finished with value: 0.5706846237217006 and parameters: {'similarity_type': 'ecfp8', 'fp_sim_qwords': 22, 'fp_ord_qwords': 8, 'fp_any_qwords': 19, 'fp_tau_qwords': 26, 'fp_ext_enabled': 0}. Best is trial 2 with value: 0.5706846237217006.\u001B[0m\n"
     ]
    },
    {
     "name": "stdout",
     "output_type": "stream",
     "text": [
      "MEAN TRAIN:  0.9565490652631693\n",
      "MEAN VALIDATION:  0.4839870508914754\n",
      "MEAN TEST 0.5706846237217006\n"
     ]
    },
    {
     "name": "stderr",
     "output_type": "stream",
     "text": [
      "\u001B[32m[I 2022-02-07 12:03:25,078]\u001B[0m Trial 3 finished with value: 0.4844227457768625 and parameters: {'similarity_type': 'chem', 'fp_sim_qwords': 5, 'fp_ord_qwords': 25, 'fp_any_qwords': 31, 'fp_tau_qwords': 27, 'fp_ext_enabled': 1}. Best is trial 2 with value: 0.5706846237217006.\u001B[0m\n"
     ]
    },
    {
     "name": "stdout",
     "output_type": "stream",
     "text": [
      "MEAN TRAIN:  0.912619614592107\n",
      "MEAN VALIDATION:  0.48096754672029884\n",
      "MEAN TEST 0.4844227457768625\n"
     ]
    },
    {
     "name": "stderr",
     "output_type": "stream",
     "text": [
      "\u001B[32m[I 2022-02-07 12:04:48,671]\u001B[0m Trial 4 finished with value: 0.5294835586239726 and parameters: {'similarity_type': 'ecfp6', 'fp_sim_qwords': 13, 'fp_ord_qwords': 15, 'fp_any_qwords': 25, 'fp_tau_qwords': 17, 'fp_ext_enabled': 0}. Best is trial 2 with value: 0.5706846237217006.\u001B[0m\n"
     ]
    },
    {
     "name": "stdout",
     "output_type": "stream",
     "text": [
      "MEAN TRAIN:  0.9423148670600163\n",
      "MEAN VALIDATION:  0.4982377532685366\n",
      "MEAN TEST 0.5294835586239726\n"
     ]
    }
   ],
   "source": [
    "FINGER_TRIALS = 5\n",
    "\n",
    "\n",
    "def fingerprints_optuna(trial, dataset):\n",
    "    trial_dict = {\n",
    "            \"similarity_type\": trial.suggest_categorical(\"similarity_type\", [\"ecfp4\", \"ecfp6\", \"ecfp8\", \"sim\", \"chem\"]),\n",
    "            \"fp_sim_qwords\": trial.suggest_int(\"fp_sim_qwords\", 1, 32),\n",
    "            \"fp_ord_qwords\": trial.suggest_int(\"fp_ord_qwords\", 1, 32), #int = 25,\n",
    "            \"fp_any_qwords\": trial.suggest_int(\"fp_any_qwords\", 1, 32), #,int = 15,\n",
    "            \"fp_tau_qwords\": trial.suggest_int(\"fp_tau_qwords\", 1, 32), #int = 25,\n",
    "            \"fp_ext_enabled\": trial.suggest_categorical(\"fp_ext_enabled\", [0, 1]) #bool = True\n",
    "        }\n",
    "    fingerprints = get_fingerprints(dataset, **trial_dict)\n",
    "    bundle = train_test_split(fingerprints, dataset, shuffle=True, random_state=SEED, test_size=0.25)\n",
    "    ;\n",
    "    y_test = bundle[3]\n",
    "\n",
    "\n",
    "    model = Perceptron(input_size=len(fingerprints[0]), lr=0.00027, n_layers=1, batch_size=128, hidden_size=197, n_epochs=300, p_dropout=0.229)\n",
    "    \n",
    "    scores, y_pred = oof(model, bundle, assay=ASSAY)\n",
    "    return np.mean(scores)\n",
    "\n",
    "pruner = optuna.pruners.SuccessiveHalvingPruner()\n",
    "sampler = optuna.samplers.TPESampler()\n",
    "study = optuna.create_study(direction='maximize', pruner=pruner, sampler=sampler)\n",
    "part_opt = partial(fingerprints_optuna, dataset = dataset)\n",
    "study.optimize(part_opt, n_trials=5)"
   ]
  },
  {
   "cell_type": "code",
   "execution_count": 18,
   "metadata": {},
   "outputs": [
    {
     "name": "stdout",
     "output_type": "stream",
     "text": [
      "best test score: 0.6067217561396026\n",
      "best fingerprints:  {'similarity_type': 'ecfp6', 'fp_sim_qwords': 32, 'fp_ord_qwords': 4, 'fp_any_qwords': 10, 'fp_tau_qwords': 2, 'fp_ext_enabled': 0}\n"
     ]
    }
   ],
   "source": [
    "best_fingers = study.best_params\n",
    "print(\"best test score:\", study.best_value)\n",
    "print(\"best fingerprints: \", best_fingers)"
   ]
  },
  {
   "cell_type": "code",
   "execution_count": 11,
   "metadata": {
    "pycharm": {
     "name": "#%%md\n"
    },
    "scrolled": true
   },
   "outputs": [
    {
     "name": "stderr",
     "output_type": "stream",
     "text": [
      "\u001B[32m[I 2022-02-07 12:04:57,263]\u001B[0m A new study created in memory with name: no-name-98f24857-6c47-4e04-8449-12181d22f203\u001B[0m\n",
      "c:\\users\\stepan_zhilin\\pycharmprojects\\ind\\venv\\lib\\site-packages\\optuna\\study\\study.py:393: FutureWarning: `n_jobs` argument has been deprecated in v2.7.0. This feature will be removed in v4.0.0. See https://github.com/optuna/optuna/releases/tag/v2.7.0.\n",
      "  warnings.warn(\n",
      "\u001B[32m[I 2022-02-07 12:05:28,375]\u001B[0m Trial 2 finished with value: 0.49237971621542254 and parameters: {'n_layers': 1, 'n_units0': 19, 'dropout_l0': 0.38515828121123596, 'n_epochs': 252, 'batch_size': 256, 'lr': 0.00033092358928049127, 'optimizer': 'Adam'}. Best is trial 2 with value: 0.49237971621542254.\u001B[0m\n"
     ]
    },
    {
     "name": "stdout",
     "output_type": "stream",
     "text": [
      "MEAN TRAIN:  0.529850198867163\n",
      "MEAN VALIDATION:  0.2949317661217935\n",
      "MEAN TEST 0.49237971621542254\n"
     ]
    },
    {
     "name": "stderr",
     "output_type": "stream",
     "text": [
      "\u001B[32m[I 2022-02-07 12:05:48,699]\u001B[0m Trial 1 finished with value: 0.34663499655861074 and parameters: {'n_layers': 1, 'n_units0': 85, 'dropout_l0': 0.17126842625923985, 'n_epochs': 281, 'batch_size': 256, 'lr': 2.235553578726711e-05, 'optimizer': 'Adam'}. Best is trial 2 with value: 0.49237971621542254.\u001B[0m\n"
     ]
    },
    {
     "name": "stdout",
     "output_type": "stream",
     "text": [
      "MEAN TRAIN:  0.26807163319120664\n",
      "MEAN VALIDATION:  0.21539803511080935\n",
      "MEAN TEST 0.34663499655861074\n"
     ]
    },
    {
     "name": "stderr",
     "output_type": "stream",
     "text": [
      "\u001B[32m[I 2022-02-07 12:07:03,072]\u001B[0m Trial 4 finished with value: 0.6108797214836506 and parameters: {'n_layers': 2, 'n_units0': 74, 'dropout_l0': 0.2806167874429777, 'n_units1': 60, 'dropout_l1': 0.25087015045120514, 'n_epochs': 277, 'batch_size': 128, 'lr': 0.0003990838593502424, 'optimizer': 'Adam'}. Best is trial 4 with value: 0.6108797214836506.\u001B[0m\n"
     ]
    },
    {
     "name": "stdout",
     "output_type": "stream",
     "text": [
      "MEAN TRAIN:  0.932329560555007\n",
      "MEAN VALIDATION:  0.5054899897762821\n",
      "MEAN TEST 0.6108797214836506\n"
     ]
    },
    {
     "name": "stderr",
     "output_type": "stream",
     "text": [
      "\u001B[32m[I 2022-02-07 12:07:16,475]\u001B[0m Trial 3 finished with value: 0.4935522153401807 and parameters: {'n_layers': 1, 'n_units0': 20, 'dropout_l0': 0.2575217509579449, 'n_epochs': 481, 'batch_size': 64, 'lr': 3.061486362450562e-05, 'optimizer': 'Adam'}. Best is trial 4 with value: 0.6108797214836506.\u001B[0m\n"
     ]
    },
    {
     "name": "stdout",
     "output_type": "stream",
     "text": [
      "MEAN TRAIN:  0.4839636707993254\n",
      "MEAN VALIDATION:  0.3317754965656088\n",
      "MEAN TEST 0.4935522153401807\n"
     ]
    },
    {
     "name": "stderr",
     "output_type": "stream",
     "text": [
      "\u001B[32m[I 2022-02-07 12:07:22,973]\u001B[0m Trial 0 finished with value: 0.5926236581352636 and parameters: {'n_layers': 1, 'n_units0': 81, 'dropout_l0': 0.1047875213812677, 'n_epochs': 437, 'batch_size': 64, 'lr': 4.7527343324176144e-05, 'optimizer': 'Adam'}. Best is trial 4 with value: 0.6108797214836506.\u001B[0m\n"
     ]
    },
    {
     "name": "stdout",
     "output_type": "stream",
     "text": [
      "MEAN TRAIN:  0.818778398291719\n",
      "MEAN VALIDATION:  0.48328610155466867\n",
      "MEAN TEST 0.5926236581352636\n"
     ]
    },
    {
     "name": "stderr",
     "output_type": "stream",
     "text": [
      "\u001B[32m[I 2022-02-07 12:07:50,992]\u001B[0m Trial 5 finished with value: 0.38989951664060596 and parameters: {'n_layers': 1, 'n_units0': 73, 'dropout_l0': 0.035716712460703626, 'n_epochs': 343, 'batch_size': 128, 'lr': 1.596158986490942e-05, 'optimizer': 'Adam'}. Best is trial 4 with value: 0.6108797214836506.\u001B[0m\n"
     ]
    },
    {
     "name": "stdout",
     "output_type": "stream",
     "text": [
      "MEAN TRAIN:  0.3340586287061998\n",
      "MEAN VALIDATION:  0.2605126584200721\n",
      "MEAN TEST 0.38989951664060596\n"
     ]
    }
   ],
   "source": [
    "best_fingers = {'similarity_type': 'ecfp6', 'fp_sim_qwords': 32, 'fp_ord_qwords': 4, 'fp_any_qwords': 10, 'fp_tau_qwords': 2, 'fp_ext_enabled': 0}\n",
    "MLP_TRIALS = 6\n",
    "\n",
    "def mlp_optuna(trial, dataset, finger_params):\n",
    "    fingerprints = get_fingerprints(dataset, **finger_params)\n",
    "\n",
    "    bundle = train_test_split(fingerprints, dataset, shuffle=True, random_state=SEED, test_size=0.25)\n",
    "    y_test = bundle[3]\n",
    "\n",
    "\n",
    "    model = PerceptronOptuna(trial, input_size= len(fingerprints[0]), n_layers = 2, max_features = 100)\n",
    "    \n",
    "    scores, y_pred = oof(model, bundle, assay=ASSAY)\n",
    "    return np.mean(scores)\n",
    "\n",
    "\n",
    "pruner = optuna.pruners.SuccessiveHalvingPruner()\n",
    "sampler = optuna.samplers.TPESampler()\n",
    "study = optuna.create_study(direction='maximize', pruner=pruner, sampler=sampler)\n",
    "part_opt = partial(mlp_optuna, dataset = dataset, finger_params = best_fingers)\n",
    "study.optimize(part_opt, n_trials=MLP_TRIALS, n_jobs = 3)"
   ]
  },
  {
   "cell_type": "code",
   "execution_count": 13,
   "metadata": {
    "scrolled": true
   },
   "outputs": [
    {
     "name": "stdout",
     "output_type": "stream",
     "text": [
      "best test score: 0.6223682520803688\n",
      "best hype:  {'n_layers': 2, 'n_units0': 26, 'dropout_l0': 0.04287047595586951, 'n_units1': 68, 'dropout_l1': 0.4305921623134348, 'epochs': 493, 'batch_size': 256, 'lr': 0.000516399404187561, 'optimizer': 'Adam'}\n"
     ]
    }
   ],
   "source": [
    "best_hype = study.best_params\n",
    "print(\"best test score:\", study.best_value)\n",
    "print(\"best hype: \", best_hype)"
   ]
  },
  {
   "cell_type": "code",
   "execution_count": 41,
   "metadata": {},
   "outputs": [
    {
     "name": "stderr",
     "output_type": "stream",
     "text": [
      "C:\\Users\\Stepan_Zhilin\\AppData\\Local\\Temp\\ipykernel_3580\\1036994904.py:1: ExperimentalWarning: plot_param_importances is experimental (supported from v2.2.0). The interface can change in the future.\n",
      "  optuna.visualization.matplotlib.plot_param_importances(study)\n"
     ]
    },
    {
     "data": {
      "text/plain": [
       "<AxesSubplot:title={'center':'Hyperparameter Importances'}, xlabel='Importance for Objective Value', ylabel='Hyperparameter'>"
      ]
     },
     "execution_count": 41,
     "metadata": {},
     "output_type": "execute_result"
    },
    {
     "data": {
      "image/png": "[encoded data removed]",
      "text/plain": [
       "<Figure size 432x288 with 1 Axes>"
      ]
     },
     "metadata": {
      "needs_background": "light"
     },
     "output_type": "display_data"
    }
   ],
   "source": [
    "optuna.visualization.matplotlib.plot_param_importances(study)"
   ]
  },
  {
   "cell_type": "code",
   "execution_count": 19,
   "metadata": {
    "pycharm": {
     "name": "#%%\n"
    }
   },
   "outputs": [
    {
     "name": "stdout",
     "output_type": "stream",
     "text": [
      "MEAN TRAIN:  0.9192137043598236\n",
      "MEAN VALIDATION:  0.511132845711462\n",
      "MEAN TEST 0.6040801038470438\n"
     ]
    },
    {
     "data": {
      "text/plain": [
       "0.6040801038470438"
      ]
     },
     "execution_count": 19,
     "metadata": {},
     "output_type": "execute_result"
    }
   ],
   "source": [
    "fingerprints = get_fingerprints(dataset, **best_fingers)\n",
    "# best_hype = {'n_layers': 2, 'n_units0': 26, 'dropout_l0': 0.04287047595586951, 'n_units1': 68, 'dropout_l1': 0.4305921623134348, 'n_epochs': 493, 'batch_size': 256, 'lr': 0.000516399404187561, 'optimizer': 'Adam'}\n",
    "best_hype = {'n_layers': 2, 'n_units0': 74, 'dropout_l0': 0.2806167874429777, 'n_units1': 60, 'dropout_l1': 0.25087015045120514, 'n_epochs': 277, 'batch_size': 128, 'lr': 0.0003990838593502424, 'optimizer': 'Adam'}\n",
    "\n",
    "bundle = train_test_split(fingerprints, dataset, shuffle=True, random_state=SEED, test_size=0.25)\n",
    "y_test = bundle[3]\n",
    "\n",
    "\n",
    "model = Perceptron(input_size=len(fingerprints[0]), **best_hype)\n",
    "    \n",
    "scores, y_pred = oof(model, bundle, assay=ASSAY)\n",
    "np.mean(scores)"
   ]
  }
 ],
 "metadata": {
  "interpreter": {
   "hash": "921405fb54ba40c0aecf9cfe4a53581e6631389606eafa2cb2fb269e41e61c99"
  },
  "kernelspec": {
   "display_name": "Python 3 (ipykernel)",
   "language": "python",
   "name": "python3"
  },
  "language_info": {
   "codemirror_mode": {
    "name": "ipython",
    "version": 3
   },
   "file_extension": ".py",
   "mimetype": "text/x-python",
   "name": "python",
   "nbconvert_exporter": "python",
   "pygments_lexer": "ipython3",
   "version": "3.8.10"
  }
 },
 "nbformat": 4,
 "nbformat_minor": 4
}